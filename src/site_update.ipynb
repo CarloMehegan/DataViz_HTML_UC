{
 "cells": [
  {
   "cell_type": "markdown",
   "metadata": {},
   "source": [
    "# updating the site\n",
    "\n",
    "the full workflow\n",
    "\n",
    "first, we pull the data from google sheets using `sheets_to_csv.py`"
   ]
  },
  {
   "cell_type": "code",
   "execution_count": null,
   "metadata": {},
   "outputs": [],
   "source": [
    "#sheets to csv\n",
    "import sheets_to_csv\n",
    "sheets_to_csv.main()"
   ]
  },
  {
   "cell_type": "markdown",
   "metadata": {},
   "source": [
    "then, we clean this data using `uc_parsing.py`"
   ]
  },
  {
   "cell_type": "code",
   "execution_count": null,
   "metadata": {},
   "outputs": [],
   "source": [
    "import uc_parsing\n",
    "import importlib\n",
    "importlib.reload(uc_parsing)\n",
    "\n",
    "# helper function because im tired of writing the filepaths out\n",
    "def parse_file(semester: str, type: str):\n",
    "    raw_filepath = \"../raw_data/\" + semester + \"_\" + type + \"_raw.csv\"\n",
    "    bad_filepath = \"../raw_data/\" + semester + \"_\" + type + \"_bad_rows.csv\"\n",
    "    cleaned_filepath = \"../clean_data/\" + semester + \"_\" + type + \"_cleaned.csv\"\n",
    "\n",
    "    if type == \"occupancy\":\n",
    "        uc_parsing.clean_occupancy(raw_filepath, bad_filepath, cleaned_filepath)\n",
    "\n",
    "    elif type == \"video_games\" or type == \"table_games\" or type == \"board_games\":\n",
    "        uc_parsing.clean_games(raw_filepath, bad_filepath, cleaned_filepath, type = type)\n",
    "\n",
    "\n",
    "parse_file(\"f24\", \"occupancy\")\n",
    "parse_file(\"f24\", \"table_games\")\n",
    "parse_file(\"f24\", \"video_games\")\n",
    "parse_file(\"f24\", \"board_games\")"
   ]
  },
  {
   "cell_type": "markdown",
   "metadata": {},
   "source": [
    "then, we rebuild all of the visualizations using the newly collected data"
   ]
  },
  {
   "cell_type": "code",
   "execution_count": null,
   "metadata": {},
   "outputs": [],
   "source": [
    "import update_viz\n",
    "import importlib\n",
    "importlib.reload(update_viz)\n",
    "\n",
    "update_viz.run_all_visualizations(semester_name = \"f24\", output_path = \"../resources/viz/f24\")"
   ]
  }
 ],
 "metadata": {
  "kernelspec": {
   "display_name": "Python 3",
   "language": "python",
   "name": "python3"
  },
  "language_info": {
   "codemirror_mode": {
    "name": "ipython",
    "version": 3
   },
   "file_extension": ".py",
   "mimetype": "text/x-python",
   "name": "python",
   "nbconvert_exporter": "python",
   "pygments_lexer": "ipython3",
   "version": "3.10.12"
  }
 },
 "nbformat": 4,
 "nbformat_minor": 2
}
