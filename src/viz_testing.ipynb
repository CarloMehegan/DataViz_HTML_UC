{
 "cells": [
  {
   "cell_type": "markdown",
   "metadata": {},
   "source": [
    "# testing viz updating code"
   ]
  },
  {
   "cell_type": "code",
   "execution_count": 4,
   "metadata": {},
   "outputs": [
    {
     "name": "stdout",
     "output_type": "stream",
     "text": [
      "\n",
      "Starting All Visualizations...\n",
      "\n",
      "\n",
      "Running Video Game Visualizations...\n"
     ]
    },
    {
     "data": {
      "application/vnd.plotly.v1+json": {
       "config": {
        "plotlyServerURL": "https://plot.ly"
       },
       "data": [
        {
         "alignmentgroup": "True",
         "boxpoints": "all",
         "fillcolor": "rgba(255,255,255,0)",
         "hoveron": "points",
         "hovertemplate": "Console=%{x}<br>Duration (minutes)=%{y}<extra></extra>",
         "legendgroup": "",
         "line": {
          "color": "rgba(255,255,255,0)"
         },
         "marker": {
          "color": "#636efa",
          "opacity": 0.3
         },
         "name": "",
         "offsetgroup": "",
         "orientation": "v",
         "pointpos": 0,
         "showlegend": false,
         "type": "box",
         "x": [
          "Wii",
          "Wii",
          "Wii",
          "Wii",
          "Wii",
          "Wii",
          "Xbox",
          "Wii",
          "Xbox",
          "Wii",
          "Xbox",
          "Xbox",
          "Wii",
          "Xbox",
          "Wii",
          "Wii",
          "Xbox",
          "Xbox",
          "Xbox",
          "Wii",
          "Xbox",
          "Wii",
          "Wii",
          "Xbox",
          "Xbox",
          "Xbox",
          "Xbox",
          "Wii",
          "Wii",
          "Xbox",
          "Xbox",
          "Xbox",
          "Wii",
          "Wii",
          "Wii",
          "Xbox",
          "Xbox",
          "Wii",
          "Xbox",
          "Wii",
          "Wii",
          "Wii",
          "Wii",
          "Xbox",
          "Wii",
          "Xbox",
          "Wii",
          "Wii",
          "Xbox",
          "Wii",
          "Xbox",
          "Wii",
          "Wii",
          "Xbox",
          "Xbox",
          "Wii",
          "Xbox",
          "Wii",
          "Xbox",
          "Wii",
          "Xbox",
          "Wii",
          "Wii",
          "Wii",
          "Wii",
          "Xbox",
          "Xbox",
          "Wii",
          "Wii",
          "Xbox",
          "Wii",
          "Xbox",
          "Wii",
          "Wii",
          "Wii",
          "Wii",
          "Xbox",
          "Wii",
          "Wii",
          "Xbox",
          "Wii",
          "Xbox",
          "Wii",
          "Xbox",
          "Wii",
          "Xbox",
          "Wii",
          "Wii",
          "Wii",
          "Xbox",
          "Xbox",
          "Wii",
          "Xbox",
          "Xbox",
          "Wii",
          "Xbox",
          "Wii",
          "Wii",
          "Xbox",
          "Xbox",
          "Xbox",
          "Xbox",
          "Wii",
          "Wii",
          "Xbox",
          "Wii",
          "Wii",
          "Xbox",
          "Wii",
          "Xbox",
          "Wii",
          "Wii",
          "Xbox",
          "Xbox",
          "Wii",
          "Wii",
          "Wii",
          "Xbox",
          "Xbox",
          "Wii",
          "Wii",
          "Xbox",
          "Wii",
          "Wii",
          "Xbox",
          "Xbox",
          "Xbox",
          "Xbox",
          "Xbox",
          "Wii",
          "Wii",
          "Xbox",
          "Wii",
          "Wii",
          "Xbox",
          "Xbox",
          "Xbox",
          "Wii",
          "Wii",
          "Xbox",
          "Xbox",
          "Xbox",
          "Wii",
          "Xbox",
          "Xbox",
          "Wii",
          "Wii",
          "Wii",
          "Wii",
          "Wii",
          "Xbox",
          "Xbox",
          "Wii",
          "Xbox",
          "Xbox",
          "Wii",
          "Xbox",
          "Wii",
          "Wii",
          "Xbox",
          "Xbox",
          "Wii",
          "Xbox",
          "Wii",
          "Xbox",
          "Wii",
          "Xbox",
          "Xbox",
          "Wii",
          "Wii",
          "Xbox",
          "Xbox",
          "Wii",
          "Wii",
          "Xbox",
          "Wii",
          "Wii",
          "Xbox",
          "Xbox",
          "Wii",
          "Wii",
          "Wii",
          "Xbox",
          "Wii",
          "Wii",
          "Xbox",
          "Wii",
          "Xbox",
          "Wii",
          "Wii",
          "Wii",
          "Xbox",
          "Wii",
          "Xbox",
          "Wii",
          "Wii",
          "Wii",
          "Wii",
          "Xbox",
          "Xbox",
          "Xbox",
          "Wii",
          "Xbox",
          "Xbox",
          "Xbox",
          "Wii",
          "Wii",
          "Xbox",
          "Wii",
          "Wii",
          "Wii",
          "Wii",
          "Wii",
          "Wii",
          "Wii",
          "Xbox",
          "Wii",
          "Xbox",
          "Wii",
          "Wii",
          "Xbox",
          "Wii",
          "Wii",
          "Xbox",
          "Wii",
          "Xbox",
          "Xbox",
          "Xbox",
          "Xbox",
          "Wii",
          "Wii",
          "Wii",
          "Xbox",
          "Wii",
          "Wii",
          "Xbox",
          "Wii",
          "Xbox",
          "Wii",
          "Wii",
          "Wii",
          "Xbox",
          "Xbox",
          "Wii",
          "Wii",
          "Wii",
          "Wii",
          "Wii",
          "Wii",
          "Xbox",
          "Wii",
          "Wii",
          "Xbox",
          "Wii",
          "Wii",
          "Wii",
          "Wii",
          "Xbox",
          "Wii",
          "Wii",
          "Wii",
          "Wii",
          "Xbox",
          "Wii",
          "Xbox",
          "Wii",
          "Wii",
          "Xbox",
          "Wii",
          "Wii",
          "Wii",
          "Xbox",
          "Wii",
          "Xbox",
          "Xbox",
          "Wii",
          "Xbox",
          "Wii",
          "Wii",
          "Wii",
          "Xbox",
          "Wii",
          "Xbox",
          "Wii",
          "Xbox",
          "Wii",
          "Xbox",
          "Xbox",
          "Wii",
          "Xbox",
          "Xbox",
          "Wii",
          "Xbox",
          "Wii",
          "Wii",
          "Wii",
          "Wii",
          "Wii",
          "Xbox",
          "Xbox",
          "Wii",
          "Xbox",
          "Wii",
          "Xbox",
          "Wii",
          "Wii",
          "Wii",
          "Wii",
          "Xbox",
          "Xbox",
          "Wii",
          "Xbox",
          "Wii",
          "Xbox",
          "Xbox",
          "Wii",
          "Xbox",
          "Xbox",
          "Xbox",
          "Wii",
          "Wii",
          "Xbox",
          "Xbox",
          "Xbox",
          "Xbox",
          "Xbox",
          "Xbox",
          "Xbox",
          "Xbox",
          "Xbox",
          "Wii",
          "Wii",
          "Xbox",
          "Wii",
          "Wii",
          "Wii",
          "Xbox",
          "Wii",
          "Xbox",
          "Wii",
          "Xbox",
          "Xbox",
          "Xbox",
          "Xbox",
          "Wii",
          "Xbox",
          "Xbox",
          "Wii",
          "Wii",
          "Xbox",
          "Wii",
          "Xbox",
          "Wii",
          "PlayStation",
          "Wii",
          "Wii",
          "Wii",
          "Xbox",
          "Wii",
          "Wii",
          "Xbox",
          "Wii",
          "Xbox",
          "Xbox",
          "Xbox",
          "Wii",
          "Xbox",
          "Wii",
          "Xbox",
          "Wii",
          "Xbox",
          "Wii",
          "Wii",
          "Xbox",
          "Wii",
          "Wii",
          "Xbox",
          "Xbox",
          "Wii",
          "Xbox",
          "Wii",
          "Xbox",
          "Wii",
          "Xbox",
          "Wii",
          "Xbox",
          "Wii",
          "Wii",
          "Xbox",
          "Xbox",
          "Xbox"
         ],
         "x0": " ",
         "xaxis": "x",
         "y": [
          34,
          43,
          52,
          4,
          13,
          99,
          46,
          76,
          8,
          78,
          35,
          29,
          35,
          13,
          37,
          13,
          94,
          55,
          25,
          6,
          22,
          11,
          9,
          24,
          95,
          48,
          38,
          36,
          46,
          71,
          43,
          26,
          23,
          48,
          17,
          50,
          38,
          34,
          113,
          12,
          49,
          22,
          92,
          80,
          41,
          52,
          23,
          127,
          75,
          30,
          162,
          40,
          26,
          6,
          146,
          41,
          20,
          53,
          73,
          77,
          68,
          45,
          68,
          39,
          47,
          30,
          47,
          40,
          88,
          115,
          48,
          98,
          44,
          46,
          37,
          20,
          21,
          41,
          68,
          77,
          15,
          91,
          38,
          23,
          17,
          60,
          42,
          49,
          76,
          57,
          53,
          154,
          38,
          47,
          10,
          43,
          31,
          21,
          92,
          42,
          53,
          104,
          44,
          36,
          76,
          34,
          64,
          100,
          19,
          43,
          55,
          33,
          95,
          74,
          32,
          17,
          57,
          43,
          14,
          21,
          90,
          55,
          54,
          119,
          3,
          44,
          38,
          100,
          144,
          65,
          37,
          96,
          20,
          28,
          23,
          39,
          44,
          29,
          36,
          75,
          133,
          36,
          49,
          210,
          144,
          28,
          28,
          124,
          58,
          52,
          96,
          15,
          94,
          41,
          44,
          35,
          61,
          54,
          32,
          24,
          49,
          6,
          60,
          26,
          21,
          17,
          53,
          56,
          27,
          55,
          9,
          46,
          176,
          10,
          26,
          48,
          61,
          58,
          87,
          39,
          23,
          28,
          88,
          18,
          61,
          63,
          78,
          23,
          67,
          69,
          51,
          34,
          9,
          130,
          83,
          75,
          42,
          55,
          48,
          79,
          45,
          95,
          24,
          102,
          21,
          63,
          39,
          77,
          70,
          99,
          43,
          63,
          51,
          4,
          4,
          43,
          64,
          60,
          33,
          64,
          77,
          26,
          134,
          55,
          21,
          41,
          86,
          58,
          56,
          39,
          9,
          49,
          44,
          24,
          39,
          25,
          23,
          71,
          74,
          23,
          223,
          47,
          68,
          31,
          77,
          28,
          12,
          26,
          86,
          65,
          53,
          96,
          39,
          86,
          93,
          55,
          50,
          95,
          40,
          83,
          8,
          31,
          103,
          135,
          41,
          28,
          72,
          16,
          88,
          34,
          12,
          70,
          22,
          70,
          39,
          31,
          14,
          61,
          15,
          55,
          67,
          55,
          119,
          11,
          62,
          48,
          35,
          77,
          55,
          55,
          57,
          52,
          91,
          40,
          28,
          44,
          112,
          76,
          38,
          66,
          43,
          61,
          33,
          33,
          82,
          62,
          59,
          29,
          97,
          29,
          63,
          54,
          83,
          95,
          67,
          129,
          88,
          11,
          37,
          13,
          42,
          34,
          48,
          26,
          48,
          137,
          123,
          89,
          35,
          69,
          38,
          176,
          10,
          10,
          44,
          55,
          61,
          26,
          97,
          46,
          40,
          29,
          55,
          166,
          17,
          220,
          23,
          63,
          54,
          66,
          46,
          26,
          53,
          205,
          61,
          9,
          35,
          42,
          31,
          29,
          151,
          64,
          88,
          105,
          57,
          79,
          89,
          139,
          32,
          51,
          38,
          92,
          113,
          120,
          40,
          54,
          37,
          139,
          111,
          62,
          27,
          105,
          101,
          45,
          48,
          52,
          1,
          45,
          64,
          39,
          14
         ],
         "y0": " ",
         "yaxis": "y"
        },
        {
         "hoverinfo": "skip",
         "marker": {
          "color": "green",
          "opacity": 0.5
         },
         "type": "box",
         "x": [
          "Wii",
          "Wii",
          "Wii",
          "Wii",
          "Wii",
          "Wii",
          "Xbox",
          "Wii",
          "Xbox",
          "Wii",
          "Xbox",
          "Xbox",
          "Wii",
          "Xbox",
          "Wii",
          "Wii",
          "Xbox",
          "Xbox",
          "Xbox",
          "Wii",
          "Xbox",
          "Wii",
          "Wii",
          "Xbox",
          "Xbox",
          "Xbox",
          "Xbox",
          "Wii",
          "Wii",
          "Xbox",
          "Xbox",
          "Xbox",
          "Wii",
          "Wii",
          "Wii",
          "Xbox",
          "Xbox",
          "Wii",
          "Xbox",
          "Wii",
          "Wii",
          "Wii",
          "Wii",
          "Xbox",
          "Wii",
          "Xbox",
          "Wii",
          "Wii",
          "Xbox",
          "Wii",
          "Xbox",
          "Wii",
          "Wii",
          "Xbox",
          "Xbox",
          "Wii",
          "Xbox",
          "Wii",
          "Xbox",
          "Wii",
          "Xbox",
          "Wii",
          "Wii",
          "Wii",
          "Wii",
          "Xbox",
          "Xbox",
          "Wii",
          "Wii",
          "Xbox",
          "Wii",
          "Xbox",
          "Wii",
          "Wii",
          "Wii",
          "Wii",
          "Xbox",
          "Wii",
          "Wii",
          "Xbox",
          "Wii",
          "Xbox",
          "Wii",
          "Xbox",
          "Wii",
          "Xbox",
          "Wii",
          "Wii",
          "Wii",
          "Xbox",
          "Xbox",
          "Wii",
          "Xbox",
          "Xbox",
          "Wii",
          "Xbox",
          "Wii",
          "Wii",
          "Xbox",
          "Xbox",
          "Xbox",
          "Xbox",
          "Wii",
          "Wii",
          "Xbox",
          "Wii",
          "Wii",
          "Xbox",
          "Wii",
          "Xbox",
          "Wii",
          "Wii",
          "Xbox",
          "Xbox",
          "Wii",
          "Wii",
          "Wii",
          "Xbox",
          "Xbox",
          "Wii",
          "Wii",
          "Xbox",
          "Wii",
          "Wii",
          "Xbox",
          "Xbox",
          "Xbox",
          "Xbox",
          "Xbox",
          "Wii",
          "Wii",
          "Xbox",
          "Wii",
          "Wii",
          "Xbox",
          "Xbox",
          "Xbox",
          "Wii",
          "Wii",
          "Xbox",
          "Xbox",
          "Xbox",
          "Wii",
          "Xbox",
          "Xbox",
          "Wii",
          "Wii",
          "Wii",
          "Wii",
          "Wii",
          "Xbox",
          "Xbox",
          "Wii",
          "Xbox",
          "Xbox",
          "Wii",
          "Xbox",
          "Wii",
          "Wii",
          "Xbox",
          "Xbox",
          "Wii",
          "Xbox",
          "Wii",
          "Xbox",
          "Wii",
          "Xbox",
          "Xbox",
          "Wii",
          "Wii",
          "Xbox",
          "Xbox",
          "Wii",
          "Wii",
          "Xbox",
          "Wii",
          "Wii",
          "Xbox",
          "Xbox",
          "Wii",
          "Wii",
          "Wii",
          "Xbox",
          "Wii",
          "Wii",
          "Xbox",
          "Wii",
          "Xbox",
          "Wii",
          "Wii",
          "Wii",
          "Xbox",
          "Wii",
          "Xbox",
          "Wii",
          "Wii",
          "Wii",
          "Wii",
          "Xbox",
          "Xbox",
          "Xbox",
          "Wii",
          "Xbox",
          "Xbox",
          "Xbox",
          "Wii",
          "Wii",
          "Xbox",
          "Wii",
          "Wii",
          "Wii",
          "Wii",
          "Wii",
          "Wii",
          "Wii",
          "Xbox",
          "Wii",
          "Xbox",
          "Wii",
          "Wii",
          "Xbox",
          "Wii",
          "Wii",
          "Xbox",
          "Wii",
          "Xbox",
          "Xbox",
          "Xbox",
          "Xbox",
          "Wii",
          "Wii",
          "Wii",
          "Xbox",
          "Wii",
          "Wii",
          "Xbox",
          "Wii",
          "Xbox",
          "Wii",
          "Wii",
          "Wii",
          "Xbox",
          "Xbox",
          "Wii",
          "Wii",
          "Wii",
          "Wii",
          "Wii",
          "Wii",
          "Xbox",
          "Wii",
          "Wii",
          "Xbox",
          "Wii",
          "Wii",
          "Wii",
          "Wii",
          "Xbox",
          "Wii",
          "Wii",
          "Wii",
          "Wii",
          "Xbox",
          "Wii",
          "Xbox",
          "Wii",
          "Wii",
          "Xbox",
          "Wii",
          "Wii",
          "Wii",
          "Xbox",
          "Wii",
          "Xbox",
          "Xbox",
          "Wii",
          "Xbox",
          "Wii",
          "Wii",
          "Wii",
          "Xbox",
          "Wii",
          "Xbox",
          "Wii",
          "Xbox",
          "Wii",
          "Xbox",
          "Xbox",
          "Wii",
          "Xbox",
          "Xbox",
          "Wii",
          "Xbox",
          "Wii",
          "Wii",
          "Wii",
          "Wii",
          "Wii",
          "Xbox",
          "Xbox",
          "Wii",
          "Xbox",
          "Wii",
          "Xbox",
          "Wii",
          "Wii",
          "Wii",
          "Wii",
          "Xbox",
          "Xbox",
          "Wii",
          "Xbox",
          "Wii",
          "Xbox",
          "Xbox",
          "Wii",
          "Xbox",
          "Xbox",
          "Xbox",
          "Wii",
          "Wii",
          "Xbox",
          "Xbox",
          "Xbox",
          "Xbox",
          "Xbox",
          "Xbox",
          "Xbox",
          "Xbox",
          "Xbox",
          "Wii",
          "Wii",
          "Xbox",
          "Wii",
          "Wii",
          "Wii",
          "Xbox",
          "Wii",
          "Xbox",
          "Wii",
          "Xbox",
          "Xbox",
          "Xbox",
          "Xbox",
          "Wii",
          "Xbox",
          "Xbox",
          "Wii",
          "Wii",
          "Xbox",
          "Wii",
          "Xbox",
          "Wii",
          "PlayStation",
          "Wii",
          "Wii",
          "Wii",
          "Xbox",
          "Wii",
          "Wii",
          "Xbox",
          "Wii",
          "Xbox",
          "Xbox",
          "Xbox",
          "Wii",
          "Xbox",
          "Wii",
          "Xbox",
          "Wii",
          "Xbox",
          "Wii",
          "Wii",
          "Xbox",
          "Wii",
          "Wii",
          "Xbox",
          "Xbox",
          "Wii",
          "Xbox",
          "Wii",
          "Xbox",
          "Wii",
          "Xbox",
          "Wii",
          "Xbox",
          "Wii",
          "Wii",
          "Xbox",
          "Xbox",
          "Xbox"
         ],
         "y": [
          34,
          43,
          52,
          4,
          13,
          99,
          46,
          76,
          8,
          78,
          35,
          29,
          35,
          13,
          37,
          13,
          94,
          55,
          25,
          6,
          22,
          11,
          9,
          24,
          95,
          48,
          38,
          36,
          46,
          71,
          43,
          26,
          23,
          48,
          17,
          50,
          38,
          34,
          113,
          12,
          49,
          22,
          92,
          80,
          41,
          52,
          23,
          127,
          75,
          30,
          162,
          40,
          26,
          6,
          146,
          41,
          20,
          53,
          73,
          77,
          68,
          45,
          68,
          39,
          47,
          30,
          47,
          40,
          88,
          115,
          48,
          98,
          44,
          46,
          37,
          20,
          21,
          41,
          68,
          77,
          15,
          91,
          38,
          23,
          17,
          60,
          42,
          49,
          76,
          57,
          53,
          154,
          38,
          47,
          10,
          43,
          31,
          21,
          92,
          42,
          53,
          104,
          44,
          36,
          76,
          34,
          64,
          100,
          19,
          43,
          55,
          33,
          95,
          74,
          32,
          17,
          57,
          43,
          14,
          21,
          90,
          55,
          54,
          119,
          3,
          44,
          38,
          100,
          144,
          65,
          37,
          96,
          20,
          28,
          23,
          39,
          44,
          29,
          36,
          75,
          133,
          36,
          49,
          210,
          144,
          28,
          28,
          124,
          58,
          52,
          96,
          15,
          94,
          41,
          44,
          35,
          61,
          54,
          32,
          24,
          49,
          6,
          60,
          26,
          21,
          17,
          53,
          56,
          27,
          55,
          9,
          46,
          176,
          10,
          26,
          48,
          61,
          58,
          87,
          39,
          23,
          28,
          88,
          18,
          61,
          63,
          78,
          23,
          67,
          69,
          51,
          34,
          9,
          130,
          83,
          75,
          42,
          55,
          48,
          79,
          45,
          95,
          24,
          102,
          21,
          63,
          39,
          77,
          70,
          99,
          43,
          63,
          51,
          4,
          4,
          43,
          64,
          60,
          33,
          64,
          77,
          26,
          134,
          55,
          21,
          41,
          86,
          58,
          56,
          39,
          9,
          49,
          44,
          24,
          39,
          25,
          23,
          71,
          74,
          23,
          223,
          47,
          68,
          31,
          77,
          28,
          12,
          26,
          86,
          65,
          53,
          96,
          39,
          86,
          93,
          55,
          50,
          95,
          40,
          83,
          8,
          31,
          103,
          135,
          41,
          28,
          72,
          16,
          88,
          34,
          12,
          70,
          22,
          70,
          39,
          31,
          14,
          61,
          15,
          55,
          67,
          55,
          119,
          11,
          62,
          48,
          35,
          77,
          55,
          55,
          57,
          52,
          91,
          40,
          28,
          44,
          112,
          76,
          38,
          66,
          43,
          61,
          33,
          33,
          82,
          62,
          59,
          29,
          97,
          29,
          63,
          54,
          83,
          95,
          67,
          129,
          88,
          11,
          37,
          13,
          42,
          34,
          48,
          26,
          48,
          137,
          123,
          89,
          35,
          69,
          38,
          176,
          10,
          10,
          44,
          55,
          61,
          26,
          97,
          46,
          40,
          29,
          55,
          166,
          17,
          220,
          23,
          63,
          54,
          66,
          46,
          26,
          53,
          205,
          61,
          9,
          35,
          42,
          31,
          29,
          151,
          64,
          88,
          105,
          57,
          79,
          89,
          139,
          32,
          51,
          38,
          92,
          113,
          120,
          40,
          54,
          37,
          139,
          111,
          62,
          27,
          105,
          101,
          45,
          48,
          52,
          1,
          45,
          64,
          39,
          14
         ]
        }
       ],
       "layout": {
        "boxmode": "overlay",
        "height": 400,
        "legend": {
         "tracegroupgap": 0
        },
        "paper_bgcolor": "rgba(255,255,255,1)",
        "plot_bgcolor": "rgba(255,255,255,1)",
        "showlegend": false,
        "template": {
         "data": {
          "bar": [
           {
            "error_x": {
             "color": "#2a3f5f"
            },
            "error_y": {
             "color": "#2a3f5f"
            },
            "marker": {
             "line": {
              "color": "#E5ECF6",
              "width": 0.5
             },
             "pattern": {
              "fillmode": "overlay",
              "size": 10,
              "solidity": 0.2
             }
            },
            "type": "bar"
           }
          ],
          "barpolar": [
           {
            "marker": {
             "line": {
              "color": "#E5ECF6",
              "width": 0.5
             },
             "pattern": {
              "fillmode": "overlay",
              "size": 10,
              "solidity": 0.2
             }
            },
            "type": "barpolar"
           }
          ],
          "carpet": [
           {
            "aaxis": {
             "endlinecolor": "#2a3f5f",
             "gridcolor": "white",
             "linecolor": "white",
             "minorgridcolor": "white",
             "startlinecolor": "#2a3f5f"
            },
            "baxis": {
             "endlinecolor": "#2a3f5f",
             "gridcolor": "white",
             "linecolor": "white",
             "minorgridcolor": "white",
             "startlinecolor": "#2a3f5f"
            },
            "type": "carpet"
           }
          ],
          "choropleth": [
           {
            "colorbar": {
             "outlinewidth": 0,
             "ticks": ""
            },
            "type": "choropleth"
           }
          ],
          "contour": [
           {
            "colorbar": {
             "outlinewidth": 0,
             "ticks": ""
            },
            "colorscale": [
             [
              0,
              "#0d0887"
             ],
             [
              0.1111111111111111,
              "#46039f"
             ],
             [
              0.2222222222222222,
              "#7201a8"
             ],
             [
              0.3333333333333333,
              "#9c179e"
             ],
             [
              0.4444444444444444,
              "#bd3786"
             ],
             [
              0.5555555555555556,
              "#d8576b"
             ],
             [
              0.6666666666666666,
              "#ed7953"
             ],
             [
              0.7777777777777778,
              "#fb9f3a"
             ],
             [
              0.8888888888888888,
              "#fdca26"
             ],
             [
              1,
              "#f0f921"
             ]
            ],
            "type": "contour"
           }
          ],
          "contourcarpet": [
           {
            "colorbar": {
             "outlinewidth": 0,
             "ticks": ""
            },
            "type": "contourcarpet"
           }
          ],
          "heatmap": [
           {
            "colorbar": {
             "outlinewidth": 0,
             "ticks": ""
            },
            "colorscale": [
             [
              0,
              "#0d0887"
             ],
             [
              0.1111111111111111,
              "#46039f"
             ],
             [
              0.2222222222222222,
              "#7201a8"
             ],
             [
              0.3333333333333333,
              "#9c179e"
             ],
             [
              0.4444444444444444,
              "#bd3786"
             ],
             [
              0.5555555555555556,
              "#d8576b"
             ],
             [
              0.6666666666666666,
              "#ed7953"
             ],
             [
              0.7777777777777778,
              "#fb9f3a"
             ],
             [
              0.8888888888888888,
              "#fdca26"
             ],
             [
              1,
              "#f0f921"
             ]
            ],
            "type": "heatmap"
           }
          ],
          "heatmapgl": [
           {
            "colorbar": {
             "outlinewidth": 0,
             "ticks": ""
            },
            "colorscale": [
             [
              0,
              "#0d0887"
             ],
             [
              0.1111111111111111,
              "#46039f"
             ],
             [
              0.2222222222222222,
              "#7201a8"
             ],
             [
              0.3333333333333333,
              "#9c179e"
             ],
             [
              0.4444444444444444,
              "#bd3786"
             ],
             [
              0.5555555555555556,
              "#d8576b"
             ],
             [
              0.6666666666666666,
              "#ed7953"
             ],
             [
              0.7777777777777778,
              "#fb9f3a"
             ],
             [
              0.8888888888888888,
              "#fdca26"
             ],
             [
              1,
              "#f0f921"
             ]
            ],
            "type": "heatmapgl"
           }
          ],
          "histogram": [
           {
            "marker": {
             "pattern": {
              "fillmode": "overlay",
              "size": 10,
              "solidity": 0.2
             }
            },
            "type": "histogram"
           }
          ],
          "histogram2d": [
           {
            "colorbar": {
             "outlinewidth": 0,
             "ticks": ""
            },
            "colorscale": [
             [
              0,
              "#0d0887"
             ],
             [
              0.1111111111111111,
              "#46039f"
             ],
             [
              0.2222222222222222,
              "#7201a8"
             ],
             [
              0.3333333333333333,
              "#9c179e"
             ],
             [
              0.4444444444444444,
              "#bd3786"
             ],
             [
              0.5555555555555556,
              "#d8576b"
             ],
             [
              0.6666666666666666,
              "#ed7953"
             ],
             [
              0.7777777777777778,
              "#fb9f3a"
             ],
             [
              0.8888888888888888,
              "#fdca26"
             ],
             [
              1,
              "#f0f921"
             ]
            ],
            "type": "histogram2d"
           }
          ],
          "histogram2dcontour": [
           {
            "colorbar": {
             "outlinewidth": 0,
             "ticks": ""
            },
            "colorscale": [
             [
              0,
              "#0d0887"
             ],
             [
              0.1111111111111111,
              "#46039f"
             ],
             [
              0.2222222222222222,
              "#7201a8"
             ],
             [
              0.3333333333333333,
              "#9c179e"
             ],
             [
              0.4444444444444444,
              "#bd3786"
             ],
             [
              0.5555555555555556,
              "#d8576b"
             ],
             [
              0.6666666666666666,
              "#ed7953"
             ],
             [
              0.7777777777777778,
              "#fb9f3a"
             ],
             [
              0.8888888888888888,
              "#fdca26"
             ],
             [
              1,
              "#f0f921"
             ]
            ],
            "type": "histogram2dcontour"
           }
          ],
          "mesh3d": [
           {
            "colorbar": {
             "outlinewidth": 0,
             "ticks": ""
            },
            "type": "mesh3d"
           }
          ],
          "parcoords": [
           {
            "line": {
             "colorbar": {
              "outlinewidth": 0,
              "ticks": ""
             }
            },
            "type": "parcoords"
           }
          ],
          "pie": [
           {
            "automargin": true,
            "type": "pie"
           }
          ],
          "scatter": [
           {
            "fillpattern": {
             "fillmode": "overlay",
             "size": 10,
             "solidity": 0.2
            },
            "type": "scatter"
           }
          ],
          "scatter3d": [
           {
            "line": {
             "colorbar": {
              "outlinewidth": 0,
              "ticks": ""
             }
            },
            "marker": {
             "colorbar": {
              "outlinewidth": 0,
              "ticks": ""
             }
            },
            "type": "scatter3d"
           }
          ],
          "scattercarpet": [
           {
            "marker": {
             "colorbar": {
              "outlinewidth": 0,
              "ticks": ""
             }
            },
            "type": "scattercarpet"
           }
          ],
          "scattergeo": [
           {
            "marker": {
             "colorbar": {
              "outlinewidth": 0,
              "ticks": ""
             }
            },
            "type": "scattergeo"
           }
          ],
          "scattergl": [
           {
            "marker": {
             "colorbar": {
              "outlinewidth": 0,
              "ticks": ""
             }
            },
            "type": "scattergl"
           }
          ],
          "scattermapbox": [
           {
            "marker": {
             "colorbar": {
              "outlinewidth": 0,
              "ticks": ""
             }
            },
            "type": "scattermapbox"
           }
          ],
          "scatterpolar": [
           {
            "marker": {
             "colorbar": {
              "outlinewidth": 0,
              "ticks": ""
             }
            },
            "type": "scatterpolar"
           }
          ],
          "scatterpolargl": [
           {
            "marker": {
             "colorbar": {
              "outlinewidth": 0,
              "ticks": ""
             }
            },
            "type": "scatterpolargl"
           }
          ],
          "scatterternary": [
           {
            "marker": {
             "colorbar": {
              "outlinewidth": 0,
              "ticks": ""
             }
            },
            "type": "scatterternary"
           }
          ],
          "surface": [
           {
            "colorbar": {
             "outlinewidth": 0,
             "ticks": ""
            },
            "colorscale": [
             [
              0,
              "#0d0887"
             ],
             [
              0.1111111111111111,
              "#46039f"
             ],
             [
              0.2222222222222222,
              "#7201a8"
             ],
             [
              0.3333333333333333,
              "#9c179e"
             ],
             [
              0.4444444444444444,
              "#bd3786"
             ],
             [
              0.5555555555555556,
              "#d8576b"
             ],
             [
              0.6666666666666666,
              "#ed7953"
             ],
             [
              0.7777777777777778,
              "#fb9f3a"
             ],
             [
              0.8888888888888888,
              "#fdca26"
             ],
             [
              1,
              "#f0f921"
             ]
            ],
            "type": "surface"
           }
          ],
          "table": [
           {
            "cells": {
             "fill": {
              "color": "#EBF0F8"
             },
             "line": {
              "color": "white"
             }
            },
            "header": {
             "fill": {
              "color": "#C8D4E3"
             },
             "line": {
              "color": "white"
             }
            },
            "type": "table"
           }
          ]
         },
         "layout": {
          "annotationdefaults": {
           "arrowcolor": "#2a3f5f",
           "arrowhead": 0,
           "arrowwidth": 1
          },
          "autotypenumbers": "strict",
          "coloraxis": {
           "colorbar": {
            "outlinewidth": 0,
            "ticks": ""
           }
          },
          "colorscale": {
           "diverging": [
            [
             0,
             "#8e0152"
            ],
            [
             0.1,
             "#c51b7d"
            ],
            [
             0.2,
             "#de77ae"
            ],
            [
             0.3,
             "#f1b6da"
            ],
            [
             0.4,
             "#fde0ef"
            ],
            [
             0.5,
             "#f7f7f7"
            ],
            [
             0.6,
             "#e6f5d0"
            ],
            [
             0.7,
             "#b8e186"
            ],
            [
             0.8,
             "#7fbc41"
            ],
            [
             0.9,
             "#4d9221"
            ],
            [
             1,
             "#276419"
            ]
           ],
           "sequential": [
            [
             0,
             "#0d0887"
            ],
            [
             0.1111111111111111,
             "#46039f"
            ],
            [
             0.2222222222222222,
             "#7201a8"
            ],
            [
             0.3333333333333333,
             "#9c179e"
            ],
            [
             0.4444444444444444,
             "#bd3786"
            ],
            [
             0.5555555555555556,
             "#d8576b"
            ],
            [
             0.6666666666666666,
             "#ed7953"
            ],
            [
             0.7777777777777778,
             "#fb9f3a"
            ],
            [
             0.8888888888888888,
             "#fdca26"
            ],
            [
             1,
             "#f0f921"
            ]
           ],
           "sequentialminus": [
            [
             0,
             "#0d0887"
            ],
            [
             0.1111111111111111,
             "#46039f"
            ],
            [
             0.2222222222222222,
             "#7201a8"
            ],
            [
             0.3333333333333333,
             "#9c179e"
            ],
            [
             0.4444444444444444,
             "#bd3786"
            ],
            [
             0.5555555555555556,
             "#d8576b"
            ],
            [
             0.6666666666666666,
             "#ed7953"
            ],
            [
             0.7777777777777778,
             "#fb9f3a"
            ],
            [
             0.8888888888888888,
             "#fdca26"
            ],
            [
             1,
             "#f0f921"
            ]
           ]
          },
          "colorway": [
           "#636efa",
           "#EF553B",
           "#00cc96",
           "#ab63fa",
           "#FFA15A",
           "#19d3f3",
           "#FF6692",
           "#B6E880",
           "#FF97FF",
           "#FECB52"
          ],
          "font": {
           "color": "#2a3f5f"
          },
          "geo": {
           "bgcolor": "white",
           "lakecolor": "white",
           "landcolor": "#E5ECF6",
           "showlakes": true,
           "showland": true,
           "subunitcolor": "white"
          },
          "hoverlabel": {
           "align": "left"
          },
          "hovermode": "closest",
          "mapbox": {
           "style": "light"
          },
          "paper_bgcolor": "white",
          "plot_bgcolor": "#E5ECF6",
          "polar": {
           "angularaxis": {
            "gridcolor": "white",
            "linecolor": "white",
            "ticks": ""
           },
           "bgcolor": "#E5ECF6",
           "radialaxis": {
            "gridcolor": "white",
            "linecolor": "white",
            "ticks": ""
           }
          },
          "scene": {
           "xaxis": {
            "backgroundcolor": "#E5ECF6",
            "gridcolor": "white",
            "gridwidth": 2,
            "linecolor": "white",
            "showbackground": true,
            "ticks": "",
            "zerolinecolor": "white"
           },
           "yaxis": {
            "backgroundcolor": "#E5ECF6",
            "gridcolor": "white",
            "gridwidth": 2,
            "linecolor": "white",
            "showbackground": true,
            "ticks": "",
            "zerolinecolor": "white"
           },
           "zaxis": {
            "backgroundcolor": "#E5ECF6",
            "gridcolor": "white",
            "gridwidth": 2,
            "linecolor": "white",
            "showbackground": true,
            "ticks": "",
            "zerolinecolor": "white"
           }
          },
          "shapedefaults": {
           "line": {
            "color": "#2a3f5f"
           }
          },
          "ternary": {
           "aaxis": {
            "gridcolor": "white",
            "linecolor": "white",
            "ticks": ""
           },
           "baxis": {
            "gridcolor": "white",
            "linecolor": "white",
            "ticks": ""
           },
           "bgcolor": "#E5ECF6",
           "caxis": {
            "gridcolor": "white",
            "linecolor": "white",
            "ticks": ""
           }
          },
          "title": {
           "x": 0.05
          },
          "xaxis": {
           "automargin": true,
           "gridcolor": "white",
           "linecolor": "white",
           "ticks": "",
           "title": {
            "standoff": 15
           },
           "zerolinecolor": "white",
           "zerolinewidth": 2
          },
          "yaxis": {
           "automargin": true,
           "gridcolor": "white",
           "linecolor": "white",
           "ticks": "",
           "title": {
            "standoff": 15
           },
           "zerolinecolor": "white",
           "zerolinewidth": 2
          }
         }
        },
        "title": {
         "text": "Rental Duration by Console"
        },
        "width": 600,
        "xaxis": {
         "anchor": "y",
         "domain": [
          0,
          1
         ],
         "tickmode": "array",
         "title": {}
        },
        "yaxis": {
         "anchor": "x",
         "domain": [
          0,
          1
         ],
         "gridcolor": "rgba(128, 128, 128, 0.4)",
         "title": {
          "text": "Duration (minutes)"
         }
        }
       }
      }
     },
     "metadata": {},
     "output_type": "display_data"
    },
    {
     "name": "stdout",
     "output_type": "stream",
     "text": [
      "Visualization saved as ../resources/viz/f23_video_duration_by_console.html\n"
     ]
    },
    {
     "data": {
      "application/vnd.plotly.v1+json": {
       "config": {
        "plotlyServerURL": "https://plot.ly"
       },
       "data": [
        {
         "alignmentgroup": "True",
         "hovertemplate": "Frequency = %{y}",
         "legendgroup": "1",
         "marker": {
          "color": "#f0f921",
          "pattern": {
           "shape": ""
          }
         },
         "name": "1",
         "offsetgroup": "1",
         "orientation": "v",
         "showlegend": true,
         "textposition": "auto",
         "type": "bar",
         "x": [
          "Call of Duty: Black Ops 3",
          "FIFA 16",
          "Madden 22",
          "Mario Kart",
          "Unspecified"
         ],
         "xaxis": "x",
         "y": [
          3,
          3,
          5,
          3,
          11
         ],
         "yaxis": "y"
        },
        {
         "alignmentgroup": "True",
         "hovertemplate": "Frequency = %{y}",
         "legendgroup": "2",
         "marker": {
          "color": "#fdca26",
          "pattern": {
           "shape": ""
          }
         },
         "name": "2",
         "offsetgroup": "2",
         "orientation": "v",
         "showlegend": true,
         "textposition": "auto",
         "type": "bar",
         "x": [
          "Call of Duty: Black Ops 3",
          "FIFA 16",
          "Madden 22",
          "Mario Kart",
          "Unspecified"
         ],
         "xaxis": "x",
         "y": [
          14,
          23,
          28,
          52,
          18
         ],
         "yaxis": "y"
        },
        {
         "alignmentgroup": "True",
         "hovertemplate": "Frequency = %{y}",
         "legendgroup": "3",
         "marker": {
          "color": "#fb9f3a",
          "pattern": {
           "shape": ""
          }
         },
         "name": "3",
         "offsetgroup": "3",
         "orientation": "v",
         "showlegend": true,
         "textposition": "auto",
         "type": "bar",
         "x": [
          "Call of Duty: Black Ops 3",
          "FIFA 16",
          "Mario Kart",
          "Unspecified"
         ],
         "xaxis": "x",
         "y": [
          8,
          5,
          26,
          8
         ],
         "yaxis": "y"
        },
        {
         "alignmentgroup": "True",
         "hovertemplate": "Frequency = %{y}",
         "legendgroup": "4",
         "marker": {
          "color": "#ed7953",
          "pattern": {
           "shape": ""
          }
         },
         "name": "4",
         "offsetgroup": "4",
         "orientation": "v",
         "showlegend": true,
         "textposition": "auto",
         "type": "bar",
         "x": [
          "Call of Duty: Black Ops 3",
          "FIFA 16",
          "Madden 22",
          "Mario Kart",
          "Unspecified"
         ],
         "xaxis": "x",
         "y": [
          9,
          6,
          1,
          19,
          4
         ],
         "yaxis": "y"
        },
        {
         "alignmentgroup": "True",
         "hovertemplate": "Frequency = %{y}",
         "legendgroup": "5",
         "marker": {
          "color": "#d8576b",
          "pattern": {
           "shape": ""
          }
         },
         "name": "5",
         "offsetgroup": "5",
         "orientation": "v",
         "showlegend": true,
         "textposition": "auto",
         "type": "bar",
         "x": [
          "Mario Kart"
         ],
         "xaxis": "x",
         "y": [
          2
         ],
         "yaxis": "y"
        },
        {
         "alignmentgroup": "True",
         "hovertemplate": "Frequency = %{y}",
         "legendgroup": "Other",
         "marker": {
          "color": "#bd3786",
          "pattern": {
           "shape": ""
          }
         },
         "name": "Other",
         "offsetgroup": "Other",
         "orientation": "v",
         "showlegend": true,
         "textposition": "auto",
         "type": "bar",
         "x": [
          "Mario Kart",
          "Unspecified"
         ],
         "xaxis": "x",
         "y": [
          1,
          1
         ],
         "yaxis": "y"
        }
       ],
       "layout": {
        "barmode": "group",
        "font": {
         "color": "black",
         "family": "Droid Sans"
        },
        "height": 400,
        "hoverlabel": {
         "bgcolor": "black",
         "font": {
          "color": "white"
         }
        },
        "legend": {
         "title": {
          "text": "# of Controllers"
         },
         "tracegroupgap": 0
        },
        "template": {
         "data": {
          "bar": [
           {
            "error_x": {
             "color": "#2a3f5f"
            },
            "error_y": {
             "color": "#2a3f5f"
            },
            "marker": {
             "line": {
              "color": "#E5ECF6",
              "width": 0.5
             },
             "pattern": {
              "fillmode": "overlay",
              "size": 10,
              "solidity": 0.2
             }
            },
            "type": "bar"
           }
          ],
          "barpolar": [
           {
            "marker": {
             "line": {
              "color": "#E5ECF6",
              "width": 0.5
             },
             "pattern": {
              "fillmode": "overlay",
              "size": 10,
              "solidity": 0.2
             }
            },
            "type": "barpolar"
           }
          ],
          "carpet": [
           {
            "aaxis": {
             "endlinecolor": "#2a3f5f",
             "gridcolor": "white",
             "linecolor": "white",
             "minorgridcolor": "white",
             "startlinecolor": "#2a3f5f"
            },
            "baxis": {
             "endlinecolor": "#2a3f5f",
             "gridcolor": "white",
             "linecolor": "white",
             "minorgridcolor": "white",
             "startlinecolor": "#2a3f5f"
            },
            "type": "carpet"
           }
          ],
          "choropleth": [
           {
            "colorbar": {
             "outlinewidth": 0,
             "ticks": ""
            },
            "type": "choropleth"
           }
          ],
          "contour": [
           {
            "colorbar": {
             "outlinewidth": 0,
             "ticks": ""
            },
            "colorscale": [
             [
              0,
              "#0d0887"
             ],
             [
              0.1111111111111111,
              "#46039f"
             ],
             [
              0.2222222222222222,
              "#7201a8"
             ],
             [
              0.3333333333333333,
              "#9c179e"
             ],
             [
              0.4444444444444444,
              "#bd3786"
             ],
             [
              0.5555555555555556,
              "#d8576b"
             ],
             [
              0.6666666666666666,
              "#ed7953"
             ],
             [
              0.7777777777777778,
              "#fb9f3a"
             ],
             [
              0.8888888888888888,
              "#fdca26"
             ],
             [
              1,
              "#f0f921"
             ]
            ],
            "type": "contour"
           }
          ],
          "contourcarpet": [
           {
            "colorbar": {
             "outlinewidth": 0,
             "ticks": ""
            },
            "type": "contourcarpet"
           }
          ],
          "heatmap": [
           {
            "colorbar": {
             "outlinewidth": 0,
             "ticks": ""
            },
            "colorscale": [
             [
              0,
              "#0d0887"
             ],
             [
              0.1111111111111111,
              "#46039f"
             ],
             [
              0.2222222222222222,
              "#7201a8"
             ],
             [
              0.3333333333333333,
              "#9c179e"
             ],
             [
              0.4444444444444444,
              "#bd3786"
             ],
             [
              0.5555555555555556,
              "#d8576b"
             ],
             [
              0.6666666666666666,
              "#ed7953"
             ],
             [
              0.7777777777777778,
              "#fb9f3a"
             ],
             [
              0.8888888888888888,
              "#fdca26"
             ],
             [
              1,
              "#f0f921"
             ]
            ],
            "type": "heatmap"
           }
          ],
          "heatmapgl": [
           {
            "colorbar": {
             "outlinewidth": 0,
             "ticks": ""
            },
            "colorscale": [
             [
              0,
              "#0d0887"
             ],
             [
              0.1111111111111111,
              "#46039f"
             ],
             [
              0.2222222222222222,
              "#7201a8"
             ],
             [
              0.3333333333333333,
              "#9c179e"
             ],
             [
              0.4444444444444444,
              "#bd3786"
             ],
             [
              0.5555555555555556,
              "#d8576b"
             ],
             [
              0.6666666666666666,
              "#ed7953"
             ],
             [
              0.7777777777777778,
              "#fb9f3a"
             ],
             [
              0.8888888888888888,
              "#fdca26"
             ],
             [
              1,
              "#f0f921"
             ]
            ],
            "type": "heatmapgl"
           }
          ],
          "histogram": [
           {
            "marker": {
             "pattern": {
              "fillmode": "overlay",
              "size": 10,
              "solidity": 0.2
             }
            },
            "type": "histogram"
           }
          ],
          "histogram2d": [
           {
            "colorbar": {
             "outlinewidth": 0,
             "ticks": ""
            },
            "colorscale": [
             [
              0,
              "#0d0887"
             ],
             [
              0.1111111111111111,
              "#46039f"
             ],
             [
              0.2222222222222222,
              "#7201a8"
             ],
             [
              0.3333333333333333,
              "#9c179e"
             ],
             [
              0.4444444444444444,
              "#bd3786"
             ],
             [
              0.5555555555555556,
              "#d8576b"
             ],
             [
              0.6666666666666666,
              "#ed7953"
             ],
             [
              0.7777777777777778,
              "#fb9f3a"
             ],
             [
              0.8888888888888888,
              "#fdca26"
             ],
             [
              1,
              "#f0f921"
             ]
            ],
            "type": "histogram2d"
           }
          ],
          "histogram2dcontour": [
           {
            "colorbar": {
             "outlinewidth": 0,
             "ticks": ""
            },
            "colorscale": [
             [
              0,
              "#0d0887"
             ],
             [
              0.1111111111111111,
              "#46039f"
             ],
             [
              0.2222222222222222,
              "#7201a8"
             ],
             [
              0.3333333333333333,
              "#9c179e"
             ],
             [
              0.4444444444444444,
              "#bd3786"
             ],
             [
              0.5555555555555556,
              "#d8576b"
             ],
             [
              0.6666666666666666,
              "#ed7953"
             ],
             [
              0.7777777777777778,
              "#fb9f3a"
             ],
             [
              0.8888888888888888,
              "#fdca26"
             ],
             [
              1,
              "#f0f921"
             ]
            ],
            "type": "histogram2dcontour"
           }
          ],
          "mesh3d": [
           {
            "colorbar": {
             "outlinewidth": 0,
             "ticks": ""
            },
            "type": "mesh3d"
           }
          ],
          "parcoords": [
           {
            "line": {
             "colorbar": {
              "outlinewidth": 0,
              "ticks": ""
             }
            },
            "type": "parcoords"
           }
          ],
          "pie": [
           {
            "automargin": true,
            "type": "pie"
           }
          ],
          "scatter": [
           {
            "fillpattern": {
             "fillmode": "overlay",
             "size": 10,
             "solidity": 0.2
            },
            "type": "scatter"
           }
          ],
          "scatter3d": [
           {
            "line": {
             "colorbar": {
              "outlinewidth": 0,
              "ticks": ""
             }
            },
            "marker": {
             "colorbar": {
              "outlinewidth": 0,
              "ticks": ""
             }
            },
            "type": "scatter3d"
           }
          ],
          "scattercarpet": [
           {
            "marker": {
             "colorbar": {
              "outlinewidth": 0,
              "ticks": ""
             }
            },
            "type": "scattercarpet"
           }
          ],
          "scattergeo": [
           {
            "marker": {
             "colorbar": {
              "outlinewidth": 0,
              "ticks": ""
             }
            },
            "type": "scattergeo"
           }
          ],
          "scattergl": [
           {
            "marker": {
             "colorbar": {
              "outlinewidth": 0,
              "ticks": ""
             }
            },
            "type": "scattergl"
           }
          ],
          "scattermapbox": [
           {
            "marker": {
             "colorbar": {
              "outlinewidth": 0,
              "ticks": ""
             }
            },
            "type": "scattermapbox"
           }
          ],
          "scatterpolar": [
           {
            "marker": {
             "colorbar": {
              "outlinewidth": 0,
              "ticks": ""
             }
            },
            "type": "scatterpolar"
           }
          ],
          "scatterpolargl": [
           {
            "marker": {
             "colorbar": {
              "outlinewidth": 0,
              "ticks": ""
             }
            },
            "type": "scatterpolargl"
           }
          ],
          "scatterternary": [
           {
            "marker": {
             "colorbar": {
              "outlinewidth": 0,
              "ticks": ""
             }
            },
            "type": "scatterternary"
           }
          ],
          "surface": [
           {
            "colorbar": {
             "outlinewidth": 0,
             "ticks": ""
            },
            "colorscale": [
             [
              0,
              "#0d0887"
             ],
             [
              0.1111111111111111,
              "#46039f"
             ],
             [
              0.2222222222222222,
              "#7201a8"
             ],
             [
              0.3333333333333333,
              "#9c179e"
             ],
             [
              0.4444444444444444,
              "#bd3786"
             ],
             [
              0.5555555555555556,
              "#d8576b"
             ],
             [
              0.6666666666666666,
              "#ed7953"
             ],
             [
              0.7777777777777778,
              "#fb9f3a"
             ],
             [
              0.8888888888888888,
              "#fdca26"
             ],
             [
              1,
              "#f0f921"
             ]
            ],
            "type": "surface"
           }
          ],
          "table": [
           {
            "cells": {
             "fill": {
              "color": "#EBF0F8"
             },
             "line": {
              "color": "white"
             }
            },
            "header": {
             "fill": {
              "color": "#C8D4E3"
             },
             "line": {
              "color": "white"
             }
            },
            "type": "table"
           }
          ]
         },
         "layout": {
          "annotationdefaults": {
           "arrowcolor": "#2a3f5f",
           "arrowhead": 0,
           "arrowwidth": 1
          },
          "autotypenumbers": "strict",
          "coloraxis": {
           "colorbar": {
            "outlinewidth": 0,
            "ticks": ""
           }
          },
          "colorscale": {
           "diverging": [
            [
             0,
             "#8e0152"
            ],
            [
             0.1,
             "#c51b7d"
            ],
            [
             0.2,
             "#de77ae"
            ],
            [
             0.3,
             "#f1b6da"
            ],
            [
             0.4,
             "#fde0ef"
            ],
            [
             0.5,
             "#f7f7f7"
            ],
            [
             0.6,
             "#e6f5d0"
            ],
            [
             0.7,
             "#b8e186"
            ],
            [
             0.8,
             "#7fbc41"
            ],
            [
             0.9,
             "#4d9221"
            ],
            [
             1,
             "#276419"
            ]
           ],
           "sequential": [
            [
             0,
             "#0d0887"
            ],
            [
             0.1111111111111111,
             "#46039f"
            ],
            [
             0.2222222222222222,
             "#7201a8"
            ],
            [
             0.3333333333333333,
             "#9c179e"
            ],
            [
             0.4444444444444444,
             "#bd3786"
            ],
            [
             0.5555555555555556,
             "#d8576b"
            ],
            [
             0.6666666666666666,
             "#ed7953"
            ],
            [
             0.7777777777777778,
             "#fb9f3a"
            ],
            [
             0.8888888888888888,
             "#fdca26"
            ],
            [
             1,
             "#f0f921"
            ]
           ],
           "sequentialminus": [
            [
             0,
             "#0d0887"
            ],
            [
             0.1111111111111111,
             "#46039f"
            ],
            [
             0.2222222222222222,
             "#7201a8"
            ],
            [
             0.3333333333333333,
             "#9c179e"
            ],
            [
             0.4444444444444444,
             "#bd3786"
            ],
            [
             0.5555555555555556,
             "#d8576b"
            ],
            [
             0.6666666666666666,
             "#ed7953"
            ],
            [
             0.7777777777777778,
             "#fb9f3a"
            ],
            [
             0.8888888888888888,
             "#fdca26"
            ],
            [
             1,
             "#f0f921"
            ]
           ]
          },
          "colorway": [
           "#636efa",
           "#EF553B",
           "#00cc96",
           "#ab63fa",
           "#FFA15A",
           "#19d3f3",
           "#FF6692",
           "#B6E880",
           "#FF97FF",
           "#FECB52"
          ],
          "font": {
           "color": "#2a3f5f"
          },
          "geo": {
           "bgcolor": "white",
           "lakecolor": "white",
           "landcolor": "#E5ECF6",
           "showlakes": true,
           "showland": true,
           "subunitcolor": "white"
          },
          "hoverlabel": {
           "align": "left"
          },
          "hovermode": "closest",
          "mapbox": {
           "style": "light"
          },
          "paper_bgcolor": "white",
          "plot_bgcolor": "#E5ECF6",
          "polar": {
           "angularaxis": {
            "gridcolor": "white",
            "linecolor": "white",
            "ticks": ""
           },
           "bgcolor": "#E5ECF6",
           "radialaxis": {
            "gridcolor": "white",
            "linecolor": "white",
            "ticks": ""
           }
          },
          "scene": {
           "xaxis": {
            "backgroundcolor": "#E5ECF6",
            "gridcolor": "white",
            "gridwidth": 2,
            "linecolor": "white",
            "showbackground": true,
            "ticks": "",
            "zerolinecolor": "white"
           },
           "yaxis": {
            "backgroundcolor": "#E5ECF6",
            "gridcolor": "white",
            "gridwidth": 2,
            "linecolor": "white",
            "showbackground": true,
            "ticks": "",
            "zerolinecolor": "white"
           },
           "zaxis": {
            "backgroundcolor": "#E5ECF6",
            "gridcolor": "white",
            "gridwidth": 2,
            "linecolor": "white",
            "showbackground": true,
            "ticks": "",
            "zerolinecolor": "white"
           }
          },
          "shapedefaults": {
           "line": {
            "color": "#2a3f5f"
           }
          },
          "ternary": {
           "aaxis": {
            "gridcolor": "white",
            "linecolor": "white",
            "ticks": ""
           },
           "baxis": {
            "gridcolor": "white",
            "linecolor": "white",
            "ticks": ""
           },
           "bgcolor": "#E5ECF6",
           "caxis": {
            "gridcolor": "white",
            "linecolor": "white",
            "ticks": ""
           }
          },
          "title": {
           "x": 0.05
          },
          "xaxis": {
           "automargin": true,
           "gridcolor": "white",
           "linecolor": "white",
           "ticks": "",
           "title": {
            "standoff": 15
           },
           "zerolinecolor": "white",
           "zerolinewidth": 2
          },
          "yaxis": {
           "automargin": true,
           "gridcolor": "white",
           "linecolor": "white",
           "ticks": "",
           "title": {
            "standoff": 15
           },
           "zerolinecolor": "white",
           "zerolinewidth": 2
          }
         }
        },
        "title": {
         "font": {
          "size": 22
         },
         "text": "Controllers Rented, for the top 5 titles",
         "x": 0.5,
         "xanchor": "center",
         "y": 0.85
        },
        "width": 600,
        "xaxis": {
         "anchor": "y",
         "domain": [
          0,
          1
         ],
         "title": {
          "text": ""
         }
        },
        "yaxis": {
         "anchor": "x",
         "domain": [
          0,
          1
         ],
         "title": {
          "text": "Frequency"
         }
        }
       }
      }
     },
     "metadata": {},
     "output_type": "display_data"
    },
    {
     "name": "stdout",
     "output_type": "stream",
     "text": [
      "Visualization saved as ../resources/viz/f23_controller_by_top_game.html\n"
     ]
    },
    {
     "data": {
      "application/vnd.plotly.v1+json": {
       "config": {
        "plotlyServerURL": "https://plot.ly"
       },
       "data": [
        {
         "domain": {
          "x": [
           0,
           0.45
          ],
          "y": [
           0,
           1
          ]
         },
         "labels": [
          "FIFA 16",
          "Minecraft",
          "Call of Duty: Black Ops 3",
          "Unspecified",
          "Lego Star Wars: The Skywalker Saga",
          "NBA 2K22",
          "Forza Horizon 5",
          "Madden 22",
          "Other"
         ],
         "text": [
          "FIFA 16<br>37 rentals",
          "Minecraft<br>9 rentals",
          "Call of Duty: Black Ops 3<br>33 rentals",
          "Unspecified<br>24 rentals",
          "Lego Star Wars: The Skywalker Saga<br>9 rentals",
          "NBA 2K22<br>7 rentals",
          "Forza Horizon 5<br>7 rentals",
          "Madden 22<br>33 rentals",
          "Other<br>18 rentals"
         ],
         "textfont": {
          "size": 15
         },
         "textinfo": "text+percent",
         "textposition": "inside",
         "type": "pie",
         "values": [
          37,
          9,
          33,
          24,
          9,
          7,
          7,
          33,
          18
         ]
        },
        {
         "domain": {
          "x": [
           0.55,
           1
          ],
          "y": [
           0,
           1
          ]
         },
         "labels": [
          "Mario Kart",
          "Splatoon",
          "Unspecified",
          "Wii Sports",
          "Mario Party 8",
          "Guitar Hero 5",
          "Other"
         ],
         "text": [
          "Mario Kart<br>102 rentals",
          "Splatoon<br>18 rentals",
          "Unspecified<br>18 rentals",
          "Wii Sports<br>32 rentals",
          "Mario Party 8<br>11 rentals",
          "Guitar Hero 5<br>12 rentals",
          "Other<br>22 rentals"
         ],
         "textfont": {
          "size": 15
         },
         "textinfo": "text+percent",
         "textposition": "inside",
         "type": "pie",
         "values": [
          102,
          18,
          18,
          32,
          11,
          12,
          22
         ]
        }
       ],
       "layout": {
        "annotations": [
         {
          "font": {
           "size": 16
          },
          "showarrow": false,
          "text": "Xbox Rentals (177 total)",
          "x": 0.225,
          "xanchor": "center",
          "xref": "paper",
          "y": 1,
          "yanchor": "bottom",
          "yref": "paper"
         },
         {
          "font": {
           "size": 16
          },
          "showarrow": false,
          "text": "Wii Rentals (215 total)",
          "x": 0.775,
          "xanchor": "center",
          "xref": "paper",
          "y": 1,
          "yanchor": "bottom",
          "yref": "paper"
         },
         {
          "align": "left",
          "font": {
           "size": 18
          },
          "showarrow": false,
          "text": "The \"Other\" category combines games rented less than five times.",
          "x": 0.026,
          "xref": "paper",
          "y": 1.19,
          "yref": "paper"
         }
        ],
        "font": {
         "color": "black",
         "family": "Droid Serif"
        },
        "height": 500,
        "hoverlabel": {
         "bgcolor": "black",
         "font": {
          "color": "white"
         }
        },
        "margin": {
         "b": 20,
         "l": 20,
         "r": 20,
         "t": 140
        },
        "showlegend": false,
        "template": {
         "data": {
          "bar": [
           {
            "error_x": {
             "color": "#2a3f5f"
            },
            "error_y": {
             "color": "#2a3f5f"
            },
            "marker": {
             "line": {
              "color": "#E5ECF6",
              "width": 0.5
             },
             "pattern": {
              "fillmode": "overlay",
              "size": 10,
              "solidity": 0.2
             }
            },
            "type": "bar"
           }
          ],
          "barpolar": [
           {
            "marker": {
             "line": {
              "color": "#E5ECF6",
              "width": 0.5
             },
             "pattern": {
              "fillmode": "overlay",
              "size": 10,
              "solidity": 0.2
             }
            },
            "type": "barpolar"
           }
          ],
          "carpet": [
           {
            "aaxis": {
             "endlinecolor": "#2a3f5f",
             "gridcolor": "white",
             "linecolor": "white",
             "minorgridcolor": "white",
             "startlinecolor": "#2a3f5f"
            },
            "baxis": {
             "endlinecolor": "#2a3f5f",
             "gridcolor": "white",
             "linecolor": "white",
             "minorgridcolor": "white",
             "startlinecolor": "#2a3f5f"
            },
            "type": "carpet"
           }
          ],
          "choropleth": [
           {
            "colorbar": {
             "outlinewidth": 0,
             "ticks": ""
            },
            "type": "choropleth"
           }
          ],
          "contour": [
           {
            "colorbar": {
             "outlinewidth": 0,
             "ticks": ""
            },
            "colorscale": [
             [
              0,
              "#0d0887"
             ],
             [
              0.1111111111111111,
              "#46039f"
             ],
             [
              0.2222222222222222,
              "#7201a8"
             ],
             [
              0.3333333333333333,
              "#9c179e"
             ],
             [
              0.4444444444444444,
              "#bd3786"
             ],
             [
              0.5555555555555556,
              "#d8576b"
             ],
             [
              0.6666666666666666,
              "#ed7953"
             ],
             [
              0.7777777777777778,
              "#fb9f3a"
             ],
             [
              0.8888888888888888,
              "#fdca26"
             ],
             [
              1,
              "#f0f921"
             ]
            ],
            "type": "contour"
           }
          ],
          "contourcarpet": [
           {
            "colorbar": {
             "outlinewidth": 0,
             "ticks": ""
            },
            "type": "contourcarpet"
           }
          ],
          "heatmap": [
           {
            "colorbar": {
             "outlinewidth": 0,
             "ticks": ""
            },
            "colorscale": [
             [
              0,
              "#0d0887"
             ],
             [
              0.1111111111111111,
              "#46039f"
             ],
             [
              0.2222222222222222,
              "#7201a8"
             ],
             [
              0.3333333333333333,
              "#9c179e"
             ],
             [
              0.4444444444444444,
              "#bd3786"
             ],
             [
              0.5555555555555556,
              "#d8576b"
             ],
             [
              0.6666666666666666,
              "#ed7953"
             ],
             [
              0.7777777777777778,
              "#fb9f3a"
             ],
             [
              0.8888888888888888,
              "#fdca26"
             ],
             [
              1,
              "#f0f921"
             ]
            ],
            "type": "heatmap"
           }
          ],
          "heatmapgl": [
           {
            "colorbar": {
             "outlinewidth": 0,
             "ticks": ""
            },
            "colorscale": [
             [
              0,
              "#0d0887"
             ],
             [
              0.1111111111111111,
              "#46039f"
             ],
             [
              0.2222222222222222,
              "#7201a8"
             ],
             [
              0.3333333333333333,
              "#9c179e"
             ],
             [
              0.4444444444444444,
              "#bd3786"
             ],
             [
              0.5555555555555556,
              "#d8576b"
             ],
             [
              0.6666666666666666,
              "#ed7953"
             ],
             [
              0.7777777777777778,
              "#fb9f3a"
             ],
             [
              0.8888888888888888,
              "#fdca26"
             ],
             [
              1,
              "#f0f921"
             ]
            ],
            "type": "heatmapgl"
           }
          ],
          "histogram": [
           {
            "marker": {
             "pattern": {
              "fillmode": "overlay",
              "size": 10,
              "solidity": 0.2
             }
            },
            "type": "histogram"
           }
          ],
          "histogram2d": [
           {
            "colorbar": {
             "outlinewidth": 0,
             "ticks": ""
            },
            "colorscale": [
             [
              0,
              "#0d0887"
             ],
             [
              0.1111111111111111,
              "#46039f"
             ],
             [
              0.2222222222222222,
              "#7201a8"
             ],
             [
              0.3333333333333333,
              "#9c179e"
             ],
             [
              0.4444444444444444,
              "#bd3786"
             ],
             [
              0.5555555555555556,
              "#d8576b"
             ],
             [
              0.6666666666666666,
              "#ed7953"
             ],
             [
              0.7777777777777778,
              "#fb9f3a"
             ],
             [
              0.8888888888888888,
              "#fdca26"
             ],
             [
              1,
              "#f0f921"
             ]
            ],
            "type": "histogram2d"
           }
          ],
          "histogram2dcontour": [
           {
            "colorbar": {
             "outlinewidth": 0,
             "ticks": ""
            },
            "colorscale": [
             [
              0,
              "#0d0887"
             ],
             [
              0.1111111111111111,
              "#46039f"
             ],
             [
              0.2222222222222222,
              "#7201a8"
             ],
             [
              0.3333333333333333,
              "#9c179e"
             ],
             [
              0.4444444444444444,
              "#bd3786"
             ],
             [
              0.5555555555555556,
              "#d8576b"
             ],
             [
              0.6666666666666666,
              "#ed7953"
             ],
             [
              0.7777777777777778,
              "#fb9f3a"
             ],
             [
              0.8888888888888888,
              "#fdca26"
             ],
             [
              1,
              "#f0f921"
             ]
            ],
            "type": "histogram2dcontour"
           }
          ],
          "mesh3d": [
           {
            "colorbar": {
             "outlinewidth": 0,
             "ticks": ""
            },
            "type": "mesh3d"
           }
          ],
          "parcoords": [
           {
            "line": {
             "colorbar": {
              "outlinewidth": 0,
              "ticks": ""
             }
            },
            "type": "parcoords"
           }
          ],
          "pie": [
           {
            "automargin": true,
            "type": "pie"
           }
          ],
          "scatter": [
           {
            "fillpattern": {
             "fillmode": "overlay",
             "size": 10,
             "solidity": 0.2
            },
            "type": "scatter"
           }
          ],
          "scatter3d": [
           {
            "line": {
             "colorbar": {
              "outlinewidth": 0,
              "ticks": ""
             }
            },
            "marker": {
             "colorbar": {
              "outlinewidth": 0,
              "ticks": ""
             }
            },
            "type": "scatter3d"
           }
          ],
          "scattercarpet": [
           {
            "marker": {
             "colorbar": {
              "outlinewidth": 0,
              "ticks": ""
             }
            },
            "type": "scattercarpet"
           }
          ],
          "scattergeo": [
           {
            "marker": {
             "colorbar": {
              "outlinewidth": 0,
              "ticks": ""
             }
            },
            "type": "scattergeo"
           }
          ],
          "scattergl": [
           {
            "marker": {
             "colorbar": {
              "outlinewidth": 0,
              "ticks": ""
             }
            },
            "type": "scattergl"
           }
          ],
          "scattermapbox": [
           {
            "marker": {
             "colorbar": {
              "outlinewidth": 0,
              "ticks": ""
             }
            },
            "type": "scattermapbox"
           }
          ],
          "scatterpolar": [
           {
            "marker": {
             "colorbar": {
              "outlinewidth": 0,
              "ticks": ""
             }
            },
            "type": "scatterpolar"
           }
          ],
          "scatterpolargl": [
           {
            "marker": {
             "colorbar": {
              "outlinewidth": 0,
              "ticks": ""
             }
            },
            "type": "scatterpolargl"
           }
          ],
          "scatterternary": [
           {
            "marker": {
             "colorbar": {
              "outlinewidth": 0,
              "ticks": ""
             }
            },
            "type": "scatterternary"
           }
          ],
          "surface": [
           {
            "colorbar": {
             "outlinewidth": 0,
             "ticks": ""
            },
            "colorscale": [
             [
              0,
              "#0d0887"
             ],
             [
              0.1111111111111111,
              "#46039f"
             ],
             [
              0.2222222222222222,
              "#7201a8"
             ],
             [
              0.3333333333333333,
              "#9c179e"
             ],
             [
              0.4444444444444444,
              "#bd3786"
             ],
             [
              0.5555555555555556,
              "#d8576b"
             ],
             [
              0.6666666666666666,
              "#ed7953"
             ],
             [
              0.7777777777777778,
              "#fb9f3a"
             ],
             [
              0.8888888888888888,
              "#fdca26"
             ],
             [
              1,
              "#f0f921"
             ]
            ],
            "type": "surface"
           }
          ],
          "table": [
           {
            "cells": {
             "fill": {
              "color": "#EBF0F8"
             },
             "line": {
              "color": "white"
             }
            },
            "header": {
             "fill": {
              "color": "#C8D4E3"
             },
             "line": {
              "color": "white"
             }
            },
            "type": "table"
           }
          ]
         },
         "layout": {
          "annotationdefaults": {
           "arrowcolor": "#2a3f5f",
           "arrowhead": 0,
           "arrowwidth": 1
          },
          "autotypenumbers": "strict",
          "coloraxis": {
           "colorbar": {
            "outlinewidth": 0,
            "ticks": ""
           }
          },
          "colorscale": {
           "diverging": [
            [
             0,
             "#8e0152"
            ],
            [
             0.1,
             "#c51b7d"
            ],
            [
             0.2,
             "#de77ae"
            ],
            [
             0.3,
             "#f1b6da"
            ],
            [
             0.4,
             "#fde0ef"
            ],
            [
             0.5,
             "#f7f7f7"
            ],
            [
             0.6,
             "#e6f5d0"
            ],
            [
             0.7,
             "#b8e186"
            ],
            [
             0.8,
             "#7fbc41"
            ],
            [
             0.9,
             "#4d9221"
            ],
            [
             1,
             "#276419"
            ]
           ],
           "sequential": [
            [
             0,
             "#0d0887"
            ],
            [
             0.1111111111111111,
             "#46039f"
            ],
            [
             0.2222222222222222,
             "#7201a8"
            ],
            [
             0.3333333333333333,
             "#9c179e"
            ],
            [
             0.4444444444444444,
             "#bd3786"
            ],
            [
             0.5555555555555556,
             "#d8576b"
            ],
            [
             0.6666666666666666,
             "#ed7953"
            ],
            [
             0.7777777777777778,
             "#fb9f3a"
            ],
            [
             0.8888888888888888,
             "#fdca26"
            ],
            [
             1,
             "#f0f921"
            ]
           ],
           "sequentialminus": [
            [
             0,
             "#0d0887"
            ],
            [
             0.1111111111111111,
             "#46039f"
            ],
            [
             0.2222222222222222,
             "#7201a8"
            ],
            [
             0.3333333333333333,
             "#9c179e"
            ],
            [
             0.4444444444444444,
             "#bd3786"
            ],
            [
             0.5555555555555556,
             "#d8576b"
            ],
            [
             0.6666666666666666,
             "#ed7953"
            ],
            [
             0.7777777777777778,
             "#fb9f3a"
            ],
            [
             0.8888888888888888,
             "#fdca26"
            ],
            [
             1,
             "#f0f921"
            ]
           ]
          },
          "colorway": [
           "#636efa",
           "#EF553B",
           "#00cc96",
           "#ab63fa",
           "#FFA15A",
           "#19d3f3",
           "#FF6692",
           "#B6E880",
           "#FF97FF",
           "#FECB52"
          ],
          "font": {
           "color": "#2a3f5f"
          },
          "geo": {
           "bgcolor": "white",
           "lakecolor": "white",
           "landcolor": "#E5ECF6",
           "showlakes": true,
           "showland": true,
           "subunitcolor": "white"
          },
          "hoverlabel": {
           "align": "left"
          },
          "hovermode": "closest",
          "mapbox": {
           "style": "light"
          },
          "paper_bgcolor": "white",
          "plot_bgcolor": "#E5ECF6",
          "polar": {
           "angularaxis": {
            "gridcolor": "white",
            "linecolor": "white",
            "ticks": ""
           },
           "bgcolor": "#E5ECF6",
           "radialaxis": {
            "gridcolor": "white",
            "linecolor": "white",
            "ticks": ""
           }
          },
          "scene": {
           "xaxis": {
            "backgroundcolor": "#E5ECF6",
            "gridcolor": "white",
            "gridwidth": 2,
            "linecolor": "white",
            "showbackground": true,
            "ticks": "",
            "zerolinecolor": "white"
           },
           "yaxis": {
            "backgroundcolor": "#E5ECF6",
            "gridcolor": "white",
            "gridwidth": 2,
            "linecolor": "white",
            "showbackground": true,
            "ticks": "",
            "zerolinecolor": "white"
           },
           "zaxis": {
            "backgroundcolor": "#E5ECF6",
            "gridcolor": "white",
            "gridwidth": 2,
            "linecolor": "white",
            "showbackground": true,
            "ticks": "",
            "zerolinecolor": "white"
           }
          },
          "shapedefaults": {
           "line": {
            "color": "#2a3f5f"
           }
          },
          "ternary": {
           "aaxis": {
            "gridcolor": "white",
            "linecolor": "white",
            "ticks": ""
           },
           "baxis": {
            "gridcolor": "white",
            "linecolor": "white",
            "ticks": ""
           },
           "bgcolor": "#E5ECF6",
           "caxis": {
            "gridcolor": "white",
            "linecolor": "white",
            "ticks": ""
           }
          },
          "title": {
           "x": 0.05
          },
          "xaxis": {
           "automargin": true,
           "gridcolor": "white",
           "linecolor": "white",
           "ticks": "",
           "title": {
            "standoff": 15
           },
           "zerolinecolor": "white",
           "zerolinewidth": 2
          },
          "yaxis": {
           "automargin": true,
           "gridcolor": "white",
           "linecolor": "white",
           "ticks": "",
           "title": {
            "standoff": 15
           },
           "zerolinecolor": "white",
           "zerolinewidth": 2
          }
         }
        },
        "title": {
         "font": {
          "size": 30
         },
         "text": "Video Game Rentals by Console"
        },
        "width": 850
       }
      }
     },
     "metadata": {},
     "output_type": "display_data"
    },
    {
     "name": "stdout",
     "output_type": "stream",
     "text": [
      "Visualization saved as ../resources/viz/f23_games_pie_chart_divided.html\n",
      "Video Game Visualizations Complete!\n",
      "\n",
      "\n",
      "Running Table Game Visualizations...\n"
     ]
    },
    {
     "data": {
      "application/vnd.plotly.v1+json": {
       "config": {
        "plotlyServerURL": "https://plot.ly"
       },
       "data": [
        {
         "alignmentgroup": "True",
         "boxpoints": "all",
         "fillcolor": "rgba(255,255,255,0)",
         "hoveron": "points",
         "hovertemplate": "Pool Table #=%{x}<br>Adjusted Duration=%{y}<extra></extra>",
         "legendgroup": "",
         "line": {
          "color": "rgba(255,255,255,0)"
         },
         "marker": {
          "color": "#636efa",
          "opacity": 0.3
         },
         "name": "",
         "offsetgroup": "",
         "orientation": "v",
         "pointpos": 0,
         "showlegend": false,
         "type": "box",
         "x": [
          1,
          1,
          0,
          2,
          2,
          2,
          3,
          1,
          2,
          1,
          1,
          3,
          2,
          3,
          3,
          1,
          0,
          1,
          2,
          3,
          1,
          1,
          2,
          1,
          1,
          3,
          2,
          3,
          2,
          2,
          1,
          2,
          3,
          1,
          3,
          1,
          2,
          3,
          1,
          3,
          1,
          2,
          3,
          1,
          3,
          2,
          1,
          3,
          1,
          3,
          2,
          1,
          3,
          1,
          1,
          2,
          3,
          1,
          2,
          3,
          1,
          2,
          1,
          1,
          3,
          2,
          1,
          1,
          2,
          1,
          3,
          1,
          3,
          2,
          1,
          2,
          3,
          1,
          1,
          2,
          1,
          2,
          1,
          3,
          3,
          1,
          2,
          2,
          3,
          2,
          3,
          1,
          2,
          3,
          1,
          3,
          2,
          3,
          1,
          2,
          2,
          3,
          2,
          1,
          3,
          2,
          1,
          3,
          2,
          2,
          2,
          3,
          3,
          2,
          3,
          1,
          2,
          3,
          1,
          3,
          1,
          3,
          1,
          2,
          1,
          1,
          3,
          2,
          2,
          1,
          3,
          3,
          1,
          2,
          2,
          3,
          2,
          1,
          3,
          3,
          1,
          3,
          2,
          2,
          1,
          3,
          3,
          1,
          2,
          1,
          2,
          1,
          3,
          3,
          1,
          3,
          2,
          1,
          2,
          1,
          1,
          3,
          2,
          2,
          1,
          3,
          2,
          3,
          1,
          2,
          1,
          3,
          2,
          3,
          1,
          1,
          3,
          2,
          1,
          3,
          3,
          1,
          2,
          2,
          1,
          3,
          3,
          2,
          3,
          2,
          1,
          1,
          2,
          3,
          3,
          1,
          2,
          1,
          3,
          3,
          1,
          1,
          2,
          3,
          2,
          1,
          3,
          3,
          2,
          1,
          2,
          3,
          1,
          2,
          1,
          3,
          2,
          1,
          1,
          2,
          1,
          2,
          3,
          1,
          1,
          2,
          3,
          1,
          1,
          2,
          1,
          2,
          1,
          2,
          3,
          1,
          2,
          1,
          3,
          1,
          2,
          1,
          1,
          1,
          1,
          2,
          2,
          1,
          3,
          1,
          3,
          3,
          1,
          3,
          2,
          1,
          1,
          2,
          3,
          1,
          3,
          2,
          2,
          3,
          1,
          3,
          1,
          2,
          3,
          2,
          1,
          2,
          1,
          2,
          3,
          2,
          1,
          1,
          3,
          1,
          2,
          1,
          3,
          1,
          2,
          1,
          3,
          2,
          1,
          2,
          3,
          1,
          1,
          3,
          1,
          2,
          3,
          2,
          1,
          3,
          1,
          3,
          1,
          2,
          2,
          1,
          2,
          3,
          1,
          2,
          2,
          1,
          1,
          2,
          3,
          1,
          1,
          3,
          2,
          2,
          3,
          1,
          1,
          3,
          0,
          1,
          2,
          3,
          2,
          3,
          2,
          1,
          2,
          2,
          1,
          3,
          2,
          1,
          3,
          2,
          2,
          1,
          1,
          2,
          3,
          3,
          1,
          2,
          3,
          1,
          2,
          3,
          2,
          1,
          1,
          2,
          3,
          2,
          3,
          1,
          1,
          1,
          0,
          2,
          2,
          1,
          3,
          2,
          2,
          1,
          2,
          1,
          3,
          2,
          2,
          3,
          1,
          3,
          1,
          3,
          3,
          1,
          2,
          1,
          3,
          2,
          1,
          1,
          1,
          2,
          3,
          2,
          3,
          1,
          2,
          3,
          2,
          2,
          3,
          1,
          1,
          2,
          3,
          1,
          2,
          3,
          1,
          1,
          1,
          1,
          3,
          2,
          3,
          1,
          2,
          3,
          2,
          1,
          2,
          3,
          3,
          1,
          2,
          3,
          3,
          2,
          3,
          1,
          2,
          2,
          2,
          1,
          3,
          2,
          3,
          3,
          1,
          2,
          1,
          3,
          3,
          2,
          1,
          2,
          1,
          2,
          3,
          1,
          1,
          3,
          1,
          2,
          3,
          1,
          1,
          3,
          3,
          2,
          3,
          1,
          1,
          1,
          2,
          3,
          1,
          3,
          2,
          3,
          1,
          3,
          1,
          2,
          3,
          1,
          2,
          1,
          3,
          3,
          2,
          1,
          1,
          3,
          1,
          3,
          1,
          3,
          1,
          1,
          2,
          3,
          1,
          1,
          2,
          1,
          3,
          3,
          3,
          1,
          3,
          2,
          3,
          1,
          3,
          1,
          3,
          2,
          3,
          1,
          2,
          2,
          3,
          2,
          1,
          1,
          3,
          2,
          1,
          2,
          3,
          1,
          2,
          3,
          3,
          1,
          3,
          2,
          1,
          3,
          2,
          1,
          2,
          2,
          3,
          2,
          1,
          2,
          3,
          1,
          2,
          1,
          3,
          1,
          1,
          2,
          3,
          1,
          2,
          3,
          1,
          1,
          3,
          3,
          1,
          1,
          2,
          3,
          1,
          1,
          2,
          1,
          3,
          1,
          3,
          1,
          2,
          3,
          1,
          3,
          2,
          1,
          2,
          3,
          1,
          1,
          2,
          3,
          2,
          1,
          1,
          3,
          3,
          1,
          2,
          1,
          2,
          3,
          2,
          1,
          3,
          2,
          1,
          3,
          1,
          2,
          1,
          3,
          1,
          2,
          3,
          3,
          2,
          3,
          3,
          1,
          3,
          3,
          2,
          1,
          1,
          2,
          1,
          2,
          2,
          1,
          2,
          1,
          3,
          2,
          2,
          1,
          3,
          3,
          1,
          2,
          1,
          2,
          3,
          1,
          2,
          1,
          2,
          1,
          3,
          3,
          1,
          2,
          2,
          1,
          3,
          2,
          1,
          2,
          1,
          3,
          2,
          1,
          3,
          1,
          2,
          2,
          1,
          2,
          3,
          1,
          2,
          3,
          1,
          3,
          3,
          2,
          1,
          3,
          1,
          3,
          3,
          1,
          2,
          3,
          2,
          3,
          1,
          1,
          3,
          3,
          2,
          3,
          1,
          2,
          2,
          2,
          3,
          1,
          1,
          3,
          2,
          1,
          3,
          0,
          0,
          2,
          1,
          1,
          3,
          3,
          1,
          3,
          3,
          3,
          1,
          2,
          3,
          1,
          2,
          2,
          1,
          3,
          3,
          1,
          1,
          2,
          3,
          1,
          3,
          2,
          1,
          1,
          1,
          3,
          2,
          1,
          3,
          3,
          3,
          1,
          1,
          2,
          1,
          2,
          3,
          1,
          2,
          1,
          1,
          3,
          2,
          3,
          1,
          2,
          1,
          1,
          3,
          2,
          1,
          3,
          1,
          2,
          3,
          2,
          2,
          3,
          1,
          2,
          2,
          3,
          2,
          1,
          2,
          3,
          1,
          2,
          2,
          1,
          3,
          3,
          2,
          2,
          1,
          3,
          2,
          3,
          1,
          3,
          2,
          3,
          2,
          3,
          2,
          3,
          2,
          3,
          1,
          2,
          1,
          3,
          3,
          2,
          1,
          1,
          1,
          1,
          2,
          3,
          2,
          2,
          3,
          3,
          1,
          2,
          3,
          1,
          1,
          3,
          1,
          2,
          3,
          2,
          1,
          3,
          1,
          2,
          3,
          1,
          3,
          1,
          2,
          3,
          1,
          2,
          3,
          1,
          0,
          2,
          2,
          3,
          1,
          1,
          2,
          3,
          3,
          2,
          1,
          3,
          2,
          1,
          3,
          2,
          1,
          3,
          2,
          1,
          3,
          1,
          3,
          2,
          1,
          3,
          3,
          2,
          3,
          1,
          3,
          2,
          0,
          2,
          3,
          1,
          3,
          2,
          3,
          2,
          2,
          1,
          1,
          2,
          2,
          3,
          3,
          1,
          1,
          3,
          2,
          2,
          3,
          1,
          1,
          3,
          2,
          1,
          3,
          2,
          3,
          2,
          3,
          1,
          2,
          3,
          2,
          2,
          3,
          2,
          1,
          1,
          3,
          1,
          2,
          1,
          3,
          1,
          2,
          2,
          1,
          3,
          1,
          3,
          2,
          3,
          1,
          3,
          1,
          2,
          2,
          3,
          2,
          3,
          1,
          2,
          3,
          2,
          3,
          1,
          3,
          2,
          3,
          3,
          1,
          2,
          3,
          1,
          2,
          1,
          2,
          1,
          3,
          2,
          1,
          2,
          3,
          1,
          1,
          1,
          3,
          1,
          3,
          2,
          1,
          3,
          3,
          2,
          1,
          3,
          2,
          1,
          3,
          1,
          2,
          3,
          1,
          2,
          1,
          3,
          3,
          3,
          1,
          2,
          1,
          3,
          1,
          1,
          3,
          2,
          1,
          3,
          1,
          2,
          3,
          1,
          2,
          3,
          1,
          2,
          1,
          2,
          1,
          3,
          3,
          3,
          2,
          3,
          2,
          3,
          2,
          1,
          2,
          2,
          1,
          3,
          2,
          2,
          1,
          3,
          2,
          1,
          3,
          2,
          1,
          3,
          3,
          2,
          1,
          3,
          1,
          2,
          3,
          2,
          1,
          3,
          2,
          1,
          2,
          2,
          1,
          3,
          3,
          1,
          1,
          2,
          3,
          1,
          2,
          2,
          1,
          2,
          3,
          1,
          3,
          2,
          1,
          3,
          1,
          2,
          3,
          1,
          1,
          3,
          1,
          2,
          2,
          1,
          3,
          3,
          1,
          3,
          1,
          3,
          2,
          1,
          3,
          1,
          1,
          2,
          3,
          1,
          3,
          1,
          1,
          1,
          1,
          3,
          2,
          3,
          3,
          1,
          2,
          2,
          2,
          1,
          2,
          1,
          3,
          1,
          3,
          2,
          1,
          2,
          3,
          1,
          2,
          0,
          0,
          1,
          3,
          2,
          1,
          2,
          3,
          1,
          2,
          3,
          1,
          3,
          3,
          2,
          1,
          3,
          2,
          1,
          3,
          2,
          1,
          1,
          3,
          1,
          2,
          3,
          1,
          1,
          3,
          3,
          3,
          2,
          1,
          2,
          3,
          1,
          2,
          2,
          2,
          1,
          3,
          1,
          3,
          2,
          1,
          2,
          1,
          3,
          2,
          3,
          2,
          1,
          3,
          2,
          1,
          3,
          1,
          3,
          2,
          3,
          2,
          1,
          1,
          1,
          3,
          1,
          3,
          2,
          1,
          3,
          1,
          3,
          2,
          1,
          1,
          1,
          1,
          2,
          3,
          1,
          3,
          1,
          3,
          2,
          1,
          2,
          1,
          3,
          1,
          2,
          1,
          2,
          2,
          1,
          2,
          1,
          3,
          2,
          2,
          3,
          3,
          2,
          3,
          1,
          2,
          2,
          1,
          2,
          1,
          1,
          2,
          3,
          1,
          1,
          2,
          3,
          1,
          2,
          1,
          2,
          3,
          1,
          3,
          2,
          2,
          2,
          3,
          1,
          1,
          3,
          3,
          2,
          3,
          2,
          3,
          2,
          1,
          2,
          3,
          2,
          1,
          2,
          3,
          2,
          1,
          1,
          3,
          1,
          2,
          3,
          2,
          1,
          1,
          3,
          2,
          1,
          1,
          2,
          2,
          3,
          2,
          3,
          1,
          1,
          1,
          1,
          2,
          3,
          1,
          2,
          3,
          2,
          1,
          2,
          1,
          3,
          3,
          3,
          2,
          1,
          1,
          1,
          3,
          2,
          1,
          3,
          2,
          1,
          3,
          3,
          1,
          2,
          3,
          2,
          2,
          3,
          2,
          1,
          2,
          1,
          3,
          2,
          1,
          1,
          2,
          3,
          3,
          2,
          3,
          2,
          1,
          2,
          1,
          3,
          1,
          2,
          3,
          2,
          1,
          2,
          2,
          1,
          3,
          1,
          3,
          2,
          1,
          3,
          2,
          1,
          3,
          2,
          1,
          3,
          2,
          1,
          1,
          3,
          1,
          3,
          1,
          3,
          2,
          1,
          3,
          2,
          3,
          2,
          2,
          3,
          1,
          2,
          1,
          3,
          0,
          0,
          2,
          3,
          2,
          1,
          3,
          1,
          3,
          3,
          1,
          3,
          2,
          3,
          1,
          3,
          2,
          1,
          3,
          1,
          3,
          2,
          1,
          3,
          1,
          2,
          1,
          1,
          0,
          3,
          2,
          1,
          3,
          3,
          2,
          1,
          3,
          3,
          2,
          2,
          3,
          1,
          1,
          1,
          3,
          2,
          3,
          1,
          2,
          1,
          2,
          3,
          1,
          1,
          2,
          1,
          3,
          2,
          2,
          3,
          3,
          1,
          1,
          3,
          2,
          3,
          1,
          2,
          3,
          3,
          1,
          1,
          3,
          3,
          1,
          3,
          2,
          1,
          1,
          3,
          2,
          3,
          2,
          3,
          1,
          2,
          2,
          1,
          1,
          3,
          3,
          2,
          2,
          1,
          3,
          1,
          2,
          2,
          1,
          1,
          2,
          1,
          1,
          1,
          3,
          2,
          3,
          2,
          3,
          2,
          1,
          1,
          2,
          3,
          1,
          2,
          3,
          1,
          2,
          3,
          1,
          1,
          1,
          2,
          3,
          2,
          1,
          3,
          0,
          1,
          2,
          3,
          3,
          1,
          2,
          3,
          1,
          2,
          2,
          3,
          1,
          3,
          2,
          1,
          3,
          0,
          2,
          3,
          2,
          2,
          1,
          3,
          2,
          3,
          1,
          1,
          3,
          3,
          1,
          3,
          2,
          1,
          3,
          1,
          2,
          3,
          1,
          2,
          3,
          2,
          3,
          1,
          2,
          2,
          3,
          3,
          1,
          2,
          2,
          3,
          1,
          2,
          3,
          1,
          2,
          1,
          3,
          1,
          2,
          1,
          3,
          2,
          1,
          3,
          3,
          1,
          2,
          3,
          3,
          1,
          1,
          3,
          3,
          1,
          3,
          1,
          3,
          2,
          3,
          1,
          2,
          1,
          3,
          2,
          1,
          3,
          2,
          1,
          3,
          3,
          3,
          2,
          3,
          2,
          2,
          3,
          3,
          1,
          3,
          2,
          1,
          3,
          2,
          3,
          1,
          2,
          2,
          3,
          1,
          2,
          1,
          3,
          2,
          1,
          3,
          1,
          3,
          1,
          1,
          2,
          1,
          3,
          2,
          2,
          1,
          3,
          1,
          2,
          3,
          1,
          3,
          2,
          2,
          3,
          2,
          1,
          0,
          1,
          2,
          3,
          2,
          3,
          1,
          1,
          3,
          1,
          2,
          1,
          2,
          3,
          1,
          2,
          2,
          3,
          2,
          2,
          3,
          1,
          3,
          2,
          3,
          2,
          2,
          1,
          2,
          1,
          3,
          1,
          2,
          1,
          2,
          1,
          2,
          1,
          1,
          2,
          3,
          1,
          1,
          2,
          1,
          2,
          3,
          1,
          2,
          1,
          2,
          3,
          1,
          3,
          1,
          2,
          3,
          1,
          2,
          1,
          3,
          2,
          2,
          1,
          2,
          3,
          0,
          0,
          1,
          2,
          2,
          3,
          2,
          1,
          2,
          1,
          3,
          2,
          1,
          3,
          2,
          3,
          1,
          3,
          2,
          1,
          2,
          1,
          1,
          2,
          1,
          2,
          3,
          2,
          1,
          2,
          3,
          2,
          1,
          1,
          3,
          2,
          2,
          3,
          1,
          2,
          2,
          1,
          2,
          1,
          3,
          3,
          3,
          1,
          2,
          1,
          3,
          1,
          1,
          3,
          2,
          2,
          3,
          2,
          1,
          1,
          2,
          3,
          2,
          3,
          3,
          2,
          1,
          1,
          1,
          2,
          3,
          3,
          2,
          1,
          1,
          1,
          2,
          3,
          1,
          2,
          3,
          3,
          1,
          3,
          1,
          2,
          3,
          1,
          2,
          2,
          1,
          1,
          3,
          2,
          1,
          2,
          3,
          1,
          2,
          1,
          3,
          1,
          2,
          3,
          1,
          3,
          2,
          1,
          2,
          1,
          3,
          1,
          3,
          2,
          2,
          1,
          2,
          2,
          3,
          3,
          2,
          3,
          2,
          3,
          1,
          2,
          3,
          2,
          1,
          1,
          3,
          3,
          1,
          2,
          3,
          1,
          2,
          3,
          3,
          1,
          2,
          3,
          2,
          1,
          3,
          2,
          3,
          2,
          2,
          2,
          1,
          2,
          3,
          1,
          2,
          1,
          3,
          3,
          2,
          2,
          3,
          3,
          2,
          1,
          2,
          2,
          1,
          3,
          3,
          1,
          2,
          3,
          1,
          2,
          3,
          3,
          1,
          1,
          3,
          3,
          1,
          2,
          2,
          1,
          2,
          1,
          2,
          3,
          1,
          2,
          3,
          2,
          1,
          2,
          3,
          1,
          3,
          1,
          2,
          3,
          1,
          2,
          2,
          3,
          2,
          1,
          2,
          3,
          2,
          3,
          1,
          2,
          3,
          2,
          2,
          1,
          3,
          3,
          1,
          2,
          3,
          3,
          2,
          3,
          1,
          1,
          2,
          1,
          1,
          3,
          1,
          2,
          1,
          3,
          2,
          1,
          3,
          3,
          2,
          3,
          2,
          3,
          1,
          2,
          3,
          1,
          2,
          3,
          1,
          3,
          2,
          1,
          3,
          1,
          2,
          3,
          2,
          1,
          1,
          1,
          3,
          1,
          2,
          1,
          3,
          2,
          1,
          2,
          1,
          1,
          3,
          1,
          2,
          1,
          3,
          2,
          3,
          3,
          1,
          2,
          3,
          1,
          2,
          1,
          1,
          2,
          3,
          3,
          1,
          3,
          2,
          3,
          1,
          2,
          3,
          1,
          1,
          3,
          2,
          3,
          1,
          2,
          1,
          2,
          1,
          2,
          1,
          3,
          2,
          2,
          3,
          1,
          2,
          3,
          2,
          1,
          1,
          3,
          2,
          1,
          2,
          3,
          1,
          2,
          2,
          1,
          2,
          3,
          1,
          2,
          1,
          1,
          3,
          2,
          0,
          3,
          2,
          1,
          2,
          1,
          3,
          2,
          3,
          2,
          2,
          1,
          3,
          2,
          1,
          2,
          3,
          1,
          1,
          1,
          1,
          2,
          2,
          1,
          2,
          3,
          1,
          3,
          2,
          3,
          2,
          1,
          3,
          2,
          2,
          3,
          3,
          1,
          2,
          1,
          3,
          3,
          1,
          1,
          1,
          2,
          3,
          3,
          1,
          2,
          3,
          1,
          3,
          2,
          1,
          3,
          3,
          1,
          3,
          2,
          1,
          1,
          3,
          1,
          1,
          1,
          3,
          1,
          2,
          3,
          2,
          2,
          1,
          2,
          1,
          3,
          2,
          1,
          3,
          3,
          3,
          1,
          2,
          3,
          3,
          3,
          2,
          2,
          3,
          3,
          3,
          3,
          3,
          3,
          3,
          3,
          3,
          1,
          3,
          3,
          3,
          3,
          1,
          2,
          2,
          3,
          2,
          1,
          3,
          1,
          1,
          2,
          2,
          3,
          3,
          1,
          3,
          3,
          1,
          0,
          2,
          1,
          2,
          1,
          2,
          2,
          3,
          1,
          2,
          1,
          2,
          1,
          2,
          1,
          3,
          1,
          3,
          1,
          2,
          1,
          3,
          2,
          1,
          1,
          3,
          2,
          1,
          3,
          1,
          2,
          2,
          1,
          0,
          1,
          2,
          1,
          3,
          2,
          2,
          3,
          1,
          2,
          3,
          1,
          3,
          2,
          2,
          2,
          1,
          1,
          2,
          2,
          1,
          2,
          1,
          3,
          1,
          1,
          2,
          3,
          2,
          1,
          3,
          1,
          3,
          2,
          1,
          3,
          1,
          2,
          3,
          2,
          1,
          1,
          2,
          1,
          2,
          3,
          3,
          1,
          3,
          3,
          1,
          2,
          2,
          2,
          3,
          2,
          1,
          3,
          1,
          2,
          3,
          1,
          1,
          3,
          2,
          1,
          3,
          2,
          3,
          2,
          3,
          1,
          1,
          2,
          3,
          1,
          1,
          3,
          2,
          1,
          3,
          2,
          2,
          0,
          1,
          2,
          1,
          3,
          3,
          2,
          2,
          2,
          1,
          1,
          1,
          3,
          2,
          3,
          2,
          1,
          1,
          2,
          3,
          1,
          3,
          3,
          2,
          1,
          2,
          1,
          3,
          2,
          2,
          1,
          3,
          2,
          1,
          3,
          3,
          3,
          1,
          3,
          2,
          3,
          2,
          1,
          3,
          2,
          1,
          3,
          2,
          3,
          3,
          2,
          1,
          3,
          2,
          3,
          1,
          1,
          3,
          1,
          2,
          1,
          3,
          1,
          1,
          2,
          1,
          3,
          3,
          1,
          2,
          3,
          1,
          2,
          3,
          1,
          2,
          3,
          1,
          1,
          1,
          2,
          1,
          2,
          3,
          1,
          2,
          3,
          3,
          1,
          2,
          3,
          1,
          2,
          3,
          1,
          3,
          3,
          1,
          1,
          2,
          3,
          1,
          2,
          2,
          3,
          2,
          1,
          3,
          1,
          2,
          3,
          3,
          2,
          1,
          3,
          2,
          3,
          1,
          2,
          1,
          3,
          2,
          2,
          3,
          1,
          2,
          3,
          1,
          3,
          1,
          1,
          3,
          2,
          1,
          2,
          1,
          2,
          3,
          2,
          1,
          1,
          3,
          2,
          1,
          3,
          2,
          3,
          1,
          3,
          2,
          1,
          2,
          3,
          1,
          2,
          1,
          1,
          2,
          3,
          2,
          3,
          1,
          3,
          1,
          1,
          2,
          3,
          3,
          2,
          1,
          1,
          1,
          2,
          1,
          3,
          1,
          2,
          3,
          1,
          2,
          1,
          3,
          2,
          1,
          2,
          3,
          3,
          1,
          1,
          3,
          2,
          3,
          1,
          1,
          2,
          3,
          2,
          1,
          2,
          3,
          3,
          1,
          2,
          2,
          1,
          2,
          1,
          1,
          3,
          1,
          2,
          1,
          3,
          2,
          2,
          3,
          2,
          1,
          3,
          2,
          2,
          3,
          2,
          1,
          2,
          2,
          3,
          1,
          3,
          1,
          2,
          3,
          2,
          3,
          3,
          1,
          2,
          1,
          1,
          2,
          1,
          2,
          1,
          3,
          2
         ],
         "x0": " ",
         "xaxis": "x",
         "y": [
          32,
          17,
          65,
          25,
          30,
          25,
          67,
          12,
          22,
          32,
          11,
          14,
          9,
          34,
          11,
          6,
          24,
          25,
          40,
          35,
          12,
          15,
          15,
          25,
          67,
          16,
          22,
          21,
          12,
          13,
          33,
          27,
          41,
          24,
          71,
          33,
          66,
          25,
          40,
          17,
          27,
          30,
          41,
          50,
          44,
          124,
          15,
          69,
          55,
          15,
          80,
          30,
          53,
          38,
          34,
          78,
          70,
          53,
          57,
          78,
          47,
          39,
          28,
          13,
          97,
          41,
          32,
          22,
          56,
          14,
          19,
          26,
          35,
          19,
          36,
          56,
          20,
          18,
          9,
          11,
          15,
          49,
          34,
          28,
          21,
          60,
          15,
          14,
          18,
          23,
          28,
          36,
          73,
          32,
          37,
          26,
          14,
          27,
          46,
          28,
          11,
          10,
          56,
          51,
          29,
          29,
          85,
          188,
          40,
          38,
          52,
          24,
          31,
          36,
          17,
          13,
          142,
          58,
          67,
          73,
          52,
          60,
          10,
          61,
          26,
          74,
          42,
          17,
          38,
          16,
          10,
          54,
          97,
          32,
          50,
          81,
          117,
          102,
          22,
          34,
          51,
          55,
          -98,
          67,
          42,
          30,
          117,
          36,
          68,
          57,
          61,
          39,
          34,
          28,
          34,
          72,
          32,
          16,
          19,
          13,
          41,
          48,
          6,
          21,
          29,
          10,
          5,
          25,
          34,
          27,
          51,
          22,
          107,
          81,
          27,
          66,
          48,
          21,
          43,
          29,
          65,
          25,
          16,
          34,
          33,
          22,
          32,
          29,
          37,
          -1411,
          29,
          764,
          22,
          19,
          28,
          26,
          72,
          63,
          22,
          50,
          27,
          51,
          39,
          32,
          34,
          51,
          32,
          51,
          25,
          44,
          53,
          130,
          53,
          50,
          42,
          45,
          77,
          46,
          73,
          21,
          24,
          87,
          89,
          67,
          52,
          127,
          242,
          72,
          34,
          54,
          29,
          65,
          60,
          49,
          39,
          30,
          29,
          25,
          -1279,
          32,
          -1360,
          27,
          -1414,
          25,
          42,
          18,
          207,
          16,
          48,
          97,
          17,
          74,
          79,
          64,
          50,
          30,
          54,
          71,
          56,
          68,
          56,
          31,
          65,
          18,
          57,
          63,
          44,
          24,
          68,
          13,
          30,
          75,
          12,
          37,
          81,
          103,
          39,
          30,
          81,
          30,
          66,
          23,
          95,
          25,
          76,
          85,
          55,
          15,
          41,
          44,
          48,
          31,
          44,
          54,
          26,
          35,
          15,
          66,
          16,
          51,
          19,
          108,
          53,
          19,
          32,
          46,
          53,
          64,
          52,
          35,
          39,
          25,
          38,
          84,
          17,
          15,
          37,
          55,
          25,
          38,
          76,
          21,
          59,
          29,
          32,
          43,
          22,
          40,
          30,
          26,
          30,
          45,
          38,
          70,
          82,
          71,
          17,
          29,
          122,
          25,
          54,
          31,
          34,
          25,
          37,
          31,
          38,
          32,
          34,
          54,
          25,
          59,
          16,
          10,
          35,
          29,
          13,
          39,
          16,
          40,
          21,
          14,
          69,
          31,
          31,
          61,
          73,
          45,
          21,
          15,
          47,
          43,
          31,
          26,
          63,
          62,
          60,
          18,
          40,
          51,
          32,
          13,
          18,
          -1409,
          813,
          769,
          20,
          27,
          92,
          21,
          40,
          38,
          67,
          121,
          46,
          67,
          14,
          86,
          66,
          32,
          49,
          33,
          42,
          31,
          72,
          54,
          31,
          8,
          19,
          32,
          26,
          56,
          35,
          75,
          34,
          39,
          47,
          45,
          52,
          13,
          35,
          63,
          45,
          25,
          22,
          26,
          43,
          60,
          20,
          12,
          45,
          53,
          25,
          64,
          16,
          51,
          49,
          39,
          57,
          21,
          90,
          15,
          41,
          31,
          67,
          40,
          36,
          19,
          17,
          44,
          43,
          121,
          50,
          36,
          89,
          13,
          24,
          66,
          82,
          15,
          17,
          25,
          27,
          36,
          104,
          47,
          82,
          53,
          42,
          31,
          32,
          42,
          60,
          49,
          71,
          47,
          24,
          72,
          49,
          44,
          39,
          22,
          36,
          36,
          41,
          45,
          5,
          41,
          67,
          56,
          23,
          31,
          108,
          67,
          38,
          26,
          21,
          84,
          66,
          48,
          50,
          17,
          38,
          67,
          30,
          43,
          89,
          128,
          37,
          22,
          100,
          73,
          47,
          45,
          63,
          36,
          75,
          48,
          47,
          106,
          69,
          15,
          39,
          30,
          40,
          22,
          39,
          112,
          15,
          29,
          17,
          86,
          61,
          23,
          35,
          43,
          70,
          10,
          19,
          12,
          67,
          32,
          35,
          5,
          37,
          38,
          58,
          26,
          38,
          32,
          30,
          25,
          16,
          37,
          24,
          67,
          24,
          17,
          46,
          22,
          14,
          28,
          32,
          77,
          63,
          72,
          19,
          107,
          88,
          89,
          48,
          72,
          12,
          79,
          47,
          48,
          62,
          17,
          20,
          34,
          50,
          37,
          8,
          22,
          16,
          28,
          48,
          65,
          47,
          32,
          22,
          -214,
          22,
          103,
          39,
          49,
          114,
          76,
          8,
          30,
          34,
          29,
          27,
          61,
          29,
          29,
          93,
          6,
          46,
          58,
          120,
          37,
          39,
          36,
          71,
          31,
          66,
          19,
          108,
          35,
          20,
          126,
          82,
          49,
          64,
          30,
          67,
          32,
          38,
          46,
          -1388,
          -1402,
          21,
          39,
          112,
          37,
          37,
          60,
          91,
          29,
          31,
          26,
          22,
          32,
          53,
          41,
          10,
          103,
          35,
          68,
          63,
          45,
          57,
          12,
          -1404,
          47,
          97,
          30,
          78,
          131,
          8,
          31,
          53,
          21,
          14,
          40,
          53,
          36,
          27,
          29,
          28,
          53,
          23,
          48,
          57,
          35,
          31,
          31,
          25,
          47,
          64,
          54,
          72,
          43,
          26,
          61,
          31,
          40,
          25,
          128,
          48,
          10,
          34,
          25,
          39,
          23,
          46,
          85,
          56,
          65,
          22,
          68,
          36,
          72,
          58,
          17,
          79,
          22,
          41,
          23,
          35,
          59,
          100,
          26,
          41,
          17,
          40,
          36,
          70,
          80,
          21,
          35,
          57,
          17,
          48,
          66,
          47,
          46,
          40,
          23,
          63,
          45,
          80,
          20,
          36,
          101,
          25,
          48,
          54,
          24,
          22,
          19,
          46,
          73,
          162,
          38,
          58,
          30,
          20,
          53,
          116,
          29,
          53,
          136,
          34,
          40,
          29,
          51,
          10,
          24,
          52,
          65,
          15,
          38,
          39,
          36,
          37,
          27,
          53,
          36,
          45,
          22,
          52,
          15,
          23,
          51,
          17,
          19,
          51,
          48,
          87,
          68,
          40,
          21,
          138,
          83,
          20,
          30,
          15,
          138,
          25,
          49,
          12,
          98,
          34,
          38,
          15,
          59,
          75,
          26,
          45,
          26,
          22,
          21,
          38,
          36,
          44,
          106,
          48,
          92,
          44,
          39,
          53,
          97,
          126,
          55,
          59,
          83,
          103,
          60,
          24,
          -1418,
          44,
          18,
          0,
          50,
          29,
          14,
          79,
          35,
          59,
          36,
          50,
          34,
          24,
          79,
          59,
          38,
          31,
          33,
          18,
          13,
          0,
          35,
          41,
          22,
          37,
          48,
          6,
          158,
          33,
          60,
          40,
          48,
          22,
          37,
          31,
          50,
          42,
          48,
          38,
          42,
          30,
          15,
          37,
          29,
          113,
          17,
          63,
          29,
          39,
          23,
          11,
          25,
          37,
          22,
          59,
          46,
          33,
          18,
          22,
          26,
          11,
          135,
          36,
          67,
          16,
          36,
          45,
          56,
          11,
          23,
          65,
          107,
          30,
          13,
          52,
          37,
          34,
          83,
          71,
          54,
          88,
          34,
          70,
          35,
          31,
          -1381,
          22,
          12,
          758,
          750,
          42,
          68,
          153,
          41,
          34,
          71,
          25,
          156,
          66,
          170,
          68,
          37,
          37,
          22,
          124,
          34,
          35,
          132,
          19,
          39,
          84,
          73,
          48,
          252,
          120,
          75,
          35,
          41,
          59,
          90,
          141,
          76,
          103,
          63,
          20,
          14,
          24,
          48,
          78,
          44,
          32,
          48,
          43,
          72,
          50,
          54,
          45,
          53,
          24,
          58,
          16,
          85,
          23,
          63,
          40,
          12,
          11,
          27,
          69,
          84,
          15,
          33,
          56,
          44,
          22,
          92,
          65,
          19,
          23,
          72,
          35,
          39,
          24,
          66,
          20,
          40,
          12,
          21,
          39,
          13,
          28,
          22,
          49,
          22,
          54,
          11,
          16,
          35,
          36,
          35,
          24,
          43,
          39,
          16,
          14,
          36,
          27,
          38,
          92,
          13,
          49,
          16,
          35,
          108,
          53,
          30,
          69,
          89,
          74,
          23,
          24,
          37,
          43,
          17,
          154,
          36,
          31,
          33,
          40,
          79,
          26,
          66,
          11,
          72,
          27,
          35,
          27,
          41,
          41,
          24,
          19,
          62,
          28,
          19,
          48,
          10,
          7,
          33,
          29,
          38,
          74,
          73,
          32,
          59,
          34,
          25,
          59,
          20,
          22,
          46,
          52,
          51,
          5,
          45,
          53,
          44,
          41,
          53,
          137,
          41,
          15,
          14,
          48,
          46,
          94,
          24,
          39,
          59,
          62,
          41,
          60,
          24,
          52,
          39,
          50,
          30,
          30,
          44,
          64,
          48,
          21,
          78,
          35,
          35,
          53,
          32,
          183,
          21,
          87,
          28,
          43,
          82,
          85,
          54,
          72,
          26,
          32,
          17,
          31,
          37,
          216,
          90,
          15,
          208,
          29,
          53,
          52,
          46,
          31,
          29,
          181,
          79,
          56,
          31,
          27,
          63,
          65,
          32,
          29,
          36,
          34,
          45,
          56,
          69,
          43,
          30,
          26,
          35,
          37,
          19,
          46,
          57,
          104,
          30,
          51,
          104,
          56,
          41,
          41,
          55,
          25,
          30,
          50,
          89,
          59,
          44,
          34,
          61,
          33,
          22,
          26,
          32,
          24,
          51,
          44,
          28,
          23,
          51,
          99,
          31,
          50,
          113,
          48,
          118,
          31,
          47,
          37,
          37,
          18,
          22,
          55,
          47,
          40,
          15,
          17,
          37,
          41,
          72,
          142,
          56,
          27,
          45,
          25,
          48,
          35,
          18,
          23,
          55,
          14,
          57,
          41,
          63,
          38,
          29,
          32,
          18,
          67,
          75,
          35,
          14,
          37,
          131,
          68,
          62,
          127,
          9,
          15,
          47,
          64,
          55,
          61,
          36,
          89,
          46,
          98,
          26,
          81,
          77,
          99,
          59,
          35,
          26,
          65,
          71,
          37,
          43,
          94,
          15,
          48,
          20,
          37,
          27,
          41,
          40,
          24,
          19,
          39,
          34,
          16,
          6,
          25,
          50,
          37,
          53,
          24,
          26,
          54,
          36,
          46,
          87,
          104,
          28,
          12,
          85,
          102,
          33,
          16,
          43,
          79,
          63,
          55,
          73,
          54,
          27,
          31,
          60,
          175,
          48,
          64,
          19,
          41,
          37,
          23,
          22,
          57,
          59,
          55,
          24,
          29,
          113,
          69,
          26,
          19,
          29,
          54,
          11,
          51,
          30,
          23,
          65,
          54,
          18,
          37,
          11,
          59,
          29,
          36,
          42,
          33,
          32,
          26,
          55,
          29,
          29,
          105,
          95,
          50,
          39,
          22,
          54,
          123,
          29,
          56,
          68,
          32,
          26,
          38,
          51,
          29,
          142,
          51,
          60,
          33,
          17,
          57,
          66,
          37,
          53,
          159,
          24,
          19,
          8,
          22,
          49,
          89,
          27,
          75,
          39,
          41,
          22,
          9,
          38,
          19,
          38,
          35,
          31,
          54,
          27,
          49,
          14,
          24,
          54,
          36,
          130,
          40,
          106,
          43,
          77,
          15,
          58,
          34,
          65,
          20,
          21,
          70,
          57,
          23,
          29,
          13,
          112,
          97,
          18,
          56,
          29,
          16,
          64,
          66,
          14,
          26,
          39,
          40,
          51,
          16,
          69,
          16,
          61,
          30,
          54,
          24,
          44,
          22,
          29,
          49,
          32,
          40,
          30,
          51,
          30,
          22,
          33,
          17,
          44,
          13,
          31,
          69,
          46,
          79,
          4,
          54,
          31,
          37,
          59,
          76,
          23,
          64,
          24,
          37,
          29,
          21,
          28,
          51,
          30,
          94,
          13,
          193,
          44,
          29,
          46,
          47,
          17,
          77,
          8,
          25,
          129,
          25,
          19,
          41,
          24,
          41,
          219,
          30,
          35,
          27,
          25,
          18,
          61,
          41,
          16,
          25,
          128,
          44,
          45,
          33,
          15,
          7,
          97,
          28,
          23,
          13,
          103,
          102,
          25,
          130,
          65,
          42,
          20,
          80,
          15,
          48,
          42,
          36,
          32,
          37,
          75,
          27,
          27,
          25,
          25,
          17,
          26,
          16,
          65,
          140,
          26,
          31,
          43,
          30,
          27,
          59,
          54,
          72,
          57,
          24,
          42,
          34,
          59,
          32,
          40,
          38,
          57,
          74,
          62,
          27,
          25,
          33,
          45,
          101,
          26,
          66,
          41,
          21,
          58,
          89,
          41,
          150,
          114,
          147,
          39,
          45,
          30,
          76,
          88,
          42,
          2,
          52,
          32,
          25,
          24,
          26,
          15,
          31,
          10,
          18,
          23,
          25,
          40,
          19,
          40,
          26,
          24,
          47,
          35,
          58,
          57,
          38,
          38,
          12,
          323,
          27,
          17,
          153,
          106,
          42,
          26,
          53,
          59,
          47,
          48,
          23,
          59,
          74,
          113,
          53,
          29,
          31,
          43,
          60,
          46,
          27,
          34,
          42,
          86,
          78,
          43,
          36,
          49,
          87,
          14,
          46,
          17,
          15,
          48,
          23,
          46,
          34,
          43,
          103,
          94,
          66,
          88,
          30,
          21,
          38,
          80,
          36,
          44,
          24,
          61,
          46,
          26,
          51,
          13,
          16,
          30,
          52,
          29,
          20,
          24,
          45,
          113,
          188,
          29,
          89,
          48,
          18,
          63,
          48,
          77,
          30,
          23,
          23,
          14,
          39,
          25,
          68,
          29,
          71,
          34,
          44,
          76,
          71,
          85,
          56,
          16,
          20,
          108,
          161,
          56,
          64,
          53,
          54,
          21,
          116,
          67,
          85,
          46,
          33,
          40,
          27,
          26,
          39,
          42,
          75,
          32,
          45,
          113,
          121,
          65,
          43,
          51,
          22,
          54,
          15,
          10,
          102,
          19,
          66,
          134,
          10,
          63,
          65,
          16,
          30,
          30,
          48,
          49,
          88,
          49,
          28,
          182,
          28,
          27,
          82,
          31,
          54,
          50,
          54,
          19,
          60,
          47,
          65,
          26,
          64,
          19,
          8,
          48,
          52,
          34,
          41,
          79,
          46,
          11,
          31,
          20,
          50,
          52,
          50,
          34,
          75,
          35,
          85,
          33,
          17,
          56,
          80,
          58,
          12,
          37,
          48,
          15,
          38,
          144,
          39,
          4,
          69,
          34,
          63,
          32,
          16,
          15,
          46,
          28,
          15,
          59,
          38,
          33,
          20,
          71,
          6,
          8,
          17,
          42,
          29,
          40,
          21,
          59,
          58,
          19,
          39,
          36,
          32,
          37,
          50,
          26,
          49,
          30,
          36,
          65,
          55,
          27,
          54,
          39,
          40,
          41,
          33,
          19,
          49,
          51,
          60,
          54,
          163,
          59,
          36,
          88,
          88,
          12,
          29,
          161,
          13,
          51,
          33,
          27,
          46,
          54,
          46,
          64,
          42,
          68,
          40,
          33,
          30,
          36,
          9,
          35,
          40,
          45,
          49,
          87,
          73,
          58,
          34,
          74,
          40,
          53,
          37,
          178,
          29,
          21,
          107,
          35,
          30,
          58,
          21,
          50,
          120,
          27,
          70,
          132,
          25,
          34,
          4,
          24,
          26,
          78,
          14,
          72,
          32,
          24,
          28,
          19,
          42,
          53,
          58,
          56,
          132,
          32,
          16,
          113,
          51,
          34,
          27,
          98,
          46,
          21,
          33,
          49,
          29,
          64,
          32,
          59,
          62,
          39,
          28,
          60,
          58,
          45,
          35,
          15,
          21,
          51,
          44,
          40,
          14,
          25,
          47,
          85,
          31,
          87,
          16,
          32,
          42,
          65,
          106,
          46,
          68,
          13,
          66,
          23,
          24,
          22,
          127,
          34,
          37,
          69,
          115,
          63,
          46,
          27,
          74,
          36,
          25,
          41,
          42,
          89,
          66,
          29,
          46,
          22,
          12,
          18,
          24,
          33,
          53,
          36,
          40,
          46,
          45,
          51,
          60,
          37,
          48,
          26,
          41,
          37,
          39,
          -1371,
          66,
          -1385,
          97,
          20,
          29,
          37,
          108,
          45,
          32,
          82,
          182,
          82,
          68,
          52,
          40,
          53,
          38,
          45,
          37,
          31,
          32,
          22,
          37,
          37,
          23,
          20,
          76,
          38,
          57,
          21,
          87,
          95,
          34,
          60,
          47,
          43,
          72,
          55,
          8,
          39,
          38,
          42,
          45,
          38,
          20,
          158,
          29,
          28,
          28,
          29,
          31,
          20,
          108,
          42,
          25,
          44,
          34,
          87,
          52,
          32,
          24,
          41,
          23,
          37,
          61,
          82,
          54,
          132,
          97,
          55,
          17,
          88,
          51,
          28,
          29,
          25,
          13,
          94,
          36,
          31,
          40,
          33,
          47,
          57,
          35,
          91,
          51,
          46,
          76,
          25,
          79,
          89,
          76,
          55,
          82,
          81,
          188,
          20,
          5,
          48,
          40,
          20,
          24,
          47,
          61,
          36,
          42,
          9,
          33,
          24,
          51,
          73,
          44,
          27,
          22,
          17,
          61,
          39,
          148,
          95,
          31,
          86,
          9,
          21,
          49,
          40,
          29,
          95,
          156,
          33,
          34,
          25,
          54,
          138,
          93,
          37,
          30,
          92,
          28,
          89,
          9,
          31,
          47,
          63,
          28,
          67,
          33,
          116,
          18,
          163,
          44,
          44,
          56,
          55,
          48,
          31,
          50,
          56,
          13,
          25,
          59,
          200,
          110,
          41,
          33,
          18,
          26,
          59,
          296,
          85,
          76,
          42,
          32,
          66,
          54,
          36,
          43,
          30,
          21,
          17,
          40,
          115,
          99,
          27,
          58,
          10,
          148,
          32,
          81,
          16,
          81,
          13,
          266,
          26,
          46,
          58,
          5,
          167,
          160,
          51,
          27,
          54,
          39,
          46,
          47,
          18,
          60,
          30,
          21,
          48,
          57,
          49,
          348,
          330,
          336,
          50,
          54,
          8,
          18,
          17,
          27,
          68,
          44,
          30,
          27,
          35,
          66,
          160,
          58,
          37,
          39,
          4,
          38,
          20,
          75,
          87,
          66,
          22,
          35,
          40,
          62,
          71,
          11,
          36,
          175,
          27,
          45,
          46,
          30,
          70,
          17,
          41,
          62,
          64,
          31,
          69,
          43,
          97,
          102,
          28,
          50,
          9,
          26,
          59,
          63,
          52,
          34,
          59,
          224,
          44,
          105,
          64,
          51,
          -1407,
          10,
          802,
          47,
          28,
          30,
          40,
          52,
          94,
          122,
          17,
          26,
          38,
          41,
          47,
          34,
          51,
          30,
          34,
          33,
          33,
          28,
          39,
          65,
          82,
          51,
          19,
          2,
          53,
          69,
          22,
          32,
          97,
          32,
          9,
          85,
          66,
          40,
          107,
          169,
          34,
          111,
          67,
          30,
          88,
          124,
          21,
          66,
          13,
          53,
          42,
          41,
          40,
          82,
          41,
          38,
          38,
          24,
          35,
          50,
          78,
          42,
          35,
          54,
          88,
          48,
          28,
          17,
          19,
          32,
          14,
          32,
          36,
          27,
          166,
          148,
          46,
          46,
          30,
          160,
          134,
          6,
          81,
          86,
          50,
          36,
          60,
          211,
          60,
          56,
          33,
          83,
          71,
          50,
          36,
          84,
          22,
          10,
          92,
          49,
          37,
          17,
          40,
          64,
          48,
          38,
          36,
          17,
          34,
          26,
          58,
          52,
          121,
          79,
          95,
          29,
          15,
          46,
          43,
          33,
          38,
          14,
          17,
          25,
          25,
          35,
          90,
          93,
          49,
          24,
          52,
          42,
          26,
          68,
          47,
          99,
          34,
          33,
          43,
          31,
          54,
          20,
          78,
          121,
          26,
          35,
          38,
          53,
          27,
          23,
          68,
          63,
          56,
          47,
          33,
          58,
          24,
          30,
          25,
          17,
          36,
          95,
          67,
          36,
          38,
          7,
          36,
          54,
          25,
          14,
          21,
          60,
          40,
          138,
          35,
          26,
          48,
          52,
          29,
          38,
          34,
          30,
          51,
          34,
          56,
          110,
          53,
          67,
          51,
          14,
          126,
          64,
          45,
          46,
          21,
          45,
          33,
          21,
          28,
          25,
          10,
          69,
          41,
          42,
          42,
          45,
          33,
          33,
          18,
          33,
          27,
          23,
          24,
          22,
          74,
          15,
          16,
          72,
          62,
          45,
          7,
          32,
          47,
          19,
          46,
          81,
          82,
          44,
          37,
          70,
          766,
          755,
          42,
          45,
          39,
          21,
          44,
          68,
          34,
          69,
          58,
          45,
          202,
          183,
          54,
          112,
          69,
          22,
          20,
          21,
          44,
          72,
          47,
          90,
          26,
          24,
          38,
          13,
          29,
          115,
          39,
          37,
          21,
          64,
          17,
          47,
          27,
          5,
          11,
          26,
          42,
          33,
          83,
          44,
          36,
          34,
          18,
          61,
          51,
          39,
          11,
          8,
          39,
          14,
          761,
          24,
          74
         ],
         "y0": " ",
         "yaxis": "y"
        },
        {
         "hoverinfo": "skip",
         "marker": {
          "color": "green",
          "opacity": 0.5
         },
         "type": "box",
         "x": [
          1,
          1,
          0,
          2,
          2,
          2,
          3,
          1,
          2,
          1,
          1,
          3,
          2,
          3,
          3,
          1,
          0,
          1,
          2,
          3,
          1,
          1,
          2,
          1,
          1,
          3,
          2,
          3,
          2,
          2,
          1,
          2,
          3,
          1,
          3,
          1,
          2,
          3,
          1,
          3,
          1,
          2,
          3,
          1,
          3,
          2,
          1,
          3,
          1,
          3,
          2,
          1,
          3,
          1,
          1,
          2,
          3,
          1,
          2,
          3,
          1,
          2,
          1,
          1,
          3,
          2,
          1,
          1,
          2,
          1,
          3,
          1,
          3,
          2,
          1,
          2,
          3,
          1,
          1,
          2,
          1,
          2,
          1,
          3,
          3,
          1,
          2,
          2,
          3,
          2,
          3,
          1,
          2,
          3,
          1,
          3,
          2,
          3,
          1,
          2,
          2,
          3,
          2,
          1,
          3,
          2,
          1,
          3,
          2,
          2,
          2,
          3,
          3,
          2,
          3,
          1,
          2,
          3,
          1,
          3,
          1,
          3,
          1,
          2,
          1,
          1,
          3,
          2,
          2,
          1,
          3,
          3,
          1,
          2,
          2,
          3,
          2,
          1,
          3,
          3,
          1,
          3,
          2,
          2,
          1,
          3,
          3,
          1,
          2,
          1,
          2,
          1,
          3,
          3,
          1,
          3,
          2,
          1,
          2,
          1,
          1,
          3,
          2,
          2,
          1,
          3,
          2,
          3,
          1,
          2,
          1,
          3,
          2,
          3,
          1,
          1,
          3,
          2,
          1,
          3,
          3,
          1,
          2,
          2,
          1,
          3,
          3,
          2,
          3,
          2,
          1,
          1,
          2,
          3,
          3,
          1,
          2,
          1,
          3,
          3,
          1,
          1,
          2,
          3,
          2,
          1,
          3,
          3,
          2,
          1,
          2,
          3,
          1,
          2,
          1,
          3,
          2,
          1,
          1,
          2,
          1,
          2,
          3,
          1,
          1,
          2,
          3,
          1,
          1,
          2,
          1,
          2,
          1,
          2,
          3,
          1,
          2,
          1,
          3,
          1,
          2,
          1,
          1,
          1,
          1,
          2,
          2,
          1,
          3,
          1,
          3,
          3,
          1,
          3,
          2,
          1,
          1,
          2,
          3,
          1,
          3,
          2,
          2,
          3,
          1,
          3,
          1,
          2,
          3,
          2,
          1,
          2,
          1,
          2,
          3,
          2,
          1,
          1,
          3,
          1,
          2,
          1,
          3,
          1,
          2,
          1,
          3,
          2,
          1,
          2,
          3,
          1,
          1,
          3,
          1,
          2,
          3,
          2,
          1,
          3,
          1,
          3,
          1,
          2,
          2,
          1,
          2,
          3,
          1,
          2,
          2,
          1,
          1,
          2,
          3,
          1,
          1,
          3,
          2,
          2,
          3,
          1,
          1,
          3,
          0,
          1,
          2,
          3,
          2,
          3,
          2,
          1,
          2,
          2,
          1,
          3,
          2,
          1,
          3,
          2,
          2,
          1,
          1,
          2,
          3,
          3,
          1,
          2,
          3,
          1,
          2,
          3,
          2,
          1,
          1,
          2,
          3,
          2,
          3,
          1,
          1,
          1,
          0,
          2,
          2,
          1,
          3,
          2,
          2,
          1,
          2,
          1,
          3,
          2,
          2,
          3,
          1,
          3,
          1,
          3,
          3,
          1,
          2,
          1,
          3,
          2,
          1,
          1,
          1,
          2,
          3,
          2,
          3,
          1,
          2,
          3,
          2,
          2,
          3,
          1,
          1,
          2,
          3,
          1,
          2,
          3,
          1,
          1,
          1,
          1,
          3,
          2,
          3,
          1,
          2,
          3,
          2,
          1,
          2,
          3,
          3,
          1,
          2,
          3,
          3,
          2,
          3,
          1,
          2,
          2,
          2,
          1,
          3,
          2,
          3,
          3,
          1,
          2,
          1,
          3,
          3,
          2,
          1,
          2,
          1,
          2,
          3,
          1,
          1,
          3,
          1,
          2,
          3,
          1,
          1,
          3,
          3,
          2,
          3,
          1,
          1,
          1,
          2,
          3,
          1,
          3,
          2,
          3,
          1,
          3,
          1,
          2,
          3,
          1,
          2,
          1,
          3,
          3,
          2,
          1,
          1,
          3,
          1,
          3,
          1,
          3,
          1,
          1,
          2,
          3,
          1,
          1,
          2,
          1,
          3,
          3,
          3,
          1,
          3,
          2,
          3,
          1,
          3,
          1,
          3,
          2,
          3,
          1,
          2,
          2,
          3,
          2,
          1,
          1,
          3,
          2,
          1,
          2,
          3,
          1,
          2,
          3,
          3,
          1,
          3,
          2,
          1,
          3,
          2,
          1,
          2,
          2,
          3,
          2,
          1,
          2,
          3,
          1,
          2,
          1,
          3,
          1,
          1,
          2,
          3,
          1,
          2,
          3,
          1,
          1,
          3,
          3,
          1,
          1,
          2,
          3,
          1,
          1,
          2,
          1,
          3,
          1,
          3,
          1,
          2,
          3,
          1,
          3,
          2,
          1,
          2,
          3,
          1,
          1,
          2,
          3,
          2,
          1,
          1,
          3,
          3,
          1,
          2,
          1,
          2,
          3,
          2,
          1,
          3,
          2,
          1,
          3,
          1,
          2,
          1,
          3,
          1,
          2,
          3,
          3,
          2,
          3,
          3,
          1,
          3,
          3,
          2,
          1,
          1,
          2,
          1,
          2,
          2,
          1,
          2,
          1,
          3,
          2,
          2,
          1,
          3,
          3,
          1,
          2,
          1,
          2,
          3,
          1,
          2,
          1,
          2,
          1,
          3,
          3,
          1,
          2,
          2,
          1,
          3,
          2,
          1,
          2,
          1,
          3,
          2,
          1,
          3,
          1,
          2,
          2,
          1,
          2,
          3,
          1,
          2,
          3,
          1,
          3,
          3,
          2,
          1,
          3,
          1,
          3,
          3,
          1,
          2,
          3,
          2,
          3,
          1,
          1,
          3,
          3,
          2,
          3,
          1,
          2,
          2,
          2,
          3,
          1,
          1,
          3,
          2,
          1,
          3,
          0,
          0,
          2,
          1,
          1,
          3,
          3,
          1,
          3,
          3,
          3,
          1,
          2,
          3,
          1,
          2,
          2,
          1,
          3,
          3,
          1,
          1,
          2,
          3,
          1,
          3,
          2,
          1,
          1,
          1,
          3,
          2,
          1,
          3,
          3,
          3,
          1,
          1,
          2,
          1,
          2,
          3,
          1,
          2,
          1,
          1,
          3,
          2,
          3,
          1,
          2,
          1,
          1,
          3,
          2,
          1,
          3,
          1,
          2,
          3,
          2,
          2,
          3,
          1,
          2,
          2,
          3,
          2,
          1,
          2,
          3,
          1,
          2,
          2,
          1,
          3,
          3,
          2,
          2,
          1,
          3,
          2,
          3,
          1,
          3,
          2,
          3,
          2,
          3,
          2,
          3,
          2,
          3,
          1,
          2,
          1,
          3,
          3,
          2,
          1,
          1,
          1,
          1,
          2,
          3,
          2,
          2,
          3,
          3,
          1,
          2,
          3,
          1,
          1,
          3,
          1,
          2,
          3,
          2,
          1,
          3,
          1,
          2,
          3,
          1,
          3,
          1,
          2,
          3,
          1,
          2,
          3,
          1,
          0,
          2,
          2,
          3,
          1,
          1,
          2,
          3,
          3,
          2,
          1,
          3,
          2,
          1,
          3,
          2,
          1,
          3,
          2,
          1,
          3,
          1,
          3,
          2,
          1,
          3,
          3,
          2,
          3,
          1,
          3,
          2,
          0,
          2,
          3,
          1,
          3,
          2,
          3,
          2,
          2,
          1,
          1,
          2,
          2,
          3,
          3,
          1,
          1,
          3,
          2,
          2,
          3,
          1,
          1,
          3,
          2,
          1,
          3,
          2,
          3,
          2,
          3,
          1,
          2,
          3,
          2,
          2,
          3,
          2,
          1,
          1,
          3,
          1,
          2,
          1,
          3,
          1,
          2,
          2,
          1,
          3,
          1,
          3,
          2,
          3,
          1,
          3,
          1,
          2,
          2,
          3,
          2,
          3,
          1,
          2,
          3,
          2,
          3,
          1,
          3,
          2,
          3,
          3,
          1,
          2,
          3,
          1,
          2,
          1,
          2,
          1,
          3,
          2,
          1,
          2,
          3,
          1,
          1,
          1,
          3,
          1,
          3,
          2,
          1,
          3,
          3,
          2,
          1,
          3,
          2,
          1,
          3,
          1,
          2,
          3,
          1,
          2,
          1,
          3,
          3,
          3,
          1,
          2,
          1,
          3,
          1,
          1,
          3,
          2,
          1,
          3,
          1,
          2,
          3,
          1,
          2,
          3,
          1,
          2,
          1,
          2,
          1,
          3,
          3,
          3,
          2,
          3,
          2,
          3,
          2,
          1,
          2,
          2,
          1,
          3,
          2,
          2,
          1,
          3,
          2,
          1,
          3,
          2,
          1,
          3,
          3,
          2,
          1,
          3,
          1,
          2,
          3,
          2,
          1,
          3,
          2,
          1,
          2,
          2,
          1,
          3,
          3,
          1,
          1,
          2,
          3,
          1,
          2,
          2,
          1,
          2,
          3,
          1,
          3,
          2,
          1,
          3,
          1,
          2,
          3,
          1,
          1,
          3,
          1,
          2,
          2,
          1,
          3,
          3,
          1,
          3,
          1,
          3,
          2,
          1,
          3,
          1,
          1,
          2,
          3,
          1,
          3,
          1,
          1,
          1,
          1,
          3,
          2,
          3,
          3,
          1,
          2,
          2,
          2,
          1,
          2,
          1,
          3,
          1,
          3,
          2,
          1,
          2,
          3,
          1,
          2,
          0,
          0,
          1,
          3,
          2,
          1,
          2,
          3,
          1,
          2,
          3,
          1,
          3,
          3,
          2,
          1,
          3,
          2,
          1,
          3,
          2,
          1,
          1,
          3,
          1,
          2,
          3,
          1,
          1,
          3,
          3,
          3,
          2,
          1,
          2,
          3,
          1,
          2,
          2,
          2,
          1,
          3,
          1,
          3,
          2,
          1,
          2,
          1,
          3,
          2,
          3,
          2,
          1,
          3,
          2,
          1,
          3,
          1,
          3,
          2,
          3,
          2,
          1,
          1,
          1,
          3,
          1,
          3,
          2,
          1,
          3,
          1,
          3,
          2,
          1,
          1,
          1,
          1,
          2,
          3,
          1,
          3,
          1,
          3,
          2,
          1,
          2,
          1,
          3,
          1,
          2,
          1,
          2,
          2,
          1,
          2,
          1,
          3,
          2,
          2,
          3,
          3,
          2,
          3,
          1,
          2,
          2,
          1,
          2,
          1,
          1,
          2,
          3,
          1,
          1,
          2,
          3,
          1,
          2,
          1,
          2,
          3,
          1,
          3,
          2,
          2,
          2,
          3,
          1,
          1,
          3,
          3,
          2,
          3,
          2,
          3,
          2,
          1,
          2,
          3,
          2,
          1,
          2,
          3,
          2,
          1,
          1,
          3,
          1,
          2,
          3,
          2,
          1,
          1,
          3,
          2,
          1,
          1,
          2,
          2,
          3,
          2,
          3,
          1,
          1,
          1,
          1,
          2,
          3,
          1,
          2,
          3,
          2,
          1,
          2,
          1,
          3,
          3,
          3,
          2,
          1,
          1,
          1,
          3,
          2,
          1,
          3,
          2,
          1,
          3,
          3,
          1,
          2,
          3,
          2,
          2,
          3,
          2,
          1,
          2,
          1,
          3,
          2,
          1,
          1,
          2,
          3,
          3,
          2,
          3,
          2,
          1,
          2,
          1,
          3,
          1,
          2,
          3,
          2,
          1,
          2,
          2,
          1,
          3,
          1,
          3,
          2,
          1,
          3,
          2,
          1,
          3,
          2,
          1,
          3,
          2,
          1,
          1,
          3,
          1,
          3,
          1,
          3,
          2,
          1,
          3,
          2,
          3,
          2,
          2,
          3,
          1,
          2,
          1,
          3,
          0,
          0,
          2,
          3,
          2,
          1,
          3,
          1,
          3,
          3,
          1,
          3,
          2,
          3,
          1,
          3,
          2,
          1,
          3,
          1,
          3,
          2,
          1,
          3,
          1,
          2,
          1,
          1,
          0,
          3,
          2,
          1,
          3,
          3,
          2,
          1,
          3,
          3,
          2,
          2,
          3,
          1,
          1,
          1,
          3,
          2,
          3,
          1,
          2,
          1,
          2,
          3,
          1,
          1,
          2,
          1,
          3,
          2,
          2,
          3,
          3,
          1,
          1,
          3,
          2,
          3,
          1,
          2,
          3,
          3,
          1,
          1,
          3,
          3,
          1,
          3,
          2,
          1,
          1,
          3,
          2,
          3,
          2,
          3,
          1,
          2,
          2,
          1,
          1,
          3,
          3,
          2,
          2,
          1,
          3,
          1,
          2,
          2,
          1,
          1,
          2,
          1,
          1,
          1,
          3,
          2,
          3,
          2,
          3,
          2,
          1,
          1,
          2,
          3,
          1,
          2,
          3,
          1,
          2,
          3,
          1,
          1,
          1,
          2,
          3,
          2,
          1,
          3,
          0,
          1,
          2,
          3,
          3,
          1,
          2,
          3,
          1,
          2,
          2,
          3,
          1,
          3,
          2,
          1,
          3,
          0,
          2,
          3,
          2,
          2,
          1,
          3,
          2,
          3,
          1,
          1,
          3,
          3,
          1,
          3,
          2,
          1,
          3,
          1,
          2,
          3,
          1,
          2,
          3,
          2,
          3,
          1,
          2,
          2,
          3,
          3,
          1,
          2,
          2,
          3,
          1,
          2,
          3,
          1,
          2,
          1,
          3,
          1,
          2,
          1,
          3,
          2,
          1,
          3,
          3,
          1,
          2,
          3,
          3,
          1,
          1,
          3,
          3,
          1,
          3,
          1,
          3,
          2,
          3,
          1,
          2,
          1,
          3,
          2,
          1,
          3,
          2,
          1,
          3,
          3,
          3,
          2,
          3,
          2,
          2,
          3,
          3,
          1,
          3,
          2,
          1,
          3,
          2,
          3,
          1,
          2,
          2,
          3,
          1,
          2,
          1,
          3,
          2,
          1,
          3,
          1,
          3,
          1,
          1,
          2,
          1,
          3,
          2,
          2,
          1,
          3,
          1,
          2,
          3,
          1,
          3,
          2,
          2,
          3,
          2,
          1,
          0,
          1,
          2,
          3,
          2,
          3,
          1,
          1,
          3,
          1,
          2,
          1,
          2,
          3,
          1,
          2,
          2,
          3,
          2,
          2,
          3,
          1,
          3,
          2,
          3,
          2,
          2,
          1,
          2,
          1,
          3,
          1,
          2,
          1,
          2,
          1,
          2,
          1,
          1,
          2,
          3,
          1,
          1,
          2,
          1,
          2,
          3,
          1,
          2,
          1,
          2,
          3,
          1,
          3,
          1,
          2,
          3,
          1,
          2,
          1,
          3,
          2,
          2,
          1,
          2,
          3,
          0,
          0,
          1,
          2,
          2,
          3,
          2,
          1,
          2,
          1,
          3,
          2,
          1,
          3,
          2,
          3,
          1,
          3,
          2,
          1,
          2,
          1,
          1,
          2,
          1,
          2,
          3,
          2,
          1,
          2,
          3,
          2,
          1,
          1,
          3,
          2,
          2,
          3,
          1,
          2,
          2,
          1,
          2,
          1,
          3,
          3,
          3,
          1,
          2,
          1,
          3,
          1,
          1,
          3,
          2,
          2,
          3,
          2,
          1,
          1,
          2,
          3,
          2,
          3,
          3,
          2,
          1,
          1,
          1,
          2,
          3,
          3,
          2,
          1,
          1,
          1,
          2,
          3,
          1,
          2,
          3,
          3,
          1,
          3,
          1,
          2,
          3,
          1,
          2,
          2,
          1,
          1,
          3,
          2,
          1,
          2,
          3,
          1,
          2,
          1,
          3,
          1,
          2,
          3,
          1,
          3,
          2,
          1,
          2,
          1,
          3,
          1,
          3,
          2,
          2,
          1,
          2,
          2,
          3,
          3,
          2,
          3,
          2,
          3,
          1,
          2,
          3,
          2,
          1,
          1,
          3,
          3,
          1,
          2,
          3,
          1,
          2,
          3,
          3,
          1,
          2,
          3,
          2,
          1,
          3,
          2,
          3,
          2,
          2,
          2,
          1,
          2,
          3,
          1,
          2,
          1,
          3,
          3,
          2,
          2,
          3,
          3,
          2,
          1,
          2,
          2,
          1,
          3,
          3,
          1,
          2,
          3,
          1,
          2,
          3,
          3,
          1,
          1,
          3,
          3,
          1,
          2,
          2,
          1,
          2,
          1,
          2,
          3,
          1,
          2,
          3,
          2,
          1,
          2,
          3,
          1,
          3,
          1,
          2,
          3,
          1,
          2,
          2,
          3,
          2,
          1,
          2,
          3,
          2,
          3,
          1,
          2,
          3,
          2,
          2,
          1,
          3,
          3,
          1,
          2,
          3,
          3,
          2,
          3,
          1,
          1,
          2,
          1,
          1,
          3,
          1,
          2,
          1,
          3,
          2,
          1,
          3,
          3,
          2,
          3,
          2,
          3,
          1,
          2,
          3,
          1,
          2,
          3,
          1,
          3,
          2,
          1,
          3,
          1,
          2,
          3,
          2,
          1,
          1,
          1,
          3,
          1,
          2,
          1,
          3,
          2,
          1,
          2,
          1,
          1,
          3,
          1,
          2,
          1,
          3,
          2,
          3,
          3,
          1,
          2,
          3,
          1,
          2,
          1,
          1,
          2,
          3,
          3,
          1,
          3,
          2,
          3,
          1,
          2,
          3,
          1,
          1,
          3,
          2,
          3,
          1,
          2,
          1,
          2,
          1,
          2,
          1,
          3,
          2,
          2,
          3,
          1,
          2,
          3,
          2,
          1,
          1,
          3,
          2,
          1,
          2,
          3,
          1,
          2,
          2,
          1,
          2,
          3,
          1,
          2,
          1,
          1,
          3,
          2,
          0,
          3,
          2,
          1,
          2,
          1,
          3,
          2,
          3,
          2,
          2,
          1,
          3,
          2,
          1,
          2,
          3,
          1,
          1,
          1,
          1,
          2,
          2,
          1,
          2,
          3,
          1,
          3,
          2,
          3,
          2,
          1,
          3,
          2,
          2,
          3,
          3,
          1,
          2,
          1,
          3,
          3,
          1,
          1,
          1,
          2,
          3,
          3,
          1,
          2,
          3,
          1,
          3,
          2,
          1,
          3,
          3,
          1,
          3,
          2,
          1,
          1,
          3,
          1,
          1,
          1,
          3,
          1,
          2,
          3,
          2,
          2,
          1,
          2,
          1,
          3,
          2,
          1,
          3,
          3,
          3,
          1,
          2,
          3,
          3,
          3,
          2,
          2,
          3,
          3,
          3,
          3,
          3,
          3,
          3,
          3,
          3,
          1,
          3,
          3,
          3,
          3,
          1,
          2,
          2,
          3,
          2,
          1,
          3,
          1,
          1,
          2,
          2,
          3,
          3,
          1,
          3,
          3,
          1,
          0,
          2,
          1,
          2,
          1,
          2,
          2,
          3,
          1,
          2,
          1,
          2,
          1,
          2,
          1,
          3,
          1,
          3,
          1,
          2,
          1,
          3,
          2,
          1,
          1,
          3,
          2,
          1,
          3,
          1,
          2,
          2,
          1,
          0,
          1,
          2,
          1,
          3,
          2,
          2,
          3,
          1,
          2,
          3,
          1,
          3,
          2,
          2,
          2,
          1,
          1,
          2,
          2,
          1,
          2,
          1,
          3,
          1,
          1,
          2,
          3,
          2,
          1,
          3,
          1,
          3,
          2,
          1,
          3,
          1,
          2,
          3,
          2,
          1,
          1,
          2,
          1,
          2,
          3,
          3,
          1,
          3,
          3,
          1,
          2,
          2,
          2,
          3,
          2,
          1,
          3,
          1,
          2,
          3,
          1,
          1,
          3,
          2,
          1,
          3,
          2,
          3,
          2,
          3,
          1,
          1,
          2,
          3,
          1,
          1,
          3,
          2,
          1,
          3,
          2,
          2,
          0,
          1,
          2,
          1,
          3,
          3,
          2,
          2,
          2,
          1,
          1,
          1,
          3,
          2,
          3,
          2,
          1,
          1,
          2,
          3,
          1,
          3,
          3,
          2,
          1,
          2,
          1,
          3,
          2,
          2,
          1,
          3,
          2,
          1,
          3,
          3,
          3,
          1,
          3,
          2,
          3,
          2,
          1,
          3,
          2,
          1,
          3,
          2,
          3,
          3,
          2,
          1,
          3,
          2,
          3,
          1,
          1,
          3,
          1,
          2,
          1,
          3,
          1,
          1,
          2,
          1,
          3,
          3,
          1,
          2,
          3,
          1,
          2,
          3,
          1,
          2,
          3,
          1,
          1,
          1,
          2,
          1,
          2,
          3,
          1,
          2,
          3,
          3,
          1,
          2,
          3,
          1,
          2,
          3,
          1,
          3,
          3,
          1,
          1,
          2,
          3,
          1,
          2,
          2,
          3,
          2,
          1,
          3,
          1,
          2,
          3,
          3,
          2,
          1,
          3,
          2,
          3,
          1,
          2,
          1,
          3,
          2,
          2,
          3,
          1,
          2,
          3,
          1,
          3,
          1,
          1,
          3,
          2,
          1,
          2,
          1,
          2,
          3,
          2,
          1,
          1,
          3,
          2,
          1,
          3,
          2,
          3,
          1,
          3,
          2,
          1,
          2,
          3,
          1,
          2,
          1,
          1,
          2,
          3,
          2,
          3,
          1,
          3,
          1,
          1,
          2,
          3,
          3,
          2,
          1,
          1,
          1,
          2,
          1,
          3,
          1,
          2,
          3,
          1,
          2,
          1,
          3,
          2,
          1,
          2,
          3,
          3,
          1,
          1,
          3,
          2,
          3,
          1,
          1,
          2,
          3,
          2,
          1,
          2,
          3,
          3,
          1,
          2,
          2,
          1,
          2,
          1,
          1,
          3,
          1,
          2,
          1,
          3,
          2,
          2,
          3,
          2,
          1,
          3,
          2,
          2,
          3,
          2,
          1,
          2,
          2,
          3,
          1,
          3,
          1,
          2,
          3,
          2,
          3,
          3,
          1,
          2,
          1,
          1,
          2,
          1,
          2,
          1,
          3,
          2
         ],
         "y": [
          32,
          17,
          65,
          25,
          30,
          25,
          67,
          12,
          22,
          32,
          11,
          14,
          9,
          34,
          11,
          6,
          24,
          25,
          40,
          35,
          12,
          15,
          15,
          25,
          67,
          16,
          22,
          21,
          12,
          13,
          33,
          27,
          41,
          24,
          71,
          33,
          66,
          25,
          40,
          17,
          27,
          30,
          41,
          50,
          44,
          124,
          15,
          69,
          55,
          15,
          80,
          30,
          53,
          38,
          34,
          78,
          70,
          53,
          57,
          78,
          47,
          39,
          28,
          13,
          97,
          41,
          32,
          22,
          56,
          14,
          19,
          26,
          35,
          19,
          36,
          56,
          20,
          18,
          9,
          11,
          15,
          49,
          34,
          28,
          21,
          60,
          15,
          14,
          18,
          23,
          28,
          36,
          73,
          32,
          37,
          26,
          14,
          27,
          46,
          28,
          11,
          10,
          56,
          51,
          29,
          29,
          85,
          188,
          40,
          38,
          52,
          24,
          31,
          36,
          17,
          13,
          142,
          58,
          67,
          73,
          52,
          60,
          10,
          61,
          26,
          74,
          42,
          17,
          38,
          16,
          10,
          54,
          97,
          32,
          50,
          81,
          117,
          102,
          22,
          34,
          51,
          55,
          -98,
          67,
          42,
          30,
          117,
          36,
          68,
          57,
          61,
          39,
          34,
          28,
          34,
          72,
          32,
          16,
          19,
          13,
          41,
          48,
          6,
          21,
          29,
          10,
          5,
          25,
          34,
          27,
          51,
          22,
          107,
          81,
          27,
          66,
          48,
          21,
          43,
          29,
          65,
          25,
          16,
          34,
          33,
          22,
          32,
          29,
          37,
          -1411,
          29,
          764,
          22,
          19,
          28,
          26,
          72,
          63,
          22,
          50,
          27,
          51,
          39,
          32,
          34,
          51,
          32,
          51,
          25,
          44,
          53,
          130,
          53,
          50,
          42,
          45,
          77,
          46,
          73,
          21,
          24,
          87,
          89,
          67,
          52,
          127,
          242,
          72,
          34,
          54,
          29,
          65,
          60,
          49,
          39,
          30,
          29,
          25,
          -1279,
          32,
          -1360,
          27,
          -1414,
          25,
          42,
          18,
          207,
          16,
          48,
          97,
          17,
          74,
          79,
          64,
          50,
          30,
          54,
          71,
          56,
          68,
          56,
          31,
          65,
          18,
          57,
          63,
          44,
          24,
          68,
          13,
          30,
          75,
          12,
          37,
          81,
          103,
          39,
          30,
          81,
          30,
          66,
          23,
          95,
          25,
          76,
          85,
          55,
          15,
          41,
          44,
          48,
          31,
          44,
          54,
          26,
          35,
          15,
          66,
          16,
          51,
          19,
          108,
          53,
          19,
          32,
          46,
          53,
          64,
          52,
          35,
          39,
          25,
          38,
          84,
          17,
          15,
          37,
          55,
          25,
          38,
          76,
          21,
          59,
          29,
          32,
          43,
          22,
          40,
          30,
          26,
          30,
          45,
          38,
          70,
          82,
          71,
          17,
          29,
          122,
          25,
          54,
          31,
          34,
          25,
          37,
          31,
          38,
          32,
          34,
          54,
          25,
          59,
          16,
          10,
          35,
          29,
          13,
          39,
          16,
          40,
          21,
          14,
          69,
          31,
          31,
          61,
          73,
          45,
          21,
          15,
          47,
          43,
          31,
          26,
          63,
          62,
          60,
          18,
          40,
          51,
          32,
          13,
          18,
          -1409,
          813,
          769,
          20,
          27,
          92,
          21,
          40,
          38,
          67,
          121,
          46,
          67,
          14,
          86,
          66,
          32,
          49,
          33,
          42,
          31,
          72,
          54,
          31,
          8,
          19,
          32,
          26,
          56,
          35,
          75,
          34,
          39,
          47,
          45,
          52,
          13,
          35,
          63,
          45,
          25,
          22,
          26,
          43,
          60,
          20,
          12,
          45,
          53,
          25,
          64,
          16,
          51,
          49,
          39,
          57,
          21,
          90,
          15,
          41,
          31,
          67,
          40,
          36,
          19,
          17,
          44,
          43,
          121,
          50,
          36,
          89,
          13,
          24,
          66,
          82,
          15,
          17,
          25,
          27,
          36,
          104,
          47,
          82,
          53,
          42,
          31,
          32,
          42,
          60,
          49,
          71,
          47,
          24,
          72,
          49,
          44,
          39,
          22,
          36,
          36,
          41,
          45,
          5,
          41,
          67,
          56,
          23,
          31,
          108,
          67,
          38,
          26,
          21,
          84,
          66,
          48,
          50,
          17,
          38,
          67,
          30,
          43,
          89,
          128,
          37,
          22,
          100,
          73,
          47,
          45,
          63,
          36,
          75,
          48,
          47,
          106,
          69,
          15,
          39,
          30,
          40,
          22,
          39,
          112,
          15,
          29,
          17,
          86,
          61,
          23,
          35,
          43,
          70,
          10,
          19,
          12,
          67,
          32,
          35,
          5,
          37,
          38,
          58,
          26,
          38,
          32,
          30,
          25,
          16,
          37,
          24,
          67,
          24,
          17,
          46,
          22,
          14,
          28,
          32,
          77,
          63,
          72,
          19,
          107,
          88,
          89,
          48,
          72,
          12,
          79,
          47,
          48,
          62,
          17,
          20,
          34,
          50,
          37,
          8,
          22,
          16,
          28,
          48,
          65,
          47,
          32,
          22,
          -214,
          22,
          103,
          39,
          49,
          114,
          76,
          8,
          30,
          34,
          29,
          27,
          61,
          29,
          29,
          93,
          6,
          46,
          58,
          120,
          37,
          39,
          36,
          71,
          31,
          66,
          19,
          108,
          35,
          20,
          126,
          82,
          49,
          64,
          30,
          67,
          32,
          38,
          46,
          -1388,
          -1402,
          21,
          39,
          112,
          37,
          37,
          60,
          91,
          29,
          31,
          26,
          22,
          32,
          53,
          41,
          10,
          103,
          35,
          68,
          63,
          45,
          57,
          12,
          -1404,
          47,
          97,
          30,
          78,
          131,
          8,
          31,
          53,
          21,
          14,
          40,
          53,
          36,
          27,
          29,
          28,
          53,
          23,
          48,
          57,
          35,
          31,
          31,
          25,
          47,
          64,
          54,
          72,
          43,
          26,
          61,
          31,
          40,
          25,
          128,
          48,
          10,
          34,
          25,
          39,
          23,
          46,
          85,
          56,
          65,
          22,
          68,
          36,
          72,
          58,
          17,
          79,
          22,
          41,
          23,
          35,
          59,
          100,
          26,
          41,
          17,
          40,
          36,
          70,
          80,
          21,
          35,
          57,
          17,
          48,
          66,
          47,
          46,
          40,
          23,
          63,
          45,
          80,
          20,
          36,
          101,
          25,
          48,
          54,
          24,
          22,
          19,
          46,
          73,
          162,
          38,
          58,
          30,
          20,
          53,
          116,
          29,
          53,
          136,
          34,
          40,
          29,
          51,
          10,
          24,
          52,
          65,
          15,
          38,
          39,
          36,
          37,
          27,
          53,
          36,
          45,
          22,
          52,
          15,
          23,
          51,
          17,
          19,
          51,
          48,
          87,
          68,
          40,
          21,
          138,
          83,
          20,
          30,
          15,
          138,
          25,
          49,
          12,
          98,
          34,
          38,
          15,
          59,
          75,
          26,
          45,
          26,
          22,
          21,
          38,
          36,
          44,
          106,
          48,
          92,
          44,
          39,
          53,
          97,
          126,
          55,
          59,
          83,
          103,
          60,
          24,
          -1418,
          44,
          18,
          0,
          50,
          29,
          14,
          79,
          35,
          59,
          36,
          50,
          34,
          24,
          79,
          59,
          38,
          31,
          33,
          18,
          13,
          0,
          35,
          41,
          22,
          37,
          48,
          6,
          158,
          33,
          60,
          40,
          48,
          22,
          37,
          31,
          50,
          42,
          48,
          38,
          42,
          30,
          15,
          37,
          29,
          113,
          17,
          63,
          29,
          39,
          23,
          11,
          25,
          37,
          22,
          59,
          46,
          33,
          18,
          22,
          26,
          11,
          135,
          36,
          67,
          16,
          36,
          45,
          56,
          11,
          23,
          65,
          107,
          30,
          13,
          52,
          37,
          34,
          83,
          71,
          54,
          88,
          34,
          70,
          35,
          31,
          -1381,
          22,
          12,
          758,
          750,
          42,
          68,
          153,
          41,
          34,
          71,
          25,
          156,
          66,
          170,
          68,
          37,
          37,
          22,
          124,
          34,
          35,
          132,
          19,
          39,
          84,
          73,
          48,
          252,
          120,
          75,
          35,
          41,
          59,
          90,
          141,
          76,
          103,
          63,
          20,
          14,
          24,
          48,
          78,
          44,
          32,
          48,
          43,
          72,
          50,
          54,
          45,
          53,
          24,
          58,
          16,
          85,
          23,
          63,
          40,
          12,
          11,
          27,
          69,
          84,
          15,
          33,
          56,
          44,
          22,
          92,
          65,
          19,
          23,
          72,
          35,
          39,
          24,
          66,
          20,
          40,
          12,
          21,
          39,
          13,
          28,
          22,
          49,
          22,
          54,
          11,
          16,
          35,
          36,
          35,
          24,
          43,
          39,
          16,
          14,
          36,
          27,
          38,
          92,
          13,
          49,
          16,
          35,
          108,
          53,
          30,
          69,
          89,
          74,
          23,
          24,
          37,
          43,
          17,
          154,
          36,
          31,
          33,
          40,
          79,
          26,
          66,
          11,
          72,
          27,
          35,
          27,
          41,
          41,
          24,
          19,
          62,
          28,
          19,
          48,
          10,
          7,
          33,
          29,
          38,
          74,
          73,
          32,
          59,
          34,
          25,
          59,
          20,
          22,
          46,
          52,
          51,
          5,
          45,
          53,
          44,
          41,
          53,
          137,
          41,
          15,
          14,
          48,
          46,
          94,
          24,
          39,
          59,
          62,
          41,
          60,
          24,
          52,
          39,
          50,
          30,
          30,
          44,
          64,
          48,
          21,
          78,
          35,
          35,
          53,
          32,
          183,
          21,
          87,
          28,
          43,
          82,
          85,
          54,
          72,
          26,
          32,
          17,
          31,
          37,
          216,
          90,
          15,
          208,
          29,
          53,
          52,
          46,
          31,
          29,
          181,
          79,
          56,
          31,
          27,
          63,
          65,
          32,
          29,
          36,
          34,
          45,
          56,
          69,
          43,
          30,
          26,
          35,
          37,
          19,
          46,
          57,
          104,
          30,
          51,
          104,
          56,
          41,
          41,
          55,
          25,
          30,
          50,
          89,
          59,
          44,
          34,
          61,
          33,
          22,
          26,
          32,
          24,
          51,
          44,
          28,
          23,
          51,
          99,
          31,
          50,
          113,
          48,
          118,
          31,
          47,
          37,
          37,
          18,
          22,
          55,
          47,
          40,
          15,
          17,
          37,
          41,
          72,
          142,
          56,
          27,
          45,
          25,
          48,
          35,
          18,
          23,
          55,
          14,
          57,
          41,
          63,
          38,
          29,
          32,
          18,
          67,
          75,
          35,
          14,
          37,
          131,
          68,
          62,
          127,
          9,
          15,
          47,
          64,
          55,
          61,
          36,
          89,
          46,
          98,
          26,
          81,
          77,
          99,
          59,
          35,
          26,
          65,
          71,
          37,
          43,
          94,
          15,
          48,
          20,
          37,
          27,
          41,
          40,
          24,
          19,
          39,
          34,
          16,
          6,
          25,
          50,
          37,
          53,
          24,
          26,
          54,
          36,
          46,
          87,
          104,
          28,
          12,
          85,
          102,
          33,
          16,
          43,
          79,
          63,
          55,
          73,
          54,
          27,
          31,
          60,
          175,
          48,
          64,
          19,
          41,
          37,
          23,
          22,
          57,
          59,
          55,
          24,
          29,
          113,
          69,
          26,
          19,
          29,
          54,
          11,
          51,
          30,
          23,
          65,
          54,
          18,
          37,
          11,
          59,
          29,
          36,
          42,
          33,
          32,
          26,
          55,
          29,
          29,
          105,
          95,
          50,
          39,
          22,
          54,
          123,
          29,
          56,
          68,
          32,
          26,
          38,
          51,
          29,
          142,
          51,
          60,
          33,
          17,
          57,
          66,
          37,
          53,
          159,
          24,
          19,
          8,
          22,
          49,
          89,
          27,
          75,
          39,
          41,
          22,
          9,
          38,
          19,
          38,
          35,
          31,
          54,
          27,
          49,
          14,
          24,
          54,
          36,
          130,
          40,
          106,
          43,
          77,
          15,
          58,
          34,
          65,
          20,
          21,
          70,
          57,
          23,
          29,
          13,
          112,
          97,
          18,
          56,
          29,
          16,
          64,
          66,
          14,
          26,
          39,
          40,
          51,
          16,
          69,
          16,
          61,
          30,
          54,
          24,
          44,
          22,
          29,
          49,
          32,
          40,
          30,
          51,
          30,
          22,
          33,
          17,
          44,
          13,
          31,
          69,
          46,
          79,
          4,
          54,
          31,
          37,
          59,
          76,
          23,
          64,
          24,
          37,
          29,
          21,
          28,
          51,
          30,
          94,
          13,
          193,
          44,
          29,
          46,
          47,
          17,
          77,
          8,
          25,
          129,
          25,
          19,
          41,
          24,
          41,
          219,
          30,
          35,
          27,
          25,
          18,
          61,
          41,
          16,
          25,
          128,
          44,
          45,
          33,
          15,
          7,
          97,
          28,
          23,
          13,
          103,
          102,
          25,
          130,
          65,
          42,
          20,
          80,
          15,
          48,
          42,
          36,
          32,
          37,
          75,
          27,
          27,
          25,
          25,
          17,
          26,
          16,
          65,
          140,
          26,
          31,
          43,
          30,
          27,
          59,
          54,
          72,
          57,
          24,
          42,
          34,
          59,
          32,
          40,
          38,
          57,
          74,
          62,
          27,
          25,
          33,
          45,
          101,
          26,
          66,
          41,
          21,
          58,
          89,
          41,
          150,
          114,
          147,
          39,
          45,
          30,
          76,
          88,
          42,
          2,
          52,
          32,
          25,
          24,
          26,
          15,
          31,
          10,
          18,
          23,
          25,
          40,
          19,
          40,
          26,
          24,
          47,
          35,
          58,
          57,
          38,
          38,
          12,
          323,
          27,
          17,
          153,
          106,
          42,
          26,
          53,
          59,
          47,
          48,
          23,
          59,
          74,
          113,
          53,
          29,
          31,
          43,
          60,
          46,
          27,
          34,
          42,
          86,
          78,
          43,
          36,
          49,
          87,
          14,
          46,
          17,
          15,
          48,
          23,
          46,
          34,
          43,
          103,
          94,
          66,
          88,
          30,
          21,
          38,
          80,
          36,
          44,
          24,
          61,
          46,
          26,
          51,
          13,
          16,
          30,
          52,
          29,
          20,
          24,
          45,
          113,
          188,
          29,
          89,
          48,
          18,
          63,
          48,
          77,
          30,
          23,
          23,
          14,
          39,
          25,
          68,
          29,
          71,
          34,
          44,
          76,
          71,
          85,
          56,
          16,
          20,
          108,
          161,
          56,
          64,
          53,
          54,
          21,
          116,
          67,
          85,
          46,
          33,
          40,
          27,
          26,
          39,
          42,
          75,
          32,
          45,
          113,
          121,
          65,
          43,
          51,
          22,
          54,
          15,
          10,
          102,
          19,
          66,
          134,
          10,
          63,
          65,
          16,
          30,
          30,
          48,
          49,
          88,
          49,
          28,
          182,
          28,
          27,
          82,
          31,
          54,
          50,
          54,
          19,
          60,
          47,
          65,
          26,
          64,
          19,
          8,
          48,
          52,
          34,
          41,
          79,
          46,
          11,
          31,
          20,
          50,
          52,
          50,
          34,
          75,
          35,
          85,
          33,
          17,
          56,
          80,
          58,
          12,
          37,
          48,
          15,
          38,
          144,
          39,
          4,
          69,
          34,
          63,
          32,
          16,
          15,
          46,
          28,
          15,
          59,
          38,
          33,
          20,
          71,
          6,
          8,
          17,
          42,
          29,
          40,
          21,
          59,
          58,
          19,
          39,
          36,
          32,
          37,
          50,
          26,
          49,
          30,
          36,
          65,
          55,
          27,
          54,
          39,
          40,
          41,
          33,
          19,
          49,
          51,
          60,
          54,
          163,
          59,
          36,
          88,
          88,
          12,
          29,
          161,
          13,
          51,
          33,
          27,
          46,
          54,
          46,
          64,
          42,
          68,
          40,
          33,
          30,
          36,
          9,
          35,
          40,
          45,
          49,
          87,
          73,
          58,
          34,
          74,
          40,
          53,
          37,
          178,
          29,
          21,
          107,
          35,
          30,
          58,
          21,
          50,
          120,
          27,
          70,
          132,
          25,
          34,
          4,
          24,
          26,
          78,
          14,
          72,
          32,
          24,
          28,
          19,
          42,
          53,
          58,
          56,
          132,
          32,
          16,
          113,
          51,
          34,
          27,
          98,
          46,
          21,
          33,
          49,
          29,
          64,
          32,
          59,
          62,
          39,
          28,
          60,
          58,
          45,
          35,
          15,
          21,
          51,
          44,
          40,
          14,
          25,
          47,
          85,
          31,
          87,
          16,
          32,
          42,
          65,
          106,
          46,
          68,
          13,
          66,
          23,
          24,
          22,
          127,
          34,
          37,
          69,
          115,
          63,
          46,
          27,
          74,
          36,
          25,
          41,
          42,
          89,
          66,
          29,
          46,
          22,
          12,
          18,
          24,
          33,
          53,
          36,
          40,
          46,
          45,
          51,
          60,
          37,
          48,
          26,
          41,
          37,
          39,
          -1371,
          66,
          -1385,
          97,
          20,
          29,
          37,
          108,
          45,
          32,
          82,
          182,
          82,
          68,
          52,
          40,
          53,
          38,
          45,
          37,
          31,
          32,
          22,
          37,
          37,
          23,
          20,
          76,
          38,
          57,
          21,
          87,
          95,
          34,
          60,
          47,
          43,
          72,
          55,
          8,
          39,
          38,
          42,
          45,
          38,
          20,
          158,
          29,
          28,
          28,
          29,
          31,
          20,
          108,
          42,
          25,
          44,
          34,
          87,
          52,
          32,
          24,
          41,
          23,
          37,
          61,
          82,
          54,
          132,
          97,
          55,
          17,
          88,
          51,
          28,
          29,
          25,
          13,
          94,
          36,
          31,
          40,
          33,
          47,
          57,
          35,
          91,
          51,
          46,
          76,
          25,
          79,
          89,
          76,
          55,
          82,
          81,
          188,
          20,
          5,
          48,
          40,
          20,
          24,
          47,
          61,
          36,
          42,
          9,
          33,
          24,
          51,
          73,
          44,
          27,
          22,
          17,
          61,
          39,
          148,
          95,
          31,
          86,
          9,
          21,
          49,
          40,
          29,
          95,
          156,
          33,
          34,
          25,
          54,
          138,
          93,
          37,
          30,
          92,
          28,
          89,
          9,
          31,
          47,
          63,
          28,
          67,
          33,
          116,
          18,
          163,
          44,
          44,
          56,
          55,
          48,
          31,
          50,
          56,
          13,
          25,
          59,
          200,
          110,
          41,
          33,
          18,
          26,
          59,
          296,
          85,
          76,
          42,
          32,
          66,
          54,
          36,
          43,
          30,
          21,
          17,
          40,
          115,
          99,
          27,
          58,
          10,
          148,
          32,
          81,
          16,
          81,
          13,
          266,
          26,
          46,
          58,
          5,
          167,
          160,
          51,
          27,
          54,
          39,
          46,
          47,
          18,
          60,
          30,
          21,
          48,
          57,
          49,
          348,
          330,
          336,
          50,
          54,
          8,
          18,
          17,
          27,
          68,
          44,
          30,
          27,
          35,
          66,
          160,
          58,
          37,
          39,
          4,
          38,
          20,
          75,
          87,
          66,
          22,
          35,
          40,
          62,
          71,
          11,
          36,
          175,
          27,
          45,
          46,
          30,
          70,
          17,
          41,
          62,
          64,
          31,
          69,
          43,
          97,
          102,
          28,
          50,
          9,
          26,
          59,
          63,
          52,
          34,
          59,
          224,
          44,
          105,
          64,
          51,
          -1407,
          10,
          802,
          47,
          28,
          30,
          40,
          52,
          94,
          122,
          17,
          26,
          38,
          41,
          47,
          34,
          51,
          30,
          34,
          33,
          33,
          28,
          39,
          65,
          82,
          51,
          19,
          2,
          53,
          69,
          22,
          32,
          97,
          32,
          9,
          85,
          66,
          40,
          107,
          169,
          34,
          111,
          67,
          30,
          88,
          124,
          21,
          66,
          13,
          53,
          42,
          41,
          40,
          82,
          41,
          38,
          38,
          24,
          35,
          50,
          78,
          42,
          35,
          54,
          88,
          48,
          28,
          17,
          19,
          32,
          14,
          32,
          36,
          27,
          166,
          148,
          46,
          46,
          30,
          160,
          134,
          6,
          81,
          86,
          50,
          36,
          60,
          211,
          60,
          56,
          33,
          83,
          71,
          50,
          36,
          84,
          22,
          10,
          92,
          49,
          37,
          17,
          40,
          64,
          48,
          38,
          36,
          17,
          34,
          26,
          58,
          52,
          121,
          79,
          95,
          29,
          15,
          46,
          43,
          33,
          38,
          14,
          17,
          25,
          25,
          35,
          90,
          93,
          49,
          24,
          52,
          42,
          26,
          68,
          47,
          99,
          34,
          33,
          43,
          31,
          54,
          20,
          78,
          121,
          26,
          35,
          38,
          53,
          27,
          23,
          68,
          63,
          56,
          47,
          33,
          58,
          24,
          30,
          25,
          17,
          36,
          95,
          67,
          36,
          38,
          7,
          36,
          54,
          25,
          14,
          21,
          60,
          40,
          138,
          35,
          26,
          48,
          52,
          29,
          38,
          34,
          30,
          51,
          34,
          56,
          110,
          53,
          67,
          51,
          14,
          126,
          64,
          45,
          46,
          21,
          45,
          33,
          21,
          28,
          25,
          10,
          69,
          41,
          42,
          42,
          45,
          33,
          33,
          18,
          33,
          27,
          23,
          24,
          22,
          74,
          15,
          16,
          72,
          62,
          45,
          7,
          32,
          47,
          19,
          46,
          81,
          82,
          44,
          37,
          70,
          766,
          755,
          42,
          45,
          39,
          21,
          44,
          68,
          34,
          69,
          58,
          45,
          202,
          183,
          54,
          112,
          69,
          22,
          20,
          21,
          44,
          72,
          47,
          90,
          26,
          24,
          38,
          13,
          29,
          115,
          39,
          37,
          21,
          64,
          17,
          47,
          27,
          5,
          11,
          26,
          42,
          33,
          83,
          44,
          36,
          34,
          18,
          61,
          51,
          39,
          11,
          8,
          39,
          14,
          761,
          24,
          74
         ]
        }
       ],
       "layout": {
        "boxmode": "overlay",
        "font": {
         "color": "black",
         "family": "Droid Serif"
        },
        "height": 400,
        "hoverlabel": {
         "bgcolor": "black",
         "font": {
          "color": "white"
         }
        },
        "legend": {
         "tracegroupgap": 0
        },
        "paper_bgcolor": "white",
        "plot_bgcolor": "white",
        "showlegend": false,
        "template": {
         "data": {
          "bar": [
           {
            "error_x": {
             "color": "#2a3f5f"
            },
            "error_y": {
             "color": "#2a3f5f"
            },
            "marker": {
             "line": {
              "color": "#E5ECF6",
              "width": 0.5
             },
             "pattern": {
              "fillmode": "overlay",
              "size": 10,
              "solidity": 0.2
             }
            },
            "type": "bar"
           }
          ],
          "barpolar": [
           {
            "marker": {
             "line": {
              "color": "#E5ECF6",
              "width": 0.5
             },
             "pattern": {
              "fillmode": "overlay",
              "size": 10,
              "solidity": 0.2
             }
            },
            "type": "barpolar"
           }
          ],
          "carpet": [
           {
            "aaxis": {
             "endlinecolor": "#2a3f5f",
             "gridcolor": "white",
             "linecolor": "white",
             "minorgridcolor": "white",
             "startlinecolor": "#2a3f5f"
            },
            "baxis": {
             "endlinecolor": "#2a3f5f",
             "gridcolor": "white",
             "linecolor": "white",
             "minorgridcolor": "white",
             "startlinecolor": "#2a3f5f"
            },
            "type": "carpet"
           }
          ],
          "choropleth": [
           {
            "colorbar": {
             "outlinewidth": 0,
             "ticks": ""
            },
            "type": "choropleth"
           }
          ],
          "contour": [
           {
            "colorbar": {
             "outlinewidth": 0,
             "ticks": ""
            },
            "colorscale": [
             [
              0,
              "#0d0887"
             ],
             [
              0.1111111111111111,
              "#46039f"
             ],
             [
              0.2222222222222222,
              "#7201a8"
             ],
             [
              0.3333333333333333,
              "#9c179e"
             ],
             [
              0.4444444444444444,
              "#bd3786"
             ],
             [
              0.5555555555555556,
              "#d8576b"
             ],
             [
              0.6666666666666666,
              "#ed7953"
             ],
             [
              0.7777777777777778,
              "#fb9f3a"
             ],
             [
              0.8888888888888888,
              "#fdca26"
             ],
             [
              1,
              "#f0f921"
             ]
            ],
            "type": "contour"
           }
          ],
          "contourcarpet": [
           {
            "colorbar": {
             "outlinewidth": 0,
             "ticks": ""
            },
            "type": "contourcarpet"
           }
          ],
          "heatmap": [
           {
            "colorbar": {
             "outlinewidth": 0,
             "ticks": ""
            },
            "colorscale": [
             [
              0,
              "#0d0887"
             ],
             [
              0.1111111111111111,
              "#46039f"
             ],
             [
              0.2222222222222222,
              "#7201a8"
             ],
             [
              0.3333333333333333,
              "#9c179e"
             ],
             [
              0.4444444444444444,
              "#bd3786"
             ],
             [
              0.5555555555555556,
              "#d8576b"
             ],
             [
              0.6666666666666666,
              "#ed7953"
             ],
             [
              0.7777777777777778,
              "#fb9f3a"
             ],
             [
              0.8888888888888888,
              "#fdca26"
             ],
             [
              1,
              "#f0f921"
             ]
            ],
            "type": "heatmap"
           }
          ],
          "heatmapgl": [
           {
            "colorbar": {
             "outlinewidth": 0,
             "ticks": ""
            },
            "colorscale": [
             [
              0,
              "#0d0887"
             ],
             [
              0.1111111111111111,
              "#46039f"
             ],
             [
              0.2222222222222222,
              "#7201a8"
             ],
             [
              0.3333333333333333,
              "#9c179e"
             ],
             [
              0.4444444444444444,
              "#bd3786"
             ],
             [
              0.5555555555555556,
              "#d8576b"
             ],
             [
              0.6666666666666666,
              "#ed7953"
             ],
             [
              0.7777777777777778,
              "#fb9f3a"
             ],
             [
              0.8888888888888888,
              "#fdca26"
             ],
             [
              1,
              "#f0f921"
             ]
            ],
            "type": "heatmapgl"
           }
          ],
          "histogram": [
           {
            "marker": {
             "pattern": {
              "fillmode": "overlay",
              "size": 10,
              "solidity": 0.2
             }
            },
            "type": "histogram"
           }
          ],
          "histogram2d": [
           {
            "colorbar": {
             "outlinewidth": 0,
             "ticks": ""
            },
            "colorscale": [
             [
              0,
              "#0d0887"
             ],
             [
              0.1111111111111111,
              "#46039f"
             ],
             [
              0.2222222222222222,
              "#7201a8"
             ],
             [
              0.3333333333333333,
              "#9c179e"
             ],
             [
              0.4444444444444444,
              "#bd3786"
             ],
             [
              0.5555555555555556,
              "#d8576b"
             ],
             [
              0.6666666666666666,
              "#ed7953"
             ],
             [
              0.7777777777777778,
              "#fb9f3a"
             ],
             [
              0.8888888888888888,
              "#fdca26"
             ],
             [
              1,
              "#f0f921"
             ]
            ],
            "type": "histogram2d"
           }
          ],
          "histogram2dcontour": [
           {
            "colorbar": {
             "outlinewidth": 0,
             "ticks": ""
            },
            "colorscale": [
             [
              0,
              "#0d0887"
             ],
             [
              0.1111111111111111,
              "#46039f"
             ],
             [
              0.2222222222222222,
              "#7201a8"
             ],
             [
              0.3333333333333333,
              "#9c179e"
             ],
             [
              0.4444444444444444,
              "#bd3786"
             ],
             [
              0.5555555555555556,
              "#d8576b"
             ],
             [
              0.6666666666666666,
              "#ed7953"
             ],
             [
              0.7777777777777778,
              "#fb9f3a"
             ],
             [
              0.8888888888888888,
              "#fdca26"
             ],
             [
              1,
              "#f0f921"
             ]
            ],
            "type": "histogram2dcontour"
           }
          ],
          "mesh3d": [
           {
            "colorbar": {
             "outlinewidth": 0,
             "ticks": ""
            },
            "type": "mesh3d"
           }
          ],
          "parcoords": [
           {
            "line": {
             "colorbar": {
              "outlinewidth": 0,
              "ticks": ""
             }
            },
            "type": "parcoords"
           }
          ],
          "pie": [
           {
            "automargin": true,
            "type": "pie"
           }
          ],
          "scatter": [
           {
            "fillpattern": {
             "fillmode": "overlay",
             "size": 10,
             "solidity": 0.2
            },
            "type": "scatter"
           }
          ],
          "scatter3d": [
           {
            "line": {
             "colorbar": {
              "outlinewidth": 0,
              "ticks": ""
             }
            },
            "marker": {
             "colorbar": {
              "outlinewidth": 0,
              "ticks": ""
             }
            },
            "type": "scatter3d"
           }
          ],
          "scattercarpet": [
           {
            "marker": {
             "colorbar": {
              "outlinewidth": 0,
              "ticks": ""
             }
            },
            "type": "scattercarpet"
           }
          ],
          "scattergeo": [
           {
            "marker": {
             "colorbar": {
              "outlinewidth": 0,
              "ticks": ""
             }
            },
            "type": "scattergeo"
           }
          ],
          "scattergl": [
           {
            "marker": {
             "colorbar": {
              "outlinewidth": 0,
              "ticks": ""
             }
            },
            "type": "scattergl"
           }
          ],
          "scattermapbox": [
           {
            "marker": {
             "colorbar": {
              "outlinewidth": 0,
              "ticks": ""
             }
            },
            "type": "scattermapbox"
           }
          ],
          "scatterpolar": [
           {
            "marker": {
             "colorbar": {
              "outlinewidth": 0,
              "ticks": ""
             }
            },
            "type": "scatterpolar"
           }
          ],
          "scatterpolargl": [
           {
            "marker": {
             "colorbar": {
              "outlinewidth": 0,
              "ticks": ""
             }
            },
            "type": "scatterpolargl"
           }
          ],
          "scatterternary": [
           {
            "marker": {
             "colorbar": {
              "outlinewidth": 0,
              "ticks": ""
             }
            },
            "type": "scatterternary"
           }
          ],
          "surface": [
           {
            "colorbar": {
             "outlinewidth": 0,
             "ticks": ""
            },
            "colorscale": [
             [
              0,
              "#0d0887"
             ],
             [
              0.1111111111111111,
              "#46039f"
             ],
             [
              0.2222222222222222,
              "#7201a8"
             ],
             [
              0.3333333333333333,
              "#9c179e"
             ],
             [
              0.4444444444444444,
              "#bd3786"
             ],
             [
              0.5555555555555556,
              "#d8576b"
             ],
             [
              0.6666666666666666,
              "#ed7953"
             ],
             [
              0.7777777777777778,
              "#fb9f3a"
             ],
             [
              0.8888888888888888,
              "#fdca26"
             ],
             [
              1,
              "#f0f921"
             ]
            ],
            "type": "surface"
           }
          ],
          "table": [
           {
            "cells": {
             "fill": {
              "color": "#EBF0F8"
             },
             "line": {
              "color": "white"
             }
            },
            "header": {
             "fill": {
              "color": "#C8D4E3"
             },
             "line": {
              "color": "white"
             }
            },
            "type": "table"
           }
          ]
         },
         "layout": {
          "annotationdefaults": {
           "arrowcolor": "#2a3f5f",
           "arrowhead": 0,
           "arrowwidth": 1
          },
          "autotypenumbers": "strict",
          "coloraxis": {
           "colorbar": {
            "outlinewidth": 0,
            "ticks": ""
           }
          },
          "colorscale": {
           "diverging": [
            [
             0,
             "#8e0152"
            ],
            [
             0.1,
             "#c51b7d"
            ],
            [
             0.2,
             "#de77ae"
            ],
            [
             0.3,
             "#f1b6da"
            ],
            [
             0.4,
             "#fde0ef"
            ],
            [
             0.5,
             "#f7f7f7"
            ],
            [
             0.6,
             "#e6f5d0"
            ],
            [
             0.7,
             "#b8e186"
            ],
            [
             0.8,
             "#7fbc41"
            ],
            [
             0.9,
             "#4d9221"
            ],
            [
             1,
             "#276419"
            ]
           ],
           "sequential": [
            [
             0,
             "#0d0887"
            ],
            [
             0.1111111111111111,
             "#46039f"
            ],
            [
             0.2222222222222222,
             "#7201a8"
            ],
            [
             0.3333333333333333,
             "#9c179e"
            ],
            [
             0.4444444444444444,
             "#bd3786"
            ],
            [
             0.5555555555555556,
             "#d8576b"
            ],
            [
             0.6666666666666666,
             "#ed7953"
            ],
            [
             0.7777777777777778,
             "#fb9f3a"
            ],
            [
             0.8888888888888888,
             "#fdca26"
            ],
            [
             1,
             "#f0f921"
            ]
           ],
           "sequentialminus": [
            [
             0,
             "#0d0887"
            ],
            [
             0.1111111111111111,
             "#46039f"
            ],
            [
             0.2222222222222222,
             "#7201a8"
            ],
            [
             0.3333333333333333,
             "#9c179e"
            ],
            [
             0.4444444444444444,
             "#bd3786"
            ],
            [
             0.5555555555555556,
             "#d8576b"
            ],
            [
             0.6666666666666666,
             "#ed7953"
            ],
            [
             0.7777777777777778,
             "#fb9f3a"
            ],
            [
             0.8888888888888888,
             "#fdca26"
            ],
            [
             1,
             "#f0f921"
            ]
           ]
          },
          "colorway": [
           "#636efa",
           "#EF553B",
           "#00cc96",
           "#ab63fa",
           "#FFA15A",
           "#19d3f3",
           "#FF6692",
           "#B6E880",
           "#FF97FF",
           "#FECB52"
          ],
          "font": {
           "color": "#2a3f5f"
          },
          "geo": {
           "bgcolor": "white",
           "lakecolor": "white",
           "landcolor": "#E5ECF6",
           "showlakes": true,
           "showland": true,
           "subunitcolor": "white"
          },
          "hoverlabel": {
           "align": "left"
          },
          "hovermode": "closest",
          "mapbox": {
           "style": "light"
          },
          "paper_bgcolor": "white",
          "plot_bgcolor": "#E5ECF6",
          "polar": {
           "angularaxis": {
            "gridcolor": "white",
            "linecolor": "white",
            "ticks": ""
           },
           "bgcolor": "#E5ECF6",
           "radialaxis": {
            "gridcolor": "white",
            "linecolor": "white",
            "ticks": ""
           }
          },
          "scene": {
           "xaxis": {
            "backgroundcolor": "#E5ECF6",
            "gridcolor": "white",
            "gridwidth": 2,
            "linecolor": "white",
            "showbackground": true,
            "ticks": "",
            "zerolinecolor": "white"
           },
           "yaxis": {
            "backgroundcolor": "#E5ECF6",
            "gridcolor": "white",
            "gridwidth": 2,
            "linecolor": "white",
            "showbackground": true,
            "ticks": "",
            "zerolinecolor": "white"
           },
           "zaxis": {
            "backgroundcolor": "#E5ECF6",
            "gridcolor": "white",
            "gridwidth": 2,
            "linecolor": "white",
            "showbackground": true,
            "ticks": "",
            "zerolinecolor": "white"
           }
          },
          "shapedefaults": {
           "line": {
            "color": "#2a3f5f"
           }
          },
          "ternary": {
           "aaxis": {
            "gridcolor": "white",
            "linecolor": "white",
            "ticks": ""
           },
           "baxis": {
            "gridcolor": "white",
            "linecolor": "white",
            "ticks": ""
           },
           "bgcolor": "#E5ECF6",
           "caxis": {
            "gridcolor": "white",
            "linecolor": "white",
            "ticks": ""
           }
          },
          "title": {
           "x": 0.05
          },
          "xaxis": {
           "automargin": true,
           "gridcolor": "white",
           "linecolor": "white",
           "ticks": "",
           "title": {
            "standoff": 15
           },
           "zerolinecolor": "white",
           "zerolinewidth": 2
          },
          "yaxis": {
           "automargin": true,
           "gridcolor": "white",
           "linecolor": "white",
           "ticks": "",
           "title": {
            "standoff": 15
           },
           "zerolinecolor": "white",
           "zerolinewidth": 2
          }
         }
        },
        "title": {
         "font": {
          "size": 22
         },
         "text": "Pool Table Rental Duration",
         "x": 0.5,
         "xanchor": "center",
         "y": 0.85
        },
        "width": 800,
        "xaxis": {
         "anchor": "y",
         "domain": [
          0,
          1
         ],
         "tickfont": {
          "size": 16
         },
         "tickmode": "array",
         "ticktext": [
          "Table 1",
          "Table 0",
          "Table 2",
          "Table 3"
         ],
         "tickvals": [
          1,
          0,
          2,
          3
         ],
         "title": {}
        },
        "yaxis": {
         "anchor": "x",
         "domain": [
          0,
          1
         ],
         "gridcolor": "rgba(128, 128, 128, 0.4)",
         "tickfont": {
          "size": 16
         },
         "title": {
          "text": "Duration (log scale)"
         },
         "type": "log"
        }
       }
      }
     },
     "metadata": {},
     "output_type": "display_data"
    },
    {
     "name": "stdout",
     "output_type": "stream",
     "text": [
      "Visualization saved as ../resources/viz/f23_pool_duration_by_table_number.html\n"
     ]
    },
    {
     "data": {
      "application/vnd.plotly.v1+json": {
       "config": {
        "plotlyServerURL": "https://plot.ly"
       },
       "data": [
        {
         "labels": [
          "Pool",
          "Air Hockey",
          "Foosball",
          "Shuffleboard"
         ],
         "text": [
          "Pool<br>2488 rentals",
          "Air Hockey<br>575 rentals",
          "Foosball<br>378 rentals",
          "Shuffleboard<br>98 rentals"
         ],
         "textfont": {
          "size": 15
         },
         "textinfo": "text+percent",
         "type": "pie",
         "values": [
          2488,
          575,
          378,
          98
         ]
        }
       ],
       "layout": {
        "font": {
         "color": "black",
         "family": "Droid Serif"
        },
        "height": 400,
        "hoverlabel": {
         "bgcolor": "black",
         "font": {
          "color": "white"
         }
        },
        "margin": {
         "b": 20,
         "l": 20,
         "r": 20,
         "t": 100
        },
        "paper_bgcolor": "white",
        "plot_bgcolor": "white",
        "showlegend": false,
        "template": {
         "data": {
          "bar": [
           {
            "error_x": {
             "color": "#2a3f5f"
            },
            "error_y": {
             "color": "#2a3f5f"
            },
            "marker": {
             "line": {
              "color": "#E5ECF6",
              "width": 0.5
             },
             "pattern": {
              "fillmode": "overlay",
              "size": 10,
              "solidity": 0.2
             }
            },
            "type": "bar"
           }
          ],
          "barpolar": [
           {
            "marker": {
             "line": {
              "color": "#E5ECF6",
              "width": 0.5
             },
             "pattern": {
              "fillmode": "overlay",
              "size": 10,
              "solidity": 0.2
             }
            },
            "type": "barpolar"
           }
          ],
          "carpet": [
           {
            "aaxis": {
             "endlinecolor": "#2a3f5f",
             "gridcolor": "white",
             "linecolor": "white",
             "minorgridcolor": "white",
             "startlinecolor": "#2a3f5f"
            },
            "baxis": {
             "endlinecolor": "#2a3f5f",
             "gridcolor": "white",
             "linecolor": "white",
             "minorgridcolor": "white",
             "startlinecolor": "#2a3f5f"
            },
            "type": "carpet"
           }
          ],
          "choropleth": [
           {
            "colorbar": {
             "outlinewidth": 0,
             "ticks": ""
            },
            "type": "choropleth"
           }
          ],
          "contour": [
           {
            "colorbar": {
             "outlinewidth": 0,
             "ticks": ""
            },
            "colorscale": [
             [
              0,
              "#0d0887"
             ],
             [
              0.1111111111111111,
              "#46039f"
             ],
             [
              0.2222222222222222,
              "#7201a8"
             ],
             [
              0.3333333333333333,
              "#9c179e"
             ],
             [
              0.4444444444444444,
              "#bd3786"
             ],
             [
              0.5555555555555556,
              "#d8576b"
             ],
             [
              0.6666666666666666,
              "#ed7953"
             ],
             [
              0.7777777777777778,
              "#fb9f3a"
             ],
             [
              0.8888888888888888,
              "#fdca26"
             ],
             [
              1,
              "#f0f921"
             ]
            ],
            "type": "contour"
           }
          ],
          "contourcarpet": [
           {
            "colorbar": {
             "outlinewidth": 0,
             "ticks": ""
            },
            "type": "contourcarpet"
           }
          ],
          "heatmap": [
           {
            "colorbar": {
             "outlinewidth": 0,
             "ticks": ""
            },
            "colorscale": [
             [
              0,
              "#0d0887"
             ],
             [
              0.1111111111111111,
              "#46039f"
             ],
             [
              0.2222222222222222,
              "#7201a8"
             ],
             [
              0.3333333333333333,
              "#9c179e"
             ],
             [
              0.4444444444444444,
              "#bd3786"
             ],
             [
              0.5555555555555556,
              "#d8576b"
             ],
             [
              0.6666666666666666,
              "#ed7953"
             ],
             [
              0.7777777777777778,
              "#fb9f3a"
             ],
             [
              0.8888888888888888,
              "#fdca26"
             ],
             [
              1,
              "#f0f921"
             ]
            ],
            "type": "heatmap"
           }
          ],
          "heatmapgl": [
           {
            "colorbar": {
             "outlinewidth": 0,
             "ticks": ""
            },
            "colorscale": [
             [
              0,
              "#0d0887"
             ],
             [
              0.1111111111111111,
              "#46039f"
             ],
             [
              0.2222222222222222,
              "#7201a8"
             ],
             [
              0.3333333333333333,
              "#9c179e"
             ],
             [
              0.4444444444444444,
              "#bd3786"
             ],
             [
              0.5555555555555556,
              "#d8576b"
             ],
             [
              0.6666666666666666,
              "#ed7953"
             ],
             [
              0.7777777777777778,
              "#fb9f3a"
             ],
             [
              0.8888888888888888,
              "#fdca26"
             ],
             [
              1,
              "#f0f921"
             ]
            ],
            "type": "heatmapgl"
           }
          ],
          "histogram": [
           {
            "marker": {
             "pattern": {
              "fillmode": "overlay",
              "size": 10,
              "solidity": 0.2
             }
            },
            "type": "histogram"
           }
          ],
          "histogram2d": [
           {
            "colorbar": {
             "outlinewidth": 0,
             "ticks": ""
            },
            "colorscale": [
             [
              0,
              "#0d0887"
             ],
             [
              0.1111111111111111,
              "#46039f"
             ],
             [
              0.2222222222222222,
              "#7201a8"
             ],
             [
              0.3333333333333333,
              "#9c179e"
             ],
             [
              0.4444444444444444,
              "#bd3786"
             ],
             [
              0.5555555555555556,
              "#d8576b"
             ],
             [
              0.6666666666666666,
              "#ed7953"
             ],
             [
              0.7777777777777778,
              "#fb9f3a"
             ],
             [
              0.8888888888888888,
              "#fdca26"
             ],
             [
              1,
              "#f0f921"
             ]
            ],
            "type": "histogram2d"
           }
          ],
          "histogram2dcontour": [
           {
            "colorbar": {
             "outlinewidth": 0,
             "ticks": ""
            },
            "colorscale": [
             [
              0,
              "#0d0887"
             ],
             [
              0.1111111111111111,
              "#46039f"
             ],
             [
              0.2222222222222222,
              "#7201a8"
             ],
             [
              0.3333333333333333,
              "#9c179e"
             ],
             [
              0.4444444444444444,
              "#bd3786"
             ],
             [
              0.5555555555555556,
              "#d8576b"
             ],
             [
              0.6666666666666666,
              "#ed7953"
             ],
             [
              0.7777777777777778,
              "#fb9f3a"
             ],
             [
              0.8888888888888888,
              "#fdca26"
             ],
             [
              1,
              "#f0f921"
             ]
            ],
            "type": "histogram2dcontour"
           }
          ],
          "mesh3d": [
           {
            "colorbar": {
             "outlinewidth": 0,
             "ticks": ""
            },
            "type": "mesh3d"
           }
          ],
          "parcoords": [
           {
            "line": {
             "colorbar": {
              "outlinewidth": 0,
              "ticks": ""
             }
            },
            "type": "parcoords"
           }
          ],
          "pie": [
           {
            "automargin": true,
            "type": "pie"
           }
          ],
          "scatter": [
           {
            "fillpattern": {
             "fillmode": "overlay",
             "size": 10,
             "solidity": 0.2
            },
            "type": "scatter"
           }
          ],
          "scatter3d": [
           {
            "line": {
             "colorbar": {
              "outlinewidth": 0,
              "ticks": ""
             }
            },
            "marker": {
             "colorbar": {
              "outlinewidth": 0,
              "ticks": ""
             }
            },
            "type": "scatter3d"
           }
          ],
          "scattercarpet": [
           {
            "marker": {
             "colorbar": {
              "outlinewidth": 0,
              "ticks": ""
             }
            },
            "type": "scattercarpet"
           }
          ],
          "scattergeo": [
           {
            "marker": {
             "colorbar": {
              "outlinewidth": 0,
              "ticks": ""
             }
            },
            "type": "scattergeo"
           }
          ],
          "scattergl": [
           {
            "marker": {
             "colorbar": {
              "outlinewidth": 0,
              "ticks": ""
             }
            },
            "type": "scattergl"
           }
          ],
          "scattermapbox": [
           {
            "marker": {
             "colorbar": {
              "outlinewidth": 0,
              "ticks": ""
             }
            },
            "type": "scattermapbox"
           }
          ],
          "scatterpolar": [
           {
            "marker": {
             "colorbar": {
              "outlinewidth": 0,
              "ticks": ""
             }
            },
            "type": "scatterpolar"
           }
          ],
          "scatterpolargl": [
           {
            "marker": {
             "colorbar": {
              "outlinewidth": 0,
              "ticks": ""
             }
            },
            "type": "scatterpolargl"
           }
          ],
          "scatterternary": [
           {
            "marker": {
             "colorbar": {
              "outlinewidth": 0,
              "ticks": ""
             }
            },
            "type": "scatterternary"
           }
          ],
          "surface": [
           {
            "colorbar": {
             "outlinewidth": 0,
             "ticks": ""
            },
            "colorscale": [
             [
              0,
              "#0d0887"
             ],
             [
              0.1111111111111111,
              "#46039f"
             ],
             [
              0.2222222222222222,
              "#7201a8"
             ],
             [
              0.3333333333333333,
              "#9c179e"
             ],
             [
              0.4444444444444444,
              "#bd3786"
             ],
             [
              0.5555555555555556,
              "#d8576b"
             ],
             [
              0.6666666666666666,
              "#ed7953"
             ],
             [
              0.7777777777777778,
              "#fb9f3a"
             ],
             [
              0.8888888888888888,
              "#fdca26"
             ],
             [
              1,
              "#f0f921"
             ]
            ],
            "type": "surface"
           }
          ],
          "table": [
           {
            "cells": {
             "fill": {
              "color": "#EBF0F8"
             },
             "line": {
              "color": "white"
             }
            },
            "header": {
             "fill": {
              "color": "#C8D4E3"
             },
             "line": {
              "color": "white"
             }
            },
            "type": "table"
           }
          ]
         },
         "layout": {
          "annotationdefaults": {
           "arrowcolor": "#2a3f5f",
           "arrowhead": 0,
           "arrowwidth": 1
          },
          "autotypenumbers": "strict",
          "coloraxis": {
           "colorbar": {
            "outlinewidth": 0,
            "ticks": ""
           }
          },
          "colorscale": {
           "diverging": [
            [
             0,
             "#8e0152"
            ],
            [
             0.1,
             "#c51b7d"
            ],
            [
             0.2,
             "#de77ae"
            ],
            [
             0.3,
             "#f1b6da"
            ],
            [
             0.4,
             "#fde0ef"
            ],
            [
             0.5,
             "#f7f7f7"
            ],
            [
             0.6,
             "#e6f5d0"
            ],
            [
             0.7,
             "#b8e186"
            ],
            [
             0.8,
             "#7fbc41"
            ],
            [
             0.9,
             "#4d9221"
            ],
            [
             1,
             "#276419"
            ]
           ],
           "sequential": [
            [
             0,
             "#0d0887"
            ],
            [
             0.1111111111111111,
             "#46039f"
            ],
            [
             0.2222222222222222,
             "#7201a8"
            ],
            [
             0.3333333333333333,
             "#9c179e"
            ],
            [
             0.4444444444444444,
             "#bd3786"
            ],
            [
             0.5555555555555556,
             "#d8576b"
            ],
            [
             0.6666666666666666,
             "#ed7953"
            ],
            [
             0.7777777777777778,
             "#fb9f3a"
            ],
            [
             0.8888888888888888,
             "#fdca26"
            ],
            [
             1,
             "#f0f921"
            ]
           ],
           "sequentialminus": [
            [
             0,
             "#0d0887"
            ],
            [
             0.1111111111111111,
             "#46039f"
            ],
            [
             0.2222222222222222,
             "#7201a8"
            ],
            [
             0.3333333333333333,
             "#9c179e"
            ],
            [
             0.4444444444444444,
             "#bd3786"
            ],
            [
             0.5555555555555556,
             "#d8576b"
            ],
            [
             0.6666666666666666,
             "#ed7953"
            ],
            [
             0.7777777777777778,
             "#fb9f3a"
            ],
            [
             0.8888888888888888,
             "#fdca26"
            ],
            [
             1,
             "#f0f921"
            ]
           ]
          },
          "colorway": [
           "#636efa",
           "#EF553B",
           "#00cc96",
           "#ab63fa",
           "#FFA15A",
           "#19d3f3",
           "#FF6692",
           "#B6E880",
           "#FF97FF",
           "#FECB52"
          ],
          "font": {
           "color": "#2a3f5f"
          },
          "geo": {
           "bgcolor": "white",
           "lakecolor": "white",
           "landcolor": "#E5ECF6",
           "showlakes": true,
           "showland": true,
           "subunitcolor": "white"
          },
          "hoverlabel": {
           "align": "left"
          },
          "hovermode": "closest",
          "mapbox": {
           "style": "light"
          },
          "paper_bgcolor": "white",
          "plot_bgcolor": "#E5ECF6",
          "polar": {
           "angularaxis": {
            "gridcolor": "white",
            "linecolor": "white",
            "ticks": ""
           },
           "bgcolor": "#E5ECF6",
           "radialaxis": {
            "gridcolor": "white",
            "linecolor": "white",
            "ticks": ""
           }
          },
          "scene": {
           "xaxis": {
            "backgroundcolor": "#E5ECF6",
            "gridcolor": "white",
            "gridwidth": 2,
            "linecolor": "white",
            "showbackground": true,
            "ticks": "",
            "zerolinecolor": "white"
           },
           "yaxis": {
            "backgroundcolor": "#E5ECF6",
            "gridcolor": "white",
            "gridwidth": 2,
            "linecolor": "white",
            "showbackground": true,
            "ticks": "",
            "zerolinecolor": "white"
           },
           "zaxis": {
            "backgroundcolor": "#E5ECF6",
            "gridcolor": "white",
            "gridwidth": 2,
            "linecolor": "white",
            "showbackground": true,
            "ticks": "",
            "zerolinecolor": "white"
           }
          },
          "shapedefaults": {
           "line": {
            "color": "#2a3f5f"
           }
          },
          "ternary": {
           "aaxis": {
            "gridcolor": "white",
            "linecolor": "white",
            "ticks": ""
           },
           "baxis": {
            "gridcolor": "white",
            "linecolor": "white",
            "ticks": ""
           },
           "bgcolor": "#E5ECF6",
           "caxis": {
            "gridcolor": "white",
            "linecolor": "white",
            "ticks": ""
           }
          },
          "title": {
           "x": 0.05
          },
          "xaxis": {
           "automargin": true,
           "gridcolor": "white",
           "linecolor": "white",
           "ticks": "",
           "title": {
            "standoff": 15
           },
           "zerolinecolor": "white",
           "zerolinewidth": 2
          },
          "yaxis": {
           "automargin": true,
           "gridcolor": "white",
           "linecolor": "white",
           "ticks": "",
           "title": {
            "standoff": 15
           },
           "zerolinecolor": "white",
           "zerolinewidth": 2
          }
         }
        },
        "title": {
         "font": {
          "size": 22
         },
         "text": "Table Game Rentals by Game Type",
         "x": 0.4,
         "xanchor": "center",
         "y": 0.91
        },
        "width": 600
       }
      }
     },
     "metadata": {},
     "output_type": "display_data"
    },
    {
     "name": "stdout",
     "output_type": "stream",
     "text": [
      "Visualization saved as ../resources/viz/f23_table_games_pie_chart.html\n"
     ]
    },
    {
     "data": {
      "application/vnd.plotly.v1+json": {
       "config": {
        "plotlyServerURL": "https://plot.ly"
       },
       "data": [
        {
         "alignmentgroup": "True",
         "bingroup": "x",
         "hovertemplate": "Duration (minutes)=%{x}<br>count=%{y}<extra></extra>",
         "legendgroup": "",
         "marker": {
          "color": "#636efa",
          "pattern": {
           "shape": ""
          }
         },
         "name": "",
         "offsetgroup": "",
         "orientation": "v",
         "showlegend": false,
         "type": "histogram",
         "x": [
          16,
          8,
          16,
          40,
          9,
          21,
          24,
          27,
          3,
          22,
          23,
          6,
          25,
          4,
          25,
          53,
          20,
          36,
          16,
          34,
          27,
          8,
          9,
          24,
          15,
          8,
          26,
          13,
          1,
          24,
          19,
          15,
          55,
          12,
          65,
          27,
          20,
          14,
          45,
          8,
          16,
          22,
          5,
          58,
          33,
          30,
          36,
          22,
          8,
          12,
          8,
          8,
          33,
          21,
          26,
          29,
          33,
          10,
          12,
          13,
          2,
          5,
          18,
          19,
          42,
          23,
          21,
          13,
          20,
          16,
          70,
          28,
          20,
          18,
          8,
          23,
          13,
          12,
          10,
          103,
          6,
          17,
          37,
          87,
          17,
          21,
          16,
          7,
          36,
          25,
          27,
          46,
          23,
          8,
          12,
          58,
          5,
          16,
          8,
          24,
          19,
          18,
          34,
          7,
          31,
          66,
          32,
          32,
          40,
          9,
          18,
          7,
          56,
          11,
          14,
          21,
          6,
          16,
          25,
          8,
          50,
          30,
          30,
          12,
          48,
          8,
          14,
          41,
          48,
          59,
          8,
          108,
          9,
          8,
          9,
          61,
          74,
          11,
          4,
          60,
          6,
          11,
          8,
          13,
          13,
          13,
          38,
          11,
          7,
          23,
          25,
          32,
          8,
          18,
          33,
          24,
          15,
          43,
          22,
          65,
          15,
          56,
          33,
          21,
          10,
          14,
          13,
          22,
          5,
          10,
          47,
          24,
          16,
          17,
          16,
          20,
          16,
          19,
          5,
          20,
          25,
          60,
          10,
          34,
          20,
          17,
          11,
          -1382,
          33,
          10,
          33,
          41,
          12,
          11,
          19,
          18,
          26,
          32,
          17,
          9,
          20,
          82,
          18,
          20,
          14,
          49,
          11,
          7,
          43,
          12,
          13,
          24,
          5,
          8,
          11,
          29,
          24,
          35,
          26,
          15,
          19,
          18,
          11,
          19,
          12,
          14,
          13,
          26,
          25,
          22,
          5,
          23,
          7,
          7,
          12,
          11,
          29,
          10,
          16,
          17,
          16,
          23,
          10,
          27,
          18,
          21,
          46,
          12,
          9,
          28,
          28,
          25,
          37,
          8,
          32,
          28,
          5,
          31,
          14,
          25,
          23,
          15,
          1,
          41,
          7,
          44,
          8,
          20,
          3,
          19,
          10,
          30,
          25,
          19,
          16,
          11,
          64,
          12,
          13,
          17,
          0,
          39,
          9,
          12,
          10,
          15,
          13,
          33,
          34,
          24,
          9,
          14,
          26,
          11,
          13,
          15,
          24,
          7,
          23,
          21,
          7,
          10,
          19,
          11,
          10,
          73,
          21,
          27,
          10,
          5,
          5,
          30,
          6,
          5,
          60,
          16,
          21,
          26,
          12,
          10,
          10,
          9,
          6,
          22,
          26,
          29,
          47,
          9,
          14,
          51,
          20,
          7,
          8,
          22,
          9,
          -1425,
          41,
          20,
          29,
          11,
          32,
          27,
          22,
          22,
          17,
          13,
          17,
          32,
          10,
          12,
          36,
          34,
          9,
          12,
          9,
          7,
          1,
          11,
          103,
          14,
          30,
          18,
          8,
          39,
          7,
          33,
          -1403,
          18,
          57,
          10,
          8,
          19,
          8,
          14,
          14,
          9,
          22,
          9
         ],
         "xaxis": "x",
         "yaxis": "y"
        }
       ],
       "layout": {
        "bargap": 0.1,
        "barmode": "relative",
        "font": {
         "color": "black",
         "family": "Droid Serif"
        },
        "height": 400,
        "hoverlabel": {
         "bgcolor": "black",
         "font": {
          "color": "white"
         }
        },
        "legend": {
         "tracegroupgap": 0
        },
        "paper_bgcolor": "white",
        "plot_bgcolor": "white",
        "showlegend": false,
        "template": {
         "data": {
          "bar": [
           {
            "error_x": {
             "color": "#2a3f5f"
            },
            "error_y": {
             "color": "#2a3f5f"
            },
            "marker": {
             "line": {
              "color": "#E5ECF6",
              "width": 0.5
             },
             "pattern": {
              "fillmode": "overlay",
              "size": 10,
              "solidity": 0.2
             }
            },
            "type": "bar"
           }
          ],
          "barpolar": [
           {
            "marker": {
             "line": {
              "color": "#E5ECF6",
              "width": 0.5
             },
             "pattern": {
              "fillmode": "overlay",
              "size": 10,
              "solidity": 0.2
             }
            },
            "type": "barpolar"
           }
          ],
          "carpet": [
           {
            "aaxis": {
             "endlinecolor": "#2a3f5f",
             "gridcolor": "white",
             "linecolor": "white",
             "minorgridcolor": "white",
             "startlinecolor": "#2a3f5f"
            },
            "baxis": {
             "endlinecolor": "#2a3f5f",
             "gridcolor": "white",
             "linecolor": "white",
             "minorgridcolor": "white",
             "startlinecolor": "#2a3f5f"
            },
            "type": "carpet"
           }
          ],
          "choropleth": [
           {
            "colorbar": {
             "outlinewidth": 0,
             "ticks": ""
            },
            "type": "choropleth"
           }
          ],
          "contour": [
           {
            "colorbar": {
             "outlinewidth": 0,
             "ticks": ""
            },
            "colorscale": [
             [
              0,
              "#0d0887"
             ],
             [
              0.1111111111111111,
              "#46039f"
             ],
             [
              0.2222222222222222,
              "#7201a8"
             ],
             [
              0.3333333333333333,
              "#9c179e"
             ],
             [
              0.4444444444444444,
              "#bd3786"
             ],
             [
              0.5555555555555556,
              "#d8576b"
             ],
             [
              0.6666666666666666,
              "#ed7953"
             ],
             [
              0.7777777777777778,
              "#fb9f3a"
             ],
             [
              0.8888888888888888,
              "#fdca26"
             ],
             [
              1,
              "#f0f921"
             ]
            ],
            "type": "contour"
           }
          ],
          "contourcarpet": [
           {
            "colorbar": {
             "outlinewidth": 0,
             "ticks": ""
            },
            "type": "contourcarpet"
           }
          ],
          "heatmap": [
           {
            "colorbar": {
             "outlinewidth": 0,
             "ticks": ""
            },
            "colorscale": [
             [
              0,
              "#0d0887"
             ],
             [
              0.1111111111111111,
              "#46039f"
             ],
             [
              0.2222222222222222,
              "#7201a8"
             ],
             [
              0.3333333333333333,
              "#9c179e"
             ],
             [
              0.4444444444444444,
              "#bd3786"
             ],
             [
              0.5555555555555556,
              "#d8576b"
             ],
             [
              0.6666666666666666,
              "#ed7953"
             ],
             [
              0.7777777777777778,
              "#fb9f3a"
             ],
             [
              0.8888888888888888,
              "#fdca26"
             ],
             [
              1,
              "#f0f921"
             ]
            ],
            "type": "heatmap"
           }
          ],
          "heatmapgl": [
           {
            "colorbar": {
             "outlinewidth": 0,
             "ticks": ""
            },
            "colorscale": [
             [
              0,
              "#0d0887"
             ],
             [
              0.1111111111111111,
              "#46039f"
             ],
             [
              0.2222222222222222,
              "#7201a8"
             ],
             [
              0.3333333333333333,
              "#9c179e"
             ],
             [
              0.4444444444444444,
              "#bd3786"
             ],
             [
              0.5555555555555556,
              "#d8576b"
             ],
             [
              0.6666666666666666,
              "#ed7953"
             ],
             [
              0.7777777777777778,
              "#fb9f3a"
             ],
             [
              0.8888888888888888,
              "#fdca26"
             ],
             [
              1,
              "#f0f921"
             ]
            ],
            "type": "heatmapgl"
           }
          ],
          "histogram": [
           {
            "marker": {
             "pattern": {
              "fillmode": "overlay",
              "size": 10,
              "solidity": 0.2
             }
            },
            "type": "histogram"
           }
          ],
          "histogram2d": [
           {
            "colorbar": {
             "outlinewidth": 0,
             "ticks": ""
            },
            "colorscale": [
             [
              0,
              "#0d0887"
             ],
             [
              0.1111111111111111,
              "#46039f"
             ],
             [
              0.2222222222222222,
              "#7201a8"
             ],
             [
              0.3333333333333333,
              "#9c179e"
             ],
             [
              0.4444444444444444,
              "#bd3786"
             ],
             [
              0.5555555555555556,
              "#d8576b"
             ],
             [
              0.6666666666666666,
              "#ed7953"
             ],
             [
              0.7777777777777778,
              "#fb9f3a"
             ],
             [
              0.8888888888888888,
              "#fdca26"
             ],
             [
              1,
              "#f0f921"
             ]
            ],
            "type": "histogram2d"
           }
          ],
          "histogram2dcontour": [
           {
            "colorbar": {
             "outlinewidth": 0,
             "ticks": ""
            },
            "colorscale": [
             [
              0,
              "#0d0887"
             ],
             [
              0.1111111111111111,
              "#46039f"
             ],
             [
              0.2222222222222222,
              "#7201a8"
             ],
             [
              0.3333333333333333,
              "#9c179e"
             ],
             [
              0.4444444444444444,
              "#bd3786"
             ],
             [
              0.5555555555555556,
              "#d8576b"
             ],
             [
              0.6666666666666666,
              "#ed7953"
             ],
             [
              0.7777777777777778,
              "#fb9f3a"
             ],
             [
              0.8888888888888888,
              "#fdca26"
             ],
             [
              1,
              "#f0f921"
             ]
            ],
            "type": "histogram2dcontour"
           }
          ],
          "mesh3d": [
           {
            "colorbar": {
             "outlinewidth": 0,
             "ticks": ""
            },
            "type": "mesh3d"
           }
          ],
          "parcoords": [
           {
            "line": {
             "colorbar": {
              "outlinewidth": 0,
              "ticks": ""
             }
            },
            "type": "parcoords"
           }
          ],
          "pie": [
           {
            "automargin": true,
            "type": "pie"
           }
          ],
          "scatter": [
           {
            "fillpattern": {
             "fillmode": "overlay",
             "size": 10,
             "solidity": 0.2
            },
            "type": "scatter"
           }
          ],
          "scatter3d": [
           {
            "line": {
             "colorbar": {
              "outlinewidth": 0,
              "ticks": ""
             }
            },
            "marker": {
             "colorbar": {
              "outlinewidth": 0,
              "ticks": ""
             }
            },
            "type": "scatter3d"
           }
          ],
          "scattercarpet": [
           {
            "marker": {
             "colorbar": {
              "outlinewidth": 0,
              "ticks": ""
             }
            },
            "type": "scattercarpet"
           }
          ],
          "scattergeo": [
           {
            "marker": {
             "colorbar": {
              "outlinewidth": 0,
              "ticks": ""
             }
            },
            "type": "scattergeo"
           }
          ],
          "scattergl": [
           {
            "marker": {
             "colorbar": {
              "outlinewidth": 0,
              "ticks": ""
             }
            },
            "type": "scattergl"
           }
          ],
          "scattermapbox": [
           {
            "marker": {
             "colorbar": {
              "outlinewidth": 0,
              "ticks": ""
             }
            },
            "type": "scattermapbox"
           }
          ],
          "scatterpolar": [
           {
            "marker": {
             "colorbar": {
              "outlinewidth": 0,
              "ticks": ""
             }
            },
            "type": "scatterpolar"
           }
          ],
          "scatterpolargl": [
           {
            "marker": {
             "colorbar": {
              "outlinewidth": 0,
              "ticks": ""
             }
            },
            "type": "scatterpolargl"
           }
          ],
          "scatterternary": [
           {
            "marker": {
             "colorbar": {
              "outlinewidth": 0,
              "ticks": ""
             }
            },
            "type": "scatterternary"
           }
          ],
          "surface": [
           {
            "colorbar": {
             "outlinewidth": 0,
             "ticks": ""
            },
            "colorscale": [
             [
              0,
              "#0d0887"
             ],
             [
              0.1111111111111111,
              "#46039f"
             ],
             [
              0.2222222222222222,
              "#7201a8"
             ],
             [
              0.3333333333333333,
              "#9c179e"
             ],
             [
              0.4444444444444444,
              "#bd3786"
             ],
             [
              0.5555555555555556,
              "#d8576b"
             ],
             [
              0.6666666666666666,
              "#ed7953"
             ],
             [
              0.7777777777777778,
              "#fb9f3a"
             ],
             [
              0.8888888888888888,
              "#fdca26"
             ],
             [
              1,
              "#f0f921"
             ]
            ],
            "type": "surface"
           }
          ],
          "table": [
           {
            "cells": {
             "fill": {
              "color": "#EBF0F8"
             },
             "line": {
              "color": "white"
             }
            },
            "header": {
             "fill": {
              "color": "#C8D4E3"
             },
             "line": {
              "color": "white"
             }
            },
            "type": "table"
           }
          ]
         },
         "layout": {
          "annotationdefaults": {
           "arrowcolor": "#2a3f5f",
           "arrowhead": 0,
           "arrowwidth": 1
          },
          "autotypenumbers": "strict",
          "coloraxis": {
           "colorbar": {
            "outlinewidth": 0,
            "ticks": ""
           }
          },
          "colorscale": {
           "diverging": [
            [
             0,
             "#8e0152"
            ],
            [
             0.1,
             "#c51b7d"
            ],
            [
             0.2,
             "#de77ae"
            ],
            [
             0.3,
             "#f1b6da"
            ],
            [
             0.4,
             "#fde0ef"
            ],
            [
             0.5,
             "#f7f7f7"
            ],
            [
             0.6,
             "#e6f5d0"
            ],
            [
             0.7,
             "#b8e186"
            ],
            [
             0.8,
             "#7fbc41"
            ],
            [
             0.9,
             "#4d9221"
            ],
            [
             1,
             "#276419"
            ]
           ],
           "sequential": [
            [
             0,
             "#0d0887"
            ],
            [
             0.1111111111111111,
             "#46039f"
            ],
            [
             0.2222222222222222,
             "#7201a8"
            ],
            [
             0.3333333333333333,
             "#9c179e"
            ],
            [
             0.4444444444444444,
             "#bd3786"
            ],
            [
             0.5555555555555556,
             "#d8576b"
            ],
            [
             0.6666666666666666,
             "#ed7953"
            ],
            [
             0.7777777777777778,
             "#fb9f3a"
            ],
            [
             0.8888888888888888,
             "#fdca26"
            ],
            [
             1,
             "#f0f921"
            ]
           ],
           "sequentialminus": [
            [
             0,
             "#0d0887"
            ],
            [
             0.1111111111111111,
             "#46039f"
            ],
            [
             0.2222222222222222,
             "#7201a8"
            ],
            [
             0.3333333333333333,
             "#9c179e"
            ],
            [
             0.4444444444444444,
             "#bd3786"
            ],
            [
             0.5555555555555556,
             "#d8576b"
            ],
            [
             0.6666666666666666,
             "#ed7953"
            ],
            [
             0.7777777777777778,
             "#fb9f3a"
            ],
            [
             0.8888888888888888,
             "#fdca26"
            ],
            [
             1,
             "#f0f921"
            ]
           ]
          },
          "colorway": [
           "#636efa",
           "#EF553B",
           "#00cc96",
           "#ab63fa",
           "#FFA15A",
           "#19d3f3",
           "#FF6692",
           "#B6E880",
           "#FF97FF",
           "#FECB52"
          ],
          "font": {
           "color": "#2a3f5f"
          },
          "geo": {
           "bgcolor": "white",
           "lakecolor": "white",
           "landcolor": "#E5ECF6",
           "showlakes": true,
           "showland": true,
           "subunitcolor": "white"
          },
          "hoverlabel": {
           "align": "left"
          },
          "hovermode": "closest",
          "mapbox": {
           "style": "light"
          },
          "paper_bgcolor": "white",
          "plot_bgcolor": "#E5ECF6",
          "polar": {
           "angularaxis": {
            "gridcolor": "white",
            "linecolor": "white",
            "ticks": ""
           },
           "bgcolor": "#E5ECF6",
           "radialaxis": {
            "gridcolor": "white",
            "linecolor": "white",
            "ticks": ""
           }
          },
          "scene": {
           "xaxis": {
            "backgroundcolor": "#E5ECF6",
            "gridcolor": "white",
            "gridwidth": 2,
            "linecolor": "white",
            "showbackground": true,
            "ticks": "",
            "zerolinecolor": "white"
           },
           "yaxis": {
            "backgroundcolor": "#E5ECF6",
            "gridcolor": "white",
            "gridwidth": 2,
            "linecolor": "white",
            "showbackground": true,
            "ticks": "",
            "zerolinecolor": "white"
           },
           "zaxis": {
            "backgroundcolor": "#E5ECF6",
            "gridcolor": "white",
            "gridwidth": 2,
            "linecolor": "white",
            "showbackground": true,
            "ticks": "",
            "zerolinecolor": "white"
           }
          },
          "shapedefaults": {
           "line": {
            "color": "#2a3f5f"
           }
          },
          "ternary": {
           "aaxis": {
            "gridcolor": "white",
            "linecolor": "white",
            "ticks": ""
           },
           "baxis": {
            "gridcolor": "white",
            "linecolor": "white",
            "ticks": ""
           },
           "bgcolor": "#E5ECF6",
           "caxis": {
            "gridcolor": "white",
            "linecolor": "white",
            "ticks": ""
           }
          },
          "title": {
           "x": 0.05
          },
          "xaxis": {
           "automargin": true,
           "gridcolor": "white",
           "linecolor": "white",
           "ticks": "",
           "title": {
            "standoff": 15
           },
           "zerolinecolor": "white",
           "zerolinewidth": 2
          },
          "yaxis": {
           "automargin": true,
           "gridcolor": "white",
           "linecolor": "white",
           "ticks": "",
           "title": {
            "standoff": 15
           },
           "zerolinecolor": "white",
           "zerolinewidth": 2
          }
         }
        },
        "title": {
         "font": {
          "size": 22
         },
         "text": "Foosball Usage Time Trend",
         "x": 0.5,
         "xanchor": "center",
         "y": 0.85
        },
        "width": 600,
        "xaxis": {
         "anchor": "y",
         "domain": [
          0,
          1
         ],
         "range": [
          0,
          125
         ],
         "tickfont": {
          "size": 16
         },
         "tickmode": "array",
         "tickvals": [
          0,
          25,
          50,
          75,
          100,
          125
         ],
         "title": {
          "font": {
           "size": 18
          },
          "text": "Duration (minutes)"
         }
        },
        "yaxis": {
         "anchor": "x",
         "domain": [
          0,
          1
         ],
         "gridcolor": "rgba(128, 128, 128, 0.5)",
         "tickfont": {
          "size": 16
         },
         "title": {
          "font": {
           "size": 18
          },
          "text": "# of Checkouts"
         }
        }
       }
      }
     },
     "metadata": {},
     "output_type": "display_data"
    },
    {
     "name": "stdout",
     "output_type": "stream",
     "text": [
      "Visualization saved as ../resources/viz/f23_foosball_duration_distribution.html\n"
     ]
    },
    {
     "data": {
      "application/vnd.plotly.v1+json": {
       "config": {
        "plotlyServerURL": "https://plot.ly"
       },
       "data": [
        {
         "alignmentgroup": "True",
         "bingroup": "x",
         "hovertemplate": "Duration (minutes)=%{x}<br>count=%{y}<extra></extra>",
         "legendgroup": "",
         "marker": {
          "color": "#636efa",
          "pattern": {
           "shape": ""
          }
         },
         "name": "",
         "offsetgroup": "",
         "orientation": "v",
         "showlegend": false,
         "type": "histogram",
         "x": [
          12,
          40,
          4,
          7,
          10,
          11,
          14,
          15,
          25,
          6,
          6,
          3,
          7,
          4,
          19,
          13,
          11,
          60,
          39,
          39,
          3,
          37,
          3,
          11,
          18,
          7,
          7,
          13,
          4,
          22,
          16,
          8,
          17,
          7,
          7,
          19,
          5,
          10,
          10,
          10,
          20,
          11,
          16,
          28,
          8,
          17,
          16,
          0,
          6,
          15,
          20,
          6,
          23,
          67,
          4,
          31,
          5,
          39,
          24,
          13,
          11,
          31,
          23,
          14,
          10,
          10,
          8,
          10,
          11,
          11,
          8,
          9,
          2,
          19,
          47,
          10,
          17,
          39,
          13,
          11,
          19,
          7,
          13,
          11,
          4,
          16,
          4,
          31,
          3,
          14,
          15,
          5,
          2,
          4,
          14,
          15,
          31,
          15,
          18,
          24,
          45,
          11,
          19,
          34,
          10,
          16,
          9,
          10,
          8,
          10,
          8,
          11,
          4,
          7,
          19,
          1,
          8,
          68,
          13,
          14,
          4,
          6,
          13,
          6,
          20,
          9,
          5,
          82,
          6,
          13,
          5,
          20,
          17,
          6,
          5,
          28,
          11,
          19,
          8,
          5,
          12,
          10,
          23,
          23,
          128,
          13,
          3,
          733,
          22,
          4,
          10,
          6,
          10,
          10,
          11,
          20,
          17,
          22,
          7,
          15,
          3,
          11,
          4,
          9,
          9,
          6,
          15,
          9,
          5,
          10,
          11,
          9,
          24,
          6,
          9,
          32,
          13,
          49,
          27,
          14,
          43,
          17,
          76,
          10,
          17,
          21,
          6,
          5,
          5,
          3,
          7,
          22,
          5,
          44,
          14,
          6,
          11,
          24,
          7,
          15,
          13,
          9,
          17,
          11,
          7,
          19,
          12,
          10,
          15,
          10,
          14,
          19,
          7,
          18,
          22,
          31,
          8,
          15,
          10,
          23,
          12,
          12,
          21,
          22,
          9,
          15,
          34,
          4,
          6,
          -1393,
          49,
          9,
          17,
          16,
          17,
          8,
          18,
          16,
          7,
          10,
          17,
          10,
          11,
          8,
          10,
          29,
          20,
          7,
          36,
          9,
          30,
          7,
          10,
          18,
          5,
          13,
          6,
          10,
          20,
          11,
          8,
          8,
          10,
          6,
          -1383,
          21,
          11,
          8,
          29,
          12,
          9,
          11,
          20,
          16,
          25,
          19,
          5,
          10,
          32,
          9,
          8,
          7,
          6,
          13,
          10,
          12,
          11,
          21,
          13,
          8,
          24,
          11,
          17,
          26,
          26,
          6,
          16,
          3,
          7,
          6,
          35,
          44,
          34,
          54,
          3,
          18,
          5,
          19,
          14,
          51,
          52,
          9,
          19,
          21,
          19,
          23,
          2,
          4,
          19,
          10,
          37,
          17,
          11,
          15,
          19,
          5,
          13,
          11,
          11,
          16,
          25,
          25,
          8,
          13,
          17,
          53,
          49,
          7,
          24,
          8,
          12,
          11,
          28,
          10,
          28,
          42,
          3,
          7,
          9,
          44,
          10,
          9,
          30,
          11,
          11,
          17,
          22,
          39,
          4,
          3,
          11,
          17,
          13,
          10,
          31,
          19,
          6,
          20,
          21,
          10,
          46,
          13,
          12,
          13,
          4,
          12,
          53,
          12,
          6,
          10,
          20,
          3,
          5,
          6,
          15,
          11,
          11,
          20,
          25,
          6,
          11,
          5,
          5,
          6,
          6,
          14,
          16,
          11,
          12,
          22,
          19,
          20,
          4,
          15,
          15,
          21,
          13,
          6,
          8,
          12,
          33,
          61,
          10,
          12,
          10,
          10,
          23,
          14,
          7,
          11,
          53,
          26,
          43,
          19,
          17,
          13,
          6,
          12,
          10,
          6,
          9,
          7,
          12,
          5,
          25,
          8,
          6,
          6,
          36,
          10,
          9,
          14,
          7,
          7,
          4,
          17,
          9,
          6,
          29,
          10,
          25,
          10,
          9,
          2,
          7,
          19,
          9,
          6,
          41,
          6,
          10,
          24,
          3,
          10,
          15,
          26,
          54,
          5,
          14,
          39,
          11,
          29,
          27,
          4,
          12,
          8,
          24,
          13,
          8,
          6,
          7,
          22,
          17,
          6,
          10,
          23,
          13,
          19,
          8,
          15,
          84,
          21,
          10,
          2,
          4,
          8,
          13,
          6,
          2,
          10,
          10,
          10,
          9,
          17,
          13,
          14,
          42,
          23,
          7,
          26,
          8,
          8,
          15,
          3,
          8,
          19,
          19,
          13,
          3,
          28,
          12,
          9,
          5,
          17,
          17,
          16,
          12,
          10,
          28,
          13,
          19,
          9,
          3,
          40,
          26,
          11,
          4,
          6,
          6,
          1,
          11,
          19,
          6,
          14,
          15,
          16,
          9,
          25,
          13,
          12,
          8,
          11,
          6,
          14,
          7,
          12,
          8,
          9,
          8,
          10,
          16,
          22,
          25,
          9,
          4,
          18,
          46,
          18,
          20,
          13,
          63,
          7,
          40,
          28,
          9
         ],
         "xaxis": "x",
         "yaxis": "y"
        }
       ],
       "layout": {
        "bargap": 0.1,
        "barmode": "relative",
        "font": {
         "color": "black",
         "family": "Droid Serif"
        },
        "height": 400,
        "hoverlabel": {
         "bgcolor": "black",
         "font": {
          "color": "white"
         }
        },
        "legend": {
         "tracegroupgap": 0
        },
        "paper_bgcolor": "white",
        "plot_bgcolor": "white",
        "showlegend": false,
        "template": {
         "data": {
          "bar": [
           {
            "error_x": {
             "color": "#2a3f5f"
            },
            "error_y": {
             "color": "#2a3f5f"
            },
            "marker": {
             "line": {
              "color": "#E5ECF6",
              "width": 0.5
             },
             "pattern": {
              "fillmode": "overlay",
              "size": 10,
              "solidity": 0.2
             }
            },
            "type": "bar"
           }
          ],
          "barpolar": [
           {
            "marker": {
             "line": {
              "color": "#E5ECF6",
              "width": 0.5
             },
             "pattern": {
              "fillmode": "overlay",
              "size": 10,
              "solidity": 0.2
             }
            },
            "type": "barpolar"
           }
          ],
          "carpet": [
           {
            "aaxis": {
             "endlinecolor": "#2a3f5f",
             "gridcolor": "white",
             "linecolor": "white",
             "minorgridcolor": "white",
             "startlinecolor": "#2a3f5f"
            },
            "baxis": {
             "endlinecolor": "#2a3f5f",
             "gridcolor": "white",
             "linecolor": "white",
             "minorgridcolor": "white",
             "startlinecolor": "#2a3f5f"
            },
            "type": "carpet"
           }
          ],
          "choropleth": [
           {
            "colorbar": {
             "outlinewidth": 0,
             "ticks": ""
            },
            "type": "choropleth"
           }
          ],
          "contour": [
           {
            "colorbar": {
             "outlinewidth": 0,
             "ticks": ""
            },
            "colorscale": [
             [
              0,
              "#0d0887"
             ],
             [
              0.1111111111111111,
              "#46039f"
             ],
             [
              0.2222222222222222,
              "#7201a8"
             ],
             [
              0.3333333333333333,
              "#9c179e"
             ],
             [
              0.4444444444444444,
              "#bd3786"
             ],
             [
              0.5555555555555556,
              "#d8576b"
             ],
             [
              0.6666666666666666,
              "#ed7953"
             ],
             [
              0.7777777777777778,
              "#fb9f3a"
             ],
             [
              0.8888888888888888,
              "#fdca26"
             ],
             [
              1,
              "#f0f921"
             ]
            ],
            "type": "contour"
           }
          ],
          "contourcarpet": [
           {
            "colorbar": {
             "outlinewidth": 0,
             "ticks": ""
            },
            "type": "contourcarpet"
           }
          ],
          "heatmap": [
           {
            "colorbar": {
             "outlinewidth": 0,
             "ticks": ""
            },
            "colorscale": [
             [
              0,
              "#0d0887"
             ],
             [
              0.1111111111111111,
              "#46039f"
             ],
             [
              0.2222222222222222,
              "#7201a8"
             ],
             [
              0.3333333333333333,
              "#9c179e"
             ],
             [
              0.4444444444444444,
              "#bd3786"
             ],
             [
              0.5555555555555556,
              "#d8576b"
             ],
             [
              0.6666666666666666,
              "#ed7953"
             ],
             [
              0.7777777777777778,
              "#fb9f3a"
             ],
             [
              0.8888888888888888,
              "#fdca26"
             ],
             [
              1,
              "#f0f921"
             ]
            ],
            "type": "heatmap"
           }
          ],
          "heatmapgl": [
           {
            "colorbar": {
             "outlinewidth": 0,
             "ticks": ""
            },
            "colorscale": [
             [
              0,
              "#0d0887"
             ],
             [
              0.1111111111111111,
              "#46039f"
             ],
             [
              0.2222222222222222,
              "#7201a8"
             ],
             [
              0.3333333333333333,
              "#9c179e"
             ],
             [
              0.4444444444444444,
              "#bd3786"
             ],
             [
              0.5555555555555556,
              "#d8576b"
             ],
             [
              0.6666666666666666,
              "#ed7953"
             ],
             [
              0.7777777777777778,
              "#fb9f3a"
             ],
             [
              0.8888888888888888,
              "#fdca26"
             ],
             [
              1,
              "#f0f921"
             ]
            ],
            "type": "heatmapgl"
           }
          ],
          "histogram": [
           {
            "marker": {
             "pattern": {
              "fillmode": "overlay",
              "size": 10,
              "solidity": 0.2
             }
            },
            "type": "histogram"
           }
          ],
          "histogram2d": [
           {
            "colorbar": {
             "outlinewidth": 0,
             "ticks": ""
            },
            "colorscale": [
             [
              0,
              "#0d0887"
             ],
             [
              0.1111111111111111,
              "#46039f"
             ],
             [
              0.2222222222222222,
              "#7201a8"
             ],
             [
              0.3333333333333333,
              "#9c179e"
             ],
             [
              0.4444444444444444,
              "#bd3786"
             ],
             [
              0.5555555555555556,
              "#d8576b"
             ],
             [
              0.6666666666666666,
              "#ed7953"
             ],
             [
              0.7777777777777778,
              "#fb9f3a"
             ],
             [
              0.8888888888888888,
              "#fdca26"
             ],
             [
              1,
              "#f0f921"
             ]
            ],
            "type": "histogram2d"
           }
          ],
          "histogram2dcontour": [
           {
            "colorbar": {
             "outlinewidth": 0,
             "ticks": ""
            },
            "colorscale": [
             [
              0,
              "#0d0887"
             ],
             [
              0.1111111111111111,
              "#46039f"
             ],
             [
              0.2222222222222222,
              "#7201a8"
             ],
             [
              0.3333333333333333,
              "#9c179e"
             ],
             [
              0.4444444444444444,
              "#bd3786"
             ],
             [
              0.5555555555555556,
              "#d8576b"
             ],
             [
              0.6666666666666666,
              "#ed7953"
             ],
             [
              0.7777777777777778,
              "#fb9f3a"
             ],
             [
              0.8888888888888888,
              "#fdca26"
             ],
             [
              1,
              "#f0f921"
             ]
            ],
            "type": "histogram2dcontour"
           }
          ],
          "mesh3d": [
           {
            "colorbar": {
             "outlinewidth": 0,
             "ticks": ""
            },
            "type": "mesh3d"
           }
          ],
          "parcoords": [
           {
            "line": {
             "colorbar": {
              "outlinewidth": 0,
              "ticks": ""
             }
            },
            "type": "parcoords"
           }
          ],
          "pie": [
           {
            "automargin": true,
            "type": "pie"
           }
          ],
          "scatter": [
           {
            "fillpattern": {
             "fillmode": "overlay",
             "size": 10,
             "solidity": 0.2
            },
            "type": "scatter"
           }
          ],
          "scatter3d": [
           {
            "line": {
             "colorbar": {
              "outlinewidth": 0,
              "ticks": ""
             }
            },
            "marker": {
             "colorbar": {
              "outlinewidth": 0,
              "ticks": ""
             }
            },
            "type": "scatter3d"
           }
          ],
          "scattercarpet": [
           {
            "marker": {
             "colorbar": {
              "outlinewidth": 0,
              "ticks": ""
             }
            },
            "type": "scattercarpet"
           }
          ],
          "scattergeo": [
           {
            "marker": {
             "colorbar": {
              "outlinewidth": 0,
              "ticks": ""
             }
            },
            "type": "scattergeo"
           }
          ],
          "scattergl": [
           {
            "marker": {
             "colorbar": {
              "outlinewidth": 0,
              "ticks": ""
             }
            },
            "type": "scattergl"
           }
          ],
          "scattermapbox": [
           {
            "marker": {
             "colorbar": {
              "outlinewidth": 0,
              "ticks": ""
             }
            },
            "type": "scattermapbox"
           }
          ],
          "scatterpolar": [
           {
            "marker": {
             "colorbar": {
              "outlinewidth": 0,
              "ticks": ""
             }
            },
            "type": "scatterpolar"
           }
          ],
          "scatterpolargl": [
           {
            "marker": {
             "colorbar": {
              "outlinewidth": 0,
              "ticks": ""
             }
            },
            "type": "scatterpolargl"
           }
          ],
          "scatterternary": [
           {
            "marker": {
             "colorbar": {
              "outlinewidth": 0,
              "ticks": ""
             }
            },
            "type": "scatterternary"
           }
          ],
          "surface": [
           {
            "colorbar": {
             "outlinewidth": 0,
             "ticks": ""
            },
            "colorscale": [
             [
              0,
              "#0d0887"
             ],
             [
              0.1111111111111111,
              "#46039f"
             ],
             [
              0.2222222222222222,
              "#7201a8"
             ],
             [
              0.3333333333333333,
              "#9c179e"
             ],
             [
              0.4444444444444444,
              "#bd3786"
             ],
             [
              0.5555555555555556,
              "#d8576b"
             ],
             [
              0.6666666666666666,
              "#ed7953"
             ],
             [
              0.7777777777777778,
              "#fb9f3a"
             ],
             [
              0.8888888888888888,
              "#fdca26"
             ],
             [
              1,
              "#f0f921"
             ]
            ],
            "type": "surface"
           }
          ],
          "table": [
           {
            "cells": {
             "fill": {
              "color": "#EBF0F8"
             },
             "line": {
              "color": "white"
             }
            },
            "header": {
             "fill": {
              "color": "#C8D4E3"
             },
             "line": {
              "color": "white"
             }
            },
            "type": "table"
           }
          ]
         },
         "layout": {
          "annotationdefaults": {
           "arrowcolor": "#2a3f5f",
           "arrowhead": 0,
           "arrowwidth": 1
          },
          "autotypenumbers": "strict",
          "coloraxis": {
           "colorbar": {
            "outlinewidth": 0,
            "ticks": ""
           }
          },
          "colorscale": {
           "diverging": [
            [
             0,
             "#8e0152"
            ],
            [
             0.1,
             "#c51b7d"
            ],
            [
             0.2,
             "#de77ae"
            ],
            [
             0.3,
             "#f1b6da"
            ],
            [
             0.4,
             "#fde0ef"
            ],
            [
             0.5,
             "#f7f7f7"
            ],
            [
             0.6,
             "#e6f5d0"
            ],
            [
             0.7,
             "#b8e186"
            ],
            [
             0.8,
             "#7fbc41"
            ],
            [
             0.9,
             "#4d9221"
            ],
            [
             1,
             "#276419"
            ]
           ],
           "sequential": [
            [
             0,
             "#0d0887"
            ],
            [
             0.1111111111111111,
             "#46039f"
            ],
            [
             0.2222222222222222,
             "#7201a8"
            ],
            [
             0.3333333333333333,
             "#9c179e"
            ],
            [
             0.4444444444444444,
             "#bd3786"
            ],
            [
             0.5555555555555556,
             "#d8576b"
            ],
            [
             0.6666666666666666,
             "#ed7953"
            ],
            [
             0.7777777777777778,
             "#fb9f3a"
            ],
            [
             0.8888888888888888,
             "#fdca26"
            ],
            [
             1,
             "#f0f921"
            ]
           ],
           "sequentialminus": [
            [
             0,
             "#0d0887"
            ],
            [
             0.1111111111111111,
             "#46039f"
            ],
            [
             0.2222222222222222,
             "#7201a8"
            ],
            [
             0.3333333333333333,
             "#9c179e"
            ],
            [
             0.4444444444444444,
             "#bd3786"
            ],
            [
             0.5555555555555556,
             "#d8576b"
            ],
            [
             0.6666666666666666,
             "#ed7953"
            ],
            [
             0.7777777777777778,
             "#fb9f3a"
            ],
            [
             0.8888888888888888,
             "#fdca26"
            ],
            [
             1,
             "#f0f921"
            ]
           ]
          },
          "colorway": [
           "#636efa",
           "#EF553B",
           "#00cc96",
           "#ab63fa",
           "#FFA15A",
           "#19d3f3",
           "#FF6692",
           "#B6E880",
           "#FF97FF",
           "#FECB52"
          ],
          "font": {
           "color": "#2a3f5f"
          },
          "geo": {
           "bgcolor": "white",
           "lakecolor": "white",
           "landcolor": "#E5ECF6",
           "showlakes": true,
           "showland": true,
           "subunitcolor": "white"
          },
          "hoverlabel": {
           "align": "left"
          },
          "hovermode": "closest",
          "mapbox": {
           "style": "light"
          },
          "paper_bgcolor": "white",
          "plot_bgcolor": "#E5ECF6",
          "polar": {
           "angularaxis": {
            "gridcolor": "white",
            "linecolor": "white",
            "ticks": ""
           },
           "bgcolor": "#E5ECF6",
           "radialaxis": {
            "gridcolor": "white",
            "linecolor": "white",
            "ticks": ""
           }
          },
          "scene": {
           "xaxis": {
            "backgroundcolor": "#E5ECF6",
            "gridcolor": "white",
            "gridwidth": 2,
            "linecolor": "white",
            "showbackground": true,
            "ticks": "",
            "zerolinecolor": "white"
           },
           "yaxis": {
            "backgroundcolor": "#E5ECF6",
            "gridcolor": "white",
            "gridwidth": 2,
            "linecolor": "white",
            "showbackground": true,
            "ticks": "",
            "zerolinecolor": "white"
           },
           "zaxis": {
            "backgroundcolor": "#E5ECF6",
            "gridcolor": "white",
            "gridwidth": 2,
            "linecolor": "white",
            "showbackground": true,
            "ticks": "",
            "zerolinecolor": "white"
           }
          },
          "shapedefaults": {
           "line": {
            "color": "#2a3f5f"
           }
          },
          "ternary": {
           "aaxis": {
            "gridcolor": "white",
            "linecolor": "white",
            "ticks": ""
           },
           "baxis": {
            "gridcolor": "white",
            "linecolor": "white",
            "ticks": ""
           },
           "bgcolor": "#E5ECF6",
           "caxis": {
            "gridcolor": "white",
            "linecolor": "white",
            "ticks": ""
           }
          },
          "title": {
           "x": 0.05
          },
          "xaxis": {
           "automargin": true,
           "gridcolor": "white",
           "linecolor": "white",
           "ticks": "",
           "title": {
            "standoff": 15
           },
           "zerolinecolor": "white",
           "zerolinewidth": 2
          },
          "yaxis": {
           "automargin": true,
           "gridcolor": "white",
           "linecolor": "white",
           "ticks": "",
           "title": {
            "standoff": 15
           },
           "zerolinecolor": "white",
           "zerolinewidth": 2
          }
         }
        },
        "title": {
         "font": {
          "size": 22
         },
         "text": "Air Hockey Usage Time Trend",
         "x": 0.5,
         "xanchor": "center",
         "y": 0.85
        },
        "width": 600,
        "xaxis": {
         "anchor": "y",
         "domain": [
          0,
          1
         ],
         "range": [
          0,
          750
         ],
         "tickfont": {
          "size": 16
         },
         "tickmode": "array",
         "tickvals": [
          0,
          25,
          50,
          75,
          100,
          125,
          150,
          175,
          200,
          225,
          250,
          275,
          300,
          325,
          350,
          375,
          400,
          425,
          450,
          475,
          500,
          525,
          550,
          575,
          600,
          625,
          650,
          675,
          700,
          725,
          750
         ],
         "title": {
          "font": {
           "size": 18
          },
          "text": "Duration (minutes)"
         }
        },
        "yaxis": {
         "anchor": "x",
         "domain": [
          0,
          1
         ],
         "gridcolor": "rgba(128, 128, 128, 0.5)",
         "tickfont": {
          "size": 16
         },
         "title": {
          "font": {
           "size": 18
          },
          "text": "# of Checkouts"
         }
        }
       }
      }
     },
     "metadata": {},
     "output_type": "display_data"
    },
    {
     "name": "stdout",
     "output_type": "stream",
     "text": [
      "Visualization saved as ../resources/viz/f23_air_hockey_duration_distribution.html\n"
     ]
    },
    {
     "data": {
      "application/vnd.plotly.v1+json": {
       "config": {
        "plotlyServerURL": "https://plot.ly"
       },
       "data": [
        {
         "alignmentgroup": "True",
         "bingroup": "x",
         "hovertemplate": "Duration (minutes)=%{x}<br>count=%{y}<extra></extra>",
         "legendgroup": "",
         "marker": {
          "color": "#636efa",
          "pattern": {
           "shape": ""
          }
         },
         "name": "",
         "offsetgroup": "",
         "orientation": "v",
         "showlegend": false,
         "type": "histogram",
         "x": [
          7,
          8,
          10,
          10,
          23,
          10,
          33,
          15,
          33,
          30,
          11,
          30,
          15,
          12,
          15,
          12,
          25,
          38,
          45,
          9,
          24,
          10,
          14,
          18,
          34,
          10,
          18,
          5,
          29,
          17,
          31,
          43,
          5,
          24,
          26,
          110,
          13,
          10,
          32,
          19,
          5,
          18,
          18,
          16,
          8,
          12,
          12,
          12,
          10,
          8,
          16,
          9,
          15,
          5,
          6,
          14,
          13,
          6,
          8,
          9,
          12,
          6,
          3,
          3,
          7,
          18,
          8,
          6,
          14,
          7,
          26,
          10,
          11,
          31,
          19,
          7,
          10,
          9,
          23,
          5,
          9,
          28,
          14,
          14,
          17,
          43,
          19,
          18,
          11,
          20,
          10,
          15,
          47,
          4,
          29,
          18,
          4,
          12
         ],
         "xaxis": "x",
         "yaxis": "y"
        }
       ],
       "layout": {
        "bargap": 0.1,
        "barmode": "relative",
        "font": {
         "color": "black",
         "family": "Droid Serif"
        },
        "height": 400,
        "hoverlabel": {
         "bgcolor": "black",
         "font": {
          "color": "white"
         }
        },
        "legend": {
         "tracegroupgap": 0
        },
        "paper_bgcolor": "white",
        "plot_bgcolor": "white",
        "showlegend": false,
        "template": {
         "data": {
          "bar": [
           {
            "error_x": {
             "color": "#2a3f5f"
            },
            "error_y": {
             "color": "#2a3f5f"
            },
            "marker": {
             "line": {
              "color": "#E5ECF6",
              "width": 0.5
             },
             "pattern": {
              "fillmode": "overlay",
              "size": 10,
              "solidity": 0.2
             }
            },
            "type": "bar"
           }
          ],
          "barpolar": [
           {
            "marker": {
             "line": {
              "color": "#E5ECF6",
              "width": 0.5
             },
             "pattern": {
              "fillmode": "overlay",
              "size": 10,
              "solidity": 0.2
             }
            },
            "type": "barpolar"
           }
          ],
          "carpet": [
           {
            "aaxis": {
             "endlinecolor": "#2a3f5f",
             "gridcolor": "white",
             "linecolor": "white",
             "minorgridcolor": "white",
             "startlinecolor": "#2a3f5f"
            },
            "baxis": {
             "endlinecolor": "#2a3f5f",
             "gridcolor": "white",
             "linecolor": "white",
             "minorgridcolor": "white",
             "startlinecolor": "#2a3f5f"
            },
            "type": "carpet"
           }
          ],
          "choropleth": [
           {
            "colorbar": {
             "outlinewidth": 0,
             "ticks": ""
            },
            "type": "choropleth"
           }
          ],
          "contour": [
           {
            "colorbar": {
             "outlinewidth": 0,
             "ticks": ""
            },
            "colorscale": [
             [
              0,
              "#0d0887"
             ],
             [
              0.1111111111111111,
              "#46039f"
             ],
             [
              0.2222222222222222,
              "#7201a8"
             ],
             [
              0.3333333333333333,
              "#9c179e"
             ],
             [
              0.4444444444444444,
              "#bd3786"
             ],
             [
              0.5555555555555556,
              "#d8576b"
             ],
             [
              0.6666666666666666,
              "#ed7953"
             ],
             [
              0.7777777777777778,
              "#fb9f3a"
             ],
             [
              0.8888888888888888,
              "#fdca26"
             ],
             [
              1,
              "#f0f921"
             ]
            ],
            "type": "contour"
           }
          ],
          "contourcarpet": [
           {
            "colorbar": {
             "outlinewidth": 0,
             "ticks": ""
            },
            "type": "contourcarpet"
           }
          ],
          "heatmap": [
           {
            "colorbar": {
             "outlinewidth": 0,
             "ticks": ""
            },
            "colorscale": [
             [
              0,
              "#0d0887"
             ],
             [
              0.1111111111111111,
              "#46039f"
             ],
             [
              0.2222222222222222,
              "#7201a8"
             ],
             [
              0.3333333333333333,
              "#9c179e"
             ],
             [
              0.4444444444444444,
              "#bd3786"
             ],
             [
              0.5555555555555556,
              "#d8576b"
             ],
             [
              0.6666666666666666,
              "#ed7953"
             ],
             [
              0.7777777777777778,
              "#fb9f3a"
             ],
             [
              0.8888888888888888,
              "#fdca26"
             ],
             [
              1,
              "#f0f921"
             ]
            ],
            "type": "heatmap"
           }
          ],
          "heatmapgl": [
           {
            "colorbar": {
             "outlinewidth": 0,
             "ticks": ""
            },
            "colorscale": [
             [
              0,
              "#0d0887"
             ],
             [
              0.1111111111111111,
              "#46039f"
             ],
             [
              0.2222222222222222,
              "#7201a8"
             ],
             [
              0.3333333333333333,
              "#9c179e"
             ],
             [
              0.4444444444444444,
              "#bd3786"
             ],
             [
              0.5555555555555556,
              "#d8576b"
             ],
             [
              0.6666666666666666,
              "#ed7953"
             ],
             [
              0.7777777777777778,
              "#fb9f3a"
             ],
             [
              0.8888888888888888,
              "#fdca26"
             ],
             [
              1,
              "#f0f921"
             ]
            ],
            "type": "heatmapgl"
           }
          ],
          "histogram": [
           {
            "marker": {
             "pattern": {
              "fillmode": "overlay",
              "size": 10,
              "solidity": 0.2
             }
            },
            "type": "histogram"
           }
          ],
          "histogram2d": [
           {
            "colorbar": {
             "outlinewidth": 0,
             "ticks": ""
            },
            "colorscale": [
             [
              0,
              "#0d0887"
             ],
             [
              0.1111111111111111,
              "#46039f"
             ],
             [
              0.2222222222222222,
              "#7201a8"
             ],
             [
              0.3333333333333333,
              "#9c179e"
             ],
             [
              0.4444444444444444,
              "#bd3786"
             ],
             [
              0.5555555555555556,
              "#d8576b"
             ],
             [
              0.6666666666666666,
              "#ed7953"
             ],
             [
              0.7777777777777778,
              "#fb9f3a"
             ],
             [
              0.8888888888888888,
              "#fdca26"
             ],
             [
              1,
              "#f0f921"
             ]
            ],
            "type": "histogram2d"
           }
          ],
          "histogram2dcontour": [
           {
            "colorbar": {
             "outlinewidth": 0,
             "ticks": ""
            },
            "colorscale": [
             [
              0,
              "#0d0887"
             ],
             [
              0.1111111111111111,
              "#46039f"
             ],
             [
              0.2222222222222222,
              "#7201a8"
             ],
             [
              0.3333333333333333,
              "#9c179e"
             ],
             [
              0.4444444444444444,
              "#bd3786"
             ],
             [
              0.5555555555555556,
              "#d8576b"
             ],
             [
              0.6666666666666666,
              "#ed7953"
             ],
             [
              0.7777777777777778,
              "#fb9f3a"
             ],
             [
              0.8888888888888888,
              "#fdca26"
             ],
             [
              1,
              "#f0f921"
             ]
            ],
            "type": "histogram2dcontour"
           }
          ],
          "mesh3d": [
           {
            "colorbar": {
             "outlinewidth": 0,
             "ticks": ""
            },
            "type": "mesh3d"
           }
          ],
          "parcoords": [
           {
            "line": {
             "colorbar": {
              "outlinewidth": 0,
              "ticks": ""
             }
            },
            "type": "parcoords"
           }
          ],
          "pie": [
           {
            "automargin": true,
            "type": "pie"
           }
          ],
          "scatter": [
           {
            "fillpattern": {
             "fillmode": "overlay",
             "size": 10,
             "solidity": 0.2
            },
            "type": "scatter"
           }
          ],
          "scatter3d": [
           {
            "line": {
             "colorbar": {
              "outlinewidth": 0,
              "ticks": ""
             }
            },
            "marker": {
             "colorbar": {
              "outlinewidth": 0,
              "ticks": ""
             }
            },
            "type": "scatter3d"
           }
          ],
          "scattercarpet": [
           {
            "marker": {
             "colorbar": {
              "outlinewidth": 0,
              "ticks": ""
             }
            },
            "type": "scattercarpet"
           }
          ],
          "scattergeo": [
           {
            "marker": {
             "colorbar": {
              "outlinewidth": 0,
              "ticks": ""
             }
            },
            "type": "scattergeo"
           }
          ],
          "scattergl": [
           {
            "marker": {
             "colorbar": {
              "outlinewidth": 0,
              "ticks": ""
             }
            },
            "type": "scattergl"
           }
          ],
          "scattermapbox": [
           {
            "marker": {
             "colorbar": {
              "outlinewidth": 0,
              "ticks": ""
             }
            },
            "type": "scattermapbox"
           }
          ],
          "scatterpolar": [
           {
            "marker": {
             "colorbar": {
              "outlinewidth": 0,
              "ticks": ""
             }
            },
            "type": "scatterpolar"
           }
          ],
          "scatterpolargl": [
           {
            "marker": {
             "colorbar": {
              "outlinewidth": 0,
              "ticks": ""
             }
            },
            "type": "scatterpolargl"
           }
          ],
          "scatterternary": [
           {
            "marker": {
             "colorbar": {
              "outlinewidth": 0,
              "ticks": ""
             }
            },
            "type": "scatterternary"
           }
          ],
          "surface": [
           {
            "colorbar": {
             "outlinewidth": 0,
             "ticks": ""
            },
            "colorscale": [
             [
              0,
              "#0d0887"
             ],
             [
              0.1111111111111111,
              "#46039f"
             ],
             [
              0.2222222222222222,
              "#7201a8"
             ],
             [
              0.3333333333333333,
              "#9c179e"
             ],
             [
              0.4444444444444444,
              "#bd3786"
             ],
             [
              0.5555555555555556,
              "#d8576b"
             ],
             [
              0.6666666666666666,
              "#ed7953"
             ],
             [
              0.7777777777777778,
              "#fb9f3a"
             ],
             [
              0.8888888888888888,
              "#fdca26"
             ],
             [
              1,
              "#f0f921"
             ]
            ],
            "type": "surface"
           }
          ],
          "table": [
           {
            "cells": {
             "fill": {
              "color": "#EBF0F8"
             },
             "line": {
              "color": "white"
             }
            },
            "header": {
             "fill": {
              "color": "#C8D4E3"
             },
             "line": {
              "color": "white"
             }
            },
            "type": "table"
           }
          ]
         },
         "layout": {
          "annotationdefaults": {
           "arrowcolor": "#2a3f5f",
           "arrowhead": 0,
           "arrowwidth": 1
          },
          "autotypenumbers": "strict",
          "coloraxis": {
           "colorbar": {
            "outlinewidth": 0,
            "ticks": ""
           }
          },
          "colorscale": {
           "diverging": [
            [
             0,
             "#8e0152"
            ],
            [
             0.1,
             "#c51b7d"
            ],
            [
             0.2,
             "#de77ae"
            ],
            [
             0.3,
             "#f1b6da"
            ],
            [
             0.4,
             "#fde0ef"
            ],
            [
             0.5,
             "#f7f7f7"
            ],
            [
             0.6,
             "#e6f5d0"
            ],
            [
             0.7,
             "#b8e186"
            ],
            [
             0.8,
             "#7fbc41"
            ],
            [
             0.9,
             "#4d9221"
            ],
            [
             1,
             "#276419"
            ]
           ],
           "sequential": [
            [
             0,
             "#0d0887"
            ],
            [
             0.1111111111111111,
             "#46039f"
            ],
            [
             0.2222222222222222,
             "#7201a8"
            ],
            [
             0.3333333333333333,
             "#9c179e"
            ],
            [
             0.4444444444444444,
             "#bd3786"
            ],
            [
             0.5555555555555556,
             "#d8576b"
            ],
            [
             0.6666666666666666,
             "#ed7953"
            ],
            [
             0.7777777777777778,
             "#fb9f3a"
            ],
            [
             0.8888888888888888,
             "#fdca26"
            ],
            [
             1,
             "#f0f921"
            ]
           ],
           "sequentialminus": [
            [
             0,
             "#0d0887"
            ],
            [
             0.1111111111111111,
             "#46039f"
            ],
            [
             0.2222222222222222,
             "#7201a8"
            ],
            [
             0.3333333333333333,
             "#9c179e"
            ],
            [
             0.4444444444444444,
             "#bd3786"
            ],
            [
             0.5555555555555556,
             "#d8576b"
            ],
            [
             0.6666666666666666,
             "#ed7953"
            ],
            [
             0.7777777777777778,
             "#fb9f3a"
            ],
            [
             0.8888888888888888,
             "#fdca26"
            ],
            [
             1,
             "#f0f921"
            ]
           ]
          },
          "colorway": [
           "#636efa",
           "#EF553B",
           "#00cc96",
           "#ab63fa",
           "#FFA15A",
           "#19d3f3",
           "#FF6692",
           "#B6E880",
           "#FF97FF",
           "#FECB52"
          ],
          "font": {
           "color": "#2a3f5f"
          },
          "geo": {
           "bgcolor": "white",
           "lakecolor": "white",
           "landcolor": "#E5ECF6",
           "showlakes": true,
           "showland": true,
           "subunitcolor": "white"
          },
          "hoverlabel": {
           "align": "left"
          },
          "hovermode": "closest",
          "mapbox": {
           "style": "light"
          },
          "paper_bgcolor": "white",
          "plot_bgcolor": "#E5ECF6",
          "polar": {
           "angularaxis": {
            "gridcolor": "white",
            "linecolor": "white",
            "ticks": ""
           },
           "bgcolor": "#E5ECF6",
           "radialaxis": {
            "gridcolor": "white",
            "linecolor": "white",
            "ticks": ""
           }
          },
          "scene": {
           "xaxis": {
            "backgroundcolor": "#E5ECF6",
            "gridcolor": "white",
            "gridwidth": 2,
            "linecolor": "white",
            "showbackground": true,
            "ticks": "",
            "zerolinecolor": "white"
           },
           "yaxis": {
            "backgroundcolor": "#E5ECF6",
            "gridcolor": "white",
            "gridwidth": 2,
            "linecolor": "white",
            "showbackground": true,
            "ticks": "",
            "zerolinecolor": "white"
           },
           "zaxis": {
            "backgroundcolor": "#E5ECF6",
            "gridcolor": "white",
            "gridwidth": 2,
            "linecolor": "white",
            "showbackground": true,
            "ticks": "",
            "zerolinecolor": "white"
           }
          },
          "shapedefaults": {
           "line": {
            "color": "#2a3f5f"
           }
          },
          "ternary": {
           "aaxis": {
            "gridcolor": "white",
            "linecolor": "white",
            "ticks": ""
           },
           "baxis": {
            "gridcolor": "white",
            "linecolor": "white",
            "ticks": ""
           },
           "bgcolor": "#E5ECF6",
           "caxis": {
            "gridcolor": "white",
            "linecolor": "white",
            "ticks": ""
           }
          },
          "title": {
           "x": 0.05
          },
          "xaxis": {
           "automargin": true,
           "gridcolor": "white",
           "linecolor": "white",
           "ticks": "",
           "title": {
            "standoff": 15
           },
           "zerolinecolor": "white",
           "zerolinewidth": 2
          },
          "yaxis": {
           "automargin": true,
           "gridcolor": "white",
           "linecolor": "white",
           "ticks": "",
           "title": {
            "standoff": 15
           },
           "zerolinecolor": "white",
           "zerolinewidth": 2
          }
         }
        },
        "title": {
         "font": {
          "size": 22
         },
         "text": "Shuffleboard Usage Time Trend",
         "x": 0.5,
         "xanchor": "center",
         "y": 0.85
        },
        "width": 600,
        "xaxis": {
         "anchor": "y",
         "domain": [
          0,
          1
         ],
         "range": [
          0,
          125
         ],
         "tickfont": {
          "size": 16
         },
         "tickmode": "array",
         "tickvals": [
          0,
          25,
          50,
          75,
          100,
          125
         ],
         "title": {
          "font": {
           "size": 18
          },
          "text": "Duration (minutes)"
         }
        },
        "yaxis": {
         "anchor": "x",
         "domain": [
          0,
          1
         ],
         "gridcolor": "rgba(128, 128, 128, 0.5)",
         "tickfont": {
          "size": 16
         },
         "title": {
          "font": {
           "size": 18
          },
          "text": "# of Checkouts"
         }
        }
       }
      }
     },
     "metadata": {},
     "output_type": "display_data"
    },
    {
     "name": "stdout",
     "output_type": "stream",
     "text": [
      "Visualization saved as ../resources/viz/f23_shuffleboard_duration_distribution.html\n",
      "Table Game Visualizations Complete!\n",
      "\n",
      "\n",
      "Running Board Game Visualizations...\n"
     ]
    },
    {
     "data": {
      "application/vnd.plotly.v1+json": {
       "config": {
        "plotlyServerURL": "https://plot.ly"
       },
       "data": [
        {
         "alignmentgroup": "True",
         "bingroup": "x",
         "hovertemplate": "Duration (minutes)=%{x}<br>count=%{y}<extra></extra>",
         "legendgroup": "",
         "marker": {
          "color": "#636efa",
          "pattern": {
           "shape": ""
          }
         },
         "name": "",
         "offsetgroup": "",
         "orientation": "v",
         "showlegend": false,
         "type": "histogram",
         "x": [
          22,
          28,
          97,
          31,
          27,
          19,
          32,
          35,
          27,
          26,
          4,
          7,
          76,
          54,
          21,
          71,
          28,
          28,
          28,
          38,
          45,
          42,
          33,
          46,
          21,
          17,
          45,
          46,
          40,
          42,
          41,
          24,
          29,
          29,
          51,
          57,
          24,
          18,
          42,
          9,
          35,
          47,
          54,
          19,
          65,
          3,
          15,
          37,
          26,
          56,
          47,
          43,
          73,
          33,
          75,
          75,
          41,
          22,
          66,
          28,
          10,
          33,
          38,
          45,
          31,
          18,
          33,
          44,
          54,
          47,
          84,
          22,
          82,
          33,
          32,
          48,
          48,
          50,
          95,
          69,
          54,
          46,
          54,
          54,
          20,
          37,
          53,
          79,
          16,
          20,
          49,
          30,
          48,
          36,
          150,
          60,
          22,
          48,
          62,
          130,
          50,
          18,
          80,
          119,
          75
         ],
         "xaxis": "x",
         "yaxis": "y"
        }
       ],
       "layout": {
        "bargap": 0.1,
        "barmode": "relative",
        "font": {
         "color": "black",
         "family": "Droid Serif"
        },
        "height": 400,
        "hoverlabel": {
         "bgcolor": "black",
         "font": {
          "color": "white"
         }
        },
        "legend": {
         "tracegroupgap": 0
        },
        "paper_bgcolor": "white",
        "plot_bgcolor": "white",
        "showlegend": false,
        "template": {
         "data": {
          "bar": [
           {
            "error_x": {
             "color": "#2a3f5f"
            },
            "error_y": {
             "color": "#2a3f5f"
            },
            "marker": {
             "line": {
              "color": "#E5ECF6",
              "width": 0.5
             },
             "pattern": {
              "fillmode": "overlay",
              "size": 10,
              "solidity": 0.2
             }
            },
            "type": "bar"
           }
          ],
          "barpolar": [
           {
            "marker": {
             "line": {
              "color": "#E5ECF6",
              "width": 0.5
             },
             "pattern": {
              "fillmode": "overlay",
              "size": 10,
              "solidity": 0.2
             }
            },
            "type": "barpolar"
           }
          ],
          "carpet": [
           {
            "aaxis": {
             "endlinecolor": "#2a3f5f",
             "gridcolor": "white",
             "linecolor": "white",
             "minorgridcolor": "white",
             "startlinecolor": "#2a3f5f"
            },
            "baxis": {
             "endlinecolor": "#2a3f5f",
             "gridcolor": "white",
             "linecolor": "white",
             "minorgridcolor": "white",
             "startlinecolor": "#2a3f5f"
            },
            "type": "carpet"
           }
          ],
          "choropleth": [
           {
            "colorbar": {
             "outlinewidth": 0,
             "ticks": ""
            },
            "type": "choropleth"
           }
          ],
          "contour": [
           {
            "colorbar": {
             "outlinewidth": 0,
             "ticks": ""
            },
            "colorscale": [
             [
              0,
              "#0d0887"
             ],
             [
              0.1111111111111111,
              "#46039f"
             ],
             [
              0.2222222222222222,
              "#7201a8"
             ],
             [
              0.3333333333333333,
              "#9c179e"
             ],
             [
              0.4444444444444444,
              "#bd3786"
             ],
             [
              0.5555555555555556,
              "#d8576b"
             ],
             [
              0.6666666666666666,
              "#ed7953"
             ],
             [
              0.7777777777777778,
              "#fb9f3a"
             ],
             [
              0.8888888888888888,
              "#fdca26"
             ],
             [
              1,
              "#f0f921"
             ]
            ],
            "type": "contour"
           }
          ],
          "contourcarpet": [
           {
            "colorbar": {
             "outlinewidth": 0,
             "ticks": ""
            },
            "type": "contourcarpet"
           }
          ],
          "heatmap": [
           {
            "colorbar": {
             "outlinewidth": 0,
             "ticks": ""
            },
            "colorscale": [
             [
              0,
              "#0d0887"
             ],
             [
              0.1111111111111111,
              "#46039f"
             ],
             [
              0.2222222222222222,
              "#7201a8"
             ],
             [
              0.3333333333333333,
              "#9c179e"
             ],
             [
              0.4444444444444444,
              "#bd3786"
             ],
             [
              0.5555555555555556,
              "#d8576b"
             ],
             [
              0.6666666666666666,
              "#ed7953"
             ],
             [
              0.7777777777777778,
              "#fb9f3a"
             ],
             [
              0.8888888888888888,
              "#fdca26"
             ],
             [
              1,
              "#f0f921"
             ]
            ],
            "type": "heatmap"
           }
          ],
          "heatmapgl": [
           {
            "colorbar": {
             "outlinewidth": 0,
             "ticks": ""
            },
            "colorscale": [
             [
              0,
              "#0d0887"
             ],
             [
              0.1111111111111111,
              "#46039f"
             ],
             [
              0.2222222222222222,
              "#7201a8"
             ],
             [
              0.3333333333333333,
              "#9c179e"
             ],
             [
              0.4444444444444444,
              "#bd3786"
             ],
             [
              0.5555555555555556,
              "#d8576b"
             ],
             [
              0.6666666666666666,
              "#ed7953"
             ],
             [
              0.7777777777777778,
              "#fb9f3a"
             ],
             [
              0.8888888888888888,
              "#fdca26"
             ],
             [
              1,
              "#f0f921"
             ]
            ],
            "type": "heatmapgl"
           }
          ],
          "histogram": [
           {
            "marker": {
             "pattern": {
              "fillmode": "overlay",
              "size": 10,
              "solidity": 0.2
             }
            },
            "type": "histogram"
           }
          ],
          "histogram2d": [
           {
            "colorbar": {
             "outlinewidth": 0,
             "ticks": ""
            },
            "colorscale": [
             [
              0,
              "#0d0887"
             ],
             [
              0.1111111111111111,
              "#46039f"
             ],
             [
              0.2222222222222222,
              "#7201a8"
             ],
             [
              0.3333333333333333,
              "#9c179e"
             ],
             [
              0.4444444444444444,
              "#bd3786"
             ],
             [
              0.5555555555555556,
              "#d8576b"
             ],
             [
              0.6666666666666666,
              "#ed7953"
             ],
             [
              0.7777777777777778,
              "#fb9f3a"
             ],
             [
              0.8888888888888888,
              "#fdca26"
             ],
             [
              1,
              "#f0f921"
             ]
            ],
            "type": "histogram2d"
           }
          ],
          "histogram2dcontour": [
           {
            "colorbar": {
             "outlinewidth": 0,
             "ticks": ""
            },
            "colorscale": [
             [
              0,
              "#0d0887"
             ],
             [
              0.1111111111111111,
              "#46039f"
             ],
             [
              0.2222222222222222,
              "#7201a8"
             ],
             [
              0.3333333333333333,
              "#9c179e"
             ],
             [
              0.4444444444444444,
              "#bd3786"
             ],
             [
              0.5555555555555556,
              "#d8576b"
             ],
             [
              0.6666666666666666,
              "#ed7953"
             ],
             [
              0.7777777777777778,
              "#fb9f3a"
             ],
             [
              0.8888888888888888,
              "#fdca26"
             ],
             [
              1,
              "#f0f921"
             ]
            ],
            "type": "histogram2dcontour"
           }
          ],
          "mesh3d": [
           {
            "colorbar": {
             "outlinewidth": 0,
             "ticks": ""
            },
            "type": "mesh3d"
           }
          ],
          "parcoords": [
           {
            "line": {
             "colorbar": {
              "outlinewidth": 0,
              "ticks": ""
             }
            },
            "type": "parcoords"
           }
          ],
          "pie": [
           {
            "automargin": true,
            "type": "pie"
           }
          ],
          "scatter": [
           {
            "fillpattern": {
             "fillmode": "overlay",
             "size": 10,
             "solidity": 0.2
            },
            "type": "scatter"
           }
          ],
          "scatter3d": [
           {
            "line": {
             "colorbar": {
              "outlinewidth": 0,
              "ticks": ""
             }
            },
            "marker": {
             "colorbar": {
              "outlinewidth": 0,
              "ticks": ""
             }
            },
            "type": "scatter3d"
           }
          ],
          "scattercarpet": [
           {
            "marker": {
             "colorbar": {
              "outlinewidth": 0,
              "ticks": ""
             }
            },
            "type": "scattercarpet"
           }
          ],
          "scattergeo": [
           {
            "marker": {
             "colorbar": {
              "outlinewidth": 0,
              "ticks": ""
             }
            },
            "type": "scattergeo"
           }
          ],
          "scattergl": [
           {
            "marker": {
             "colorbar": {
              "outlinewidth": 0,
              "ticks": ""
             }
            },
            "type": "scattergl"
           }
          ],
          "scattermapbox": [
           {
            "marker": {
             "colorbar": {
              "outlinewidth": 0,
              "ticks": ""
             }
            },
            "type": "scattermapbox"
           }
          ],
          "scatterpolar": [
           {
            "marker": {
             "colorbar": {
              "outlinewidth": 0,
              "ticks": ""
             }
            },
            "type": "scatterpolar"
           }
          ],
          "scatterpolargl": [
           {
            "marker": {
             "colorbar": {
              "outlinewidth": 0,
              "ticks": ""
             }
            },
            "type": "scatterpolargl"
           }
          ],
          "scatterternary": [
           {
            "marker": {
             "colorbar": {
              "outlinewidth": 0,
              "ticks": ""
             }
            },
            "type": "scatterternary"
           }
          ],
          "surface": [
           {
            "colorbar": {
             "outlinewidth": 0,
             "ticks": ""
            },
            "colorscale": [
             [
              0,
              "#0d0887"
             ],
             [
              0.1111111111111111,
              "#46039f"
             ],
             [
              0.2222222222222222,
              "#7201a8"
             ],
             [
              0.3333333333333333,
              "#9c179e"
             ],
             [
              0.4444444444444444,
              "#bd3786"
             ],
             [
              0.5555555555555556,
              "#d8576b"
             ],
             [
              0.6666666666666666,
              "#ed7953"
             ],
             [
              0.7777777777777778,
              "#fb9f3a"
             ],
             [
              0.8888888888888888,
              "#fdca26"
             ],
             [
              1,
              "#f0f921"
             ]
            ],
            "type": "surface"
           }
          ],
          "table": [
           {
            "cells": {
             "fill": {
              "color": "#EBF0F8"
             },
             "line": {
              "color": "white"
             }
            },
            "header": {
             "fill": {
              "color": "#C8D4E3"
             },
             "line": {
              "color": "white"
             }
            },
            "type": "table"
           }
          ]
         },
         "layout": {
          "annotationdefaults": {
           "arrowcolor": "#2a3f5f",
           "arrowhead": 0,
           "arrowwidth": 1
          },
          "autotypenumbers": "strict",
          "coloraxis": {
           "colorbar": {
            "outlinewidth": 0,
            "ticks": ""
           }
          },
          "colorscale": {
           "diverging": [
            [
             0,
             "#8e0152"
            ],
            [
             0.1,
             "#c51b7d"
            ],
            [
             0.2,
             "#de77ae"
            ],
            [
             0.3,
             "#f1b6da"
            ],
            [
             0.4,
             "#fde0ef"
            ],
            [
             0.5,
             "#f7f7f7"
            ],
            [
             0.6,
             "#e6f5d0"
            ],
            [
             0.7,
             "#b8e186"
            ],
            [
             0.8,
             "#7fbc41"
            ],
            [
             0.9,
             "#4d9221"
            ],
            [
             1,
             "#276419"
            ]
           ],
           "sequential": [
            [
             0,
             "#0d0887"
            ],
            [
             0.1111111111111111,
             "#46039f"
            ],
            [
             0.2222222222222222,
             "#7201a8"
            ],
            [
             0.3333333333333333,
             "#9c179e"
            ],
            [
             0.4444444444444444,
             "#bd3786"
            ],
            [
             0.5555555555555556,
             "#d8576b"
            ],
            [
             0.6666666666666666,
             "#ed7953"
            ],
            [
             0.7777777777777778,
             "#fb9f3a"
            ],
            [
             0.8888888888888888,
             "#fdca26"
            ],
            [
             1,
             "#f0f921"
            ]
           ],
           "sequentialminus": [
            [
             0,
             "#0d0887"
            ],
            [
             0.1111111111111111,
             "#46039f"
            ],
            [
             0.2222222222222222,
             "#7201a8"
            ],
            [
             0.3333333333333333,
             "#9c179e"
            ],
            [
             0.4444444444444444,
             "#bd3786"
            ],
            [
             0.5555555555555556,
             "#d8576b"
            ],
            [
             0.6666666666666666,
             "#ed7953"
            ],
            [
             0.7777777777777778,
             "#fb9f3a"
            ],
            [
             0.8888888888888888,
             "#fdca26"
            ],
            [
             1,
             "#f0f921"
            ]
           ]
          },
          "colorway": [
           "#636efa",
           "#EF553B",
           "#00cc96",
           "#ab63fa",
           "#FFA15A",
           "#19d3f3",
           "#FF6692",
           "#B6E880",
           "#FF97FF",
           "#FECB52"
          ],
          "font": {
           "color": "#2a3f5f"
          },
          "geo": {
           "bgcolor": "white",
           "lakecolor": "white",
           "landcolor": "#E5ECF6",
           "showlakes": true,
           "showland": true,
           "subunitcolor": "white"
          },
          "hoverlabel": {
           "align": "left"
          },
          "hovermode": "closest",
          "mapbox": {
           "style": "light"
          },
          "paper_bgcolor": "white",
          "plot_bgcolor": "#E5ECF6",
          "polar": {
           "angularaxis": {
            "gridcolor": "white",
            "linecolor": "white",
            "ticks": ""
           },
           "bgcolor": "#E5ECF6",
           "radialaxis": {
            "gridcolor": "white",
            "linecolor": "white",
            "ticks": ""
           }
          },
          "scene": {
           "xaxis": {
            "backgroundcolor": "#E5ECF6",
            "gridcolor": "white",
            "gridwidth": 2,
            "linecolor": "white",
            "showbackground": true,
            "ticks": "",
            "zerolinecolor": "white"
           },
           "yaxis": {
            "backgroundcolor": "#E5ECF6",
            "gridcolor": "white",
            "gridwidth": 2,
            "linecolor": "white",
            "showbackground": true,
            "ticks": "",
            "zerolinecolor": "white"
           },
           "zaxis": {
            "backgroundcolor": "#E5ECF6",
            "gridcolor": "white",
            "gridwidth": 2,
            "linecolor": "white",
            "showbackground": true,
            "ticks": "",
            "zerolinecolor": "white"
           }
          },
          "shapedefaults": {
           "line": {
            "color": "#2a3f5f"
           }
          },
          "ternary": {
           "aaxis": {
            "gridcolor": "white",
            "linecolor": "white",
            "ticks": ""
           },
           "baxis": {
            "gridcolor": "white",
            "linecolor": "white",
            "ticks": ""
           },
           "bgcolor": "#E5ECF6",
           "caxis": {
            "gridcolor": "white",
            "linecolor": "white",
            "ticks": ""
           }
          },
          "title": {
           "x": 0.05
          },
          "xaxis": {
           "automargin": true,
           "gridcolor": "white",
           "linecolor": "white",
           "ticks": "",
           "title": {
            "standoff": 15
           },
           "zerolinecolor": "white",
           "zerolinewidth": 2
          },
          "yaxis": {
           "automargin": true,
           "gridcolor": "white",
           "linecolor": "white",
           "ticks": "",
           "title": {
            "standoff": 15
           },
           "zerolinecolor": "white",
           "zerolinewidth": 2
          }
         }
        },
        "title": {
         "font": {
          "size": 22
         },
         "text": "Board Game Usage Time Trend",
         "x": 0.5,
         "xanchor": "center",
         "y": 0.85
        },
        "width": 600,
        "xaxis": {
         "anchor": "y",
         "domain": [
          0,
          1
         ],
         "tickfont": {
          "size": 16
         },
         "tickmode": "array",
         "tickvals": [
          0,
          25,
          50,
          75,
          100,
          125
         ],
         "title": {
          "text": "Duration (minutes)"
         }
        },
        "yaxis": {
         "anchor": "x",
         "domain": [
          0,
          1
         ],
         "gridcolor": "rgba(128, 128, 128, 0.5)",
         "tickfont": {
          "size": 16
         },
         "title": {
          "text": "# of Checkouts"
         }
        }
       }
      }
     },
     "metadata": {},
     "output_type": "display_data"
    },
    {
     "name": "stdout",
     "output_type": "stream",
     "text": [
      "Visualization saved as ../resources/viz/f23_board_game_duration_distribution.html\n"
     ]
    },
    {
     "data": {
      "application/vnd.plotly.v1+json": {
       "config": {
        "plotlyServerURL": "https://plot.ly"
       },
       "data": [
        {
         "hovertemplate": "<b>%{hovertext}</b><br><br>Game=Bannagrams<br>Average_Duration=%{x}<br>Frequency=%{y}<extra></extra>",
         "hovertext": [
          "Bannagrams"
         ],
         "legendgroup": "Bannagrams",
         "marker": {
          "color": "blue",
          "size": 20,
          "symbol": "circle"
         },
         "mode": "markers",
         "name": "Bannagrams",
         "orientation": "v",
         "showlegend": true,
         "type": "scatter",
         "x": [
          42
         ],
         "xaxis": "x",
         "y": [
          2
         ],
         "yaxis": "y"
        },
        {
         "hovertemplate": "<b>%{hovertext}</b><br><br>Game=Catan<br>Average_Duration=%{x}<br>Frequency=%{y}<extra></extra>",
         "hovertext": [
          "Catan"
         ],
         "legendgroup": "Catan",
         "marker": {
          "color": "red",
          "size": 20,
          "symbol": "circle"
         },
         "mode": "markers",
         "name": "Catan",
         "orientation": "v",
         "showlegend": true,
         "type": "scatter",
         "x": [
          79
         ],
         "xaxis": "x",
         "y": [
          7
         ],
         "yaxis": "y"
        },
        {
         "hovertemplate": "<b>%{hovertext}</b><br><br>Game=Chess<br>Average_Duration=%{x}<br>Frequency=%{y}<extra></extra>",
         "hovertext": [
          "Chess"
         ],
         "legendgroup": "Chess",
         "marker": {
          "color": "green",
          "size": 20,
          "symbol": "circle"
         },
         "mode": "markers",
         "name": "Chess",
         "orientation": "v",
         "showlegend": true,
         "type": "scatter",
         "x": [
          42.945945945945944
         ],
         "xaxis": "x",
         "y": [
          37
         ],
         "yaxis": "y"
        },
        {
         "hovertemplate": "<b>%{hovertext}</b><br><br>Game=Connect Four<br>Average_Duration=%{x}<br>Frequency=%{y}<extra></extra>",
         "hovertext": [
          "Connect Four"
         ],
         "legendgroup": "Connect Four",
         "marker": {
          "color": "purple",
          "size": 20,
          "symbol": "circle"
         },
         "mode": "markers",
         "name": "Connect Four",
         "orientation": "v",
         "showlegend": true,
         "type": "scatter",
         "x": [
          43.142857142857146
         ],
         "xaxis": "x",
         "y": [
          7
         ],
         "yaxis": "y"
        },
        {
         "hovertemplate": "<b>%{hovertext}</b><br><br>Game=Deck of Cards<br>Average_Duration=%{x}<br>Frequency=%{y}<extra></extra>",
         "hovertext": [
          "Deck of Cards"
         ],
         "legendgroup": "Deck of Cards",
         "marker": {
          "color": "orange",
          "size": 20,
          "symbol": "circle"
         },
         "mode": "markers",
         "name": "Deck of Cards",
         "orientation": "v",
         "showlegend": true,
         "type": "scatter",
         "x": [
          41.18181818181818
         ],
         "xaxis": "x",
         "y": [
          11
         ],
         "yaxis": "y"
        },
        {
         "hovertemplate": "<b>%{hovertext}</b><br><br>Game=Exploding Kittens<br>Average_Duration=%{x}<br>Frequency=%{y}<extra></extra>",
         "hovertext": [
          "Exploding Kittens"
         ],
         "legendgroup": "Exploding Kittens",
         "marker": {
          "color": "cyan",
          "size": 20,
          "symbol": "circle"
         },
         "mode": "markers",
         "name": "Exploding Kittens",
         "orientation": "v",
         "showlegend": true,
         "type": "scatter",
         "x": [
          34.2
         ],
         "xaxis": "x",
         "y": [
          5
         ],
         "yaxis": "y"
        },
        {
         "hovertemplate": "<b>%{hovertext}</b><br><br>Game=Jenga<br>Average_Duration=%{x}<br>Frequency=%{y}<extra></extra>",
         "hovertext": [
          "Jenga"
         ],
         "legendgroup": "Jenga",
         "marker": {
          "color": "magenta",
          "size": 20,
          "symbol": "circle"
         },
         "mode": "markers",
         "name": "Jenga",
         "orientation": "v",
         "showlegend": true,
         "type": "scatter",
         "x": [
          22.5
         ],
         "xaxis": "x",
         "y": [
          2
         ],
         "yaxis": "y"
        },
        {
         "hovertemplate": "<b>%{hovertext}</b><br><br>Game=Monopoly<br>Average_Duration=%{x}<br>Frequency=%{y}<extra></extra>",
         "hovertext": [
          "Monopoly"
         ],
         "legendgroup": "Monopoly",
         "marker": {
          "color": "yellow",
          "size": 20,
          "symbol": "circle"
         },
         "mode": "markers",
         "name": "Monopoly",
         "orientation": "v",
         "showlegend": true,
         "type": "scatter",
         "x": [
          42
         ],
         "xaxis": "x",
         "y": [
          1
         ],
         "yaxis": "y"
        },
        {
         "hovertemplate": "<b>%{hovertext}</b><br><br>Game=Pictionary<br>Average_Duration=%{x}<br>Frequency=%{y}<extra></extra>",
         "hovertext": [
          "Pictionary"
         ],
         "legendgroup": "Pictionary",
         "marker": {
          "color": "lime",
          "size": 20,
          "symbol": "circle"
         },
         "mode": "markers",
         "name": "Pictionary",
         "orientation": "v",
         "showlegend": true,
         "type": "scatter",
         "x": [
          4
         ],
         "xaxis": "x",
         "y": [
          1
         ],
         "yaxis": "y"
        },
        {
         "hovertemplate": "<b>%{hovertext}</b><br><br>Game=Risk<br>Average_Duration=%{x}<br>Frequency=%{y}<extra></extra>",
         "hovertext": [
          "Risk"
         ],
         "legendgroup": "Risk",
         "marker": {
          "color": "pink",
          "size": 20,
          "symbol": "circle"
         },
         "mode": "markers",
         "name": "Risk",
         "orientation": "v",
         "showlegend": true,
         "type": "scatter",
         "x": [
          62
         ],
         "xaxis": "x",
         "y": [
          1
         ],
         "yaxis": "y"
        },
        {
         "hovertemplate": "<b>%{hovertext}</b><br><br>Game=Set<br>Average_Duration=%{x}<br>Frequency=%{y}<extra></extra>",
         "hovertext": [
          "Set"
         ],
         "legendgroup": "Set",
         "marker": {
          "color": "teal",
          "size": 20,
          "symbol": "circle"
         },
         "mode": "markers",
         "name": "Set",
         "orientation": "v",
         "showlegend": true,
         "type": "scatter",
         "x": [
          19
         ],
         "xaxis": "x",
         "y": [
          1
         ],
         "yaxis": "y"
        },
        {
         "hovertemplate": "<b>%{hovertext}</b><br><br>Game=Sorry<br>Average_Duration=%{x}<br>Frequency=%{y}<extra></extra>",
         "hovertext": [
          "Sorry"
         ],
         "legendgroup": "Sorry",
         "marker": {
          "color": "lavender",
          "size": 20,
          "symbol": "circle"
         },
         "mode": "markers",
         "name": "Sorry",
         "orientation": "v",
         "showlegend": true,
         "type": "scatter",
         "x": [
          26
         ],
         "xaxis": "x",
         "y": [
          5
         ],
         "yaxis": "y"
        },
        {
         "hovertemplate": "<b>%{hovertext}</b><br><br>Game=Taboo<br>Average_Duration=%{x}<br>Frequency=%{y}<extra></extra>",
         "hovertext": [
          "Taboo"
         ],
         "legendgroup": "Taboo",
         "marker": {
          "color": "brown",
          "size": 20,
          "symbol": "circle"
         },
         "mode": "markers",
         "name": "Taboo",
         "orientation": "v",
         "showlegend": true,
         "type": "scatter",
         "x": [
          46.625
         ],
         "xaxis": "x",
         "y": [
          8
         ],
         "yaxis": "y"
        },
        {
         "hovertemplate": "<b>%{hovertext}</b><br><br>Game=Ticket to Ride<br>Average_Duration=%{x}<br>Frequency=%{y}<extra></extra>",
         "hovertext": [
          "Ticket to Ride"
         ],
         "legendgroup": "Ticket to Ride",
         "marker": {
          "color": "grey",
          "size": 20,
          "symbol": "circle"
         },
         "mode": "markers",
         "name": "Ticket to Ride",
         "orientation": "v",
         "showlegend": true,
         "type": "scatter",
         "x": [
          45.5
         ],
         "xaxis": "x",
         "y": [
          6
         ],
         "yaxis": "y"
        },
        {
         "hovertemplate": "<b>%{hovertext}</b><br><br>Game=Uno<br>Average_Duration=%{x}<br>Frequency=%{y}<extra></extra>",
         "hovertext": [
          "Uno"
         ],
         "legendgroup": "Uno",
         "marker": {
          "color": "olive",
          "size": 20,
          "symbol": "circle"
         },
         "mode": "markers",
         "name": "Uno",
         "orientation": "v",
         "showlegend": true,
         "type": "scatter",
         "x": [
          44.18181818181818
         ],
         "xaxis": "x",
         "y": [
          11
         ],
         "yaxis": "y"
        }
       ],
       "layout": {
        "font": {
         "color": "black",
         "family": "Droid Serif"
        },
        "height": 500,
        "hoverlabel": {
         "bgcolor": "black",
         "font": {
          "color": "white"
         }
        },
        "legend": {
         "title": {
          "text": "Game"
         },
         "tracegroupgap": 0
        },
        "margin": {
         "t": 60
        },
        "paper_bgcolor": "white",
        "plot_bgcolor": "white",
        "showlegend": true,
        "template": {
         "data": {
          "bar": [
           {
            "error_x": {
             "color": "#2a3f5f"
            },
            "error_y": {
             "color": "#2a3f5f"
            },
            "marker": {
             "line": {
              "color": "#E5ECF6",
              "width": 0.5
             },
             "pattern": {
              "fillmode": "overlay",
              "size": 10,
              "solidity": 0.2
             }
            },
            "type": "bar"
           }
          ],
          "barpolar": [
           {
            "marker": {
             "line": {
              "color": "#E5ECF6",
              "width": 0.5
             },
             "pattern": {
              "fillmode": "overlay",
              "size": 10,
              "solidity": 0.2
             }
            },
            "type": "barpolar"
           }
          ],
          "carpet": [
           {
            "aaxis": {
             "endlinecolor": "#2a3f5f",
             "gridcolor": "white",
             "linecolor": "white",
             "minorgridcolor": "white",
             "startlinecolor": "#2a3f5f"
            },
            "baxis": {
             "endlinecolor": "#2a3f5f",
             "gridcolor": "white",
             "linecolor": "white",
             "minorgridcolor": "white",
             "startlinecolor": "#2a3f5f"
            },
            "type": "carpet"
           }
          ],
          "choropleth": [
           {
            "colorbar": {
             "outlinewidth": 0,
             "ticks": ""
            },
            "type": "choropleth"
           }
          ],
          "contour": [
           {
            "colorbar": {
             "outlinewidth": 0,
             "ticks": ""
            },
            "colorscale": [
             [
              0,
              "#0d0887"
             ],
             [
              0.1111111111111111,
              "#46039f"
             ],
             [
              0.2222222222222222,
              "#7201a8"
             ],
             [
              0.3333333333333333,
              "#9c179e"
             ],
             [
              0.4444444444444444,
              "#bd3786"
             ],
             [
              0.5555555555555556,
              "#d8576b"
             ],
             [
              0.6666666666666666,
              "#ed7953"
             ],
             [
              0.7777777777777778,
              "#fb9f3a"
             ],
             [
              0.8888888888888888,
              "#fdca26"
             ],
             [
              1,
              "#f0f921"
             ]
            ],
            "type": "contour"
           }
          ],
          "contourcarpet": [
           {
            "colorbar": {
             "outlinewidth": 0,
             "ticks": ""
            },
            "type": "contourcarpet"
           }
          ],
          "heatmap": [
           {
            "colorbar": {
             "outlinewidth": 0,
             "ticks": ""
            },
            "colorscale": [
             [
              0,
              "#0d0887"
             ],
             [
              0.1111111111111111,
              "#46039f"
             ],
             [
              0.2222222222222222,
              "#7201a8"
             ],
             [
              0.3333333333333333,
              "#9c179e"
             ],
             [
              0.4444444444444444,
              "#bd3786"
             ],
             [
              0.5555555555555556,
              "#d8576b"
             ],
             [
              0.6666666666666666,
              "#ed7953"
             ],
             [
              0.7777777777777778,
              "#fb9f3a"
             ],
             [
              0.8888888888888888,
              "#fdca26"
             ],
             [
              1,
              "#f0f921"
             ]
            ],
            "type": "heatmap"
           }
          ],
          "heatmapgl": [
           {
            "colorbar": {
             "outlinewidth": 0,
             "ticks": ""
            },
            "colorscale": [
             [
              0,
              "#0d0887"
             ],
             [
              0.1111111111111111,
              "#46039f"
             ],
             [
              0.2222222222222222,
              "#7201a8"
             ],
             [
              0.3333333333333333,
              "#9c179e"
             ],
             [
              0.4444444444444444,
              "#bd3786"
             ],
             [
              0.5555555555555556,
              "#d8576b"
             ],
             [
              0.6666666666666666,
              "#ed7953"
             ],
             [
              0.7777777777777778,
              "#fb9f3a"
             ],
             [
              0.8888888888888888,
              "#fdca26"
             ],
             [
              1,
              "#f0f921"
             ]
            ],
            "type": "heatmapgl"
           }
          ],
          "histogram": [
           {
            "marker": {
             "pattern": {
              "fillmode": "overlay",
              "size": 10,
              "solidity": 0.2
             }
            },
            "type": "histogram"
           }
          ],
          "histogram2d": [
           {
            "colorbar": {
             "outlinewidth": 0,
             "ticks": ""
            },
            "colorscale": [
             [
              0,
              "#0d0887"
             ],
             [
              0.1111111111111111,
              "#46039f"
             ],
             [
              0.2222222222222222,
              "#7201a8"
             ],
             [
              0.3333333333333333,
              "#9c179e"
             ],
             [
              0.4444444444444444,
              "#bd3786"
             ],
             [
              0.5555555555555556,
              "#d8576b"
             ],
             [
              0.6666666666666666,
              "#ed7953"
             ],
             [
              0.7777777777777778,
              "#fb9f3a"
             ],
             [
              0.8888888888888888,
              "#fdca26"
             ],
             [
              1,
              "#f0f921"
             ]
            ],
            "type": "histogram2d"
           }
          ],
          "histogram2dcontour": [
           {
            "colorbar": {
             "outlinewidth": 0,
             "ticks": ""
            },
            "colorscale": [
             [
              0,
              "#0d0887"
             ],
             [
              0.1111111111111111,
              "#46039f"
             ],
             [
              0.2222222222222222,
              "#7201a8"
             ],
             [
              0.3333333333333333,
              "#9c179e"
             ],
             [
              0.4444444444444444,
              "#bd3786"
             ],
             [
              0.5555555555555556,
              "#d8576b"
             ],
             [
              0.6666666666666666,
              "#ed7953"
             ],
             [
              0.7777777777777778,
              "#fb9f3a"
             ],
             [
              0.8888888888888888,
              "#fdca26"
             ],
             [
              1,
              "#f0f921"
             ]
            ],
            "type": "histogram2dcontour"
           }
          ],
          "mesh3d": [
           {
            "colorbar": {
             "outlinewidth": 0,
             "ticks": ""
            },
            "type": "mesh3d"
           }
          ],
          "parcoords": [
           {
            "line": {
             "colorbar": {
              "outlinewidth": 0,
              "ticks": ""
             }
            },
            "type": "parcoords"
           }
          ],
          "pie": [
           {
            "automargin": true,
            "type": "pie"
           }
          ],
          "scatter": [
           {
            "fillpattern": {
             "fillmode": "overlay",
             "size": 10,
             "solidity": 0.2
            },
            "type": "scatter"
           }
          ],
          "scatter3d": [
           {
            "line": {
             "colorbar": {
              "outlinewidth": 0,
              "ticks": ""
             }
            },
            "marker": {
             "colorbar": {
              "outlinewidth": 0,
              "ticks": ""
             }
            },
            "type": "scatter3d"
           }
          ],
          "scattercarpet": [
           {
            "marker": {
             "colorbar": {
              "outlinewidth": 0,
              "ticks": ""
             }
            },
            "type": "scattercarpet"
           }
          ],
          "scattergeo": [
           {
            "marker": {
             "colorbar": {
              "outlinewidth": 0,
              "ticks": ""
             }
            },
            "type": "scattergeo"
           }
          ],
          "scattergl": [
           {
            "marker": {
             "colorbar": {
              "outlinewidth": 0,
              "ticks": ""
             }
            },
            "type": "scattergl"
           }
          ],
          "scattermapbox": [
           {
            "marker": {
             "colorbar": {
              "outlinewidth": 0,
              "ticks": ""
             }
            },
            "type": "scattermapbox"
           }
          ],
          "scatterpolar": [
           {
            "marker": {
             "colorbar": {
              "outlinewidth": 0,
              "ticks": ""
             }
            },
            "type": "scatterpolar"
           }
          ],
          "scatterpolargl": [
           {
            "marker": {
             "colorbar": {
              "outlinewidth": 0,
              "ticks": ""
             }
            },
            "type": "scatterpolargl"
           }
          ],
          "scatterternary": [
           {
            "marker": {
             "colorbar": {
              "outlinewidth": 0,
              "ticks": ""
             }
            },
            "type": "scatterternary"
           }
          ],
          "surface": [
           {
            "colorbar": {
             "outlinewidth": 0,
             "ticks": ""
            },
            "colorscale": [
             [
              0,
              "#0d0887"
             ],
             [
              0.1111111111111111,
              "#46039f"
             ],
             [
              0.2222222222222222,
              "#7201a8"
             ],
             [
              0.3333333333333333,
              "#9c179e"
             ],
             [
              0.4444444444444444,
              "#bd3786"
             ],
             [
              0.5555555555555556,
              "#d8576b"
             ],
             [
              0.6666666666666666,
              "#ed7953"
             ],
             [
              0.7777777777777778,
              "#fb9f3a"
             ],
             [
              0.8888888888888888,
              "#fdca26"
             ],
             [
              1,
              "#f0f921"
             ]
            ],
            "type": "surface"
           }
          ],
          "table": [
           {
            "cells": {
             "fill": {
              "color": "#EBF0F8"
             },
             "line": {
              "color": "white"
             }
            },
            "header": {
             "fill": {
              "color": "#C8D4E3"
             },
             "line": {
              "color": "white"
             }
            },
            "type": "table"
           }
          ]
         },
         "layout": {
          "annotationdefaults": {
           "arrowcolor": "#2a3f5f",
           "arrowhead": 0,
           "arrowwidth": 1
          },
          "autotypenumbers": "strict",
          "coloraxis": {
           "colorbar": {
            "outlinewidth": 0,
            "ticks": ""
           }
          },
          "colorscale": {
           "diverging": [
            [
             0,
             "#8e0152"
            ],
            [
             0.1,
             "#c51b7d"
            ],
            [
             0.2,
             "#de77ae"
            ],
            [
             0.3,
             "#f1b6da"
            ],
            [
             0.4,
             "#fde0ef"
            ],
            [
             0.5,
             "#f7f7f7"
            ],
            [
             0.6,
             "#e6f5d0"
            ],
            [
             0.7,
             "#b8e186"
            ],
            [
             0.8,
             "#7fbc41"
            ],
            [
             0.9,
             "#4d9221"
            ],
            [
             1,
             "#276419"
            ]
           ],
           "sequential": [
            [
             0,
             "#0d0887"
            ],
            [
             0.1111111111111111,
             "#46039f"
            ],
            [
             0.2222222222222222,
             "#7201a8"
            ],
            [
             0.3333333333333333,
             "#9c179e"
            ],
            [
             0.4444444444444444,
             "#bd3786"
            ],
            [
             0.5555555555555556,
             "#d8576b"
            ],
            [
             0.6666666666666666,
             "#ed7953"
            ],
            [
             0.7777777777777778,
             "#fb9f3a"
            ],
            [
             0.8888888888888888,
             "#fdca26"
            ],
            [
             1,
             "#f0f921"
            ]
           ],
           "sequentialminus": [
            [
             0,
             "#0d0887"
            ],
            [
             0.1111111111111111,
             "#46039f"
            ],
            [
             0.2222222222222222,
             "#7201a8"
            ],
            [
             0.3333333333333333,
             "#9c179e"
            ],
            [
             0.4444444444444444,
             "#bd3786"
            ],
            [
             0.5555555555555556,
             "#d8576b"
            ],
            [
             0.6666666666666666,
             "#ed7953"
            ],
            [
             0.7777777777777778,
             "#fb9f3a"
            ],
            [
             0.8888888888888888,
             "#fdca26"
            ],
            [
             1,
             "#f0f921"
            ]
           ]
          },
          "colorway": [
           "#636efa",
           "#EF553B",
           "#00cc96",
           "#ab63fa",
           "#FFA15A",
           "#19d3f3",
           "#FF6692",
           "#B6E880",
           "#FF97FF",
           "#FECB52"
          ],
          "font": {
           "color": "#2a3f5f"
          },
          "geo": {
           "bgcolor": "white",
           "lakecolor": "white",
           "landcolor": "#E5ECF6",
           "showlakes": true,
           "showland": true,
           "subunitcolor": "white"
          },
          "hoverlabel": {
           "align": "left"
          },
          "hovermode": "closest",
          "mapbox": {
           "style": "light"
          },
          "paper_bgcolor": "white",
          "plot_bgcolor": "#E5ECF6",
          "polar": {
           "angularaxis": {
            "gridcolor": "white",
            "linecolor": "white",
            "ticks": ""
           },
           "bgcolor": "#E5ECF6",
           "radialaxis": {
            "gridcolor": "white",
            "linecolor": "white",
            "ticks": ""
           }
          },
          "scene": {
           "xaxis": {
            "backgroundcolor": "#E5ECF6",
            "gridcolor": "white",
            "gridwidth": 2,
            "linecolor": "white",
            "showbackground": true,
            "ticks": "",
            "zerolinecolor": "white"
           },
           "yaxis": {
            "backgroundcolor": "#E5ECF6",
            "gridcolor": "white",
            "gridwidth": 2,
            "linecolor": "white",
            "showbackground": true,
            "ticks": "",
            "zerolinecolor": "white"
           },
           "zaxis": {
            "backgroundcolor": "#E5ECF6",
            "gridcolor": "white",
            "gridwidth": 2,
            "linecolor": "white",
            "showbackground": true,
            "ticks": "",
            "zerolinecolor": "white"
           }
          },
          "shapedefaults": {
           "line": {
            "color": "#2a3f5f"
           }
          },
          "ternary": {
           "aaxis": {
            "gridcolor": "white",
            "linecolor": "white",
            "ticks": ""
           },
           "baxis": {
            "gridcolor": "white",
            "linecolor": "white",
            "ticks": ""
           },
           "bgcolor": "#E5ECF6",
           "caxis": {
            "gridcolor": "white",
            "linecolor": "white",
            "ticks": ""
           }
          },
          "title": {
           "x": 0.05
          },
          "xaxis": {
           "automargin": true,
           "gridcolor": "white",
           "linecolor": "white",
           "ticks": "",
           "title": {
            "standoff": 15
           },
           "zerolinecolor": "white",
           "zerolinewidth": 2
          },
          "yaxis": {
           "automargin": true,
           "gridcolor": "white",
           "linecolor": "white",
           "ticks": "",
           "title": {
            "standoff": 15
           },
           "zerolinecolor": "white",
           "zerolinewidth": 2
          }
         }
        },
        "title": {
         "font": {
          "size": 22
         },
         "text": "Frequency and Average Duration of Each Game",
         "x": 0.49,
         "xanchor": "center",
         "y": 0.94
        },
        "width": 600,
        "xaxis": {
         "anchor": "y",
         "domain": [
          0,
          1
         ],
         "tickfont": {
          "size": 14
         },
         "title": {
          "text": "Average Duration (minutes)"
         }
        },
        "yaxis": {
         "anchor": "x",
         "domain": [
          0,
          1
         ],
         "gridcolor": "rgba(128, 128, 128, 0.5)",
         "tickfont": {
          "size": 14
         },
         "title": {
          "text": "Frequency (log scale)"
         },
         "type": "log"
        }
       }
      }
     },
     "metadata": {},
     "output_type": "display_data"
    },
    {
     "name": "stdout",
     "output_type": "stream",
     "text": [
      "Visualization saved as ../resources/viz/f23_board_game_frequency_vs_avr_duration.html\n",
      "Board Game Visualizations Complete!\n",
      "\n",
      "\n",
      "Running Occupancy Visualizations...\n"
     ]
    },
    {
     "data": {
      "application/vnd.plotly.v1+json": {
       "config": {
        "plotlyServerURL": "https://plot.ly"
       },
       "data": [
        {
         "marker": {
          "color": "rgb(26, 118, 255)"
         },
         "type": "bar",
         "x": [
          "Sunday",
          "Monday",
          "Tuesday",
          "Wednesday",
          "Thursday",
          "Friday",
          "Saturday"
         ],
         "y": [
          2280,
          1881,
          2004,
          1797,
          2137,
          3590,
          3309
         ]
        }
       ],
       "layout": {
        "font": {
         "color": "black",
         "family": "Droid Serif"
        },
        "height": 400,
        "paper_bgcolor": "white",
        "plot_bgcolor": "white",
        "template": {
         "data": {
          "bar": [
           {
            "error_x": {
             "color": "#2a3f5f"
            },
            "error_y": {
             "color": "#2a3f5f"
            },
            "marker": {
             "line": {
              "color": "#E5ECF6",
              "width": 0.5
             },
             "pattern": {
              "fillmode": "overlay",
              "size": 10,
              "solidity": 0.2
             }
            },
            "type": "bar"
           }
          ],
          "barpolar": [
           {
            "marker": {
             "line": {
              "color": "#E5ECF6",
              "width": 0.5
             },
             "pattern": {
              "fillmode": "overlay",
              "size": 10,
              "solidity": 0.2
             }
            },
            "type": "barpolar"
           }
          ],
          "carpet": [
           {
            "aaxis": {
             "endlinecolor": "#2a3f5f",
             "gridcolor": "white",
             "linecolor": "white",
             "minorgridcolor": "white",
             "startlinecolor": "#2a3f5f"
            },
            "baxis": {
             "endlinecolor": "#2a3f5f",
             "gridcolor": "white",
             "linecolor": "white",
             "minorgridcolor": "white",
             "startlinecolor": "#2a3f5f"
            },
            "type": "carpet"
           }
          ],
          "choropleth": [
           {
            "colorbar": {
             "outlinewidth": 0,
             "ticks": ""
            },
            "type": "choropleth"
           }
          ],
          "contour": [
           {
            "colorbar": {
             "outlinewidth": 0,
             "ticks": ""
            },
            "colorscale": [
             [
              0,
              "#0d0887"
             ],
             [
              0.1111111111111111,
              "#46039f"
             ],
             [
              0.2222222222222222,
              "#7201a8"
             ],
             [
              0.3333333333333333,
              "#9c179e"
             ],
             [
              0.4444444444444444,
              "#bd3786"
             ],
             [
              0.5555555555555556,
              "#d8576b"
             ],
             [
              0.6666666666666666,
              "#ed7953"
             ],
             [
              0.7777777777777778,
              "#fb9f3a"
             ],
             [
              0.8888888888888888,
              "#fdca26"
             ],
             [
              1,
              "#f0f921"
             ]
            ],
            "type": "contour"
           }
          ],
          "contourcarpet": [
           {
            "colorbar": {
             "outlinewidth": 0,
             "ticks": ""
            },
            "type": "contourcarpet"
           }
          ],
          "heatmap": [
           {
            "colorbar": {
             "outlinewidth": 0,
             "ticks": ""
            },
            "colorscale": [
             [
              0,
              "#0d0887"
             ],
             [
              0.1111111111111111,
              "#46039f"
             ],
             [
              0.2222222222222222,
              "#7201a8"
             ],
             [
              0.3333333333333333,
              "#9c179e"
             ],
             [
              0.4444444444444444,
              "#bd3786"
             ],
             [
              0.5555555555555556,
              "#d8576b"
             ],
             [
              0.6666666666666666,
              "#ed7953"
             ],
             [
              0.7777777777777778,
              "#fb9f3a"
             ],
             [
              0.8888888888888888,
              "#fdca26"
             ],
             [
              1,
              "#f0f921"
             ]
            ],
            "type": "heatmap"
           }
          ],
          "heatmapgl": [
           {
            "colorbar": {
             "outlinewidth": 0,
             "ticks": ""
            },
            "colorscale": [
             [
              0,
              "#0d0887"
             ],
             [
              0.1111111111111111,
              "#46039f"
             ],
             [
              0.2222222222222222,
              "#7201a8"
             ],
             [
              0.3333333333333333,
              "#9c179e"
             ],
             [
              0.4444444444444444,
              "#bd3786"
             ],
             [
              0.5555555555555556,
              "#d8576b"
             ],
             [
              0.6666666666666666,
              "#ed7953"
             ],
             [
              0.7777777777777778,
              "#fb9f3a"
             ],
             [
              0.8888888888888888,
              "#fdca26"
             ],
             [
              1,
              "#f0f921"
             ]
            ],
            "type": "heatmapgl"
           }
          ],
          "histogram": [
           {
            "marker": {
             "pattern": {
              "fillmode": "overlay",
              "size": 10,
              "solidity": 0.2
             }
            },
            "type": "histogram"
           }
          ],
          "histogram2d": [
           {
            "colorbar": {
             "outlinewidth": 0,
             "ticks": ""
            },
            "colorscale": [
             [
              0,
              "#0d0887"
             ],
             [
              0.1111111111111111,
              "#46039f"
             ],
             [
              0.2222222222222222,
              "#7201a8"
             ],
             [
              0.3333333333333333,
              "#9c179e"
             ],
             [
              0.4444444444444444,
              "#bd3786"
             ],
             [
              0.5555555555555556,
              "#d8576b"
             ],
             [
              0.6666666666666666,
              "#ed7953"
             ],
             [
              0.7777777777777778,
              "#fb9f3a"
             ],
             [
              0.8888888888888888,
              "#fdca26"
             ],
             [
              1,
              "#f0f921"
             ]
            ],
            "type": "histogram2d"
           }
          ],
          "histogram2dcontour": [
           {
            "colorbar": {
             "outlinewidth": 0,
             "ticks": ""
            },
            "colorscale": [
             [
              0,
              "#0d0887"
             ],
             [
              0.1111111111111111,
              "#46039f"
             ],
             [
              0.2222222222222222,
              "#7201a8"
             ],
             [
              0.3333333333333333,
              "#9c179e"
             ],
             [
              0.4444444444444444,
              "#bd3786"
             ],
             [
              0.5555555555555556,
              "#d8576b"
             ],
             [
              0.6666666666666666,
              "#ed7953"
             ],
             [
              0.7777777777777778,
              "#fb9f3a"
             ],
             [
              0.8888888888888888,
              "#fdca26"
             ],
             [
              1,
              "#f0f921"
             ]
            ],
            "type": "histogram2dcontour"
           }
          ],
          "mesh3d": [
           {
            "colorbar": {
             "outlinewidth": 0,
             "ticks": ""
            },
            "type": "mesh3d"
           }
          ],
          "parcoords": [
           {
            "line": {
             "colorbar": {
              "outlinewidth": 0,
              "ticks": ""
             }
            },
            "type": "parcoords"
           }
          ],
          "pie": [
           {
            "automargin": true,
            "type": "pie"
           }
          ],
          "scatter": [
           {
            "fillpattern": {
             "fillmode": "overlay",
             "size": 10,
             "solidity": 0.2
            },
            "type": "scatter"
           }
          ],
          "scatter3d": [
           {
            "line": {
             "colorbar": {
              "outlinewidth": 0,
              "ticks": ""
             }
            },
            "marker": {
             "colorbar": {
              "outlinewidth": 0,
              "ticks": ""
             }
            },
            "type": "scatter3d"
           }
          ],
          "scattercarpet": [
           {
            "marker": {
             "colorbar": {
              "outlinewidth": 0,
              "ticks": ""
             }
            },
            "type": "scattercarpet"
           }
          ],
          "scattergeo": [
           {
            "marker": {
             "colorbar": {
              "outlinewidth": 0,
              "ticks": ""
             }
            },
            "type": "scattergeo"
           }
          ],
          "scattergl": [
           {
            "marker": {
             "colorbar": {
              "outlinewidth": 0,
              "ticks": ""
             }
            },
            "type": "scattergl"
           }
          ],
          "scattermapbox": [
           {
            "marker": {
             "colorbar": {
              "outlinewidth": 0,
              "ticks": ""
             }
            },
            "type": "scattermapbox"
           }
          ],
          "scatterpolar": [
           {
            "marker": {
             "colorbar": {
              "outlinewidth": 0,
              "ticks": ""
             }
            },
            "type": "scatterpolar"
           }
          ],
          "scatterpolargl": [
           {
            "marker": {
             "colorbar": {
              "outlinewidth": 0,
              "ticks": ""
             }
            },
            "type": "scatterpolargl"
           }
          ],
          "scatterternary": [
           {
            "marker": {
             "colorbar": {
              "outlinewidth": 0,
              "ticks": ""
             }
            },
            "type": "scatterternary"
           }
          ],
          "surface": [
           {
            "colorbar": {
             "outlinewidth": 0,
             "ticks": ""
            },
            "colorscale": [
             [
              0,
              "#0d0887"
             ],
             [
              0.1111111111111111,
              "#46039f"
             ],
             [
              0.2222222222222222,
              "#7201a8"
             ],
             [
              0.3333333333333333,
              "#9c179e"
             ],
             [
              0.4444444444444444,
              "#bd3786"
             ],
             [
              0.5555555555555556,
              "#d8576b"
             ],
             [
              0.6666666666666666,
              "#ed7953"
             ],
             [
              0.7777777777777778,
              "#fb9f3a"
             ],
             [
              0.8888888888888888,
              "#fdca26"
             ],
             [
              1,
              "#f0f921"
             ]
            ],
            "type": "surface"
           }
          ],
          "table": [
           {
            "cells": {
             "fill": {
              "color": "#EBF0F8"
             },
             "line": {
              "color": "white"
             }
            },
            "header": {
             "fill": {
              "color": "#C8D4E3"
             },
             "line": {
              "color": "white"
             }
            },
            "type": "table"
           }
          ]
         },
         "layout": {
          "annotationdefaults": {
           "arrowcolor": "#2a3f5f",
           "arrowhead": 0,
           "arrowwidth": 1
          },
          "autotypenumbers": "strict",
          "coloraxis": {
           "colorbar": {
            "outlinewidth": 0,
            "ticks": ""
           }
          },
          "colorscale": {
           "diverging": [
            [
             0,
             "#8e0152"
            ],
            [
             0.1,
             "#c51b7d"
            ],
            [
             0.2,
             "#de77ae"
            ],
            [
             0.3,
             "#f1b6da"
            ],
            [
             0.4,
             "#fde0ef"
            ],
            [
             0.5,
             "#f7f7f7"
            ],
            [
             0.6,
             "#e6f5d0"
            ],
            [
             0.7,
             "#b8e186"
            ],
            [
             0.8,
             "#7fbc41"
            ],
            [
             0.9,
             "#4d9221"
            ],
            [
             1,
             "#276419"
            ]
           ],
           "sequential": [
            [
             0,
             "#0d0887"
            ],
            [
             0.1111111111111111,
             "#46039f"
            ],
            [
             0.2222222222222222,
             "#7201a8"
            ],
            [
             0.3333333333333333,
             "#9c179e"
            ],
            [
             0.4444444444444444,
             "#bd3786"
            ],
            [
             0.5555555555555556,
             "#d8576b"
            ],
            [
             0.6666666666666666,
             "#ed7953"
            ],
            [
             0.7777777777777778,
             "#fb9f3a"
            ],
            [
             0.8888888888888888,
             "#fdca26"
            ],
            [
             1,
             "#f0f921"
            ]
           ],
           "sequentialminus": [
            [
             0,
             "#0d0887"
            ],
            [
             0.1111111111111111,
             "#46039f"
            ],
            [
             0.2222222222222222,
             "#7201a8"
            ],
            [
             0.3333333333333333,
             "#9c179e"
            ],
            [
             0.4444444444444444,
             "#bd3786"
            ],
            [
             0.5555555555555556,
             "#d8576b"
            ],
            [
             0.6666666666666666,
             "#ed7953"
            ],
            [
             0.7777777777777778,
             "#fb9f3a"
            ],
            [
             0.8888888888888888,
             "#fdca26"
            ],
            [
             1,
             "#f0f921"
            ]
           ]
          },
          "colorway": [
           "#636efa",
           "#EF553B",
           "#00cc96",
           "#ab63fa",
           "#FFA15A",
           "#19d3f3",
           "#FF6692",
           "#B6E880",
           "#FF97FF",
           "#FECB52"
          ],
          "font": {
           "color": "#2a3f5f"
          },
          "geo": {
           "bgcolor": "white",
           "lakecolor": "white",
           "landcolor": "#E5ECF6",
           "showlakes": true,
           "showland": true,
           "subunitcolor": "white"
          },
          "hoverlabel": {
           "align": "left"
          },
          "hovermode": "closest",
          "mapbox": {
           "style": "light"
          },
          "paper_bgcolor": "white",
          "plot_bgcolor": "#E5ECF6",
          "polar": {
           "angularaxis": {
            "gridcolor": "white",
            "linecolor": "white",
            "ticks": ""
           },
           "bgcolor": "#E5ECF6",
           "radialaxis": {
            "gridcolor": "white",
            "linecolor": "white",
            "ticks": ""
           }
          },
          "scene": {
           "xaxis": {
            "backgroundcolor": "#E5ECF6",
            "gridcolor": "white",
            "gridwidth": 2,
            "linecolor": "white",
            "showbackground": true,
            "ticks": "",
            "zerolinecolor": "white"
           },
           "yaxis": {
            "backgroundcolor": "#E5ECF6",
            "gridcolor": "white",
            "gridwidth": 2,
            "linecolor": "white",
            "showbackground": true,
            "ticks": "",
            "zerolinecolor": "white"
           },
           "zaxis": {
            "backgroundcolor": "#E5ECF6",
            "gridcolor": "white",
            "gridwidth": 2,
            "linecolor": "white",
            "showbackground": true,
            "ticks": "",
            "zerolinecolor": "white"
           }
          },
          "shapedefaults": {
           "line": {
            "color": "#2a3f5f"
           }
          },
          "ternary": {
           "aaxis": {
            "gridcolor": "white",
            "linecolor": "white",
            "ticks": ""
           },
           "baxis": {
            "gridcolor": "white",
            "linecolor": "white",
            "ticks": ""
           },
           "bgcolor": "#E5ECF6",
           "caxis": {
            "gridcolor": "white",
            "linecolor": "white",
            "ticks": ""
           }
          },
          "title": {
           "x": 0.05
          },
          "xaxis": {
           "automargin": true,
           "gridcolor": "white",
           "linecolor": "white",
           "ticks": "",
           "title": {
            "standoff": 15
           },
           "zerolinecolor": "white",
           "zerolinewidth": 2
          },
          "yaxis": {
           "automargin": true,
           "gridcolor": "white",
           "linecolor": "white",
           "ticks": "",
           "title": {
            "standoff": 15
           },
           "zerolinecolor": "white",
           "zerolinewidth": 2
          }
         }
        },
        "title": {
         "font": {
          "size": 22
         },
         "text": "Weekly Trend of Total Occupancy",
         "x": 0.5,
         "xanchor": "center"
        },
        "width": 600,
        "xaxis": {
         "categoryarray": [
          "Sunday",
          "Monday",
          "Tuesday",
          "Wednesday",
          "Thursday",
          "Friday",
          "Saturday"
         ],
         "categoryorder": "array",
         "tickfont": {
          "size": 16
         },
         "tickmode": "array",
         "title": {
          "font": {
           "size": 18
          },
          "text": "Day of the Week"
         }
        },
        "yaxis": {
         "gridcolor": "rgba(128, 128, 128, 0.4)",
         "tickfont": {
          "size": 16
         },
         "title": {
          "font": {
           "size": 18
          },
          "text": "Total Occupancy"
         }
        }
       }
      }
     },
     "metadata": {},
     "output_type": "display_data"
    },
    {
     "name": "stdout",
     "output_type": "stream",
     "text": [
      "Visualization saved as ../resources/viz/f23_occupancy_by_weekday.html\n"
     ]
    },
    {
     "data": {
      "application/vnd.plotly.v1+json": {
       "config": {
        "plotlyServerURL": "https://plot.ly"
       },
       "data": [
        {
         "alignmentgroup": "True",
         "hovertemplate": "Headcount = %{y}",
         "legendgroup": "August",
         "marker": {
          "color": "#f0f921",
          "pattern": {
           "shape": ""
          }
         },
         "name": "August",
         "offsetgroup": "August",
         "orientation": "v",
         "showlegend": true,
         "textposition": "auto",
         "type": "bar",
         "x": [
          "Monday",
          "Thursday",
          "Friday",
          "Saturday",
          "Sunday"
         ],
         "xaxis": "x",
         "y": [
          259,
          260,
          400,
          576,
          412
         ],
         "yaxis": "y"
        },
        {
         "alignmentgroup": "True",
         "hovertemplate": "Headcount = %{y}",
         "legendgroup": "December",
         "marker": {
          "color": "#fdca26",
          "pattern": {
           "shape": ""
          }
         },
         "name": "December",
         "offsetgroup": "December",
         "orientation": "v",
         "showlegend": true,
         "textposition": "auto",
         "type": "bar",
         "x": [
          "Monday",
          "Tuesday",
          "Wednesday",
          "Thursday",
          "Friday",
          "Saturday",
          "Sunday"
         ],
         "xaxis": "x",
         "y": [
          379,
          264,
          64,
          242,
          623,
          660,
          357
         ],
         "yaxis": "y"
        },
        {
         "alignmentgroup": "True",
         "hovertemplate": "Headcount = %{y}",
         "legendgroup": "November",
         "marker": {
          "color": "#fb9f3a",
          "pattern": {
           "shape": ""
          }
         },
         "name": "November",
         "offsetgroup": "November",
         "orientation": "v",
         "showlegend": true,
         "textposition": "auto",
         "type": "bar",
         "x": [
          "Monday",
          "Tuesday",
          "Wednesday",
          "Thursday",
          "Friday",
          "Saturday",
          "Sunday"
         ],
         "xaxis": "x",
         "y": [
          357,
          504,
          525,
          512,
          663,
          402,
          345
         ],
         "yaxis": "y"
        },
        {
         "alignmentgroup": "True",
         "hovertemplate": "Headcount = %{y}",
         "legendgroup": "October",
         "marker": {
          "color": "#ed7953",
          "pattern": {
           "shape": ""
          }
         },
         "name": "October",
         "offsetgroup": "October",
         "orientation": "v",
         "showlegend": true,
         "textposition": "auto",
         "type": "bar",
         "x": [
          "Monday",
          "Tuesday",
          "Wednesday",
          "Thursday",
          "Friday",
          "Saturday",
          "Sunday"
         ],
         "xaxis": "x",
         "y": [
          462,
          478,
          457,
          508,
          529,
          692,
          450
         ],
         "yaxis": "y"
        },
        {
         "alignmentgroup": "True",
         "hovertemplate": "Headcount = %{y}",
         "legendgroup": "September",
         "marker": {
          "color": "#d8576b",
          "pattern": {
           "shape": ""
          }
         },
         "name": "September",
         "offsetgroup": "September",
         "orientation": "v",
         "showlegend": true,
         "textposition": "auto",
         "type": "bar",
         "x": [
          "Monday",
          "Tuesday",
          "Wednesday",
          "Thursday",
          "Friday",
          "Saturday",
          "Sunday"
         ],
         "xaxis": "x",
         "y": [
          424,
          758,
          751,
          615,
          1375,
          979,
          716
         ],
         "yaxis": "y"
        }
       ],
       "layout": {
        "barmode": "group",
        "font": {
         "color": "black",
         "family": "Droid Serif"
        },
        "height": 400,
        "hoverlabel": {
         "bgcolor": "black",
         "font": {
          "color": "white"
         }
        },
        "legend": {
         "title": {
          "text": "Month"
         },
         "tracegroupgap": 0
        },
        "paper_bgcolor": "white",
        "plot_bgcolor": "white",
        "showlegend": true,
        "template": {
         "data": {
          "bar": [
           {
            "error_x": {
             "color": "#2a3f5f"
            },
            "error_y": {
             "color": "#2a3f5f"
            },
            "marker": {
             "line": {
              "color": "#E5ECF6",
              "width": 0.5
             },
             "pattern": {
              "fillmode": "overlay",
              "size": 10,
              "solidity": 0.2
             }
            },
            "type": "bar"
           }
          ],
          "barpolar": [
           {
            "marker": {
             "line": {
              "color": "#E5ECF6",
              "width": 0.5
             },
             "pattern": {
              "fillmode": "overlay",
              "size": 10,
              "solidity": 0.2
             }
            },
            "type": "barpolar"
           }
          ],
          "carpet": [
           {
            "aaxis": {
             "endlinecolor": "#2a3f5f",
             "gridcolor": "white",
             "linecolor": "white",
             "minorgridcolor": "white",
             "startlinecolor": "#2a3f5f"
            },
            "baxis": {
             "endlinecolor": "#2a3f5f",
             "gridcolor": "white",
             "linecolor": "white",
             "minorgridcolor": "white",
             "startlinecolor": "#2a3f5f"
            },
            "type": "carpet"
           }
          ],
          "choropleth": [
           {
            "colorbar": {
             "outlinewidth": 0,
             "ticks": ""
            },
            "type": "choropleth"
           }
          ],
          "contour": [
           {
            "colorbar": {
             "outlinewidth": 0,
             "ticks": ""
            },
            "colorscale": [
             [
              0,
              "#0d0887"
             ],
             [
              0.1111111111111111,
              "#46039f"
             ],
             [
              0.2222222222222222,
              "#7201a8"
             ],
             [
              0.3333333333333333,
              "#9c179e"
             ],
             [
              0.4444444444444444,
              "#bd3786"
             ],
             [
              0.5555555555555556,
              "#d8576b"
             ],
             [
              0.6666666666666666,
              "#ed7953"
             ],
             [
              0.7777777777777778,
              "#fb9f3a"
             ],
             [
              0.8888888888888888,
              "#fdca26"
             ],
             [
              1,
              "#f0f921"
             ]
            ],
            "type": "contour"
           }
          ],
          "contourcarpet": [
           {
            "colorbar": {
             "outlinewidth": 0,
             "ticks": ""
            },
            "type": "contourcarpet"
           }
          ],
          "heatmap": [
           {
            "colorbar": {
             "outlinewidth": 0,
             "ticks": ""
            },
            "colorscale": [
             [
              0,
              "#0d0887"
             ],
             [
              0.1111111111111111,
              "#46039f"
             ],
             [
              0.2222222222222222,
              "#7201a8"
             ],
             [
              0.3333333333333333,
              "#9c179e"
             ],
             [
              0.4444444444444444,
              "#bd3786"
             ],
             [
              0.5555555555555556,
              "#d8576b"
             ],
             [
              0.6666666666666666,
              "#ed7953"
             ],
             [
              0.7777777777777778,
              "#fb9f3a"
             ],
             [
              0.8888888888888888,
              "#fdca26"
             ],
             [
              1,
              "#f0f921"
             ]
            ],
            "type": "heatmap"
           }
          ],
          "heatmapgl": [
           {
            "colorbar": {
             "outlinewidth": 0,
             "ticks": ""
            },
            "colorscale": [
             [
              0,
              "#0d0887"
             ],
             [
              0.1111111111111111,
              "#46039f"
             ],
             [
              0.2222222222222222,
              "#7201a8"
             ],
             [
              0.3333333333333333,
              "#9c179e"
             ],
             [
              0.4444444444444444,
              "#bd3786"
             ],
             [
              0.5555555555555556,
              "#d8576b"
             ],
             [
              0.6666666666666666,
              "#ed7953"
             ],
             [
              0.7777777777777778,
              "#fb9f3a"
             ],
             [
              0.8888888888888888,
              "#fdca26"
             ],
             [
              1,
              "#f0f921"
             ]
            ],
            "type": "heatmapgl"
           }
          ],
          "histogram": [
           {
            "marker": {
             "pattern": {
              "fillmode": "overlay",
              "size": 10,
              "solidity": 0.2
             }
            },
            "type": "histogram"
           }
          ],
          "histogram2d": [
           {
            "colorbar": {
             "outlinewidth": 0,
             "ticks": ""
            },
            "colorscale": [
             [
              0,
              "#0d0887"
             ],
             [
              0.1111111111111111,
              "#46039f"
             ],
             [
              0.2222222222222222,
              "#7201a8"
             ],
             [
              0.3333333333333333,
              "#9c179e"
             ],
             [
              0.4444444444444444,
              "#bd3786"
             ],
             [
              0.5555555555555556,
              "#d8576b"
             ],
             [
              0.6666666666666666,
              "#ed7953"
             ],
             [
              0.7777777777777778,
              "#fb9f3a"
             ],
             [
              0.8888888888888888,
              "#fdca26"
             ],
             [
              1,
              "#f0f921"
             ]
            ],
            "type": "histogram2d"
           }
          ],
          "histogram2dcontour": [
           {
            "colorbar": {
             "outlinewidth": 0,
             "ticks": ""
            },
            "colorscale": [
             [
              0,
              "#0d0887"
             ],
             [
              0.1111111111111111,
              "#46039f"
             ],
             [
              0.2222222222222222,
              "#7201a8"
             ],
             [
              0.3333333333333333,
              "#9c179e"
             ],
             [
              0.4444444444444444,
              "#bd3786"
             ],
             [
              0.5555555555555556,
              "#d8576b"
             ],
             [
              0.6666666666666666,
              "#ed7953"
             ],
             [
              0.7777777777777778,
              "#fb9f3a"
             ],
             [
              0.8888888888888888,
              "#fdca26"
             ],
             [
              1,
              "#f0f921"
             ]
            ],
            "type": "histogram2dcontour"
           }
          ],
          "mesh3d": [
           {
            "colorbar": {
             "outlinewidth": 0,
             "ticks": ""
            },
            "type": "mesh3d"
           }
          ],
          "parcoords": [
           {
            "line": {
             "colorbar": {
              "outlinewidth": 0,
              "ticks": ""
             }
            },
            "type": "parcoords"
           }
          ],
          "pie": [
           {
            "automargin": true,
            "type": "pie"
           }
          ],
          "scatter": [
           {
            "fillpattern": {
             "fillmode": "overlay",
             "size": 10,
             "solidity": 0.2
            },
            "type": "scatter"
           }
          ],
          "scatter3d": [
           {
            "line": {
             "colorbar": {
              "outlinewidth": 0,
              "ticks": ""
             }
            },
            "marker": {
             "colorbar": {
              "outlinewidth": 0,
              "ticks": ""
             }
            },
            "type": "scatter3d"
           }
          ],
          "scattercarpet": [
           {
            "marker": {
             "colorbar": {
              "outlinewidth": 0,
              "ticks": ""
             }
            },
            "type": "scattercarpet"
           }
          ],
          "scattergeo": [
           {
            "marker": {
             "colorbar": {
              "outlinewidth": 0,
              "ticks": ""
             }
            },
            "type": "scattergeo"
           }
          ],
          "scattergl": [
           {
            "marker": {
             "colorbar": {
              "outlinewidth": 0,
              "ticks": ""
             }
            },
            "type": "scattergl"
           }
          ],
          "scattermapbox": [
           {
            "marker": {
             "colorbar": {
              "outlinewidth": 0,
              "ticks": ""
             }
            },
            "type": "scattermapbox"
           }
          ],
          "scatterpolar": [
           {
            "marker": {
             "colorbar": {
              "outlinewidth": 0,
              "ticks": ""
             }
            },
            "type": "scatterpolar"
           }
          ],
          "scatterpolargl": [
           {
            "marker": {
             "colorbar": {
              "outlinewidth": 0,
              "ticks": ""
             }
            },
            "type": "scatterpolargl"
           }
          ],
          "scatterternary": [
           {
            "marker": {
             "colorbar": {
              "outlinewidth": 0,
              "ticks": ""
             }
            },
            "type": "scatterternary"
           }
          ],
          "surface": [
           {
            "colorbar": {
             "outlinewidth": 0,
             "ticks": ""
            },
            "colorscale": [
             [
              0,
              "#0d0887"
             ],
             [
              0.1111111111111111,
              "#46039f"
             ],
             [
              0.2222222222222222,
              "#7201a8"
             ],
             [
              0.3333333333333333,
              "#9c179e"
             ],
             [
              0.4444444444444444,
              "#bd3786"
             ],
             [
              0.5555555555555556,
              "#d8576b"
             ],
             [
              0.6666666666666666,
              "#ed7953"
             ],
             [
              0.7777777777777778,
              "#fb9f3a"
             ],
             [
              0.8888888888888888,
              "#fdca26"
             ],
             [
              1,
              "#f0f921"
             ]
            ],
            "type": "surface"
           }
          ],
          "table": [
           {
            "cells": {
             "fill": {
              "color": "#EBF0F8"
             },
             "line": {
              "color": "white"
             }
            },
            "header": {
             "fill": {
              "color": "#C8D4E3"
             },
             "line": {
              "color": "white"
             }
            },
            "type": "table"
           }
          ]
         },
         "layout": {
          "annotationdefaults": {
           "arrowcolor": "#2a3f5f",
           "arrowhead": 0,
           "arrowwidth": 1
          },
          "autotypenumbers": "strict",
          "coloraxis": {
           "colorbar": {
            "outlinewidth": 0,
            "ticks": ""
           }
          },
          "colorscale": {
           "diverging": [
            [
             0,
             "#8e0152"
            ],
            [
             0.1,
             "#c51b7d"
            ],
            [
             0.2,
             "#de77ae"
            ],
            [
             0.3,
             "#f1b6da"
            ],
            [
             0.4,
             "#fde0ef"
            ],
            [
             0.5,
             "#f7f7f7"
            ],
            [
             0.6,
             "#e6f5d0"
            ],
            [
             0.7,
             "#b8e186"
            ],
            [
             0.8,
             "#7fbc41"
            ],
            [
             0.9,
             "#4d9221"
            ],
            [
             1,
             "#276419"
            ]
           ],
           "sequential": [
            [
             0,
             "#0d0887"
            ],
            [
             0.1111111111111111,
             "#46039f"
            ],
            [
             0.2222222222222222,
             "#7201a8"
            ],
            [
             0.3333333333333333,
             "#9c179e"
            ],
            [
             0.4444444444444444,
             "#bd3786"
            ],
            [
             0.5555555555555556,
             "#d8576b"
            ],
            [
             0.6666666666666666,
             "#ed7953"
            ],
            [
             0.7777777777777778,
             "#fb9f3a"
            ],
            [
             0.8888888888888888,
             "#fdca26"
            ],
            [
             1,
             "#f0f921"
            ]
           ],
           "sequentialminus": [
            [
             0,
             "#0d0887"
            ],
            [
             0.1111111111111111,
             "#46039f"
            ],
            [
             0.2222222222222222,
             "#7201a8"
            ],
            [
             0.3333333333333333,
             "#9c179e"
            ],
            [
             0.4444444444444444,
             "#bd3786"
            ],
            [
             0.5555555555555556,
             "#d8576b"
            ],
            [
             0.6666666666666666,
             "#ed7953"
            ],
            [
             0.7777777777777778,
             "#fb9f3a"
            ],
            [
             0.8888888888888888,
             "#fdca26"
            ],
            [
             1,
             "#f0f921"
            ]
           ]
          },
          "colorway": [
           "#636efa",
           "#EF553B",
           "#00cc96",
           "#ab63fa",
           "#FFA15A",
           "#19d3f3",
           "#FF6692",
           "#B6E880",
           "#FF97FF",
           "#FECB52"
          ],
          "font": {
           "color": "#2a3f5f"
          },
          "geo": {
           "bgcolor": "white",
           "lakecolor": "white",
           "landcolor": "#E5ECF6",
           "showlakes": true,
           "showland": true,
           "subunitcolor": "white"
          },
          "hoverlabel": {
           "align": "left"
          },
          "hovermode": "closest",
          "mapbox": {
           "style": "light"
          },
          "paper_bgcolor": "white",
          "plot_bgcolor": "#E5ECF6",
          "polar": {
           "angularaxis": {
            "gridcolor": "white",
            "linecolor": "white",
            "ticks": ""
           },
           "bgcolor": "#E5ECF6",
           "radialaxis": {
            "gridcolor": "white",
            "linecolor": "white",
            "ticks": ""
           }
          },
          "scene": {
           "xaxis": {
            "backgroundcolor": "#E5ECF6",
            "gridcolor": "white",
            "gridwidth": 2,
            "linecolor": "white",
            "showbackground": true,
            "ticks": "",
            "zerolinecolor": "white"
           },
           "yaxis": {
            "backgroundcolor": "#E5ECF6",
            "gridcolor": "white",
            "gridwidth": 2,
            "linecolor": "white",
            "showbackground": true,
            "ticks": "",
            "zerolinecolor": "white"
           },
           "zaxis": {
            "backgroundcolor": "#E5ECF6",
            "gridcolor": "white",
            "gridwidth": 2,
            "linecolor": "white",
            "showbackground": true,
            "ticks": "",
            "zerolinecolor": "white"
           }
          },
          "shapedefaults": {
           "line": {
            "color": "#2a3f5f"
           }
          },
          "ternary": {
           "aaxis": {
            "gridcolor": "white",
            "linecolor": "white",
            "ticks": ""
           },
           "baxis": {
            "gridcolor": "white",
            "linecolor": "white",
            "ticks": ""
           },
           "bgcolor": "#E5ECF6",
           "caxis": {
            "gridcolor": "white",
            "linecolor": "white",
            "ticks": ""
           }
          },
          "title": {
           "x": 0.05
          },
          "xaxis": {
           "automargin": true,
           "gridcolor": "white",
           "linecolor": "white",
           "ticks": "",
           "title": {
            "standoff": 15
           },
           "zerolinecolor": "white",
           "zerolinewidth": 2
          },
          "yaxis": {
           "automargin": true,
           "gridcolor": "white",
           "linecolor": "white",
           "ticks": "",
           "title": {
            "standoff": 15
           },
           "zerolinecolor": "white",
           "zerolinewidth": 2
          }
         }
        },
        "title": {
         "font": {
          "size": 22
         },
         "text": "Occupancy by Month and Weekday",
         "x": 0.5,
         "xanchor": "center",
         "y": 0.85
        },
        "width": 600,
        "xaxis": {
         "anchor": "y",
         "categoryarray": [
          "Monday",
          "Tuesday",
          "Wednesday",
          "Thursday",
          "Friday",
          "Saturday",
          "Sunday"
         ],
         "categoryorder": "array",
         "domain": [
          0,
          1
         ],
         "tickfont": {
          "size": 16
         },
         "tickmode": "array",
         "title": {
          "font": {
           "size": 18
          },
          "text": "Day of the week"
         }
        },
        "yaxis": {
         "anchor": "x",
         "domain": [
          0,
          1
         ],
         "gridcolor": "rgba(128, 128, 128, 0.5)",
         "tickfont": {
          "size": 16
         },
         "title": {
          "font": {
           "size": 18
          },
          "text": "Headcount"
         }
        }
       }
      }
     },
     "metadata": {},
     "output_type": "display_data"
    },
    {
     "name": "stdout",
     "output_type": "stream",
     "text": [
      "Visualization saved as ../resources/viz/f23_occupancy_by_month.html\n",
      "Occupancy Visualizations Complete!\n",
      "\n",
      "All Visualizations Complete!\n"
     ]
    }
   ],
   "source": [
    "import update_viz\n",
    "import importlib\n",
    "importlib.reload(update_viz)\n",
    "\n",
    "\n",
    "update_viz.run_all_visualizations(semester_name = \"f23\", output_path = \"../resources/viz/f23\")\n"
   ]
  },
  {
   "cell_type": "code",
   "execution_count": 22,
   "metadata": {},
   "outputs": [
    {
     "name": "stdout",
     "output_type": "stream",
     "text": [
      "\n",
      "Running Table Game Visualizations...\n"
     ]
    },
    {
     "data": {
      "application/vnd.plotly.v1+json": {
       "config": {
        "plotlyServerURL": "https://plot.ly"
       },
       "data": [
        {
         "alignmentgroup": "True",
         "boxpoints": "all",
         "fillcolor": "rgba(255,255,255,0)",
         "hoveron": "points",
         "hovertemplate": "Pool Table #=%{x}<br>Adjusted Duration=%{y}<extra></extra>",
         "legendgroup": "",
         "line": {
          "color": "rgba(255,255,255,0)"
         },
         "marker": {
          "color": "#636efa",
          "opacity": 0.3
         },
         "name": "",
         "offsetgroup": "",
         "orientation": "v",
         "pointpos": 0,
         "showlegend": false,
         "type": "box",
         "x": [
          1,
          1,
          0,
          2,
          2,
          2,
          3,
          1,
          2,
          1,
          1,
          3,
          2,
          3,
          3,
          1,
          0,
          1,
          2,
          3,
          1,
          1,
          2,
          1,
          1,
          3,
          2,
          3,
          2,
          2,
          1,
          2,
          3,
          1,
          3,
          1,
          2,
          3,
          1,
          3,
          1,
          2,
          3,
          1,
          3,
          2,
          1,
          3,
          1,
          3,
          2,
          1,
          3,
          1,
          1,
          2,
          3,
          1,
          2,
          3,
          1,
          2,
          1,
          1,
          3,
          2,
          1,
          1,
          2,
          1,
          3,
          1,
          3,
          2,
          1,
          2,
          3,
          1,
          1,
          2,
          1,
          2,
          1,
          3,
          3,
          1,
          2,
          2,
          3,
          2,
          3,
          1,
          2,
          3,
          1,
          3,
          2,
          3,
          1,
          2,
          2,
          3,
          2,
          1,
          3,
          2,
          1,
          3,
          2,
          2,
          2,
          3,
          3,
          2,
          3,
          1,
          2,
          3,
          1,
          3,
          1,
          3,
          1,
          2,
          1,
          1,
          3,
          2,
          2,
          1,
          3,
          3,
          1,
          2,
          2,
          3,
          2,
          1,
          3,
          3,
          1,
          3,
          2,
          2,
          1,
          3,
          3,
          1,
          2,
          1,
          2,
          1,
          3,
          3,
          1,
          3,
          2,
          1,
          2,
          1,
          1,
          3,
          2,
          2,
          1,
          3,
          2,
          3,
          1,
          2,
          1,
          3,
          2,
          3,
          1,
          1,
          3,
          2,
          1,
          3,
          3,
          1,
          2,
          2,
          1,
          3,
          3,
          2,
          3,
          2,
          1,
          1,
          2,
          3,
          3,
          1,
          2,
          1,
          3,
          3,
          1,
          1,
          2,
          3,
          2,
          1,
          3,
          3,
          2,
          1,
          2,
          3,
          1,
          2,
          1,
          3,
          2,
          1,
          1,
          2,
          1,
          2,
          3,
          1,
          1,
          2,
          3,
          1,
          1,
          2,
          1,
          2,
          1,
          2,
          3,
          1,
          2,
          1,
          3,
          1,
          2,
          1,
          1,
          1,
          1,
          2,
          2,
          1,
          3,
          1,
          3,
          3,
          1,
          3,
          2,
          1,
          1,
          2,
          3,
          1,
          3,
          2,
          2,
          3,
          1,
          3,
          1,
          2,
          3,
          2,
          1,
          2,
          1,
          2,
          3,
          2,
          1,
          1,
          3,
          1,
          2,
          1,
          3,
          1,
          2,
          1,
          3,
          2,
          1,
          2,
          3,
          1,
          1,
          3,
          1,
          2,
          3,
          2,
          1,
          3,
          1,
          3,
          1,
          2,
          2,
          1,
          2,
          3,
          1,
          2,
          2,
          1,
          1,
          2,
          3,
          1,
          1,
          3,
          2,
          2,
          3,
          1,
          1,
          3,
          0,
          1,
          2,
          3,
          2,
          3,
          2,
          1,
          2,
          2,
          1,
          3,
          2,
          1,
          3,
          2,
          2,
          1,
          1,
          2,
          3,
          3,
          1,
          2,
          3,
          1,
          2,
          3,
          2,
          1,
          1,
          2,
          3,
          2,
          3,
          1,
          1,
          1,
          0,
          2,
          2,
          1,
          3,
          2,
          2,
          1,
          2,
          1,
          3,
          2,
          2,
          3,
          1,
          3,
          1,
          3,
          3,
          1,
          2,
          1,
          3,
          2,
          1,
          1,
          1,
          2,
          3,
          2,
          3,
          1,
          2,
          3,
          2,
          2,
          3,
          1,
          1,
          2,
          3,
          1,
          2,
          3,
          1,
          1,
          1,
          1,
          3,
          2,
          3,
          1,
          2,
          3,
          2,
          1,
          2,
          3,
          3,
          1,
          2,
          3,
          3,
          2,
          3,
          1,
          2,
          2,
          2,
          1,
          3,
          2,
          3,
          3,
          1,
          2,
          1,
          3,
          3,
          2,
          1,
          2,
          1,
          2,
          3,
          1,
          1,
          3,
          1,
          2,
          3,
          1,
          1,
          3,
          3,
          2,
          3,
          1,
          1,
          1,
          2,
          3,
          1,
          3,
          2,
          3,
          1,
          3,
          1,
          2,
          3,
          1,
          2,
          1,
          3,
          3,
          2,
          1,
          1,
          3,
          1,
          3,
          1,
          3,
          1,
          1,
          2,
          3,
          1,
          1,
          2,
          1,
          3,
          3,
          3,
          1,
          3,
          2,
          3,
          1,
          3,
          1,
          3,
          2,
          3,
          1,
          2,
          2,
          3,
          2,
          1,
          1,
          3,
          2,
          1,
          2,
          3,
          1,
          2,
          3,
          3,
          1,
          3,
          2,
          1,
          3,
          2,
          1,
          2,
          2,
          3,
          2,
          1,
          2,
          3,
          1,
          2,
          1,
          3,
          1,
          1,
          2,
          3,
          1,
          2,
          3,
          1,
          1,
          3,
          3,
          1,
          1,
          2,
          3,
          1,
          1,
          2,
          1,
          3,
          1,
          3,
          1,
          2,
          3,
          1,
          3,
          2,
          1,
          2,
          3,
          1,
          1,
          2,
          3,
          2,
          1,
          1,
          3,
          3,
          1,
          2,
          1,
          2,
          3,
          2,
          1,
          3,
          2,
          1,
          3,
          1,
          2,
          1,
          3,
          1,
          2,
          3,
          3,
          2,
          3,
          3,
          1,
          3,
          3,
          2,
          1,
          1,
          2,
          1,
          2,
          2,
          1,
          2,
          1,
          3,
          2,
          2,
          1,
          3,
          3,
          1,
          2,
          1,
          2,
          3,
          1,
          2,
          1,
          2,
          1,
          3,
          3,
          1,
          2,
          2,
          1,
          3,
          2,
          1,
          2,
          1,
          3,
          2,
          1,
          3,
          1,
          2,
          2,
          1,
          2,
          3,
          1,
          2,
          3,
          1,
          3,
          3,
          2,
          1,
          3,
          1,
          3,
          3,
          1,
          2,
          3,
          2,
          3,
          1,
          1,
          3,
          3,
          2,
          3,
          1,
          2,
          2,
          2,
          3,
          1,
          1,
          3,
          2,
          1,
          3,
          0,
          0,
          2,
          1,
          1,
          3,
          3,
          1,
          3,
          3,
          3,
          1,
          2,
          3,
          1,
          2,
          2,
          1,
          3,
          3,
          1,
          1,
          2,
          3,
          1,
          3,
          2,
          1,
          1,
          1,
          3,
          2,
          1,
          3,
          3,
          3,
          1,
          1,
          2,
          1,
          2,
          3,
          1,
          2,
          1,
          1,
          3,
          2,
          3,
          1,
          2,
          1,
          1,
          3,
          2,
          1,
          3,
          1,
          2,
          3,
          2,
          2,
          3,
          1,
          2,
          2,
          3,
          2,
          1,
          2,
          3,
          1,
          2,
          2,
          1,
          3,
          3,
          2,
          2,
          1,
          3,
          2,
          3,
          1,
          3,
          2,
          3,
          2,
          3,
          2,
          3,
          2,
          3,
          1,
          2,
          1,
          3,
          3,
          2,
          1,
          1,
          1,
          1,
          2,
          3,
          2,
          2,
          3,
          3,
          1,
          2,
          3,
          1,
          1,
          3,
          1,
          2,
          3,
          2,
          1,
          3,
          1,
          2,
          3,
          1,
          3,
          1,
          2,
          3,
          1,
          2,
          3,
          1,
          0,
          2,
          2,
          3,
          1,
          1,
          2,
          3,
          3,
          2,
          1,
          3,
          2,
          1,
          3,
          2,
          1,
          3,
          2,
          1,
          3,
          1,
          3,
          2,
          1,
          3,
          3,
          2,
          3,
          1,
          3,
          2,
          0,
          2,
          3,
          1,
          3,
          2,
          3,
          2,
          2,
          1,
          1,
          2,
          2,
          3,
          3,
          1,
          1,
          3,
          2,
          2,
          3,
          1,
          1,
          3,
          2,
          1,
          3,
          2,
          3,
          2,
          3,
          1,
          2,
          3,
          2,
          2,
          3,
          2,
          1,
          1,
          3,
          1,
          2,
          1,
          3,
          1,
          2,
          2,
          1,
          3,
          1,
          3,
          2,
          3,
          1,
          3,
          1,
          2,
          2,
          3,
          2,
          3,
          1,
          2,
          3,
          2,
          3,
          1,
          3,
          2,
          3,
          3,
          1,
          2,
          3,
          1,
          2,
          1,
          2,
          1,
          3,
          2,
          1,
          2,
          3,
          1,
          1,
          1,
          3,
          1,
          3,
          2,
          1,
          3,
          3,
          2,
          1,
          3,
          2,
          1,
          3,
          1,
          2,
          3,
          1,
          2,
          1,
          3,
          3,
          3,
          1,
          2,
          1,
          3,
          1,
          1,
          3,
          2,
          1,
          3,
          1,
          2,
          3,
          1,
          2,
          3,
          1,
          2,
          1,
          2,
          1,
          3,
          3,
          3,
          2,
          3,
          2,
          3,
          2,
          1,
          2,
          2,
          1,
          3,
          2,
          2,
          1,
          3,
          2,
          1,
          3,
          2,
          1,
          3,
          3,
          2,
          1,
          3,
          1,
          2,
          3,
          2,
          1,
          3,
          2,
          1,
          2,
          2,
          1,
          3,
          3,
          1,
          1,
          2,
          3,
          1,
          2,
          2,
          1,
          2,
          3,
          1,
          3,
          2,
          1,
          3,
          1,
          2,
          3,
          1,
          1,
          3,
          1,
          2,
          2,
          1,
          3,
          3,
          1,
          3,
          1,
          3,
          2,
          1,
          3,
          1,
          1,
          2,
          3,
          1,
          3,
          1,
          1,
          1,
          1,
          3,
          2,
          3,
          3,
          1,
          2,
          2,
          2,
          1,
          2,
          1,
          3,
          1,
          3,
          2,
          1,
          2,
          3,
          1,
          2,
          0,
          0,
          1,
          3,
          2,
          1,
          2,
          3,
          1,
          2,
          3,
          1,
          3,
          3,
          2,
          1,
          3,
          2,
          1,
          3,
          2,
          1,
          1,
          3,
          1,
          2,
          3,
          1,
          1,
          3,
          3,
          3,
          2,
          1,
          2,
          3,
          1,
          2,
          2,
          2,
          1,
          3,
          1,
          3,
          2,
          1,
          2,
          1,
          3,
          2,
          3,
          2,
          1,
          3,
          2,
          1,
          3,
          1,
          3,
          2,
          3,
          2,
          1,
          1,
          1,
          3,
          1,
          3,
          2,
          1,
          3,
          1,
          3,
          2,
          1,
          1,
          1,
          1,
          2,
          3,
          1,
          3,
          1,
          3,
          2,
          1,
          2,
          1,
          3,
          1,
          2,
          1,
          2,
          2,
          1,
          2,
          1,
          3,
          2,
          2,
          3,
          3,
          2,
          3,
          1,
          2,
          2,
          1,
          2,
          1,
          1,
          2,
          3,
          1,
          1,
          2,
          3,
          1,
          2,
          1,
          2,
          3,
          1,
          3,
          2,
          2,
          2,
          3,
          1,
          1,
          3,
          3,
          2,
          3,
          2,
          3,
          2,
          1,
          2,
          3,
          2,
          1,
          2,
          3,
          2,
          1,
          1,
          3,
          1,
          2,
          3,
          2,
          1,
          1,
          3,
          2,
          1,
          1,
          2,
          2,
          3,
          2,
          3,
          1,
          1,
          1,
          1,
          2,
          3,
          1,
          2,
          3,
          2,
          1,
          2,
          1,
          3,
          3,
          3,
          2,
          1,
          1,
          1,
          3,
          2,
          1,
          3,
          2,
          1,
          3,
          3,
          1,
          2,
          3,
          2,
          2,
          3,
          2,
          1,
          2,
          1,
          3,
          2,
          1,
          1,
          2,
          3,
          3,
          2,
          3,
          2,
          1,
          2,
          1,
          3,
          1,
          2,
          3,
          2,
          1,
          2,
          2,
          1,
          3,
          1,
          3,
          2,
          1,
          3,
          2,
          1,
          3,
          2,
          1,
          3,
          2,
          1,
          1,
          3,
          1,
          3,
          1,
          3,
          2,
          1,
          3,
          2,
          3,
          2,
          2,
          3,
          1,
          2,
          1,
          3,
          0,
          0,
          2,
          3,
          2,
          1,
          3,
          1,
          3,
          3,
          1,
          3,
          2,
          3,
          1,
          3,
          2,
          1,
          3,
          1,
          3,
          2,
          1,
          3,
          1,
          2,
          1,
          1,
          0,
          3,
          2,
          1,
          3,
          3,
          2,
          1,
          3,
          3,
          2,
          2,
          3,
          1,
          1,
          1,
          3,
          2,
          3,
          1,
          2,
          1,
          2,
          3,
          1,
          1,
          2,
          1,
          3,
          2,
          2,
          3,
          3,
          1,
          1,
          3,
          2,
          3,
          1,
          2,
          3,
          3,
          1,
          1,
          3,
          3,
          1,
          3,
          2,
          1,
          1,
          3,
          2,
          3,
          2,
          3,
          1,
          2,
          2,
          1,
          1,
          3,
          3,
          2,
          2,
          1,
          3,
          1,
          2,
          2,
          1,
          1,
          2,
          1,
          1,
          1,
          3,
          2,
          3,
          2,
          3,
          2,
          1,
          1,
          2,
          3,
          1,
          2,
          3,
          1,
          2,
          3,
          1,
          1,
          1,
          2,
          3,
          2,
          1,
          3,
          0,
          1,
          2,
          3,
          3,
          1,
          2,
          3,
          1,
          2,
          2,
          3,
          1,
          3,
          2,
          1,
          3,
          0,
          2,
          3,
          2,
          2,
          1,
          3,
          2,
          3,
          1,
          1,
          3,
          3,
          1,
          3,
          2,
          1,
          3,
          1,
          2,
          3,
          1,
          2,
          3,
          2,
          3,
          1,
          2,
          2,
          3,
          3,
          1,
          2,
          2,
          3,
          1,
          2,
          3,
          1,
          2,
          1,
          3,
          1,
          2,
          1,
          3,
          2,
          1,
          3,
          3,
          1,
          2,
          3,
          3,
          1,
          1,
          3,
          3,
          1,
          3,
          1,
          3,
          2,
          3,
          1,
          2,
          1,
          3,
          2,
          1,
          3,
          2,
          1,
          3,
          3,
          3,
          2,
          3,
          2,
          2,
          3,
          3,
          1,
          3,
          2,
          1,
          3,
          2,
          3,
          1,
          2,
          2,
          3,
          1,
          2,
          1,
          3,
          2,
          1,
          3,
          1,
          3,
          1,
          1,
          2,
          1,
          3,
          2,
          2,
          1,
          3,
          1,
          2,
          3,
          1,
          3,
          2,
          2,
          3,
          2,
          1,
          0,
          1,
          2,
          3,
          2,
          3,
          1,
          1,
          3,
          1,
          2,
          1,
          2,
          3,
          1,
          2,
          2,
          3,
          2,
          2,
          3,
          1,
          3,
          2,
          3,
          2,
          2,
          1,
          2,
          1,
          3,
          1,
          2,
          1,
          2,
          1,
          2,
          1,
          1,
          2,
          3,
          1,
          1,
          2,
          1,
          2,
          3,
          1,
          2,
          1,
          2,
          3,
          1,
          3,
          1,
          2,
          3,
          1,
          2,
          1,
          3,
          2,
          2,
          1,
          2,
          3,
          0,
          0,
          1,
          2,
          2,
          3,
          2,
          1,
          2,
          1,
          3,
          2,
          1,
          3,
          2,
          3,
          1,
          3,
          2,
          1,
          2,
          1,
          1,
          2,
          1,
          2,
          3,
          2,
          1,
          2,
          3,
          2,
          1,
          1,
          3,
          2,
          2,
          3,
          1,
          2,
          2,
          1,
          2,
          1,
          3,
          3,
          3,
          1,
          2,
          1,
          3,
          1,
          1,
          3,
          2,
          2,
          3,
          2,
          1,
          1,
          2,
          3,
          2,
          3,
          3,
          2,
          1,
          1,
          1,
          2,
          3,
          3,
          2,
          1,
          1,
          1,
          2,
          3,
          1,
          2,
          3,
          3,
          1,
          3,
          1,
          2,
          3,
          1,
          2,
          2,
          1,
          1,
          3,
          2,
          1,
          2,
          3,
          1,
          2,
          1,
          3,
          1,
          2,
          3,
          1,
          3,
          2,
          1,
          2,
          1,
          3,
          1,
          3,
          2,
          2,
          1,
          2,
          2,
          3,
          3,
          2,
          3,
          2,
          3,
          1,
          2,
          3,
          2,
          1,
          1,
          3,
          3,
          1,
          2,
          3,
          1,
          2,
          3,
          3,
          1,
          2,
          3,
          2,
          1,
          3,
          2,
          3,
          2,
          2,
          2,
          1,
          2,
          3,
          1,
          2,
          1,
          3,
          3,
          2,
          2,
          3,
          3,
          2,
          1,
          2,
          2,
          1,
          3,
          3,
          1,
          2,
          3,
          1,
          2,
          3,
          3,
          1,
          1,
          3,
          3,
          1,
          2,
          2,
          1,
          2,
          1,
          2,
          3,
          1,
          2,
          3,
          2,
          1,
          2,
          3,
          1,
          3,
          1,
          2,
          3,
          1,
          2,
          2,
          3,
          2,
          1,
          2,
          3,
          2,
          3,
          1,
          2,
          3,
          2,
          2,
          1,
          3,
          3,
          1,
          2,
          3,
          3,
          2,
          3,
          1,
          1,
          2,
          1,
          1,
          3,
          1,
          2,
          1,
          3,
          2,
          1,
          3,
          3,
          2,
          3,
          2,
          3,
          1,
          2,
          3,
          1,
          2,
          3,
          1,
          3,
          2,
          1,
          3,
          1,
          2,
          3,
          2,
          1,
          1,
          1,
          3,
          1,
          2,
          1,
          3,
          2,
          1,
          2,
          1,
          1,
          3,
          1,
          2,
          1,
          3,
          2,
          3,
          3,
          1,
          2,
          3,
          1,
          2,
          1,
          1,
          2,
          3,
          3,
          1,
          3,
          2,
          3,
          1,
          2,
          3,
          1,
          1,
          3,
          2,
          3,
          1,
          2,
          1,
          2,
          1,
          2,
          1,
          3,
          2,
          2,
          3,
          1,
          2,
          3,
          2,
          1,
          1,
          3,
          2,
          1,
          2,
          3,
          1,
          2,
          2,
          1,
          2,
          3,
          1,
          2,
          1,
          1,
          3,
          2,
          0,
          3,
          2,
          1,
          2,
          1,
          3,
          2,
          3,
          2,
          2,
          1,
          3,
          2,
          1,
          2,
          3,
          1,
          1,
          1,
          1,
          2,
          2,
          1,
          2,
          3,
          1,
          3,
          2,
          3,
          2,
          1,
          3,
          2,
          2,
          3,
          3,
          1,
          2,
          1,
          3,
          3,
          1,
          1,
          1,
          2,
          3,
          3,
          1,
          2,
          3,
          1,
          3,
          2,
          1,
          3,
          3,
          1,
          3,
          2,
          1,
          1,
          3,
          1,
          1,
          1,
          3,
          1,
          2,
          3,
          2,
          2,
          1,
          2,
          1,
          3,
          2,
          1,
          3,
          3,
          3,
          1,
          2,
          3,
          3,
          3,
          2,
          2,
          3,
          3,
          3,
          3,
          3,
          3,
          3,
          3,
          3,
          1,
          3,
          3,
          3,
          3,
          1,
          2,
          2,
          3,
          2,
          1,
          3,
          1,
          1,
          2,
          2,
          3,
          3,
          1,
          3,
          3,
          1,
          0,
          2,
          1,
          2,
          1,
          2,
          2,
          3,
          1,
          2,
          1,
          2,
          1,
          2,
          1,
          3,
          1,
          3,
          1,
          2,
          1,
          3,
          2,
          1,
          1,
          3,
          2,
          1,
          3,
          1,
          2,
          2,
          1,
          0,
          1,
          2,
          1,
          3,
          2,
          2,
          3,
          1,
          2,
          3,
          1,
          3,
          2,
          2,
          2,
          1,
          1,
          2,
          2,
          1,
          2,
          1,
          3,
          1,
          1,
          2,
          3,
          2,
          1,
          3,
          1,
          3,
          2,
          1,
          3,
          1,
          2,
          3,
          2,
          1,
          1,
          2,
          1,
          2,
          3,
          3,
          1,
          3,
          3,
          1,
          2,
          2,
          2,
          3,
          2,
          1,
          3,
          1,
          2,
          3,
          1,
          1,
          3,
          2,
          1,
          3,
          2,
          3,
          2,
          3,
          1,
          1,
          2,
          3,
          1,
          1,
          3,
          2,
          1,
          3,
          2,
          2,
          0,
          1,
          2,
          1,
          3,
          3,
          2,
          2,
          2,
          1,
          1,
          1,
          3,
          2,
          3,
          2,
          1,
          1,
          2,
          3,
          1,
          3,
          3,
          2,
          1,
          2,
          1,
          3,
          2,
          2,
          1,
          3,
          2,
          1,
          3,
          3,
          3,
          1,
          3,
          2,
          3,
          2,
          1,
          3,
          2,
          1,
          3,
          2,
          3,
          3,
          2,
          1,
          3,
          2,
          3,
          1,
          1,
          3,
          1,
          2,
          1,
          3,
          1,
          1,
          2,
          1,
          3,
          3,
          1,
          2,
          3,
          1,
          2,
          3,
          1,
          2,
          3,
          1,
          1,
          1,
          2,
          1,
          2,
          3,
          1,
          2,
          3,
          3,
          1,
          2,
          3,
          1,
          2,
          3,
          1,
          3,
          3,
          1,
          1,
          2,
          3,
          1,
          2,
          2,
          3,
          2,
          1,
          3,
          1,
          2,
          3,
          3,
          2,
          1,
          3,
          2,
          3,
          1,
          2,
          1,
          3,
          2,
          2,
          3,
          1,
          2,
          3,
          1,
          3,
          1,
          1,
          3,
          2,
          1,
          2,
          1,
          2,
          3,
          2,
          1,
          1,
          3,
          2,
          1,
          3,
          2,
          3,
          1,
          3,
          2,
          1,
          2,
          3,
          1,
          2,
          1,
          1,
          2,
          3,
          2,
          3,
          1,
          3,
          1,
          1,
          2,
          3,
          3,
          2,
          1,
          1,
          1,
          2,
          1,
          3,
          1,
          2,
          3,
          1,
          2,
          1,
          3,
          2,
          1,
          2,
          3,
          3,
          1,
          1,
          3,
          2,
          3,
          1,
          1,
          2,
          3,
          2,
          1,
          2,
          3,
          3,
          1,
          2,
          2,
          1,
          2,
          1,
          1,
          3,
          1,
          2,
          1,
          3,
          2,
          2,
          3,
          2,
          1,
          3,
          2,
          2,
          3,
          2,
          1,
          2,
          2,
          3,
          1,
          3,
          1,
          2,
          3,
          2,
          3,
          3,
          1,
          2,
          1,
          1,
          2,
          1,
          2,
          1,
          3,
          2
         ],
         "x0": " ",
         "xaxis": "x",
         "y": [
          32,
          17,
          65,
          25,
          30,
          25,
          67,
          12,
          22,
          32,
          11,
          14,
          9,
          34,
          11,
          6,
          24,
          25,
          40,
          35,
          12,
          15,
          15,
          25,
          67,
          16,
          22,
          21,
          12,
          13,
          33,
          27,
          41,
          24,
          71,
          33,
          66,
          25,
          40,
          17,
          27,
          30,
          41,
          50,
          44,
          124,
          15,
          69,
          55,
          15,
          80,
          30,
          53,
          38,
          34,
          78,
          70,
          53,
          57,
          78,
          47,
          39,
          28,
          13,
          97,
          41,
          32,
          22,
          56,
          14,
          19,
          26,
          35,
          19,
          36,
          56,
          20,
          18,
          9,
          11,
          15,
          49,
          34,
          28,
          21,
          60,
          15,
          14,
          18,
          23,
          28,
          36,
          73,
          32,
          37,
          26,
          14,
          27,
          46,
          28,
          11,
          10,
          56,
          51,
          29,
          29,
          85,
          188,
          40,
          38,
          52,
          24,
          31,
          36,
          17,
          13,
          142,
          58,
          67,
          73,
          52,
          60,
          10,
          61,
          26,
          74,
          42,
          17,
          38,
          16,
          10,
          54,
          97,
          32,
          50,
          81,
          117,
          102,
          22,
          34,
          51,
          55,
          -98,
          67,
          42,
          30,
          117,
          36,
          68,
          57,
          61,
          39,
          34,
          28,
          34,
          72,
          32,
          16,
          19,
          13,
          41,
          48,
          6,
          21,
          29,
          10,
          5,
          25,
          34,
          27,
          51,
          22,
          107,
          81,
          27,
          66,
          48,
          21,
          43,
          29,
          65,
          25,
          16,
          34,
          33,
          22,
          32,
          29,
          37,
          -1411,
          29,
          764,
          22,
          19,
          28,
          26,
          72,
          63,
          22,
          50,
          27,
          51,
          39,
          32,
          34,
          51,
          32,
          51,
          25,
          44,
          53,
          130,
          53,
          50,
          42,
          45,
          77,
          46,
          73,
          21,
          24,
          87,
          89,
          67,
          52,
          127,
          242,
          72,
          34,
          54,
          29,
          65,
          60,
          49,
          39,
          30,
          29,
          25,
          -1279,
          32,
          -1360,
          27,
          -1414,
          25,
          42,
          18,
          207,
          16,
          48,
          97,
          17,
          74,
          79,
          64,
          50,
          30,
          54,
          71,
          56,
          68,
          56,
          31,
          65,
          18,
          57,
          63,
          44,
          24,
          68,
          13,
          30,
          75,
          12,
          37,
          81,
          103,
          39,
          30,
          81,
          30,
          66,
          23,
          95,
          25,
          76,
          85,
          55,
          15,
          41,
          44,
          48,
          31,
          44,
          54,
          26,
          35,
          15,
          66,
          16,
          51,
          19,
          108,
          53,
          19,
          32,
          46,
          53,
          64,
          52,
          35,
          39,
          25,
          38,
          84,
          17,
          15,
          37,
          55,
          25,
          38,
          76,
          21,
          59,
          29,
          32,
          43,
          22,
          40,
          30,
          26,
          30,
          45,
          38,
          70,
          82,
          71,
          17,
          29,
          122,
          25,
          54,
          31,
          34,
          25,
          37,
          31,
          38,
          32,
          34,
          54,
          25,
          59,
          16,
          10,
          35,
          29,
          13,
          39,
          16,
          40,
          21,
          14,
          69,
          31,
          31,
          61,
          73,
          45,
          21,
          15,
          47,
          43,
          31,
          26,
          63,
          62,
          60,
          18,
          40,
          51,
          32,
          13,
          18,
          -1409,
          813,
          769,
          20,
          27,
          92,
          21,
          40,
          38,
          67,
          121,
          46,
          67,
          14,
          86,
          66,
          32,
          49,
          33,
          42,
          31,
          72,
          54,
          31,
          8,
          19,
          32,
          26,
          56,
          35,
          75,
          34,
          39,
          47,
          45,
          52,
          13,
          35,
          63,
          45,
          25,
          22,
          26,
          43,
          60,
          20,
          12,
          45,
          53,
          25,
          64,
          16,
          51,
          49,
          39,
          57,
          21,
          90,
          15,
          41,
          31,
          67,
          40,
          36,
          19,
          17,
          44,
          43,
          121,
          50,
          36,
          89,
          13,
          24,
          66,
          82,
          15,
          17,
          25,
          27,
          36,
          104,
          47,
          82,
          53,
          42,
          31,
          32,
          42,
          60,
          49,
          71,
          47,
          24,
          72,
          49,
          44,
          39,
          22,
          36,
          36,
          41,
          45,
          5,
          41,
          67,
          56,
          23,
          31,
          108,
          67,
          38,
          26,
          21,
          84,
          66,
          48,
          50,
          17,
          38,
          67,
          30,
          43,
          89,
          128,
          37,
          22,
          100,
          73,
          47,
          45,
          63,
          36,
          75,
          48,
          47,
          106,
          69,
          15,
          39,
          30,
          40,
          22,
          39,
          112,
          15,
          29,
          17,
          86,
          61,
          23,
          35,
          43,
          70,
          10,
          19,
          12,
          67,
          32,
          35,
          5,
          37,
          38,
          58,
          26,
          38,
          32,
          30,
          25,
          16,
          37,
          24,
          67,
          24,
          17,
          46,
          22,
          14,
          28,
          32,
          77,
          63,
          72,
          19,
          107,
          88,
          89,
          48,
          72,
          12,
          79,
          47,
          48,
          62,
          17,
          20,
          34,
          50,
          37,
          8,
          22,
          16,
          28,
          48,
          65,
          47,
          32,
          22,
          -214,
          22,
          103,
          39,
          49,
          114,
          76,
          8,
          30,
          34,
          29,
          27,
          61,
          29,
          29,
          93,
          6,
          46,
          58,
          120,
          37,
          39,
          36,
          71,
          31,
          66,
          19,
          108,
          35,
          20,
          126,
          82,
          49,
          64,
          30,
          67,
          32,
          38,
          46,
          -1388,
          -1402,
          21,
          39,
          112,
          37,
          37,
          60,
          91,
          29,
          31,
          26,
          22,
          32,
          53,
          41,
          10,
          103,
          35,
          68,
          63,
          45,
          57,
          12,
          -1404,
          47,
          97,
          30,
          78,
          131,
          8,
          31,
          53,
          21,
          14,
          40,
          53,
          36,
          27,
          29,
          28,
          53,
          23,
          48,
          57,
          35,
          31,
          31,
          25,
          47,
          64,
          54,
          72,
          43,
          26,
          61,
          31,
          40,
          25,
          128,
          48,
          10,
          34,
          25,
          39,
          23,
          46,
          85,
          56,
          65,
          22,
          68,
          36,
          72,
          58,
          17,
          79,
          22,
          41,
          23,
          35,
          59,
          100,
          26,
          41,
          17,
          40,
          36,
          70,
          80,
          21,
          35,
          57,
          17,
          48,
          66,
          47,
          46,
          40,
          23,
          63,
          45,
          80,
          20,
          36,
          101,
          25,
          48,
          54,
          24,
          22,
          19,
          46,
          73,
          162,
          38,
          58,
          30,
          20,
          53,
          116,
          29,
          53,
          136,
          34,
          40,
          29,
          51,
          10,
          24,
          52,
          65,
          15,
          38,
          39,
          36,
          37,
          27,
          53,
          36,
          45,
          22,
          52,
          15,
          23,
          51,
          17,
          19,
          51,
          48,
          87,
          68,
          40,
          21,
          138,
          83,
          20,
          30,
          15,
          138,
          25,
          49,
          12,
          98,
          34,
          38,
          15,
          59,
          75,
          26,
          45,
          26,
          22,
          21,
          38,
          36,
          44,
          106,
          48,
          92,
          44,
          39,
          53,
          97,
          126,
          55,
          59,
          83,
          103,
          60,
          24,
          -1418,
          44,
          18,
          0,
          50,
          29,
          14,
          79,
          35,
          59,
          36,
          50,
          34,
          24,
          79,
          59,
          38,
          31,
          33,
          18,
          13,
          0,
          35,
          41,
          22,
          37,
          48,
          6,
          158,
          33,
          60,
          40,
          48,
          22,
          37,
          31,
          50,
          42,
          48,
          38,
          42,
          30,
          15,
          37,
          29,
          113,
          17,
          63,
          29,
          39,
          23,
          11,
          25,
          37,
          22,
          59,
          46,
          33,
          18,
          22,
          26,
          11,
          135,
          36,
          67,
          16,
          36,
          45,
          56,
          11,
          23,
          65,
          107,
          30,
          13,
          52,
          37,
          34,
          83,
          71,
          54,
          88,
          34,
          70,
          35,
          31,
          -1381,
          22,
          12,
          758,
          750,
          42,
          68,
          153,
          41,
          34,
          71,
          25,
          156,
          66,
          170,
          68,
          37,
          37,
          22,
          124,
          34,
          35,
          132,
          19,
          39,
          84,
          73,
          48,
          252,
          120,
          75,
          35,
          41,
          59,
          90,
          141,
          76,
          103,
          63,
          20,
          14,
          24,
          48,
          78,
          44,
          32,
          48,
          43,
          72,
          50,
          54,
          45,
          53,
          24,
          58,
          16,
          85,
          23,
          63,
          40,
          12,
          11,
          27,
          69,
          84,
          15,
          33,
          56,
          44,
          22,
          92,
          65,
          19,
          23,
          72,
          35,
          39,
          24,
          66,
          20,
          40,
          12,
          21,
          39,
          13,
          28,
          22,
          49,
          22,
          54,
          11,
          16,
          35,
          36,
          35,
          24,
          43,
          39,
          16,
          14,
          36,
          27,
          38,
          92,
          13,
          49,
          16,
          35,
          108,
          53,
          30,
          69,
          89,
          74,
          23,
          24,
          37,
          43,
          17,
          154,
          36,
          31,
          33,
          40,
          79,
          26,
          66,
          11,
          72,
          27,
          35,
          27,
          41,
          41,
          24,
          19,
          62,
          28,
          19,
          48,
          10,
          7,
          33,
          29,
          38,
          74,
          73,
          32,
          59,
          34,
          25,
          59,
          20,
          22,
          46,
          52,
          51,
          5,
          45,
          53,
          44,
          41,
          53,
          137,
          41,
          15,
          14,
          48,
          46,
          94,
          24,
          39,
          59,
          62,
          41,
          60,
          24,
          52,
          39,
          50,
          30,
          30,
          44,
          64,
          48,
          21,
          78,
          35,
          35,
          53,
          32,
          183,
          21,
          87,
          28,
          43,
          82,
          85,
          54,
          72,
          26,
          32,
          17,
          31,
          37,
          216,
          90,
          15,
          208,
          29,
          53,
          52,
          46,
          31,
          29,
          181,
          79,
          56,
          31,
          27,
          63,
          65,
          32,
          29,
          36,
          34,
          45,
          56,
          69,
          43,
          30,
          26,
          35,
          37,
          19,
          46,
          57,
          104,
          30,
          51,
          104,
          56,
          41,
          41,
          55,
          25,
          30,
          50,
          89,
          59,
          44,
          34,
          61,
          33,
          22,
          26,
          32,
          24,
          51,
          44,
          28,
          23,
          51,
          99,
          31,
          50,
          113,
          48,
          118,
          31,
          47,
          37,
          37,
          18,
          22,
          55,
          47,
          40,
          15,
          17,
          37,
          41,
          72,
          142,
          56,
          27,
          45,
          25,
          48,
          35,
          18,
          23,
          55,
          14,
          57,
          41,
          63,
          38,
          29,
          32,
          18,
          67,
          75,
          35,
          14,
          37,
          131,
          68,
          62,
          127,
          9,
          15,
          47,
          64,
          55,
          61,
          36,
          89,
          46,
          98,
          26,
          81,
          77,
          99,
          59,
          35,
          26,
          65,
          71,
          37,
          43,
          94,
          15,
          48,
          20,
          37,
          27,
          41,
          40,
          24,
          19,
          39,
          34,
          16,
          6,
          25,
          50,
          37,
          53,
          24,
          26,
          54,
          36,
          46,
          87,
          104,
          28,
          12,
          85,
          102,
          33,
          16,
          43,
          79,
          63,
          55,
          73,
          54,
          27,
          31,
          60,
          175,
          48,
          64,
          19,
          41,
          37,
          23,
          22,
          57,
          59,
          55,
          24,
          29,
          113,
          69,
          26,
          19,
          29,
          54,
          11,
          51,
          30,
          23,
          65,
          54,
          18,
          37,
          11,
          59,
          29,
          36,
          42,
          33,
          32,
          26,
          55,
          29,
          29,
          105,
          95,
          50,
          39,
          22,
          54,
          123,
          29,
          56,
          68,
          32,
          26,
          38,
          51,
          29,
          142,
          51,
          60,
          33,
          17,
          57,
          66,
          37,
          53,
          159,
          24,
          19,
          8,
          22,
          49,
          89,
          27,
          75,
          39,
          41,
          22,
          9,
          38,
          19,
          38,
          35,
          31,
          54,
          27,
          49,
          14,
          24,
          54,
          36,
          130,
          40,
          106,
          43,
          77,
          15,
          58,
          34,
          65,
          20,
          21,
          70,
          57,
          23,
          29,
          13,
          112,
          97,
          18,
          56,
          29,
          16,
          64,
          66,
          14,
          26,
          39,
          40,
          51,
          16,
          69,
          16,
          61,
          30,
          54,
          24,
          44,
          22,
          29,
          49,
          32,
          40,
          30,
          51,
          30,
          22,
          33,
          17,
          44,
          13,
          31,
          69,
          46,
          79,
          4,
          54,
          31,
          37,
          59,
          76,
          23,
          64,
          24,
          37,
          29,
          21,
          28,
          51,
          30,
          94,
          13,
          193,
          44,
          29,
          46,
          47,
          17,
          77,
          8,
          25,
          129,
          25,
          19,
          41,
          24,
          41,
          219,
          30,
          35,
          27,
          25,
          18,
          61,
          41,
          16,
          25,
          128,
          44,
          45,
          33,
          15,
          7,
          97,
          28,
          23,
          13,
          103,
          102,
          25,
          130,
          65,
          42,
          20,
          80,
          15,
          48,
          42,
          36,
          32,
          37,
          75,
          27,
          27,
          25,
          25,
          17,
          26,
          16,
          65,
          140,
          26,
          31,
          43,
          30,
          27,
          59,
          54,
          72,
          57,
          24,
          42,
          34,
          59,
          32,
          40,
          38,
          57,
          74,
          62,
          27,
          25,
          33,
          45,
          101,
          26,
          66,
          41,
          21,
          58,
          89,
          41,
          150,
          114,
          147,
          39,
          45,
          30,
          76,
          88,
          42,
          2,
          52,
          32,
          25,
          24,
          26,
          15,
          31,
          10,
          18,
          23,
          25,
          40,
          19,
          40,
          26,
          24,
          47,
          35,
          58,
          57,
          38,
          38,
          12,
          323,
          27,
          17,
          153,
          106,
          42,
          26,
          53,
          59,
          47,
          48,
          23,
          59,
          74,
          113,
          53,
          29,
          31,
          43,
          60,
          46,
          27,
          34,
          42,
          86,
          78,
          43,
          36,
          49,
          87,
          14,
          46,
          17,
          15,
          48,
          23,
          46,
          34,
          43,
          103,
          94,
          66,
          88,
          30,
          21,
          38,
          80,
          36,
          44,
          24,
          61,
          46,
          26,
          51,
          13,
          16,
          30,
          52,
          29,
          20,
          24,
          45,
          113,
          188,
          29,
          89,
          48,
          18,
          63,
          48,
          77,
          30,
          23,
          23,
          14,
          39,
          25,
          68,
          29,
          71,
          34,
          44,
          76,
          71,
          85,
          56,
          16,
          20,
          108,
          161,
          56,
          64,
          53,
          54,
          21,
          116,
          67,
          85,
          46,
          33,
          40,
          27,
          26,
          39,
          42,
          75,
          32,
          45,
          113,
          121,
          65,
          43,
          51,
          22,
          54,
          15,
          10,
          102,
          19,
          66,
          134,
          10,
          63,
          65,
          16,
          30,
          30,
          48,
          49,
          88,
          49,
          28,
          182,
          28,
          27,
          82,
          31,
          54,
          50,
          54,
          19,
          60,
          47,
          65,
          26,
          64,
          19,
          8,
          48,
          52,
          34,
          41,
          79,
          46,
          11,
          31,
          20,
          50,
          52,
          50,
          34,
          75,
          35,
          85,
          33,
          17,
          56,
          80,
          58,
          12,
          37,
          48,
          15,
          38,
          144,
          39,
          4,
          69,
          34,
          63,
          32,
          16,
          15,
          46,
          28,
          15,
          59,
          38,
          33,
          20,
          71,
          6,
          8,
          17,
          42,
          29,
          40,
          21,
          59,
          58,
          19,
          39,
          36,
          32,
          37,
          50,
          26,
          49,
          30,
          36,
          65,
          55,
          27,
          54,
          39,
          40,
          41,
          33,
          19,
          49,
          51,
          60,
          54,
          163,
          59,
          36,
          88,
          88,
          12,
          29,
          161,
          13,
          51,
          33,
          27,
          46,
          54,
          46,
          64,
          42,
          68,
          40,
          33,
          30,
          36,
          9,
          35,
          40,
          45,
          49,
          87,
          73,
          58,
          34,
          74,
          40,
          53,
          37,
          178,
          29,
          21,
          107,
          35,
          30,
          58,
          21,
          50,
          120,
          27,
          70,
          132,
          25,
          34,
          4,
          24,
          26,
          78,
          14,
          72,
          32,
          24,
          28,
          19,
          42,
          53,
          58,
          56,
          132,
          32,
          16,
          113,
          51,
          34,
          27,
          98,
          46,
          21,
          33,
          49,
          29,
          64,
          32,
          59,
          62,
          39,
          28,
          60,
          58,
          45,
          35,
          15,
          21,
          51,
          44,
          40,
          14,
          25,
          47,
          85,
          31,
          87,
          16,
          32,
          42,
          65,
          106,
          46,
          68,
          13,
          66,
          23,
          24,
          22,
          127,
          34,
          37,
          69,
          115,
          63,
          46,
          27,
          74,
          36,
          25,
          41,
          42,
          89,
          66,
          29,
          46,
          22,
          12,
          18,
          24,
          33,
          53,
          36,
          40,
          46,
          45,
          51,
          60,
          37,
          48,
          26,
          41,
          37,
          39,
          -1371,
          66,
          -1385,
          97,
          20,
          29,
          37,
          108,
          45,
          32,
          82,
          182,
          82,
          68,
          52,
          40,
          53,
          38,
          45,
          37,
          31,
          32,
          22,
          37,
          37,
          23,
          20,
          76,
          38,
          57,
          21,
          87,
          95,
          34,
          60,
          47,
          43,
          72,
          55,
          8,
          39,
          38,
          42,
          45,
          38,
          20,
          158,
          29,
          28,
          28,
          29,
          31,
          20,
          108,
          42,
          25,
          44,
          34,
          87,
          52,
          32,
          24,
          41,
          23,
          37,
          61,
          82,
          54,
          132,
          97,
          55,
          17,
          88,
          51,
          28,
          29,
          25,
          13,
          94,
          36,
          31,
          40,
          33,
          47,
          57,
          35,
          91,
          51,
          46,
          76,
          25,
          79,
          89,
          76,
          55,
          82,
          81,
          188,
          20,
          5,
          48,
          40,
          20,
          24,
          47,
          61,
          36,
          42,
          9,
          33,
          24,
          51,
          73,
          44,
          27,
          22,
          17,
          61,
          39,
          148,
          95,
          31,
          86,
          9,
          21,
          49,
          40,
          29,
          95,
          156,
          33,
          34,
          25,
          54,
          138,
          93,
          37,
          30,
          92,
          28,
          89,
          9,
          31,
          47,
          63,
          28,
          67,
          33,
          116,
          18,
          163,
          44,
          44,
          56,
          55,
          48,
          31,
          50,
          56,
          13,
          25,
          59,
          200,
          110,
          41,
          33,
          18,
          26,
          59,
          296,
          85,
          76,
          42,
          32,
          66,
          54,
          36,
          43,
          30,
          21,
          17,
          40,
          115,
          99,
          27,
          58,
          10,
          148,
          32,
          81,
          16,
          81,
          13,
          266,
          26,
          46,
          58,
          5,
          167,
          160,
          51,
          27,
          54,
          39,
          46,
          47,
          18,
          60,
          30,
          21,
          48,
          57,
          49,
          348,
          330,
          336,
          50,
          54,
          8,
          18,
          17,
          27,
          68,
          44,
          30,
          27,
          35,
          66,
          160,
          58,
          37,
          39,
          4,
          38,
          20,
          75,
          87,
          66,
          22,
          35,
          40,
          62,
          71,
          11,
          36,
          175,
          27,
          45,
          46,
          30,
          70,
          17,
          41,
          62,
          64,
          31,
          69,
          43,
          97,
          102,
          28,
          50,
          9,
          26,
          59,
          63,
          52,
          34,
          59,
          224,
          44,
          105,
          64,
          51,
          -1407,
          10,
          802,
          47,
          28,
          30,
          40,
          52,
          94,
          122,
          17,
          26,
          38,
          41,
          47,
          34,
          51,
          30,
          34,
          33,
          33,
          28,
          39,
          65,
          82,
          51,
          19,
          2,
          53,
          69,
          22,
          32,
          97,
          32,
          9,
          85,
          66,
          40,
          107,
          169,
          34,
          111,
          67,
          30,
          88,
          124,
          21,
          66,
          13,
          53,
          42,
          41,
          40,
          82,
          41,
          38,
          38,
          24,
          35,
          50,
          78,
          42,
          35,
          54,
          88,
          48,
          28,
          17,
          19,
          32,
          14,
          32,
          36,
          27,
          166,
          148,
          46,
          46,
          30,
          160,
          134,
          6,
          81,
          86,
          50,
          36,
          60,
          211,
          60,
          56,
          33,
          83,
          71,
          50,
          36,
          84,
          22,
          10,
          92,
          49,
          37,
          17,
          40,
          64,
          48,
          38,
          36,
          17,
          34,
          26,
          58,
          52,
          121,
          79,
          95,
          29,
          15,
          46,
          43,
          33,
          38,
          14,
          17,
          25,
          25,
          35,
          90,
          93,
          49,
          24,
          52,
          42,
          26,
          68,
          47,
          99,
          34,
          33,
          43,
          31,
          54,
          20,
          78,
          121,
          26,
          35,
          38,
          53,
          27,
          23,
          68,
          63,
          56,
          47,
          33,
          58,
          24,
          30,
          25,
          17,
          36,
          95,
          67,
          36,
          38,
          7,
          36,
          54,
          25,
          14,
          21,
          60,
          40,
          138,
          35,
          26,
          48,
          52,
          29,
          38,
          34,
          30,
          51,
          34,
          56,
          110,
          53,
          67,
          51,
          14,
          126,
          64,
          45,
          46,
          21,
          45,
          33,
          21,
          28,
          25,
          10,
          69,
          41,
          42,
          42,
          45,
          33,
          33,
          18,
          33,
          27,
          23,
          24,
          22,
          74,
          15,
          16,
          72,
          62,
          45,
          7,
          32,
          47,
          19,
          46,
          81,
          82,
          44,
          37,
          70,
          766,
          755,
          42,
          45,
          39,
          21,
          44,
          68,
          34,
          69,
          58,
          45,
          202,
          183,
          54,
          112,
          69,
          22,
          20,
          21,
          44,
          72,
          47,
          90,
          26,
          24,
          38,
          13,
          29,
          115,
          39,
          37,
          21,
          64,
          17,
          47,
          27,
          5,
          11,
          26,
          42,
          33,
          83,
          44,
          36,
          34,
          18,
          61,
          51,
          39,
          11,
          8,
          39,
          14,
          761,
          24,
          74
         ],
         "y0": " ",
         "yaxis": "y"
        },
        {
         "hoverinfo": "skip",
         "marker": {
          "color": "green",
          "opacity": 0.5
         },
         "type": "box",
         "x": [
          1,
          1,
          0,
          2,
          2,
          2,
          3,
          1,
          2,
          1,
          1,
          3,
          2,
          3,
          3,
          1,
          0,
          1,
          2,
          3,
          1,
          1,
          2,
          1,
          1,
          3,
          2,
          3,
          2,
          2,
          1,
          2,
          3,
          1,
          3,
          1,
          2,
          3,
          1,
          3,
          1,
          2,
          3,
          1,
          3,
          2,
          1,
          3,
          1,
          3,
          2,
          1,
          3,
          1,
          1,
          2,
          3,
          1,
          2,
          3,
          1,
          2,
          1,
          1,
          3,
          2,
          1,
          1,
          2,
          1,
          3,
          1,
          3,
          2,
          1,
          2,
          3,
          1,
          1,
          2,
          1,
          2,
          1,
          3,
          3,
          1,
          2,
          2,
          3,
          2,
          3,
          1,
          2,
          3,
          1,
          3,
          2,
          3,
          1,
          2,
          2,
          3,
          2,
          1,
          3,
          2,
          1,
          3,
          2,
          2,
          2,
          3,
          3,
          2,
          3,
          1,
          2,
          3,
          1,
          3,
          1,
          3,
          1,
          2,
          1,
          1,
          3,
          2,
          2,
          1,
          3,
          3,
          1,
          2,
          2,
          3,
          2,
          1,
          3,
          3,
          1,
          3,
          2,
          2,
          1,
          3,
          3,
          1,
          2,
          1,
          2,
          1,
          3,
          3,
          1,
          3,
          2,
          1,
          2,
          1,
          1,
          3,
          2,
          2,
          1,
          3,
          2,
          3,
          1,
          2,
          1,
          3,
          2,
          3,
          1,
          1,
          3,
          2,
          1,
          3,
          3,
          1,
          2,
          2,
          1,
          3,
          3,
          2,
          3,
          2,
          1,
          1,
          2,
          3,
          3,
          1,
          2,
          1,
          3,
          3,
          1,
          1,
          2,
          3,
          2,
          1,
          3,
          3,
          2,
          1,
          2,
          3,
          1,
          2,
          1,
          3,
          2,
          1,
          1,
          2,
          1,
          2,
          3,
          1,
          1,
          2,
          3,
          1,
          1,
          2,
          1,
          2,
          1,
          2,
          3,
          1,
          2,
          1,
          3,
          1,
          2,
          1,
          1,
          1,
          1,
          2,
          2,
          1,
          3,
          1,
          3,
          3,
          1,
          3,
          2,
          1,
          1,
          2,
          3,
          1,
          3,
          2,
          2,
          3,
          1,
          3,
          1,
          2,
          3,
          2,
          1,
          2,
          1,
          2,
          3,
          2,
          1,
          1,
          3,
          1,
          2,
          1,
          3,
          1,
          2,
          1,
          3,
          2,
          1,
          2,
          3,
          1,
          1,
          3,
          1,
          2,
          3,
          2,
          1,
          3,
          1,
          3,
          1,
          2,
          2,
          1,
          2,
          3,
          1,
          2,
          2,
          1,
          1,
          2,
          3,
          1,
          1,
          3,
          2,
          2,
          3,
          1,
          1,
          3,
          0,
          1,
          2,
          3,
          2,
          3,
          2,
          1,
          2,
          2,
          1,
          3,
          2,
          1,
          3,
          2,
          2,
          1,
          1,
          2,
          3,
          3,
          1,
          2,
          3,
          1,
          2,
          3,
          2,
          1,
          1,
          2,
          3,
          2,
          3,
          1,
          1,
          1,
          0,
          2,
          2,
          1,
          3,
          2,
          2,
          1,
          2,
          1,
          3,
          2,
          2,
          3,
          1,
          3,
          1,
          3,
          3,
          1,
          2,
          1,
          3,
          2,
          1,
          1,
          1,
          2,
          3,
          2,
          3,
          1,
          2,
          3,
          2,
          2,
          3,
          1,
          1,
          2,
          3,
          1,
          2,
          3,
          1,
          1,
          1,
          1,
          3,
          2,
          3,
          1,
          2,
          3,
          2,
          1,
          2,
          3,
          3,
          1,
          2,
          3,
          3,
          2,
          3,
          1,
          2,
          2,
          2,
          1,
          3,
          2,
          3,
          3,
          1,
          2,
          1,
          3,
          3,
          2,
          1,
          2,
          1,
          2,
          3,
          1,
          1,
          3,
          1,
          2,
          3,
          1,
          1,
          3,
          3,
          2,
          3,
          1,
          1,
          1,
          2,
          3,
          1,
          3,
          2,
          3,
          1,
          3,
          1,
          2,
          3,
          1,
          2,
          1,
          3,
          3,
          2,
          1,
          1,
          3,
          1,
          3,
          1,
          3,
          1,
          1,
          2,
          3,
          1,
          1,
          2,
          1,
          3,
          3,
          3,
          1,
          3,
          2,
          3,
          1,
          3,
          1,
          3,
          2,
          3,
          1,
          2,
          2,
          3,
          2,
          1,
          1,
          3,
          2,
          1,
          2,
          3,
          1,
          2,
          3,
          3,
          1,
          3,
          2,
          1,
          3,
          2,
          1,
          2,
          2,
          3,
          2,
          1,
          2,
          3,
          1,
          2,
          1,
          3,
          1,
          1,
          2,
          3,
          1,
          2,
          3,
          1,
          1,
          3,
          3,
          1,
          1,
          2,
          3,
          1,
          1,
          2,
          1,
          3,
          1,
          3,
          1,
          2,
          3,
          1,
          3,
          2,
          1,
          2,
          3,
          1,
          1,
          2,
          3,
          2,
          1,
          1,
          3,
          3,
          1,
          2,
          1,
          2,
          3,
          2,
          1,
          3,
          2,
          1,
          3,
          1,
          2,
          1,
          3,
          1,
          2,
          3,
          3,
          2,
          3,
          3,
          1,
          3,
          3,
          2,
          1,
          1,
          2,
          1,
          2,
          2,
          1,
          2,
          1,
          3,
          2,
          2,
          1,
          3,
          3,
          1,
          2,
          1,
          2,
          3,
          1,
          2,
          1,
          2,
          1,
          3,
          3,
          1,
          2,
          2,
          1,
          3,
          2,
          1,
          2,
          1,
          3,
          2,
          1,
          3,
          1,
          2,
          2,
          1,
          2,
          3,
          1,
          2,
          3,
          1,
          3,
          3,
          2,
          1,
          3,
          1,
          3,
          3,
          1,
          2,
          3,
          2,
          3,
          1,
          1,
          3,
          3,
          2,
          3,
          1,
          2,
          2,
          2,
          3,
          1,
          1,
          3,
          2,
          1,
          3,
          0,
          0,
          2,
          1,
          1,
          3,
          3,
          1,
          3,
          3,
          3,
          1,
          2,
          3,
          1,
          2,
          2,
          1,
          3,
          3,
          1,
          1,
          2,
          3,
          1,
          3,
          2,
          1,
          1,
          1,
          3,
          2,
          1,
          3,
          3,
          3,
          1,
          1,
          2,
          1,
          2,
          3,
          1,
          2,
          1,
          1,
          3,
          2,
          3,
          1,
          2,
          1,
          1,
          3,
          2,
          1,
          3,
          1,
          2,
          3,
          2,
          2,
          3,
          1,
          2,
          2,
          3,
          2,
          1,
          2,
          3,
          1,
          2,
          2,
          1,
          3,
          3,
          2,
          2,
          1,
          3,
          2,
          3,
          1,
          3,
          2,
          3,
          2,
          3,
          2,
          3,
          2,
          3,
          1,
          2,
          1,
          3,
          3,
          2,
          1,
          1,
          1,
          1,
          2,
          3,
          2,
          2,
          3,
          3,
          1,
          2,
          3,
          1,
          1,
          3,
          1,
          2,
          3,
          2,
          1,
          3,
          1,
          2,
          3,
          1,
          3,
          1,
          2,
          3,
          1,
          2,
          3,
          1,
          0,
          2,
          2,
          3,
          1,
          1,
          2,
          3,
          3,
          2,
          1,
          3,
          2,
          1,
          3,
          2,
          1,
          3,
          2,
          1,
          3,
          1,
          3,
          2,
          1,
          3,
          3,
          2,
          3,
          1,
          3,
          2,
          0,
          2,
          3,
          1,
          3,
          2,
          3,
          2,
          2,
          1,
          1,
          2,
          2,
          3,
          3,
          1,
          1,
          3,
          2,
          2,
          3,
          1,
          1,
          3,
          2,
          1,
          3,
          2,
          3,
          2,
          3,
          1,
          2,
          3,
          2,
          2,
          3,
          2,
          1,
          1,
          3,
          1,
          2,
          1,
          3,
          1,
          2,
          2,
          1,
          3,
          1,
          3,
          2,
          3,
          1,
          3,
          1,
          2,
          2,
          3,
          2,
          3,
          1,
          2,
          3,
          2,
          3,
          1,
          3,
          2,
          3,
          3,
          1,
          2,
          3,
          1,
          2,
          1,
          2,
          1,
          3,
          2,
          1,
          2,
          3,
          1,
          1,
          1,
          3,
          1,
          3,
          2,
          1,
          3,
          3,
          2,
          1,
          3,
          2,
          1,
          3,
          1,
          2,
          3,
          1,
          2,
          1,
          3,
          3,
          3,
          1,
          2,
          1,
          3,
          1,
          1,
          3,
          2,
          1,
          3,
          1,
          2,
          3,
          1,
          2,
          3,
          1,
          2,
          1,
          2,
          1,
          3,
          3,
          3,
          2,
          3,
          2,
          3,
          2,
          1,
          2,
          2,
          1,
          3,
          2,
          2,
          1,
          3,
          2,
          1,
          3,
          2,
          1,
          3,
          3,
          2,
          1,
          3,
          1,
          2,
          3,
          2,
          1,
          3,
          2,
          1,
          2,
          2,
          1,
          3,
          3,
          1,
          1,
          2,
          3,
          1,
          2,
          2,
          1,
          2,
          3,
          1,
          3,
          2,
          1,
          3,
          1,
          2,
          3,
          1,
          1,
          3,
          1,
          2,
          2,
          1,
          3,
          3,
          1,
          3,
          1,
          3,
          2,
          1,
          3,
          1,
          1,
          2,
          3,
          1,
          3,
          1,
          1,
          1,
          1,
          3,
          2,
          3,
          3,
          1,
          2,
          2,
          2,
          1,
          2,
          1,
          3,
          1,
          3,
          2,
          1,
          2,
          3,
          1,
          2,
          0,
          0,
          1,
          3,
          2,
          1,
          2,
          3,
          1,
          2,
          3,
          1,
          3,
          3,
          2,
          1,
          3,
          2,
          1,
          3,
          2,
          1,
          1,
          3,
          1,
          2,
          3,
          1,
          1,
          3,
          3,
          3,
          2,
          1,
          2,
          3,
          1,
          2,
          2,
          2,
          1,
          3,
          1,
          3,
          2,
          1,
          2,
          1,
          3,
          2,
          3,
          2,
          1,
          3,
          2,
          1,
          3,
          1,
          3,
          2,
          3,
          2,
          1,
          1,
          1,
          3,
          1,
          3,
          2,
          1,
          3,
          1,
          3,
          2,
          1,
          1,
          1,
          1,
          2,
          3,
          1,
          3,
          1,
          3,
          2,
          1,
          2,
          1,
          3,
          1,
          2,
          1,
          2,
          2,
          1,
          2,
          1,
          3,
          2,
          2,
          3,
          3,
          2,
          3,
          1,
          2,
          2,
          1,
          2,
          1,
          1,
          2,
          3,
          1,
          1,
          2,
          3,
          1,
          2,
          1,
          2,
          3,
          1,
          3,
          2,
          2,
          2,
          3,
          1,
          1,
          3,
          3,
          2,
          3,
          2,
          3,
          2,
          1,
          2,
          3,
          2,
          1,
          2,
          3,
          2,
          1,
          1,
          3,
          1,
          2,
          3,
          2,
          1,
          1,
          3,
          2,
          1,
          1,
          2,
          2,
          3,
          2,
          3,
          1,
          1,
          1,
          1,
          2,
          3,
          1,
          2,
          3,
          2,
          1,
          2,
          1,
          3,
          3,
          3,
          2,
          1,
          1,
          1,
          3,
          2,
          1,
          3,
          2,
          1,
          3,
          3,
          1,
          2,
          3,
          2,
          2,
          3,
          2,
          1,
          2,
          1,
          3,
          2,
          1,
          1,
          2,
          3,
          3,
          2,
          3,
          2,
          1,
          2,
          1,
          3,
          1,
          2,
          3,
          2,
          1,
          2,
          2,
          1,
          3,
          1,
          3,
          2,
          1,
          3,
          2,
          1,
          3,
          2,
          1,
          3,
          2,
          1,
          1,
          3,
          1,
          3,
          1,
          3,
          2,
          1,
          3,
          2,
          3,
          2,
          2,
          3,
          1,
          2,
          1,
          3,
          0,
          0,
          2,
          3,
          2,
          1,
          3,
          1,
          3,
          3,
          1,
          3,
          2,
          3,
          1,
          3,
          2,
          1,
          3,
          1,
          3,
          2,
          1,
          3,
          1,
          2,
          1,
          1,
          0,
          3,
          2,
          1,
          3,
          3,
          2,
          1,
          3,
          3,
          2,
          2,
          3,
          1,
          1,
          1,
          3,
          2,
          3,
          1,
          2,
          1,
          2,
          3,
          1,
          1,
          2,
          1,
          3,
          2,
          2,
          3,
          3,
          1,
          1,
          3,
          2,
          3,
          1,
          2,
          3,
          3,
          1,
          1,
          3,
          3,
          1,
          3,
          2,
          1,
          1,
          3,
          2,
          3,
          2,
          3,
          1,
          2,
          2,
          1,
          1,
          3,
          3,
          2,
          2,
          1,
          3,
          1,
          2,
          2,
          1,
          1,
          2,
          1,
          1,
          1,
          3,
          2,
          3,
          2,
          3,
          2,
          1,
          1,
          2,
          3,
          1,
          2,
          3,
          1,
          2,
          3,
          1,
          1,
          1,
          2,
          3,
          2,
          1,
          3,
          0,
          1,
          2,
          3,
          3,
          1,
          2,
          3,
          1,
          2,
          2,
          3,
          1,
          3,
          2,
          1,
          3,
          0,
          2,
          3,
          2,
          2,
          1,
          3,
          2,
          3,
          1,
          1,
          3,
          3,
          1,
          3,
          2,
          1,
          3,
          1,
          2,
          3,
          1,
          2,
          3,
          2,
          3,
          1,
          2,
          2,
          3,
          3,
          1,
          2,
          2,
          3,
          1,
          2,
          3,
          1,
          2,
          1,
          3,
          1,
          2,
          1,
          3,
          2,
          1,
          3,
          3,
          1,
          2,
          3,
          3,
          1,
          1,
          3,
          3,
          1,
          3,
          1,
          3,
          2,
          3,
          1,
          2,
          1,
          3,
          2,
          1,
          3,
          2,
          1,
          3,
          3,
          3,
          2,
          3,
          2,
          2,
          3,
          3,
          1,
          3,
          2,
          1,
          3,
          2,
          3,
          1,
          2,
          2,
          3,
          1,
          2,
          1,
          3,
          2,
          1,
          3,
          1,
          3,
          1,
          1,
          2,
          1,
          3,
          2,
          2,
          1,
          3,
          1,
          2,
          3,
          1,
          3,
          2,
          2,
          3,
          2,
          1,
          0,
          1,
          2,
          3,
          2,
          3,
          1,
          1,
          3,
          1,
          2,
          1,
          2,
          3,
          1,
          2,
          2,
          3,
          2,
          2,
          3,
          1,
          3,
          2,
          3,
          2,
          2,
          1,
          2,
          1,
          3,
          1,
          2,
          1,
          2,
          1,
          2,
          1,
          1,
          2,
          3,
          1,
          1,
          2,
          1,
          2,
          3,
          1,
          2,
          1,
          2,
          3,
          1,
          3,
          1,
          2,
          3,
          1,
          2,
          1,
          3,
          2,
          2,
          1,
          2,
          3,
          0,
          0,
          1,
          2,
          2,
          3,
          2,
          1,
          2,
          1,
          3,
          2,
          1,
          3,
          2,
          3,
          1,
          3,
          2,
          1,
          2,
          1,
          1,
          2,
          1,
          2,
          3,
          2,
          1,
          2,
          3,
          2,
          1,
          1,
          3,
          2,
          2,
          3,
          1,
          2,
          2,
          1,
          2,
          1,
          3,
          3,
          3,
          1,
          2,
          1,
          3,
          1,
          1,
          3,
          2,
          2,
          3,
          2,
          1,
          1,
          2,
          3,
          2,
          3,
          3,
          2,
          1,
          1,
          1,
          2,
          3,
          3,
          2,
          1,
          1,
          1,
          2,
          3,
          1,
          2,
          3,
          3,
          1,
          3,
          1,
          2,
          3,
          1,
          2,
          2,
          1,
          1,
          3,
          2,
          1,
          2,
          3,
          1,
          2,
          1,
          3,
          1,
          2,
          3,
          1,
          3,
          2,
          1,
          2,
          1,
          3,
          1,
          3,
          2,
          2,
          1,
          2,
          2,
          3,
          3,
          2,
          3,
          2,
          3,
          1,
          2,
          3,
          2,
          1,
          1,
          3,
          3,
          1,
          2,
          3,
          1,
          2,
          3,
          3,
          1,
          2,
          3,
          2,
          1,
          3,
          2,
          3,
          2,
          2,
          2,
          1,
          2,
          3,
          1,
          2,
          1,
          3,
          3,
          2,
          2,
          3,
          3,
          2,
          1,
          2,
          2,
          1,
          3,
          3,
          1,
          2,
          3,
          1,
          2,
          3,
          3,
          1,
          1,
          3,
          3,
          1,
          2,
          2,
          1,
          2,
          1,
          2,
          3,
          1,
          2,
          3,
          2,
          1,
          2,
          3,
          1,
          3,
          1,
          2,
          3,
          1,
          2,
          2,
          3,
          2,
          1,
          2,
          3,
          2,
          3,
          1,
          2,
          3,
          2,
          2,
          1,
          3,
          3,
          1,
          2,
          3,
          3,
          2,
          3,
          1,
          1,
          2,
          1,
          1,
          3,
          1,
          2,
          1,
          3,
          2,
          1,
          3,
          3,
          2,
          3,
          2,
          3,
          1,
          2,
          3,
          1,
          2,
          3,
          1,
          3,
          2,
          1,
          3,
          1,
          2,
          3,
          2,
          1,
          1,
          1,
          3,
          1,
          2,
          1,
          3,
          2,
          1,
          2,
          1,
          1,
          3,
          1,
          2,
          1,
          3,
          2,
          3,
          3,
          1,
          2,
          3,
          1,
          2,
          1,
          1,
          2,
          3,
          3,
          1,
          3,
          2,
          3,
          1,
          2,
          3,
          1,
          1,
          3,
          2,
          3,
          1,
          2,
          1,
          2,
          1,
          2,
          1,
          3,
          2,
          2,
          3,
          1,
          2,
          3,
          2,
          1,
          1,
          3,
          2,
          1,
          2,
          3,
          1,
          2,
          2,
          1,
          2,
          3,
          1,
          2,
          1,
          1,
          3,
          2,
          0,
          3,
          2,
          1,
          2,
          1,
          3,
          2,
          3,
          2,
          2,
          1,
          3,
          2,
          1,
          2,
          3,
          1,
          1,
          1,
          1,
          2,
          2,
          1,
          2,
          3,
          1,
          3,
          2,
          3,
          2,
          1,
          3,
          2,
          2,
          3,
          3,
          1,
          2,
          1,
          3,
          3,
          1,
          1,
          1,
          2,
          3,
          3,
          1,
          2,
          3,
          1,
          3,
          2,
          1,
          3,
          3,
          1,
          3,
          2,
          1,
          1,
          3,
          1,
          1,
          1,
          3,
          1,
          2,
          3,
          2,
          2,
          1,
          2,
          1,
          3,
          2,
          1,
          3,
          3,
          3,
          1,
          2,
          3,
          3,
          3,
          2,
          2,
          3,
          3,
          3,
          3,
          3,
          3,
          3,
          3,
          3,
          1,
          3,
          3,
          3,
          3,
          1,
          2,
          2,
          3,
          2,
          1,
          3,
          1,
          1,
          2,
          2,
          3,
          3,
          1,
          3,
          3,
          1,
          0,
          2,
          1,
          2,
          1,
          2,
          2,
          3,
          1,
          2,
          1,
          2,
          1,
          2,
          1,
          3,
          1,
          3,
          1,
          2,
          1,
          3,
          2,
          1,
          1,
          3,
          2,
          1,
          3,
          1,
          2,
          2,
          1,
          0,
          1,
          2,
          1,
          3,
          2,
          2,
          3,
          1,
          2,
          3,
          1,
          3,
          2,
          2,
          2,
          1,
          1,
          2,
          2,
          1,
          2,
          1,
          3,
          1,
          1,
          2,
          3,
          2,
          1,
          3,
          1,
          3,
          2,
          1,
          3,
          1,
          2,
          3,
          2,
          1,
          1,
          2,
          1,
          2,
          3,
          3,
          1,
          3,
          3,
          1,
          2,
          2,
          2,
          3,
          2,
          1,
          3,
          1,
          2,
          3,
          1,
          1,
          3,
          2,
          1,
          3,
          2,
          3,
          2,
          3,
          1,
          1,
          2,
          3,
          1,
          1,
          3,
          2,
          1,
          3,
          2,
          2,
          0,
          1,
          2,
          1,
          3,
          3,
          2,
          2,
          2,
          1,
          1,
          1,
          3,
          2,
          3,
          2,
          1,
          1,
          2,
          3,
          1,
          3,
          3,
          2,
          1,
          2,
          1,
          3,
          2,
          2,
          1,
          3,
          2,
          1,
          3,
          3,
          3,
          1,
          3,
          2,
          3,
          2,
          1,
          3,
          2,
          1,
          3,
          2,
          3,
          3,
          2,
          1,
          3,
          2,
          3,
          1,
          1,
          3,
          1,
          2,
          1,
          3,
          1,
          1,
          2,
          1,
          3,
          3,
          1,
          2,
          3,
          1,
          2,
          3,
          1,
          2,
          3,
          1,
          1,
          1,
          2,
          1,
          2,
          3,
          1,
          2,
          3,
          3,
          1,
          2,
          3,
          1,
          2,
          3,
          1,
          3,
          3,
          1,
          1,
          2,
          3,
          1,
          2,
          2,
          3,
          2,
          1,
          3,
          1,
          2,
          3,
          3,
          2,
          1,
          3,
          2,
          3,
          1,
          2,
          1,
          3,
          2,
          2,
          3,
          1,
          2,
          3,
          1,
          3,
          1,
          1,
          3,
          2,
          1,
          2,
          1,
          2,
          3,
          2,
          1,
          1,
          3,
          2,
          1,
          3,
          2,
          3,
          1,
          3,
          2,
          1,
          2,
          3,
          1,
          2,
          1,
          1,
          2,
          3,
          2,
          3,
          1,
          3,
          1,
          1,
          2,
          3,
          3,
          2,
          1,
          1,
          1,
          2,
          1,
          3,
          1,
          2,
          3,
          1,
          2,
          1,
          3,
          2,
          1,
          2,
          3,
          3,
          1,
          1,
          3,
          2,
          3,
          1,
          1,
          2,
          3,
          2,
          1,
          2,
          3,
          3,
          1,
          2,
          2,
          1,
          2,
          1,
          1,
          3,
          1,
          2,
          1,
          3,
          2,
          2,
          3,
          2,
          1,
          3,
          2,
          2,
          3,
          2,
          1,
          2,
          2,
          3,
          1,
          3,
          1,
          2,
          3,
          2,
          3,
          3,
          1,
          2,
          1,
          1,
          2,
          1,
          2,
          1,
          3,
          2
         ],
         "y": [
          32,
          17,
          65,
          25,
          30,
          25,
          67,
          12,
          22,
          32,
          11,
          14,
          9,
          34,
          11,
          6,
          24,
          25,
          40,
          35,
          12,
          15,
          15,
          25,
          67,
          16,
          22,
          21,
          12,
          13,
          33,
          27,
          41,
          24,
          71,
          33,
          66,
          25,
          40,
          17,
          27,
          30,
          41,
          50,
          44,
          124,
          15,
          69,
          55,
          15,
          80,
          30,
          53,
          38,
          34,
          78,
          70,
          53,
          57,
          78,
          47,
          39,
          28,
          13,
          97,
          41,
          32,
          22,
          56,
          14,
          19,
          26,
          35,
          19,
          36,
          56,
          20,
          18,
          9,
          11,
          15,
          49,
          34,
          28,
          21,
          60,
          15,
          14,
          18,
          23,
          28,
          36,
          73,
          32,
          37,
          26,
          14,
          27,
          46,
          28,
          11,
          10,
          56,
          51,
          29,
          29,
          85,
          188,
          40,
          38,
          52,
          24,
          31,
          36,
          17,
          13,
          142,
          58,
          67,
          73,
          52,
          60,
          10,
          61,
          26,
          74,
          42,
          17,
          38,
          16,
          10,
          54,
          97,
          32,
          50,
          81,
          117,
          102,
          22,
          34,
          51,
          55,
          -98,
          67,
          42,
          30,
          117,
          36,
          68,
          57,
          61,
          39,
          34,
          28,
          34,
          72,
          32,
          16,
          19,
          13,
          41,
          48,
          6,
          21,
          29,
          10,
          5,
          25,
          34,
          27,
          51,
          22,
          107,
          81,
          27,
          66,
          48,
          21,
          43,
          29,
          65,
          25,
          16,
          34,
          33,
          22,
          32,
          29,
          37,
          -1411,
          29,
          764,
          22,
          19,
          28,
          26,
          72,
          63,
          22,
          50,
          27,
          51,
          39,
          32,
          34,
          51,
          32,
          51,
          25,
          44,
          53,
          130,
          53,
          50,
          42,
          45,
          77,
          46,
          73,
          21,
          24,
          87,
          89,
          67,
          52,
          127,
          242,
          72,
          34,
          54,
          29,
          65,
          60,
          49,
          39,
          30,
          29,
          25,
          -1279,
          32,
          -1360,
          27,
          -1414,
          25,
          42,
          18,
          207,
          16,
          48,
          97,
          17,
          74,
          79,
          64,
          50,
          30,
          54,
          71,
          56,
          68,
          56,
          31,
          65,
          18,
          57,
          63,
          44,
          24,
          68,
          13,
          30,
          75,
          12,
          37,
          81,
          103,
          39,
          30,
          81,
          30,
          66,
          23,
          95,
          25,
          76,
          85,
          55,
          15,
          41,
          44,
          48,
          31,
          44,
          54,
          26,
          35,
          15,
          66,
          16,
          51,
          19,
          108,
          53,
          19,
          32,
          46,
          53,
          64,
          52,
          35,
          39,
          25,
          38,
          84,
          17,
          15,
          37,
          55,
          25,
          38,
          76,
          21,
          59,
          29,
          32,
          43,
          22,
          40,
          30,
          26,
          30,
          45,
          38,
          70,
          82,
          71,
          17,
          29,
          122,
          25,
          54,
          31,
          34,
          25,
          37,
          31,
          38,
          32,
          34,
          54,
          25,
          59,
          16,
          10,
          35,
          29,
          13,
          39,
          16,
          40,
          21,
          14,
          69,
          31,
          31,
          61,
          73,
          45,
          21,
          15,
          47,
          43,
          31,
          26,
          63,
          62,
          60,
          18,
          40,
          51,
          32,
          13,
          18,
          -1409,
          813,
          769,
          20,
          27,
          92,
          21,
          40,
          38,
          67,
          121,
          46,
          67,
          14,
          86,
          66,
          32,
          49,
          33,
          42,
          31,
          72,
          54,
          31,
          8,
          19,
          32,
          26,
          56,
          35,
          75,
          34,
          39,
          47,
          45,
          52,
          13,
          35,
          63,
          45,
          25,
          22,
          26,
          43,
          60,
          20,
          12,
          45,
          53,
          25,
          64,
          16,
          51,
          49,
          39,
          57,
          21,
          90,
          15,
          41,
          31,
          67,
          40,
          36,
          19,
          17,
          44,
          43,
          121,
          50,
          36,
          89,
          13,
          24,
          66,
          82,
          15,
          17,
          25,
          27,
          36,
          104,
          47,
          82,
          53,
          42,
          31,
          32,
          42,
          60,
          49,
          71,
          47,
          24,
          72,
          49,
          44,
          39,
          22,
          36,
          36,
          41,
          45,
          5,
          41,
          67,
          56,
          23,
          31,
          108,
          67,
          38,
          26,
          21,
          84,
          66,
          48,
          50,
          17,
          38,
          67,
          30,
          43,
          89,
          128,
          37,
          22,
          100,
          73,
          47,
          45,
          63,
          36,
          75,
          48,
          47,
          106,
          69,
          15,
          39,
          30,
          40,
          22,
          39,
          112,
          15,
          29,
          17,
          86,
          61,
          23,
          35,
          43,
          70,
          10,
          19,
          12,
          67,
          32,
          35,
          5,
          37,
          38,
          58,
          26,
          38,
          32,
          30,
          25,
          16,
          37,
          24,
          67,
          24,
          17,
          46,
          22,
          14,
          28,
          32,
          77,
          63,
          72,
          19,
          107,
          88,
          89,
          48,
          72,
          12,
          79,
          47,
          48,
          62,
          17,
          20,
          34,
          50,
          37,
          8,
          22,
          16,
          28,
          48,
          65,
          47,
          32,
          22,
          -214,
          22,
          103,
          39,
          49,
          114,
          76,
          8,
          30,
          34,
          29,
          27,
          61,
          29,
          29,
          93,
          6,
          46,
          58,
          120,
          37,
          39,
          36,
          71,
          31,
          66,
          19,
          108,
          35,
          20,
          126,
          82,
          49,
          64,
          30,
          67,
          32,
          38,
          46,
          -1388,
          -1402,
          21,
          39,
          112,
          37,
          37,
          60,
          91,
          29,
          31,
          26,
          22,
          32,
          53,
          41,
          10,
          103,
          35,
          68,
          63,
          45,
          57,
          12,
          -1404,
          47,
          97,
          30,
          78,
          131,
          8,
          31,
          53,
          21,
          14,
          40,
          53,
          36,
          27,
          29,
          28,
          53,
          23,
          48,
          57,
          35,
          31,
          31,
          25,
          47,
          64,
          54,
          72,
          43,
          26,
          61,
          31,
          40,
          25,
          128,
          48,
          10,
          34,
          25,
          39,
          23,
          46,
          85,
          56,
          65,
          22,
          68,
          36,
          72,
          58,
          17,
          79,
          22,
          41,
          23,
          35,
          59,
          100,
          26,
          41,
          17,
          40,
          36,
          70,
          80,
          21,
          35,
          57,
          17,
          48,
          66,
          47,
          46,
          40,
          23,
          63,
          45,
          80,
          20,
          36,
          101,
          25,
          48,
          54,
          24,
          22,
          19,
          46,
          73,
          162,
          38,
          58,
          30,
          20,
          53,
          116,
          29,
          53,
          136,
          34,
          40,
          29,
          51,
          10,
          24,
          52,
          65,
          15,
          38,
          39,
          36,
          37,
          27,
          53,
          36,
          45,
          22,
          52,
          15,
          23,
          51,
          17,
          19,
          51,
          48,
          87,
          68,
          40,
          21,
          138,
          83,
          20,
          30,
          15,
          138,
          25,
          49,
          12,
          98,
          34,
          38,
          15,
          59,
          75,
          26,
          45,
          26,
          22,
          21,
          38,
          36,
          44,
          106,
          48,
          92,
          44,
          39,
          53,
          97,
          126,
          55,
          59,
          83,
          103,
          60,
          24,
          -1418,
          44,
          18,
          0,
          50,
          29,
          14,
          79,
          35,
          59,
          36,
          50,
          34,
          24,
          79,
          59,
          38,
          31,
          33,
          18,
          13,
          0,
          35,
          41,
          22,
          37,
          48,
          6,
          158,
          33,
          60,
          40,
          48,
          22,
          37,
          31,
          50,
          42,
          48,
          38,
          42,
          30,
          15,
          37,
          29,
          113,
          17,
          63,
          29,
          39,
          23,
          11,
          25,
          37,
          22,
          59,
          46,
          33,
          18,
          22,
          26,
          11,
          135,
          36,
          67,
          16,
          36,
          45,
          56,
          11,
          23,
          65,
          107,
          30,
          13,
          52,
          37,
          34,
          83,
          71,
          54,
          88,
          34,
          70,
          35,
          31,
          -1381,
          22,
          12,
          758,
          750,
          42,
          68,
          153,
          41,
          34,
          71,
          25,
          156,
          66,
          170,
          68,
          37,
          37,
          22,
          124,
          34,
          35,
          132,
          19,
          39,
          84,
          73,
          48,
          252,
          120,
          75,
          35,
          41,
          59,
          90,
          141,
          76,
          103,
          63,
          20,
          14,
          24,
          48,
          78,
          44,
          32,
          48,
          43,
          72,
          50,
          54,
          45,
          53,
          24,
          58,
          16,
          85,
          23,
          63,
          40,
          12,
          11,
          27,
          69,
          84,
          15,
          33,
          56,
          44,
          22,
          92,
          65,
          19,
          23,
          72,
          35,
          39,
          24,
          66,
          20,
          40,
          12,
          21,
          39,
          13,
          28,
          22,
          49,
          22,
          54,
          11,
          16,
          35,
          36,
          35,
          24,
          43,
          39,
          16,
          14,
          36,
          27,
          38,
          92,
          13,
          49,
          16,
          35,
          108,
          53,
          30,
          69,
          89,
          74,
          23,
          24,
          37,
          43,
          17,
          154,
          36,
          31,
          33,
          40,
          79,
          26,
          66,
          11,
          72,
          27,
          35,
          27,
          41,
          41,
          24,
          19,
          62,
          28,
          19,
          48,
          10,
          7,
          33,
          29,
          38,
          74,
          73,
          32,
          59,
          34,
          25,
          59,
          20,
          22,
          46,
          52,
          51,
          5,
          45,
          53,
          44,
          41,
          53,
          137,
          41,
          15,
          14,
          48,
          46,
          94,
          24,
          39,
          59,
          62,
          41,
          60,
          24,
          52,
          39,
          50,
          30,
          30,
          44,
          64,
          48,
          21,
          78,
          35,
          35,
          53,
          32,
          183,
          21,
          87,
          28,
          43,
          82,
          85,
          54,
          72,
          26,
          32,
          17,
          31,
          37,
          216,
          90,
          15,
          208,
          29,
          53,
          52,
          46,
          31,
          29,
          181,
          79,
          56,
          31,
          27,
          63,
          65,
          32,
          29,
          36,
          34,
          45,
          56,
          69,
          43,
          30,
          26,
          35,
          37,
          19,
          46,
          57,
          104,
          30,
          51,
          104,
          56,
          41,
          41,
          55,
          25,
          30,
          50,
          89,
          59,
          44,
          34,
          61,
          33,
          22,
          26,
          32,
          24,
          51,
          44,
          28,
          23,
          51,
          99,
          31,
          50,
          113,
          48,
          118,
          31,
          47,
          37,
          37,
          18,
          22,
          55,
          47,
          40,
          15,
          17,
          37,
          41,
          72,
          142,
          56,
          27,
          45,
          25,
          48,
          35,
          18,
          23,
          55,
          14,
          57,
          41,
          63,
          38,
          29,
          32,
          18,
          67,
          75,
          35,
          14,
          37,
          131,
          68,
          62,
          127,
          9,
          15,
          47,
          64,
          55,
          61,
          36,
          89,
          46,
          98,
          26,
          81,
          77,
          99,
          59,
          35,
          26,
          65,
          71,
          37,
          43,
          94,
          15,
          48,
          20,
          37,
          27,
          41,
          40,
          24,
          19,
          39,
          34,
          16,
          6,
          25,
          50,
          37,
          53,
          24,
          26,
          54,
          36,
          46,
          87,
          104,
          28,
          12,
          85,
          102,
          33,
          16,
          43,
          79,
          63,
          55,
          73,
          54,
          27,
          31,
          60,
          175,
          48,
          64,
          19,
          41,
          37,
          23,
          22,
          57,
          59,
          55,
          24,
          29,
          113,
          69,
          26,
          19,
          29,
          54,
          11,
          51,
          30,
          23,
          65,
          54,
          18,
          37,
          11,
          59,
          29,
          36,
          42,
          33,
          32,
          26,
          55,
          29,
          29,
          105,
          95,
          50,
          39,
          22,
          54,
          123,
          29,
          56,
          68,
          32,
          26,
          38,
          51,
          29,
          142,
          51,
          60,
          33,
          17,
          57,
          66,
          37,
          53,
          159,
          24,
          19,
          8,
          22,
          49,
          89,
          27,
          75,
          39,
          41,
          22,
          9,
          38,
          19,
          38,
          35,
          31,
          54,
          27,
          49,
          14,
          24,
          54,
          36,
          130,
          40,
          106,
          43,
          77,
          15,
          58,
          34,
          65,
          20,
          21,
          70,
          57,
          23,
          29,
          13,
          112,
          97,
          18,
          56,
          29,
          16,
          64,
          66,
          14,
          26,
          39,
          40,
          51,
          16,
          69,
          16,
          61,
          30,
          54,
          24,
          44,
          22,
          29,
          49,
          32,
          40,
          30,
          51,
          30,
          22,
          33,
          17,
          44,
          13,
          31,
          69,
          46,
          79,
          4,
          54,
          31,
          37,
          59,
          76,
          23,
          64,
          24,
          37,
          29,
          21,
          28,
          51,
          30,
          94,
          13,
          193,
          44,
          29,
          46,
          47,
          17,
          77,
          8,
          25,
          129,
          25,
          19,
          41,
          24,
          41,
          219,
          30,
          35,
          27,
          25,
          18,
          61,
          41,
          16,
          25,
          128,
          44,
          45,
          33,
          15,
          7,
          97,
          28,
          23,
          13,
          103,
          102,
          25,
          130,
          65,
          42,
          20,
          80,
          15,
          48,
          42,
          36,
          32,
          37,
          75,
          27,
          27,
          25,
          25,
          17,
          26,
          16,
          65,
          140,
          26,
          31,
          43,
          30,
          27,
          59,
          54,
          72,
          57,
          24,
          42,
          34,
          59,
          32,
          40,
          38,
          57,
          74,
          62,
          27,
          25,
          33,
          45,
          101,
          26,
          66,
          41,
          21,
          58,
          89,
          41,
          150,
          114,
          147,
          39,
          45,
          30,
          76,
          88,
          42,
          2,
          52,
          32,
          25,
          24,
          26,
          15,
          31,
          10,
          18,
          23,
          25,
          40,
          19,
          40,
          26,
          24,
          47,
          35,
          58,
          57,
          38,
          38,
          12,
          323,
          27,
          17,
          153,
          106,
          42,
          26,
          53,
          59,
          47,
          48,
          23,
          59,
          74,
          113,
          53,
          29,
          31,
          43,
          60,
          46,
          27,
          34,
          42,
          86,
          78,
          43,
          36,
          49,
          87,
          14,
          46,
          17,
          15,
          48,
          23,
          46,
          34,
          43,
          103,
          94,
          66,
          88,
          30,
          21,
          38,
          80,
          36,
          44,
          24,
          61,
          46,
          26,
          51,
          13,
          16,
          30,
          52,
          29,
          20,
          24,
          45,
          113,
          188,
          29,
          89,
          48,
          18,
          63,
          48,
          77,
          30,
          23,
          23,
          14,
          39,
          25,
          68,
          29,
          71,
          34,
          44,
          76,
          71,
          85,
          56,
          16,
          20,
          108,
          161,
          56,
          64,
          53,
          54,
          21,
          116,
          67,
          85,
          46,
          33,
          40,
          27,
          26,
          39,
          42,
          75,
          32,
          45,
          113,
          121,
          65,
          43,
          51,
          22,
          54,
          15,
          10,
          102,
          19,
          66,
          134,
          10,
          63,
          65,
          16,
          30,
          30,
          48,
          49,
          88,
          49,
          28,
          182,
          28,
          27,
          82,
          31,
          54,
          50,
          54,
          19,
          60,
          47,
          65,
          26,
          64,
          19,
          8,
          48,
          52,
          34,
          41,
          79,
          46,
          11,
          31,
          20,
          50,
          52,
          50,
          34,
          75,
          35,
          85,
          33,
          17,
          56,
          80,
          58,
          12,
          37,
          48,
          15,
          38,
          144,
          39,
          4,
          69,
          34,
          63,
          32,
          16,
          15,
          46,
          28,
          15,
          59,
          38,
          33,
          20,
          71,
          6,
          8,
          17,
          42,
          29,
          40,
          21,
          59,
          58,
          19,
          39,
          36,
          32,
          37,
          50,
          26,
          49,
          30,
          36,
          65,
          55,
          27,
          54,
          39,
          40,
          41,
          33,
          19,
          49,
          51,
          60,
          54,
          163,
          59,
          36,
          88,
          88,
          12,
          29,
          161,
          13,
          51,
          33,
          27,
          46,
          54,
          46,
          64,
          42,
          68,
          40,
          33,
          30,
          36,
          9,
          35,
          40,
          45,
          49,
          87,
          73,
          58,
          34,
          74,
          40,
          53,
          37,
          178,
          29,
          21,
          107,
          35,
          30,
          58,
          21,
          50,
          120,
          27,
          70,
          132,
          25,
          34,
          4,
          24,
          26,
          78,
          14,
          72,
          32,
          24,
          28,
          19,
          42,
          53,
          58,
          56,
          132,
          32,
          16,
          113,
          51,
          34,
          27,
          98,
          46,
          21,
          33,
          49,
          29,
          64,
          32,
          59,
          62,
          39,
          28,
          60,
          58,
          45,
          35,
          15,
          21,
          51,
          44,
          40,
          14,
          25,
          47,
          85,
          31,
          87,
          16,
          32,
          42,
          65,
          106,
          46,
          68,
          13,
          66,
          23,
          24,
          22,
          127,
          34,
          37,
          69,
          115,
          63,
          46,
          27,
          74,
          36,
          25,
          41,
          42,
          89,
          66,
          29,
          46,
          22,
          12,
          18,
          24,
          33,
          53,
          36,
          40,
          46,
          45,
          51,
          60,
          37,
          48,
          26,
          41,
          37,
          39,
          -1371,
          66,
          -1385,
          97,
          20,
          29,
          37,
          108,
          45,
          32,
          82,
          182,
          82,
          68,
          52,
          40,
          53,
          38,
          45,
          37,
          31,
          32,
          22,
          37,
          37,
          23,
          20,
          76,
          38,
          57,
          21,
          87,
          95,
          34,
          60,
          47,
          43,
          72,
          55,
          8,
          39,
          38,
          42,
          45,
          38,
          20,
          158,
          29,
          28,
          28,
          29,
          31,
          20,
          108,
          42,
          25,
          44,
          34,
          87,
          52,
          32,
          24,
          41,
          23,
          37,
          61,
          82,
          54,
          132,
          97,
          55,
          17,
          88,
          51,
          28,
          29,
          25,
          13,
          94,
          36,
          31,
          40,
          33,
          47,
          57,
          35,
          91,
          51,
          46,
          76,
          25,
          79,
          89,
          76,
          55,
          82,
          81,
          188,
          20,
          5,
          48,
          40,
          20,
          24,
          47,
          61,
          36,
          42,
          9,
          33,
          24,
          51,
          73,
          44,
          27,
          22,
          17,
          61,
          39,
          148,
          95,
          31,
          86,
          9,
          21,
          49,
          40,
          29,
          95,
          156,
          33,
          34,
          25,
          54,
          138,
          93,
          37,
          30,
          92,
          28,
          89,
          9,
          31,
          47,
          63,
          28,
          67,
          33,
          116,
          18,
          163,
          44,
          44,
          56,
          55,
          48,
          31,
          50,
          56,
          13,
          25,
          59,
          200,
          110,
          41,
          33,
          18,
          26,
          59,
          296,
          85,
          76,
          42,
          32,
          66,
          54,
          36,
          43,
          30,
          21,
          17,
          40,
          115,
          99,
          27,
          58,
          10,
          148,
          32,
          81,
          16,
          81,
          13,
          266,
          26,
          46,
          58,
          5,
          167,
          160,
          51,
          27,
          54,
          39,
          46,
          47,
          18,
          60,
          30,
          21,
          48,
          57,
          49,
          348,
          330,
          336,
          50,
          54,
          8,
          18,
          17,
          27,
          68,
          44,
          30,
          27,
          35,
          66,
          160,
          58,
          37,
          39,
          4,
          38,
          20,
          75,
          87,
          66,
          22,
          35,
          40,
          62,
          71,
          11,
          36,
          175,
          27,
          45,
          46,
          30,
          70,
          17,
          41,
          62,
          64,
          31,
          69,
          43,
          97,
          102,
          28,
          50,
          9,
          26,
          59,
          63,
          52,
          34,
          59,
          224,
          44,
          105,
          64,
          51,
          -1407,
          10,
          802,
          47,
          28,
          30,
          40,
          52,
          94,
          122,
          17,
          26,
          38,
          41,
          47,
          34,
          51,
          30,
          34,
          33,
          33,
          28,
          39,
          65,
          82,
          51,
          19,
          2,
          53,
          69,
          22,
          32,
          97,
          32,
          9,
          85,
          66,
          40,
          107,
          169,
          34,
          111,
          67,
          30,
          88,
          124,
          21,
          66,
          13,
          53,
          42,
          41,
          40,
          82,
          41,
          38,
          38,
          24,
          35,
          50,
          78,
          42,
          35,
          54,
          88,
          48,
          28,
          17,
          19,
          32,
          14,
          32,
          36,
          27,
          166,
          148,
          46,
          46,
          30,
          160,
          134,
          6,
          81,
          86,
          50,
          36,
          60,
          211,
          60,
          56,
          33,
          83,
          71,
          50,
          36,
          84,
          22,
          10,
          92,
          49,
          37,
          17,
          40,
          64,
          48,
          38,
          36,
          17,
          34,
          26,
          58,
          52,
          121,
          79,
          95,
          29,
          15,
          46,
          43,
          33,
          38,
          14,
          17,
          25,
          25,
          35,
          90,
          93,
          49,
          24,
          52,
          42,
          26,
          68,
          47,
          99,
          34,
          33,
          43,
          31,
          54,
          20,
          78,
          121,
          26,
          35,
          38,
          53,
          27,
          23,
          68,
          63,
          56,
          47,
          33,
          58,
          24,
          30,
          25,
          17,
          36,
          95,
          67,
          36,
          38,
          7,
          36,
          54,
          25,
          14,
          21,
          60,
          40,
          138,
          35,
          26,
          48,
          52,
          29,
          38,
          34,
          30,
          51,
          34,
          56,
          110,
          53,
          67,
          51,
          14,
          126,
          64,
          45,
          46,
          21,
          45,
          33,
          21,
          28,
          25,
          10,
          69,
          41,
          42,
          42,
          45,
          33,
          33,
          18,
          33,
          27,
          23,
          24,
          22,
          74,
          15,
          16,
          72,
          62,
          45,
          7,
          32,
          47,
          19,
          46,
          81,
          82,
          44,
          37,
          70,
          766,
          755,
          42,
          45,
          39,
          21,
          44,
          68,
          34,
          69,
          58,
          45,
          202,
          183,
          54,
          112,
          69,
          22,
          20,
          21,
          44,
          72,
          47,
          90,
          26,
          24,
          38,
          13,
          29,
          115,
          39,
          37,
          21,
          64,
          17,
          47,
          27,
          5,
          11,
          26,
          42,
          33,
          83,
          44,
          36,
          34,
          18,
          61,
          51,
          39,
          11,
          8,
          39,
          14,
          761,
          24,
          74
         ]
        }
       ],
       "layout": {
        "boxmode": "overlay",
        "font": {
         "color": "black",
         "family": "Droid Serif"
        },
        "height": 400,
        "hoverlabel": {
         "bgcolor": "black",
         "font": {
          "color": "white"
         }
        },
        "legend": {
         "tracegroupgap": 0
        },
        "paper_bgcolor": "white",
        "plot_bgcolor": "white",
        "showlegend": false,
        "template": {
         "data": {
          "bar": [
           {
            "error_x": {
             "color": "#2a3f5f"
            },
            "error_y": {
             "color": "#2a3f5f"
            },
            "marker": {
             "line": {
              "color": "#E5ECF6",
              "width": 0.5
             },
             "pattern": {
              "fillmode": "overlay",
              "size": 10,
              "solidity": 0.2
             }
            },
            "type": "bar"
           }
          ],
          "barpolar": [
           {
            "marker": {
             "line": {
              "color": "#E5ECF6",
              "width": 0.5
             },
             "pattern": {
              "fillmode": "overlay",
              "size": 10,
              "solidity": 0.2
             }
            },
            "type": "barpolar"
           }
          ],
          "carpet": [
           {
            "aaxis": {
             "endlinecolor": "#2a3f5f",
             "gridcolor": "white",
             "linecolor": "white",
             "minorgridcolor": "white",
             "startlinecolor": "#2a3f5f"
            },
            "baxis": {
             "endlinecolor": "#2a3f5f",
             "gridcolor": "white",
             "linecolor": "white",
             "minorgridcolor": "white",
             "startlinecolor": "#2a3f5f"
            },
            "type": "carpet"
           }
          ],
          "choropleth": [
           {
            "colorbar": {
             "outlinewidth": 0,
             "ticks": ""
            },
            "type": "choropleth"
           }
          ],
          "contour": [
           {
            "colorbar": {
             "outlinewidth": 0,
             "ticks": ""
            },
            "colorscale": [
             [
              0,
              "#0d0887"
             ],
             [
              0.1111111111111111,
              "#46039f"
             ],
             [
              0.2222222222222222,
              "#7201a8"
             ],
             [
              0.3333333333333333,
              "#9c179e"
             ],
             [
              0.4444444444444444,
              "#bd3786"
             ],
             [
              0.5555555555555556,
              "#d8576b"
             ],
             [
              0.6666666666666666,
              "#ed7953"
             ],
             [
              0.7777777777777778,
              "#fb9f3a"
             ],
             [
              0.8888888888888888,
              "#fdca26"
             ],
             [
              1,
              "#f0f921"
             ]
            ],
            "type": "contour"
           }
          ],
          "contourcarpet": [
           {
            "colorbar": {
             "outlinewidth": 0,
             "ticks": ""
            },
            "type": "contourcarpet"
           }
          ],
          "heatmap": [
           {
            "colorbar": {
             "outlinewidth": 0,
             "ticks": ""
            },
            "colorscale": [
             [
              0,
              "#0d0887"
             ],
             [
              0.1111111111111111,
              "#46039f"
             ],
             [
              0.2222222222222222,
              "#7201a8"
             ],
             [
              0.3333333333333333,
              "#9c179e"
             ],
             [
              0.4444444444444444,
              "#bd3786"
             ],
             [
              0.5555555555555556,
              "#d8576b"
             ],
             [
              0.6666666666666666,
              "#ed7953"
             ],
             [
              0.7777777777777778,
              "#fb9f3a"
             ],
             [
              0.8888888888888888,
              "#fdca26"
             ],
             [
              1,
              "#f0f921"
             ]
            ],
            "type": "heatmap"
           }
          ],
          "heatmapgl": [
           {
            "colorbar": {
             "outlinewidth": 0,
             "ticks": ""
            },
            "colorscale": [
             [
              0,
              "#0d0887"
             ],
             [
              0.1111111111111111,
              "#46039f"
             ],
             [
              0.2222222222222222,
              "#7201a8"
             ],
             [
              0.3333333333333333,
              "#9c179e"
             ],
             [
              0.4444444444444444,
              "#bd3786"
             ],
             [
              0.5555555555555556,
              "#d8576b"
             ],
             [
              0.6666666666666666,
              "#ed7953"
             ],
             [
              0.7777777777777778,
              "#fb9f3a"
             ],
             [
              0.8888888888888888,
              "#fdca26"
             ],
             [
              1,
              "#f0f921"
             ]
            ],
            "type": "heatmapgl"
           }
          ],
          "histogram": [
           {
            "marker": {
             "pattern": {
              "fillmode": "overlay",
              "size": 10,
              "solidity": 0.2
             }
            },
            "type": "histogram"
           }
          ],
          "histogram2d": [
           {
            "colorbar": {
             "outlinewidth": 0,
             "ticks": ""
            },
            "colorscale": [
             [
              0,
              "#0d0887"
             ],
             [
              0.1111111111111111,
              "#46039f"
             ],
             [
              0.2222222222222222,
              "#7201a8"
             ],
             [
              0.3333333333333333,
              "#9c179e"
             ],
             [
              0.4444444444444444,
              "#bd3786"
             ],
             [
              0.5555555555555556,
              "#d8576b"
             ],
             [
              0.6666666666666666,
              "#ed7953"
             ],
             [
              0.7777777777777778,
              "#fb9f3a"
             ],
             [
              0.8888888888888888,
              "#fdca26"
             ],
             [
              1,
              "#f0f921"
             ]
            ],
            "type": "histogram2d"
           }
          ],
          "histogram2dcontour": [
           {
            "colorbar": {
             "outlinewidth": 0,
             "ticks": ""
            },
            "colorscale": [
             [
              0,
              "#0d0887"
             ],
             [
              0.1111111111111111,
              "#46039f"
             ],
             [
              0.2222222222222222,
              "#7201a8"
             ],
             [
              0.3333333333333333,
              "#9c179e"
             ],
             [
              0.4444444444444444,
              "#bd3786"
             ],
             [
              0.5555555555555556,
              "#d8576b"
             ],
             [
              0.6666666666666666,
              "#ed7953"
             ],
             [
              0.7777777777777778,
              "#fb9f3a"
             ],
             [
              0.8888888888888888,
              "#fdca26"
             ],
             [
              1,
              "#f0f921"
             ]
            ],
            "type": "histogram2dcontour"
           }
          ],
          "mesh3d": [
           {
            "colorbar": {
             "outlinewidth": 0,
             "ticks": ""
            },
            "type": "mesh3d"
           }
          ],
          "parcoords": [
           {
            "line": {
             "colorbar": {
              "outlinewidth": 0,
              "ticks": ""
             }
            },
            "type": "parcoords"
           }
          ],
          "pie": [
           {
            "automargin": true,
            "type": "pie"
           }
          ],
          "scatter": [
           {
            "fillpattern": {
             "fillmode": "overlay",
             "size": 10,
             "solidity": 0.2
            },
            "type": "scatter"
           }
          ],
          "scatter3d": [
           {
            "line": {
             "colorbar": {
              "outlinewidth": 0,
              "ticks": ""
             }
            },
            "marker": {
             "colorbar": {
              "outlinewidth": 0,
              "ticks": ""
             }
            },
            "type": "scatter3d"
           }
          ],
          "scattercarpet": [
           {
            "marker": {
             "colorbar": {
              "outlinewidth": 0,
              "ticks": ""
             }
            },
            "type": "scattercarpet"
           }
          ],
          "scattergeo": [
           {
            "marker": {
             "colorbar": {
              "outlinewidth": 0,
              "ticks": ""
             }
            },
            "type": "scattergeo"
           }
          ],
          "scattergl": [
           {
            "marker": {
             "colorbar": {
              "outlinewidth": 0,
              "ticks": ""
             }
            },
            "type": "scattergl"
           }
          ],
          "scattermapbox": [
           {
            "marker": {
             "colorbar": {
              "outlinewidth": 0,
              "ticks": ""
             }
            },
            "type": "scattermapbox"
           }
          ],
          "scatterpolar": [
           {
            "marker": {
             "colorbar": {
              "outlinewidth": 0,
              "ticks": ""
             }
            },
            "type": "scatterpolar"
           }
          ],
          "scatterpolargl": [
           {
            "marker": {
             "colorbar": {
              "outlinewidth": 0,
              "ticks": ""
             }
            },
            "type": "scatterpolargl"
           }
          ],
          "scatterternary": [
           {
            "marker": {
             "colorbar": {
              "outlinewidth": 0,
              "ticks": ""
             }
            },
            "type": "scatterternary"
           }
          ],
          "surface": [
           {
            "colorbar": {
             "outlinewidth": 0,
             "ticks": ""
            },
            "colorscale": [
             [
              0,
              "#0d0887"
             ],
             [
              0.1111111111111111,
              "#46039f"
             ],
             [
              0.2222222222222222,
              "#7201a8"
             ],
             [
              0.3333333333333333,
              "#9c179e"
             ],
             [
              0.4444444444444444,
              "#bd3786"
             ],
             [
              0.5555555555555556,
              "#d8576b"
             ],
             [
              0.6666666666666666,
              "#ed7953"
             ],
             [
              0.7777777777777778,
              "#fb9f3a"
             ],
             [
              0.8888888888888888,
              "#fdca26"
             ],
             [
              1,
              "#f0f921"
             ]
            ],
            "type": "surface"
           }
          ],
          "table": [
           {
            "cells": {
             "fill": {
              "color": "#EBF0F8"
             },
             "line": {
              "color": "white"
             }
            },
            "header": {
             "fill": {
              "color": "#C8D4E3"
             },
             "line": {
              "color": "white"
             }
            },
            "type": "table"
           }
          ]
         },
         "layout": {
          "annotationdefaults": {
           "arrowcolor": "#2a3f5f",
           "arrowhead": 0,
           "arrowwidth": 1
          },
          "autotypenumbers": "strict",
          "coloraxis": {
           "colorbar": {
            "outlinewidth": 0,
            "ticks": ""
           }
          },
          "colorscale": {
           "diverging": [
            [
             0,
             "#8e0152"
            ],
            [
             0.1,
             "#c51b7d"
            ],
            [
             0.2,
             "#de77ae"
            ],
            [
             0.3,
             "#f1b6da"
            ],
            [
             0.4,
             "#fde0ef"
            ],
            [
             0.5,
             "#f7f7f7"
            ],
            [
             0.6,
             "#e6f5d0"
            ],
            [
             0.7,
             "#b8e186"
            ],
            [
             0.8,
             "#7fbc41"
            ],
            [
             0.9,
             "#4d9221"
            ],
            [
             1,
             "#276419"
            ]
           ],
           "sequential": [
            [
             0,
             "#0d0887"
            ],
            [
             0.1111111111111111,
             "#46039f"
            ],
            [
             0.2222222222222222,
             "#7201a8"
            ],
            [
             0.3333333333333333,
             "#9c179e"
            ],
            [
             0.4444444444444444,
             "#bd3786"
            ],
            [
             0.5555555555555556,
             "#d8576b"
            ],
            [
             0.6666666666666666,
             "#ed7953"
            ],
            [
             0.7777777777777778,
             "#fb9f3a"
            ],
            [
             0.8888888888888888,
             "#fdca26"
            ],
            [
             1,
             "#f0f921"
            ]
           ],
           "sequentialminus": [
            [
             0,
             "#0d0887"
            ],
            [
             0.1111111111111111,
             "#46039f"
            ],
            [
             0.2222222222222222,
             "#7201a8"
            ],
            [
             0.3333333333333333,
             "#9c179e"
            ],
            [
             0.4444444444444444,
             "#bd3786"
            ],
            [
             0.5555555555555556,
             "#d8576b"
            ],
            [
             0.6666666666666666,
             "#ed7953"
            ],
            [
             0.7777777777777778,
             "#fb9f3a"
            ],
            [
             0.8888888888888888,
             "#fdca26"
            ],
            [
             1,
             "#f0f921"
            ]
           ]
          },
          "colorway": [
           "#636efa",
           "#EF553B",
           "#00cc96",
           "#ab63fa",
           "#FFA15A",
           "#19d3f3",
           "#FF6692",
           "#B6E880",
           "#FF97FF",
           "#FECB52"
          ],
          "font": {
           "color": "#2a3f5f"
          },
          "geo": {
           "bgcolor": "white",
           "lakecolor": "white",
           "landcolor": "#E5ECF6",
           "showlakes": true,
           "showland": true,
           "subunitcolor": "white"
          },
          "hoverlabel": {
           "align": "left"
          },
          "hovermode": "closest",
          "mapbox": {
           "style": "light"
          },
          "paper_bgcolor": "white",
          "plot_bgcolor": "#E5ECF6",
          "polar": {
           "angularaxis": {
            "gridcolor": "white",
            "linecolor": "white",
            "ticks": ""
           },
           "bgcolor": "#E5ECF6",
           "radialaxis": {
            "gridcolor": "white",
            "linecolor": "white",
            "ticks": ""
           }
          },
          "scene": {
           "xaxis": {
            "backgroundcolor": "#E5ECF6",
            "gridcolor": "white",
            "gridwidth": 2,
            "linecolor": "white",
            "showbackground": true,
            "ticks": "",
            "zerolinecolor": "white"
           },
           "yaxis": {
            "backgroundcolor": "#E5ECF6",
            "gridcolor": "white",
            "gridwidth": 2,
            "linecolor": "white",
            "showbackground": true,
            "ticks": "",
            "zerolinecolor": "white"
           },
           "zaxis": {
            "backgroundcolor": "#E5ECF6",
            "gridcolor": "white",
            "gridwidth": 2,
            "linecolor": "white",
            "showbackground": true,
            "ticks": "",
            "zerolinecolor": "white"
           }
          },
          "shapedefaults": {
           "line": {
            "color": "#2a3f5f"
           }
          },
          "ternary": {
           "aaxis": {
            "gridcolor": "white",
            "linecolor": "white",
            "ticks": ""
           },
           "baxis": {
            "gridcolor": "white",
            "linecolor": "white",
            "ticks": ""
           },
           "bgcolor": "#E5ECF6",
           "caxis": {
            "gridcolor": "white",
            "linecolor": "white",
            "ticks": ""
           }
          },
          "title": {
           "x": 0.05
          },
          "xaxis": {
           "automargin": true,
           "gridcolor": "white",
           "linecolor": "white",
           "ticks": "",
           "title": {
            "standoff": 15
           },
           "zerolinecolor": "white",
           "zerolinewidth": 2
          },
          "yaxis": {
           "automargin": true,
           "gridcolor": "white",
           "linecolor": "white",
           "ticks": "",
           "title": {
            "standoff": 15
           },
           "zerolinecolor": "white",
           "zerolinewidth": 2
          }
         }
        },
        "title": {
         "font": {
          "size": 22
         },
         "text": "Pool Table Rental Duration",
         "x": 0.5,
         "xanchor": "center",
         "y": 0.85
        },
        "width": 800,
        "xaxis": {
         "anchor": "y",
         "domain": [
          0,
          1
         ],
         "tickfont": {
          "size": 16
         },
         "tickmode": "array",
         "ticktext": [
          "Table 1",
          "Table 0",
          "Table 2",
          "Table 3"
         ],
         "tickvals": [
          1,
          0,
          2,
          3
         ],
         "title": {}
        },
        "yaxis": {
         "anchor": "x",
         "domain": [
          0,
          1
         ],
         "gridcolor": "rgba(128, 128, 128, 0.4)",
         "tickfont": {
          "size": 16
         },
         "title": {
          "text": "Duration (log scale)"
         },
         "type": "log"
        }
       }
      }
     },
     "metadata": {},
     "output_type": "display_data"
    },
    {
     "name": "stdout",
     "output_type": "stream",
     "text": [
      "Visualization saved as ../resources/viz/f23_pool_duration_by_table_number.html\n"
     ]
    },
    {
     "data": {
      "application/vnd.plotly.v1+json": {
       "config": {
        "plotlyServerURL": "https://plot.ly"
       },
       "data": [
        {
         "labels": [
          "Pool",
          "Air Hockey",
          "Foosball",
          "Shuffleboard"
         ],
         "text": [
          "Pool<br>2488 rentals",
          "Air Hockey<br>575 rentals",
          "Foosball<br>378 rentals",
          "Shuffleboard<br>98 rentals"
         ],
         "textfont": {
          "size": 15
         },
         "textinfo": "text+percent",
         "type": "pie",
         "values": [
          2488,
          575,
          378,
          98
         ]
        }
       ],
       "layout": {
        "font": {
         "color": "black",
         "family": "Droid Serif"
        },
        "height": 400,
        "hoverlabel": {
         "bgcolor": "black",
         "font": {
          "color": "white"
         }
        },
        "margin": {
         "b": 20,
         "l": 20,
         "r": 20,
         "t": 100
        },
        "paper_bgcolor": "white",
        "plot_bgcolor": "white",
        "showlegend": false,
        "template": {
         "data": {
          "bar": [
           {
            "error_x": {
             "color": "#2a3f5f"
            },
            "error_y": {
             "color": "#2a3f5f"
            },
            "marker": {
             "line": {
              "color": "#E5ECF6",
              "width": 0.5
             },
             "pattern": {
              "fillmode": "overlay",
              "size": 10,
              "solidity": 0.2
             }
            },
            "type": "bar"
           }
          ],
          "barpolar": [
           {
            "marker": {
             "line": {
              "color": "#E5ECF6",
              "width": 0.5
             },
             "pattern": {
              "fillmode": "overlay",
              "size": 10,
              "solidity": 0.2
             }
            },
            "type": "barpolar"
           }
          ],
          "carpet": [
           {
            "aaxis": {
             "endlinecolor": "#2a3f5f",
             "gridcolor": "white",
             "linecolor": "white",
             "minorgridcolor": "white",
             "startlinecolor": "#2a3f5f"
            },
            "baxis": {
             "endlinecolor": "#2a3f5f",
             "gridcolor": "white",
             "linecolor": "white",
             "minorgridcolor": "white",
             "startlinecolor": "#2a3f5f"
            },
            "type": "carpet"
           }
          ],
          "choropleth": [
           {
            "colorbar": {
             "outlinewidth": 0,
             "ticks": ""
            },
            "type": "choropleth"
           }
          ],
          "contour": [
           {
            "colorbar": {
             "outlinewidth": 0,
             "ticks": ""
            },
            "colorscale": [
             [
              0,
              "#0d0887"
             ],
             [
              0.1111111111111111,
              "#46039f"
             ],
             [
              0.2222222222222222,
              "#7201a8"
             ],
             [
              0.3333333333333333,
              "#9c179e"
             ],
             [
              0.4444444444444444,
              "#bd3786"
             ],
             [
              0.5555555555555556,
              "#d8576b"
             ],
             [
              0.6666666666666666,
              "#ed7953"
             ],
             [
              0.7777777777777778,
              "#fb9f3a"
             ],
             [
              0.8888888888888888,
              "#fdca26"
             ],
             [
              1,
              "#f0f921"
             ]
            ],
            "type": "contour"
           }
          ],
          "contourcarpet": [
           {
            "colorbar": {
             "outlinewidth": 0,
             "ticks": ""
            },
            "type": "contourcarpet"
           }
          ],
          "heatmap": [
           {
            "colorbar": {
             "outlinewidth": 0,
             "ticks": ""
            },
            "colorscale": [
             [
              0,
              "#0d0887"
             ],
             [
              0.1111111111111111,
              "#46039f"
             ],
             [
              0.2222222222222222,
              "#7201a8"
             ],
             [
              0.3333333333333333,
              "#9c179e"
             ],
             [
              0.4444444444444444,
              "#bd3786"
             ],
             [
              0.5555555555555556,
              "#d8576b"
             ],
             [
              0.6666666666666666,
              "#ed7953"
             ],
             [
              0.7777777777777778,
              "#fb9f3a"
             ],
             [
              0.8888888888888888,
              "#fdca26"
             ],
             [
              1,
              "#f0f921"
             ]
            ],
            "type": "heatmap"
           }
          ],
          "heatmapgl": [
           {
            "colorbar": {
             "outlinewidth": 0,
             "ticks": ""
            },
            "colorscale": [
             [
              0,
              "#0d0887"
             ],
             [
              0.1111111111111111,
              "#46039f"
             ],
             [
              0.2222222222222222,
              "#7201a8"
             ],
             [
              0.3333333333333333,
              "#9c179e"
             ],
             [
              0.4444444444444444,
              "#bd3786"
             ],
             [
              0.5555555555555556,
              "#d8576b"
             ],
             [
              0.6666666666666666,
              "#ed7953"
             ],
             [
              0.7777777777777778,
              "#fb9f3a"
             ],
             [
              0.8888888888888888,
              "#fdca26"
             ],
             [
              1,
              "#f0f921"
             ]
            ],
            "type": "heatmapgl"
           }
          ],
          "histogram": [
           {
            "marker": {
             "pattern": {
              "fillmode": "overlay",
              "size": 10,
              "solidity": 0.2
             }
            },
            "type": "histogram"
           }
          ],
          "histogram2d": [
           {
            "colorbar": {
             "outlinewidth": 0,
             "ticks": ""
            },
            "colorscale": [
             [
              0,
              "#0d0887"
             ],
             [
              0.1111111111111111,
              "#46039f"
             ],
             [
              0.2222222222222222,
              "#7201a8"
             ],
             [
              0.3333333333333333,
              "#9c179e"
             ],
             [
              0.4444444444444444,
              "#bd3786"
             ],
             [
              0.5555555555555556,
              "#d8576b"
             ],
             [
              0.6666666666666666,
              "#ed7953"
             ],
             [
              0.7777777777777778,
              "#fb9f3a"
             ],
             [
              0.8888888888888888,
              "#fdca26"
             ],
             [
              1,
              "#f0f921"
             ]
            ],
            "type": "histogram2d"
           }
          ],
          "histogram2dcontour": [
           {
            "colorbar": {
             "outlinewidth": 0,
             "ticks": ""
            },
            "colorscale": [
             [
              0,
              "#0d0887"
             ],
             [
              0.1111111111111111,
              "#46039f"
             ],
             [
              0.2222222222222222,
              "#7201a8"
             ],
             [
              0.3333333333333333,
              "#9c179e"
             ],
             [
              0.4444444444444444,
              "#bd3786"
             ],
             [
              0.5555555555555556,
              "#d8576b"
             ],
             [
              0.6666666666666666,
              "#ed7953"
             ],
             [
              0.7777777777777778,
              "#fb9f3a"
             ],
             [
              0.8888888888888888,
              "#fdca26"
             ],
             [
              1,
              "#f0f921"
             ]
            ],
            "type": "histogram2dcontour"
           }
          ],
          "mesh3d": [
           {
            "colorbar": {
             "outlinewidth": 0,
             "ticks": ""
            },
            "type": "mesh3d"
           }
          ],
          "parcoords": [
           {
            "line": {
             "colorbar": {
              "outlinewidth": 0,
              "ticks": ""
             }
            },
            "type": "parcoords"
           }
          ],
          "pie": [
           {
            "automargin": true,
            "type": "pie"
           }
          ],
          "scatter": [
           {
            "fillpattern": {
             "fillmode": "overlay",
             "size": 10,
             "solidity": 0.2
            },
            "type": "scatter"
           }
          ],
          "scatter3d": [
           {
            "line": {
             "colorbar": {
              "outlinewidth": 0,
              "ticks": ""
             }
            },
            "marker": {
             "colorbar": {
              "outlinewidth": 0,
              "ticks": ""
             }
            },
            "type": "scatter3d"
           }
          ],
          "scattercarpet": [
           {
            "marker": {
             "colorbar": {
              "outlinewidth": 0,
              "ticks": ""
             }
            },
            "type": "scattercarpet"
           }
          ],
          "scattergeo": [
           {
            "marker": {
             "colorbar": {
              "outlinewidth": 0,
              "ticks": ""
             }
            },
            "type": "scattergeo"
           }
          ],
          "scattergl": [
           {
            "marker": {
             "colorbar": {
              "outlinewidth": 0,
              "ticks": ""
             }
            },
            "type": "scattergl"
           }
          ],
          "scattermapbox": [
           {
            "marker": {
             "colorbar": {
              "outlinewidth": 0,
              "ticks": ""
             }
            },
            "type": "scattermapbox"
           }
          ],
          "scatterpolar": [
           {
            "marker": {
             "colorbar": {
              "outlinewidth": 0,
              "ticks": ""
             }
            },
            "type": "scatterpolar"
           }
          ],
          "scatterpolargl": [
           {
            "marker": {
             "colorbar": {
              "outlinewidth": 0,
              "ticks": ""
             }
            },
            "type": "scatterpolargl"
           }
          ],
          "scatterternary": [
           {
            "marker": {
             "colorbar": {
              "outlinewidth": 0,
              "ticks": ""
             }
            },
            "type": "scatterternary"
           }
          ],
          "surface": [
           {
            "colorbar": {
             "outlinewidth": 0,
             "ticks": ""
            },
            "colorscale": [
             [
              0,
              "#0d0887"
             ],
             [
              0.1111111111111111,
              "#46039f"
             ],
             [
              0.2222222222222222,
              "#7201a8"
             ],
             [
              0.3333333333333333,
              "#9c179e"
             ],
             [
              0.4444444444444444,
              "#bd3786"
             ],
             [
              0.5555555555555556,
              "#d8576b"
             ],
             [
              0.6666666666666666,
              "#ed7953"
             ],
             [
              0.7777777777777778,
              "#fb9f3a"
             ],
             [
              0.8888888888888888,
              "#fdca26"
             ],
             [
              1,
              "#f0f921"
             ]
            ],
            "type": "surface"
           }
          ],
          "table": [
           {
            "cells": {
             "fill": {
              "color": "#EBF0F8"
             },
             "line": {
              "color": "white"
             }
            },
            "header": {
             "fill": {
              "color": "#C8D4E3"
             },
             "line": {
              "color": "white"
             }
            },
            "type": "table"
           }
          ]
         },
         "layout": {
          "annotationdefaults": {
           "arrowcolor": "#2a3f5f",
           "arrowhead": 0,
           "arrowwidth": 1
          },
          "autotypenumbers": "strict",
          "coloraxis": {
           "colorbar": {
            "outlinewidth": 0,
            "ticks": ""
           }
          },
          "colorscale": {
           "diverging": [
            [
             0,
             "#8e0152"
            ],
            [
             0.1,
             "#c51b7d"
            ],
            [
             0.2,
             "#de77ae"
            ],
            [
             0.3,
             "#f1b6da"
            ],
            [
             0.4,
             "#fde0ef"
            ],
            [
             0.5,
             "#f7f7f7"
            ],
            [
             0.6,
             "#e6f5d0"
            ],
            [
             0.7,
             "#b8e186"
            ],
            [
             0.8,
             "#7fbc41"
            ],
            [
             0.9,
             "#4d9221"
            ],
            [
             1,
             "#276419"
            ]
           ],
           "sequential": [
            [
             0,
             "#0d0887"
            ],
            [
             0.1111111111111111,
             "#46039f"
            ],
            [
             0.2222222222222222,
             "#7201a8"
            ],
            [
             0.3333333333333333,
             "#9c179e"
            ],
            [
             0.4444444444444444,
             "#bd3786"
            ],
            [
             0.5555555555555556,
             "#d8576b"
            ],
            [
             0.6666666666666666,
             "#ed7953"
            ],
            [
             0.7777777777777778,
             "#fb9f3a"
            ],
            [
             0.8888888888888888,
             "#fdca26"
            ],
            [
             1,
             "#f0f921"
            ]
           ],
           "sequentialminus": [
            [
             0,
             "#0d0887"
            ],
            [
             0.1111111111111111,
             "#46039f"
            ],
            [
             0.2222222222222222,
             "#7201a8"
            ],
            [
             0.3333333333333333,
             "#9c179e"
            ],
            [
             0.4444444444444444,
             "#bd3786"
            ],
            [
             0.5555555555555556,
             "#d8576b"
            ],
            [
             0.6666666666666666,
             "#ed7953"
            ],
            [
             0.7777777777777778,
             "#fb9f3a"
            ],
            [
             0.8888888888888888,
             "#fdca26"
            ],
            [
             1,
             "#f0f921"
            ]
           ]
          },
          "colorway": [
           "#636efa",
           "#EF553B",
           "#00cc96",
           "#ab63fa",
           "#FFA15A",
           "#19d3f3",
           "#FF6692",
           "#B6E880",
           "#FF97FF",
           "#FECB52"
          ],
          "font": {
           "color": "#2a3f5f"
          },
          "geo": {
           "bgcolor": "white",
           "lakecolor": "white",
           "landcolor": "#E5ECF6",
           "showlakes": true,
           "showland": true,
           "subunitcolor": "white"
          },
          "hoverlabel": {
           "align": "left"
          },
          "hovermode": "closest",
          "mapbox": {
           "style": "light"
          },
          "paper_bgcolor": "white",
          "plot_bgcolor": "#E5ECF6",
          "polar": {
           "angularaxis": {
            "gridcolor": "white",
            "linecolor": "white",
            "ticks": ""
           },
           "bgcolor": "#E5ECF6",
           "radialaxis": {
            "gridcolor": "white",
            "linecolor": "white",
            "ticks": ""
           }
          },
          "scene": {
           "xaxis": {
            "backgroundcolor": "#E5ECF6",
            "gridcolor": "white",
            "gridwidth": 2,
            "linecolor": "white",
            "showbackground": true,
            "ticks": "",
            "zerolinecolor": "white"
           },
           "yaxis": {
            "backgroundcolor": "#E5ECF6",
            "gridcolor": "white",
            "gridwidth": 2,
            "linecolor": "white",
            "showbackground": true,
            "ticks": "",
            "zerolinecolor": "white"
           },
           "zaxis": {
            "backgroundcolor": "#E5ECF6",
            "gridcolor": "white",
            "gridwidth": 2,
            "linecolor": "white",
            "showbackground": true,
            "ticks": "",
            "zerolinecolor": "white"
           }
          },
          "shapedefaults": {
           "line": {
            "color": "#2a3f5f"
           }
          },
          "ternary": {
           "aaxis": {
            "gridcolor": "white",
            "linecolor": "white",
            "ticks": ""
           },
           "baxis": {
            "gridcolor": "white",
            "linecolor": "white",
            "ticks": ""
           },
           "bgcolor": "#E5ECF6",
           "caxis": {
            "gridcolor": "white",
            "linecolor": "white",
            "ticks": ""
           }
          },
          "title": {
           "x": 0.05
          },
          "xaxis": {
           "automargin": true,
           "gridcolor": "white",
           "linecolor": "white",
           "ticks": "",
           "title": {
            "standoff": 15
           },
           "zerolinecolor": "white",
           "zerolinewidth": 2
          },
          "yaxis": {
           "automargin": true,
           "gridcolor": "white",
           "linecolor": "white",
           "ticks": "",
           "title": {
            "standoff": 15
           },
           "zerolinecolor": "white",
           "zerolinewidth": 2
          }
         }
        },
        "title": {
         "font": {
          "size": 22
         },
         "text": "Table Game Rentals by Game Type",
         "x": 0.4,
         "xanchor": "center",
         "y": 0.91
        },
        "width": 600
       }
      }
     },
     "metadata": {},
     "output_type": "display_data"
    },
    {
     "name": "stdout",
     "output_type": "stream",
     "text": [
      "Visualization saved as ../resources/viz/f23_table_games_pie_chart.html\n",
      "Visualization saved as ../resources/viz/f23_air_hockey_usage_trend.html\n"
     ]
    },
    {
     "data": {
      "application/vnd.plotly.v1+json": {
       "config": {
        "plotlyServerURL": "https://plot.ly"
       },
       "data": [
        {
         "alignmentgroup": "True",
         "hovertemplate": "Duration (minutes)=%{x}<br># of Checkouts=%{y}<extra></extra>",
         "legendgroup": "",
         "marker": {
          "color": "#636efa",
          "pattern": {
           "shape": ""
          }
         },
         "name": "",
         "offsetgroup": "",
         "orientation": "v",
         "showlegend": false,
         "textposition": "auto",
         "type": "bar",
         "x": [
          "0-4",
          "5-9",
          "10-14",
          "15-19",
          "20-24",
          "25-29",
          "30-34",
          "35-39",
          "40-44",
          "45-49",
          "50-54",
          "55-59",
          "60-64",
          "65-69",
          "70-74",
          "75-79",
          "80-84",
          "85-89",
          "90-94",
          "95-99",
          "100-104",
          "105-109",
          "110-114",
          "115-119",
          "120-124"
         ],
         "xaxis": "x",
         "y": [
          46,
          149,
          155,
          87,
          48,
          28,
          14,
          11,
          11,
          7,
          7,
          0,
          3,
          2,
          0,
          1,
          2,
          0,
          0,
          0,
          0,
          0,
          0,
          0,
          0
         ],
         "yaxis": "y"
        }
       ],
       "layout": {
        "bargap": 0.1,
        "barmode": "relative",
        "font": {
         "color": "black",
         "family": "Droid Serif"
        },
        "height": 400,
        "hoverlabel": {
         "bgcolor": "black",
         "font": {
          "color": "white"
         }
        },
        "legend": {
         "tracegroupgap": 0
        },
        "paper_bgcolor": "white",
        "plot_bgcolor": "white",
        "showlegend": false,
        "template": {
         "data": {
          "bar": [
           {
            "error_x": {
             "color": "#2a3f5f"
            },
            "error_y": {
             "color": "#2a3f5f"
            },
            "marker": {
             "line": {
              "color": "#E5ECF6",
              "width": 0.5
             },
             "pattern": {
              "fillmode": "overlay",
              "size": 10,
              "solidity": 0.2
             }
            },
            "type": "bar"
           }
          ],
          "barpolar": [
           {
            "marker": {
             "line": {
              "color": "#E5ECF6",
              "width": 0.5
             },
             "pattern": {
              "fillmode": "overlay",
              "size": 10,
              "solidity": 0.2
             }
            },
            "type": "barpolar"
           }
          ],
          "carpet": [
           {
            "aaxis": {
             "endlinecolor": "#2a3f5f",
             "gridcolor": "white",
             "linecolor": "white",
             "minorgridcolor": "white",
             "startlinecolor": "#2a3f5f"
            },
            "baxis": {
             "endlinecolor": "#2a3f5f",
             "gridcolor": "white",
             "linecolor": "white",
             "minorgridcolor": "white",
             "startlinecolor": "#2a3f5f"
            },
            "type": "carpet"
           }
          ],
          "choropleth": [
           {
            "colorbar": {
             "outlinewidth": 0,
             "ticks": ""
            },
            "type": "choropleth"
           }
          ],
          "contour": [
           {
            "colorbar": {
             "outlinewidth": 0,
             "ticks": ""
            },
            "colorscale": [
             [
              0,
              "#0d0887"
             ],
             [
              0.1111111111111111,
              "#46039f"
             ],
             [
              0.2222222222222222,
              "#7201a8"
             ],
             [
              0.3333333333333333,
              "#9c179e"
             ],
             [
              0.4444444444444444,
              "#bd3786"
             ],
             [
              0.5555555555555556,
              "#d8576b"
             ],
             [
              0.6666666666666666,
              "#ed7953"
             ],
             [
              0.7777777777777778,
              "#fb9f3a"
             ],
             [
              0.8888888888888888,
              "#fdca26"
             ],
             [
              1,
              "#f0f921"
             ]
            ],
            "type": "contour"
           }
          ],
          "contourcarpet": [
           {
            "colorbar": {
             "outlinewidth": 0,
             "ticks": ""
            },
            "type": "contourcarpet"
           }
          ],
          "heatmap": [
           {
            "colorbar": {
             "outlinewidth": 0,
             "ticks": ""
            },
            "colorscale": [
             [
              0,
              "#0d0887"
             ],
             [
              0.1111111111111111,
              "#46039f"
             ],
             [
              0.2222222222222222,
              "#7201a8"
             ],
             [
              0.3333333333333333,
              "#9c179e"
             ],
             [
              0.4444444444444444,
              "#bd3786"
             ],
             [
              0.5555555555555556,
              "#d8576b"
             ],
             [
              0.6666666666666666,
              "#ed7953"
             ],
             [
              0.7777777777777778,
              "#fb9f3a"
             ],
             [
              0.8888888888888888,
              "#fdca26"
             ],
             [
              1,
              "#f0f921"
             ]
            ],
            "type": "heatmap"
           }
          ],
          "heatmapgl": [
           {
            "colorbar": {
             "outlinewidth": 0,
             "ticks": ""
            },
            "colorscale": [
             [
              0,
              "#0d0887"
             ],
             [
              0.1111111111111111,
              "#46039f"
             ],
             [
              0.2222222222222222,
              "#7201a8"
             ],
             [
              0.3333333333333333,
              "#9c179e"
             ],
             [
              0.4444444444444444,
              "#bd3786"
             ],
             [
              0.5555555555555556,
              "#d8576b"
             ],
             [
              0.6666666666666666,
              "#ed7953"
             ],
             [
              0.7777777777777778,
              "#fb9f3a"
             ],
             [
              0.8888888888888888,
              "#fdca26"
             ],
             [
              1,
              "#f0f921"
             ]
            ],
            "type": "heatmapgl"
           }
          ],
          "histogram": [
           {
            "marker": {
             "pattern": {
              "fillmode": "overlay",
              "size": 10,
              "solidity": 0.2
             }
            },
            "type": "histogram"
           }
          ],
          "histogram2d": [
           {
            "colorbar": {
             "outlinewidth": 0,
             "ticks": ""
            },
            "colorscale": [
             [
              0,
              "#0d0887"
             ],
             [
              0.1111111111111111,
              "#46039f"
             ],
             [
              0.2222222222222222,
              "#7201a8"
             ],
             [
              0.3333333333333333,
              "#9c179e"
             ],
             [
              0.4444444444444444,
              "#bd3786"
             ],
             [
              0.5555555555555556,
              "#d8576b"
             ],
             [
              0.6666666666666666,
              "#ed7953"
             ],
             [
              0.7777777777777778,
              "#fb9f3a"
             ],
             [
              0.8888888888888888,
              "#fdca26"
             ],
             [
              1,
              "#f0f921"
             ]
            ],
            "type": "histogram2d"
           }
          ],
          "histogram2dcontour": [
           {
            "colorbar": {
             "outlinewidth": 0,
             "ticks": ""
            },
            "colorscale": [
             [
              0,
              "#0d0887"
             ],
             [
              0.1111111111111111,
              "#46039f"
             ],
             [
              0.2222222222222222,
              "#7201a8"
             ],
             [
              0.3333333333333333,
              "#9c179e"
             ],
             [
              0.4444444444444444,
              "#bd3786"
             ],
             [
              0.5555555555555556,
              "#d8576b"
             ],
             [
              0.6666666666666666,
              "#ed7953"
             ],
             [
              0.7777777777777778,
              "#fb9f3a"
             ],
             [
              0.8888888888888888,
              "#fdca26"
             ],
             [
              1,
              "#f0f921"
             ]
            ],
            "type": "histogram2dcontour"
           }
          ],
          "mesh3d": [
           {
            "colorbar": {
             "outlinewidth": 0,
             "ticks": ""
            },
            "type": "mesh3d"
           }
          ],
          "parcoords": [
           {
            "line": {
             "colorbar": {
              "outlinewidth": 0,
              "ticks": ""
             }
            },
            "type": "parcoords"
           }
          ],
          "pie": [
           {
            "automargin": true,
            "type": "pie"
           }
          ],
          "scatter": [
           {
            "fillpattern": {
             "fillmode": "overlay",
             "size": 10,
             "solidity": 0.2
            },
            "type": "scatter"
           }
          ],
          "scatter3d": [
           {
            "line": {
             "colorbar": {
              "outlinewidth": 0,
              "ticks": ""
             }
            },
            "marker": {
             "colorbar": {
              "outlinewidth": 0,
              "ticks": ""
             }
            },
            "type": "scatter3d"
           }
          ],
          "scattercarpet": [
           {
            "marker": {
             "colorbar": {
              "outlinewidth": 0,
              "ticks": ""
             }
            },
            "type": "scattercarpet"
           }
          ],
          "scattergeo": [
           {
            "marker": {
             "colorbar": {
              "outlinewidth": 0,
              "ticks": ""
             }
            },
            "type": "scattergeo"
           }
          ],
          "scattergl": [
           {
            "marker": {
             "colorbar": {
              "outlinewidth": 0,
              "ticks": ""
             }
            },
            "type": "scattergl"
           }
          ],
          "scattermapbox": [
           {
            "marker": {
             "colorbar": {
              "outlinewidth": 0,
              "ticks": ""
             }
            },
            "type": "scattermapbox"
           }
          ],
          "scatterpolar": [
           {
            "marker": {
             "colorbar": {
              "outlinewidth": 0,
              "ticks": ""
             }
            },
            "type": "scatterpolar"
           }
          ],
          "scatterpolargl": [
           {
            "marker": {
             "colorbar": {
              "outlinewidth": 0,
              "ticks": ""
             }
            },
            "type": "scatterpolargl"
           }
          ],
          "scatterternary": [
           {
            "marker": {
             "colorbar": {
              "outlinewidth": 0,
              "ticks": ""
             }
            },
            "type": "scatterternary"
           }
          ],
          "surface": [
           {
            "colorbar": {
             "outlinewidth": 0,
             "ticks": ""
            },
            "colorscale": [
             [
              0,
              "#0d0887"
             ],
             [
              0.1111111111111111,
              "#46039f"
             ],
             [
              0.2222222222222222,
              "#7201a8"
             ],
             [
              0.3333333333333333,
              "#9c179e"
             ],
             [
              0.4444444444444444,
              "#bd3786"
             ],
             [
              0.5555555555555556,
              "#d8576b"
             ],
             [
              0.6666666666666666,
              "#ed7953"
             ],
             [
              0.7777777777777778,
              "#fb9f3a"
             ],
             [
              0.8888888888888888,
              "#fdca26"
             ],
             [
              1,
              "#f0f921"
             ]
            ],
            "type": "surface"
           }
          ],
          "table": [
           {
            "cells": {
             "fill": {
              "color": "#EBF0F8"
             },
             "line": {
              "color": "white"
             }
            },
            "header": {
             "fill": {
              "color": "#C8D4E3"
             },
             "line": {
              "color": "white"
             }
            },
            "type": "table"
           }
          ]
         },
         "layout": {
          "annotationdefaults": {
           "arrowcolor": "#2a3f5f",
           "arrowhead": 0,
           "arrowwidth": 1
          },
          "autotypenumbers": "strict",
          "coloraxis": {
           "colorbar": {
            "outlinewidth": 0,
            "ticks": ""
           }
          },
          "colorscale": {
           "diverging": [
            [
             0,
             "#8e0152"
            ],
            [
             0.1,
             "#c51b7d"
            ],
            [
             0.2,
             "#de77ae"
            ],
            [
             0.3,
             "#f1b6da"
            ],
            [
             0.4,
             "#fde0ef"
            ],
            [
             0.5,
             "#f7f7f7"
            ],
            [
             0.6,
             "#e6f5d0"
            ],
            [
             0.7,
             "#b8e186"
            ],
            [
             0.8,
             "#7fbc41"
            ],
            [
             0.9,
             "#4d9221"
            ],
            [
             1,
             "#276419"
            ]
           ],
           "sequential": [
            [
             0,
             "#0d0887"
            ],
            [
             0.1111111111111111,
             "#46039f"
            ],
            [
             0.2222222222222222,
             "#7201a8"
            ],
            [
             0.3333333333333333,
             "#9c179e"
            ],
            [
             0.4444444444444444,
             "#bd3786"
            ],
            [
             0.5555555555555556,
             "#d8576b"
            ],
            [
             0.6666666666666666,
             "#ed7953"
            ],
            [
             0.7777777777777778,
             "#fb9f3a"
            ],
            [
             0.8888888888888888,
             "#fdca26"
            ],
            [
             1,
             "#f0f921"
            ]
           ],
           "sequentialminus": [
            [
             0,
             "#0d0887"
            ],
            [
             0.1111111111111111,
             "#46039f"
            ],
            [
             0.2222222222222222,
             "#7201a8"
            ],
            [
             0.3333333333333333,
             "#9c179e"
            ],
            [
             0.4444444444444444,
             "#bd3786"
            ],
            [
             0.5555555555555556,
             "#d8576b"
            ],
            [
             0.6666666666666666,
             "#ed7953"
            ],
            [
             0.7777777777777778,
             "#fb9f3a"
            ],
            [
             0.8888888888888888,
             "#fdca26"
            ],
            [
             1,
             "#f0f921"
            ]
           ]
          },
          "colorway": [
           "#636efa",
           "#EF553B",
           "#00cc96",
           "#ab63fa",
           "#FFA15A",
           "#19d3f3",
           "#FF6692",
           "#B6E880",
           "#FF97FF",
           "#FECB52"
          ],
          "font": {
           "color": "#2a3f5f"
          },
          "geo": {
           "bgcolor": "white",
           "lakecolor": "white",
           "landcolor": "#E5ECF6",
           "showlakes": true,
           "showland": true,
           "subunitcolor": "white"
          },
          "hoverlabel": {
           "align": "left"
          },
          "hovermode": "closest",
          "mapbox": {
           "style": "light"
          },
          "paper_bgcolor": "white",
          "plot_bgcolor": "#E5ECF6",
          "polar": {
           "angularaxis": {
            "gridcolor": "white",
            "linecolor": "white",
            "ticks": ""
           },
           "bgcolor": "#E5ECF6",
           "radialaxis": {
            "gridcolor": "white",
            "linecolor": "white",
            "ticks": ""
           }
          },
          "scene": {
           "xaxis": {
            "backgroundcolor": "#E5ECF6",
            "gridcolor": "white",
            "gridwidth": 2,
            "linecolor": "white",
            "showbackground": true,
            "ticks": "",
            "zerolinecolor": "white"
           },
           "yaxis": {
            "backgroundcolor": "#E5ECF6",
            "gridcolor": "white",
            "gridwidth": 2,
            "linecolor": "white",
            "showbackground": true,
            "ticks": "",
            "zerolinecolor": "white"
           },
           "zaxis": {
            "backgroundcolor": "#E5ECF6",
            "gridcolor": "white",
            "gridwidth": 2,
            "linecolor": "white",
            "showbackground": true,
            "ticks": "",
            "zerolinecolor": "white"
           }
          },
          "shapedefaults": {
           "line": {
            "color": "#2a3f5f"
           }
          },
          "ternary": {
           "aaxis": {
            "gridcolor": "white",
            "linecolor": "white",
            "ticks": ""
           },
           "baxis": {
            "gridcolor": "white",
            "linecolor": "white",
            "ticks": ""
           },
           "bgcolor": "#E5ECF6",
           "caxis": {
            "gridcolor": "white",
            "linecolor": "white",
            "ticks": ""
           }
          },
          "title": {
           "x": 0.05
          },
          "xaxis": {
           "automargin": true,
           "gridcolor": "white",
           "linecolor": "white",
           "ticks": "",
           "title": {
            "standoff": 15
           },
           "zerolinecolor": "white",
           "zerolinewidth": 2
          },
          "yaxis": {
           "automargin": true,
           "gridcolor": "white",
           "linecolor": "white",
           "ticks": "",
           "title": {
            "standoff": 15
           },
           "zerolinecolor": "white",
           "zerolinewidth": 2
          }
         }
        },
        "title": {
         "font": {
          "size": 22
         },
         "text": "Air Hockey Usage Time Trend",
         "x": 0.5,
         "xanchor": "center",
         "y": 0.85
        },
        "width": 600,
        "xaxis": {
         "anchor": "y",
         "categoryarray": [
          "0-4",
          "5-9",
          "10-14",
          "15-19",
          "20-24",
          "25-29",
          "30-34",
          "35-39",
          "40-44",
          "45-49",
          "50-54",
          "55-59",
          "60-64",
          "65-69",
          "70-74",
          "75-79",
          "80-84",
          "85-89",
          "90-94",
          "95-99",
          "100-104",
          "105-109",
          "110-114",
          "115-119",
          "120-124"
         ],
         "categoryorder": "array",
         "domain": [
          0,
          1
         ],
         "tickfont": {
          "size": 16
         },
         "tickmode": "array",
         "ticktext": [
          "0",
          "25",
          "50",
          "75",
          "100",
          "125"
         ],
         "tickvals": [
          "0-4",
          "20-24",
          "45-49",
          "70-74",
          "95-99",
          "120-124"
         ],
         "title": {
          "font": {
           "size": 18
          },
          "text": "Duration (minutes)"
         }
        },
        "yaxis": {
         "anchor": "x",
         "domain": [
          0,
          1
         ],
         "gridcolor": "rgba(128, 128, 128, 0.5)",
         "tickfont": {
          "size": 16
         },
         "title": {
          "font": {
           "size": 18
          },
          "text": "# of Checkouts"
         }
        }
       }
      }
     },
     "metadata": {},
     "output_type": "display_data"
    },
    {
     "name": "stdout",
     "output_type": "stream",
     "text": [
      "Visualization saved as ../resources/viz/f23_foosball_usage_trend.html\n"
     ]
    },
    {
     "data": {
      "application/vnd.plotly.v1+json": {
       "config": {
        "plotlyServerURL": "https://plot.ly"
       },
       "data": [
        {
         "alignmentgroup": "True",
         "hovertemplate": "Duration (minutes)=%{x}<br># of Checkouts=%{y}<extra></extra>",
         "legendgroup": "",
         "marker": {
          "color": "#636efa",
          "pattern": {
           "shape": ""
          }
         },
         "name": "",
         "offsetgroup": "",
         "orientation": "v",
         "showlegend": false,
         "textposition": "auto",
         "type": "bar",
         "x": [
          "0-4",
          "5-9",
          "10-14",
          "15-19",
          "20-24",
          "25-29",
          "30-34",
          "35-39",
          "40-44",
          "45-49",
          "50-54",
          "55-59",
          "60-64",
          "65-69",
          "70-74",
          "75-79",
          "80-84",
          "85-89",
          "90-94",
          "95-99",
          "100-104",
          "105-109",
          "110-114",
          "115-119",
          "120-124"
         ],
         "xaxis": "x",
         "y": [
          9,
          69,
          74,
          54,
          52,
          34,
          29,
          10,
          10,
          8,
          3,
          7,
          5,
          3,
          3,
          0,
          1,
          1,
          0,
          0,
          2,
          1,
          0,
          0,
          0
         ],
         "yaxis": "y"
        }
       ],
       "layout": {
        "bargap": 0.1,
        "barmode": "relative",
        "font": {
         "color": "black",
         "family": "Droid Serif"
        },
        "height": 400,
        "hoverlabel": {
         "bgcolor": "black",
         "font": {
          "color": "white"
         }
        },
        "legend": {
         "tracegroupgap": 0
        },
        "paper_bgcolor": "white",
        "plot_bgcolor": "white",
        "showlegend": false,
        "template": {
         "data": {
          "bar": [
           {
            "error_x": {
             "color": "#2a3f5f"
            },
            "error_y": {
             "color": "#2a3f5f"
            },
            "marker": {
             "line": {
              "color": "#E5ECF6",
              "width": 0.5
             },
             "pattern": {
              "fillmode": "overlay",
              "size": 10,
              "solidity": 0.2
             }
            },
            "type": "bar"
           }
          ],
          "barpolar": [
           {
            "marker": {
             "line": {
              "color": "#E5ECF6",
              "width": 0.5
             },
             "pattern": {
              "fillmode": "overlay",
              "size": 10,
              "solidity": 0.2
             }
            },
            "type": "barpolar"
           }
          ],
          "carpet": [
           {
            "aaxis": {
             "endlinecolor": "#2a3f5f",
             "gridcolor": "white",
             "linecolor": "white",
             "minorgridcolor": "white",
             "startlinecolor": "#2a3f5f"
            },
            "baxis": {
             "endlinecolor": "#2a3f5f",
             "gridcolor": "white",
             "linecolor": "white",
             "minorgridcolor": "white",
             "startlinecolor": "#2a3f5f"
            },
            "type": "carpet"
           }
          ],
          "choropleth": [
           {
            "colorbar": {
             "outlinewidth": 0,
             "ticks": ""
            },
            "type": "choropleth"
           }
          ],
          "contour": [
           {
            "colorbar": {
             "outlinewidth": 0,
             "ticks": ""
            },
            "colorscale": [
             [
              0,
              "#0d0887"
             ],
             [
              0.1111111111111111,
              "#46039f"
             ],
             [
              0.2222222222222222,
              "#7201a8"
             ],
             [
              0.3333333333333333,
              "#9c179e"
             ],
             [
              0.4444444444444444,
              "#bd3786"
             ],
             [
              0.5555555555555556,
              "#d8576b"
             ],
             [
              0.6666666666666666,
              "#ed7953"
             ],
             [
              0.7777777777777778,
              "#fb9f3a"
             ],
             [
              0.8888888888888888,
              "#fdca26"
             ],
             [
              1,
              "#f0f921"
             ]
            ],
            "type": "contour"
           }
          ],
          "contourcarpet": [
           {
            "colorbar": {
             "outlinewidth": 0,
             "ticks": ""
            },
            "type": "contourcarpet"
           }
          ],
          "heatmap": [
           {
            "colorbar": {
             "outlinewidth": 0,
             "ticks": ""
            },
            "colorscale": [
             [
              0,
              "#0d0887"
             ],
             [
              0.1111111111111111,
              "#46039f"
             ],
             [
              0.2222222222222222,
              "#7201a8"
             ],
             [
              0.3333333333333333,
              "#9c179e"
             ],
             [
              0.4444444444444444,
              "#bd3786"
             ],
             [
              0.5555555555555556,
              "#d8576b"
             ],
             [
              0.6666666666666666,
              "#ed7953"
             ],
             [
              0.7777777777777778,
              "#fb9f3a"
             ],
             [
              0.8888888888888888,
              "#fdca26"
             ],
             [
              1,
              "#f0f921"
             ]
            ],
            "type": "heatmap"
           }
          ],
          "heatmapgl": [
           {
            "colorbar": {
             "outlinewidth": 0,
             "ticks": ""
            },
            "colorscale": [
             [
              0,
              "#0d0887"
             ],
             [
              0.1111111111111111,
              "#46039f"
             ],
             [
              0.2222222222222222,
              "#7201a8"
             ],
             [
              0.3333333333333333,
              "#9c179e"
             ],
             [
              0.4444444444444444,
              "#bd3786"
             ],
             [
              0.5555555555555556,
              "#d8576b"
             ],
             [
              0.6666666666666666,
              "#ed7953"
             ],
             [
              0.7777777777777778,
              "#fb9f3a"
             ],
             [
              0.8888888888888888,
              "#fdca26"
             ],
             [
              1,
              "#f0f921"
             ]
            ],
            "type": "heatmapgl"
           }
          ],
          "histogram": [
           {
            "marker": {
             "pattern": {
              "fillmode": "overlay",
              "size": 10,
              "solidity": 0.2
             }
            },
            "type": "histogram"
           }
          ],
          "histogram2d": [
           {
            "colorbar": {
             "outlinewidth": 0,
             "ticks": ""
            },
            "colorscale": [
             [
              0,
              "#0d0887"
             ],
             [
              0.1111111111111111,
              "#46039f"
             ],
             [
              0.2222222222222222,
              "#7201a8"
             ],
             [
              0.3333333333333333,
              "#9c179e"
             ],
             [
              0.4444444444444444,
              "#bd3786"
             ],
             [
              0.5555555555555556,
              "#d8576b"
             ],
             [
              0.6666666666666666,
              "#ed7953"
             ],
             [
              0.7777777777777778,
              "#fb9f3a"
             ],
             [
              0.8888888888888888,
              "#fdca26"
             ],
             [
              1,
              "#f0f921"
             ]
            ],
            "type": "histogram2d"
           }
          ],
          "histogram2dcontour": [
           {
            "colorbar": {
             "outlinewidth": 0,
             "ticks": ""
            },
            "colorscale": [
             [
              0,
              "#0d0887"
             ],
             [
              0.1111111111111111,
              "#46039f"
             ],
             [
              0.2222222222222222,
              "#7201a8"
             ],
             [
              0.3333333333333333,
              "#9c179e"
             ],
             [
              0.4444444444444444,
              "#bd3786"
             ],
             [
              0.5555555555555556,
              "#d8576b"
             ],
             [
              0.6666666666666666,
              "#ed7953"
             ],
             [
              0.7777777777777778,
              "#fb9f3a"
             ],
             [
              0.8888888888888888,
              "#fdca26"
             ],
             [
              1,
              "#f0f921"
             ]
            ],
            "type": "histogram2dcontour"
           }
          ],
          "mesh3d": [
           {
            "colorbar": {
             "outlinewidth": 0,
             "ticks": ""
            },
            "type": "mesh3d"
           }
          ],
          "parcoords": [
           {
            "line": {
             "colorbar": {
              "outlinewidth": 0,
              "ticks": ""
             }
            },
            "type": "parcoords"
           }
          ],
          "pie": [
           {
            "automargin": true,
            "type": "pie"
           }
          ],
          "scatter": [
           {
            "fillpattern": {
             "fillmode": "overlay",
             "size": 10,
             "solidity": 0.2
            },
            "type": "scatter"
           }
          ],
          "scatter3d": [
           {
            "line": {
             "colorbar": {
              "outlinewidth": 0,
              "ticks": ""
             }
            },
            "marker": {
             "colorbar": {
              "outlinewidth": 0,
              "ticks": ""
             }
            },
            "type": "scatter3d"
           }
          ],
          "scattercarpet": [
           {
            "marker": {
             "colorbar": {
              "outlinewidth": 0,
              "ticks": ""
             }
            },
            "type": "scattercarpet"
           }
          ],
          "scattergeo": [
           {
            "marker": {
             "colorbar": {
              "outlinewidth": 0,
              "ticks": ""
             }
            },
            "type": "scattergeo"
           }
          ],
          "scattergl": [
           {
            "marker": {
             "colorbar": {
              "outlinewidth": 0,
              "ticks": ""
             }
            },
            "type": "scattergl"
           }
          ],
          "scattermapbox": [
           {
            "marker": {
             "colorbar": {
              "outlinewidth": 0,
              "ticks": ""
             }
            },
            "type": "scattermapbox"
           }
          ],
          "scatterpolar": [
           {
            "marker": {
             "colorbar": {
              "outlinewidth": 0,
              "ticks": ""
             }
            },
            "type": "scatterpolar"
           }
          ],
          "scatterpolargl": [
           {
            "marker": {
             "colorbar": {
              "outlinewidth": 0,
              "ticks": ""
             }
            },
            "type": "scatterpolargl"
           }
          ],
          "scatterternary": [
           {
            "marker": {
             "colorbar": {
              "outlinewidth": 0,
              "ticks": ""
             }
            },
            "type": "scatterternary"
           }
          ],
          "surface": [
           {
            "colorbar": {
             "outlinewidth": 0,
             "ticks": ""
            },
            "colorscale": [
             [
              0,
              "#0d0887"
             ],
             [
              0.1111111111111111,
              "#46039f"
             ],
             [
              0.2222222222222222,
              "#7201a8"
             ],
             [
              0.3333333333333333,
              "#9c179e"
             ],
             [
              0.4444444444444444,
              "#bd3786"
             ],
             [
              0.5555555555555556,
              "#d8576b"
             ],
             [
              0.6666666666666666,
              "#ed7953"
             ],
             [
              0.7777777777777778,
              "#fb9f3a"
             ],
             [
              0.8888888888888888,
              "#fdca26"
             ],
             [
              1,
              "#f0f921"
             ]
            ],
            "type": "surface"
           }
          ],
          "table": [
           {
            "cells": {
             "fill": {
              "color": "#EBF0F8"
             },
             "line": {
              "color": "white"
             }
            },
            "header": {
             "fill": {
              "color": "#C8D4E3"
             },
             "line": {
              "color": "white"
             }
            },
            "type": "table"
           }
          ]
         },
         "layout": {
          "annotationdefaults": {
           "arrowcolor": "#2a3f5f",
           "arrowhead": 0,
           "arrowwidth": 1
          },
          "autotypenumbers": "strict",
          "coloraxis": {
           "colorbar": {
            "outlinewidth": 0,
            "ticks": ""
           }
          },
          "colorscale": {
           "diverging": [
            [
             0,
             "#8e0152"
            ],
            [
             0.1,
             "#c51b7d"
            ],
            [
             0.2,
             "#de77ae"
            ],
            [
             0.3,
             "#f1b6da"
            ],
            [
             0.4,
             "#fde0ef"
            ],
            [
             0.5,
             "#f7f7f7"
            ],
            [
             0.6,
             "#e6f5d0"
            ],
            [
             0.7,
             "#b8e186"
            ],
            [
             0.8,
             "#7fbc41"
            ],
            [
             0.9,
             "#4d9221"
            ],
            [
             1,
             "#276419"
            ]
           ],
           "sequential": [
            [
             0,
             "#0d0887"
            ],
            [
             0.1111111111111111,
             "#46039f"
            ],
            [
             0.2222222222222222,
             "#7201a8"
            ],
            [
             0.3333333333333333,
             "#9c179e"
            ],
            [
             0.4444444444444444,
             "#bd3786"
            ],
            [
             0.5555555555555556,
             "#d8576b"
            ],
            [
             0.6666666666666666,
             "#ed7953"
            ],
            [
             0.7777777777777778,
             "#fb9f3a"
            ],
            [
             0.8888888888888888,
             "#fdca26"
            ],
            [
             1,
             "#f0f921"
            ]
           ],
           "sequentialminus": [
            [
             0,
             "#0d0887"
            ],
            [
             0.1111111111111111,
             "#46039f"
            ],
            [
             0.2222222222222222,
             "#7201a8"
            ],
            [
             0.3333333333333333,
             "#9c179e"
            ],
            [
             0.4444444444444444,
             "#bd3786"
            ],
            [
             0.5555555555555556,
             "#d8576b"
            ],
            [
             0.6666666666666666,
             "#ed7953"
            ],
            [
             0.7777777777777778,
             "#fb9f3a"
            ],
            [
             0.8888888888888888,
             "#fdca26"
            ],
            [
             1,
             "#f0f921"
            ]
           ]
          },
          "colorway": [
           "#636efa",
           "#EF553B",
           "#00cc96",
           "#ab63fa",
           "#FFA15A",
           "#19d3f3",
           "#FF6692",
           "#B6E880",
           "#FF97FF",
           "#FECB52"
          ],
          "font": {
           "color": "#2a3f5f"
          },
          "geo": {
           "bgcolor": "white",
           "lakecolor": "white",
           "landcolor": "#E5ECF6",
           "showlakes": true,
           "showland": true,
           "subunitcolor": "white"
          },
          "hoverlabel": {
           "align": "left"
          },
          "hovermode": "closest",
          "mapbox": {
           "style": "light"
          },
          "paper_bgcolor": "white",
          "plot_bgcolor": "#E5ECF6",
          "polar": {
           "angularaxis": {
            "gridcolor": "white",
            "linecolor": "white",
            "ticks": ""
           },
           "bgcolor": "#E5ECF6",
           "radialaxis": {
            "gridcolor": "white",
            "linecolor": "white",
            "ticks": ""
           }
          },
          "scene": {
           "xaxis": {
            "backgroundcolor": "#E5ECF6",
            "gridcolor": "white",
            "gridwidth": 2,
            "linecolor": "white",
            "showbackground": true,
            "ticks": "",
            "zerolinecolor": "white"
           },
           "yaxis": {
            "backgroundcolor": "#E5ECF6",
            "gridcolor": "white",
            "gridwidth": 2,
            "linecolor": "white",
            "showbackground": true,
            "ticks": "",
            "zerolinecolor": "white"
           },
           "zaxis": {
            "backgroundcolor": "#E5ECF6",
            "gridcolor": "white",
            "gridwidth": 2,
            "linecolor": "white",
            "showbackground": true,
            "ticks": "",
            "zerolinecolor": "white"
           }
          },
          "shapedefaults": {
           "line": {
            "color": "#2a3f5f"
           }
          },
          "ternary": {
           "aaxis": {
            "gridcolor": "white",
            "linecolor": "white",
            "ticks": ""
           },
           "baxis": {
            "gridcolor": "white",
            "linecolor": "white",
            "ticks": ""
           },
           "bgcolor": "#E5ECF6",
           "caxis": {
            "gridcolor": "white",
            "linecolor": "white",
            "ticks": ""
           }
          },
          "title": {
           "x": 0.05
          },
          "xaxis": {
           "automargin": true,
           "gridcolor": "white",
           "linecolor": "white",
           "ticks": "",
           "title": {
            "standoff": 15
           },
           "zerolinecolor": "white",
           "zerolinewidth": 2
          },
          "yaxis": {
           "automargin": true,
           "gridcolor": "white",
           "linecolor": "white",
           "ticks": "",
           "title": {
            "standoff": 15
           },
           "zerolinecolor": "white",
           "zerolinewidth": 2
          }
         }
        },
        "title": {
         "font": {
          "size": 22
         },
         "text": "Foosball Usage Time Trend",
         "x": 0.5,
         "xanchor": "center",
         "y": 0.85
        },
        "width": 600,
        "xaxis": {
         "anchor": "y",
         "categoryarray": [
          "0-4",
          "5-9",
          "10-14",
          "15-19",
          "20-24",
          "25-29",
          "30-34",
          "35-39",
          "40-44",
          "45-49",
          "50-54",
          "55-59",
          "60-64",
          "65-69",
          "70-74",
          "75-79",
          "80-84",
          "85-89",
          "90-94",
          "95-99",
          "100-104",
          "105-109",
          "110-114",
          "115-119",
          "120-124"
         ],
         "categoryorder": "array",
         "domain": [
          0,
          1
         ],
         "tickfont": {
          "size": 16
         },
         "tickmode": "array",
         "ticktext": [
          "0",
          "25",
          "50",
          "75",
          "100",
          "125"
         ],
         "tickvals": [
          "0-4",
          "20-24",
          "45-49",
          "70-74",
          "95-99",
          "120-124"
         ],
         "title": {
          "font": {
           "size": 18
          },
          "text": "Duration (minutes)"
         }
        },
        "yaxis": {
         "anchor": "x",
         "domain": [
          0,
          1
         ],
         "gridcolor": "rgba(128, 128, 128, 0.5)",
         "tickfont": {
          "size": 16
         },
         "title": {
          "font": {
           "size": 18
          },
          "text": "# of Checkouts"
         }
        }
       }
      }
     },
     "metadata": {},
     "output_type": "display_data"
    },
    {
     "name": "stdout",
     "output_type": "stream",
     "text": [
      "Visualization saved as ../resources/viz/f23_shuffleboard_usage_trend.html\n"
     ]
    },
    {
     "data": {
      "application/vnd.plotly.v1+json": {
       "config": {
        "plotlyServerURL": "https://plot.ly"
       },
       "data": [
        {
         "alignmentgroup": "True",
         "hovertemplate": "Duration (minutes)=%{x}<br># of Checkouts=%{y}<extra></extra>",
         "legendgroup": "",
         "marker": {
          "color": "#636efa",
          "pattern": {
           "shape": ""
          }
         },
         "name": "",
         "offsetgroup": "",
         "orientation": "v",
         "showlegend": false,
         "textposition": "auto",
         "type": "bar",
         "x": [
          "0-4",
          "5-9",
          "10-14",
          "15-19",
          "20-24",
          "25-29",
          "30-34",
          "35-39",
          "40-44",
          "45-49",
          "50-54",
          "55-59",
          "60-64",
          "65-69",
          "70-74",
          "75-79",
          "80-84",
          "85-89",
          "90-94",
          "95-99",
          "100-104",
          "105-109",
          "110-114",
          "115-119",
          "120-124"
         ],
         "xaxis": "x",
         "y": [
          4,
          23,
          27,
          19,
          5,
          6,
          8,
          1,
          2,
          2,
          0,
          0,
          0,
          0,
          0,
          0,
          0,
          0,
          0,
          0,
          0,
          0,
          1,
          0,
          0
         ],
         "yaxis": "y"
        }
       ],
       "layout": {
        "bargap": 0.1,
        "barmode": "relative",
        "font": {
         "color": "black",
         "family": "Droid Serif"
        },
        "height": 400,
        "hoverlabel": {
         "bgcolor": "black",
         "font": {
          "color": "white"
         }
        },
        "legend": {
         "tracegroupgap": 0
        },
        "paper_bgcolor": "white",
        "plot_bgcolor": "white",
        "showlegend": false,
        "template": {
         "data": {
          "bar": [
           {
            "error_x": {
             "color": "#2a3f5f"
            },
            "error_y": {
             "color": "#2a3f5f"
            },
            "marker": {
             "line": {
              "color": "#E5ECF6",
              "width": 0.5
             },
             "pattern": {
              "fillmode": "overlay",
              "size": 10,
              "solidity": 0.2
             }
            },
            "type": "bar"
           }
          ],
          "barpolar": [
           {
            "marker": {
             "line": {
              "color": "#E5ECF6",
              "width": 0.5
             },
             "pattern": {
              "fillmode": "overlay",
              "size": 10,
              "solidity": 0.2
             }
            },
            "type": "barpolar"
           }
          ],
          "carpet": [
           {
            "aaxis": {
             "endlinecolor": "#2a3f5f",
             "gridcolor": "white",
             "linecolor": "white",
             "minorgridcolor": "white",
             "startlinecolor": "#2a3f5f"
            },
            "baxis": {
             "endlinecolor": "#2a3f5f",
             "gridcolor": "white",
             "linecolor": "white",
             "minorgridcolor": "white",
             "startlinecolor": "#2a3f5f"
            },
            "type": "carpet"
           }
          ],
          "choropleth": [
           {
            "colorbar": {
             "outlinewidth": 0,
             "ticks": ""
            },
            "type": "choropleth"
           }
          ],
          "contour": [
           {
            "colorbar": {
             "outlinewidth": 0,
             "ticks": ""
            },
            "colorscale": [
             [
              0,
              "#0d0887"
             ],
             [
              0.1111111111111111,
              "#46039f"
             ],
             [
              0.2222222222222222,
              "#7201a8"
             ],
             [
              0.3333333333333333,
              "#9c179e"
             ],
             [
              0.4444444444444444,
              "#bd3786"
             ],
             [
              0.5555555555555556,
              "#d8576b"
             ],
             [
              0.6666666666666666,
              "#ed7953"
             ],
             [
              0.7777777777777778,
              "#fb9f3a"
             ],
             [
              0.8888888888888888,
              "#fdca26"
             ],
             [
              1,
              "#f0f921"
             ]
            ],
            "type": "contour"
           }
          ],
          "contourcarpet": [
           {
            "colorbar": {
             "outlinewidth": 0,
             "ticks": ""
            },
            "type": "contourcarpet"
           }
          ],
          "heatmap": [
           {
            "colorbar": {
             "outlinewidth": 0,
             "ticks": ""
            },
            "colorscale": [
             [
              0,
              "#0d0887"
             ],
             [
              0.1111111111111111,
              "#46039f"
             ],
             [
              0.2222222222222222,
              "#7201a8"
             ],
             [
              0.3333333333333333,
              "#9c179e"
             ],
             [
              0.4444444444444444,
              "#bd3786"
             ],
             [
              0.5555555555555556,
              "#d8576b"
             ],
             [
              0.6666666666666666,
              "#ed7953"
             ],
             [
              0.7777777777777778,
              "#fb9f3a"
             ],
             [
              0.8888888888888888,
              "#fdca26"
             ],
             [
              1,
              "#f0f921"
             ]
            ],
            "type": "heatmap"
           }
          ],
          "heatmapgl": [
           {
            "colorbar": {
             "outlinewidth": 0,
             "ticks": ""
            },
            "colorscale": [
             [
              0,
              "#0d0887"
             ],
             [
              0.1111111111111111,
              "#46039f"
             ],
             [
              0.2222222222222222,
              "#7201a8"
             ],
             [
              0.3333333333333333,
              "#9c179e"
             ],
             [
              0.4444444444444444,
              "#bd3786"
             ],
             [
              0.5555555555555556,
              "#d8576b"
             ],
             [
              0.6666666666666666,
              "#ed7953"
             ],
             [
              0.7777777777777778,
              "#fb9f3a"
             ],
             [
              0.8888888888888888,
              "#fdca26"
             ],
             [
              1,
              "#f0f921"
             ]
            ],
            "type": "heatmapgl"
           }
          ],
          "histogram": [
           {
            "marker": {
             "pattern": {
              "fillmode": "overlay",
              "size": 10,
              "solidity": 0.2
             }
            },
            "type": "histogram"
           }
          ],
          "histogram2d": [
           {
            "colorbar": {
             "outlinewidth": 0,
             "ticks": ""
            },
            "colorscale": [
             [
              0,
              "#0d0887"
             ],
             [
              0.1111111111111111,
              "#46039f"
             ],
             [
              0.2222222222222222,
              "#7201a8"
             ],
             [
              0.3333333333333333,
              "#9c179e"
             ],
             [
              0.4444444444444444,
              "#bd3786"
             ],
             [
              0.5555555555555556,
              "#d8576b"
             ],
             [
              0.6666666666666666,
              "#ed7953"
             ],
             [
              0.7777777777777778,
              "#fb9f3a"
             ],
             [
              0.8888888888888888,
              "#fdca26"
             ],
             [
              1,
              "#f0f921"
             ]
            ],
            "type": "histogram2d"
           }
          ],
          "histogram2dcontour": [
           {
            "colorbar": {
             "outlinewidth": 0,
             "ticks": ""
            },
            "colorscale": [
             [
              0,
              "#0d0887"
             ],
             [
              0.1111111111111111,
              "#46039f"
             ],
             [
              0.2222222222222222,
              "#7201a8"
             ],
             [
              0.3333333333333333,
              "#9c179e"
             ],
             [
              0.4444444444444444,
              "#bd3786"
             ],
             [
              0.5555555555555556,
              "#d8576b"
             ],
             [
              0.6666666666666666,
              "#ed7953"
             ],
             [
              0.7777777777777778,
              "#fb9f3a"
             ],
             [
              0.8888888888888888,
              "#fdca26"
             ],
             [
              1,
              "#f0f921"
             ]
            ],
            "type": "histogram2dcontour"
           }
          ],
          "mesh3d": [
           {
            "colorbar": {
             "outlinewidth": 0,
             "ticks": ""
            },
            "type": "mesh3d"
           }
          ],
          "parcoords": [
           {
            "line": {
             "colorbar": {
              "outlinewidth": 0,
              "ticks": ""
             }
            },
            "type": "parcoords"
           }
          ],
          "pie": [
           {
            "automargin": true,
            "type": "pie"
           }
          ],
          "scatter": [
           {
            "fillpattern": {
             "fillmode": "overlay",
             "size": 10,
             "solidity": 0.2
            },
            "type": "scatter"
           }
          ],
          "scatter3d": [
           {
            "line": {
             "colorbar": {
              "outlinewidth": 0,
              "ticks": ""
             }
            },
            "marker": {
             "colorbar": {
              "outlinewidth": 0,
              "ticks": ""
             }
            },
            "type": "scatter3d"
           }
          ],
          "scattercarpet": [
           {
            "marker": {
             "colorbar": {
              "outlinewidth": 0,
              "ticks": ""
             }
            },
            "type": "scattercarpet"
           }
          ],
          "scattergeo": [
           {
            "marker": {
             "colorbar": {
              "outlinewidth": 0,
              "ticks": ""
             }
            },
            "type": "scattergeo"
           }
          ],
          "scattergl": [
           {
            "marker": {
             "colorbar": {
              "outlinewidth": 0,
              "ticks": ""
             }
            },
            "type": "scattergl"
           }
          ],
          "scattermapbox": [
           {
            "marker": {
             "colorbar": {
              "outlinewidth": 0,
              "ticks": ""
             }
            },
            "type": "scattermapbox"
           }
          ],
          "scatterpolar": [
           {
            "marker": {
             "colorbar": {
              "outlinewidth": 0,
              "ticks": ""
             }
            },
            "type": "scatterpolar"
           }
          ],
          "scatterpolargl": [
           {
            "marker": {
             "colorbar": {
              "outlinewidth": 0,
              "ticks": ""
             }
            },
            "type": "scatterpolargl"
           }
          ],
          "scatterternary": [
           {
            "marker": {
             "colorbar": {
              "outlinewidth": 0,
              "ticks": ""
             }
            },
            "type": "scatterternary"
           }
          ],
          "surface": [
           {
            "colorbar": {
             "outlinewidth": 0,
             "ticks": ""
            },
            "colorscale": [
             [
              0,
              "#0d0887"
             ],
             [
              0.1111111111111111,
              "#46039f"
             ],
             [
              0.2222222222222222,
              "#7201a8"
             ],
             [
              0.3333333333333333,
              "#9c179e"
             ],
             [
              0.4444444444444444,
              "#bd3786"
             ],
             [
              0.5555555555555556,
              "#d8576b"
             ],
             [
              0.6666666666666666,
              "#ed7953"
             ],
             [
              0.7777777777777778,
              "#fb9f3a"
             ],
             [
              0.8888888888888888,
              "#fdca26"
             ],
             [
              1,
              "#f0f921"
             ]
            ],
            "type": "surface"
           }
          ],
          "table": [
           {
            "cells": {
             "fill": {
              "color": "#EBF0F8"
             },
             "line": {
              "color": "white"
             }
            },
            "header": {
             "fill": {
              "color": "#C8D4E3"
             },
             "line": {
              "color": "white"
             }
            },
            "type": "table"
           }
          ]
         },
         "layout": {
          "annotationdefaults": {
           "arrowcolor": "#2a3f5f",
           "arrowhead": 0,
           "arrowwidth": 1
          },
          "autotypenumbers": "strict",
          "coloraxis": {
           "colorbar": {
            "outlinewidth": 0,
            "ticks": ""
           }
          },
          "colorscale": {
           "diverging": [
            [
             0,
             "#8e0152"
            ],
            [
             0.1,
             "#c51b7d"
            ],
            [
             0.2,
             "#de77ae"
            ],
            [
             0.3,
             "#f1b6da"
            ],
            [
             0.4,
             "#fde0ef"
            ],
            [
             0.5,
             "#f7f7f7"
            ],
            [
             0.6,
             "#e6f5d0"
            ],
            [
             0.7,
             "#b8e186"
            ],
            [
             0.8,
             "#7fbc41"
            ],
            [
             0.9,
             "#4d9221"
            ],
            [
             1,
             "#276419"
            ]
           ],
           "sequential": [
            [
             0,
             "#0d0887"
            ],
            [
             0.1111111111111111,
             "#46039f"
            ],
            [
             0.2222222222222222,
             "#7201a8"
            ],
            [
             0.3333333333333333,
             "#9c179e"
            ],
            [
             0.4444444444444444,
             "#bd3786"
            ],
            [
             0.5555555555555556,
             "#d8576b"
            ],
            [
             0.6666666666666666,
             "#ed7953"
            ],
            [
             0.7777777777777778,
             "#fb9f3a"
            ],
            [
             0.8888888888888888,
             "#fdca26"
            ],
            [
             1,
             "#f0f921"
            ]
           ],
           "sequentialminus": [
            [
             0,
             "#0d0887"
            ],
            [
             0.1111111111111111,
             "#46039f"
            ],
            [
             0.2222222222222222,
             "#7201a8"
            ],
            [
             0.3333333333333333,
             "#9c179e"
            ],
            [
             0.4444444444444444,
             "#bd3786"
            ],
            [
             0.5555555555555556,
             "#d8576b"
            ],
            [
             0.6666666666666666,
             "#ed7953"
            ],
            [
             0.7777777777777778,
             "#fb9f3a"
            ],
            [
             0.8888888888888888,
             "#fdca26"
            ],
            [
             1,
             "#f0f921"
            ]
           ]
          },
          "colorway": [
           "#636efa",
           "#EF553B",
           "#00cc96",
           "#ab63fa",
           "#FFA15A",
           "#19d3f3",
           "#FF6692",
           "#B6E880",
           "#FF97FF",
           "#FECB52"
          ],
          "font": {
           "color": "#2a3f5f"
          },
          "geo": {
           "bgcolor": "white",
           "lakecolor": "white",
           "landcolor": "#E5ECF6",
           "showlakes": true,
           "showland": true,
           "subunitcolor": "white"
          },
          "hoverlabel": {
           "align": "left"
          },
          "hovermode": "closest",
          "mapbox": {
           "style": "light"
          },
          "paper_bgcolor": "white",
          "plot_bgcolor": "#E5ECF6",
          "polar": {
           "angularaxis": {
            "gridcolor": "white",
            "linecolor": "white",
            "ticks": ""
           },
           "bgcolor": "#E5ECF6",
           "radialaxis": {
            "gridcolor": "white",
            "linecolor": "white",
            "ticks": ""
           }
          },
          "scene": {
           "xaxis": {
            "backgroundcolor": "#E5ECF6",
            "gridcolor": "white",
            "gridwidth": 2,
            "linecolor": "white",
            "showbackground": true,
            "ticks": "",
            "zerolinecolor": "white"
           },
           "yaxis": {
            "backgroundcolor": "#E5ECF6",
            "gridcolor": "white",
            "gridwidth": 2,
            "linecolor": "white",
            "showbackground": true,
            "ticks": "",
            "zerolinecolor": "white"
           },
           "zaxis": {
            "backgroundcolor": "#E5ECF6",
            "gridcolor": "white",
            "gridwidth": 2,
            "linecolor": "white",
            "showbackground": true,
            "ticks": "",
            "zerolinecolor": "white"
           }
          },
          "shapedefaults": {
           "line": {
            "color": "#2a3f5f"
           }
          },
          "ternary": {
           "aaxis": {
            "gridcolor": "white",
            "linecolor": "white",
            "ticks": ""
           },
           "baxis": {
            "gridcolor": "white",
            "linecolor": "white",
            "ticks": ""
           },
           "bgcolor": "#E5ECF6",
           "caxis": {
            "gridcolor": "white",
            "linecolor": "white",
            "ticks": ""
           }
          },
          "title": {
           "x": 0.05
          },
          "xaxis": {
           "automargin": true,
           "gridcolor": "white",
           "linecolor": "white",
           "ticks": "",
           "title": {
            "standoff": 15
           },
           "zerolinecolor": "white",
           "zerolinewidth": 2
          },
          "yaxis": {
           "automargin": true,
           "gridcolor": "white",
           "linecolor": "white",
           "ticks": "",
           "title": {
            "standoff": 15
           },
           "zerolinecolor": "white",
           "zerolinewidth": 2
          }
         }
        },
        "title": {
         "font": {
          "size": 22
         },
         "text": "Shuffleboard Usage Time Trend",
         "x": 0.5,
         "xanchor": "center",
         "y": 0.85
        },
        "width": 600,
        "xaxis": {
         "anchor": "y",
         "categoryarray": [
          "0-4",
          "5-9",
          "10-14",
          "15-19",
          "20-24",
          "25-29",
          "30-34",
          "35-39",
          "40-44",
          "45-49",
          "50-54",
          "55-59",
          "60-64",
          "65-69",
          "70-74",
          "75-79",
          "80-84",
          "85-89",
          "90-94",
          "95-99",
          "100-104",
          "105-109",
          "110-114",
          "115-119",
          "120-124"
         ],
         "categoryorder": "array",
         "domain": [
          0,
          1
         ],
         "tickfont": {
          "size": 16
         },
         "tickmode": "array",
         "ticktext": [
          "0",
          "25",
          "50",
          "75",
          "100",
          "125"
         ],
         "tickvals": [
          "0-4",
          "20-24",
          "45-49",
          "70-74",
          "95-99",
          "120-124"
         ],
         "title": {
          "font": {
           "size": 18
          },
          "text": "Duration (minutes)"
         }
        },
        "yaxis": {
         "anchor": "x",
         "domain": [
          0,
          1
         ],
         "gridcolor": "rgba(128, 128, 128, 0.5)",
         "tickfont": {
          "size": 16
         },
         "title": {
          "font": {
           "size": 18
          },
          "text": "# of Checkouts"
         }
        }
       }
      }
     },
     "metadata": {},
     "output_type": "display_data"
    },
    {
     "name": "stdout",
     "output_type": "stream",
     "text": [
      "Table Game Visualizations Complete!\n",
      "\n"
     ]
    }
   ],
   "source": [
    "import update_viz\n",
    "import importlib\n",
    "importlib.reload(update_viz)\n",
    "\n",
    "\n",
    "update_viz.run_table_game_visualizations(semester_name = \"../resources/viz/f23\", filepath = \"../clean_data/f23_table_games_cleaned.csv\")\n"
   ]
  },
  {
   "cell_type": "code",
   "execution_count": null,
   "metadata": {},
   "outputs": [],
   "source": []
  }
 ],
 "metadata": {
  "kernelspec": {
   "display_name": "Python 3",
   "language": "python",
   "name": "python3"
  },
  "language_info": {
   "codemirror_mode": {
    "name": "ipython",
    "version": 3
   },
   "file_extension": ".py",
   "mimetype": "text/x-python",
   "name": "python",
   "nbconvert_exporter": "python",
   "pygments_lexer": "ipython3",
   "version": "3.10.12"
  }
 },
 "nbformat": 4,
 "nbformat_minor": 2
}
