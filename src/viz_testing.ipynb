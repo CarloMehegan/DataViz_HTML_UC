{
 "cells": [
  {
   "cell_type": "markdown",
   "metadata": {},
   "source": [
    "# testing viz updating code"
   ]
  },
  {
   "cell_type": "code",
   "execution_count": 29,
   "metadata": {},
   "outputs": [
    {
     "name": "stdout",
     "output_type": "stream",
     "text": [
      "\n",
      "Starting All Visualizations...\n",
      "\n",
      "\n",
      "Running Video Game Visualizations...\n"
     ]
    },
    {
     "data": {
      "application/vnd.plotly.v1+json": {
       "config": {
        "plotlyServerURL": "https://plot.ly"
       },
       "data": [
        {
         "alignmentgroup": "True",
         "boxpoints": "all",
         "fillcolor": "rgba(255,255,255,0)",
         "hoveron": "points",
         "hovertemplate": "Console=%{x}<br>Duration (minutes)=%{y}<extra></extra>",
         "legendgroup": "",
         "line": {
          "color": "rgba(255,255,255,0)"
         },
         "marker": {
          "color": "#636efa",
          "opacity": 0.3
         },
         "name": "",
         "offsetgroup": "",
         "orientation": "v",
         "pointpos": 0,
         "showlegend": false,
         "type": "box",
         "x": [
          "Switch",
          "Switch",
          "Switch",
          "Switch",
          "Switch",
          "PlayStation",
          "Switch",
          "Xbox",
          "PlayStation",
          "Xbox",
          "Switch",
          "PlayStation",
          "Switch",
          "Xbox",
          "PlayStation",
          "Switch",
          "Xbox",
          "PlayStation",
          "Switch",
          "Xbox",
          "Switch",
          "Xbox",
          "PlayStation",
          "PlayStation",
          "Switch",
          "Xbox",
          "Switch",
          "Xbox",
          "Switch",
          "PlayStation",
          "Xbox",
          "Switch",
          "Xbox",
          "Switch",
          "Xbox",
          "Switch",
          "PlayStation",
          "PlayStation",
          "PlayStation",
          "Switch",
          "Xbox",
          "PlayStation",
          "Switch",
          "Switch",
          "PlayStation",
          "Switch",
          "Switch",
          "Switch",
          "PlayStation",
          "Switch",
          "Xbox",
          "Switch",
          "Switch",
          "PlayStation",
          "Switch",
          "PlayStation",
          "PlayStation",
          "Switch",
          "Switch",
          "Switch",
          "PlayStation",
          "Switch",
          "Xbox",
          "Switch",
          "Switch",
          "PlayStation",
          "Switch",
          "Switch",
          "Switch",
          "PlayStation",
          "Switch",
          "PlayStation",
          "Switch",
          "PlayStation",
          "Switch",
          "Switch",
          "PlayStation",
          "Switch",
          "Switch",
          "PlayStation",
          "Switch",
          "PlayStation",
          "Switch",
          "PlayStation",
          "Switch",
          "PlayStation",
          "Switch",
          "Xbox",
          "Switch",
          "Switch",
          "Xbox",
          "Switch",
          "PlayStation",
          "Xbox",
          "PlayStation",
          "Switch",
          "Xbox",
          "Switch",
          "Switch",
          "Xbox",
          "Switch",
          "Switch",
          "PlayStation",
          "PlayStation",
          "Switch",
          "PlayStation",
          "Switch",
          "PlayStation",
          "Switch",
          "Xbox",
          "Switch",
          "Xbox",
          "Switch",
          "PlayStation",
          "PlayStation",
          "Switch",
          "Switch",
          "Switch",
          "Switch",
          "Xbox",
          "Switch",
          "PlayStation",
          "PlayStation",
          "Switch",
          "Switch",
          "Switch",
          "Xbox",
          "PlayStation",
          "Switch",
          "Switch",
          "Switch",
          "PlayStation",
          "Switch",
          "Switch",
          "PlayStation",
          "PlayStation",
          "PlayStation",
          "Switch",
          "Switch",
          "Xbox",
          "Switch",
          "Switch",
          "PlayStation",
          "Switch",
          "PlayStation",
          "Switch",
          "PlayStation",
          "Switch",
          "Switch",
          "Switch",
          "PlayStation",
          "Switch",
          "Switch",
          "PlayStation",
          "Switch",
          "Switch",
          "PlayStation",
          "Switch",
          "Switch",
          "Switch",
          "Switch",
          "Switch",
          "Switch",
          "Switch",
          "PlayStation",
          "Xbox",
          "Switch",
          "Switch",
          "Switch",
          "Switch",
          "Switch",
          "Switch",
          "Switch",
          "Switch",
          "Xbox",
          "Switch",
          "Xbox",
          "Switch",
          "Switch",
          "PlayStation",
          "Switch",
          "Switch",
          "Switch",
          "PlayStation",
          "PlayStation",
          "Switch",
          "PlayStation",
          "Switch",
          "PlayStation",
          "Switch",
          "Xbox",
          "PlayStation",
          "Switch",
          "PlayStation",
          "PlayStation",
          "Switch",
          "Switch",
          "Switch",
          "PlayStation",
          "Switch",
          "Xbox",
          "PlayStation",
          "Xbox",
          "Switch",
          "Switch",
          "Xbox",
          "PlayStation",
          "PlayStation",
          "Switch",
          "PlayStation",
          "Switch",
          "PlayStation",
          "Switch",
          "Switch",
          "Xbox",
          "PlayStation",
          "Switch",
          "Switch",
          "PlayStation",
          "Switch",
          "Switch",
          "Switch",
          "PlayStation",
          "Switch",
          "PlayStation",
          "PlayStation",
          "PlayStation",
          "Switch",
          "Xbox",
          "Switch",
          "Switch",
          "PlayStation",
          "PlayStation",
          "Switch",
          "PlayStation",
          "Switch",
          "Switch",
          "Switch",
          "Xbox",
          "Switch",
          "PlayStation",
          "Switch",
          "Xbox",
          "Switch",
          "Xbox",
          "PlayStation",
          "PlayStation",
          "PlayStation",
          "PlayStation",
          "PlayStation",
          "Switch",
          "PlayStation",
          "Xbox",
          "Switch",
          "PlayStation",
          "PlayStation",
          "Xbox",
          "Switch",
          "Switch",
          "Xbox",
          "Switch",
          "PlayStation",
          "PlayStation",
          "Xbox",
          "Switch",
          "PlayStation",
          "Xbox",
          "PlayStation",
          "Xbox",
          "Switch",
          "Switch",
          "Xbox",
          "Switch",
          "Switch",
          "Switch",
          "Switch",
          "Xbox",
          "Switch",
          "Xbox",
          "Switch",
          "PlayStation",
          "Switch",
          "Switch",
          "PlayStation",
          "Switch",
          "PlayStation",
          "Switch",
          "PlayStation",
          "Switch",
          "PlayStation",
          "Switch",
          "Xbox",
          "PlayStation",
          "Switch",
          "Switch",
          "Xbox",
          "Switch",
          "PlayStation",
          "Switch",
          "Xbox",
          "Switch",
          "Xbox",
          "Switch",
          "Switch",
          "Xbox",
          "Xbox",
          "Switch",
          "PlayStation",
          "Switch",
          "Xbox",
          "Switch",
          "Xbox",
          "Switch",
          "Xbox",
          "PlayStation",
          "Switch",
          "Switch",
          "Switch",
          "Switch",
          "Xbox",
          "Switch",
          "Switch",
          "Xbox",
          "Xbox",
          "Switch",
          "Switch",
          "Xbox",
          "PlayStation",
          "Xbox",
          "Switch",
          "PlayStation",
          "Xbox",
          "Xbox",
          "Switch",
          "PlayStation",
          "Xbox",
          "Xbox",
          "Switch",
          "Switch",
          "Switch",
          "Switch",
          "Switch",
          "Xbox",
          "Switch",
          "PlayStation",
          "Switch",
          "Xbox",
          "Xbox",
          "PlayStation",
          "Xbox",
          "Switch",
          "Switch",
          "Xbox",
          "Switch",
          "Switch",
          "PlayStation",
          "Xbox",
          "Xbox",
          "Xbox",
          "Switch",
          "Xbox",
          "Switch",
          "PlayStation",
          "Switch",
          "Xbox",
          "Xbox",
          "Switch",
          "PlayStation",
          "Xbox",
          "Switch",
          "Xbox",
          "Switch",
          "PlayStation",
          "Switch",
          "Switch",
          "PlayStation",
          "Switch",
          "PlayStation",
          "Switch",
          "Switch",
          "Xbox",
          "PlayStation",
          "Switch",
          "Switch",
          "Xbox",
          "Switch",
          "PlayStation",
          "PlayStation",
          "Xbox",
          "Switch",
          "Switch",
          "Switch",
          "Switch",
          "PlayStation",
          "Switch",
          "PlayStation",
          "PlayStation",
          "Switch",
          "PlayStation",
          "Switch",
          "Switch",
          "Xbox",
          "Switch",
          "Switch",
          "PlayStation",
          "Xbox",
          "PlayStation",
          "Switch",
          "Switch",
          "Switch",
          "PlayStation",
          "Switch",
          "Switch",
          "Switch",
          "PlayStation",
          "Xbox",
          "Switch",
          "Xbox",
          "Switch",
          "PlayStation",
          "Switch",
          "PlayStation",
          "PlayStation",
          "Xbox",
          "PlayStation",
          "Xbox",
          "Switch",
          "PlayStation",
          "Switch",
          "PlayStation",
          "Switch",
          "Switch",
          "Xbox",
          "PlayStation",
          "Switch",
          "Switch",
          "Switch",
          "PlayStation",
          "Switch",
          "PlayStation",
          "Switch",
          "Switch",
          "Xbox",
          "PlayStation",
          "Xbox",
          "Xbox",
          "PlayStation",
          "Switch",
          "Switch",
          "PlayStation",
          "PlayStation",
          "Xbox",
          "Switch",
          "Switch",
          "Switch",
          "PlayStation",
          "Switch",
          "Switch",
          "Switch",
          "Xbox",
          "Switch",
          "Xbox",
          "Switch",
          "Switch",
          "PlayStation",
          "Xbox",
          "Switch",
          "Xbox",
          "Switch",
          "Switch",
          "Switch",
          "Xbox",
          "Switch",
          "Switch",
          "Switch",
          "Xbox",
          "PlayStation",
          "Switch",
          "PlayStation",
          "Switch",
          "Switch",
          "PlayStation",
          "PlayStation",
          "Switch",
          "Switch",
          "Xbox",
          "Switch",
          "PlayStation",
          "Switch",
          "Xbox",
          "Switch",
          "Switch",
          "Xbox",
          "Switch",
          "Switch",
          "Xbox",
          "Xbox",
          "Xbox",
          "Switch",
          "Xbox",
          "Xbox",
          "Switch",
          "Xbox",
          "Xbox",
          "Xbox",
          "PlayStation",
          "Xbox",
          "Switch",
          "Switch",
          "Xbox",
          "PlayStation",
          "PlayStation",
          "Xbox",
          "Switch",
          "Xbox",
          "PlayStation",
          "Xbox",
          "PlayStation",
          "Switch",
          "Xbox",
          "Switch",
          "PlayStation",
          "Xbox",
          "Xbox",
          "Xbox",
          "Xbox",
          "Switch",
          "Xbox",
          "Switch",
          "PlayStation",
          "Switch"
         ],
         "x0": " ",
         "xaxis": "x",
         "y": [
          51,
          94,
          19,
          23,
          12,
          51,
          9,
          54,
          81,
          15,
          50,
          98,
          51,
          37,
          24,
          29,
          3,
          33,
          32,
          11,
          47,
          12,
          29,
          34,
          58,
          36,
          27,
          46,
          77,
          54,
          52,
          60,
          6,
          73,
          20,
          30,
          60,
          41,
          46,
          35,
          33,
          28,
          27,
          22,
          52,
          63,
          53,
          20,
          64,
          61,
          25,
          44,
          106,
          8,
          67,
          39,
          23,
          65,
          155,
          27,
          61,
          31,
          45,
          24,
          33,
          77,
          57,
          35,
          83,
          41,
          19,
          43,
          52,
          92,
          29,
          24,
          55,
          53,
          73,
          37,
          58,
          16,
          70,
          60,
          43,
          29,
          82,
          48,
          31,
          33,
          17,
          172,
          153,
          50,
          20,
          137,
          157,
          34,
          79,
          44,
          47,
          45,
          14,
          9,
          64,
          7,
          20,
          19,
          40,
          2,
          59,
          62,
          37,
          15,
          131,
          130,
          75,
          27,
          65,
          44,
          78,
          23,
          55,
          19,
          61,
          105,
          26,
          55,
          34,
          74,
          88,
          61,
          46,
          52,
          152,
          60,
          50,
          243,
          23,
          40,
          19,
          45,
          75,
          70,
          57,
          25,
          34,
          70,
          125,
          95,
          83,
          95,
          55,
          157,
          25,
          14,
          69,
          320,
          84,
          29,
          66,
          109,
          62,
          78,
          162,
          120,
          46,
          72,
          23,
          24,
          53,
          62,
          22,
          18,
          93,
          40,
          127,
          95,
          70,
          106,
          41,
          57,
          18,
          21,
          77,
          167,
          32,
          52,
          100,
          15,
          42,
          94,
          65,
          49,
          86,
          26,
          38,
          75,
          125,
          61,
          25,
          18,
          62,
          40,
          126,
          51,
          27,
          99,
          20,
          57,
          54,
          44,
          82,
          49,
          7,
          1,
          44,
          78,
          49,
          21,
          21,
          20,
          47,
          42,
          54,
          61,
          38,
          46,
          49,
          73,
          88,
          83,
          163,
          63,
          34,
          52,
          37,
          19,
          22,
          20,
          33,
          55,
          50,
          129,
          20,
          64,
          25,
          33,
          50,
          38,
          44,
          51,
          54,
          22,
          49,
          21,
          32,
          49,
          21,
          36,
          96,
          65,
          193,
          196,
          141,
          27,
          72,
          28,
          47,
          111,
          19,
          50,
          18,
          88,
          60,
          78,
          72,
          53,
          25,
          69,
          54,
          27,
          131,
          50,
          55,
          77,
          22,
          57,
          36,
          39,
          140,
          67,
          27,
          139,
          31,
          38,
          34,
          2,
          45,
          204,
          40,
          59,
          59,
          20,
          113,
          41,
          53,
          87,
          40,
          201,
          75,
          142,
          46,
          56,
          65,
          17,
          2,
          50,
          62,
          29,
          25,
          111,
          75,
          95,
          58,
          153,
          59,
          34,
          48,
          56,
          40,
          124,
          91,
          50,
          57,
          52,
          129,
          43,
          75,
          15,
          48,
          129,
          59,
          82,
          54,
          16,
          57,
          31,
          175,
          66,
          40,
          85,
          49,
          40,
          84,
          12,
          19,
          139,
          61,
          122,
          53,
          36,
          85,
          95,
          59,
          30,
          41,
          10,
          19,
          33,
          40,
          45,
          60,
          99,
          51,
          44,
          83,
          97,
          57,
          129,
          196,
          52,
          5,
          41,
          48,
          32,
          48,
          61,
          53,
          52,
          100,
          53,
          41,
          48,
          41,
          3,
          135,
          73,
          54,
          39,
          68,
          33,
          50,
          124,
          65,
          114,
          43,
          18,
          126,
          31,
          92,
          32,
          67,
          42,
          55,
          48,
          53,
          99,
          21,
          163,
          122,
          35,
          33,
          25,
          37,
          144,
          33,
          120,
          138,
          59,
          162,
          43,
          35,
          150,
          146,
          58,
          115,
          93,
          18,
          16,
          59,
          96,
          93,
          67,
          27,
          33,
          16,
          56,
          132,
          240,
          76,
          76,
          41,
          32,
          23,
          87,
          20,
          63,
          45,
          37,
          177,
          74,
          42,
          72,
          97,
          29,
          56,
          84,
          18,
          42,
          9,
          160,
          109,
          89,
          51,
          65,
          36,
          22,
          21,
          148,
          68,
          25,
          27,
          28,
          38,
          62,
          37,
          63,
          177,
          158,
          102,
          99,
          158,
          87,
          41,
          66,
          40,
          157,
          97,
          68,
          67,
          27,
          151,
          88,
          86,
          85,
          40,
          78,
          69,
          78,
          27,
          142,
          58,
          114,
          186,
          80,
          65,
          83,
          63,
          111,
          33,
          54,
          119,
          39,
          26,
          180,
          71,
          68,
          27,
          32,
          68
         ],
         "y0": " ",
         "yaxis": "y"
        },
        {
         "hoverinfo": "skip",
         "marker": {
          "color": "green",
          "opacity": 0.5
         },
         "type": "box",
         "x": [
          "Switch",
          "Switch",
          "Switch",
          "Switch",
          "Switch",
          "PlayStation",
          "Switch",
          "Xbox",
          "PlayStation",
          "Xbox",
          "Switch",
          "PlayStation",
          "Switch",
          "Xbox",
          "PlayStation",
          "Switch",
          "Xbox",
          "PlayStation",
          "Switch",
          "Xbox",
          "Switch",
          "Xbox",
          "PlayStation",
          "PlayStation",
          "Switch",
          "Xbox",
          "Switch",
          "Xbox",
          "Switch",
          "PlayStation",
          "Xbox",
          "Switch",
          "Xbox",
          "Switch",
          "Xbox",
          "Switch",
          "PlayStation",
          "PlayStation",
          "PlayStation",
          "Switch",
          "Xbox",
          "PlayStation",
          "Switch",
          "Switch",
          "PlayStation",
          "Switch",
          "Switch",
          "Switch",
          "PlayStation",
          "Switch",
          "Xbox",
          "Switch",
          "Switch",
          "PlayStation",
          "Switch",
          "PlayStation",
          "PlayStation",
          "Switch",
          "Switch",
          "Switch",
          "PlayStation",
          "Switch",
          "Xbox",
          "Switch",
          "Switch",
          "PlayStation",
          "Switch",
          "Switch",
          "Switch",
          "PlayStation",
          "Switch",
          "PlayStation",
          "Switch",
          "PlayStation",
          "Switch",
          "Switch",
          "PlayStation",
          "Switch",
          "Switch",
          "PlayStation",
          "Switch",
          "PlayStation",
          "Switch",
          "PlayStation",
          "Switch",
          "PlayStation",
          "Switch",
          "Xbox",
          "Switch",
          "Switch",
          "Xbox",
          "Switch",
          "PlayStation",
          "Xbox",
          "PlayStation",
          "Switch",
          "Xbox",
          "Switch",
          "Switch",
          "Xbox",
          "Switch",
          "Switch",
          "PlayStation",
          "PlayStation",
          "Switch",
          "PlayStation",
          "Switch",
          "PlayStation",
          "Switch",
          "Xbox",
          "Switch",
          "Xbox",
          "Switch",
          "PlayStation",
          "PlayStation",
          "Switch",
          "Switch",
          "Switch",
          "Switch",
          "Xbox",
          "Switch",
          "PlayStation",
          "PlayStation",
          "Switch",
          "Switch",
          "Switch",
          "Xbox",
          "PlayStation",
          "Switch",
          "Switch",
          "Switch",
          "PlayStation",
          "Switch",
          "Switch",
          "PlayStation",
          "PlayStation",
          "PlayStation",
          "Switch",
          "Switch",
          "Xbox",
          "Switch",
          "Switch",
          "PlayStation",
          "Switch",
          "PlayStation",
          "Switch",
          "PlayStation",
          "Switch",
          "Switch",
          "Switch",
          "PlayStation",
          "Switch",
          "Switch",
          "PlayStation",
          "Switch",
          "Switch",
          "PlayStation",
          "Switch",
          "Switch",
          "Switch",
          "Switch",
          "Switch",
          "Switch",
          "Switch",
          "PlayStation",
          "Xbox",
          "Switch",
          "Switch",
          "Switch",
          "Switch",
          "Switch",
          "Switch",
          "Switch",
          "Switch",
          "Xbox",
          "Switch",
          "Xbox",
          "Switch",
          "Switch",
          "PlayStation",
          "Switch",
          "Switch",
          "Switch",
          "PlayStation",
          "PlayStation",
          "Switch",
          "PlayStation",
          "Switch",
          "PlayStation",
          "Switch",
          "Xbox",
          "PlayStation",
          "Switch",
          "PlayStation",
          "PlayStation",
          "Switch",
          "Switch",
          "Switch",
          "PlayStation",
          "Switch",
          "Xbox",
          "PlayStation",
          "Xbox",
          "Switch",
          "Switch",
          "Xbox",
          "PlayStation",
          "PlayStation",
          "Switch",
          "PlayStation",
          "Switch",
          "PlayStation",
          "Switch",
          "Switch",
          "Xbox",
          "PlayStation",
          "Switch",
          "Switch",
          "PlayStation",
          "Switch",
          "Switch",
          "Switch",
          "PlayStation",
          "Switch",
          "PlayStation",
          "PlayStation",
          "PlayStation",
          "Switch",
          "Xbox",
          "Switch",
          "Switch",
          "PlayStation",
          "PlayStation",
          "Switch",
          "PlayStation",
          "Switch",
          "Switch",
          "Switch",
          "Xbox",
          "Switch",
          "PlayStation",
          "Switch",
          "Xbox",
          "Switch",
          "Xbox",
          "PlayStation",
          "PlayStation",
          "PlayStation",
          "PlayStation",
          "PlayStation",
          "Switch",
          "PlayStation",
          "Xbox",
          "Switch",
          "PlayStation",
          "PlayStation",
          "Xbox",
          "Switch",
          "Switch",
          "Xbox",
          "Switch",
          "PlayStation",
          "PlayStation",
          "Xbox",
          "Switch",
          "PlayStation",
          "Xbox",
          "PlayStation",
          "Xbox",
          "Switch",
          "Switch",
          "Xbox",
          "Switch",
          "Switch",
          "Switch",
          "Switch",
          "Xbox",
          "Switch",
          "Xbox",
          "Switch",
          "PlayStation",
          "Switch",
          "Switch",
          "PlayStation",
          "Switch",
          "PlayStation",
          "Switch",
          "PlayStation",
          "Switch",
          "PlayStation",
          "Switch",
          "Xbox",
          "PlayStation",
          "Switch",
          "Switch",
          "Xbox",
          "Switch",
          "PlayStation",
          "Switch",
          "Xbox",
          "Switch",
          "Xbox",
          "Switch",
          "Switch",
          "Xbox",
          "Xbox",
          "Switch",
          "PlayStation",
          "Switch",
          "Xbox",
          "Switch",
          "Xbox",
          "Switch",
          "Xbox",
          "PlayStation",
          "Switch",
          "Switch",
          "Switch",
          "Switch",
          "Xbox",
          "Switch",
          "Switch",
          "Xbox",
          "Xbox",
          "Switch",
          "Switch",
          "Xbox",
          "PlayStation",
          "Xbox",
          "Switch",
          "PlayStation",
          "Xbox",
          "Xbox",
          "Switch",
          "PlayStation",
          "Xbox",
          "Xbox",
          "Switch",
          "Switch",
          "Switch",
          "Switch",
          "Switch",
          "Xbox",
          "Switch",
          "PlayStation",
          "Switch",
          "Xbox",
          "Xbox",
          "PlayStation",
          "Xbox",
          "Switch",
          "Switch",
          "Xbox",
          "Switch",
          "Switch",
          "PlayStation",
          "Xbox",
          "Xbox",
          "Xbox",
          "Switch",
          "Xbox",
          "Switch",
          "PlayStation",
          "Switch",
          "Xbox",
          "Xbox",
          "Switch",
          "PlayStation",
          "Xbox",
          "Switch",
          "Xbox",
          "Switch",
          "PlayStation",
          "Switch",
          "Switch",
          "PlayStation",
          "Switch",
          "PlayStation",
          "Switch",
          "Switch",
          "Xbox",
          "PlayStation",
          "Switch",
          "Switch",
          "Xbox",
          "Switch",
          "PlayStation",
          "PlayStation",
          "Xbox",
          "Switch",
          "Switch",
          "Switch",
          "Switch",
          "PlayStation",
          "Switch",
          "PlayStation",
          "PlayStation",
          "Switch",
          "PlayStation",
          "Switch",
          "Switch",
          "Xbox",
          "Switch",
          "Switch",
          "PlayStation",
          "Xbox",
          "PlayStation",
          "Switch",
          "Switch",
          "Switch",
          "PlayStation",
          "Switch",
          "Switch",
          "Switch",
          "PlayStation",
          "Xbox",
          "Switch",
          "Xbox",
          "Switch",
          "PlayStation",
          "Switch",
          "PlayStation",
          "PlayStation",
          "Xbox",
          "PlayStation",
          "Xbox",
          "Switch",
          "PlayStation",
          "Switch",
          "PlayStation",
          "Switch",
          "Switch",
          "Xbox",
          "PlayStation",
          "Switch",
          "Switch",
          "Switch",
          "PlayStation",
          "Switch",
          "PlayStation",
          "Switch",
          "Switch",
          "Xbox",
          "PlayStation",
          "Xbox",
          "Xbox",
          "PlayStation",
          "Switch",
          "Switch",
          "PlayStation",
          "PlayStation",
          "Xbox",
          "Switch",
          "Switch",
          "Switch",
          "PlayStation",
          "Switch",
          "Switch",
          "Switch",
          "Xbox",
          "Switch",
          "Xbox",
          "Switch",
          "Switch",
          "PlayStation",
          "Xbox",
          "Switch",
          "Xbox",
          "Switch",
          "Switch",
          "Switch",
          "Xbox",
          "Switch",
          "Switch",
          "Switch",
          "Xbox",
          "PlayStation",
          "Switch",
          "PlayStation",
          "Switch",
          "Switch",
          "PlayStation",
          "PlayStation",
          "Switch",
          "Switch",
          "Xbox",
          "Switch",
          "PlayStation",
          "Switch",
          "Xbox",
          "Switch",
          "Switch",
          "Xbox",
          "Switch",
          "Switch",
          "Xbox",
          "Xbox",
          "Xbox",
          "Switch",
          "Xbox",
          "Xbox",
          "Switch",
          "Xbox",
          "Xbox",
          "Xbox",
          "PlayStation",
          "Xbox",
          "Switch",
          "Switch",
          "Xbox",
          "PlayStation",
          "PlayStation",
          "Xbox",
          "Switch",
          "Xbox",
          "PlayStation",
          "Xbox",
          "PlayStation",
          "Switch",
          "Xbox",
          "Switch",
          "PlayStation",
          "Xbox",
          "Xbox",
          "Xbox",
          "Xbox",
          "Switch",
          "Xbox",
          "Switch",
          "PlayStation",
          "Switch"
         ],
         "y": [
          51,
          94,
          19,
          23,
          12,
          51,
          9,
          54,
          81,
          15,
          50,
          98,
          51,
          37,
          24,
          29,
          3,
          33,
          32,
          11,
          47,
          12,
          29,
          34,
          58,
          36,
          27,
          46,
          77,
          54,
          52,
          60,
          6,
          73,
          20,
          30,
          60,
          41,
          46,
          35,
          33,
          28,
          27,
          22,
          52,
          63,
          53,
          20,
          64,
          61,
          25,
          44,
          106,
          8,
          67,
          39,
          23,
          65,
          155,
          27,
          61,
          31,
          45,
          24,
          33,
          77,
          57,
          35,
          83,
          41,
          19,
          43,
          52,
          92,
          29,
          24,
          55,
          53,
          73,
          37,
          58,
          16,
          70,
          60,
          43,
          29,
          82,
          48,
          31,
          33,
          17,
          172,
          153,
          50,
          20,
          137,
          157,
          34,
          79,
          44,
          47,
          45,
          14,
          9,
          64,
          7,
          20,
          19,
          40,
          2,
          59,
          62,
          37,
          15,
          131,
          130,
          75,
          27,
          65,
          44,
          78,
          23,
          55,
          19,
          61,
          105,
          26,
          55,
          34,
          74,
          88,
          61,
          46,
          52,
          152,
          60,
          50,
          243,
          23,
          40,
          19,
          45,
          75,
          70,
          57,
          25,
          34,
          70,
          125,
          95,
          83,
          95,
          55,
          157,
          25,
          14,
          69,
          320,
          84,
          29,
          66,
          109,
          62,
          78,
          162,
          120,
          46,
          72,
          23,
          24,
          53,
          62,
          22,
          18,
          93,
          40,
          127,
          95,
          70,
          106,
          41,
          57,
          18,
          21,
          77,
          167,
          32,
          52,
          100,
          15,
          42,
          94,
          65,
          49,
          86,
          26,
          38,
          75,
          125,
          61,
          25,
          18,
          62,
          40,
          126,
          51,
          27,
          99,
          20,
          57,
          54,
          44,
          82,
          49,
          7,
          1,
          44,
          78,
          49,
          21,
          21,
          20,
          47,
          42,
          54,
          61,
          38,
          46,
          49,
          73,
          88,
          83,
          163,
          63,
          34,
          52,
          37,
          19,
          22,
          20,
          33,
          55,
          50,
          129,
          20,
          64,
          25,
          33,
          50,
          38,
          44,
          51,
          54,
          22,
          49,
          21,
          32,
          49,
          21,
          36,
          96,
          65,
          193,
          196,
          141,
          27,
          72,
          28,
          47,
          111,
          19,
          50,
          18,
          88,
          60,
          78,
          72,
          53,
          25,
          69,
          54,
          27,
          131,
          50,
          55,
          77,
          22,
          57,
          36,
          39,
          140,
          67,
          27,
          139,
          31,
          38,
          34,
          2,
          45,
          204,
          40,
          59,
          59,
          20,
          113,
          41,
          53,
          87,
          40,
          201,
          75,
          142,
          46,
          56,
          65,
          17,
          2,
          50,
          62,
          29,
          25,
          111,
          75,
          95,
          58,
          153,
          59,
          34,
          48,
          56,
          40,
          124,
          91,
          50,
          57,
          52,
          129,
          43,
          75,
          15,
          48,
          129,
          59,
          82,
          54,
          16,
          57,
          31,
          175,
          66,
          40,
          85,
          49,
          40,
          84,
          12,
          19,
          139,
          61,
          122,
          53,
          36,
          85,
          95,
          59,
          30,
          41,
          10,
          19,
          33,
          40,
          45,
          60,
          99,
          51,
          44,
          83,
          97,
          57,
          129,
          196,
          52,
          5,
          41,
          48,
          32,
          48,
          61,
          53,
          52,
          100,
          53,
          41,
          48,
          41,
          3,
          135,
          73,
          54,
          39,
          68,
          33,
          50,
          124,
          65,
          114,
          43,
          18,
          126,
          31,
          92,
          32,
          67,
          42,
          55,
          48,
          53,
          99,
          21,
          163,
          122,
          35,
          33,
          25,
          37,
          144,
          33,
          120,
          138,
          59,
          162,
          43,
          35,
          150,
          146,
          58,
          115,
          93,
          18,
          16,
          59,
          96,
          93,
          67,
          27,
          33,
          16,
          56,
          132,
          240,
          76,
          76,
          41,
          32,
          23,
          87,
          20,
          63,
          45,
          37,
          177,
          74,
          42,
          72,
          97,
          29,
          56,
          84,
          18,
          42,
          9,
          160,
          109,
          89,
          51,
          65,
          36,
          22,
          21,
          148,
          68,
          25,
          27,
          28,
          38,
          62,
          37,
          63,
          177,
          158,
          102,
          99,
          158,
          87,
          41,
          66,
          40,
          157,
          97,
          68,
          67,
          27,
          151,
          88,
          86,
          85,
          40,
          78,
          69,
          78,
          27,
          142,
          58,
          114,
          186,
          80,
          65,
          83,
          63,
          111,
          33,
          54,
          119,
          39,
          26,
          180,
          71,
          68,
          27,
          32,
          68
         ]
        }
       ],
       "layout": {
        "boxmode": "overlay",
        "height": 400,
        "legend": {
         "tracegroupgap": 0
        },
        "paper_bgcolor": "rgba(255,255,255,1)",
        "plot_bgcolor": "rgba(255,255,255,1)",
        "showlegend": false,
        "template": {
         "data": {
          "bar": [
           {
            "error_x": {
             "color": "#2a3f5f"
            },
            "error_y": {
             "color": "#2a3f5f"
            },
            "marker": {
             "line": {
              "color": "#E5ECF6",
              "width": 0.5
             },
             "pattern": {
              "fillmode": "overlay",
              "size": 10,
              "solidity": 0.2
             }
            },
            "type": "bar"
           }
          ],
          "barpolar": [
           {
            "marker": {
             "line": {
              "color": "#E5ECF6",
              "width": 0.5
             },
             "pattern": {
              "fillmode": "overlay",
              "size": 10,
              "solidity": 0.2
             }
            },
            "type": "barpolar"
           }
          ],
          "carpet": [
           {
            "aaxis": {
             "endlinecolor": "#2a3f5f",
             "gridcolor": "white",
             "linecolor": "white",
             "minorgridcolor": "white",
             "startlinecolor": "#2a3f5f"
            },
            "baxis": {
             "endlinecolor": "#2a3f5f",
             "gridcolor": "white",
             "linecolor": "white",
             "minorgridcolor": "white",
             "startlinecolor": "#2a3f5f"
            },
            "type": "carpet"
           }
          ],
          "choropleth": [
           {
            "colorbar": {
             "outlinewidth": 0,
             "ticks": ""
            },
            "type": "choropleth"
           }
          ],
          "contour": [
           {
            "colorbar": {
             "outlinewidth": 0,
             "ticks": ""
            },
            "colorscale": [
             [
              0,
              "#0d0887"
             ],
             [
              0.1111111111111111,
              "#46039f"
             ],
             [
              0.2222222222222222,
              "#7201a8"
             ],
             [
              0.3333333333333333,
              "#9c179e"
             ],
             [
              0.4444444444444444,
              "#bd3786"
             ],
             [
              0.5555555555555556,
              "#d8576b"
             ],
             [
              0.6666666666666666,
              "#ed7953"
             ],
             [
              0.7777777777777778,
              "#fb9f3a"
             ],
             [
              0.8888888888888888,
              "#fdca26"
             ],
             [
              1,
              "#f0f921"
             ]
            ],
            "type": "contour"
           }
          ],
          "contourcarpet": [
           {
            "colorbar": {
             "outlinewidth": 0,
             "ticks": ""
            },
            "type": "contourcarpet"
           }
          ],
          "heatmap": [
           {
            "colorbar": {
             "outlinewidth": 0,
             "ticks": ""
            },
            "colorscale": [
             [
              0,
              "#0d0887"
             ],
             [
              0.1111111111111111,
              "#46039f"
             ],
             [
              0.2222222222222222,
              "#7201a8"
             ],
             [
              0.3333333333333333,
              "#9c179e"
             ],
             [
              0.4444444444444444,
              "#bd3786"
             ],
             [
              0.5555555555555556,
              "#d8576b"
             ],
             [
              0.6666666666666666,
              "#ed7953"
             ],
             [
              0.7777777777777778,
              "#fb9f3a"
             ],
             [
              0.8888888888888888,
              "#fdca26"
             ],
             [
              1,
              "#f0f921"
             ]
            ],
            "type": "heatmap"
           }
          ],
          "heatmapgl": [
           {
            "colorbar": {
             "outlinewidth": 0,
             "ticks": ""
            },
            "colorscale": [
             [
              0,
              "#0d0887"
             ],
             [
              0.1111111111111111,
              "#46039f"
             ],
             [
              0.2222222222222222,
              "#7201a8"
             ],
             [
              0.3333333333333333,
              "#9c179e"
             ],
             [
              0.4444444444444444,
              "#bd3786"
             ],
             [
              0.5555555555555556,
              "#d8576b"
             ],
             [
              0.6666666666666666,
              "#ed7953"
             ],
             [
              0.7777777777777778,
              "#fb9f3a"
             ],
             [
              0.8888888888888888,
              "#fdca26"
             ],
             [
              1,
              "#f0f921"
             ]
            ],
            "type": "heatmapgl"
           }
          ],
          "histogram": [
           {
            "marker": {
             "pattern": {
              "fillmode": "overlay",
              "size": 10,
              "solidity": 0.2
             }
            },
            "type": "histogram"
           }
          ],
          "histogram2d": [
           {
            "colorbar": {
             "outlinewidth": 0,
             "ticks": ""
            },
            "colorscale": [
             [
              0,
              "#0d0887"
             ],
             [
              0.1111111111111111,
              "#46039f"
             ],
             [
              0.2222222222222222,
              "#7201a8"
             ],
             [
              0.3333333333333333,
              "#9c179e"
             ],
             [
              0.4444444444444444,
              "#bd3786"
             ],
             [
              0.5555555555555556,
              "#d8576b"
             ],
             [
              0.6666666666666666,
              "#ed7953"
             ],
             [
              0.7777777777777778,
              "#fb9f3a"
             ],
             [
              0.8888888888888888,
              "#fdca26"
             ],
             [
              1,
              "#f0f921"
             ]
            ],
            "type": "histogram2d"
           }
          ],
          "histogram2dcontour": [
           {
            "colorbar": {
             "outlinewidth": 0,
             "ticks": ""
            },
            "colorscale": [
             [
              0,
              "#0d0887"
             ],
             [
              0.1111111111111111,
              "#46039f"
             ],
             [
              0.2222222222222222,
              "#7201a8"
             ],
             [
              0.3333333333333333,
              "#9c179e"
             ],
             [
              0.4444444444444444,
              "#bd3786"
             ],
             [
              0.5555555555555556,
              "#d8576b"
             ],
             [
              0.6666666666666666,
              "#ed7953"
             ],
             [
              0.7777777777777778,
              "#fb9f3a"
             ],
             [
              0.8888888888888888,
              "#fdca26"
             ],
             [
              1,
              "#f0f921"
             ]
            ],
            "type": "histogram2dcontour"
           }
          ],
          "mesh3d": [
           {
            "colorbar": {
             "outlinewidth": 0,
             "ticks": ""
            },
            "type": "mesh3d"
           }
          ],
          "parcoords": [
           {
            "line": {
             "colorbar": {
              "outlinewidth": 0,
              "ticks": ""
             }
            },
            "type": "parcoords"
           }
          ],
          "pie": [
           {
            "automargin": true,
            "type": "pie"
           }
          ],
          "scatter": [
           {
            "fillpattern": {
             "fillmode": "overlay",
             "size": 10,
             "solidity": 0.2
            },
            "type": "scatter"
           }
          ],
          "scatter3d": [
           {
            "line": {
             "colorbar": {
              "outlinewidth": 0,
              "ticks": ""
             }
            },
            "marker": {
             "colorbar": {
              "outlinewidth": 0,
              "ticks": ""
             }
            },
            "type": "scatter3d"
           }
          ],
          "scattercarpet": [
           {
            "marker": {
             "colorbar": {
              "outlinewidth": 0,
              "ticks": ""
             }
            },
            "type": "scattercarpet"
           }
          ],
          "scattergeo": [
           {
            "marker": {
             "colorbar": {
              "outlinewidth": 0,
              "ticks": ""
             }
            },
            "type": "scattergeo"
           }
          ],
          "scattergl": [
           {
            "marker": {
             "colorbar": {
              "outlinewidth": 0,
              "ticks": ""
             }
            },
            "type": "scattergl"
           }
          ],
          "scattermapbox": [
           {
            "marker": {
             "colorbar": {
              "outlinewidth": 0,
              "ticks": ""
             }
            },
            "type": "scattermapbox"
           }
          ],
          "scatterpolar": [
           {
            "marker": {
             "colorbar": {
              "outlinewidth": 0,
              "ticks": ""
             }
            },
            "type": "scatterpolar"
           }
          ],
          "scatterpolargl": [
           {
            "marker": {
             "colorbar": {
              "outlinewidth": 0,
              "ticks": ""
             }
            },
            "type": "scatterpolargl"
           }
          ],
          "scatterternary": [
           {
            "marker": {
             "colorbar": {
              "outlinewidth": 0,
              "ticks": ""
             }
            },
            "type": "scatterternary"
           }
          ],
          "surface": [
           {
            "colorbar": {
             "outlinewidth": 0,
             "ticks": ""
            },
            "colorscale": [
             [
              0,
              "#0d0887"
             ],
             [
              0.1111111111111111,
              "#46039f"
             ],
             [
              0.2222222222222222,
              "#7201a8"
             ],
             [
              0.3333333333333333,
              "#9c179e"
             ],
             [
              0.4444444444444444,
              "#bd3786"
             ],
             [
              0.5555555555555556,
              "#d8576b"
             ],
             [
              0.6666666666666666,
              "#ed7953"
             ],
             [
              0.7777777777777778,
              "#fb9f3a"
             ],
             [
              0.8888888888888888,
              "#fdca26"
             ],
             [
              1,
              "#f0f921"
             ]
            ],
            "type": "surface"
           }
          ],
          "table": [
           {
            "cells": {
             "fill": {
              "color": "#EBF0F8"
             },
             "line": {
              "color": "white"
             }
            },
            "header": {
             "fill": {
              "color": "#C8D4E3"
             },
             "line": {
              "color": "white"
             }
            },
            "type": "table"
           }
          ]
         },
         "layout": {
          "annotationdefaults": {
           "arrowcolor": "#2a3f5f",
           "arrowhead": 0,
           "arrowwidth": 1
          },
          "autotypenumbers": "strict",
          "coloraxis": {
           "colorbar": {
            "outlinewidth": 0,
            "ticks": ""
           }
          },
          "colorscale": {
           "diverging": [
            [
             0,
             "#8e0152"
            ],
            [
             0.1,
             "#c51b7d"
            ],
            [
             0.2,
             "#de77ae"
            ],
            [
             0.3,
             "#f1b6da"
            ],
            [
             0.4,
             "#fde0ef"
            ],
            [
             0.5,
             "#f7f7f7"
            ],
            [
             0.6,
             "#e6f5d0"
            ],
            [
             0.7,
             "#b8e186"
            ],
            [
             0.8,
             "#7fbc41"
            ],
            [
             0.9,
             "#4d9221"
            ],
            [
             1,
             "#276419"
            ]
           ],
           "sequential": [
            [
             0,
             "#0d0887"
            ],
            [
             0.1111111111111111,
             "#46039f"
            ],
            [
             0.2222222222222222,
             "#7201a8"
            ],
            [
             0.3333333333333333,
             "#9c179e"
            ],
            [
             0.4444444444444444,
             "#bd3786"
            ],
            [
             0.5555555555555556,
             "#d8576b"
            ],
            [
             0.6666666666666666,
             "#ed7953"
            ],
            [
             0.7777777777777778,
             "#fb9f3a"
            ],
            [
             0.8888888888888888,
             "#fdca26"
            ],
            [
             1,
             "#f0f921"
            ]
           ],
           "sequentialminus": [
            [
             0,
             "#0d0887"
            ],
            [
             0.1111111111111111,
             "#46039f"
            ],
            [
             0.2222222222222222,
             "#7201a8"
            ],
            [
             0.3333333333333333,
             "#9c179e"
            ],
            [
             0.4444444444444444,
             "#bd3786"
            ],
            [
             0.5555555555555556,
             "#d8576b"
            ],
            [
             0.6666666666666666,
             "#ed7953"
            ],
            [
             0.7777777777777778,
             "#fb9f3a"
            ],
            [
             0.8888888888888888,
             "#fdca26"
            ],
            [
             1,
             "#f0f921"
            ]
           ]
          },
          "colorway": [
           "#636efa",
           "#EF553B",
           "#00cc96",
           "#ab63fa",
           "#FFA15A",
           "#19d3f3",
           "#FF6692",
           "#B6E880",
           "#FF97FF",
           "#FECB52"
          ],
          "font": {
           "color": "#2a3f5f"
          },
          "geo": {
           "bgcolor": "white",
           "lakecolor": "white",
           "landcolor": "#E5ECF6",
           "showlakes": true,
           "showland": true,
           "subunitcolor": "white"
          },
          "hoverlabel": {
           "align": "left"
          },
          "hovermode": "closest",
          "mapbox": {
           "style": "light"
          },
          "paper_bgcolor": "white",
          "plot_bgcolor": "#E5ECF6",
          "polar": {
           "angularaxis": {
            "gridcolor": "white",
            "linecolor": "white",
            "ticks": ""
           },
           "bgcolor": "#E5ECF6",
           "radialaxis": {
            "gridcolor": "white",
            "linecolor": "white",
            "ticks": ""
           }
          },
          "scene": {
           "xaxis": {
            "backgroundcolor": "#E5ECF6",
            "gridcolor": "white",
            "gridwidth": 2,
            "linecolor": "white",
            "showbackground": true,
            "ticks": "",
            "zerolinecolor": "white"
           },
           "yaxis": {
            "backgroundcolor": "#E5ECF6",
            "gridcolor": "white",
            "gridwidth": 2,
            "linecolor": "white",
            "showbackground": true,
            "ticks": "",
            "zerolinecolor": "white"
           },
           "zaxis": {
            "backgroundcolor": "#E5ECF6",
            "gridcolor": "white",
            "gridwidth": 2,
            "linecolor": "white",
            "showbackground": true,
            "ticks": "",
            "zerolinecolor": "white"
           }
          },
          "shapedefaults": {
           "line": {
            "color": "#2a3f5f"
           }
          },
          "ternary": {
           "aaxis": {
            "gridcolor": "white",
            "linecolor": "white",
            "ticks": ""
           },
           "baxis": {
            "gridcolor": "white",
            "linecolor": "white",
            "ticks": ""
           },
           "bgcolor": "#E5ECF6",
           "caxis": {
            "gridcolor": "white",
            "linecolor": "white",
            "ticks": ""
           }
          },
          "title": {
           "x": 0.05
          },
          "xaxis": {
           "automargin": true,
           "gridcolor": "white",
           "linecolor": "white",
           "ticks": "",
           "title": {
            "standoff": 15
           },
           "zerolinecolor": "white",
           "zerolinewidth": 2
          },
          "yaxis": {
           "automargin": true,
           "gridcolor": "white",
           "linecolor": "white",
           "ticks": "",
           "title": {
            "standoff": 15
           },
           "zerolinecolor": "white",
           "zerolinewidth": 2
          }
         }
        },
        "title": {
         "text": "Rental Duration by Console"
        },
        "width": 600,
        "xaxis": {
         "anchor": "y",
         "domain": [
          0,
          1
         ],
         "tickmode": "array",
         "title": {}
        },
        "yaxis": {
         "anchor": "x",
         "domain": [
          0,
          1
         ],
         "gridcolor": "rgba(128, 128, 128, 0.4)",
         "title": {
          "text": "Duration (minutes)"
         }
        }
       }
      }
     },
     "metadata": {},
     "output_type": "display_data"
    },
    {
     "name": "stdout",
     "output_type": "stream",
     "text": [
      "Visualization saved as ../resources/viz/f24_video_duration_by_console.html\n"
     ]
    },
    {
     "data": {
      "application/vnd.plotly.v1+json": {
       "config": {
        "plotlyServerURL": "https://plot.ly"
       },
       "data": [
        {
         "alignmentgroup": "True",
         "hovertemplate": "Frequency = %{y}",
         "legendgroup": "",
         "marker": {
          "color": [
           1,
           2,
           3,
           4,
           1,
           2,
           3,
           4,
           1,
           2,
           3,
           1,
           2,
           3,
           4,
           6,
           8,
           1,
           2,
           3,
           4
          ],
          "coloraxis": "coloraxis",
          "pattern": {
           "shape": ""
          }
         },
         "name": "",
         "offsetgroup": "",
         "orientation": "v",
         "showlegend": false,
         "textposition": "auto",
         "type": "bar",
         "x": [
          "Call of Duty: Black Ops 3",
          "Call of Duty: Black Ops 3",
          "Call of Duty: Black Ops 3",
          "Call of Duty: Black Ops 3",
          "FIFA 23",
          "FIFA 23",
          "FIFA 23",
          "FIFA 23",
          "Madden 24",
          "Madden 24",
          "Madden 24",
          "Switch game",
          "Switch game",
          "Switch game",
          "Switch game",
          "Switch game",
          "Switch game",
          "Unspecified",
          "Unspecified",
          "Unspecified",
          "Unspecified"
         ],
         "xaxis": "x",
         "y": [
          1,
          21,
          13,
          8,
          1,
          56,
          4,
          10,
          4,
          26,
          5,
          12,
          110,
          50,
          98,
          2,
          3,
          1,
          8,
          4,
          4
         ],
         "yaxis": "y"
        }
       ],
       "layout": {
        "barmode": "group",
        "coloraxis": {
         "colorbar": {
          "title": {
           "text": "# of Controllers"
          }
         },
         "colorscale": [
          [
           0,
           "#0d0887"
          ],
          [
           0.1111111111111111,
           "#46039f"
          ],
          [
           0.2222222222222222,
           "#7201a8"
          ],
          [
           0.3333333333333333,
           "#9c179e"
          ],
          [
           0.4444444444444444,
           "#bd3786"
          ],
          [
           0.5555555555555556,
           "#d8576b"
          ],
          [
           0.6666666666666666,
           "#ed7953"
          ],
          [
           0.7777777777777778,
           "#fb9f3a"
          ],
          [
           0.8888888888888888,
           "#fdca26"
          ],
          [
           1,
           "#f0f921"
          ]
         ]
        },
        "font": {
         "color": "black",
         "family": "Droid Sans"
        },
        "height": 400,
        "hoverlabel": {
         "bgcolor": "black",
         "font": {
          "color": "white"
         }
        },
        "legend": {
         "tracegroupgap": 0
        },
        "template": {
         "data": {
          "bar": [
           {
            "error_x": {
             "color": "#2a3f5f"
            },
            "error_y": {
             "color": "#2a3f5f"
            },
            "marker": {
             "line": {
              "color": "#E5ECF6",
              "width": 0.5
             },
             "pattern": {
              "fillmode": "overlay",
              "size": 10,
              "solidity": 0.2
             }
            },
            "type": "bar"
           }
          ],
          "barpolar": [
           {
            "marker": {
             "line": {
              "color": "#E5ECF6",
              "width": 0.5
             },
             "pattern": {
              "fillmode": "overlay",
              "size": 10,
              "solidity": 0.2
             }
            },
            "type": "barpolar"
           }
          ],
          "carpet": [
           {
            "aaxis": {
             "endlinecolor": "#2a3f5f",
             "gridcolor": "white",
             "linecolor": "white",
             "minorgridcolor": "white",
             "startlinecolor": "#2a3f5f"
            },
            "baxis": {
             "endlinecolor": "#2a3f5f",
             "gridcolor": "white",
             "linecolor": "white",
             "minorgridcolor": "white",
             "startlinecolor": "#2a3f5f"
            },
            "type": "carpet"
           }
          ],
          "choropleth": [
           {
            "colorbar": {
             "outlinewidth": 0,
             "ticks": ""
            },
            "type": "choropleth"
           }
          ],
          "contour": [
           {
            "colorbar": {
             "outlinewidth": 0,
             "ticks": ""
            },
            "colorscale": [
             [
              0,
              "#0d0887"
             ],
             [
              0.1111111111111111,
              "#46039f"
             ],
             [
              0.2222222222222222,
              "#7201a8"
             ],
             [
              0.3333333333333333,
              "#9c179e"
             ],
             [
              0.4444444444444444,
              "#bd3786"
             ],
             [
              0.5555555555555556,
              "#d8576b"
             ],
             [
              0.6666666666666666,
              "#ed7953"
             ],
             [
              0.7777777777777778,
              "#fb9f3a"
             ],
             [
              0.8888888888888888,
              "#fdca26"
             ],
             [
              1,
              "#f0f921"
             ]
            ],
            "type": "contour"
           }
          ],
          "contourcarpet": [
           {
            "colorbar": {
             "outlinewidth": 0,
             "ticks": ""
            },
            "type": "contourcarpet"
           }
          ],
          "heatmap": [
           {
            "colorbar": {
             "outlinewidth": 0,
             "ticks": ""
            },
            "colorscale": [
             [
              0,
              "#0d0887"
             ],
             [
              0.1111111111111111,
              "#46039f"
             ],
             [
              0.2222222222222222,
              "#7201a8"
             ],
             [
              0.3333333333333333,
              "#9c179e"
             ],
             [
              0.4444444444444444,
              "#bd3786"
             ],
             [
              0.5555555555555556,
              "#d8576b"
             ],
             [
              0.6666666666666666,
              "#ed7953"
             ],
             [
              0.7777777777777778,
              "#fb9f3a"
             ],
             [
              0.8888888888888888,
              "#fdca26"
             ],
             [
              1,
              "#f0f921"
             ]
            ],
            "type": "heatmap"
           }
          ],
          "heatmapgl": [
           {
            "colorbar": {
             "outlinewidth": 0,
             "ticks": ""
            },
            "colorscale": [
             [
              0,
              "#0d0887"
             ],
             [
              0.1111111111111111,
              "#46039f"
             ],
             [
              0.2222222222222222,
              "#7201a8"
             ],
             [
              0.3333333333333333,
              "#9c179e"
             ],
             [
              0.4444444444444444,
              "#bd3786"
             ],
             [
              0.5555555555555556,
              "#d8576b"
             ],
             [
              0.6666666666666666,
              "#ed7953"
             ],
             [
              0.7777777777777778,
              "#fb9f3a"
             ],
             [
              0.8888888888888888,
              "#fdca26"
             ],
             [
              1,
              "#f0f921"
             ]
            ],
            "type": "heatmapgl"
           }
          ],
          "histogram": [
           {
            "marker": {
             "pattern": {
              "fillmode": "overlay",
              "size": 10,
              "solidity": 0.2
             }
            },
            "type": "histogram"
           }
          ],
          "histogram2d": [
           {
            "colorbar": {
             "outlinewidth": 0,
             "ticks": ""
            },
            "colorscale": [
             [
              0,
              "#0d0887"
             ],
             [
              0.1111111111111111,
              "#46039f"
             ],
             [
              0.2222222222222222,
              "#7201a8"
             ],
             [
              0.3333333333333333,
              "#9c179e"
             ],
             [
              0.4444444444444444,
              "#bd3786"
             ],
             [
              0.5555555555555556,
              "#d8576b"
             ],
             [
              0.6666666666666666,
              "#ed7953"
             ],
             [
              0.7777777777777778,
              "#fb9f3a"
             ],
             [
              0.8888888888888888,
              "#fdca26"
             ],
             [
              1,
              "#f0f921"
             ]
            ],
            "type": "histogram2d"
           }
          ],
          "histogram2dcontour": [
           {
            "colorbar": {
             "outlinewidth": 0,
             "ticks": ""
            },
            "colorscale": [
             [
              0,
              "#0d0887"
             ],
             [
              0.1111111111111111,
              "#46039f"
             ],
             [
              0.2222222222222222,
              "#7201a8"
             ],
             [
              0.3333333333333333,
              "#9c179e"
             ],
             [
              0.4444444444444444,
              "#bd3786"
             ],
             [
              0.5555555555555556,
              "#d8576b"
             ],
             [
              0.6666666666666666,
              "#ed7953"
             ],
             [
              0.7777777777777778,
              "#fb9f3a"
             ],
             [
              0.8888888888888888,
              "#fdca26"
             ],
             [
              1,
              "#f0f921"
             ]
            ],
            "type": "histogram2dcontour"
           }
          ],
          "mesh3d": [
           {
            "colorbar": {
             "outlinewidth": 0,
             "ticks": ""
            },
            "type": "mesh3d"
           }
          ],
          "parcoords": [
           {
            "line": {
             "colorbar": {
              "outlinewidth": 0,
              "ticks": ""
             }
            },
            "type": "parcoords"
           }
          ],
          "pie": [
           {
            "automargin": true,
            "type": "pie"
           }
          ],
          "scatter": [
           {
            "fillpattern": {
             "fillmode": "overlay",
             "size": 10,
             "solidity": 0.2
            },
            "type": "scatter"
           }
          ],
          "scatter3d": [
           {
            "line": {
             "colorbar": {
              "outlinewidth": 0,
              "ticks": ""
             }
            },
            "marker": {
             "colorbar": {
              "outlinewidth": 0,
              "ticks": ""
             }
            },
            "type": "scatter3d"
           }
          ],
          "scattercarpet": [
           {
            "marker": {
             "colorbar": {
              "outlinewidth": 0,
              "ticks": ""
             }
            },
            "type": "scattercarpet"
           }
          ],
          "scattergeo": [
           {
            "marker": {
             "colorbar": {
              "outlinewidth": 0,
              "ticks": ""
             }
            },
            "type": "scattergeo"
           }
          ],
          "scattergl": [
           {
            "marker": {
             "colorbar": {
              "outlinewidth": 0,
              "ticks": ""
             }
            },
            "type": "scattergl"
           }
          ],
          "scattermapbox": [
           {
            "marker": {
             "colorbar": {
              "outlinewidth": 0,
              "ticks": ""
             }
            },
            "type": "scattermapbox"
           }
          ],
          "scatterpolar": [
           {
            "marker": {
             "colorbar": {
              "outlinewidth": 0,
              "ticks": ""
             }
            },
            "type": "scatterpolar"
           }
          ],
          "scatterpolargl": [
           {
            "marker": {
             "colorbar": {
              "outlinewidth": 0,
              "ticks": ""
             }
            },
            "type": "scatterpolargl"
           }
          ],
          "scatterternary": [
           {
            "marker": {
             "colorbar": {
              "outlinewidth": 0,
              "ticks": ""
             }
            },
            "type": "scatterternary"
           }
          ],
          "surface": [
           {
            "colorbar": {
             "outlinewidth": 0,
             "ticks": ""
            },
            "colorscale": [
             [
              0,
              "#0d0887"
             ],
             [
              0.1111111111111111,
              "#46039f"
             ],
             [
              0.2222222222222222,
              "#7201a8"
             ],
             [
              0.3333333333333333,
              "#9c179e"
             ],
             [
              0.4444444444444444,
              "#bd3786"
             ],
             [
              0.5555555555555556,
              "#d8576b"
             ],
             [
              0.6666666666666666,
              "#ed7953"
             ],
             [
              0.7777777777777778,
              "#fb9f3a"
             ],
             [
              0.8888888888888888,
              "#fdca26"
             ],
             [
              1,
              "#f0f921"
             ]
            ],
            "type": "surface"
           }
          ],
          "table": [
           {
            "cells": {
             "fill": {
              "color": "#EBF0F8"
             },
             "line": {
              "color": "white"
             }
            },
            "header": {
             "fill": {
              "color": "#C8D4E3"
             },
             "line": {
              "color": "white"
             }
            },
            "type": "table"
           }
          ]
         },
         "layout": {
          "annotationdefaults": {
           "arrowcolor": "#2a3f5f",
           "arrowhead": 0,
           "arrowwidth": 1
          },
          "autotypenumbers": "strict",
          "coloraxis": {
           "colorbar": {
            "outlinewidth": 0,
            "ticks": ""
           }
          },
          "colorscale": {
           "diverging": [
            [
             0,
             "#8e0152"
            ],
            [
             0.1,
             "#c51b7d"
            ],
            [
             0.2,
             "#de77ae"
            ],
            [
             0.3,
             "#f1b6da"
            ],
            [
             0.4,
             "#fde0ef"
            ],
            [
             0.5,
             "#f7f7f7"
            ],
            [
             0.6,
             "#e6f5d0"
            ],
            [
             0.7,
             "#b8e186"
            ],
            [
             0.8,
             "#7fbc41"
            ],
            [
             0.9,
             "#4d9221"
            ],
            [
             1,
             "#276419"
            ]
           ],
           "sequential": [
            [
             0,
             "#0d0887"
            ],
            [
             0.1111111111111111,
             "#46039f"
            ],
            [
             0.2222222222222222,
             "#7201a8"
            ],
            [
             0.3333333333333333,
             "#9c179e"
            ],
            [
             0.4444444444444444,
             "#bd3786"
            ],
            [
             0.5555555555555556,
             "#d8576b"
            ],
            [
             0.6666666666666666,
             "#ed7953"
            ],
            [
             0.7777777777777778,
             "#fb9f3a"
            ],
            [
             0.8888888888888888,
             "#fdca26"
            ],
            [
             1,
             "#f0f921"
            ]
           ],
           "sequentialminus": [
            [
             0,
             "#0d0887"
            ],
            [
             0.1111111111111111,
             "#46039f"
            ],
            [
             0.2222222222222222,
             "#7201a8"
            ],
            [
             0.3333333333333333,
             "#9c179e"
            ],
            [
             0.4444444444444444,
             "#bd3786"
            ],
            [
             0.5555555555555556,
             "#d8576b"
            ],
            [
             0.6666666666666666,
             "#ed7953"
            ],
            [
             0.7777777777777778,
             "#fb9f3a"
            ],
            [
             0.8888888888888888,
             "#fdca26"
            ],
            [
             1,
             "#f0f921"
            ]
           ]
          },
          "colorway": [
           "#636efa",
           "#EF553B",
           "#00cc96",
           "#ab63fa",
           "#FFA15A",
           "#19d3f3",
           "#FF6692",
           "#B6E880",
           "#FF97FF",
           "#FECB52"
          ],
          "font": {
           "color": "#2a3f5f"
          },
          "geo": {
           "bgcolor": "white",
           "lakecolor": "white",
           "landcolor": "#E5ECF6",
           "showlakes": true,
           "showland": true,
           "subunitcolor": "white"
          },
          "hoverlabel": {
           "align": "left"
          },
          "hovermode": "closest",
          "mapbox": {
           "style": "light"
          },
          "paper_bgcolor": "white",
          "plot_bgcolor": "#E5ECF6",
          "polar": {
           "angularaxis": {
            "gridcolor": "white",
            "linecolor": "white",
            "ticks": ""
           },
           "bgcolor": "#E5ECF6",
           "radialaxis": {
            "gridcolor": "white",
            "linecolor": "white",
            "ticks": ""
           }
          },
          "scene": {
           "xaxis": {
            "backgroundcolor": "#E5ECF6",
            "gridcolor": "white",
            "gridwidth": 2,
            "linecolor": "white",
            "showbackground": true,
            "ticks": "",
            "zerolinecolor": "white"
           },
           "yaxis": {
            "backgroundcolor": "#E5ECF6",
            "gridcolor": "white",
            "gridwidth": 2,
            "linecolor": "white",
            "showbackground": true,
            "ticks": "",
            "zerolinecolor": "white"
           },
           "zaxis": {
            "backgroundcolor": "#E5ECF6",
            "gridcolor": "white",
            "gridwidth": 2,
            "linecolor": "white",
            "showbackground": true,
            "ticks": "",
            "zerolinecolor": "white"
           }
          },
          "shapedefaults": {
           "line": {
            "color": "#2a3f5f"
           }
          },
          "ternary": {
           "aaxis": {
            "gridcolor": "white",
            "linecolor": "white",
            "ticks": ""
           },
           "baxis": {
            "gridcolor": "white",
            "linecolor": "white",
            "ticks": ""
           },
           "bgcolor": "#E5ECF6",
           "caxis": {
            "gridcolor": "white",
            "linecolor": "white",
            "ticks": ""
           }
          },
          "title": {
           "x": 0.05
          },
          "xaxis": {
           "automargin": true,
           "gridcolor": "white",
           "linecolor": "white",
           "ticks": "",
           "title": {
            "standoff": 15
           },
           "zerolinecolor": "white",
           "zerolinewidth": 2
          },
          "yaxis": {
           "automargin": true,
           "gridcolor": "white",
           "linecolor": "white",
           "ticks": "",
           "title": {
            "standoff": 15
           },
           "zerolinecolor": "white",
           "zerolinewidth": 2
          }
         }
        },
        "title": {
         "font": {
          "size": 22
         },
         "text": "Controllers Rented, for the top 5 titles",
         "x": 0.5,
         "xanchor": "center",
         "y": 0.85
        },
        "width": 600,
        "xaxis": {
         "anchor": "y",
         "domain": [
          0,
          1
         ],
         "title": {
          "text": ""
         }
        },
        "yaxis": {
         "anchor": "x",
         "domain": [
          0,
          1
         ],
         "title": {
          "text": "Frequency"
         }
        }
       }
      }
     },
     "metadata": {},
     "output_type": "display_data"
    },
    {
     "name": "stdout",
     "output_type": "stream",
     "text": [
      "Visualization saved as ../resources/viz/f24_controller_by_top_game.html\n"
     ]
    },
    {
     "data": {
      "application/vnd.plotly.v1+json": {
       "config": {
        "plotlyServerURL": "https://plot.ly"
       },
       "data": [
        {
         "domain": {
          "x": [
           0,
           0.45
          ],
          "y": [
           0,
           1
          ]
         },
         "labels": [
          "Minecraft",
          "Unspecified",
          "Call of Duty: Black Ops 3",
          "Lego Star Wars: The Skywalker Saga",
          "Madden 24",
          "Jackbox Party Pack 7",
          "Other"
         ],
         "text": [
          "Minecraft<br>7 rentals",
          "Unspecified<br>5 rentals",
          "Call of Duty: Black Ops 3<br>42 rentals",
          "Lego Star Wars: The Skywalker Saga<br>5 rentals",
          "Madden 24<br>35 rentals",
          "Jackbox Party Pack 7<br>9 rentals",
          "Other<br>22 rentals"
         ],
         "textfont": {
          "size": 15
         },
         "textinfo": "text+percent",
         "textposition": "inside",
         "type": "pie",
         "values": [
          7,
          5,
          42,
          5,
          35,
          9,
          22
         ]
        },
        {
         "domain": {
          "x": [
           0.55,
           1
          ],
          "y": [
           0,
           1
          ]
         },
         "labels": [],
         "text": [],
         "textfont": {
          "size": 15
         },
         "textinfo": "text+percent",
         "textposition": "inside",
         "type": "pie",
         "values": []
        }
       ],
       "layout": {
        "annotations": [
         {
          "font": {
           "size": 16
          },
          "showarrow": false,
          "text": "Xbox Rentals (125 total)",
          "x": 0.225,
          "xanchor": "center",
          "xref": "paper",
          "y": 1,
          "yanchor": "bottom",
          "yref": "paper"
         },
         {
          "font": {
           "size": 16
          },
          "showarrow": false,
          "text": "Wii Rentals (0 total)",
          "x": 0.775,
          "xanchor": "center",
          "xref": "paper",
          "y": 1,
          "yanchor": "bottom",
          "yref": "paper"
         },
         {
          "align": "left",
          "font": {
           "size": 18
          },
          "showarrow": false,
          "text": "The \"Other\" category combines games rented less than five times.",
          "x": 0.026,
          "xref": "paper",
          "y": 1.19,
          "yref": "paper"
         }
        ],
        "font": {
         "color": "black",
         "family": "Droid Serif"
        },
        "height": 500,
        "hoverlabel": {
         "bgcolor": "black",
         "font": {
          "color": "white"
         }
        },
        "margin": {
         "b": 20,
         "l": 20,
         "r": 20,
         "t": 140
        },
        "showlegend": false,
        "template": {
         "data": {
          "bar": [
           {
            "error_x": {
             "color": "#2a3f5f"
            },
            "error_y": {
             "color": "#2a3f5f"
            },
            "marker": {
             "line": {
              "color": "#E5ECF6",
              "width": 0.5
             },
             "pattern": {
              "fillmode": "overlay",
              "size": 10,
              "solidity": 0.2
             }
            },
            "type": "bar"
           }
          ],
          "barpolar": [
           {
            "marker": {
             "line": {
              "color": "#E5ECF6",
              "width": 0.5
             },
             "pattern": {
              "fillmode": "overlay",
              "size": 10,
              "solidity": 0.2
             }
            },
            "type": "barpolar"
           }
          ],
          "carpet": [
           {
            "aaxis": {
             "endlinecolor": "#2a3f5f",
             "gridcolor": "white",
             "linecolor": "white",
             "minorgridcolor": "white",
             "startlinecolor": "#2a3f5f"
            },
            "baxis": {
             "endlinecolor": "#2a3f5f",
             "gridcolor": "white",
             "linecolor": "white",
             "minorgridcolor": "white",
             "startlinecolor": "#2a3f5f"
            },
            "type": "carpet"
           }
          ],
          "choropleth": [
           {
            "colorbar": {
             "outlinewidth": 0,
             "ticks": ""
            },
            "type": "choropleth"
           }
          ],
          "contour": [
           {
            "colorbar": {
             "outlinewidth": 0,
             "ticks": ""
            },
            "colorscale": [
             [
              0,
              "#0d0887"
             ],
             [
              0.1111111111111111,
              "#46039f"
             ],
             [
              0.2222222222222222,
              "#7201a8"
             ],
             [
              0.3333333333333333,
              "#9c179e"
             ],
             [
              0.4444444444444444,
              "#bd3786"
             ],
             [
              0.5555555555555556,
              "#d8576b"
             ],
             [
              0.6666666666666666,
              "#ed7953"
             ],
             [
              0.7777777777777778,
              "#fb9f3a"
             ],
             [
              0.8888888888888888,
              "#fdca26"
             ],
             [
              1,
              "#f0f921"
             ]
            ],
            "type": "contour"
           }
          ],
          "contourcarpet": [
           {
            "colorbar": {
             "outlinewidth": 0,
             "ticks": ""
            },
            "type": "contourcarpet"
           }
          ],
          "heatmap": [
           {
            "colorbar": {
             "outlinewidth": 0,
             "ticks": ""
            },
            "colorscale": [
             [
              0,
              "#0d0887"
             ],
             [
              0.1111111111111111,
              "#46039f"
             ],
             [
              0.2222222222222222,
              "#7201a8"
             ],
             [
              0.3333333333333333,
              "#9c179e"
             ],
             [
              0.4444444444444444,
              "#bd3786"
             ],
             [
              0.5555555555555556,
              "#d8576b"
             ],
             [
              0.6666666666666666,
              "#ed7953"
             ],
             [
              0.7777777777777778,
              "#fb9f3a"
             ],
             [
              0.8888888888888888,
              "#fdca26"
             ],
             [
              1,
              "#f0f921"
             ]
            ],
            "type": "heatmap"
           }
          ],
          "heatmapgl": [
           {
            "colorbar": {
             "outlinewidth": 0,
             "ticks": ""
            },
            "colorscale": [
             [
              0,
              "#0d0887"
             ],
             [
              0.1111111111111111,
              "#46039f"
             ],
             [
              0.2222222222222222,
              "#7201a8"
             ],
             [
              0.3333333333333333,
              "#9c179e"
             ],
             [
              0.4444444444444444,
              "#bd3786"
             ],
             [
              0.5555555555555556,
              "#d8576b"
             ],
             [
              0.6666666666666666,
              "#ed7953"
             ],
             [
              0.7777777777777778,
              "#fb9f3a"
             ],
             [
              0.8888888888888888,
              "#fdca26"
             ],
             [
              1,
              "#f0f921"
             ]
            ],
            "type": "heatmapgl"
           }
          ],
          "histogram": [
           {
            "marker": {
             "pattern": {
              "fillmode": "overlay",
              "size": 10,
              "solidity": 0.2
             }
            },
            "type": "histogram"
           }
          ],
          "histogram2d": [
           {
            "colorbar": {
             "outlinewidth": 0,
             "ticks": ""
            },
            "colorscale": [
             [
              0,
              "#0d0887"
             ],
             [
              0.1111111111111111,
              "#46039f"
             ],
             [
              0.2222222222222222,
              "#7201a8"
             ],
             [
              0.3333333333333333,
              "#9c179e"
             ],
             [
              0.4444444444444444,
              "#bd3786"
             ],
             [
              0.5555555555555556,
              "#d8576b"
             ],
             [
              0.6666666666666666,
              "#ed7953"
             ],
             [
              0.7777777777777778,
              "#fb9f3a"
             ],
             [
              0.8888888888888888,
              "#fdca26"
             ],
             [
              1,
              "#f0f921"
             ]
            ],
            "type": "histogram2d"
           }
          ],
          "histogram2dcontour": [
           {
            "colorbar": {
             "outlinewidth": 0,
             "ticks": ""
            },
            "colorscale": [
             [
              0,
              "#0d0887"
             ],
             [
              0.1111111111111111,
              "#46039f"
             ],
             [
              0.2222222222222222,
              "#7201a8"
             ],
             [
              0.3333333333333333,
              "#9c179e"
             ],
             [
              0.4444444444444444,
              "#bd3786"
             ],
             [
              0.5555555555555556,
              "#d8576b"
             ],
             [
              0.6666666666666666,
              "#ed7953"
             ],
             [
              0.7777777777777778,
              "#fb9f3a"
             ],
             [
              0.8888888888888888,
              "#fdca26"
             ],
             [
              1,
              "#f0f921"
             ]
            ],
            "type": "histogram2dcontour"
           }
          ],
          "mesh3d": [
           {
            "colorbar": {
             "outlinewidth": 0,
             "ticks": ""
            },
            "type": "mesh3d"
           }
          ],
          "parcoords": [
           {
            "line": {
             "colorbar": {
              "outlinewidth": 0,
              "ticks": ""
             }
            },
            "type": "parcoords"
           }
          ],
          "pie": [
           {
            "automargin": true,
            "type": "pie"
           }
          ],
          "scatter": [
           {
            "fillpattern": {
             "fillmode": "overlay",
             "size": 10,
             "solidity": 0.2
            },
            "type": "scatter"
           }
          ],
          "scatter3d": [
           {
            "line": {
             "colorbar": {
              "outlinewidth": 0,
              "ticks": ""
             }
            },
            "marker": {
             "colorbar": {
              "outlinewidth": 0,
              "ticks": ""
             }
            },
            "type": "scatter3d"
           }
          ],
          "scattercarpet": [
           {
            "marker": {
             "colorbar": {
              "outlinewidth": 0,
              "ticks": ""
             }
            },
            "type": "scattercarpet"
           }
          ],
          "scattergeo": [
           {
            "marker": {
             "colorbar": {
              "outlinewidth": 0,
              "ticks": ""
             }
            },
            "type": "scattergeo"
           }
          ],
          "scattergl": [
           {
            "marker": {
             "colorbar": {
              "outlinewidth": 0,
              "ticks": ""
             }
            },
            "type": "scattergl"
           }
          ],
          "scattermapbox": [
           {
            "marker": {
             "colorbar": {
              "outlinewidth": 0,
              "ticks": ""
             }
            },
            "type": "scattermapbox"
           }
          ],
          "scatterpolar": [
           {
            "marker": {
             "colorbar": {
              "outlinewidth": 0,
              "ticks": ""
             }
            },
            "type": "scatterpolar"
           }
          ],
          "scatterpolargl": [
           {
            "marker": {
             "colorbar": {
              "outlinewidth": 0,
              "ticks": ""
             }
            },
            "type": "scatterpolargl"
           }
          ],
          "scatterternary": [
           {
            "marker": {
             "colorbar": {
              "outlinewidth": 0,
              "ticks": ""
             }
            },
            "type": "scatterternary"
           }
          ],
          "surface": [
           {
            "colorbar": {
             "outlinewidth": 0,
             "ticks": ""
            },
            "colorscale": [
             [
              0,
              "#0d0887"
             ],
             [
              0.1111111111111111,
              "#46039f"
             ],
             [
              0.2222222222222222,
              "#7201a8"
             ],
             [
              0.3333333333333333,
              "#9c179e"
             ],
             [
              0.4444444444444444,
              "#bd3786"
             ],
             [
              0.5555555555555556,
              "#d8576b"
             ],
             [
              0.6666666666666666,
              "#ed7953"
             ],
             [
              0.7777777777777778,
              "#fb9f3a"
             ],
             [
              0.8888888888888888,
              "#fdca26"
             ],
             [
              1,
              "#f0f921"
             ]
            ],
            "type": "surface"
           }
          ],
          "table": [
           {
            "cells": {
             "fill": {
              "color": "#EBF0F8"
             },
             "line": {
              "color": "white"
             }
            },
            "header": {
             "fill": {
              "color": "#C8D4E3"
             },
             "line": {
              "color": "white"
             }
            },
            "type": "table"
           }
          ]
         },
         "layout": {
          "annotationdefaults": {
           "arrowcolor": "#2a3f5f",
           "arrowhead": 0,
           "arrowwidth": 1
          },
          "autotypenumbers": "strict",
          "coloraxis": {
           "colorbar": {
            "outlinewidth": 0,
            "ticks": ""
           }
          },
          "colorscale": {
           "diverging": [
            [
             0,
             "#8e0152"
            ],
            [
             0.1,
             "#c51b7d"
            ],
            [
             0.2,
             "#de77ae"
            ],
            [
             0.3,
             "#f1b6da"
            ],
            [
             0.4,
             "#fde0ef"
            ],
            [
             0.5,
             "#f7f7f7"
            ],
            [
             0.6,
             "#e6f5d0"
            ],
            [
             0.7,
             "#b8e186"
            ],
            [
             0.8,
             "#7fbc41"
            ],
            [
             0.9,
             "#4d9221"
            ],
            [
             1,
             "#276419"
            ]
           ],
           "sequential": [
            [
             0,
             "#0d0887"
            ],
            [
             0.1111111111111111,
             "#46039f"
            ],
            [
             0.2222222222222222,
             "#7201a8"
            ],
            [
             0.3333333333333333,
             "#9c179e"
            ],
            [
             0.4444444444444444,
             "#bd3786"
            ],
            [
             0.5555555555555556,
             "#d8576b"
            ],
            [
             0.6666666666666666,
             "#ed7953"
            ],
            [
             0.7777777777777778,
             "#fb9f3a"
            ],
            [
             0.8888888888888888,
             "#fdca26"
            ],
            [
             1,
             "#f0f921"
            ]
           ],
           "sequentialminus": [
            [
             0,
             "#0d0887"
            ],
            [
             0.1111111111111111,
             "#46039f"
            ],
            [
             0.2222222222222222,
             "#7201a8"
            ],
            [
             0.3333333333333333,
             "#9c179e"
            ],
            [
             0.4444444444444444,
             "#bd3786"
            ],
            [
             0.5555555555555556,
             "#d8576b"
            ],
            [
             0.6666666666666666,
             "#ed7953"
            ],
            [
             0.7777777777777778,
             "#fb9f3a"
            ],
            [
             0.8888888888888888,
             "#fdca26"
            ],
            [
             1,
             "#f0f921"
            ]
           ]
          },
          "colorway": [
           "#636efa",
           "#EF553B",
           "#00cc96",
           "#ab63fa",
           "#FFA15A",
           "#19d3f3",
           "#FF6692",
           "#B6E880",
           "#FF97FF",
           "#FECB52"
          ],
          "font": {
           "color": "#2a3f5f"
          },
          "geo": {
           "bgcolor": "white",
           "lakecolor": "white",
           "landcolor": "#E5ECF6",
           "showlakes": true,
           "showland": true,
           "subunitcolor": "white"
          },
          "hoverlabel": {
           "align": "left"
          },
          "hovermode": "closest",
          "mapbox": {
           "style": "light"
          },
          "paper_bgcolor": "white",
          "plot_bgcolor": "#E5ECF6",
          "polar": {
           "angularaxis": {
            "gridcolor": "white",
            "linecolor": "white",
            "ticks": ""
           },
           "bgcolor": "#E5ECF6",
           "radialaxis": {
            "gridcolor": "white",
            "linecolor": "white",
            "ticks": ""
           }
          },
          "scene": {
           "xaxis": {
            "backgroundcolor": "#E5ECF6",
            "gridcolor": "white",
            "gridwidth": 2,
            "linecolor": "white",
            "showbackground": true,
            "ticks": "",
            "zerolinecolor": "white"
           },
           "yaxis": {
            "backgroundcolor": "#E5ECF6",
            "gridcolor": "white",
            "gridwidth": 2,
            "linecolor": "white",
            "showbackground": true,
            "ticks": "",
            "zerolinecolor": "white"
           },
           "zaxis": {
            "backgroundcolor": "#E5ECF6",
            "gridcolor": "white",
            "gridwidth": 2,
            "linecolor": "white",
            "showbackground": true,
            "ticks": "",
            "zerolinecolor": "white"
           }
          },
          "shapedefaults": {
           "line": {
            "color": "#2a3f5f"
           }
          },
          "ternary": {
           "aaxis": {
            "gridcolor": "white",
            "linecolor": "white",
            "ticks": ""
           },
           "baxis": {
            "gridcolor": "white",
            "linecolor": "white",
            "ticks": ""
           },
           "bgcolor": "#E5ECF6",
           "caxis": {
            "gridcolor": "white",
            "linecolor": "white",
            "ticks": ""
           }
          },
          "title": {
           "x": 0.05
          },
          "xaxis": {
           "automargin": true,
           "gridcolor": "white",
           "linecolor": "white",
           "ticks": "",
           "title": {
            "standoff": 15
           },
           "zerolinecolor": "white",
           "zerolinewidth": 2
          },
          "yaxis": {
           "automargin": true,
           "gridcolor": "white",
           "linecolor": "white",
           "ticks": "",
           "title": {
            "standoff": 15
           },
           "zerolinecolor": "white",
           "zerolinewidth": 2
          }
         }
        },
        "title": {
         "font": {
          "size": 30
         },
         "text": "Video Game Rentals by Console"
        },
        "width": 850
       }
      }
     },
     "metadata": {},
     "output_type": "display_data"
    },
    {
     "name": "stdout",
     "output_type": "stream",
     "text": [
      "Visualization saved as ../resources/viz/f24_games_pie_chart_divided.html\n",
      "Video Game Visualizations Complete!\n",
      "\n",
      "\n",
      "Running Table Game Visualizations...\n"
     ]
    },
    {
     "data": {
      "application/vnd.plotly.v1+json": {
       "config": {
        "plotlyServerURL": "https://plot.ly"
       },
       "data": [
        {
         "alignmentgroup": "True",
         "boxpoints": "all",
         "fillcolor": "rgba(255,255,255,0)",
         "hoveron": "points",
         "hovertemplate": "Pool Table #=%{x}<br>Adjusted Duration=%{y}<extra></extra>",
         "legendgroup": "",
         "line": {
          "color": "rgba(255,255,255,0)"
         },
         "marker": {
          "color": "#636efa",
          "opacity": 0.3
         },
         "name": "",
         "offsetgroup": "",
         "orientation": "v",
         "pointpos": 0,
         "showlegend": false,
         "type": "box",
         "x": [
          2,
          3,
          2,
          1,
          3,
          1,
          1,
          2,
          3,
          2,
          1,
          3,
          2,
          1,
          3,
          1,
          1,
          1,
          2,
          3,
          1,
          1,
          2,
          2,
          2,
          1,
          3,
          2,
          3,
          1,
          1,
          2,
          3,
          2,
          1,
          3,
          2,
          3,
          1,
          2,
          3,
          2,
          1,
          3,
          1,
          2,
          2,
          1,
          2,
          1,
          3,
          2,
          1,
          1,
          3,
          1,
          3,
          1,
          2,
          3,
          1,
          1,
          3,
          2,
          1,
          1,
          2,
          3,
          1,
          3,
          3,
          1,
          3,
          3,
          2,
          1,
          3,
          1,
          2,
          1,
          2,
          3,
          1,
          2,
          3,
          1,
          1,
          2,
          3,
          1,
          1,
          2,
          3,
          2,
          3,
          2,
          1,
          3,
          2,
          3,
          2,
          3,
          3,
          2,
          3,
          1,
          2,
          0,
          3,
          2,
          1,
          1,
          1,
          3,
          2,
          1,
          3,
          2,
          1,
          2,
          1,
          3,
          1,
          2,
          1,
          2,
          1,
          2,
          1,
          3,
          2,
          1,
          3,
          2,
          1,
          2,
          1,
          1,
          3,
          1,
          2,
          3,
          2,
          1,
          1,
          3,
          2,
          1,
          3,
          1,
          2,
          3,
          1,
          2,
          2,
          3,
          2,
          3,
          1,
          3,
          2,
          3,
          3,
          3,
          1,
          2,
          1,
          2,
          2,
          3,
          2,
          1,
          1,
          3,
          3,
          1,
          2,
          1,
          2,
          3,
          2,
          3,
          3,
          3,
          1,
          3,
          1,
          3,
          2,
          2,
          1,
          3,
          1,
          3,
          2,
          1,
          3,
          2,
          3,
          2,
          1,
          2,
          2,
          3,
          1,
          3,
          2,
          3,
          2,
          1,
          3,
          2,
          3,
          1,
          0,
          2,
          1,
          3,
          2,
          2,
          3,
          2,
          3,
          0,
          3,
          2,
          1,
          2,
          1,
          2,
          3,
          2,
          1,
          3,
          1,
          2,
          1,
          1,
          3,
          1,
          2,
          3,
          2,
          2,
          1,
          3,
          3,
          1,
          3,
          3,
          2,
          3,
          2,
          2,
          3,
          1,
          2,
          1,
          1,
          3,
          3,
          3,
          1,
          3,
          1,
          2,
          3,
          2,
          1,
          2,
          2,
          2,
          3,
          1,
          3,
          1,
          2,
          2,
          1,
          3,
          1,
          3,
          3,
          1,
          2,
          3,
          1,
          1,
          2,
          2,
          1,
          3,
          3,
          2,
          3,
          2,
          3,
          1,
          1,
          2,
          1,
          3,
          2,
          2,
          1,
          3,
          3,
          2,
          3,
          2,
          1,
          3,
          2,
          3,
          1,
          0,
          1,
          2,
          3,
          0,
          2,
          3,
          1,
          3,
          0,
          2,
          3,
          3,
          1,
          2,
          3,
          2,
          1,
          2,
          1,
          3,
          2,
          1,
          2,
          3,
          2,
          1,
          2,
          1,
          3,
          2,
          1,
          3,
          2,
          1,
          2,
          0,
          1,
          2,
          3,
          1,
          2,
          1,
          1,
          3,
          2,
          2,
          3,
          2,
          3,
          2,
          1,
          3,
          2,
          1,
          3,
          2,
          1,
          2,
          1,
          2,
          2,
          3,
          0,
          1,
          1,
          2,
          3,
          1,
          2,
          1,
          3,
          2,
          3,
          1,
          2,
          0,
          1,
          0,
          3,
          2,
          1,
          3,
          2,
          3,
          2,
          3,
          1,
          1,
          3,
          2,
          1,
          2,
          3,
          1,
          2,
          3,
          2,
          1,
          1,
          2,
          3,
          1,
          1,
          2,
          1,
          3,
          2,
          1,
          3,
          2,
          2,
          1,
          2,
          1,
          1,
          3,
          2,
          3,
          1,
          2,
          1,
          1,
          3,
          1,
          2,
          3,
          3,
          2,
          2,
          3,
          3,
          1,
          2,
          3,
          1,
          2,
          3,
          1,
          2,
          2,
          3,
          1,
          2,
          3,
          1,
          2,
          1,
          2,
          1,
          3,
          1,
          3,
          2,
          3,
          2,
          2,
          1,
          3,
          1,
          2,
          3,
          1,
          2,
          3,
          2,
          1,
          2,
          3,
          0,
          2,
          1,
          3,
          1,
          1,
          3,
          2,
          2,
          1,
          3,
          2,
          3,
          1,
          1,
          1,
          2,
          2,
          3,
          2,
          2,
          3,
          0,
          2,
          3,
          1,
          3,
          2,
          0,
          1,
          1,
          2,
          3,
          1,
          3,
          2,
          3,
          2,
          3,
          1,
          3,
          1,
          3,
          2,
          1,
          3,
          2,
          2,
          3,
          3,
          1,
          2,
          3,
          1,
          2,
          2,
          2,
          1,
          3,
          1,
          2,
          1,
          3,
          1,
          3,
          1,
          3,
          2,
          1,
          0,
          1,
          2,
          1,
          3,
          1,
          2,
          3,
          2,
          1,
          2,
          0,
          3,
          0,
          0,
          0,
          3,
          1,
          1,
          3,
          2,
          3,
          1,
          2,
          3,
          1,
          2,
          1,
          3,
          2,
          3,
          1,
          3,
          3,
          2,
          1,
          2,
          3,
          2,
          3,
          2,
          1,
          3,
          3,
          2,
          3,
          1,
          2,
          1,
          2,
          3,
          2,
          1,
          2,
          1,
          3,
          3,
          1,
          2,
          2,
          0,
          0,
          0,
          0,
          2,
          3,
          1,
          1,
          2,
          3,
          1,
          3,
          1,
          1,
          2,
          3,
          2,
          1,
          3,
          3,
          2,
          0,
          0,
          2,
          1,
          2,
          3,
          3,
          2,
          1,
          2,
          3,
          1,
          2,
          1,
          3,
          2,
          3,
          1,
          3,
          2,
          1,
          2,
          1,
          3,
          0,
          1,
          1,
          2,
          3,
          1,
          2,
          3,
          2,
          3,
          1,
          3,
          3,
          1,
          3,
          2,
          1,
          2,
          3,
          1,
          2,
          3,
          1,
          2,
          1,
          1,
          3,
          2,
          3,
          1,
          3,
          1,
          1,
          2,
          1,
          2,
          3,
          1,
          1,
          3,
          1,
          2,
          2,
          1,
          3,
          2,
          1,
          2,
          2,
          3,
          3,
          0,
          2,
          3,
          2,
          1,
          1,
          2,
          3,
          2,
          1,
          2,
          2,
          0,
          2,
          1,
          3,
          2,
          3,
          2,
          3,
          1,
          2,
          3,
          1,
          2,
          3,
          2,
          1,
          1,
          2,
          3,
          0,
          0,
          0,
          0,
          0,
          0,
          0,
          2,
          2,
          1,
          2,
          3,
          3,
          1,
          3,
          2,
          1,
          3,
          2,
          2,
          3,
          1,
          2,
          2,
          3,
          2,
          1,
          2,
          1,
          2,
          3,
          2,
          1,
          3,
          1,
          3,
          2,
          1,
          3,
          1,
          1,
          3,
          1,
          2,
          1,
          1,
          2,
          1,
          2,
          1,
          3,
          1,
          2,
          2,
          2,
          0,
          0,
          0,
          2,
          1,
          3,
          1,
          3,
          2,
          1,
          2,
          3,
          1,
          2,
          1,
          2,
          1,
          3,
          2,
          1,
          2,
          3,
          1,
          2,
          1,
          2,
          1,
          3,
          1,
          2,
          3,
          1,
          2,
          3,
          1,
          2,
          3,
          1,
          2,
          1,
          3,
          3,
          1,
          2,
          3,
          1,
          3,
          2,
          1,
          2,
          3,
          1,
          2,
          1,
          3,
          3,
          1,
          3,
          1,
          2,
          1,
          3,
          1,
          2,
          3,
          2,
          1,
          3,
          1,
          2,
          1,
          2,
          3,
          1,
          1,
          2,
          0,
          2,
          1,
          3,
          2,
          1,
          1,
          2,
          3,
          2,
          3,
          3,
          1,
          3,
          2,
          3,
          2,
          1,
          2,
          1,
          2,
          3,
          1,
          3,
          2,
          1,
          3,
          2,
          3,
          1,
          2,
          2,
          3,
          1,
          3,
          2,
          1,
          0,
          1,
          1,
          0,
          0,
          1,
          3,
          1,
          2,
          3,
          1,
          2,
          3,
          1,
          2,
          1,
          3,
          2,
          1,
          3,
          2,
          1,
          3,
          2,
          1,
          2,
          3,
          2,
          1,
          2,
          3,
          2,
          2,
          3,
          1,
          3,
          2,
          2,
          3,
          1,
          2,
          1,
          3,
          1,
          3,
          2,
          3,
          1,
          2,
          3,
          1,
          1,
          2,
          1,
          3,
          1,
          1,
          3,
          2,
          1,
          2,
          1,
          3,
          2,
          1,
          1,
          0,
          3,
          0,
          0,
          0,
          0,
          3,
          1,
          2,
          3,
          1,
          2,
          3,
          1,
          2,
          1,
          2,
          3,
          1,
          2,
          1,
          3,
          2,
          1,
          2,
          3,
          2,
          0,
          1,
          2,
          3,
          1,
          2,
          3,
          0,
          0,
          2,
          1,
          1,
          3,
          1,
          2,
          1,
          2,
          3,
          1,
          1,
          3,
          2,
          1,
          2,
          3,
          2,
          1,
          1,
          1,
          2,
          3,
          1,
          3,
          2,
          3,
          2,
          1,
          3,
          1,
          2,
          3,
          1,
          3,
          0,
          0,
          0,
          2,
          3,
          1,
          2,
          3,
          2,
          1,
          3,
          1,
          3,
          2,
          1,
          2,
          3,
          2,
          1,
          3,
          1,
          2,
          3,
          1,
          2,
          2,
          3,
          1,
          2,
          1,
          2,
          3,
          3,
          2,
          1,
          2,
          3,
          2,
          1,
          3,
          2,
          2,
          2,
          1,
          3,
          0,
          3,
          2,
          1,
          3,
          1,
          2,
          2,
          3,
          3,
          1,
          3,
          2,
          1,
          2,
          2,
          3,
          2,
          1,
          3,
          1,
          3,
          3,
          1,
          2,
          2,
          3,
          1,
          1,
          3,
          2,
          1,
          2,
          1,
          1,
          3,
          1,
          2,
          1,
          2,
          2,
          3,
          1,
          3,
          1,
          2,
          3,
          0,
          2,
          0,
          2,
          1,
          1,
          3,
          2,
          1,
          3,
          1,
          2,
          3,
          2,
          3,
          1,
          2,
          2,
          1,
          3,
          1,
          3,
          1,
          0,
          0,
          0,
          3,
          2,
          1,
          2,
          2,
          1,
          3,
          2,
          2,
          3,
          1,
          1,
          2,
          1,
          1,
          2,
          1,
          1,
          1,
          3,
          1,
          3,
          2,
          3,
          1,
          2,
          0,
          2,
          3,
          2,
          1,
          1,
          3,
          2,
          1,
          3,
          3,
          2,
          3,
          1,
          3,
          2,
          3,
          1,
          2,
          3,
          2,
          1,
          3,
          3,
          2,
          0,
          0,
          0,
          0,
          0,
          0,
          0,
          1,
          2,
          2,
          1,
          3,
          2,
          3,
          2,
          2,
          3,
          1,
          3,
          2,
          3,
          1,
          3,
          2,
          1,
          3,
          2,
          1,
          3,
          3,
          1,
          3,
          2,
          1,
          0,
          0,
          0,
          0,
          1,
          2,
          1,
          0,
          0,
          0,
          2,
          1,
          3,
          2,
          3,
          3,
          2,
          1,
          3,
          1,
          3,
          2,
          1,
          2,
          1,
          3,
          1,
          2,
          3,
          1,
          2,
          2,
          2,
          1,
          3,
          3,
          2,
          1,
          2,
          3,
          1,
          3,
          2,
          1,
          1,
          2,
          3,
          1,
          2,
          2,
          3,
          1,
          3,
          2,
          1,
          3,
          1,
          1,
          3,
          1,
          2,
          2,
          3,
          2,
          1,
          2,
          3,
          1,
          1,
          2,
          2,
          3,
          1,
          3,
          1,
          3,
          3,
          1,
          1,
          2,
          1,
          1,
          1,
          3,
          2,
          1,
          2,
          1,
          3,
          2,
          3,
          1,
          3,
          2,
          2,
          1,
          3,
          1,
          2,
          3,
          2,
          3,
          1,
          2,
          2,
          1,
          3,
          1,
          2,
          1,
          2,
          3,
          1,
          2,
          1,
          1,
          2,
          3,
          2,
          1,
          2,
          1,
          3,
          3,
          1,
          1,
          3,
          2,
          2,
          1,
          3,
          1,
          2,
          1,
          2,
          3,
          0,
          2,
          3,
          1,
          0,
          0,
          0,
          2,
          1,
          3,
          0,
          3,
          2,
          1,
          2,
          1,
          2,
          3,
          1,
          2,
          1,
          2,
          1,
          3,
          1,
          2,
          1,
          3,
          1,
          3,
          2,
          1,
          3,
          2,
          2,
          1,
          3,
          0,
          2,
          3,
          2,
          3,
          0,
          2,
          1,
          3,
          1,
          3,
          1,
          2,
          2,
          1,
          2,
          3,
          2,
          3,
          1,
          3,
          2,
          1,
          1,
          1,
          3,
          1,
          1,
          2,
          3,
          3,
          1,
          1,
          1,
          0,
          2,
          1,
          1,
          3,
          2,
          3,
          2,
          2,
          1,
          2,
          1,
          3,
          1,
          3,
          3,
          2,
          1,
          3,
          1,
          2,
          3,
          2,
          1,
          2,
          1,
          2,
          3,
          2,
          1,
          2,
          3,
          1,
          1,
          2,
          2,
          3,
          1,
          3,
          1,
          3,
          1,
          2,
          1,
          3,
          2,
          1,
          2,
          2,
          2,
          2,
          3,
          1,
          2,
          1,
          3,
          2,
          1,
          3,
          2,
          3,
          1,
          2,
          2,
          1,
          3,
          2,
          3,
          1,
          3,
          1,
          2,
          3,
          1,
          2,
          1,
          3,
          1,
          2,
          3,
          3,
          1,
          2,
          3,
          1,
          3,
          3,
          2,
          2,
          1,
          3,
          1,
          3,
          2,
          3,
          2,
          1,
          3,
          0,
          2,
          1,
          1,
          3,
          2,
          1,
          1,
          2,
          3,
          2,
          1,
          1,
          1,
          2,
          2,
          1,
          2,
          2,
          3,
          1,
          2,
          3,
          1,
          3,
          1,
          0,
          0,
          2,
          0,
          3,
          1,
          0,
          0,
          2,
          2,
          1,
          3,
          2,
          3,
          1,
          2,
          3,
          2,
          3,
          1,
          2,
          3,
          3,
          1,
          2,
          1,
          3,
          2,
          2,
          3,
          1,
          2,
          3,
          0,
          2,
          3,
          1,
          2,
          1,
          3,
          3,
          2,
          1,
          1,
          3,
          2,
          1,
          3,
          3,
          1,
          2,
          1,
          1,
          3,
          3,
          2,
          1,
          2,
          1,
          2,
          2,
          0,
          2,
          1,
          3,
          1,
          2,
          2,
          1,
          2,
          3,
          3,
          2,
          1,
          3,
          1,
          1,
          1,
          0,
          0,
          2,
          1,
          2,
          3,
          1,
          3,
          1,
          2,
          3,
          1,
          2,
          1,
          3,
          1,
          3,
          2,
          1,
          3,
          1,
          3,
          2,
          1,
          2,
          3,
          2,
          3,
          1,
          2,
          1,
          3,
          1,
          2,
          1,
          3,
          2,
          1,
          2,
          1,
          3,
          3,
          2,
          1,
          3,
          3,
          2,
          1,
          1,
          2,
          3,
          1,
          2,
          3,
          3,
          1,
          2,
          2,
          2,
          1,
          2,
          1,
          2,
          3,
          2,
          1,
          2,
          3,
          2,
          1,
          3,
          2,
          1,
          2,
          3,
          3,
          1,
          2,
          3,
          2,
          3,
          1,
          1,
          3,
          2,
          1,
          3,
          1,
          1,
          2,
          3,
          1,
          2,
          2,
          1,
          3,
          2,
          3,
          1,
          3,
          1,
          2,
          0,
          1,
          2,
          2,
          1,
          3,
          3,
          3,
          1,
          2,
          3,
          1,
          2,
          2,
          1,
          3,
          1,
          3,
          1,
          2,
          1,
          3,
          0,
          3,
          1,
          3,
          0,
          1,
          3,
          2,
          1,
          3,
          2,
          2,
          1,
          3,
          2,
          1,
          3,
          1,
          2,
          2,
          1,
          2,
          2,
          1,
          1,
          2,
          1,
          1,
          2,
          3,
          1,
          3,
          1,
          3,
          2,
          1,
          2,
          1,
          3,
          2,
          3,
          0,
          0,
          3,
          1,
          2,
          3,
          1,
          2,
          3,
          2,
          1,
          3,
          2,
          3,
          3,
          2,
          1,
          2,
          1,
          3,
          1,
          2,
          1,
          2,
          2,
          1,
          2,
          1,
          3,
          2,
          2,
          1,
          3,
          1,
          3,
          1,
          2,
          3,
          2,
          1,
          2,
          1,
          3,
          2,
          1,
          1,
          2,
          3,
          3,
          0,
          0,
          1,
          2,
          3,
          3,
          1,
          1,
          3,
          2,
          1,
          2,
          1,
          3,
          3,
          1,
          3,
          2,
          1,
          1,
          2,
          3,
          1,
          2,
          1,
          2,
          3,
          1,
          1,
          3,
          2,
          1,
          2,
          1,
          3,
          2,
          3,
          1,
          0,
          2,
          2,
          1,
          0,
          0,
          0,
          1,
          1,
          0,
          0,
          2,
          1,
          3,
          1,
          2,
          3,
          2,
          1,
          3,
          2,
          3,
          2,
          1,
          2,
          3,
          1,
          3,
          1,
          2,
          3,
          3,
          2,
          1,
          0,
          0,
          1,
          2,
          0,
          0,
          2,
          3,
          1,
          1,
          3,
          2,
          1,
          3,
          1,
          2,
          1,
          3,
          3,
          1,
          3,
          2,
          2,
          1,
          2,
          1,
          2,
          1,
          3,
          1,
          1,
          2,
          1,
          0,
          1,
          2,
          3,
          1,
          2,
          3,
          2,
          1,
          2,
          1,
          3,
          2,
          1,
          2,
          2,
          3,
          1,
          3,
          2,
          3,
          0,
          0,
          2,
          1,
          3,
          2,
          1,
          2,
          3,
          1,
          3,
          2,
          1,
          2,
          1,
          1,
          3,
          1,
          2,
          3,
          2,
          1,
          3,
          1,
          2,
          1,
          1,
          2,
          3,
          2,
          3,
          1,
          3,
          3,
          1,
          3,
          0,
          3,
          1,
          2,
          1,
          1,
          2,
          2,
          1,
          3,
          3,
          1,
          1,
          2,
          1,
          3,
          2,
          1,
          2,
          3,
          2,
          3,
          2,
          3,
          1,
          2,
          1,
          3,
          2,
          3,
          1,
          2,
          0,
          3,
          2,
          1,
          3,
          1,
          1,
          3,
          2,
          3,
          1,
          2,
          1,
          2,
          1,
          3,
          1,
          2,
          3,
          2,
          1,
          3,
          2,
          1,
          2,
          3,
          2,
          1,
          3,
          2,
          1,
          2,
          2,
          2,
          3,
          0,
          2,
          3,
          2,
          1,
          1,
          1,
          3,
          2,
          2,
          1,
          3,
          2,
          1,
          3,
          2,
          1,
          3,
          2,
          1,
          3,
          2,
          1,
          1,
          2,
          0,
          1,
          2,
          3,
          1,
          2,
          2,
          3,
          2,
          3,
          2,
          1,
          3,
          3,
          2,
          1,
          1,
          3,
          1,
          2,
          3,
          1,
          2,
          2,
          1,
          3,
          1,
          2,
          3,
          1,
          2,
          3,
          3,
          1,
          2,
          1,
          3,
          1,
          2,
          3,
          1,
          2,
          1,
          3,
          1,
          3,
          2,
          1,
          2,
          3,
          2,
          2,
          2,
          0,
          0,
          0,
          0,
          0,
          0,
          3,
          3,
          2,
          1,
          3,
          0,
          3,
          1,
          2,
          2,
          2,
          2,
          3,
          0,
          1,
          1,
          2,
          3,
          2,
          1,
          2,
          1,
          1,
          1,
          3,
          2,
          1,
          2,
          1,
          1,
          3,
          2,
          2,
          3,
          0,
          0,
          0,
          0,
          0,
          0,
          2,
          1,
          3,
          2,
          3,
          1,
          3,
          1,
          2,
          1,
          2,
          2,
          0,
          0,
          0,
          2,
          1,
          0,
          0,
          3,
          2,
          1,
          3,
          1,
          2,
          2,
          1,
          0,
          3,
          0,
          2,
          2,
          1,
          2,
          1,
          3,
          2,
          1,
          2,
          3,
          1,
          3,
          1,
          1,
          2,
          1,
          3,
          2,
          1,
          2,
          1,
          3,
          1,
          3,
          2,
          1,
          2,
          3,
          2,
          1,
          3,
          3,
          1,
          2,
          3,
          3,
          3,
          2,
          0,
          0,
          0,
          0,
          3,
          2,
          1,
          2,
          3,
          2,
          1,
          0,
          0,
          0,
          0,
          0,
          0,
          0,
          0,
          0,
          0,
          2,
          1,
          2,
          2,
          3,
          1,
          2,
          3,
          1,
          3,
          2,
          2,
          2,
          1,
          2,
          3,
          1,
          3,
          2,
          1,
          3,
          1,
          2,
          1,
          3,
          1,
          2,
          3,
          2,
          2,
          1,
          3,
          1,
          2,
          3,
          1,
          0,
          0,
          1,
          3,
          1,
          2,
          2,
          3,
          2,
          1,
          1,
          2,
          3,
          1,
          1,
          2,
          1,
          2,
          3,
          0,
          0,
          0,
          0,
          1,
          3,
          1,
          2,
          3,
          3,
          1,
          2,
          1,
          2,
          3,
          3,
          2,
          3,
          2,
          3,
          1,
          2,
          1,
          2,
          3,
          3,
          1,
          1,
          3,
          0,
          0,
          0,
          0,
          0,
          0,
          0,
          0,
          2,
          3,
          1,
          1,
          3,
          2,
          1,
          3,
          3,
          1,
          2,
          3,
          1,
          2,
          1,
          2,
          1,
          3,
          2,
          1,
          2,
          3,
          2,
          2,
          1,
          1,
          1,
          1,
          1,
          3,
          1,
          2,
          3,
          0,
          0,
          0,
          0,
          0,
          0,
          0,
          0,
          1,
          3,
          2,
          0,
          0,
          0,
          0,
          3,
          1,
          2,
          3,
          2,
          1,
          1,
          3,
          2,
          0,
          2,
          0,
          0,
          0,
          0,
          1,
          3,
          1,
          3,
          2,
          1,
          3,
          1,
          2,
          2,
          3,
          2,
          0,
          0,
          0,
          0,
          0,
          0,
          0,
          3,
          1,
          2,
          1,
          2,
          3,
          2,
          1,
          3,
          0,
          0,
          0,
          0,
          0,
          1,
          0,
          0,
          1,
          2
         ],
         "x0": " ",
         "xaxis": "x",
         "y": [
          20,
          28,
          14,
          10,
          14,
          33,
          46,
          31,
          20,
          22,
          15,
          13,
          38,
          13,
          34,
          12,
          29,
          10,
          24,
          24,
          25,
          18,
          21,
          13,
          33,
          64,
          22,
          45,
          39,
          8,
          32,
          31,
          41,
          32,
          103,
          36,
          122,
          89,
          40,
          43,
          30,
          44,
          35,
          157,
          80,
          33,
          35,
          28,
          39,
          65,
          109,
          23,
          34,
          6,
          25,
          38,
          42,
          69,
          59,
          34,
          12,
          16,
          33,
          32,
          8,
          31,
          72,
          22,
          22,
          25,
          18,
          62,
          35,
          47,
          32,
          26,
          34,
          -25,
          -26,
          45,
          26,
          52,
          2,
          165,
          156,
          59,
          20,
          35,
          76,
          6,
          37,
          49,
          247,
          35,
          42,
          62,
          43,
          26,
          25,
          55,
          58,
          44,
          28,
          40,
          17,
          38,
          38,
          40,
          71,
          55,
          34,
          21,
          13,
          18,
          28,
          22,
          39,
          11,
          15,
          94,
          87,
          27,
          38,
          49,
          29,
          111,
          77,
          45,
          40,
          43,
          32,
          104,
          96,
          93,
          13,
          86,
          20,
          37,
          32,
          22,
          5,
          44,
          22,
          3,
          63,
          46,
          39,
          6,
          50,
          50,
          45,
          61,
          48,
          20,
          50,
          39,
          65,
          33,
          111,
          41,
          56,
          19,
          13,
          73,
          41,
          73,
          136,
          14,
          77,
          50,
          85,
          43,
          41,
          61,
          74,
          89,
          84,
          222,
          57,
          66,
          146,
          52,
          28,
          34,
          18,
          11,
          93,
          100,
          58,
          47,
          32,
          65,
          40,
          49,
          30,
          0,
          32,
          44,
          118,
          -656,
          20,
          12,
          58,
          29,
          99,
          27,
          27,
          41,
          41,
          56,
          38,
          112,
          78,
          67,
          12,
          44,
          131,
          43,
          31,
          70,
          58,
          63,
          25,
          23,
          115,
          32,
          46,
          52,
          79,
          62,
          52,
          -657,
          62,
          80,
          16,
          68,
          15,
          23,
          84,
          105,
          16,
          60,
          39,
          164,
          70,
          64,
          17,
          140,
          57,
          18,
          32,
          58,
          28,
          52,
          96,
          42,
          133,
          43,
          90,
          37,
          38,
          35,
          48,
          53,
          71,
          36,
          126,
          52,
          93,
          13,
          16,
          44,
          38,
          48,
          67,
          60,
          51,
          175,
          36,
          65,
          94,
          48,
          38,
          31,
          69,
          65,
          55,
          17,
          30,
          51,
          136,
          15,
          32,
          33,
          12,
          65,
          82,
          34,
          35,
          12,
          40,
          16,
          9,
          41,
          97,
          29,
          17,
          65,
          64,
          41,
          66,
          26,
          71,
          30,
          20,
          41,
          39,
          40,
          35,
          32,
          758,
          41,
          20,
          41,
          19,
          43,
          20,
          44,
          20,
          28,
          107,
          45,
          58,
          120,
          123,
          147,
          79,
          34,
          22,
          85,
          30,
          42,
          40,
          24,
          21,
          23,
          15,
          21,
          19,
          57,
          34,
          31,
          15,
          39,
          13,
          10,
          15,
          24,
          100,
          35,
          8,
          53,
          33,
          16,
          14,
          23,
          53,
          21,
          15,
          20,
          149,
          35,
          72,
          60,
          20,
          29,
          38,
          20,
          13,
          35,
          35,
          45,
          89,
          27,
          65,
          85,
          28,
          47,
          42,
          30,
          29,
          39,
          76,
          46,
          92,
          93,
          117,
          45,
          54,
          30,
          36,
          17,
          10,
          37,
          56,
          37,
          42,
          48,
          53,
          59,
          31,
          44,
          39,
          13,
          34,
          25,
          47,
          18,
          24,
          86,
          54,
          38,
          -1402,
          27,
          30,
          59,
          20,
          39,
          67,
          20,
          43,
          43,
          117,
          164,
          98,
          165,
          39,
          78,
          72,
          -1330,
          50,
          23,
          -1376,
          -1422,
          35,
          69,
          35,
          34,
          52,
          63,
          32,
          55,
          80,
          112,
          46,
          53,
          60,
          42,
          30,
          46,
          15,
          24,
          40,
          82,
          37,
          35,
          121,
          38,
          17,
          39,
          13,
          27,
          21,
          22,
          47,
          27,
          31,
          94,
          12,
          46,
          46,
          84,
          25,
          27,
          84,
          67,
          47,
          50,
          21,
          34,
          64,
          17,
          49,
          73,
          15,
          71,
          164,
          20,
          14,
          83,
          20,
          84,
          65,
          39,
          43,
          70,
          48,
          44,
          26,
          769,
          74,
          58,
          23,
          38,
          50,
          65,
          39,
          23,
          38,
          30,
          23,
          61,
          35,
          13,
          17,
          34,
          38,
          71,
          73,
          32,
          21,
          37,
          29,
          24,
          26,
          35,
          102,
          61,
          14,
          25,
          10,
          61,
          11,
          9,
          33,
          96,
          99,
          29,
          23,
          53,
          44,
          58,
          67,
          22,
          14,
          29,
          66,
          41,
          37,
          32,
          42,
          21,
          92,
          82,
          15,
          41,
          58,
          48,
          19,
          20,
          16,
          50,
          28,
          33,
          31,
          30,
          35,
          28,
          76,
          29,
          22,
          15,
          -1387,
          30,
          26,
          16,
          22,
          69,
          119,
          40,
          47,
          34,
          23,
          62,
          101,
          24,
          47,
          89,
          30,
          36,
          39,
          89,
          48,
          130,
          53,
          29,
          71,
          69,
          64,
          171,
          105,
          46,
          19,
          37,
          57,
          52,
          84,
          81,
          31,
          29,
          41,
          96,
          41,
          44,
          38,
          10,
          28,
          31,
          51,
          78,
          28,
          31,
          37,
          14,
          64,
          65,
          20,
          62,
          41,
          15,
          36,
          38,
          15,
          11,
          35,
          25,
          34,
          51,
          25,
          52,
          26,
          59,
          12,
          39,
          31,
          40,
          126,
          123,
          96,
          37,
          21,
          25,
          26,
          50,
          34,
          28,
          75,
          25,
          40,
          24,
          14,
          18,
          16,
          14,
          34,
          38,
          14,
          55,
          20,
          67,
          42,
          83,
          35,
          10,
          22,
          48,
          33,
          20,
          63,
          24,
          20,
          13,
          48,
          51,
          30,
          26,
          24,
          70,
          37,
          25,
          54,
          34,
          107,
          36,
          144,
          19,
          66,
          31,
          39,
          47,
          22,
          77,
          31,
          11,
          42,
          28,
          135,
          30,
          81,
          10,
          83,
          38,
          44,
          25,
          48,
          19,
          30,
          49,
          39,
          47,
          62,
          47,
          76,
          27,
          93,
          57,
          31,
          48,
          37,
          69,
          51,
          102,
          108,
          23,
          75,
          13,
          23,
          18,
          34,
          76,
          15,
          25,
          51,
          62,
          37,
          10,
          21,
          31,
          33,
          30,
          57,
          20,
          41,
          43,
          41,
          74,
          40,
          56,
          38,
          15,
          44,
          70,
          25,
          11,
          54,
          85,
          113,
          51,
          66,
          24,
          9,
          30,
          25,
          19,
          43,
          46,
          36,
          10,
          13,
          54,
          71,
          43,
          22,
          13,
          35,
          55,
          27,
          27,
          22,
          34,
          10,
          48,
          50,
          36,
          22,
          29,
          31,
          39,
          80,
          12,
          43,
          16,
          63,
          20,
          41,
          37,
          43,
          74,
          82,
          22,
          41,
          12,
          22,
          29,
          36,
          53,
          41,
          38,
          20,
          32,
          44,
          76,
          92,
          67,
          55,
          40,
          66,
          31,
          60,
          66,
          41,
          10,
          31,
          36,
          56,
          38,
          49,
          65,
          48,
          13,
          27,
          31,
          8,
          7,
          64,
          12,
          24,
          81,
          32,
          74,
          68,
          64,
          42,
          20,
          24,
          29,
          58,
          33,
          45,
          109,
          25,
          20,
          32,
          20,
          81,
          36,
          36,
          75,
          17,
          32,
          173,
          68,
          81,
          54,
          22,
          26,
          56,
          20,
          12,
          47,
          31,
          58,
          41,
          61,
          28,
          33,
          38,
          29,
          35,
          52,
          48,
          21,
          49,
          36,
          60,
          47,
          21,
          21,
          23,
          -693,
          29,
          26,
          65,
          26,
          38,
          30,
          42,
          37,
          32,
          45,
          62,
          16,
          31,
          88,
          86,
          80,
          44,
          46,
          67,
          48,
          14,
          26,
          64,
          13,
          58,
          31,
          112,
          33,
          64,
          31,
          70,
          60,
          135,
          66,
          27,
          58,
          -1375,
          30,
          104,
          24,
          45,
          74,
          57,
          15,
          25,
          31,
          59,
          58,
          12,
          21,
          37,
          41,
          66,
          46,
          35,
          71,
          29,
          34,
          25,
          13,
          19,
          31,
          26,
          20,
          67,
          55,
          46,
          40,
          22,
          24,
          18,
          34,
          19,
          2,
          45,
          60,
          21,
          25,
          13,
          56,
          35,
          93,
          51,
          34,
          25,
          31,
          24,
          68,
          29,
          14,
          120,
          104,
          26,
          51,
          29,
          52,
          -705,
          39,
          65,
          40,
          48,
          17,
          17,
          45,
          29,
          51,
          40,
          35,
          83,
          27,
          23,
          32,
          32,
          49,
          28,
          30,
          52,
          9,
          0,
          36,
          39,
          22,
          78,
          15,
          38,
          46,
          38,
          31,
          52,
          73,
          73,
          71,
          47,
          41,
          47,
          73,
          52,
          27,
          18,
          50,
          32,
          22,
          21,
          11,
          20,
          34,
          54,
          26,
          80,
          31,
          38,
          62,
          54,
          50,
          51,
          78,
          88,
          72,
          45,
          29,
          42,
          20,
          51,
          84,
          28,
          17,
          25,
          67,
          56,
          79,
          64,
          23,
          68,
          49,
          28,
          18,
          24,
          46,
          29,
          60,
          48,
          64,
          50,
          21,
          89,
          32,
          25,
          25,
          57,
          39,
          32,
          40,
          23,
          22,
          30,
          43,
          133,
          42,
          126,
          17,
          46,
          39,
          39,
          21,
          104,
          71,
          26,
          54,
          21,
          23,
          21,
          49,
          14,
          17,
          49,
          24,
          19,
          31,
          23,
          28,
          22,
          32,
          56,
          87,
          24,
          56,
          93,
          33,
          35,
          78,
          0,
          161,
          86,
          85,
          30,
          33,
          72,
          13,
          33,
          59,
          193,
          58,
          30,
          163,
          117,
          31,
          35,
          84,
          10,
          30,
          38,
          31,
          34,
          51,
          45,
          42,
          19,
          59,
          39,
          7,
          83,
          255,
          9,
          29,
          61,
          17,
          65,
          205,
          21,
          51,
          58,
          71,
          152,
          58,
          112,
          26,
          32,
          36,
          0,
          54,
          30,
          181,
          54,
          11,
          44,
          63,
          53,
          28,
          23,
          95,
          42,
          51,
          26,
          21,
          26,
          43,
          32,
          11,
          42,
          110,
          10,
          36,
          67,
          22,
          53,
          23,
          91,
          92,
          0,
          22,
          24,
          38,
          35,
          108,
          49,
          38,
          46,
          10,
          67,
          16,
          49,
          28,
          45,
          20,
          30,
          44,
          30,
          37,
          40,
          174,
          89,
          59,
          43,
          56,
          52,
          29,
          34,
          35,
          36,
          48,
          21,
          42,
          23,
          77,
          43,
          27,
          28,
          91,
          26,
          15,
          42,
          18,
          17,
          141,
          42,
          123,
          104,
          52,
          31,
          24,
          11,
          56,
          40,
          10,
          58,
          42,
          37,
          21,
          33,
          39,
          52,
          23,
          13,
          28,
          32,
          43,
          35,
          31,
          56,
          54,
          44,
          12,
          22,
          65,
          69,
          25,
          59,
          42,
          18,
          18,
          90,
          39,
          42,
          22,
          30,
          36,
          44,
          4,
          27,
          35,
          24,
          27,
          22,
          113,
          25,
          48,
          29,
          175,
          23,
          62,
          123,
          58,
          133,
          63,
          13,
          40,
          30,
          40,
          45,
          34,
          77,
          53,
          21,
          57,
          151,
          45,
          59,
          -1391,
          31,
          25,
          23,
          144,
          40,
          62,
          56,
          32,
          55,
          51,
          114,
          52,
          34,
          43,
          67,
          96,
          30,
          29,
          58,
          23,
          147,
          58,
          27,
          18,
          265,
          53,
          388,
          254,
          36,
          121,
          119,
          46,
          41,
          10,
          102,
          41,
          20,
          40,
          40,
          42,
          17,
          15,
          0,
          86,
          72,
          23,
          72,
          57,
          43,
          48,
          65,
          43,
          35,
          151,
          63,
          25,
          51,
          18,
          44,
          17,
          12,
          12,
          51,
          43,
          22,
          30,
          39,
          7,
          29,
          21,
          79,
          41,
          22,
          32,
          36,
          23,
          24,
          11,
          24,
          24,
          34,
          33,
          64,
          40,
          22,
          18,
          14,
          51,
          38,
          14,
          23,
          47,
          23,
          38,
          11,
          32,
          84,
          12,
          29,
          84,
          53,
          26,
          78,
          126,
          37,
          16,
          33,
          58,
          27,
          15,
          23,
          33,
          84,
          2,
          31,
          11,
          10,
          75,
          35,
          119,
          37,
          64,
          41,
          36,
          149,
          38,
          7,
          41,
          48,
          41,
          27,
          61,
          23,
          19,
          65,
          79,
          48,
          102,
          32,
          14,
          40,
          135,
          35,
          80,
          51,
          54,
          121,
          55,
          37,
          58,
          50,
          104,
          43,
          54,
          20,
          23,
          111,
          32,
          40,
          63,
          134,
          14,
          57,
          16,
          42,
          -1385,
          22,
          84,
          43,
          57,
          119,
          72,
          151,
          80,
          39,
          23,
          56,
          50,
          20,
          22,
          63,
          31,
          24,
          58,
          36,
          29,
          42,
          54,
          86,
          36,
          41,
          12,
          30,
          49,
          26,
          17,
          17,
          20,
          163,
          45,
          100,
          69,
          50,
          61,
          28,
          21,
          35,
          72,
          43,
          49,
          30,
          55,
          43,
          36,
          31,
          70,
          23,
          49,
          57,
          39,
          15,
          17,
          19,
          33,
          39,
          11,
          28,
          21,
          13,
          45,
          19,
          26,
          21,
          23,
          42,
          102,
          0,
          25,
          49,
          113,
          8,
          38,
          18,
          43,
          52,
          51,
          34,
          10,
          15,
          38,
          50,
          13,
          54,
          43,
          65,
          13,
          31,
          33,
          38,
          97,
          104,
          47,
          52,
          20,
          31,
          69,
          38,
          -8,
          35,
          12,
          166,
          44,
          18,
          30,
          57,
          79,
          23,
          46,
          13,
          24,
          45,
          45,
          26,
          34,
          51,
          18,
          53,
          26,
          29,
          48,
          78,
          17,
          0,
          5,
          49,
          46,
          29,
          57,
          33,
          31,
          36,
          33,
          64,
          45,
          88,
          32,
          31,
          28,
          83,
          47,
          31,
          48,
          58,
          35,
          73,
          20,
          19,
          29,
          12,
          54,
          40,
          24,
          110,
          58,
          54,
          53,
          24,
          132,
          134,
          109,
          146,
          67,
          78,
          68,
          76,
          109,
          32,
          29,
          82,
          94,
          33,
          55,
          24,
          6,
          38,
          27,
          -1405,
          56,
          19,
          16,
          54,
          71,
          71,
          78,
          23,
          24,
          105,
          79,
          17,
          98,
          61,
          60,
          32,
          81,
          31,
          27,
          63,
          42,
          36,
          41,
          96,
          28,
          90,
          35,
          19,
          36,
          44,
          29,
          28,
          45,
          50,
          27,
          57,
          81,
          57,
          64,
          44,
          44,
          46,
          29,
          25,
          70,
          34,
          18,
          50,
          33,
          14,
          54,
          35,
          25,
          7,
          30,
          25,
          30,
          76,
          26,
          62,
          76,
          79,
          46,
          36,
          78,
          84,
          48,
          23,
          29,
          33,
          37,
          55,
          37,
          17,
          62,
          36,
          94,
          86,
          43,
          18,
          30,
          13,
          101,
          81,
          19,
          13,
          96,
          54,
          51,
          30,
          20,
          39,
          90,
          15,
          63,
          87,
          32,
          83,
          53,
          31,
          16,
          16,
          28,
          114,
          26,
          46,
          37,
          12,
          34,
          32,
          13,
          46,
          37,
          49,
          19,
          46,
          28,
          18,
          88,
          13,
          98,
          13,
          79,
          122,
          24,
          61,
          58,
          53,
          22,
          32,
          39,
          134,
          41,
          98,
          113,
          -670,
          38,
          6,
          32,
          25,
          34,
          41,
          40,
          39,
          19,
          23,
          55,
          34,
          105,
          40,
          182,
          118,
          77,
          55,
          77,
          201,
          36,
          58,
          83,
          12,
          41,
          12,
          42,
          43,
          35,
          10,
          40,
          32,
          23,
          37,
          92,
          92,
          55,
          76,
          49,
          40,
          22,
          36,
          33,
          94,
          18,
          97,
          36,
          68,
          21,
          91,
          78,
          48,
          48,
          25,
          88,
          24,
          50,
          37,
          27,
          20,
          113,
          36,
          24,
          46,
          74,
          49,
          40,
          25,
          26,
          22,
          78,
          29,
          29,
          26,
          20,
          35,
          16,
          70,
          49,
          29,
          93,
          76,
          47,
          48,
          57,
          15,
          10,
          43,
          24,
          11,
          17,
          26,
          9,
          7,
          20,
          44,
          53,
          26,
          64,
          7,
          30,
          31,
          24,
          31,
          46,
          41,
          32,
          29,
          26,
          15,
          25,
          29,
          52,
          30,
          28,
          56,
          40,
          13,
          17,
          36,
          80,
          49,
          35,
          28,
          57,
          39,
          27,
          92,
          21,
          56,
          54,
          37,
          28,
          45,
          52,
          14,
          82,
          57,
          22,
          32,
          48,
          123,
          16,
          16,
          44,
          20,
          17,
          52,
          34,
          17,
          45,
          16,
          53,
          60,
          7,
          37,
          59,
          44,
          62,
          46,
          23,
          20,
          24,
          30,
          29,
          97,
          48,
          49,
          30,
          45,
          13,
          6,
          39,
          19,
          34,
          30,
          27,
          59,
          42,
          57,
          33,
          55,
          49,
          46,
          14,
          103,
          56,
          66,
          67,
          15,
          24,
          86,
          94,
          67,
          45,
          34,
          11,
          59,
          16,
          38,
          29,
          57,
          43,
          45,
          120,
          21,
          57,
          13,
          38,
          38,
          19,
          34,
          120,
          54,
          53,
          38,
          48,
          24,
          90,
          51,
          21,
          39,
          15,
          18,
          32,
          27,
          61,
          41,
          79,
          28,
          42,
          20,
          21,
          89,
          79,
          35,
          49,
          105,
          33,
          125,
          117,
          90,
          -1394,
          34,
          30,
          63,
          58,
          87,
          16,
          139,
          34,
          115,
          88,
          7,
          28,
          27,
          76,
          40,
          64,
          40,
          26,
          20,
          26,
          100,
          26,
          4,
          80,
          27,
          24,
          51,
          67,
          24,
          45,
          55,
          23,
          113,
          51,
          43,
          27,
          51,
          44,
          22,
          10,
          36,
          39,
          40,
          0,
          39,
          52,
          60,
          17,
          44,
          44,
          19,
          64,
          29,
          9,
          35,
          13,
          42,
          26,
          42,
          59,
          36,
          32,
          38,
          74,
          12,
          21,
          130,
          75,
          34,
          35,
          44,
          89,
          19,
          28,
          35,
          15,
          16,
          46,
          35,
          19,
          78,
          52,
          40,
          27,
          34,
          76,
          76,
          62,
          23,
          28,
          35,
          26,
          40,
          33,
          58,
          17,
          44,
          41,
          55,
          30,
          31,
          53,
          39,
          18,
          18,
          56,
          18,
          156,
          60,
          95,
          30,
          36,
          20,
          21,
          37,
          39,
          7,
          41,
          20,
          57,
          15,
          35,
          112,
          31,
          59,
          55,
          118,
          15,
          31,
          62,
          29,
          62,
          33,
          16,
          72,
          29,
          40,
          45,
          59,
          19,
          55,
          45,
          34,
          17,
          16,
          9,
          96,
          37,
          145,
          74,
          23,
          88,
          26,
          44,
          41,
          23,
          41,
          132,
          22,
          58,
          90,
          56,
          88,
          56,
          25,
          6,
          34,
          8,
          18,
          20,
          9,
          18,
          32,
          27,
          28,
          41,
          26,
          23,
          73,
          91,
          55,
          45,
          38,
          30,
          20,
          76,
          38,
          28,
          19,
          10,
          42,
          22,
          16,
          91,
          64,
          33,
          17,
          104,
          23,
          57,
          53,
          16,
          71,
          8,
          82,
          119,
          28,
          28,
          67,
          29,
          36,
          39,
          58,
          39,
          120,
          41,
          36,
          47,
          32,
          22,
          28,
          68,
          68,
          28,
          30,
          54,
          62,
          88,
          28,
          38,
          37,
          58,
          19,
          30,
          45,
          45,
          36,
          93,
          23,
          772,
          30,
          47,
          7,
          90,
          23,
          -615,
          29,
          -659,
          11,
          69,
          28,
          51,
          47,
          29,
          35,
          35,
          32,
          74,
          30,
          37,
          25,
          29,
          62,
          30,
          44,
          45,
          50,
          52,
          44,
          34,
          51,
          15,
          83,
          -1352,
          37,
          117,
          29,
          44,
          35,
          16,
          65,
          38,
          75,
          26,
          57,
          57,
          49,
          53,
          41,
          49,
          28,
          77,
          99,
          47,
          44,
          45,
          24,
          14,
          14,
          141,
          67,
          57,
          45,
          77,
          32,
          44,
          41,
          23,
          23,
          66,
          22,
          30,
          16,
          13,
          30,
          61,
          73,
          49,
          23,
          98,
          80,
          18,
          63,
          41,
          28,
          46,
          38,
          20,
          51,
          34,
          36,
          21,
          15,
          15,
          17,
          25,
          42,
          13,
          11,
          42,
          41,
          61,
          38,
          78,
          77,
          185,
          60,
          37,
          33,
          27,
          10,
          89,
          52,
          36,
          40,
          55,
          27,
          33,
          48,
          40,
          24,
          80,
          0,
          146,
          93,
          34,
          45,
          51,
          30,
          85,
          60,
          20,
          77,
          55,
          43,
          38,
          10,
          19,
          17,
          32,
          66,
          113,
          15,
          22,
          42,
          30,
          48,
          44,
          93,
          121,
          60,
          45,
          54,
          12,
          48,
          92,
          27,
          16,
          50,
          60,
          15,
          0,
          23,
          53,
          46,
          29,
          26,
          59,
          20,
          26,
          41,
          19,
          74,
          20,
          0,
          8,
          56,
          69,
          21,
          52,
          34,
          36,
          70,
          58,
          32,
          74,
          20,
          54,
          20,
          88,
          59,
          7,
          8,
          33,
          29,
          45,
          28,
          67,
          36,
          31,
          107
         ],
         "y0": " ",
         "yaxis": "y"
        },
        {
         "hoverinfo": "skip",
         "marker": {
          "color": "green",
          "opacity": 0.5
         },
         "type": "box",
         "x": [
          2,
          3,
          2,
          1,
          3,
          1,
          1,
          2,
          3,
          2,
          1,
          3,
          2,
          1,
          3,
          1,
          1,
          1,
          2,
          3,
          1,
          1,
          2,
          2,
          2,
          1,
          3,
          2,
          3,
          1,
          1,
          2,
          3,
          2,
          1,
          3,
          2,
          3,
          1,
          2,
          3,
          2,
          1,
          3,
          1,
          2,
          2,
          1,
          2,
          1,
          3,
          2,
          1,
          1,
          3,
          1,
          3,
          1,
          2,
          3,
          1,
          1,
          3,
          2,
          1,
          1,
          2,
          3,
          1,
          3,
          3,
          1,
          3,
          3,
          2,
          1,
          3,
          1,
          2,
          1,
          2,
          3,
          1,
          2,
          3,
          1,
          1,
          2,
          3,
          1,
          1,
          2,
          3,
          2,
          3,
          2,
          1,
          3,
          2,
          3,
          2,
          3,
          3,
          2,
          3,
          1,
          2,
          0,
          3,
          2,
          1,
          1,
          1,
          3,
          2,
          1,
          3,
          2,
          1,
          2,
          1,
          3,
          1,
          2,
          1,
          2,
          1,
          2,
          1,
          3,
          2,
          1,
          3,
          2,
          1,
          2,
          1,
          1,
          3,
          1,
          2,
          3,
          2,
          1,
          1,
          3,
          2,
          1,
          3,
          1,
          2,
          3,
          1,
          2,
          2,
          3,
          2,
          3,
          1,
          3,
          2,
          3,
          3,
          3,
          1,
          2,
          1,
          2,
          2,
          3,
          2,
          1,
          1,
          3,
          3,
          1,
          2,
          1,
          2,
          3,
          2,
          3,
          3,
          3,
          1,
          3,
          1,
          3,
          2,
          2,
          1,
          3,
          1,
          3,
          2,
          1,
          3,
          2,
          3,
          2,
          1,
          2,
          2,
          3,
          1,
          3,
          2,
          3,
          2,
          1,
          3,
          2,
          3,
          1,
          0,
          2,
          1,
          3,
          2,
          2,
          3,
          2,
          3,
          0,
          3,
          2,
          1,
          2,
          1,
          2,
          3,
          2,
          1,
          3,
          1,
          2,
          1,
          1,
          3,
          1,
          2,
          3,
          2,
          2,
          1,
          3,
          3,
          1,
          3,
          3,
          2,
          3,
          2,
          2,
          3,
          1,
          2,
          1,
          1,
          3,
          3,
          3,
          1,
          3,
          1,
          2,
          3,
          2,
          1,
          2,
          2,
          2,
          3,
          1,
          3,
          1,
          2,
          2,
          1,
          3,
          1,
          3,
          3,
          1,
          2,
          3,
          1,
          1,
          2,
          2,
          1,
          3,
          3,
          2,
          3,
          2,
          3,
          1,
          1,
          2,
          1,
          3,
          2,
          2,
          1,
          3,
          3,
          2,
          3,
          2,
          1,
          3,
          2,
          3,
          1,
          0,
          1,
          2,
          3,
          0,
          2,
          3,
          1,
          3,
          0,
          2,
          3,
          3,
          1,
          2,
          3,
          2,
          1,
          2,
          1,
          3,
          2,
          1,
          2,
          3,
          2,
          1,
          2,
          1,
          3,
          2,
          1,
          3,
          2,
          1,
          2,
          0,
          1,
          2,
          3,
          1,
          2,
          1,
          1,
          3,
          2,
          2,
          3,
          2,
          3,
          2,
          1,
          3,
          2,
          1,
          3,
          2,
          1,
          2,
          1,
          2,
          2,
          3,
          0,
          1,
          1,
          2,
          3,
          1,
          2,
          1,
          3,
          2,
          3,
          1,
          2,
          0,
          1,
          0,
          3,
          2,
          1,
          3,
          2,
          3,
          2,
          3,
          1,
          1,
          3,
          2,
          1,
          2,
          3,
          1,
          2,
          3,
          2,
          1,
          1,
          2,
          3,
          1,
          1,
          2,
          1,
          3,
          2,
          1,
          3,
          2,
          2,
          1,
          2,
          1,
          1,
          3,
          2,
          3,
          1,
          2,
          1,
          1,
          3,
          1,
          2,
          3,
          3,
          2,
          2,
          3,
          3,
          1,
          2,
          3,
          1,
          2,
          3,
          1,
          2,
          2,
          3,
          1,
          2,
          3,
          1,
          2,
          1,
          2,
          1,
          3,
          1,
          3,
          2,
          3,
          2,
          2,
          1,
          3,
          1,
          2,
          3,
          1,
          2,
          3,
          2,
          1,
          2,
          3,
          0,
          2,
          1,
          3,
          1,
          1,
          3,
          2,
          2,
          1,
          3,
          2,
          3,
          1,
          1,
          1,
          2,
          2,
          3,
          2,
          2,
          3,
          0,
          2,
          3,
          1,
          3,
          2,
          0,
          1,
          1,
          2,
          3,
          1,
          3,
          2,
          3,
          2,
          3,
          1,
          3,
          1,
          3,
          2,
          1,
          3,
          2,
          2,
          3,
          3,
          1,
          2,
          3,
          1,
          2,
          2,
          2,
          1,
          3,
          1,
          2,
          1,
          3,
          1,
          3,
          1,
          3,
          2,
          1,
          0,
          1,
          2,
          1,
          3,
          1,
          2,
          3,
          2,
          1,
          2,
          0,
          3,
          0,
          0,
          0,
          3,
          1,
          1,
          3,
          2,
          3,
          1,
          2,
          3,
          1,
          2,
          1,
          3,
          2,
          3,
          1,
          3,
          3,
          2,
          1,
          2,
          3,
          2,
          3,
          2,
          1,
          3,
          3,
          2,
          3,
          1,
          2,
          1,
          2,
          3,
          2,
          1,
          2,
          1,
          3,
          3,
          1,
          2,
          2,
          0,
          0,
          0,
          0,
          2,
          3,
          1,
          1,
          2,
          3,
          1,
          3,
          1,
          1,
          2,
          3,
          2,
          1,
          3,
          3,
          2,
          0,
          0,
          2,
          1,
          2,
          3,
          3,
          2,
          1,
          2,
          3,
          1,
          2,
          1,
          3,
          2,
          3,
          1,
          3,
          2,
          1,
          2,
          1,
          3,
          0,
          1,
          1,
          2,
          3,
          1,
          2,
          3,
          2,
          3,
          1,
          3,
          3,
          1,
          3,
          2,
          1,
          2,
          3,
          1,
          2,
          3,
          1,
          2,
          1,
          1,
          3,
          2,
          3,
          1,
          3,
          1,
          1,
          2,
          1,
          2,
          3,
          1,
          1,
          3,
          1,
          2,
          2,
          1,
          3,
          2,
          1,
          2,
          2,
          3,
          3,
          0,
          2,
          3,
          2,
          1,
          1,
          2,
          3,
          2,
          1,
          2,
          2,
          0,
          2,
          1,
          3,
          2,
          3,
          2,
          3,
          1,
          2,
          3,
          1,
          2,
          3,
          2,
          1,
          1,
          2,
          3,
          0,
          0,
          0,
          0,
          0,
          0,
          0,
          2,
          2,
          1,
          2,
          3,
          3,
          1,
          3,
          2,
          1,
          3,
          2,
          2,
          3,
          1,
          2,
          2,
          3,
          2,
          1,
          2,
          1,
          2,
          3,
          2,
          1,
          3,
          1,
          3,
          2,
          1,
          3,
          1,
          1,
          3,
          1,
          2,
          1,
          1,
          2,
          1,
          2,
          1,
          3,
          1,
          2,
          2,
          2,
          0,
          0,
          0,
          2,
          1,
          3,
          1,
          3,
          2,
          1,
          2,
          3,
          1,
          2,
          1,
          2,
          1,
          3,
          2,
          1,
          2,
          3,
          1,
          2,
          1,
          2,
          1,
          3,
          1,
          2,
          3,
          1,
          2,
          3,
          1,
          2,
          3,
          1,
          2,
          1,
          3,
          3,
          1,
          2,
          3,
          1,
          3,
          2,
          1,
          2,
          3,
          1,
          2,
          1,
          3,
          3,
          1,
          3,
          1,
          2,
          1,
          3,
          1,
          2,
          3,
          2,
          1,
          3,
          1,
          2,
          1,
          2,
          3,
          1,
          1,
          2,
          0,
          2,
          1,
          3,
          2,
          1,
          1,
          2,
          3,
          2,
          3,
          3,
          1,
          3,
          2,
          3,
          2,
          1,
          2,
          1,
          2,
          3,
          1,
          3,
          2,
          1,
          3,
          2,
          3,
          1,
          2,
          2,
          3,
          1,
          3,
          2,
          1,
          0,
          1,
          1,
          0,
          0,
          1,
          3,
          1,
          2,
          3,
          1,
          2,
          3,
          1,
          2,
          1,
          3,
          2,
          1,
          3,
          2,
          1,
          3,
          2,
          1,
          2,
          3,
          2,
          1,
          2,
          3,
          2,
          2,
          3,
          1,
          3,
          2,
          2,
          3,
          1,
          2,
          1,
          3,
          1,
          3,
          2,
          3,
          1,
          2,
          3,
          1,
          1,
          2,
          1,
          3,
          1,
          1,
          3,
          2,
          1,
          2,
          1,
          3,
          2,
          1,
          1,
          0,
          3,
          0,
          0,
          0,
          0,
          3,
          1,
          2,
          3,
          1,
          2,
          3,
          1,
          2,
          1,
          2,
          3,
          1,
          2,
          1,
          3,
          2,
          1,
          2,
          3,
          2,
          0,
          1,
          2,
          3,
          1,
          2,
          3,
          0,
          0,
          2,
          1,
          1,
          3,
          1,
          2,
          1,
          2,
          3,
          1,
          1,
          3,
          2,
          1,
          2,
          3,
          2,
          1,
          1,
          1,
          2,
          3,
          1,
          3,
          2,
          3,
          2,
          1,
          3,
          1,
          2,
          3,
          1,
          3,
          0,
          0,
          0,
          2,
          3,
          1,
          2,
          3,
          2,
          1,
          3,
          1,
          3,
          2,
          1,
          2,
          3,
          2,
          1,
          3,
          1,
          2,
          3,
          1,
          2,
          2,
          3,
          1,
          2,
          1,
          2,
          3,
          3,
          2,
          1,
          2,
          3,
          2,
          1,
          3,
          2,
          2,
          2,
          1,
          3,
          0,
          3,
          2,
          1,
          3,
          1,
          2,
          2,
          3,
          3,
          1,
          3,
          2,
          1,
          2,
          2,
          3,
          2,
          1,
          3,
          1,
          3,
          3,
          1,
          2,
          2,
          3,
          1,
          1,
          3,
          2,
          1,
          2,
          1,
          1,
          3,
          1,
          2,
          1,
          2,
          2,
          3,
          1,
          3,
          1,
          2,
          3,
          0,
          2,
          0,
          2,
          1,
          1,
          3,
          2,
          1,
          3,
          1,
          2,
          3,
          2,
          3,
          1,
          2,
          2,
          1,
          3,
          1,
          3,
          1,
          0,
          0,
          0,
          3,
          2,
          1,
          2,
          2,
          1,
          3,
          2,
          2,
          3,
          1,
          1,
          2,
          1,
          1,
          2,
          1,
          1,
          1,
          3,
          1,
          3,
          2,
          3,
          1,
          2,
          0,
          2,
          3,
          2,
          1,
          1,
          3,
          2,
          1,
          3,
          3,
          2,
          3,
          1,
          3,
          2,
          3,
          1,
          2,
          3,
          2,
          1,
          3,
          3,
          2,
          0,
          0,
          0,
          0,
          0,
          0,
          0,
          1,
          2,
          2,
          1,
          3,
          2,
          3,
          2,
          2,
          3,
          1,
          3,
          2,
          3,
          1,
          3,
          2,
          1,
          3,
          2,
          1,
          3,
          3,
          1,
          3,
          2,
          1,
          0,
          0,
          0,
          0,
          1,
          2,
          1,
          0,
          0,
          0,
          2,
          1,
          3,
          2,
          3,
          3,
          2,
          1,
          3,
          1,
          3,
          2,
          1,
          2,
          1,
          3,
          1,
          2,
          3,
          1,
          2,
          2,
          2,
          1,
          3,
          3,
          2,
          1,
          2,
          3,
          1,
          3,
          2,
          1,
          1,
          2,
          3,
          1,
          2,
          2,
          3,
          1,
          3,
          2,
          1,
          3,
          1,
          1,
          3,
          1,
          2,
          2,
          3,
          2,
          1,
          2,
          3,
          1,
          1,
          2,
          2,
          3,
          1,
          3,
          1,
          3,
          3,
          1,
          1,
          2,
          1,
          1,
          1,
          3,
          2,
          1,
          2,
          1,
          3,
          2,
          3,
          1,
          3,
          2,
          2,
          1,
          3,
          1,
          2,
          3,
          2,
          3,
          1,
          2,
          2,
          1,
          3,
          1,
          2,
          1,
          2,
          3,
          1,
          2,
          1,
          1,
          2,
          3,
          2,
          1,
          2,
          1,
          3,
          3,
          1,
          1,
          3,
          2,
          2,
          1,
          3,
          1,
          2,
          1,
          2,
          3,
          0,
          2,
          3,
          1,
          0,
          0,
          0,
          2,
          1,
          3,
          0,
          3,
          2,
          1,
          2,
          1,
          2,
          3,
          1,
          2,
          1,
          2,
          1,
          3,
          1,
          2,
          1,
          3,
          1,
          3,
          2,
          1,
          3,
          2,
          2,
          1,
          3,
          0,
          2,
          3,
          2,
          3,
          0,
          2,
          1,
          3,
          1,
          3,
          1,
          2,
          2,
          1,
          2,
          3,
          2,
          3,
          1,
          3,
          2,
          1,
          1,
          1,
          3,
          1,
          1,
          2,
          3,
          3,
          1,
          1,
          1,
          0,
          2,
          1,
          1,
          3,
          2,
          3,
          2,
          2,
          1,
          2,
          1,
          3,
          1,
          3,
          3,
          2,
          1,
          3,
          1,
          2,
          3,
          2,
          1,
          2,
          1,
          2,
          3,
          2,
          1,
          2,
          3,
          1,
          1,
          2,
          2,
          3,
          1,
          3,
          1,
          3,
          1,
          2,
          1,
          3,
          2,
          1,
          2,
          2,
          2,
          2,
          3,
          1,
          2,
          1,
          3,
          2,
          1,
          3,
          2,
          3,
          1,
          2,
          2,
          1,
          3,
          2,
          3,
          1,
          3,
          1,
          2,
          3,
          1,
          2,
          1,
          3,
          1,
          2,
          3,
          3,
          1,
          2,
          3,
          1,
          3,
          3,
          2,
          2,
          1,
          3,
          1,
          3,
          2,
          3,
          2,
          1,
          3,
          0,
          2,
          1,
          1,
          3,
          2,
          1,
          1,
          2,
          3,
          2,
          1,
          1,
          1,
          2,
          2,
          1,
          2,
          2,
          3,
          1,
          2,
          3,
          1,
          3,
          1,
          0,
          0,
          2,
          0,
          3,
          1,
          0,
          0,
          2,
          2,
          1,
          3,
          2,
          3,
          1,
          2,
          3,
          2,
          3,
          1,
          2,
          3,
          3,
          1,
          2,
          1,
          3,
          2,
          2,
          3,
          1,
          2,
          3,
          0,
          2,
          3,
          1,
          2,
          1,
          3,
          3,
          2,
          1,
          1,
          3,
          2,
          1,
          3,
          3,
          1,
          2,
          1,
          1,
          3,
          3,
          2,
          1,
          2,
          1,
          2,
          2,
          0,
          2,
          1,
          3,
          1,
          2,
          2,
          1,
          2,
          3,
          3,
          2,
          1,
          3,
          1,
          1,
          1,
          0,
          0,
          2,
          1,
          2,
          3,
          1,
          3,
          1,
          2,
          3,
          1,
          2,
          1,
          3,
          1,
          3,
          2,
          1,
          3,
          1,
          3,
          2,
          1,
          2,
          3,
          2,
          3,
          1,
          2,
          1,
          3,
          1,
          2,
          1,
          3,
          2,
          1,
          2,
          1,
          3,
          3,
          2,
          1,
          3,
          3,
          2,
          1,
          1,
          2,
          3,
          1,
          2,
          3,
          3,
          1,
          2,
          2,
          2,
          1,
          2,
          1,
          2,
          3,
          2,
          1,
          2,
          3,
          2,
          1,
          3,
          2,
          1,
          2,
          3,
          3,
          1,
          2,
          3,
          2,
          3,
          1,
          1,
          3,
          2,
          1,
          3,
          1,
          1,
          2,
          3,
          1,
          2,
          2,
          1,
          3,
          2,
          3,
          1,
          3,
          1,
          2,
          0,
          1,
          2,
          2,
          1,
          3,
          3,
          3,
          1,
          2,
          3,
          1,
          2,
          2,
          1,
          3,
          1,
          3,
          1,
          2,
          1,
          3,
          0,
          3,
          1,
          3,
          0,
          1,
          3,
          2,
          1,
          3,
          2,
          2,
          1,
          3,
          2,
          1,
          3,
          1,
          2,
          2,
          1,
          2,
          2,
          1,
          1,
          2,
          1,
          1,
          2,
          3,
          1,
          3,
          1,
          3,
          2,
          1,
          2,
          1,
          3,
          2,
          3,
          0,
          0,
          3,
          1,
          2,
          3,
          1,
          2,
          3,
          2,
          1,
          3,
          2,
          3,
          3,
          2,
          1,
          2,
          1,
          3,
          1,
          2,
          1,
          2,
          2,
          1,
          2,
          1,
          3,
          2,
          2,
          1,
          3,
          1,
          3,
          1,
          2,
          3,
          2,
          1,
          2,
          1,
          3,
          2,
          1,
          1,
          2,
          3,
          3,
          0,
          0,
          1,
          2,
          3,
          3,
          1,
          1,
          3,
          2,
          1,
          2,
          1,
          3,
          3,
          1,
          3,
          2,
          1,
          1,
          2,
          3,
          1,
          2,
          1,
          2,
          3,
          1,
          1,
          3,
          2,
          1,
          2,
          1,
          3,
          2,
          3,
          1,
          0,
          2,
          2,
          1,
          0,
          0,
          0,
          1,
          1,
          0,
          0,
          2,
          1,
          3,
          1,
          2,
          3,
          2,
          1,
          3,
          2,
          3,
          2,
          1,
          2,
          3,
          1,
          3,
          1,
          2,
          3,
          3,
          2,
          1,
          0,
          0,
          1,
          2,
          0,
          0,
          2,
          3,
          1,
          1,
          3,
          2,
          1,
          3,
          1,
          2,
          1,
          3,
          3,
          1,
          3,
          2,
          2,
          1,
          2,
          1,
          2,
          1,
          3,
          1,
          1,
          2,
          1,
          0,
          1,
          2,
          3,
          1,
          2,
          3,
          2,
          1,
          2,
          1,
          3,
          2,
          1,
          2,
          2,
          3,
          1,
          3,
          2,
          3,
          0,
          0,
          2,
          1,
          3,
          2,
          1,
          2,
          3,
          1,
          3,
          2,
          1,
          2,
          1,
          1,
          3,
          1,
          2,
          3,
          2,
          1,
          3,
          1,
          2,
          1,
          1,
          2,
          3,
          2,
          3,
          1,
          3,
          3,
          1,
          3,
          0,
          3,
          1,
          2,
          1,
          1,
          2,
          2,
          1,
          3,
          3,
          1,
          1,
          2,
          1,
          3,
          2,
          1,
          2,
          3,
          2,
          3,
          2,
          3,
          1,
          2,
          1,
          3,
          2,
          3,
          1,
          2,
          0,
          3,
          2,
          1,
          3,
          1,
          1,
          3,
          2,
          3,
          1,
          2,
          1,
          2,
          1,
          3,
          1,
          2,
          3,
          2,
          1,
          3,
          2,
          1,
          2,
          3,
          2,
          1,
          3,
          2,
          1,
          2,
          2,
          2,
          3,
          0,
          2,
          3,
          2,
          1,
          1,
          1,
          3,
          2,
          2,
          1,
          3,
          2,
          1,
          3,
          2,
          1,
          3,
          2,
          1,
          3,
          2,
          1,
          1,
          2,
          0,
          1,
          2,
          3,
          1,
          2,
          2,
          3,
          2,
          3,
          2,
          1,
          3,
          3,
          2,
          1,
          1,
          3,
          1,
          2,
          3,
          1,
          2,
          2,
          1,
          3,
          1,
          2,
          3,
          1,
          2,
          3,
          3,
          1,
          2,
          1,
          3,
          1,
          2,
          3,
          1,
          2,
          1,
          3,
          1,
          3,
          2,
          1,
          2,
          3,
          2,
          2,
          2,
          0,
          0,
          0,
          0,
          0,
          0,
          3,
          3,
          2,
          1,
          3,
          0,
          3,
          1,
          2,
          2,
          2,
          2,
          3,
          0,
          1,
          1,
          2,
          3,
          2,
          1,
          2,
          1,
          1,
          1,
          3,
          2,
          1,
          2,
          1,
          1,
          3,
          2,
          2,
          3,
          0,
          0,
          0,
          0,
          0,
          0,
          2,
          1,
          3,
          2,
          3,
          1,
          3,
          1,
          2,
          1,
          2,
          2,
          0,
          0,
          0,
          2,
          1,
          0,
          0,
          3,
          2,
          1,
          3,
          1,
          2,
          2,
          1,
          0,
          3,
          0,
          2,
          2,
          1,
          2,
          1,
          3,
          2,
          1,
          2,
          3,
          1,
          3,
          1,
          1,
          2,
          1,
          3,
          2,
          1,
          2,
          1,
          3,
          1,
          3,
          2,
          1,
          2,
          3,
          2,
          1,
          3,
          3,
          1,
          2,
          3,
          3,
          3,
          2,
          0,
          0,
          0,
          0,
          3,
          2,
          1,
          2,
          3,
          2,
          1,
          0,
          0,
          0,
          0,
          0,
          0,
          0,
          0,
          0,
          0,
          2,
          1,
          2,
          2,
          3,
          1,
          2,
          3,
          1,
          3,
          2,
          2,
          2,
          1,
          2,
          3,
          1,
          3,
          2,
          1,
          3,
          1,
          2,
          1,
          3,
          1,
          2,
          3,
          2,
          2,
          1,
          3,
          1,
          2,
          3,
          1,
          0,
          0,
          1,
          3,
          1,
          2,
          2,
          3,
          2,
          1,
          1,
          2,
          3,
          1,
          1,
          2,
          1,
          2,
          3,
          0,
          0,
          0,
          0,
          1,
          3,
          1,
          2,
          3,
          3,
          1,
          2,
          1,
          2,
          3,
          3,
          2,
          3,
          2,
          3,
          1,
          2,
          1,
          2,
          3,
          3,
          1,
          1,
          3,
          0,
          0,
          0,
          0,
          0,
          0,
          0,
          0,
          2,
          3,
          1,
          1,
          3,
          2,
          1,
          3,
          3,
          1,
          2,
          3,
          1,
          2,
          1,
          2,
          1,
          3,
          2,
          1,
          2,
          3,
          2,
          2,
          1,
          1,
          1,
          1,
          1,
          3,
          1,
          2,
          3,
          0,
          0,
          0,
          0,
          0,
          0,
          0,
          0,
          1,
          3,
          2,
          0,
          0,
          0,
          0,
          3,
          1,
          2,
          3,
          2,
          1,
          1,
          3,
          2,
          0,
          2,
          0,
          0,
          0,
          0,
          1,
          3,
          1,
          3,
          2,
          1,
          3,
          1,
          2,
          2,
          3,
          2,
          0,
          0,
          0,
          0,
          0,
          0,
          0,
          3,
          1,
          2,
          1,
          2,
          3,
          2,
          1,
          3,
          0,
          0,
          0,
          0,
          0,
          1,
          0,
          0,
          1,
          2
         ],
         "y": [
          20,
          28,
          14,
          10,
          14,
          33,
          46,
          31,
          20,
          22,
          15,
          13,
          38,
          13,
          34,
          12,
          29,
          10,
          24,
          24,
          25,
          18,
          21,
          13,
          33,
          64,
          22,
          45,
          39,
          8,
          32,
          31,
          41,
          32,
          103,
          36,
          122,
          89,
          40,
          43,
          30,
          44,
          35,
          157,
          80,
          33,
          35,
          28,
          39,
          65,
          109,
          23,
          34,
          6,
          25,
          38,
          42,
          69,
          59,
          34,
          12,
          16,
          33,
          32,
          8,
          31,
          72,
          22,
          22,
          25,
          18,
          62,
          35,
          47,
          32,
          26,
          34,
          -25,
          -26,
          45,
          26,
          52,
          2,
          165,
          156,
          59,
          20,
          35,
          76,
          6,
          37,
          49,
          247,
          35,
          42,
          62,
          43,
          26,
          25,
          55,
          58,
          44,
          28,
          40,
          17,
          38,
          38,
          40,
          71,
          55,
          34,
          21,
          13,
          18,
          28,
          22,
          39,
          11,
          15,
          94,
          87,
          27,
          38,
          49,
          29,
          111,
          77,
          45,
          40,
          43,
          32,
          104,
          96,
          93,
          13,
          86,
          20,
          37,
          32,
          22,
          5,
          44,
          22,
          3,
          63,
          46,
          39,
          6,
          50,
          50,
          45,
          61,
          48,
          20,
          50,
          39,
          65,
          33,
          111,
          41,
          56,
          19,
          13,
          73,
          41,
          73,
          136,
          14,
          77,
          50,
          85,
          43,
          41,
          61,
          74,
          89,
          84,
          222,
          57,
          66,
          146,
          52,
          28,
          34,
          18,
          11,
          93,
          100,
          58,
          47,
          32,
          65,
          40,
          49,
          30,
          0,
          32,
          44,
          118,
          -656,
          20,
          12,
          58,
          29,
          99,
          27,
          27,
          41,
          41,
          56,
          38,
          112,
          78,
          67,
          12,
          44,
          131,
          43,
          31,
          70,
          58,
          63,
          25,
          23,
          115,
          32,
          46,
          52,
          79,
          62,
          52,
          -657,
          62,
          80,
          16,
          68,
          15,
          23,
          84,
          105,
          16,
          60,
          39,
          164,
          70,
          64,
          17,
          140,
          57,
          18,
          32,
          58,
          28,
          52,
          96,
          42,
          133,
          43,
          90,
          37,
          38,
          35,
          48,
          53,
          71,
          36,
          126,
          52,
          93,
          13,
          16,
          44,
          38,
          48,
          67,
          60,
          51,
          175,
          36,
          65,
          94,
          48,
          38,
          31,
          69,
          65,
          55,
          17,
          30,
          51,
          136,
          15,
          32,
          33,
          12,
          65,
          82,
          34,
          35,
          12,
          40,
          16,
          9,
          41,
          97,
          29,
          17,
          65,
          64,
          41,
          66,
          26,
          71,
          30,
          20,
          41,
          39,
          40,
          35,
          32,
          758,
          41,
          20,
          41,
          19,
          43,
          20,
          44,
          20,
          28,
          107,
          45,
          58,
          120,
          123,
          147,
          79,
          34,
          22,
          85,
          30,
          42,
          40,
          24,
          21,
          23,
          15,
          21,
          19,
          57,
          34,
          31,
          15,
          39,
          13,
          10,
          15,
          24,
          100,
          35,
          8,
          53,
          33,
          16,
          14,
          23,
          53,
          21,
          15,
          20,
          149,
          35,
          72,
          60,
          20,
          29,
          38,
          20,
          13,
          35,
          35,
          45,
          89,
          27,
          65,
          85,
          28,
          47,
          42,
          30,
          29,
          39,
          76,
          46,
          92,
          93,
          117,
          45,
          54,
          30,
          36,
          17,
          10,
          37,
          56,
          37,
          42,
          48,
          53,
          59,
          31,
          44,
          39,
          13,
          34,
          25,
          47,
          18,
          24,
          86,
          54,
          38,
          -1402,
          27,
          30,
          59,
          20,
          39,
          67,
          20,
          43,
          43,
          117,
          164,
          98,
          165,
          39,
          78,
          72,
          -1330,
          50,
          23,
          -1376,
          -1422,
          35,
          69,
          35,
          34,
          52,
          63,
          32,
          55,
          80,
          112,
          46,
          53,
          60,
          42,
          30,
          46,
          15,
          24,
          40,
          82,
          37,
          35,
          121,
          38,
          17,
          39,
          13,
          27,
          21,
          22,
          47,
          27,
          31,
          94,
          12,
          46,
          46,
          84,
          25,
          27,
          84,
          67,
          47,
          50,
          21,
          34,
          64,
          17,
          49,
          73,
          15,
          71,
          164,
          20,
          14,
          83,
          20,
          84,
          65,
          39,
          43,
          70,
          48,
          44,
          26,
          769,
          74,
          58,
          23,
          38,
          50,
          65,
          39,
          23,
          38,
          30,
          23,
          61,
          35,
          13,
          17,
          34,
          38,
          71,
          73,
          32,
          21,
          37,
          29,
          24,
          26,
          35,
          102,
          61,
          14,
          25,
          10,
          61,
          11,
          9,
          33,
          96,
          99,
          29,
          23,
          53,
          44,
          58,
          67,
          22,
          14,
          29,
          66,
          41,
          37,
          32,
          42,
          21,
          92,
          82,
          15,
          41,
          58,
          48,
          19,
          20,
          16,
          50,
          28,
          33,
          31,
          30,
          35,
          28,
          76,
          29,
          22,
          15,
          -1387,
          30,
          26,
          16,
          22,
          69,
          119,
          40,
          47,
          34,
          23,
          62,
          101,
          24,
          47,
          89,
          30,
          36,
          39,
          89,
          48,
          130,
          53,
          29,
          71,
          69,
          64,
          171,
          105,
          46,
          19,
          37,
          57,
          52,
          84,
          81,
          31,
          29,
          41,
          96,
          41,
          44,
          38,
          10,
          28,
          31,
          51,
          78,
          28,
          31,
          37,
          14,
          64,
          65,
          20,
          62,
          41,
          15,
          36,
          38,
          15,
          11,
          35,
          25,
          34,
          51,
          25,
          52,
          26,
          59,
          12,
          39,
          31,
          40,
          126,
          123,
          96,
          37,
          21,
          25,
          26,
          50,
          34,
          28,
          75,
          25,
          40,
          24,
          14,
          18,
          16,
          14,
          34,
          38,
          14,
          55,
          20,
          67,
          42,
          83,
          35,
          10,
          22,
          48,
          33,
          20,
          63,
          24,
          20,
          13,
          48,
          51,
          30,
          26,
          24,
          70,
          37,
          25,
          54,
          34,
          107,
          36,
          144,
          19,
          66,
          31,
          39,
          47,
          22,
          77,
          31,
          11,
          42,
          28,
          135,
          30,
          81,
          10,
          83,
          38,
          44,
          25,
          48,
          19,
          30,
          49,
          39,
          47,
          62,
          47,
          76,
          27,
          93,
          57,
          31,
          48,
          37,
          69,
          51,
          102,
          108,
          23,
          75,
          13,
          23,
          18,
          34,
          76,
          15,
          25,
          51,
          62,
          37,
          10,
          21,
          31,
          33,
          30,
          57,
          20,
          41,
          43,
          41,
          74,
          40,
          56,
          38,
          15,
          44,
          70,
          25,
          11,
          54,
          85,
          113,
          51,
          66,
          24,
          9,
          30,
          25,
          19,
          43,
          46,
          36,
          10,
          13,
          54,
          71,
          43,
          22,
          13,
          35,
          55,
          27,
          27,
          22,
          34,
          10,
          48,
          50,
          36,
          22,
          29,
          31,
          39,
          80,
          12,
          43,
          16,
          63,
          20,
          41,
          37,
          43,
          74,
          82,
          22,
          41,
          12,
          22,
          29,
          36,
          53,
          41,
          38,
          20,
          32,
          44,
          76,
          92,
          67,
          55,
          40,
          66,
          31,
          60,
          66,
          41,
          10,
          31,
          36,
          56,
          38,
          49,
          65,
          48,
          13,
          27,
          31,
          8,
          7,
          64,
          12,
          24,
          81,
          32,
          74,
          68,
          64,
          42,
          20,
          24,
          29,
          58,
          33,
          45,
          109,
          25,
          20,
          32,
          20,
          81,
          36,
          36,
          75,
          17,
          32,
          173,
          68,
          81,
          54,
          22,
          26,
          56,
          20,
          12,
          47,
          31,
          58,
          41,
          61,
          28,
          33,
          38,
          29,
          35,
          52,
          48,
          21,
          49,
          36,
          60,
          47,
          21,
          21,
          23,
          -693,
          29,
          26,
          65,
          26,
          38,
          30,
          42,
          37,
          32,
          45,
          62,
          16,
          31,
          88,
          86,
          80,
          44,
          46,
          67,
          48,
          14,
          26,
          64,
          13,
          58,
          31,
          112,
          33,
          64,
          31,
          70,
          60,
          135,
          66,
          27,
          58,
          -1375,
          30,
          104,
          24,
          45,
          74,
          57,
          15,
          25,
          31,
          59,
          58,
          12,
          21,
          37,
          41,
          66,
          46,
          35,
          71,
          29,
          34,
          25,
          13,
          19,
          31,
          26,
          20,
          67,
          55,
          46,
          40,
          22,
          24,
          18,
          34,
          19,
          2,
          45,
          60,
          21,
          25,
          13,
          56,
          35,
          93,
          51,
          34,
          25,
          31,
          24,
          68,
          29,
          14,
          120,
          104,
          26,
          51,
          29,
          52,
          -705,
          39,
          65,
          40,
          48,
          17,
          17,
          45,
          29,
          51,
          40,
          35,
          83,
          27,
          23,
          32,
          32,
          49,
          28,
          30,
          52,
          9,
          0,
          36,
          39,
          22,
          78,
          15,
          38,
          46,
          38,
          31,
          52,
          73,
          73,
          71,
          47,
          41,
          47,
          73,
          52,
          27,
          18,
          50,
          32,
          22,
          21,
          11,
          20,
          34,
          54,
          26,
          80,
          31,
          38,
          62,
          54,
          50,
          51,
          78,
          88,
          72,
          45,
          29,
          42,
          20,
          51,
          84,
          28,
          17,
          25,
          67,
          56,
          79,
          64,
          23,
          68,
          49,
          28,
          18,
          24,
          46,
          29,
          60,
          48,
          64,
          50,
          21,
          89,
          32,
          25,
          25,
          57,
          39,
          32,
          40,
          23,
          22,
          30,
          43,
          133,
          42,
          126,
          17,
          46,
          39,
          39,
          21,
          104,
          71,
          26,
          54,
          21,
          23,
          21,
          49,
          14,
          17,
          49,
          24,
          19,
          31,
          23,
          28,
          22,
          32,
          56,
          87,
          24,
          56,
          93,
          33,
          35,
          78,
          0,
          161,
          86,
          85,
          30,
          33,
          72,
          13,
          33,
          59,
          193,
          58,
          30,
          163,
          117,
          31,
          35,
          84,
          10,
          30,
          38,
          31,
          34,
          51,
          45,
          42,
          19,
          59,
          39,
          7,
          83,
          255,
          9,
          29,
          61,
          17,
          65,
          205,
          21,
          51,
          58,
          71,
          152,
          58,
          112,
          26,
          32,
          36,
          0,
          54,
          30,
          181,
          54,
          11,
          44,
          63,
          53,
          28,
          23,
          95,
          42,
          51,
          26,
          21,
          26,
          43,
          32,
          11,
          42,
          110,
          10,
          36,
          67,
          22,
          53,
          23,
          91,
          92,
          0,
          22,
          24,
          38,
          35,
          108,
          49,
          38,
          46,
          10,
          67,
          16,
          49,
          28,
          45,
          20,
          30,
          44,
          30,
          37,
          40,
          174,
          89,
          59,
          43,
          56,
          52,
          29,
          34,
          35,
          36,
          48,
          21,
          42,
          23,
          77,
          43,
          27,
          28,
          91,
          26,
          15,
          42,
          18,
          17,
          141,
          42,
          123,
          104,
          52,
          31,
          24,
          11,
          56,
          40,
          10,
          58,
          42,
          37,
          21,
          33,
          39,
          52,
          23,
          13,
          28,
          32,
          43,
          35,
          31,
          56,
          54,
          44,
          12,
          22,
          65,
          69,
          25,
          59,
          42,
          18,
          18,
          90,
          39,
          42,
          22,
          30,
          36,
          44,
          4,
          27,
          35,
          24,
          27,
          22,
          113,
          25,
          48,
          29,
          175,
          23,
          62,
          123,
          58,
          133,
          63,
          13,
          40,
          30,
          40,
          45,
          34,
          77,
          53,
          21,
          57,
          151,
          45,
          59,
          -1391,
          31,
          25,
          23,
          144,
          40,
          62,
          56,
          32,
          55,
          51,
          114,
          52,
          34,
          43,
          67,
          96,
          30,
          29,
          58,
          23,
          147,
          58,
          27,
          18,
          265,
          53,
          388,
          254,
          36,
          121,
          119,
          46,
          41,
          10,
          102,
          41,
          20,
          40,
          40,
          42,
          17,
          15,
          0,
          86,
          72,
          23,
          72,
          57,
          43,
          48,
          65,
          43,
          35,
          151,
          63,
          25,
          51,
          18,
          44,
          17,
          12,
          12,
          51,
          43,
          22,
          30,
          39,
          7,
          29,
          21,
          79,
          41,
          22,
          32,
          36,
          23,
          24,
          11,
          24,
          24,
          34,
          33,
          64,
          40,
          22,
          18,
          14,
          51,
          38,
          14,
          23,
          47,
          23,
          38,
          11,
          32,
          84,
          12,
          29,
          84,
          53,
          26,
          78,
          126,
          37,
          16,
          33,
          58,
          27,
          15,
          23,
          33,
          84,
          2,
          31,
          11,
          10,
          75,
          35,
          119,
          37,
          64,
          41,
          36,
          149,
          38,
          7,
          41,
          48,
          41,
          27,
          61,
          23,
          19,
          65,
          79,
          48,
          102,
          32,
          14,
          40,
          135,
          35,
          80,
          51,
          54,
          121,
          55,
          37,
          58,
          50,
          104,
          43,
          54,
          20,
          23,
          111,
          32,
          40,
          63,
          134,
          14,
          57,
          16,
          42,
          -1385,
          22,
          84,
          43,
          57,
          119,
          72,
          151,
          80,
          39,
          23,
          56,
          50,
          20,
          22,
          63,
          31,
          24,
          58,
          36,
          29,
          42,
          54,
          86,
          36,
          41,
          12,
          30,
          49,
          26,
          17,
          17,
          20,
          163,
          45,
          100,
          69,
          50,
          61,
          28,
          21,
          35,
          72,
          43,
          49,
          30,
          55,
          43,
          36,
          31,
          70,
          23,
          49,
          57,
          39,
          15,
          17,
          19,
          33,
          39,
          11,
          28,
          21,
          13,
          45,
          19,
          26,
          21,
          23,
          42,
          102,
          0,
          25,
          49,
          113,
          8,
          38,
          18,
          43,
          52,
          51,
          34,
          10,
          15,
          38,
          50,
          13,
          54,
          43,
          65,
          13,
          31,
          33,
          38,
          97,
          104,
          47,
          52,
          20,
          31,
          69,
          38,
          -8,
          35,
          12,
          166,
          44,
          18,
          30,
          57,
          79,
          23,
          46,
          13,
          24,
          45,
          45,
          26,
          34,
          51,
          18,
          53,
          26,
          29,
          48,
          78,
          17,
          0,
          5,
          49,
          46,
          29,
          57,
          33,
          31,
          36,
          33,
          64,
          45,
          88,
          32,
          31,
          28,
          83,
          47,
          31,
          48,
          58,
          35,
          73,
          20,
          19,
          29,
          12,
          54,
          40,
          24,
          110,
          58,
          54,
          53,
          24,
          132,
          134,
          109,
          146,
          67,
          78,
          68,
          76,
          109,
          32,
          29,
          82,
          94,
          33,
          55,
          24,
          6,
          38,
          27,
          -1405,
          56,
          19,
          16,
          54,
          71,
          71,
          78,
          23,
          24,
          105,
          79,
          17,
          98,
          61,
          60,
          32,
          81,
          31,
          27,
          63,
          42,
          36,
          41,
          96,
          28,
          90,
          35,
          19,
          36,
          44,
          29,
          28,
          45,
          50,
          27,
          57,
          81,
          57,
          64,
          44,
          44,
          46,
          29,
          25,
          70,
          34,
          18,
          50,
          33,
          14,
          54,
          35,
          25,
          7,
          30,
          25,
          30,
          76,
          26,
          62,
          76,
          79,
          46,
          36,
          78,
          84,
          48,
          23,
          29,
          33,
          37,
          55,
          37,
          17,
          62,
          36,
          94,
          86,
          43,
          18,
          30,
          13,
          101,
          81,
          19,
          13,
          96,
          54,
          51,
          30,
          20,
          39,
          90,
          15,
          63,
          87,
          32,
          83,
          53,
          31,
          16,
          16,
          28,
          114,
          26,
          46,
          37,
          12,
          34,
          32,
          13,
          46,
          37,
          49,
          19,
          46,
          28,
          18,
          88,
          13,
          98,
          13,
          79,
          122,
          24,
          61,
          58,
          53,
          22,
          32,
          39,
          134,
          41,
          98,
          113,
          -670,
          38,
          6,
          32,
          25,
          34,
          41,
          40,
          39,
          19,
          23,
          55,
          34,
          105,
          40,
          182,
          118,
          77,
          55,
          77,
          201,
          36,
          58,
          83,
          12,
          41,
          12,
          42,
          43,
          35,
          10,
          40,
          32,
          23,
          37,
          92,
          92,
          55,
          76,
          49,
          40,
          22,
          36,
          33,
          94,
          18,
          97,
          36,
          68,
          21,
          91,
          78,
          48,
          48,
          25,
          88,
          24,
          50,
          37,
          27,
          20,
          113,
          36,
          24,
          46,
          74,
          49,
          40,
          25,
          26,
          22,
          78,
          29,
          29,
          26,
          20,
          35,
          16,
          70,
          49,
          29,
          93,
          76,
          47,
          48,
          57,
          15,
          10,
          43,
          24,
          11,
          17,
          26,
          9,
          7,
          20,
          44,
          53,
          26,
          64,
          7,
          30,
          31,
          24,
          31,
          46,
          41,
          32,
          29,
          26,
          15,
          25,
          29,
          52,
          30,
          28,
          56,
          40,
          13,
          17,
          36,
          80,
          49,
          35,
          28,
          57,
          39,
          27,
          92,
          21,
          56,
          54,
          37,
          28,
          45,
          52,
          14,
          82,
          57,
          22,
          32,
          48,
          123,
          16,
          16,
          44,
          20,
          17,
          52,
          34,
          17,
          45,
          16,
          53,
          60,
          7,
          37,
          59,
          44,
          62,
          46,
          23,
          20,
          24,
          30,
          29,
          97,
          48,
          49,
          30,
          45,
          13,
          6,
          39,
          19,
          34,
          30,
          27,
          59,
          42,
          57,
          33,
          55,
          49,
          46,
          14,
          103,
          56,
          66,
          67,
          15,
          24,
          86,
          94,
          67,
          45,
          34,
          11,
          59,
          16,
          38,
          29,
          57,
          43,
          45,
          120,
          21,
          57,
          13,
          38,
          38,
          19,
          34,
          120,
          54,
          53,
          38,
          48,
          24,
          90,
          51,
          21,
          39,
          15,
          18,
          32,
          27,
          61,
          41,
          79,
          28,
          42,
          20,
          21,
          89,
          79,
          35,
          49,
          105,
          33,
          125,
          117,
          90,
          -1394,
          34,
          30,
          63,
          58,
          87,
          16,
          139,
          34,
          115,
          88,
          7,
          28,
          27,
          76,
          40,
          64,
          40,
          26,
          20,
          26,
          100,
          26,
          4,
          80,
          27,
          24,
          51,
          67,
          24,
          45,
          55,
          23,
          113,
          51,
          43,
          27,
          51,
          44,
          22,
          10,
          36,
          39,
          40,
          0,
          39,
          52,
          60,
          17,
          44,
          44,
          19,
          64,
          29,
          9,
          35,
          13,
          42,
          26,
          42,
          59,
          36,
          32,
          38,
          74,
          12,
          21,
          130,
          75,
          34,
          35,
          44,
          89,
          19,
          28,
          35,
          15,
          16,
          46,
          35,
          19,
          78,
          52,
          40,
          27,
          34,
          76,
          76,
          62,
          23,
          28,
          35,
          26,
          40,
          33,
          58,
          17,
          44,
          41,
          55,
          30,
          31,
          53,
          39,
          18,
          18,
          56,
          18,
          156,
          60,
          95,
          30,
          36,
          20,
          21,
          37,
          39,
          7,
          41,
          20,
          57,
          15,
          35,
          112,
          31,
          59,
          55,
          118,
          15,
          31,
          62,
          29,
          62,
          33,
          16,
          72,
          29,
          40,
          45,
          59,
          19,
          55,
          45,
          34,
          17,
          16,
          9,
          96,
          37,
          145,
          74,
          23,
          88,
          26,
          44,
          41,
          23,
          41,
          132,
          22,
          58,
          90,
          56,
          88,
          56,
          25,
          6,
          34,
          8,
          18,
          20,
          9,
          18,
          32,
          27,
          28,
          41,
          26,
          23,
          73,
          91,
          55,
          45,
          38,
          30,
          20,
          76,
          38,
          28,
          19,
          10,
          42,
          22,
          16,
          91,
          64,
          33,
          17,
          104,
          23,
          57,
          53,
          16,
          71,
          8,
          82,
          119,
          28,
          28,
          67,
          29,
          36,
          39,
          58,
          39,
          120,
          41,
          36,
          47,
          32,
          22,
          28,
          68,
          68,
          28,
          30,
          54,
          62,
          88,
          28,
          38,
          37,
          58,
          19,
          30,
          45,
          45,
          36,
          93,
          23,
          772,
          30,
          47,
          7,
          90,
          23,
          -615,
          29,
          -659,
          11,
          69,
          28,
          51,
          47,
          29,
          35,
          35,
          32,
          74,
          30,
          37,
          25,
          29,
          62,
          30,
          44,
          45,
          50,
          52,
          44,
          34,
          51,
          15,
          83,
          -1352,
          37,
          117,
          29,
          44,
          35,
          16,
          65,
          38,
          75,
          26,
          57,
          57,
          49,
          53,
          41,
          49,
          28,
          77,
          99,
          47,
          44,
          45,
          24,
          14,
          14,
          141,
          67,
          57,
          45,
          77,
          32,
          44,
          41,
          23,
          23,
          66,
          22,
          30,
          16,
          13,
          30,
          61,
          73,
          49,
          23,
          98,
          80,
          18,
          63,
          41,
          28,
          46,
          38,
          20,
          51,
          34,
          36,
          21,
          15,
          15,
          17,
          25,
          42,
          13,
          11,
          42,
          41,
          61,
          38,
          78,
          77,
          185,
          60,
          37,
          33,
          27,
          10,
          89,
          52,
          36,
          40,
          55,
          27,
          33,
          48,
          40,
          24,
          80,
          0,
          146,
          93,
          34,
          45,
          51,
          30,
          85,
          60,
          20,
          77,
          55,
          43,
          38,
          10,
          19,
          17,
          32,
          66,
          113,
          15,
          22,
          42,
          30,
          48,
          44,
          93,
          121,
          60,
          45,
          54,
          12,
          48,
          92,
          27,
          16,
          50,
          60,
          15,
          0,
          23,
          53,
          46,
          29,
          26,
          59,
          20,
          26,
          41,
          19,
          74,
          20,
          0,
          8,
          56,
          69,
          21,
          52,
          34,
          36,
          70,
          58,
          32,
          74,
          20,
          54,
          20,
          88,
          59,
          7,
          8,
          33,
          29,
          45,
          28,
          67,
          36,
          31,
          107
         ]
        }
       ],
       "layout": {
        "boxmode": "overlay",
        "font": {
         "color": "black",
         "family": "Droid Serif"
        },
        "height": 400,
        "hoverlabel": {
         "bgcolor": "black",
         "font": {
          "color": "white"
         }
        },
        "legend": {
         "tracegroupgap": 0
        },
        "paper_bgcolor": "white",
        "plot_bgcolor": "white",
        "showlegend": false,
        "template": {
         "data": {
          "bar": [
           {
            "error_x": {
             "color": "#2a3f5f"
            },
            "error_y": {
             "color": "#2a3f5f"
            },
            "marker": {
             "line": {
              "color": "#E5ECF6",
              "width": 0.5
             },
             "pattern": {
              "fillmode": "overlay",
              "size": 10,
              "solidity": 0.2
             }
            },
            "type": "bar"
           }
          ],
          "barpolar": [
           {
            "marker": {
             "line": {
              "color": "#E5ECF6",
              "width": 0.5
             },
             "pattern": {
              "fillmode": "overlay",
              "size": 10,
              "solidity": 0.2
             }
            },
            "type": "barpolar"
           }
          ],
          "carpet": [
           {
            "aaxis": {
             "endlinecolor": "#2a3f5f",
             "gridcolor": "white",
             "linecolor": "white",
             "minorgridcolor": "white",
             "startlinecolor": "#2a3f5f"
            },
            "baxis": {
             "endlinecolor": "#2a3f5f",
             "gridcolor": "white",
             "linecolor": "white",
             "minorgridcolor": "white",
             "startlinecolor": "#2a3f5f"
            },
            "type": "carpet"
           }
          ],
          "choropleth": [
           {
            "colorbar": {
             "outlinewidth": 0,
             "ticks": ""
            },
            "type": "choropleth"
           }
          ],
          "contour": [
           {
            "colorbar": {
             "outlinewidth": 0,
             "ticks": ""
            },
            "colorscale": [
             [
              0,
              "#0d0887"
             ],
             [
              0.1111111111111111,
              "#46039f"
             ],
             [
              0.2222222222222222,
              "#7201a8"
             ],
             [
              0.3333333333333333,
              "#9c179e"
             ],
             [
              0.4444444444444444,
              "#bd3786"
             ],
             [
              0.5555555555555556,
              "#d8576b"
             ],
             [
              0.6666666666666666,
              "#ed7953"
             ],
             [
              0.7777777777777778,
              "#fb9f3a"
             ],
             [
              0.8888888888888888,
              "#fdca26"
             ],
             [
              1,
              "#f0f921"
             ]
            ],
            "type": "contour"
           }
          ],
          "contourcarpet": [
           {
            "colorbar": {
             "outlinewidth": 0,
             "ticks": ""
            },
            "type": "contourcarpet"
           }
          ],
          "heatmap": [
           {
            "colorbar": {
             "outlinewidth": 0,
             "ticks": ""
            },
            "colorscale": [
             [
              0,
              "#0d0887"
             ],
             [
              0.1111111111111111,
              "#46039f"
             ],
             [
              0.2222222222222222,
              "#7201a8"
             ],
             [
              0.3333333333333333,
              "#9c179e"
             ],
             [
              0.4444444444444444,
              "#bd3786"
             ],
             [
              0.5555555555555556,
              "#d8576b"
             ],
             [
              0.6666666666666666,
              "#ed7953"
             ],
             [
              0.7777777777777778,
              "#fb9f3a"
             ],
             [
              0.8888888888888888,
              "#fdca26"
             ],
             [
              1,
              "#f0f921"
             ]
            ],
            "type": "heatmap"
           }
          ],
          "heatmapgl": [
           {
            "colorbar": {
             "outlinewidth": 0,
             "ticks": ""
            },
            "colorscale": [
             [
              0,
              "#0d0887"
             ],
             [
              0.1111111111111111,
              "#46039f"
             ],
             [
              0.2222222222222222,
              "#7201a8"
             ],
             [
              0.3333333333333333,
              "#9c179e"
             ],
             [
              0.4444444444444444,
              "#bd3786"
             ],
             [
              0.5555555555555556,
              "#d8576b"
             ],
             [
              0.6666666666666666,
              "#ed7953"
             ],
             [
              0.7777777777777778,
              "#fb9f3a"
             ],
             [
              0.8888888888888888,
              "#fdca26"
             ],
             [
              1,
              "#f0f921"
             ]
            ],
            "type": "heatmapgl"
           }
          ],
          "histogram": [
           {
            "marker": {
             "pattern": {
              "fillmode": "overlay",
              "size": 10,
              "solidity": 0.2
             }
            },
            "type": "histogram"
           }
          ],
          "histogram2d": [
           {
            "colorbar": {
             "outlinewidth": 0,
             "ticks": ""
            },
            "colorscale": [
             [
              0,
              "#0d0887"
             ],
             [
              0.1111111111111111,
              "#46039f"
             ],
             [
              0.2222222222222222,
              "#7201a8"
             ],
             [
              0.3333333333333333,
              "#9c179e"
             ],
             [
              0.4444444444444444,
              "#bd3786"
             ],
             [
              0.5555555555555556,
              "#d8576b"
             ],
             [
              0.6666666666666666,
              "#ed7953"
             ],
             [
              0.7777777777777778,
              "#fb9f3a"
             ],
             [
              0.8888888888888888,
              "#fdca26"
             ],
             [
              1,
              "#f0f921"
             ]
            ],
            "type": "histogram2d"
           }
          ],
          "histogram2dcontour": [
           {
            "colorbar": {
             "outlinewidth": 0,
             "ticks": ""
            },
            "colorscale": [
             [
              0,
              "#0d0887"
             ],
             [
              0.1111111111111111,
              "#46039f"
             ],
             [
              0.2222222222222222,
              "#7201a8"
             ],
             [
              0.3333333333333333,
              "#9c179e"
             ],
             [
              0.4444444444444444,
              "#bd3786"
             ],
             [
              0.5555555555555556,
              "#d8576b"
             ],
             [
              0.6666666666666666,
              "#ed7953"
             ],
             [
              0.7777777777777778,
              "#fb9f3a"
             ],
             [
              0.8888888888888888,
              "#fdca26"
             ],
             [
              1,
              "#f0f921"
             ]
            ],
            "type": "histogram2dcontour"
           }
          ],
          "mesh3d": [
           {
            "colorbar": {
             "outlinewidth": 0,
             "ticks": ""
            },
            "type": "mesh3d"
           }
          ],
          "parcoords": [
           {
            "line": {
             "colorbar": {
              "outlinewidth": 0,
              "ticks": ""
             }
            },
            "type": "parcoords"
           }
          ],
          "pie": [
           {
            "automargin": true,
            "type": "pie"
           }
          ],
          "scatter": [
           {
            "fillpattern": {
             "fillmode": "overlay",
             "size": 10,
             "solidity": 0.2
            },
            "type": "scatter"
           }
          ],
          "scatter3d": [
           {
            "line": {
             "colorbar": {
              "outlinewidth": 0,
              "ticks": ""
             }
            },
            "marker": {
             "colorbar": {
              "outlinewidth": 0,
              "ticks": ""
             }
            },
            "type": "scatter3d"
           }
          ],
          "scattercarpet": [
           {
            "marker": {
             "colorbar": {
              "outlinewidth": 0,
              "ticks": ""
             }
            },
            "type": "scattercarpet"
           }
          ],
          "scattergeo": [
           {
            "marker": {
             "colorbar": {
              "outlinewidth": 0,
              "ticks": ""
             }
            },
            "type": "scattergeo"
           }
          ],
          "scattergl": [
           {
            "marker": {
             "colorbar": {
              "outlinewidth": 0,
              "ticks": ""
             }
            },
            "type": "scattergl"
           }
          ],
          "scattermapbox": [
           {
            "marker": {
             "colorbar": {
              "outlinewidth": 0,
              "ticks": ""
             }
            },
            "type": "scattermapbox"
           }
          ],
          "scatterpolar": [
           {
            "marker": {
             "colorbar": {
              "outlinewidth": 0,
              "ticks": ""
             }
            },
            "type": "scatterpolar"
           }
          ],
          "scatterpolargl": [
           {
            "marker": {
             "colorbar": {
              "outlinewidth": 0,
              "ticks": ""
             }
            },
            "type": "scatterpolargl"
           }
          ],
          "scatterternary": [
           {
            "marker": {
             "colorbar": {
              "outlinewidth": 0,
              "ticks": ""
             }
            },
            "type": "scatterternary"
           }
          ],
          "surface": [
           {
            "colorbar": {
             "outlinewidth": 0,
             "ticks": ""
            },
            "colorscale": [
             [
              0,
              "#0d0887"
             ],
             [
              0.1111111111111111,
              "#46039f"
             ],
             [
              0.2222222222222222,
              "#7201a8"
             ],
             [
              0.3333333333333333,
              "#9c179e"
             ],
             [
              0.4444444444444444,
              "#bd3786"
             ],
             [
              0.5555555555555556,
              "#d8576b"
             ],
             [
              0.6666666666666666,
              "#ed7953"
             ],
             [
              0.7777777777777778,
              "#fb9f3a"
             ],
             [
              0.8888888888888888,
              "#fdca26"
             ],
             [
              1,
              "#f0f921"
             ]
            ],
            "type": "surface"
           }
          ],
          "table": [
           {
            "cells": {
             "fill": {
              "color": "#EBF0F8"
             },
             "line": {
              "color": "white"
             }
            },
            "header": {
             "fill": {
              "color": "#C8D4E3"
             },
             "line": {
              "color": "white"
             }
            },
            "type": "table"
           }
          ]
         },
         "layout": {
          "annotationdefaults": {
           "arrowcolor": "#2a3f5f",
           "arrowhead": 0,
           "arrowwidth": 1
          },
          "autotypenumbers": "strict",
          "coloraxis": {
           "colorbar": {
            "outlinewidth": 0,
            "ticks": ""
           }
          },
          "colorscale": {
           "diverging": [
            [
             0,
             "#8e0152"
            ],
            [
             0.1,
             "#c51b7d"
            ],
            [
             0.2,
             "#de77ae"
            ],
            [
             0.3,
             "#f1b6da"
            ],
            [
             0.4,
             "#fde0ef"
            ],
            [
             0.5,
             "#f7f7f7"
            ],
            [
             0.6,
             "#e6f5d0"
            ],
            [
             0.7,
             "#b8e186"
            ],
            [
             0.8,
             "#7fbc41"
            ],
            [
             0.9,
             "#4d9221"
            ],
            [
             1,
             "#276419"
            ]
           ],
           "sequential": [
            [
             0,
             "#0d0887"
            ],
            [
             0.1111111111111111,
             "#46039f"
            ],
            [
             0.2222222222222222,
             "#7201a8"
            ],
            [
             0.3333333333333333,
             "#9c179e"
            ],
            [
             0.4444444444444444,
             "#bd3786"
            ],
            [
             0.5555555555555556,
             "#d8576b"
            ],
            [
             0.6666666666666666,
             "#ed7953"
            ],
            [
             0.7777777777777778,
             "#fb9f3a"
            ],
            [
             0.8888888888888888,
             "#fdca26"
            ],
            [
             1,
             "#f0f921"
            ]
           ],
           "sequentialminus": [
            [
             0,
             "#0d0887"
            ],
            [
             0.1111111111111111,
             "#46039f"
            ],
            [
             0.2222222222222222,
             "#7201a8"
            ],
            [
             0.3333333333333333,
             "#9c179e"
            ],
            [
             0.4444444444444444,
             "#bd3786"
            ],
            [
             0.5555555555555556,
             "#d8576b"
            ],
            [
             0.6666666666666666,
             "#ed7953"
            ],
            [
             0.7777777777777778,
             "#fb9f3a"
            ],
            [
             0.8888888888888888,
             "#fdca26"
            ],
            [
             1,
             "#f0f921"
            ]
           ]
          },
          "colorway": [
           "#636efa",
           "#EF553B",
           "#00cc96",
           "#ab63fa",
           "#FFA15A",
           "#19d3f3",
           "#FF6692",
           "#B6E880",
           "#FF97FF",
           "#FECB52"
          ],
          "font": {
           "color": "#2a3f5f"
          },
          "geo": {
           "bgcolor": "white",
           "lakecolor": "white",
           "landcolor": "#E5ECF6",
           "showlakes": true,
           "showland": true,
           "subunitcolor": "white"
          },
          "hoverlabel": {
           "align": "left"
          },
          "hovermode": "closest",
          "mapbox": {
           "style": "light"
          },
          "paper_bgcolor": "white",
          "plot_bgcolor": "#E5ECF6",
          "polar": {
           "angularaxis": {
            "gridcolor": "white",
            "linecolor": "white",
            "ticks": ""
           },
           "bgcolor": "#E5ECF6",
           "radialaxis": {
            "gridcolor": "white",
            "linecolor": "white",
            "ticks": ""
           }
          },
          "scene": {
           "xaxis": {
            "backgroundcolor": "#E5ECF6",
            "gridcolor": "white",
            "gridwidth": 2,
            "linecolor": "white",
            "showbackground": true,
            "ticks": "",
            "zerolinecolor": "white"
           },
           "yaxis": {
            "backgroundcolor": "#E5ECF6",
            "gridcolor": "white",
            "gridwidth": 2,
            "linecolor": "white",
            "showbackground": true,
            "ticks": "",
            "zerolinecolor": "white"
           },
           "zaxis": {
            "backgroundcolor": "#E5ECF6",
            "gridcolor": "white",
            "gridwidth": 2,
            "linecolor": "white",
            "showbackground": true,
            "ticks": "",
            "zerolinecolor": "white"
           }
          },
          "shapedefaults": {
           "line": {
            "color": "#2a3f5f"
           }
          },
          "ternary": {
           "aaxis": {
            "gridcolor": "white",
            "linecolor": "white",
            "ticks": ""
           },
           "baxis": {
            "gridcolor": "white",
            "linecolor": "white",
            "ticks": ""
           },
           "bgcolor": "#E5ECF6",
           "caxis": {
            "gridcolor": "white",
            "linecolor": "white",
            "ticks": ""
           }
          },
          "title": {
           "x": 0.05
          },
          "xaxis": {
           "automargin": true,
           "gridcolor": "white",
           "linecolor": "white",
           "ticks": "",
           "title": {
            "standoff": 15
           },
           "zerolinecolor": "white",
           "zerolinewidth": 2
          },
          "yaxis": {
           "automargin": true,
           "gridcolor": "white",
           "linecolor": "white",
           "ticks": "",
           "title": {
            "standoff": 15
           },
           "zerolinecolor": "white",
           "zerolinewidth": 2
          }
         }
        },
        "title": {
         "font": {
          "size": 22
         },
         "text": "Pool Table Rental Duration",
         "x": 0.5,
         "xanchor": "center",
         "y": 0.85
        },
        "width": 800,
        "xaxis": {
         "anchor": "y",
         "domain": [
          0,
          1
         ],
         "tickfont": {
          "size": 16
         },
         "tickmode": "array",
         "ticktext": [
          "Table 2.0",
          "Table 3.0",
          "Table 1.0",
          "Table 0.0"
         ],
         "tickvals": [
          2,
          3,
          1,
          0
         ],
         "title": {}
        },
        "yaxis": {
         "anchor": "x",
         "domain": [
          0,
          1
         ],
         "gridcolor": "rgba(128, 128, 128, 0.4)",
         "tickfont": {
          "size": 16
         },
         "title": {
          "text": "Duration (log scale)"
         },
         "type": "log"
        }
       }
      }
     },
     "metadata": {},
     "output_type": "display_data"
    },
    {
     "name": "stdout",
     "output_type": "stream",
     "text": [
      "Visualization saved as ../resources/viz/f24_pool_duration_by_table_number.html\n"
     ]
    },
    {
     "data": {
      "application/vnd.plotly.v1+json": {
       "config": {
        "plotlyServerURL": "https://plot.ly"
       },
       "data": [
        {
         "labels": [
          "Pool",
          "Air Hockey",
          "Foosball",
          "Shuffleboard"
         ],
         "text": [
          "Pool<br>2505 rentals",
          "Air Hockey<br>501 rentals",
          "Foosball<br>377 rentals",
          "Shuffleboard<br>109 rentals"
         ],
         "textfont": {
          "size": 15
         },
         "textinfo": "text+percent",
         "type": "pie",
         "values": [
          2505,
          501,
          377,
          109
         ]
        }
       ],
       "layout": {
        "font": {
         "color": "black",
         "family": "Droid Serif"
        },
        "height": 400,
        "hoverlabel": {
         "bgcolor": "black",
         "font": {
          "color": "white"
         }
        },
        "margin": {
         "b": 20,
         "l": 20,
         "r": 20,
         "t": 100
        },
        "paper_bgcolor": "white",
        "plot_bgcolor": "white",
        "showlegend": false,
        "template": {
         "data": {
          "bar": [
           {
            "error_x": {
             "color": "#2a3f5f"
            },
            "error_y": {
             "color": "#2a3f5f"
            },
            "marker": {
             "line": {
              "color": "#E5ECF6",
              "width": 0.5
             },
             "pattern": {
              "fillmode": "overlay",
              "size": 10,
              "solidity": 0.2
             }
            },
            "type": "bar"
           }
          ],
          "barpolar": [
           {
            "marker": {
             "line": {
              "color": "#E5ECF6",
              "width": 0.5
             },
             "pattern": {
              "fillmode": "overlay",
              "size": 10,
              "solidity": 0.2
             }
            },
            "type": "barpolar"
           }
          ],
          "carpet": [
           {
            "aaxis": {
             "endlinecolor": "#2a3f5f",
             "gridcolor": "white",
             "linecolor": "white",
             "minorgridcolor": "white",
             "startlinecolor": "#2a3f5f"
            },
            "baxis": {
             "endlinecolor": "#2a3f5f",
             "gridcolor": "white",
             "linecolor": "white",
             "minorgridcolor": "white",
             "startlinecolor": "#2a3f5f"
            },
            "type": "carpet"
           }
          ],
          "choropleth": [
           {
            "colorbar": {
             "outlinewidth": 0,
             "ticks": ""
            },
            "type": "choropleth"
           }
          ],
          "contour": [
           {
            "colorbar": {
             "outlinewidth": 0,
             "ticks": ""
            },
            "colorscale": [
             [
              0,
              "#0d0887"
             ],
             [
              0.1111111111111111,
              "#46039f"
             ],
             [
              0.2222222222222222,
              "#7201a8"
             ],
             [
              0.3333333333333333,
              "#9c179e"
             ],
             [
              0.4444444444444444,
              "#bd3786"
             ],
             [
              0.5555555555555556,
              "#d8576b"
             ],
             [
              0.6666666666666666,
              "#ed7953"
             ],
             [
              0.7777777777777778,
              "#fb9f3a"
             ],
             [
              0.8888888888888888,
              "#fdca26"
             ],
             [
              1,
              "#f0f921"
             ]
            ],
            "type": "contour"
           }
          ],
          "contourcarpet": [
           {
            "colorbar": {
             "outlinewidth": 0,
             "ticks": ""
            },
            "type": "contourcarpet"
           }
          ],
          "heatmap": [
           {
            "colorbar": {
             "outlinewidth": 0,
             "ticks": ""
            },
            "colorscale": [
             [
              0,
              "#0d0887"
             ],
             [
              0.1111111111111111,
              "#46039f"
             ],
             [
              0.2222222222222222,
              "#7201a8"
             ],
             [
              0.3333333333333333,
              "#9c179e"
             ],
             [
              0.4444444444444444,
              "#bd3786"
             ],
             [
              0.5555555555555556,
              "#d8576b"
             ],
             [
              0.6666666666666666,
              "#ed7953"
             ],
             [
              0.7777777777777778,
              "#fb9f3a"
             ],
             [
              0.8888888888888888,
              "#fdca26"
             ],
             [
              1,
              "#f0f921"
             ]
            ],
            "type": "heatmap"
           }
          ],
          "heatmapgl": [
           {
            "colorbar": {
             "outlinewidth": 0,
             "ticks": ""
            },
            "colorscale": [
             [
              0,
              "#0d0887"
             ],
             [
              0.1111111111111111,
              "#46039f"
             ],
             [
              0.2222222222222222,
              "#7201a8"
             ],
             [
              0.3333333333333333,
              "#9c179e"
             ],
             [
              0.4444444444444444,
              "#bd3786"
             ],
             [
              0.5555555555555556,
              "#d8576b"
             ],
             [
              0.6666666666666666,
              "#ed7953"
             ],
             [
              0.7777777777777778,
              "#fb9f3a"
             ],
             [
              0.8888888888888888,
              "#fdca26"
             ],
             [
              1,
              "#f0f921"
             ]
            ],
            "type": "heatmapgl"
           }
          ],
          "histogram": [
           {
            "marker": {
             "pattern": {
              "fillmode": "overlay",
              "size": 10,
              "solidity": 0.2
             }
            },
            "type": "histogram"
           }
          ],
          "histogram2d": [
           {
            "colorbar": {
             "outlinewidth": 0,
             "ticks": ""
            },
            "colorscale": [
             [
              0,
              "#0d0887"
             ],
             [
              0.1111111111111111,
              "#46039f"
             ],
             [
              0.2222222222222222,
              "#7201a8"
             ],
             [
              0.3333333333333333,
              "#9c179e"
             ],
             [
              0.4444444444444444,
              "#bd3786"
             ],
             [
              0.5555555555555556,
              "#d8576b"
             ],
             [
              0.6666666666666666,
              "#ed7953"
             ],
             [
              0.7777777777777778,
              "#fb9f3a"
             ],
             [
              0.8888888888888888,
              "#fdca26"
             ],
             [
              1,
              "#f0f921"
             ]
            ],
            "type": "histogram2d"
           }
          ],
          "histogram2dcontour": [
           {
            "colorbar": {
             "outlinewidth": 0,
             "ticks": ""
            },
            "colorscale": [
             [
              0,
              "#0d0887"
             ],
             [
              0.1111111111111111,
              "#46039f"
             ],
             [
              0.2222222222222222,
              "#7201a8"
             ],
             [
              0.3333333333333333,
              "#9c179e"
             ],
             [
              0.4444444444444444,
              "#bd3786"
             ],
             [
              0.5555555555555556,
              "#d8576b"
             ],
             [
              0.6666666666666666,
              "#ed7953"
             ],
             [
              0.7777777777777778,
              "#fb9f3a"
             ],
             [
              0.8888888888888888,
              "#fdca26"
             ],
             [
              1,
              "#f0f921"
             ]
            ],
            "type": "histogram2dcontour"
           }
          ],
          "mesh3d": [
           {
            "colorbar": {
             "outlinewidth": 0,
             "ticks": ""
            },
            "type": "mesh3d"
           }
          ],
          "parcoords": [
           {
            "line": {
             "colorbar": {
              "outlinewidth": 0,
              "ticks": ""
             }
            },
            "type": "parcoords"
           }
          ],
          "pie": [
           {
            "automargin": true,
            "type": "pie"
           }
          ],
          "scatter": [
           {
            "fillpattern": {
             "fillmode": "overlay",
             "size": 10,
             "solidity": 0.2
            },
            "type": "scatter"
           }
          ],
          "scatter3d": [
           {
            "line": {
             "colorbar": {
              "outlinewidth": 0,
              "ticks": ""
             }
            },
            "marker": {
             "colorbar": {
              "outlinewidth": 0,
              "ticks": ""
             }
            },
            "type": "scatter3d"
           }
          ],
          "scattercarpet": [
           {
            "marker": {
             "colorbar": {
              "outlinewidth": 0,
              "ticks": ""
             }
            },
            "type": "scattercarpet"
           }
          ],
          "scattergeo": [
           {
            "marker": {
             "colorbar": {
              "outlinewidth": 0,
              "ticks": ""
             }
            },
            "type": "scattergeo"
           }
          ],
          "scattergl": [
           {
            "marker": {
             "colorbar": {
              "outlinewidth": 0,
              "ticks": ""
             }
            },
            "type": "scattergl"
           }
          ],
          "scattermapbox": [
           {
            "marker": {
             "colorbar": {
              "outlinewidth": 0,
              "ticks": ""
             }
            },
            "type": "scattermapbox"
           }
          ],
          "scatterpolar": [
           {
            "marker": {
             "colorbar": {
              "outlinewidth": 0,
              "ticks": ""
             }
            },
            "type": "scatterpolar"
           }
          ],
          "scatterpolargl": [
           {
            "marker": {
             "colorbar": {
              "outlinewidth": 0,
              "ticks": ""
             }
            },
            "type": "scatterpolargl"
           }
          ],
          "scatterternary": [
           {
            "marker": {
             "colorbar": {
              "outlinewidth": 0,
              "ticks": ""
             }
            },
            "type": "scatterternary"
           }
          ],
          "surface": [
           {
            "colorbar": {
             "outlinewidth": 0,
             "ticks": ""
            },
            "colorscale": [
             [
              0,
              "#0d0887"
             ],
             [
              0.1111111111111111,
              "#46039f"
             ],
             [
              0.2222222222222222,
              "#7201a8"
             ],
             [
              0.3333333333333333,
              "#9c179e"
             ],
             [
              0.4444444444444444,
              "#bd3786"
             ],
             [
              0.5555555555555556,
              "#d8576b"
             ],
             [
              0.6666666666666666,
              "#ed7953"
             ],
             [
              0.7777777777777778,
              "#fb9f3a"
             ],
             [
              0.8888888888888888,
              "#fdca26"
             ],
             [
              1,
              "#f0f921"
             ]
            ],
            "type": "surface"
           }
          ],
          "table": [
           {
            "cells": {
             "fill": {
              "color": "#EBF0F8"
             },
             "line": {
              "color": "white"
             }
            },
            "header": {
             "fill": {
              "color": "#C8D4E3"
             },
             "line": {
              "color": "white"
             }
            },
            "type": "table"
           }
          ]
         },
         "layout": {
          "annotationdefaults": {
           "arrowcolor": "#2a3f5f",
           "arrowhead": 0,
           "arrowwidth": 1
          },
          "autotypenumbers": "strict",
          "coloraxis": {
           "colorbar": {
            "outlinewidth": 0,
            "ticks": ""
           }
          },
          "colorscale": {
           "diverging": [
            [
             0,
             "#8e0152"
            ],
            [
             0.1,
             "#c51b7d"
            ],
            [
             0.2,
             "#de77ae"
            ],
            [
             0.3,
             "#f1b6da"
            ],
            [
             0.4,
             "#fde0ef"
            ],
            [
             0.5,
             "#f7f7f7"
            ],
            [
             0.6,
             "#e6f5d0"
            ],
            [
             0.7,
             "#b8e186"
            ],
            [
             0.8,
             "#7fbc41"
            ],
            [
             0.9,
             "#4d9221"
            ],
            [
             1,
             "#276419"
            ]
           ],
           "sequential": [
            [
             0,
             "#0d0887"
            ],
            [
             0.1111111111111111,
             "#46039f"
            ],
            [
             0.2222222222222222,
             "#7201a8"
            ],
            [
             0.3333333333333333,
             "#9c179e"
            ],
            [
             0.4444444444444444,
             "#bd3786"
            ],
            [
             0.5555555555555556,
             "#d8576b"
            ],
            [
             0.6666666666666666,
             "#ed7953"
            ],
            [
             0.7777777777777778,
             "#fb9f3a"
            ],
            [
             0.8888888888888888,
             "#fdca26"
            ],
            [
             1,
             "#f0f921"
            ]
           ],
           "sequentialminus": [
            [
             0,
             "#0d0887"
            ],
            [
             0.1111111111111111,
             "#46039f"
            ],
            [
             0.2222222222222222,
             "#7201a8"
            ],
            [
             0.3333333333333333,
             "#9c179e"
            ],
            [
             0.4444444444444444,
             "#bd3786"
            ],
            [
             0.5555555555555556,
             "#d8576b"
            ],
            [
             0.6666666666666666,
             "#ed7953"
            ],
            [
             0.7777777777777778,
             "#fb9f3a"
            ],
            [
             0.8888888888888888,
             "#fdca26"
            ],
            [
             1,
             "#f0f921"
            ]
           ]
          },
          "colorway": [
           "#636efa",
           "#EF553B",
           "#00cc96",
           "#ab63fa",
           "#FFA15A",
           "#19d3f3",
           "#FF6692",
           "#B6E880",
           "#FF97FF",
           "#FECB52"
          ],
          "font": {
           "color": "#2a3f5f"
          },
          "geo": {
           "bgcolor": "white",
           "lakecolor": "white",
           "landcolor": "#E5ECF6",
           "showlakes": true,
           "showland": true,
           "subunitcolor": "white"
          },
          "hoverlabel": {
           "align": "left"
          },
          "hovermode": "closest",
          "mapbox": {
           "style": "light"
          },
          "paper_bgcolor": "white",
          "plot_bgcolor": "#E5ECF6",
          "polar": {
           "angularaxis": {
            "gridcolor": "white",
            "linecolor": "white",
            "ticks": ""
           },
           "bgcolor": "#E5ECF6",
           "radialaxis": {
            "gridcolor": "white",
            "linecolor": "white",
            "ticks": ""
           }
          },
          "scene": {
           "xaxis": {
            "backgroundcolor": "#E5ECF6",
            "gridcolor": "white",
            "gridwidth": 2,
            "linecolor": "white",
            "showbackground": true,
            "ticks": "",
            "zerolinecolor": "white"
           },
           "yaxis": {
            "backgroundcolor": "#E5ECF6",
            "gridcolor": "white",
            "gridwidth": 2,
            "linecolor": "white",
            "showbackground": true,
            "ticks": "",
            "zerolinecolor": "white"
           },
           "zaxis": {
            "backgroundcolor": "#E5ECF6",
            "gridcolor": "white",
            "gridwidth": 2,
            "linecolor": "white",
            "showbackground": true,
            "ticks": "",
            "zerolinecolor": "white"
           }
          },
          "shapedefaults": {
           "line": {
            "color": "#2a3f5f"
           }
          },
          "ternary": {
           "aaxis": {
            "gridcolor": "white",
            "linecolor": "white",
            "ticks": ""
           },
           "baxis": {
            "gridcolor": "white",
            "linecolor": "white",
            "ticks": ""
           },
           "bgcolor": "#E5ECF6",
           "caxis": {
            "gridcolor": "white",
            "linecolor": "white",
            "ticks": ""
           }
          },
          "title": {
           "x": 0.05
          },
          "xaxis": {
           "automargin": true,
           "gridcolor": "white",
           "linecolor": "white",
           "ticks": "",
           "title": {
            "standoff": 15
           },
           "zerolinecolor": "white",
           "zerolinewidth": 2
          },
          "yaxis": {
           "automargin": true,
           "gridcolor": "white",
           "linecolor": "white",
           "ticks": "",
           "title": {
            "standoff": 15
           },
           "zerolinecolor": "white",
           "zerolinewidth": 2
          }
         }
        },
        "title": {
         "font": {
          "size": 22
         },
         "text": "Table Game Rentals by Game Type",
         "x": 0.4,
         "xanchor": "center",
         "y": 0.91
        },
        "width": 600
       }
      }
     },
     "metadata": {},
     "output_type": "display_data"
    },
    {
     "name": "stdout",
     "output_type": "stream",
     "text": [
      "Visualization saved as ../resources/viz/f24_table_games_pie_chart.html\n",
      "Visualization saved as ../resources/viz/f24_air_hockey_usage_trend.html\n"
     ]
    },
    {
     "data": {
      "application/vnd.plotly.v1+json": {
       "config": {
        "plotlyServerURL": "https://plot.ly"
       },
       "data": [
        {
         "alignmentgroup": "True",
         "hovertemplate": "Duration (minutes)=%{x}<br># of Checkouts=%{y}<extra></extra>",
         "legendgroup": "",
         "marker": {
          "color": "#636efa",
          "pattern": {
           "shape": ""
          }
         },
         "name": "",
         "offsetgroup": "",
         "orientation": "v",
         "showlegend": false,
         "textposition": "auto",
         "type": "bar",
         "x": [
          "0-4",
          "5-9",
          "10-14",
          "15-19",
          "20-24",
          "25-29",
          "30-34",
          "35-39",
          "40-44",
          "45-49",
          "50-54",
          "55-59",
          "60-64",
          "65-69",
          "70-74",
          "75-79",
          "80-84",
          "85-89",
          "90-94",
          "95-99",
          "100-104",
          "105-109",
          "110-114",
          "115-119",
          "120-124"
         ],
         "xaxis": "x",
         "y": [
          29,
          101,
          119,
          100,
          54,
          30,
          17,
          15,
          8,
          5,
          3,
          6,
          2,
          1,
          0,
          1,
          0,
          0,
          0,
          0,
          0,
          0,
          0,
          0,
          0
         ],
         "yaxis": "y"
        }
       ],
       "layout": {
        "bargap": 0.1,
        "barmode": "relative",
        "font": {
         "color": "black",
         "family": "Droid Serif"
        },
        "height": 400,
        "hoverlabel": {
         "bgcolor": "black",
         "font": {
          "color": "white"
         }
        },
        "legend": {
         "tracegroupgap": 0
        },
        "paper_bgcolor": "white",
        "plot_bgcolor": "white",
        "showlegend": false,
        "template": {
         "data": {
          "bar": [
           {
            "error_x": {
             "color": "#2a3f5f"
            },
            "error_y": {
             "color": "#2a3f5f"
            },
            "marker": {
             "line": {
              "color": "#E5ECF6",
              "width": 0.5
             },
             "pattern": {
              "fillmode": "overlay",
              "size": 10,
              "solidity": 0.2
             }
            },
            "type": "bar"
           }
          ],
          "barpolar": [
           {
            "marker": {
             "line": {
              "color": "#E5ECF6",
              "width": 0.5
             },
             "pattern": {
              "fillmode": "overlay",
              "size": 10,
              "solidity": 0.2
             }
            },
            "type": "barpolar"
           }
          ],
          "carpet": [
           {
            "aaxis": {
             "endlinecolor": "#2a3f5f",
             "gridcolor": "white",
             "linecolor": "white",
             "minorgridcolor": "white",
             "startlinecolor": "#2a3f5f"
            },
            "baxis": {
             "endlinecolor": "#2a3f5f",
             "gridcolor": "white",
             "linecolor": "white",
             "minorgridcolor": "white",
             "startlinecolor": "#2a3f5f"
            },
            "type": "carpet"
           }
          ],
          "choropleth": [
           {
            "colorbar": {
             "outlinewidth": 0,
             "ticks": ""
            },
            "type": "choropleth"
           }
          ],
          "contour": [
           {
            "colorbar": {
             "outlinewidth": 0,
             "ticks": ""
            },
            "colorscale": [
             [
              0,
              "#0d0887"
             ],
             [
              0.1111111111111111,
              "#46039f"
             ],
             [
              0.2222222222222222,
              "#7201a8"
             ],
             [
              0.3333333333333333,
              "#9c179e"
             ],
             [
              0.4444444444444444,
              "#bd3786"
             ],
             [
              0.5555555555555556,
              "#d8576b"
             ],
             [
              0.6666666666666666,
              "#ed7953"
             ],
             [
              0.7777777777777778,
              "#fb9f3a"
             ],
             [
              0.8888888888888888,
              "#fdca26"
             ],
             [
              1,
              "#f0f921"
             ]
            ],
            "type": "contour"
           }
          ],
          "contourcarpet": [
           {
            "colorbar": {
             "outlinewidth": 0,
             "ticks": ""
            },
            "type": "contourcarpet"
           }
          ],
          "heatmap": [
           {
            "colorbar": {
             "outlinewidth": 0,
             "ticks": ""
            },
            "colorscale": [
             [
              0,
              "#0d0887"
             ],
             [
              0.1111111111111111,
              "#46039f"
             ],
             [
              0.2222222222222222,
              "#7201a8"
             ],
             [
              0.3333333333333333,
              "#9c179e"
             ],
             [
              0.4444444444444444,
              "#bd3786"
             ],
             [
              0.5555555555555556,
              "#d8576b"
             ],
             [
              0.6666666666666666,
              "#ed7953"
             ],
             [
              0.7777777777777778,
              "#fb9f3a"
             ],
             [
              0.8888888888888888,
              "#fdca26"
             ],
             [
              1,
              "#f0f921"
             ]
            ],
            "type": "heatmap"
           }
          ],
          "heatmapgl": [
           {
            "colorbar": {
             "outlinewidth": 0,
             "ticks": ""
            },
            "colorscale": [
             [
              0,
              "#0d0887"
             ],
             [
              0.1111111111111111,
              "#46039f"
             ],
             [
              0.2222222222222222,
              "#7201a8"
             ],
             [
              0.3333333333333333,
              "#9c179e"
             ],
             [
              0.4444444444444444,
              "#bd3786"
             ],
             [
              0.5555555555555556,
              "#d8576b"
             ],
             [
              0.6666666666666666,
              "#ed7953"
             ],
             [
              0.7777777777777778,
              "#fb9f3a"
             ],
             [
              0.8888888888888888,
              "#fdca26"
             ],
             [
              1,
              "#f0f921"
             ]
            ],
            "type": "heatmapgl"
           }
          ],
          "histogram": [
           {
            "marker": {
             "pattern": {
              "fillmode": "overlay",
              "size": 10,
              "solidity": 0.2
             }
            },
            "type": "histogram"
           }
          ],
          "histogram2d": [
           {
            "colorbar": {
             "outlinewidth": 0,
             "ticks": ""
            },
            "colorscale": [
             [
              0,
              "#0d0887"
             ],
             [
              0.1111111111111111,
              "#46039f"
             ],
             [
              0.2222222222222222,
              "#7201a8"
             ],
             [
              0.3333333333333333,
              "#9c179e"
             ],
             [
              0.4444444444444444,
              "#bd3786"
             ],
             [
              0.5555555555555556,
              "#d8576b"
             ],
             [
              0.6666666666666666,
              "#ed7953"
             ],
             [
              0.7777777777777778,
              "#fb9f3a"
             ],
             [
              0.8888888888888888,
              "#fdca26"
             ],
             [
              1,
              "#f0f921"
             ]
            ],
            "type": "histogram2d"
           }
          ],
          "histogram2dcontour": [
           {
            "colorbar": {
             "outlinewidth": 0,
             "ticks": ""
            },
            "colorscale": [
             [
              0,
              "#0d0887"
             ],
             [
              0.1111111111111111,
              "#46039f"
             ],
             [
              0.2222222222222222,
              "#7201a8"
             ],
             [
              0.3333333333333333,
              "#9c179e"
             ],
             [
              0.4444444444444444,
              "#bd3786"
             ],
             [
              0.5555555555555556,
              "#d8576b"
             ],
             [
              0.6666666666666666,
              "#ed7953"
             ],
             [
              0.7777777777777778,
              "#fb9f3a"
             ],
             [
              0.8888888888888888,
              "#fdca26"
             ],
             [
              1,
              "#f0f921"
             ]
            ],
            "type": "histogram2dcontour"
           }
          ],
          "mesh3d": [
           {
            "colorbar": {
             "outlinewidth": 0,
             "ticks": ""
            },
            "type": "mesh3d"
           }
          ],
          "parcoords": [
           {
            "line": {
             "colorbar": {
              "outlinewidth": 0,
              "ticks": ""
             }
            },
            "type": "parcoords"
           }
          ],
          "pie": [
           {
            "automargin": true,
            "type": "pie"
           }
          ],
          "scatter": [
           {
            "fillpattern": {
             "fillmode": "overlay",
             "size": 10,
             "solidity": 0.2
            },
            "type": "scatter"
           }
          ],
          "scatter3d": [
           {
            "line": {
             "colorbar": {
              "outlinewidth": 0,
              "ticks": ""
             }
            },
            "marker": {
             "colorbar": {
              "outlinewidth": 0,
              "ticks": ""
             }
            },
            "type": "scatter3d"
           }
          ],
          "scattercarpet": [
           {
            "marker": {
             "colorbar": {
              "outlinewidth": 0,
              "ticks": ""
             }
            },
            "type": "scattercarpet"
           }
          ],
          "scattergeo": [
           {
            "marker": {
             "colorbar": {
              "outlinewidth": 0,
              "ticks": ""
             }
            },
            "type": "scattergeo"
           }
          ],
          "scattergl": [
           {
            "marker": {
             "colorbar": {
              "outlinewidth": 0,
              "ticks": ""
             }
            },
            "type": "scattergl"
           }
          ],
          "scattermapbox": [
           {
            "marker": {
             "colorbar": {
              "outlinewidth": 0,
              "ticks": ""
             }
            },
            "type": "scattermapbox"
           }
          ],
          "scatterpolar": [
           {
            "marker": {
             "colorbar": {
              "outlinewidth": 0,
              "ticks": ""
             }
            },
            "type": "scatterpolar"
           }
          ],
          "scatterpolargl": [
           {
            "marker": {
             "colorbar": {
              "outlinewidth": 0,
              "ticks": ""
             }
            },
            "type": "scatterpolargl"
           }
          ],
          "scatterternary": [
           {
            "marker": {
             "colorbar": {
              "outlinewidth": 0,
              "ticks": ""
             }
            },
            "type": "scatterternary"
           }
          ],
          "surface": [
           {
            "colorbar": {
             "outlinewidth": 0,
             "ticks": ""
            },
            "colorscale": [
             [
              0,
              "#0d0887"
             ],
             [
              0.1111111111111111,
              "#46039f"
             ],
             [
              0.2222222222222222,
              "#7201a8"
             ],
             [
              0.3333333333333333,
              "#9c179e"
             ],
             [
              0.4444444444444444,
              "#bd3786"
             ],
             [
              0.5555555555555556,
              "#d8576b"
             ],
             [
              0.6666666666666666,
              "#ed7953"
             ],
             [
              0.7777777777777778,
              "#fb9f3a"
             ],
             [
              0.8888888888888888,
              "#fdca26"
             ],
             [
              1,
              "#f0f921"
             ]
            ],
            "type": "surface"
           }
          ],
          "table": [
           {
            "cells": {
             "fill": {
              "color": "#EBF0F8"
             },
             "line": {
              "color": "white"
             }
            },
            "header": {
             "fill": {
              "color": "#C8D4E3"
             },
             "line": {
              "color": "white"
             }
            },
            "type": "table"
           }
          ]
         },
         "layout": {
          "annotationdefaults": {
           "arrowcolor": "#2a3f5f",
           "arrowhead": 0,
           "arrowwidth": 1
          },
          "autotypenumbers": "strict",
          "coloraxis": {
           "colorbar": {
            "outlinewidth": 0,
            "ticks": ""
           }
          },
          "colorscale": {
           "diverging": [
            [
             0,
             "#8e0152"
            ],
            [
             0.1,
             "#c51b7d"
            ],
            [
             0.2,
             "#de77ae"
            ],
            [
             0.3,
             "#f1b6da"
            ],
            [
             0.4,
             "#fde0ef"
            ],
            [
             0.5,
             "#f7f7f7"
            ],
            [
             0.6,
             "#e6f5d0"
            ],
            [
             0.7,
             "#b8e186"
            ],
            [
             0.8,
             "#7fbc41"
            ],
            [
             0.9,
             "#4d9221"
            ],
            [
             1,
             "#276419"
            ]
           ],
           "sequential": [
            [
             0,
             "#0d0887"
            ],
            [
             0.1111111111111111,
             "#46039f"
            ],
            [
             0.2222222222222222,
             "#7201a8"
            ],
            [
             0.3333333333333333,
             "#9c179e"
            ],
            [
             0.4444444444444444,
             "#bd3786"
            ],
            [
             0.5555555555555556,
             "#d8576b"
            ],
            [
             0.6666666666666666,
             "#ed7953"
            ],
            [
             0.7777777777777778,
             "#fb9f3a"
            ],
            [
             0.8888888888888888,
             "#fdca26"
            ],
            [
             1,
             "#f0f921"
            ]
           ],
           "sequentialminus": [
            [
             0,
             "#0d0887"
            ],
            [
             0.1111111111111111,
             "#46039f"
            ],
            [
             0.2222222222222222,
             "#7201a8"
            ],
            [
             0.3333333333333333,
             "#9c179e"
            ],
            [
             0.4444444444444444,
             "#bd3786"
            ],
            [
             0.5555555555555556,
             "#d8576b"
            ],
            [
             0.6666666666666666,
             "#ed7953"
            ],
            [
             0.7777777777777778,
             "#fb9f3a"
            ],
            [
             0.8888888888888888,
             "#fdca26"
            ],
            [
             1,
             "#f0f921"
            ]
           ]
          },
          "colorway": [
           "#636efa",
           "#EF553B",
           "#00cc96",
           "#ab63fa",
           "#FFA15A",
           "#19d3f3",
           "#FF6692",
           "#B6E880",
           "#FF97FF",
           "#FECB52"
          ],
          "font": {
           "color": "#2a3f5f"
          },
          "geo": {
           "bgcolor": "white",
           "lakecolor": "white",
           "landcolor": "#E5ECF6",
           "showlakes": true,
           "showland": true,
           "subunitcolor": "white"
          },
          "hoverlabel": {
           "align": "left"
          },
          "hovermode": "closest",
          "mapbox": {
           "style": "light"
          },
          "paper_bgcolor": "white",
          "plot_bgcolor": "#E5ECF6",
          "polar": {
           "angularaxis": {
            "gridcolor": "white",
            "linecolor": "white",
            "ticks": ""
           },
           "bgcolor": "#E5ECF6",
           "radialaxis": {
            "gridcolor": "white",
            "linecolor": "white",
            "ticks": ""
           }
          },
          "scene": {
           "xaxis": {
            "backgroundcolor": "#E5ECF6",
            "gridcolor": "white",
            "gridwidth": 2,
            "linecolor": "white",
            "showbackground": true,
            "ticks": "",
            "zerolinecolor": "white"
           },
           "yaxis": {
            "backgroundcolor": "#E5ECF6",
            "gridcolor": "white",
            "gridwidth": 2,
            "linecolor": "white",
            "showbackground": true,
            "ticks": "",
            "zerolinecolor": "white"
           },
           "zaxis": {
            "backgroundcolor": "#E5ECF6",
            "gridcolor": "white",
            "gridwidth": 2,
            "linecolor": "white",
            "showbackground": true,
            "ticks": "",
            "zerolinecolor": "white"
           }
          },
          "shapedefaults": {
           "line": {
            "color": "#2a3f5f"
           }
          },
          "ternary": {
           "aaxis": {
            "gridcolor": "white",
            "linecolor": "white",
            "ticks": ""
           },
           "baxis": {
            "gridcolor": "white",
            "linecolor": "white",
            "ticks": ""
           },
           "bgcolor": "#E5ECF6",
           "caxis": {
            "gridcolor": "white",
            "linecolor": "white",
            "ticks": ""
           }
          },
          "title": {
           "x": 0.05
          },
          "xaxis": {
           "automargin": true,
           "gridcolor": "white",
           "linecolor": "white",
           "ticks": "",
           "title": {
            "standoff": 15
           },
           "zerolinecolor": "white",
           "zerolinewidth": 2
          },
          "yaxis": {
           "automargin": true,
           "gridcolor": "white",
           "linecolor": "white",
           "ticks": "",
           "title": {
            "standoff": 15
           },
           "zerolinecolor": "white",
           "zerolinewidth": 2
          }
         }
        },
        "title": {
         "font": {
          "size": 22
         },
         "text": "Air Hockey Usage Time Trend",
         "x": 0.5,
         "xanchor": "center",
         "y": 0.85
        },
        "width": 600,
        "xaxis": {
         "anchor": "y",
         "categoryarray": [
          "0-4",
          "5-9",
          "10-14",
          "15-19",
          "20-24",
          "25-29",
          "30-34",
          "35-39",
          "40-44",
          "45-49",
          "50-54",
          "55-59",
          "60-64",
          "65-69",
          "70-74",
          "75-79",
          "80-84",
          "85-89",
          "90-94",
          "95-99",
          "100-104",
          "105-109",
          "110-114",
          "115-119",
          "120-124"
         ],
         "categoryorder": "array",
         "domain": [
          0,
          1
         ],
         "tickfont": {
          "size": 16
         },
         "tickmode": "array",
         "ticktext": [
          "0",
          "25",
          "50",
          "75",
          "100",
          "125"
         ],
         "tickvals": [
          "0-4",
          "20-24",
          "45-49",
          "70-74",
          "95-99",
          "120-124"
         ],
         "title": {
          "font": {
           "size": 18
          },
          "text": "Duration (minutes)"
         }
        },
        "yaxis": {
         "anchor": "x",
         "domain": [
          0,
          1
         ],
         "gridcolor": "rgba(128, 128, 128, 0.5)",
         "tickfont": {
          "size": 16
         },
         "title": {
          "font": {
           "size": 18
          },
          "text": "# of Checkouts"
         }
        }
       }
      }
     },
     "metadata": {},
     "output_type": "display_data"
    },
    {
     "name": "stdout",
     "output_type": "stream",
     "text": [
      "Visualization saved as ../resources/viz/f24_foosball_usage_trend.html\n"
     ]
    },
    {
     "data": {
      "application/vnd.plotly.v1+json": {
       "config": {
        "plotlyServerURL": "https://plot.ly"
       },
       "data": [
        {
         "alignmentgroup": "True",
         "hovertemplate": "Duration (minutes)=%{x}<br># of Checkouts=%{y}<extra></extra>",
         "legendgroup": "",
         "marker": {
          "color": "#636efa",
          "pattern": {
           "shape": ""
          }
         },
         "name": "",
         "offsetgroup": "",
         "orientation": "v",
         "showlegend": false,
         "textposition": "auto",
         "type": "bar",
         "x": [
          "0-4",
          "5-9",
          "10-14",
          "15-19",
          "20-24",
          "25-29",
          "30-34",
          "35-39",
          "40-44",
          "45-49",
          "50-54",
          "55-59",
          "60-64",
          "65-69",
          "70-74",
          "75-79",
          "80-84",
          "85-89",
          "90-94",
          "95-99",
          "100-104",
          "105-109",
          "110-114",
          "115-119",
          "120-124"
         ],
         "xaxis": "x",
         "y": [
          10,
          75,
          80,
          62,
          43,
          27,
          18,
          16,
          15,
          9,
          3,
          2,
          6,
          2,
          1,
          0,
          0,
          1,
          0,
          1,
          1,
          0,
          0,
          0,
          0
         ],
         "yaxis": "y"
        }
       ],
       "layout": {
        "bargap": 0.1,
        "barmode": "relative",
        "font": {
         "color": "black",
         "family": "Droid Serif"
        },
        "height": 400,
        "hoverlabel": {
         "bgcolor": "black",
         "font": {
          "color": "white"
         }
        },
        "legend": {
         "tracegroupgap": 0
        },
        "paper_bgcolor": "white",
        "plot_bgcolor": "white",
        "showlegend": false,
        "template": {
         "data": {
          "bar": [
           {
            "error_x": {
             "color": "#2a3f5f"
            },
            "error_y": {
             "color": "#2a3f5f"
            },
            "marker": {
             "line": {
              "color": "#E5ECF6",
              "width": 0.5
             },
             "pattern": {
              "fillmode": "overlay",
              "size": 10,
              "solidity": 0.2
             }
            },
            "type": "bar"
           }
          ],
          "barpolar": [
           {
            "marker": {
             "line": {
              "color": "#E5ECF6",
              "width": 0.5
             },
             "pattern": {
              "fillmode": "overlay",
              "size": 10,
              "solidity": 0.2
             }
            },
            "type": "barpolar"
           }
          ],
          "carpet": [
           {
            "aaxis": {
             "endlinecolor": "#2a3f5f",
             "gridcolor": "white",
             "linecolor": "white",
             "minorgridcolor": "white",
             "startlinecolor": "#2a3f5f"
            },
            "baxis": {
             "endlinecolor": "#2a3f5f",
             "gridcolor": "white",
             "linecolor": "white",
             "minorgridcolor": "white",
             "startlinecolor": "#2a3f5f"
            },
            "type": "carpet"
           }
          ],
          "choropleth": [
           {
            "colorbar": {
             "outlinewidth": 0,
             "ticks": ""
            },
            "type": "choropleth"
           }
          ],
          "contour": [
           {
            "colorbar": {
             "outlinewidth": 0,
             "ticks": ""
            },
            "colorscale": [
             [
              0,
              "#0d0887"
             ],
             [
              0.1111111111111111,
              "#46039f"
             ],
             [
              0.2222222222222222,
              "#7201a8"
             ],
             [
              0.3333333333333333,
              "#9c179e"
             ],
             [
              0.4444444444444444,
              "#bd3786"
             ],
             [
              0.5555555555555556,
              "#d8576b"
             ],
             [
              0.6666666666666666,
              "#ed7953"
             ],
             [
              0.7777777777777778,
              "#fb9f3a"
             ],
             [
              0.8888888888888888,
              "#fdca26"
             ],
             [
              1,
              "#f0f921"
             ]
            ],
            "type": "contour"
           }
          ],
          "contourcarpet": [
           {
            "colorbar": {
             "outlinewidth": 0,
             "ticks": ""
            },
            "type": "contourcarpet"
           }
          ],
          "heatmap": [
           {
            "colorbar": {
             "outlinewidth": 0,
             "ticks": ""
            },
            "colorscale": [
             [
              0,
              "#0d0887"
             ],
             [
              0.1111111111111111,
              "#46039f"
             ],
             [
              0.2222222222222222,
              "#7201a8"
             ],
             [
              0.3333333333333333,
              "#9c179e"
             ],
             [
              0.4444444444444444,
              "#bd3786"
             ],
             [
              0.5555555555555556,
              "#d8576b"
             ],
             [
              0.6666666666666666,
              "#ed7953"
             ],
             [
              0.7777777777777778,
              "#fb9f3a"
             ],
             [
              0.8888888888888888,
              "#fdca26"
             ],
             [
              1,
              "#f0f921"
             ]
            ],
            "type": "heatmap"
           }
          ],
          "heatmapgl": [
           {
            "colorbar": {
             "outlinewidth": 0,
             "ticks": ""
            },
            "colorscale": [
             [
              0,
              "#0d0887"
             ],
             [
              0.1111111111111111,
              "#46039f"
             ],
             [
              0.2222222222222222,
              "#7201a8"
             ],
             [
              0.3333333333333333,
              "#9c179e"
             ],
             [
              0.4444444444444444,
              "#bd3786"
             ],
             [
              0.5555555555555556,
              "#d8576b"
             ],
             [
              0.6666666666666666,
              "#ed7953"
             ],
             [
              0.7777777777777778,
              "#fb9f3a"
             ],
             [
              0.8888888888888888,
              "#fdca26"
             ],
             [
              1,
              "#f0f921"
             ]
            ],
            "type": "heatmapgl"
           }
          ],
          "histogram": [
           {
            "marker": {
             "pattern": {
              "fillmode": "overlay",
              "size": 10,
              "solidity": 0.2
             }
            },
            "type": "histogram"
           }
          ],
          "histogram2d": [
           {
            "colorbar": {
             "outlinewidth": 0,
             "ticks": ""
            },
            "colorscale": [
             [
              0,
              "#0d0887"
             ],
             [
              0.1111111111111111,
              "#46039f"
             ],
             [
              0.2222222222222222,
              "#7201a8"
             ],
             [
              0.3333333333333333,
              "#9c179e"
             ],
             [
              0.4444444444444444,
              "#bd3786"
             ],
             [
              0.5555555555555556,
              "#d8576b"
             ],
             [
              0.6666666666666666,
              "#ed7953"
             ],
             [
              0.7777777777777778,
              "#fb9f3a"
             ],
             [
              0.8888888888888888,
              "#fdca26"
             ],
             [
              1,
              "#f0f921"
             ]
            ],
            "type": "histogram2d"
           }
          ],
          "histogram2dcontour": [
           {
            "colorbar": {
             "outlinewidth": 0,
             "ticks": ""
            },
            "colorscale": [
             [
              0,
              "#0d0887"
             ],
             [
              0.1111111111111111,
              "#46039f"
             ],
             [
              0.2222222222222222,
              "#7201a8"
             ],
             [
              0.3333333333333333,
              "#9c179e"
             ],
             [
              0.4444444444444444,
              "#bd3786"
             ],
             [
              0.5555555555555556,
              "#d8576b"
             ],
             [
              0.6666666666666666,
              "#ed7953"
             ],
             [
              0.7777777777777778,
              "#fb9f3a"
             ],
             [
              0.8888888888888888,
              "#fdca26"
             ],
             [
              1,
              "#f0f921"
             ]
            ],
            "type": "histogram2dcontour"
           }
          ],
          "mesh3d": [
           {
            "colorbar": {
             "outlinewidth": 0,
             "ticks": ""
            },
            "type": "mesh3d"
           }
          ],
          "parcoords": [
           {
            "line": {
             "colorbar": {
              "outlinewidth": 0,
              "ticks": ""
             }
            },
            "type": "parcoords"
           }
          ],
          "pie": [
           {
            "automargin": true,
            "type": "pie"
           }
          ],
          "scatter": [
           {
            "fillpattern": {
             "fillmode": "overlay",
             "size": 10,
             "solidity": 0.2
            },
            "type": "scatter"
           }
          ],
          "scatter3d": [
           {
            "line": {
             "colorbar": {
              "outlinewidth": 0,
              "ticks": ""
             }
            },
            "marker": {
             "colorbar": {
              "outlinewidth": 0,
              "ticks": ""
             }
            },
            "type": "scatter3d"
           }
          ],
          "scattercarpet": [
           {
            "marker": {
             "colorbar": {
              "outlinewidth": 0,
              "ticks": ""
             }
            },
            "type": "scattercarpet"
           }
          ],
          "scattergeo": [
           {
            "marker": {
             "colorbar": {
              "outlinewidth": 0,
              "ticks": ""
             }
            },
            "type": "scattergeo"
           }
          ],
          "scattergl": [
           {
            "marker": {
             "colorbar": {
              "outlinewidth": 0,
              "ticks": ""
             }
            },
            "type": "scattergl"
           }
          ],
          "scattermapbox": [
           {
            "marker": {
             "colorbar": {
              "outlinewidth": 0,
              "ticks": ""
             }
            },
            "type": "scattermapbox"
           }
          ],
          "scatterpolar": [
           {
            "marker": {
             "colorbar": {
              "outlinewidth": 0,
              "ticks": ""
             }
            },
            "type": "scatterpolar"
           }
          ],
          "scatterpolargl": [
           {
            "marker": {
             "colorbar": {
              "outlinewidth": 0,
              "ticks": ""
             }
            },
            "type": "scatterpolargl"
           }
          ],
          "scatterternary": [
           {
            "marker": {
             "colorbar": {
              "outlinewidth": 0,
              "ticks": ""
             }
            },
            "type": "scatterternary"
           }
          ],
          "surface": [
           {
            "colorbar": {
             "outlinewidth": 0,
             "ticks": ""
            },
            "colorscale": [
             [
              0,
              "#0d0887"
             ],
             [
              0.1111111111111111,
              "#46039f"
             ],
             [
              0.2222222222222222,
              "#7201a8"
             ],
             [
              0.3333333333333333,
              "#9c179e"
             ],
             [
              0.4444444444444444,
              "#bd3786"
             ],
             [
              0.5555555555555556,
              "#d8576b"
             ],
             [
              0.6666666666666666,
              "#ed7953"
             ],
             [
              0.7777777777777778,
              "#fb9f3a"
             ],
             [
              0.8888888888888888,
              "#fdca26"
             ],
             [
              1,
              "#f0f921"
             ]
            ],
            "type": "surface"
           }
          ],
          "table": [
           {
            "cells": {
             "fill": {
              "color": "#EBF0F8"
             },
             "line": {
              "color": "white"
             }
            },
            "header": {
             "fill": {
              "color": "#C8D4E3"
             },
             "line": {
              "color": "white"
             }
            },
            "type": "table"
           }
          ]
         },
         "layout": {
          "annotationdefaults": {
           "arrowcolor": "#2a3f5f",
           "arrowhead": 0,
           "arrowwidth": 1
          },
          "autotypenumbers": "strict",
          "coloraxis": {
           "colorbar": {
            "outlinewidth": 0,
            "ticks": ""
           }
          },
          "colorscale": {
           "diverging": [
            [
             0,
             "#8e0152"
            ],
            [
             0.1,
             "#c51b7d"
            ],
            [
             0.2,
             "#de77ae"
            ],
            [
             0.3,
             "#f1b6da"
            ],
            [
             0.4,
             "#fde0ef"
            ],
            [
             0.5,
             "#f7f7f7"
            ],
            [
             0.6,
             "#e6f5d0"
            ],
            [
             0.7,
             "#b8e186"
            ],
            [
             0.8,
             "#7fbc41"
            ],
            [
             0.9,
             "#4d9221"
            ],
            [
             1,
             "#276419"
            ]
           ],
           "sequential": [
            [
             0,
             "#0d0887"
            ],
            [
             0.1111111111111111,
             "#46039f"
            ],
            [
             0.2222222222222222,
             "#7201a8"
            ],
            [
             0.3333333333333333,
             "#9c179e"
            ],
            [
             0.4444444444444444,
             "#bd3786"
            ],
            [
             0.5555555555555556,
             "#d8576b"
            ],
            [
             0.6666666666666666,
             "#ed7953"
            ],
            [
             0.7777777777777778,
             "#fb9f3a"
            ],
            [
             0.8888888888888888,
             "#fdca26"
            ],
            [
             1,
             "#f0f921"
            ]
           ],
           "sequentialminus": [
            [
             0,
             "#0d0887"
            ],
            [
             0.1111111111111111,
             "#46039f"
            ],
            [
             0.2222222222222222,
             "#7201a8"
            ],
            [
             0.3333333333333333,
             "#9c179e"
            ],
            [
             0.4444444444444444,
             "#bd3786"
            ],
            [
             0.5555555555555556,
             "#d8576b"
            ],
            [
             0.6666666666666666,
             "#ed7953"
            ],
            [
             0.7777777777777778,
             "#fb9f3a"
            ],
            [
             0.8888888888888888,
             "#fdca26"
            ],
            [
             1,
             "#f0f921"
            ]
           ]
          },
          "colorway": [
           "#636efa",
           "#EF553B",
           "#00cc96",
           "#ab63fa",
           "#FFA15A",
           "#19d3f3",
           "#FF6692",
           "#B6E880",
           "#FF97FF",
           "#FECB52"
          ],
          "font": {
           "color": "#2a3f5f"
          },
          "geo": {
           "bgcolor": "white",
           "lakecolor": "white",
           "landcolor": "#E5ECF6",
           "showlakes": true,
           "showland": true,
           "subunitcolor": "white"
          },
          "hoverlabel": {
           "align": "left"
          },
          "hovermode": "closest",
          "mapbox": {
           "style": "light"
          },
          "paper_bgcolor": "white",
          "plot_bgcolor": "#E5ECF6",
          "polar": {
           "angularaxis": {
            "gridcolor": "white",
            "linecolor": "white",
            "ticks": ""
           },
           "bgcolor": "#E5ECF6",
           "radialaxis": {
            "gridcolor": "white",
            "linecolor": "white",
            "ticks": ""
           }
          },
          "scene": {
           "xaxis": {
            "backgroundcolor": "#E5ECF6",
            "gridcolor": "white",
            "gridwidth": 2,
            "linecolor": "white",
            "showbackground": true,
            "ticks": "",
            "zerolinecolor": "white"
           },
           "yaxis": {
            "backgroundcolor": "#E5ECF6",
            "gridcolor": "white",
            "gridwidth": 2,
            "linecolor": "white",
            "showbackground": true,
            "ticks": "",
            "zerolinecolor": "white"
           },
           "zaxis": {
            "backgroundcolor": "#E5ECF6",
            "gridcolor": "white",
            "gridwidth": 2,
            "linecolor": "white",
            "showbackground": true,
            "ticks": "",
            "zerolinecolor": "white"
           }
          },
          "shapedefaults": {
           "line": {
            "color": "#2a3f5f"
           }
          },
          "ternary": {
           "aaxis": {
            "gridcolor": "white",
            "linecolor": "white",
            "ticks": ""
           },
           "baxis": {
            "gridcolor": "white",
            "linecolor": "white",
            "ticks": ""
           },
           "bgcolor": "#E5ECF6",
           "caxis": {
            "gridcolor": "white",
            "linecolor": "white",
            "ticks": ""
           }
          },
          "title": {
           "x": 0.05
          },
          "xaxis": {
           "automargin": true,
           "gridcolor": "white",
           "linecolor": "white",
           "ticks": "",
           "title": {
            "standoff": 15
           },
           "zerolinecolor": "white",
           "zerolinewidth": 2
          },
          "yaxis": {
           "automargin": true,
           "gridcolor": "white",
           "linecolor": "white",
           "ticks": "",
           "title": {
            "standoff": 15
           },
           "zerolinecolor": "white",
           "zerolinewidth": 2
          }
         }
        },
        "title": {
         "font": {
          "size": 22
         },
         "text": "Foosball Usage Time Trend",
         "x": 0.5,
         "xanchor": "center",
         "y": 0.85
        },
        "width": 600,
        "xaxis": {
         "anchor": "y",
         "categoryarray": [
          "0-4",
          "5-9",
          "10-14",
          "15-19",
          "20-24",
          "25-29",
          "30-34",
          "35-39",
          "40-44",
          "45-49",
          "50-54",
          "55-59",
          "60-64",
          "65-69",
          "70-74",
          "75-79",
          "80-84",
          "85-89",
          "90-94",
          "95-99",
          "100-104",
          "105-109",
          "110-114",
          "115-119",
          "120-124"
         ],
         "categoryorder": "array",
         "domain": [
          0,
          1
         ],
         "tickfont": {
          "size": 16
         },
         "tickmode": "array",
         "ticktext": [
          "0",
          "25",
          "50",
          "75",
          "100",
          "125"
         ],
         "tickvals": [
          "0-4",
          "20-24",
          "45-49",
          "70-74",
          "95-99",
          "120-124"
         ],
         "title": {
          "font": {
           "size": 18
          },
          "text": "Duration (minutes)"
         }
        },
        "yaxis": {
         "anchor": "x",
         "domain": [
          0,
          1
         ],
         "gridcolor": "rgba(128, 128, 128, 0.5)",
         "tickfont": {
          "size": 16
         },
         "title": {
          "font": {
           "size": 18
          },
          "text": "# of Checkouts"
         }
        }
       }
      }
     },
     "metadata": {},
     "output_type": "display_data"
    },
    {
     "name": "stdout",
     "output_type": "stream",
     "text": [
      "Visualization saved as ../resources/viz/f24_shuffleboard_usage_trend.html\n"
     ]
    },
    {
     "data": {
      "application/vnd.plotly.v1+json": {
       "config": {
        "plotlyServerURL": "https://plot.ly"
       },
       "data": [
        {
         "alignmentgroup": "True",
         "hovertemplate": "Duration (minutes)=%{x}<br># of Checkouts=%{y}<extra></extra>",
         "legendgroup": "",
         "marker": {
          "color": "#636efa",
          "pattern": {
           "shape": ""
          }
         },
         "name": "",
         "offsetgroup": "",
         "orientation": "v",
         "showlegend": false,
         "textposition": "auto",
         "type": "bar",
         "x": [
          "0-4",
          "5-9",
          "10-14",
          "15-19",
          "20-24",
          "25-29",
          "30-34",
          "35-39",
          "40-44",
          "45-49",
          "50-54",
          "55-59",
          "60-64",
          "65-69",
          "70-74",
          "75-79",
          "80-84",
          "85-89",
          "90-94",
          "95-99",
          "100-104",
          "105-109",
          "110-114",
          "115-119",
          "120-124"
         ],
         "xaxis": "x",
         "y": [
          4,
          20,
          21,
          25,
          13,
          4,
          6,
          5,
          2,
          2,
          3,
          2,
          0,
          0,
          0,
          1,
          0,
          0,
          0,
          0,
          0,
          0,
          0,
          0,
          0
         ],
         "yaxis": "y"
        }
       ],
       "layout": {
        "bargap": 0.1,
        "barmode": "relative",
        "font": {
         "color": "black",
         "family": "Droid Serif"
        },
        "height": 400,
        "hoverlabel": {
         "bgcolor": "black",
         "font": {
          "color": "white"
         }
        },
        "legend": {
         "tracegroupgap": 0
        },
        "paper_bgcolor": "white",
        "plot_bgcolor": "white",
        "showlegend": false,
        "template": {
         "data": {
          "bar": [
           {
            "error_x": {
             "color": "#2a3f5f"
            },
            "error_y": {
             "color": "#2a3f5f"
            },
            "marker": {
             "line": {
              "color": "#E5ECF6",
              "width": 0.5
             },
             "pattern": {
              "fillmode": "overlay",
              "size": 10,
              "solidity": 0.2
             }
            },
            "type": "bar"
           }
          ],
          "barpolar": [
           {
            "marker": {
             "line": {
              "color": "#E5ECF6",
              "width": 0.5
             },
             "pattern": {
              "fillmode": "overlay",
              "size": 10,
              "solidity": 0.2
             }
            },
            "type": "barpolar"
           }
          ],
          "carpet": [
           {
            "aaxis": {
             "endlinecolor": "#2a3f5f",
             "gridcolor": "white",
             "linecolor": "white",
             "minorgridcolor": "white",
             "startlinecolor": "#2a3f5f"
            },
            "baxis": {
             "endlinecolor": "#2a3f5f",
             "gridcolor": "white",
             "linecolor": "white",
             "minorgridcolor": "white",
             "startlinecolor": "#2a3f5f"
            },
            "type": "carpet"
           }
          ],
          "choropleth": [
           {
            "colorbar": {
             "outlinewidth": 0,
             "ticks": ""
            },
            "type": "choropleth"
           }
          ],
          "contour": [
           {
            "colorbar": {
             "outlinewidth": 0,
             "ticks": ""
            },
            "colorscale": [
             [
              0,
              "#0d0887"
             ],
             [
              0.1111111111111111,
              "#46039f"
             ],
             [
              0.2222222222222222,
              "#7201a8"
             ],
             [
              0.3333333333333333,
              "#9c179e"
             ],
             [
              0.4444444444444444,
              "#bd3786"
             ],
             [
              0.5555555555555556,
              "#d8576b"
             ],
             [
              0.6666666666666666,
              "#ed7953"
             ],
             [
              0.7777777777777778,
              "#fb9f3a"
             ],
             [
              0.8888888888888888,
              "#fdca26"
             ],
             [
              1,
              "#f0f921"
             ]
            ],
            "type": "contour"
           }
          ],
          "contourcarpet": [
           {
            "colorbar": {
             "outlinewidth": 0,
             "ticks": ""
            },
            "type": "contourcarpet"
           }
          ],
          "heatmap": [
           {
            "colorbar": {
             "outlinewidth": 0,
             "ticks": ""
            },
            "colorscale": [
             [
              0,
              "#0d0887"
             ],
             [
              0.1111111111111111,
              "#46039f"
             ],
             [
              0.2222222222222222,
              "#7201a8"
             ],
             [
              0.3333333333333333,
              "#9c179e"
             ],
             [
              0.4444444444444444,
              "#bd3786"
             ],
             [
              0.5555555555555556,
              "#d8576b"
             ],
             [
              0.6666666666666666,
              "#ed7953"
             ],
             [
              0.7777777777777778,
              "#fb9f3a"
             ],
             [
              0.8888888888888888,
              "#fdca26"
             ],
             [
              1,
              "#f0f921"
             ]
            ],
            "type": "heatmap"
           }
          ],
          "heatmapgl": [
           {
            "colorbar": {
             "outlinewidth": 0,
             "ticks": ""
            },
            "colorscale": [
             [
              0,
              "#0d0887"
             ],
             [
              0.1111111111111111,
              "#46039f"
             ],
             [
              0.2222222222222222,
              "#7201a8"
             ],
             [
              0.3333333333333333,
              "#9c179e"
             ],
             [
              0.4444444444444444,
              "#bd3786"
             ],
             [
              0.5555555555555556,
              "#d8576b"
             ],
             [
              0.6666666666666666,
              "#ed7953"
             ],
             [
              0.7777777777777778,
              "#fb9f3a"
             ],
             [
              0.8888888888888888,
              "#fdca26"
             ],
             [
              1,
              "#f0f921"
             ]
            ],
            "type": "heatmapgl"
           }
          ],
          "histogram": [
           {
            "marker": {
             "pattern": {
              "fillmode": "overlay",
              "size": 10,
              "solidity": 0.2
             }
            },
            "type": "histogram"
           }
          ],
          "histogram2d": [
           {
            "colorbar": {
             "outlinewidth": 0,
             "ticks": ""
            },
            "colorscale": [
             [
              0,
              "#0d0887"
             ],
             [
              0.1111111111111111,
              "#46039f"
             ],
             [
              0.2222222222222222,
              "#7201a8"
             ],
             [
              0.3333333333333333,
              "#9c179e"
             ],
             [
              0.4444444444444444,
              "#bd3786"
             ],
             [
              0.5555555555555556,
              "#d8576b"
             ],
             [
              0.6666666666666666,
              "#ed7953"
             ],
             [
              0.7777777777777778,
              "#fb9f3a"
             ],
             [
              0.8888888888888888,
              "#fdca26"
             ],
             [
              1,
              "#f0f921"
             ]
            ],
            "type": "histogram2d"
           }
          ],
          "histogram2dcontour": [
           {
            "colorbar": {
             "outlinewidth": 0,
             "ticks": ""
            },
            "colorscale": [
             [
              0,
              "#0d0887"
             ],
             [
              0.1111111111111111,
              "#46039f"
             ],
             [
              0.2222222222222222,
              "#7201a8"
             ],
             [
              0.3333333333333333,
              "#9c179e"
             ],
             [
              0.4444444444444444,
              "#bd3786"
             ],
             [
              0.5555555555555556,
              "#d8576b"
             ],
             [
              0.6666666666666666,
              "#ed7953"
             ],
             [
              0.7777777777777778,
              "#fb9f3a"
             ],
             [
              0.8888888888888888,
              "#fdca26"
             ],
             [
              1,
              "#f0f921"
             ]
            ],
            "type": "histogram2dcontour"
           }
          ],
          "mesh3d": [
           {
            "colorbar": {
             "outlinewidth": 0,
             "ticks": ""
            },
            "type": "mesh3d"
           }
          ],
          "parcoords": [
           {
            "line": {
             "colorbar": {
              "outlinewidth": 0,
              "ticks": ""
             }
            },
            "type": "parcoords"
           }
          ],
          "pie": [
           {
            "automargin": true,
            "type": "pie"
           }
          ],
          "scatter": [
           {
            "fillpattern": {
             "fillmode": "overlay",
             "size": 10,
             "solidity": 0.2
            },
            "type": "scatter"
           }
          ],
          "scatter3d": [
           {
            "line": {
             "colorbar": {
              "outlinewidth": 0,
              "ticks": ""
             }
            },
            "marker": {
             "colorbar": {
              "outlinewidth": 0,
              "ticks": ""
             }
            },
            "type": "scatter3d"
           }
          ],
          "scattercarpet": [
           {
            "marker": {
             "colorbar": {
              "outlinewidth": 0,
              "ticks": ""
             }
            },
            "type": "scattercarpet"
           }
          ],
          "scattergeo": [
           {
            "marker": {
             "colorbar": {
              "outlinewidth": 0,
              "ticks": ""
             }
            },
            "type": "scattergeo"
           }
          ],
          "scattergl": [
           {
            "marker": {
             "colorbar": {
              "outlinewidth": 0,
              "ticks": ""
             }
            },
            "type": "scattergl"
           }
          ],
          "scattermapbox": [
           {
            "marker": {
             "colorbar": {
              "outlinewidth": 0,
              "ticks": ""
             }
            },
            "type": "scattermapbox"
           }
          ],
          "scatterpolar": [
           {
            "marker": {
             "colorbar": {
              "outlinewidth": 0,
              "ticks": ""
             }
            },
            "type": "scatterpolar"
           }
          ],
          "scatterpolargl": [
           {
            "marker": {
             "colorbar": {
              "outlinewidth": 0,
              "ticks": ""
             }
            },
            "type": "scatterpolargl"
           }
          ],
          "scatterternary": [
           {
            "marker": {
             "colorbar": {
              "outlinewidth": 0,
              "ticks": ""
             }
            },
            "type": "scatterternary"
           }
          ],
          "surface": [
           {
            "colorbar": {
             "outlinewidth": 0,
             "ticks": ""
            },
            "colorscale": [
             [
              0,
              "#0d0887"
             ],
             [
              0.1111111111111111,
              "#46039f"
             ],
             [
              0.2222222222222222,
              "#7201a8"
             ],
             [
              0.3333333333333333,
              "#9c179e"
             ],
             [
              0.4444444444444444,
              "#bd3786"
             ],
             [
              0.5555555555555556,
              "#d8576b"
             ],
             [
              0.6666666666666666,
              "#ed7953"
             ],
             [
              0.7777777777777778,
              "#fb9f3a"
             ],
             [
              0.8888888888888888,
              "#fdca26"
             ],
             [
              1,
              "#f0f921"
             ]
            ],
            "type": "surface"
           }
          ],
          "table": [
           {
            "cells": {
             "fill": {
              "color": "#EBF0F8"
             },
             "line": {
              "color": "white"
             }
            },
            "header": {
             "fill": {
              "color": "#C8D4E3"
             },
             "line": {
              "color": "white"
             }
            },
            "type": "table"
           }
          ]
         },
         "layout": {
          "annotationdefaults": {
           "arrowcolor": "#2a3f5f",
           "arrowhead": 0,
           "arrowwidth": 1
          },
          "autotypenumbers": "strict",
          "coloraxis": {
           "colorbar": {
            "outlinewidth": 0,
            "ticks": ""
           }
          },
          "colorscale": {
           "diverging": [
            [
             0,
             "#8e0152"
            ],
            [
             0.1,
             "#c51b7d"
            ],
            [
             0.2,
             "#de77ae"
            ],
            [
             0.3,
             "#f1b6da"
            ],
            [
             0.4,
             "#fde0ef"
            ],
            [
             0.5,
             "#f7f7f7"
            ],
            [
             0.6,
             "#e6f5d0"
            ],
            [
             0.7,
             "#b8e186"
            ],
            [
             0.8,
             "#7fbc41"
            ],
            [
             0.9,
             "#4d9221"
            ],
            [
             1,
             "#276419"
            ]
           ],
           "sequential": [
            [
             0,
             "#0d0887"
            ],
            [
             0.1111111111111111,
             "#46039f"
            ],
            [
             0.2222222222222222,
             "#7201a8"
            ],
            [
             0.3333333333333333,
             "#9c179e"
            ],
            [
             0.4444444444444444,
             "#bd3786"
            ],
            [
             0.5555555555555556,
             "#d8576b"
            ],
            [
             0.6666666666666666,
             "#ed7953"
            ],
            [
             0.7777777777777778,
             "#fb9f3a"
            ],
            [
             0.8888888888888888,
             "#fdca26"
            ],
            [
             1,
             "#f0f921"
            ]
           ],
           "sequentialminus": [
            [
             0,
             "#0d0887"
            ],
            [
             0.1111111111111111,
             "#46039f"
            ],
            [
             0.2222222222222222,
             "#7201a8"
            ],
            [
             0.3333333333333333,
             "#9c179e"
            ],
            [
             0.4444444444444444,
             "#bd3786"
            ],
            [
             0.5555555555555556,
             "#d8576b"
            ],
            [
             0.6666666666666666,
             "#ed7953"
            ],
            [
             0.7777777777777778,
             "#fb9f3a"
            ],
            [
             0.8888888888888888,
             "#fdca26"
            ],
            [
             1,
             "#f0f921"
            ]
           ]
          },
          "colorway": [
           "#636efa",
           "#EF553B",
           "#00cc96",
           "#ab63fa",
           "#FFA15A",
           "#19d3f3",
           "#FF6692",
           "#B6E880",
           "#FF97FF",
           "#FECB52"
          ],
          "font": {
           "color": "#2a3f5f"
          },
          "geo": {
           "bgcolor": "white",
           "lakecolor": "white",
           "landcolor": "#E5ECF6",
           "showlakes": true,
           "showland": true,
           "subunitcolor": "white"
          },
          "hoverlabel": {
           "align": "left"
          },
          "hovermode": "closest",
          "mapbox": {
           "style": "light"
          },
          "paper_bgcolor": "white",
          "plot_bgcolor": "#E5ECF6",
          "polar": {
           "angularaxis": {
            "gridcolor": "white",
            "linecolor": "white",
            "ticks": ""
           },
           "bgcolor": "#E5ECF6",
           "radialaxis": {
            "gridcolor": "white",
            "linecolor": "white",
            "ticks": ""
           }
          },
          "scene": {
           "xaxis": {
            "backgroundcolor": "#E5ECF6",
            "gridcolor": "white",
            "gridwidth": 2,
            "linecolor": "white",
            "showbackground": true,
            "ticks": "",
            "zerolinecolor": "white"
           },
           "yaxis": {
            "backgroundcolor": "#E5ECF6",
            "gridcolor": "white",
            "gridwidth": 2,
            "linecolor": "white",
            "showbackground": true,
            "ticks": "",
            "zerolinecolor": "white"
           },
           "zaxis": {
            "backgroundcolor": "#E5ECF6",
            "gridcolor": "white",
            "gridwidth": 2,
            "linecolor": "white",
            "showbackground": true,
            "ticks": "",
            "zerolinecolor": "white"
           }
          },
          "shapedefaults": {
           "line": {
            "color": "#2a3f5f"
           }
          },
          "ternary": {
           "aaxis": {
            "gridcolor": "white",
            "linecolor": "white",
            "ticks": ""
           },
           "baxis": {
            "gridcolor": "white",
            "linecolor": "white",
            "ticks": ""
           },
           "bgcolor": "#E5ECF6",
           "caxis": {
            "gridcolor": "white",
            "linecolor": "white",
            "ticks": ""
           }
          },
          "title": {
           "x": 0.05
          },
          "xaxis": {
           "automargin": true,
           "gridcolor": "white",
           "linecolor": "white",
           "ticks": "",
           "title": {
            "standoff": 15
           },
           "zerolinecolor": "white",
           "zerolinewidth": 2
          },
          "yaxis": {
           "automargin": true,
           "gridcolor": "white",
           "linecolor": "white",
           "ticks": "",
           "title": {
            "standoff": 15
           },
           "zerolinecolor": "white",
           "zerolinewidth": 2
          }
         }
        },
        "title": {
         "font": {
          "size": 22
         },
         "text": "Shuffleboard Usage Time Trend",
         "x": 0.5,
         "xanchor": "center",
         "y": 0.85
        },
        "width": 600,
        "xaxis": {
         "anchor": "y",
         "categoryarray": [
          "0-4",
          "5-9",
          "10-14",
          "15-19",
          "20-24",
          "25-29",
          "30-34",
          "35-39",
          "40-44",
          "45-49",
          "50-54",
          "55-59",
          "60-64",
          "65-69",
          "70-74",
          "75-79",
          "80-84",
          "85-89",
          "90-94",
          "95-99",
          "100-104",
          "105-109",
          "110-114",
          "115-119",
          "120-124"
         ],
         "categoryorder": "array",
         "domain": [
          0,
          1
         ],
         "tickfont": {
          "size": 16
         },
         "tickmode": "array",
         "ticktext": [
          "0",
          "25",
          "50",
          "75",
          "100",
          "125"
         ],
         "tickvals": [
          "0-4",
          "20-24",
          "45-49",
          "70-74",
          "95-99",
          "120-124"
         ],
         "title": {
          "font": {
           "size": 18
          },
          "text": "Duration (minutes)"
         }
        },
        "yaxis": {
         "anchor": "x",
         "domain": [
          0,
          1
         ],
         "gridcolor": "rgba(128, 128, 128, 0.5)",
         "tickfont": {
          "size": 16
         },
         "title": {
          "font": {
           "size": 18
          },
          "text": "# of Checkouts"
         }
        }
       }
      }
     },
     "metadata": {},
     "output_type": "display_data"
    },
    {
     "name": "stdout",
     "output_type": "stream",
     "text": [
      "Table Game Visualizations Complete!\n",
      "\n",
      "\n",
      "Running Board Game Visualizations...\n"
     ]
    },
    {
     "data": {
      "application/vnd.plotly.v1+json": {
       "config": {
        "plotlyServerURL": "https://plot.ly"
       },
       "data": [
        {
         "alignmentgroup": "True",
         "bingroup": "x",
         "hovertemplate": "Duration (minutes)=%{x}<br>count=%{y}<extra></extra>",
         "legendgroup": "",
         "marker": {
          "color": "#636efa",
          "pattern": {
           "shape": ""
          }
         },
         "name": "",
         "offsetgroup": "",
         "orientation": "v",
         "showlegend": false,
         "type": "histogram",
         "x": [
          25,
          23,
          65,
          18,
          35,
          60,
          6,
          11,
          58,
          30,
          62,
          69,
          20,
          12,
          328,
          121,
          83,
          83,
          72,
          22,
          145,
          76,
          57,
          38,
          72,
          32,
          85,
          111,
          103,
          36,
          16,
          129,
          129,
          129,
          34,
          70,
          154,
          62,
          125,
          94,
          21,
          53,
          15,
          52,
          16,
          7,
          19,
          353,
          100,
          74,
          128,
          72,
          62,
          112,
          274,
          16,
          125,
          81,
          222,
          128,
          104,
          168,
          74
         ],
         "xaxis": "x",
         "yaxis": "y"
        }
       ],
       "layout": {
        "bargap": 0.1,
        "barmode": "relative",
        "font": {
         "color": "black",
         "family": "Droid Serif"
        },
        "height": 400,
        "hoverlabel": {
         "bgcolor": "black",
         "font": {
          "color": "white"
         }
        },
        "legend": {
         "tracegroupgap": 0
        },
        "paper_bgcolor": "white",
        "plot_bgcolor": "white",
        "showlegend": false,
        "template": {
         "data": {
          "bar": [
           {
            "error_x": {
             "color": "#2a3f5f"
            },
            "error_y": {
             "color": "#2a3f5f"
            },
            "marker": {
             "line": {
              "color": "#E5ECF6",
              "width": 0.5
             },
             "pattern": {
              "fillmode": "overlay",
              "size": 10,
              "solidity": 0.2
             }
            },
            "type": "bar"
           }
          ],
          "barpolar": [
           {
            "marker": {
             "line": {
              "color": "#E5ECF6",
              "width": 0.5
             },
             "pattern": {
              "fillmode": "overlay",
              "size": 10,
              "solidity": 0.2
             }
            },
            "type": "barpolar"
           }
          ],
          "carpet": [
           {
            "aaxis": {
             "endlinecolor": "#2a3f5f",
             "gridcolor": "white",
             "linecolor": "white",
             "minorgridcolor": "white",
             "startlinecolor": "#2a3f5f"
            },
            "baxis": {
             "endlinecolor": "#2a3f5f",
             "gridcolor": "white",
             "linecolor": "white",
             "minorgridcolor": "white",
             "startlinecolor": "#2a3f5f"
            },
            "type": "carpet"
           }
          ],
          "choropleth": [
           {
            "colorbar": {
             "outlinewidth": 0,
             "ticks": ""
            },
            "type": "choropleth"
           }
          ],
          "contour": [
           {
            "colorbar": {
             "outlinewidth": 0,
             "ticks": ""
            },
            "colorscale": [
             [
              0,
              "#0d0887"
             ],
             [
              0.1111111111111111,
              "#46039f"
             ],
             [
              0.2222222222222222,
              "#7201a8"
             ],
             [
              0.3333333333333333,
              "#9c179e"
             ],
             [
              0.4444444444444444,
              "#bd3786"
             ],
             [
              0.5555555555555556,
              "#d8576b"
             ],
             [
              0.6666666666666666,
              "#ed7953"
             ],
             [
              0.7777777777777778,
              "#fb9f3a"
             ],
             [
              0.8888888888888888,
              "#fdca26"
             ],
             [
              1,
              "#f0f921"
             ]
            ],
            "type": "contour"
           }
          ],
          "contourcarpet": [
           {
            "colorbar": {
             "outlinewidth": 0,
             "ticks": ""
            },
            "type": "contourcarpet"
           }
          ],
          "heatmap": [
           {
            "colorbar": {
             "outlinewidth": 0,
             "ticks": ""
            },
            "colorscale": [
             [
              0,
              "#0d0887"
             ],
             [
              0.1111111111111111,
              "#46039f"
             ],
             [
              0.2222222222222222,
              "#7201a8"
             ],
             [
              0.3333333333333333,
              "#9c179e"
             ],
             [
              0.4444444444444444,
              "#bd3786"
             ],
             [
              0.5555555555555556,
              "#d8576b"
             ],
             [
              0.6666666666666666,
              "#ed7953"
             ],
             [
              0.7777777777777778,
              "#fb9f3a"
             ],
             [
              0.8888888888888888,
              "#fdca26"
             ],
             [
              1,
              "#f0f921"
             ]
            ],
            "type": "heatmap"
           }
          ],
          "heatmapgl": [
           {
            "colorbar": {
             "outlinewidth": 0,
             "ticks": ""
            },
            "colorscale": [
             [
              0,
              "#0d0887"
             ],
             [
              0.1111111111111111,
              "#46039f"
             ],
             [
              0.2222222222222222,
              "#7201a8"
             ],
             [
              0.3333333333333333,
              "#9c179e"
             ],
             [
              0.4444444444444444,
              "#bd3786"
             ],
             [
              0.5555555555555556,
              "#d8576b"
             ],
             [
              0.6666666666666666,
              "#ed7953"
             ],
             [
              0.7777777777777778,
              "#fb9f3a"
             ],
             [
              0.8888888888888888,
              "#fdca26"
             ],
             [
              1,
              "#f0f921"
             ]
            ],
            "type": "heatmapgl"
           }
          ],
          "histogram": [
           {
            "marker": {
             "pattern": {
              "fillmode": "overlay",
              "size": 10,
              "solidity": 0.2
             }
            },
            "type": "histogram"
           }
          ],
          "histogram2d": [
           {
            "colorbar": {
             "outlinewidth": 0,
             "ticks": ""
            },
            "colorscale": [
             [
              0,
              "#0d0887"
             ],
             [
              0.1111111111111111,
              "#46039f"
             ],
             [
              0.2222222222222222,
              "#7201a8"
             ],
             [
              0.3333333333333333,
              "#9c179e"
             ],
             [
              0.4444444444444444,
              "#bd3786"
             ],
             [
              0.5555555555555556,
              "#d8576b"
             ],
             [
              0.6666666666666666,
              "#ed7953"
             ],
             [
              0.7777777777777778,
              "#fb9f3a"
             ],
             [
              0.8888888888888888,
              "#fdca26"
             ],
             [
              1,
              "#f0f921"
             ]
            ],
            "type": "histogram2d"
           }
          ],
          "histogram2dcontour": [
           {
            "colorbar": {
             "outlinewidth": 0,
             "ticks": ""
            },
            "colorscale": [
             [
              0,
              "#0d0887"
             ],
             [
              0.1111111111111111,
              "#46039f"
             ],
             [
              0.2222222222222222,
              "#7201a8"
             ],
             [
              0.3333333333333333,
              "#9c179e"
             ],
             [
              0.4444444444444444,
              "#bd3786"
             ],
             [
              0.5555555555555556,
              "#d8576b"
             ],
             [
              0.6666666666666666,
              "#ed7953"
             ],
             [
              0.7777777777777778,
              "#fb9f3a"
             ],
             [
              0.8888888888888888,
              "#fdca26"
             ],
             [
              1,
              "#f0f921"
             ]
            ],
            "type": "histogram2dcontour"
           }
          ],
          "mesh3d": [
           {
            "colorbar": {
             "outlinewidth": 0,
             "ticks": ""
            },
            "type": "mesh3d"
           }
          ],
          "parcoords": [
           {
            "line": {
             "colorbar": {
              "outlinewidth": 0,
              "ticks": ""
             }
            },
            "type": "parcoords"
           }
          ],
          "pie": [
           {
            "automargin": true,
            "type": "pie"
           }
          ],
          "scatter": [
           {
            "fillpattern": {
             "fillmode": "overlay",
             "size": 10,
             "solidity": 0.2
            },
            "type": "scatter"
           }
          ],
          "scatter3d": [
           {
            "line": {
             "colorbar": {
              "outlinewidth": 0,
              "ticks": ""
             }
            },
            "marker": {
             "colorbar": {
              "outlinewidth": 0,
              "ticks": ""
             }
            },
            "type": "scatter3d"
           }
          ],
          "scattercarpet": [
           {
            "marker": {
             "colorbar": {
              "outlinewidth": 0,
              "ticks": ""
             }
            },
            "type": "scattercarpet"
           }
          ],
          "scattergeo": [
           {
            "marker": {
             "colorbar": {
              "outlinewidth": 0,
              "ticks": ""
             }
            },
            "type": "scattergeo"
           }
          ],
          "scattergl": [
           {
            "marker": {
             "colorbar": {
              "outlinewidth": 0,
              "ticks": ""
             }
            },
            "type": "scattergl"
           }
          ],
          "scattermapbox": [
           {
            "marker": {
             "colorbar": {
              "outlinewidth": 0,
              "ticks": ""
             }
            },
            "type": "scattermapbox"
           }
          ],
          "scatterpolar": [
           {
            "marker": {
             "colorbar": {
              "outlinewidth": 0,
              "ticks": ""
             }
            },
            "type": "scatterpolar"
           }
          ],
          "scatterpolargl": [
           {
            "marker": {
             "colorbar": {
              "outlinewidth": 0,
              "ticks": ""
             }
            },
            "type": "scatterpolargl"
           }
          ],
          "scatterternary": [
           {
            "marker": {
             "colorbar": {
              "outlinewidth": 0,
              "ticks": ""
             }
            },
            "type": "scatterternary"
           }
          ],
          "surface": [
           {
            "colorbar": {
             "outlinewidth": 0,
             "ticks": ""
            },
            "colorscale": [
             [
              0,
              "#0d0887"
             ],
             [
              0.1111111111111111,
              "#46039f"
             ],
             [
              0.2222222222222222,
              "#7201a8"
             ],
             [
              0.3333333333333333,
              "#9c179e"
             ],
             [
              0.4444444444444444,
              "#bd3786"
             ],
             [
              0.5555555555555556,
              "#d8576b"
             ],
             [
              0.6666666666666666,
              "#ed7953"
             ],
             [
              0.7777777777777778,
              "#fb9f3a"
             ],
             [
              0.8888888888888888,
              "#fdca26"
             ],
             [
              1,
              "#f0f921"
             ]
            ],
            "type": "surface"
           }
          ],
          "table": [
           {
            "cells": {
             "fill": {
              "color": "#EBF0F8"
             },
             "line": {
              "color": "white"
             }
            },
            "header": {
             "fill": {
              "color": "#C8D4E3"
             },
             "line": {
              "color": "white"
             }
            },
            "type": "table"
           }
          ]
         },
         "layout": {
          "annotationdefaults": {
           "arrowcolor": "#2a3f5f",
           "arrowhead": 0,
           "arrowwidth": 1
          },
          "autotypenumbers": "strict",
          "coloraxis": {
           "colorbar": {
            "outlinewidth": 0,
            "ticks": ""
           }
          },
          "colorscale": {
           "diverging": [
            [
             0,
             "#8e0152"
            ],
            [
             0.1,
             "#c51b7d"
            ],
            [
             0.2,
             "#de77ae"
            ],
            [
             0.3,
             "#f1b6da"
            ],
            [
             0.4,
             "#fde0ef"
            ],
            [
             0.5,
             "#f7f7f7"
            ],
            [
             0.6,
             "#e6f5d0"
            ],
            [
             0.7,
             "#b8e186"
            ],
            [
             0.8,
             "#7fbc41"
            ],
            [
             0.9,
             "#4d9221"
            ],
            [
             1,
             "#276419"
            ]
           ],
           "sequential": [
            [
             0,
             "#0d0887"
            ],
            [
             0.1111111111111111,
             "#46039f"
            ],
            [
             0.2222222222222222,
             "#7201a8"
            ],
            [
             0.3333333333333333,
             "#9c179e"
            ],
            [
             0.4444444444444444,
             "#bd3786"
            ],
            [
             0.5555555555555556,
             "#d8576b"
            ],
            [
             0.6666666666666666,
             "#ed7953"
            ],
            [
             0.7777777777777778,
             "#fb9f3a"
            ],
            [
             0.8888888888888888,
             "#fdca26"
            ],
            [
             1,
             "#f0f921"
            ]
           ],
           "sequentialminus": [
            [
             0,
             "#0d0887"
            ],
            [
             0.1111111111111111,
             "#46039f"
            ],
            [
             0.2222222222222222,
             "#7201a8"
            ],
            [
             0.3333333333333333,
             "#9c179e"
            ],
            [
             0.4444444444444444,
             "#bd3786"
            ],
            [
             0.5555555555555556,
             "#d8576b"
            ],
            [
             0.6666666666666666,
             "#ed7953"
            ],
            [
             0.7777777777777778,
             "#fb9f3a"
            ],
            [
             0.8888888888888888,
             "#fdca26"
            ],
            [
             1,
             "#f0f921"
            ]
           ]
          },
          "colorway": [
           "#636efa",
           "#EF553B",
           "#00cc96",
           "#ab63fa",
           "#FFA15A",
           "#19d3f3",
           "#FF6692",
           "#B6E880",
           "#FF97FF",
           "#FECB52"
          ],
          "font": {
           "color": "#2a3f5f"
          },
          "geo": {
           "bgcolor": "white",
           "lakecolor": "white",
           "landcolor": "#E5ECF6",
           "showlakes": true,
           "showland": true,
           "subunitcolor": "white"
          },
          "hoverlabel": {
           "align": "left"
          },
          "hovermode": "closest",
          "mapbox": {
           "style": "light"
          },
          "paper_bgcolor": "white",
          "plot_bgcolor": "#E5ECF6",
          "polar": {
           "angularaxis": {
            "gridcolor": "white",
            "linecolor": "white",
            "ticks": ""
           },
           "bgcolor": "#E5ECF6",
           "radialaxis": {
            "gridcolor": "white",
            "linecolor": "white",
            "ticks": ""
           }
          },
          "scene": {
           "xaxis": {
            "backgroundcolor": "#E5ECF6",
            "gridcolor": "white",
            "gridwidth": 2,
            "linecolor": "white",
            "showbackground": true,
            "ticks": "",
            "zerolinecolor": "white"
           },
           "yaxis": {
            "backgroundcolor": "#E5ECF6",
            "gridcolor": "white",
            "gridwidth": 2,
            "linecolor": "white",
            "showbackground": true,
            "ticks": "",
            "zerolinecolor": "white"
           },
           "zaxis": {
            "backgroundcolor": "#E5ECF6",
            "gridcolor": "white",
            "gridwidth": 2,
            "linecolor": "white",
            "showbackground": true,
            "ticks": "",
            "zerolinecolor": "white"
           }
          },
          "shapedefaults": {
           "line": {
            "color": "#2a3f5f"
           }
          },
          "ternary": {
           "aaxis": {
            "gridcolor": "white",
            "linecolor": "white",
            "ticks": ""
           },
           "baxis": {
            "gridcolor": "white",
            "linecolor": "white",
            "ticks": ""
           },
           "bgcolor": "#E5ECF6",
           "caxis": {
            "gridcolor": "white",
            "linecolor": "white",
            "ticks": ""
           }
          },
          "title": {
           "x": 0.05
          },
          "xaxis": {
           "automargin": true,
           "gridcolor": "white",
           "linecolor": "white",
           "ticks": "",
           "title": {
            "standoff": 15
           },
           "zerolinecolor": "white",
           "zerolinewidth": 2
          },
          "yaxis": {
           "automargin": true,
           "gridcolor": "white",
           "linecolor": "white",
           "ticks": "",
           "title": {
            "standoff": 15
           },
           "zerolinecolor": "white",
           "zerolinewidth": 2
          }
         }
        },
        "title": {
         "font": {
          "size": 22
         },
         "text": "Board Game Usage Time Trend",
         "x": 0.5,
         "xanchor": "center",
         "y": 0.85
        },
        "width": 600,
        "xaxis": {
         "anchor": "y",
         "domain": [
          0,
          1
         ],
         "tickfont": {
          "size": 16
         },
         "tickmode": "array",
         "tickvals": [
          0,
          25,
          50,
          75,
          100,
          125,
          150,
          175,
          200,
          225,
          250,
          275,
          300,
          325,
          350
         ],
         "title": {
          "text": "Duration (minutes)"
         }
        },
        "yaxis": {
         "anchor": "x",
         "domain": [
          0,
          1
         ],
         "gridcolor": "rgba(128, 128, 128, 0.5)",
         "tickfont": {
          "size": 16
         },
         "title": {
          "text": "# of Checkouts"
         }
        }
       }
      }
     },
     "metadata": {},
     "output_type": "display_data"
    },
    {
     "name": "stdout",
     "output_type": "stream",
     "text": [
      "Visualization saved as ../resources/viz/f24_board_game_duration_distribution.html\n"
     ]
    },
    {
     "data": {
      "application/vnd.plotly.v1+json": {
       "config": {
        "plotlyServerURL": "https://plot.ly"
       },
       "data": [
        {
         "hovertemplate": "<b>%{hovertext}</b><br><br>Game=Bananagrams<br>Average_Duration=%{x}<br>Frequency=%{y}<extra></extra>",
         "hovertext": [
          "Bananagrams"
         ],
         "legendgroup": "Bananagrams",
         "marker": {
          "color": "blue",
          "size": 20,
          "symbol": "circle"
         },
         "mode": "markers",
         "name": "Bananagrams",
         "orientation": "v",
         "showlegend": true,
         "type": "scatter",
         "x": [
          40.2
         ],
         "xaxis": "x",
         "y": [
          5
         ],
         "yaxis": "y"
        },
        {
         "hovertemplate": "<b>%{hovertext}</b><br><br>Game=Catan<br>Average_Duration=%{x}<br>Frequency=%{y}<extra></extra>",
         "hovertext": [
          "Catan"
         ],
         "legendgroup": "Catan",
         "marker": {
          "color": "red",
          "size": 20,
          "symbol": "circle"
         },
         "mode": "markers",
         "name": "Catan",
         "orientation": "v",
         "showlegend": true,
         "type": "scatter",
         "x": [
          72.57142857142857
         ],
         "xaxis": "x",
         "y": [
          7
         ],
         "yaxis": "y"
        },
        {
         "hovertemplate": "<b>%{hovertext}</b><br><br>Game=Chess<br>Average_Duration=%{x}<br>Frequency=%{y}<extra></extra>",
         "hovertext": [
          "Chess"
         ],
         "legendgroup": "Chess",
         "marker": {
          "color": "green",
          "size": 20,
          "symbol": "circle"
         },
         "mode": "markers",
         "name": "Chess",
         "orientation": "v",
         "showlegend": true,
         "type": "scatter",
         "x": [
          51.714285714285715
         ],
         "xaxis": "x",
         "y": [
          7
         ],
         "yaxis": "y"
        },
        {
         "hovertemplate": "<b>%{hovertext}</b><br><br>Game=Connect Four<br>Average_Duration=%{x}<br>Frequency=%{y}<extra></extra>",
         "hovertext": [
          "Connect Four"
         ],
         "legendgroup": "Connect Four",
         "marker": {
          "color": "purple",
          "size": 20,
          "symbol": "circle"
         },
         "mode": "markers",
         "name": "Connect Four",
         "orientation": "v",
         "showlegend": true,
         "type": "scatter",
         "x": [
          69.25
         ],
         "xaxis": "x",
         "y": [
          4
         ],
         "yaxis": "y"
        },
        {
         "hovertemplate": "<b>%{hovertext}</b><br><br>Game=Deck of Cards<br>Average_Duration=%{x}<br>Frequency=%{y}<extra></extra>",
         "hovertext": [
          "Deck of Cards"
         ],
         "legendgroup": "Deck of Cards",
         "marker": {
          "color": "orange",
          "size": 20,
          "symbol": "circle"
         },
         "mode": "markers",
         "name": "Deck of Cards",
         "orientation": "v",
         "showlegend": true,
         "type": "scatter",
         "x": [
          76.66666666666667
         ],
         "xaxis": "x",
         "y": [
          6
         ],
         "yaxis": "y"
        },
        {
         "hovertemplate": "<b>%{hovertext}</b><br><br>Game=Jenga<br>Average_Duration=%{x}<br>Frequency=%{y}<extra></extra>",
         "hovertext": [
          "Jenga"
         ],
         "legendgroup": "Jenga",
         "marker": {
          "color": "cyan",
          "size": 20,
          "symbol": "circle"
         },
         "mode": "markers",
         "name": "Jenga",
         "orientation": "v",
         "showlegend": true,
         "type": "scatter",
         "x": [
          16
         ],
         "xaxis": "x",
         "y": [
          2
         ],
         "yaxis": "y"
        },
        {
         "hovertemplate": "<b>%{hovertext}</b><br><br>Game=Mahjong<br>Average_Duration=%{x}<br>Frequency=%{y}<extra></extra>",
         "hovertext": [
          "Mahjong"
         ],
         "legendgroup": "Mahjong",
         "marker": {
          "color": "magenta",
          "size": 20,
          "symbol": "circle"
         },
         "mode": "markers",
         "name": "Mahjong",
         "orientation": "v",
         "showlegend": true,
         "type": "scatter",
         "x": [
          100
         ],
         "xaxis": "x",
         "y": [
          6
         ],
         "yaxis": "y"
        },
        {
         "hovertemplate": "<b>%{hovertext}</b><br><br>Game=Other: specify in Notes<br>Average_Duration=%{x}<br>Frequency=%{y}<extra></extra>",
         "hovertext": [
          "Other: specify in Notes"
         ],
         "legendgroup": "Other: specify in Notes",
         "marker": {
          "color": "yellow",
          "size": 20,
          "symbol": "circle"
         },
         "mode": "markers",
         "name": "Other: specify in Notes",
         "orientation": "v",
         "showlegend": true,
         "type": "scatter",
         "x": [
          160.66666666666666
         ],
         "xaxis": "x",
         "y": [
          9
         ],
         "yaxis": "y"
        },
        {
         "hovertemplate": "<b>%{hovertext}</b><br><br>Game=Pictionary<br>Average_Duration=%{x}<br>Frequency=%{y}<extra></extra>",
         "hovertext": [
          "Pictionary"
         ],
         "legendgroup": "Pictionary",
         "marker": {
          "color": "lime",
          "size": 20,
          "symbol": "circle"
         },
         "mode": "markers",
         "name": "Pictionary",
         "orientation": "v",
         "showlegend": true,
         "type": "scatter",
         "x": [
          30
         ],
         "xaxis": "x",
         "y": [
          1
         ],
         "yaxis": "y"
        },
        {
         "hovertemplate": "<b>%{hovertext}</b><br><br>Game=Set<br>Average_Duration=%{x}<br>Frequency=%{y}<extra></extra>",
         "hovertext": [
          "Set"
         ],
         "legendgroup": "Set",
         "marker": {
          "color": "pink",
          "size": 20,
          "symbol": "circle"
         },
         "mode": "markers",
         "name": "Set",
         "orientation": "v",
         "showlegend": true,
         "type": "scatter",
         "x": [
          22
         ],
         "xaxis": "x",
         "y": [
          1
         ],
         "yaxis": "y"
        },
        {
         "hovertemplate": "<b>%{hovertext}</b><br><br>Game=Sorry!<br>Average_Duration=%{x}<br>Frequency=%{y}<extra></extra>",
         "hovertext": [
          "Sorry!"
         ],
         "legendgroup": "Sorry!",
         "marker": {
          "color": "teal",
          "size": 20,
          "symbol": "circle"
         },
         "mode": "markers",
         "name": "Sorry!",
         "orientation": "v",
         "showlegend": true,
         "type": "scatter",
         "x": [
          88.25
         ],
         "xaxis": "x",
         "y": [
          8
         ],
         "yaxis": "y"
        },
        {
         "hovertemplate": "<b>%{hovertext}</b><br><br>Game=Taboo<br>Average_Duration=%{x}<br>Frequency=%{y}<extra></extra>",
         "hovertext": [
          "Taboo"
         ],
         "legendgroup": "Taboo",
         "marker": {
          "color": "lavender",
          "size": 20,
          "symbol": "circle"
         },
         "mode": "markers",
         "name": "Taboo",
         "orientation": "v",
         "showlegend": true,
         "type": "scatter",
         "x": [
          72
         ],
         "xaxis": "x",
         "y": [
          1
         ],
         "yaxis": "y"
        },
        {
         "hovertemplate": "<b>%{hovertext}</b><br><br>Game=Ticket to Ride<br>Average_Duration=%{x}<br>Frequency=%{y}<extra></extra>",
         "hovertext": [
          "Ticket to Ride"
         ],
         "legendgroup": "Ticket to Ride",
         "marker": {
          "color": "brown",
          "size": 20,
          "symbol": "circle"
         },
         "mode": "markers",
         "name": "Ticket to Ride",
         "orientation": "v",
         "showlegend": true,
         "type": "scatter",
         "x": [
          59.5
         ],
         "xaxis": "x",
         "y": [
          2
         ],
         "yaxis": "y"
        },
        {
         "hovertemplate": "<b>%{hovertext}</b><br><br>Game=Uno<br>Average_Duration=%{x}<br>Frequency=%{y}<extra></extra>",
         "hovertext": [
          "Uno"
         ],
         "legendgroup": "Uno",
         "marker": {
          "color": "grey",
          "size": 20,
          "symbol": "circle"
         },
         "mode": "markers",
         "name": "Uno",
         "orientation": "v",
         "showlegend": true,
         "type": "scatter",
         "x": [
          51.5
         ],
         "xaxis": "x",
         "y": [
          2
         ],
         "yaxis": "y"
        },
        {
         "hovertemplate": "<b>%{hovertext}</b><br><br>Game=uno<br>Average_Duration=%{x}<br>Frequency=%{y}<extra></extra>",
         "hovertext": [
          "uno"
         ],
         "legendgroup": "uno",
         "marker": {
          "color": "olive",
          "size": 20,
          "symbol": "circle"
         },
         "mode": "markers",
         "name": "uno",
         "orientation": "v",
         "showlegend": true,
         "type": "scatter",
         "x": [
          168
         ],
         "xaxis": "x",
         "y": [
          1
         ],
         "yaxis": "y"
        }
       ],
       "layout": {
        "font": {
         "color": "black",
         "family": "Droid Serif"
        },
        "height": 500,
        "hoverlabel": {
         "bgcolor": "black",
         "font": {
          "color": "white"
         }
        },
        "legend": {
         "title": {
          "text": "Game"
         },
         "tracegroupgap": 0
        },
        "margin": {
         "t": 60
        },
        "paper_bgcolor": "white",
        "plot_bgcolor": "white",
        "showlegend": true,
        "template": {
         "data": {
          "bar": [
           {
            "error_x": {
             "color": "#2a3f5f"
            },
            "error_y": {
             "color": "#2a3f5f"
            },
            "marker": {
             "line": {
              "color": "#E5ECF6",
              "width": 0.5
             },
             "pattern": {
              "fillmode": "overlay",
              "size": 10,
              "solidity": 0.2
             }
            },
            "type": "bar"
           }
          ],
          "barpolar": [
           {
            "marker": {
             "line": {
              "color": "#E5ECF6",
              "width": 0.5
             },
             "pattern": {
              "fillmode": "overlay",
              "size": 10,
              "solidity": 0.2
             }
            },
            "type": "barpolar"
           }
          ],
          "carpet": [
           {
            "aaxis": {
             "endlinecolor": "#2a3f5f",
             "gridcolor": "white",
             "linecolor": "white",
             "minorgridcolor": "white",
             "startlinecolor": "#2a3f5f"
            },
            "baxis": {
             "endlinecolor": "#2a3f5f",
             "gridcolor": "white",
             "linecolor": "white",
             "minorgridcolor": "white",
             "startlinecolor": "#2a3f5f"
            },
            "type": "carpet"
           }
          ],
          "choropleth": [
           {
            "colorbar": {
             "outlinewidth": 0,
             "ticks": ""
            },
            "type": "choropleth"
           }
          ],
          "contour": [
           {
            "colorbar": {
             "outlinewidth": 0,
             "ticks": ""
            },
            "colorscale": [
             [
              0,
              "#0d0887"
             ],
             [
              0.1111111111111111,
              "#46039f"
             ],
             [
              0.2222222222222222,
              "#7201a8"
             ],
             [
              0.3333333333333333,
              "#9c179e"
             ],
             [
              0.4444444444444444,
              "#bd3786"
             ],
             [
              0.5555555555555556,
              "#d8576b"
             ],
             [
              0.6666666666666666,
              "#ed7953"
             ],
             [
              0.7777777777777778,
              "#fb9f3a"
             ],
             [
              0.8888888888888888,
              "#fdca26"
             ],
             [
              1,
              "#f0f921"
             ]
            ],
            "type": "contour"
           }
          ],
          "contourcarpet": [
           {
            "colorbar": {
             "outlinewidth": 0,
             "ticks": ""
            },
            "type": "contourcarpet"
           }
          ],
          "heatmap": [
           {
            "colorbar": {
             "outlinewidth": 0,
             "ticks": ""
            },
            "colorscale": [
             [
              0,
              "#0d0887"
             ],
             [
              0.1111111111111111,
              "#46039f"
             ],
             [
              0.2222222222222222,
              "#7201a8"
             ],
             [
              0.3333333333333333,
              "#9c179e"
             ],
             [
              0.4444444444444444,
              "#bd3786"
             ],
             [
              0.5555555555555556,
              "#d8576b"
             ],
             [
              0.6666666666666666,
              "#ed7953"
             ],
             [
              0.7777777777777778,
              "#fb9f3a"
             ],
             [
              0.8888888888888888,
              "#fdca26"
             ],
             [
              1,
              "#f0f921"
             ]
            ],
            "type": "heatmap"
           }
          ],
          "heatmapgl": [
           {
            "colorbar": {
             "outlinewidth": 0,
             "ticks": ""
            },
            "colorscale": [
             [
              0,
              "#0d0887"
             ],
             [
              0.1111111111111111,
              "#46039f"
             ],
             [
              0.2222222222222222,
              "#7201a8"
             ],
             [
              0.3333333333333333,
              "#9c179e"
             ],
             [
              0.4444444444444444,
              "#bd3786"
             ],
             [
              0.5555555555555556,
              "#d8576b"
             ],
             [
              0.6666666666666666,
              "#ed7953"
             ],
             [
              0.7777777777777778,
              "#fb9f3a"
             ],
             [
              0.8888888888888888,
              "#fdca26"
             ],
             [
              1,
              "#f0f921"
             ]
            ],
            "type": "heatmapgl"
           }
          ],
          "histogram": [
           {
            "marker": {
             "pattern": {
              "fillmode": "overlay",
              "size": 10,
              "solidity": 0.2
             }
            },
            "type": "histogram"
           }
          ],
          "histogram2d": [
           {
            "colorbar": {
             "outlinewidth": 0,
             "ticks": ""
            },
            "colorscale": [
             [
              0,
              "#0d0887"
             ],
             [
              0.1111111111111111,
              "#46039f"
             ],
             [
              0.2222222222222222,
              "#7201a8"
             ],
             [
              0.3333333333333333,
              "#9c179e"
             ],
             [
              0.4444444444444444,
              "#bd3786"
             ],
             [
              0.5555555555555556,
              "#d8576b"
             ],
             [
              0.6666666666666666,
              "#ed7953"
             ],
             [
              0.7777777777777778,
              "#fb9f3a"
             ],
             [
              0.8888888888888888,
              "#fdca26"
             ],
             [
              1,
              "#f0f921"
             ]
            ],
            "type": "histogram2d"
           }
          ],
          "histogram2dcontour": [
           {
            "colorbar": {
             "outlinewidth": 0,
             "ticks": ""
            },
            "colorscale": [
             [
              0,
              "#0d0887"
             ],
             [
              0.1111111111111111,
              "#46039f"
             ],
             [
              0.2222222222222222,
              "#7201a8"
             ],
             [
              0.3333333333333333,
              "#9c179e"
             ],
             [
              0.4444444444444444,
              "#bd3786"
             ],
             [
              0.5555555555555556,
              "#d8576b"
             ],
             [
              0.6666666666666666,
              "#ed7953"
             ],
             [
              0.7777777777777778,
              "#fb9f3a"
             ],
             [
              0.8888888888888888,
              "#fdca26"
             ],
             [
              1,
              "#f0f921"
             ]
            ],
            "type": "histogram2dcontour"
           }
          ],
          "mesh3d": [
           {
            "colorbar": {
             "outlinewidth": 0,
             "ticks": ""
            },
            "type": "mesh3d"
           }
          ],
          "parcoords": [
           {
            "line": {
             "colorbar": {
              "outlinewidth": 0,
              "ticks": ""
             }
            },
            "type": "parcoords"
           }
          ],
          "pie": [
           {
            "automargin": true,
            "type": "pie"
           }
          ],
          "scatter": [
           {
            "fillpattern": {
             "fillmode": "overlay",
             "size": 10,
             "solidity": 0.2
            },
            "type": "scatter"
           }
          ],
          "scatter3d": [
           {
            "line": {
             "colorbar": {
              "outlinewidth": 0,
              "ticks": ""
             }
            },
            "marker": {
             "colorbar": {
              "outlinewidth": 0,
              "ticks": ""
             }
            },
            "type": "scatter3d"
           }
          ],
          "scattercarpet": [
           {
            "marker": {
             "colorbar": {
              "outlinewidth": 0,
              "ticks": ""
             }
            },
            "type": "scattercarpet"
           }
          ],
          "scattergeo": [
           {
            "marker": {
             "colorbar": {
              "outlinewidth": 0,
              "ticks": ""
             }
            },
            "type": "scattergeo"
           }
          ],
          "scattergl": [
           {
            "marker": {
             "colorbar": {
              "outlinewidth": 0,
              "ticks": ""
             }
            },
            "type": "scattergl"
           }
          ],
          "scattermapbox": [
           {
            "marker": {
             "colorbar": {
              "outlinewidth": 0,
              "ticks": ""
             }
            },
            "type": "scattermapbox"
           }
          ],
          "scatterpolar": [
           {
            "marker": {
             "colorbar": {
              "outlinewidth": 0,
              "ticks": ""
             }
            },
            "type": "scatterpolar"
           }
          ],
          "scatterpolargl": [
           {
            "marker": {
             "colorbar": {
              "outlinewidth": 0,
              "ticks": ""
             }
            },
            "type": "scatterpolargl"
           }
          ],
          "scatterternary": [
           {
            "marker": {
             "colorbar": {
              "outlinewidth": 0,
              "ticks": ""
             }
            },
            "type": "scatterternary"
           }
          ],
          "surface": [
           {
            "colorbar": {
             "outlinewidth": 0,
             "ticks": ""
            },
            "colorscale": [
             [
              0,
              "#0d0887"
             ],
             [
              0.1111111111111111,
              "#46039f"
             ],
             [
              0.2222222222222222,
              "#7201a8"
             ],
             [
              0.3333333333333333,
              "#9c179e"
             ],
             [
              0.4444444444444444,
              "#bd3786"
             ],
             [
              0.5555555555555556,
              "#d8576b"
             ],
             [
              0.6666666666666666,
              "#ed7953"
             ],
             [
              0.7777777777777778,
              "#fb9f3a"
             ],
             [
              0.8888888888888888,
              "#fdca26"
             ],
             [
              1,
              "#f0f921"
             ]
            ],
            "type": "surface"
           }
          ],
          "table": [
           {
            "cells": {
             "fill": {
              "color": "#EBF0F8"
             },
             "line": {
              "color": "white"
             }
            },
            "header": {
             "fill": {
              "color": "#C8D4E3"
             },
             "line": {
              "color": "white"
             }
            },
            "type": "table"
           }
          ]
         },
         "layout": {
          "annotationdefaults": {
           "arrowcolor": "#2a3f5f",
           "arrowhead": 0,
           "arrowwidth": 1
          },
          "autotypenumbers": "strict",
          "coloraxis": {
           "colorbar": {
            "outlinewidth": 0,
            "ticks": ""
           }
          },
          "colorscale": {
           "diverging": [
            [
             0,
             "#8e0152"
            ],
            [
             0.1,
             "#c51b7d"
            ],
            [
             0.2,
             "#de77ae"
            ],
            [
             0.3,
             "#f1b6da"
            ],
            [
             0.4,
             "#fde0ef"
            ],
            [
             0.5,
             "#f7f7f7"
            ],
            [
             0.6,
             "#e6f5d0"
            ],
            [
             0.7,
             "#b8e186"
            ],
            [
             0.8,
             "#7fbc41"
            ],
            [
             0.9,
             "#4d9221"
            ],
            [
             1,
             "#276419"
            ]
           ],
           "sequential": [
            [
             0,
             "#0d0887"
            ],
            [
             0.1111111111111111,
             "#46039f"
            ],
            [
             0.2222222222222222,
             "#7201a8"
            ],
            [
             0.3333333333333333,
             "#9c179e"
            ],
            [
             0.4444444444444444,
             "#bd3786"
            ],
            [
             0.5555555555555556,
             "#d8576b"
            ],
            [
             0.6666666666666666,
             "#ed7953"
            ],
            [
             0.7777777777777778,
             "#fb9f3a"
            ],
            [
             0.8888888888888888,
             "#fdca26"
            ],
            [
             1,
             "#f0f921"
            ]
           ],
           "sequentialminus": [
            [
             0,
             "#0d0887"
            ],
            [
             0.1111111111111111,
             "#46039f"
            ],
            [
             0.2222222222222222,
             "#7201a8"
            ],
            [
             0.3333333333333333,
             "#9c179e"
            ],
            [
             0.4444444444444444,
             "#bd3786"
            ],
            [
             0.5555555555555556,
             "#d8576b"
            ],
            [
             0.6666666666666666,
             "#ed7953"
            ],
            [
             0.7777777777777778,
             "#fb9f3a"
            ],
            [
             0.8888888888888888,
             "#fdca26"
            ],
            [
             1,
             "#f0f921"
            ]
           ]
          },
          "colorway": [
           "#636efa",
           "#EF553B",
           "#00cc96",
           "#ab63fa",
           "#FFA15A",
           "#19d3f3",
           "#FF6692",
           "#B6E880",
           "#FF97FF",
           "#FECB52"
          ],
          "font": {
           "color": "#2a3f5f"
          },
          "geo": {
           "bgcolor": "white",
           "lakecolor": "white",
           "landcolor": "#E5ECF6",
           "showlakes": true,
           "showland": true,
           "subunitcolor": "white"
          },
          "hoverlabel": {
           "align": "left"
          },
          "hovermode": "closest",
          "mapbox": {
           "style": "light"
          },
          "paper_bgcolor": "white",
          "plot_bgcolor": "#E5ECF6",
          "polar": {
           "angularaxis": {
            "gridcolor": "white",
            "linecolor": "white",
            "ticks": ""
           },
           "bgcolor": "#E5ECF6",
           "radialaxis": {
            "gridcolor": "white",
            "linecolor": "white",
            "ticks": ""
           }
          },
          "scene": {
           "xaxis": {
            "backgroundcolor": "#E5ECF6",
            "gridcolor": "white",
            "gridwidth": 2,
            "linecolor": "white",
            "showbackground": true,
            "ticks": "",
            "zerolinecolor": "white"
           },
           "yaxis": {
            "backgroundcolor": "#E5ECF6",
            "gridcolor": "white",
            "gridwidth": 2,
            "linecolor": "white",
            "showbackground": true,
            "ticks": "",
            "zerolinecolor": "white"
           },
           "zaxis": {
            "backgroundcolor": "#E5ECF6",
            "gridcolor": "white",
            "gridwidth": 2,
            "linecolor": "white",
            "showbackground": true,
            "ticks": "",
            "zerolinecolor": "white"
           }
          },
          "shapedefaults": {
           "line": {
            "color": "#2a3f5f"
           }
          },
          "ternary": {
           "aaxis": {
            "gridcolor": "white",
            "linecolor": "white",
            "ticks": ""
           },
           "baxis": {
            "gridcolor": "white",
            "linecolor": "white",
            "ticks": ""
           },
           "bgcolor": "#E5ECF6",
           "caxis": {
            "gridcolor": "white",
            "linecolor": "white",
            "ticks": ""
           }
          },
          "title": {
           "x": 0.05
          },
          "xaxis": {
           "automargin": true,
           "gridcolor": "white",
           "linecolor": "white",
           "ticks": "",
           "title": {
            "standoff": 15
           },
           "zerolinecolor": "white",
           "zerolinewidth": 2
          },
          "yaxis": {
           "automargin": true,
           "gridcolor": "white",
           "linecolor": "white",
           "ticks": "",
           "title": {
            "standoff": 15
           },
           "zerolinecolor": "white",
           "zerolinewidth": 2
          }
         }
        },
        "title": {
         "font": {
          "size": 22
         },
         "text": "Frequency and Average Duration of Each Game",
         "x": 0.49,
         "xanchor": "center",
         "y": 0.94
        },
        "width": 600,
        "xaxis": {
         "anchor": "y",
         "domain": [
          0,
          1
         ],
         "tickfont": {
          "size": 14
         },
         "title": {
          "text": "Average Duration (minutes)"
         }
        },
        "yaxis": {
         "anchor": "x",
         "domain": [
          0,
          1
         ],
         "gridcolor": "rgba(128, 128, 128, 0.5)",
         "tickfont": {
          "size": 14
         },
         "title": {
          "text": "Frequency (log scale)"
         },
         "type": "log"
        }
       }
      }
     },
     "metadata": {},
     "output_type": "display_data"
    },
    {
     "name": "stdout",
     "output_type": "stream",
     "text": [
      "Visualization saved as ../resources/viz/f24_board_game_frequency_vs_avr_duration.html\n",
      "Board Game Visualizations Complete!\n",
      "\n",
      "\n",
      "Running Occupancy Visualizations...\n"
     ]
    },
    {
     "data": {
      "application/vnd.plotly.v1+json": {
       "config": {
        "plotlyServerURL": "https://plot.ly"
       },
       "data": [
        {
         "marker": {
          "color": "rgb(26, 118, 255)"
         },
         "type": "bar",
         "x": [
          "Sunday",
          "Monday",
          "Tuesday",
          "Wednesday",
          "Thursday",
          "Friday",
          "Saturday"
         ],
         "y": [
          2002,
          2597,
          2860,
          2867,
          2428,
          4538,
          2754
         ]
        }
       ],
       "layout": {
        "font": {
         "color": "black",
         "family": "Droid Serif"
        },
        "height": 400,
        "paper_bgcolor": "white",
        "plot_bgcolor": "white",
        "template": {
         "data": {
          "bar": [
           {
            "error_x": {
             "color": "#2a3f5f"
            },
            "error_y": {
             "color": "#2a3f5f"
            },
            "marker": {
             "line": {
              "color": "#E5ECF6",
              "width": 0.5
             },
             "pattern": {
              "fillmode": "overlay",
              "size": 10,
              "solidity": 0.2
             }
            },
            "type": "bar"
           }
          ],
          "barpolar": [
           {
            "marker": {
             "line": {
              "color": "#E5ECF6",
              "width": 0.5
             },
             "pattern": {
              "fillmode": "overlay",
              "size": 10,
              "solidity": 0.2
             }
            },
            "type": "barpolar"
           }
          ],
          "carpet": [
           {
            "aaxis": {
             "endlinecolor": "#2a3f5f",
             "gridcolor": "white",
             "linecolor": "white",
             "minorgridcolor": "white",
             "startlinecolor": "#2a3f5f"
            },
            "baxis": {
             "endlinecolor": "#2a3f5f",
             "gridcolor": "white",
             "linecolor": "white",
             "minorgridcolor": "white",
             "startlinecolor": "#2a3f5f"
            },
            "type": "carpet"
           }
          ],
          "choropleth": [
           {
            "colorbar": {
             "outlinewidth": 0,
             "ticks": ""
            },
            "type": "choropleth"
           }
          ],
          "contour": [
           {
            "colorbar": {
             "outlinewidth": 0,
             "ticks": ""
            },
            "colorscale": [
             [
              0,
              "#0d0887"
             ],
             [
              0.1111111111111111,
              "#46039f"
             ],
             [
              0.2222222222222222,
              "#7201a8"
             ],
             [
              0.3333333333333333,
              "#9c179e"
             ],
             [
              0.4444444444444444,
              "#bd3786"
             ],
             [
              0.5555555555555556,
              "#d8576b"
             ],
             [
              0.6666666666666666,
              "#ed7953"
             ],
             [
              0.7777777777777778,
              "#fb9f3a"
             ],
             [
              0.8888888888888888,
              "#fdca26"
             ],
             [
              1,
              "#f0f921"
             ]
            ],
            "type": "contour"
           }
          ],
          "contourcarpet": [
           {
            "colorbar": {
             "outlinewidth": 0,
             "ticks": ""
            },
            "type": "contourcarpet"
           }
          ],
          "heatmap": [
           {
            "colorbar": {
             "outlinewidth": 0,
             "ticks": ""
            },
            "colorscale": [
             [
              0,
              "#0d0887"
             ],
             [
              0.1111111111111111,
              "#46039f"
             ],
             [
              0.2222222222222222,
              "#7201a8"
             ],
             [
              0.3333333333333333,
              "#9c179e"
             ],
             [
              0.4444444444444444,
              "#bd3786"
             ],
             [
              0.5555555555555556,
              "#d8576b"
             ],
             [
              0.6666666666666666,
              "#ed7953"
             ],
             [
              0.7777777777777778,
              "#fb9f3a"
             ],
             [
              0.8888888888888888,
              "#fdca26"
             ],
             [
              1,
              "#f0f921"
             ]
            ],
            "type": "heatmap"
           }
          ],
          "heatmapgl": [
           {
            "colorbar": {
             "outlinewidth": 0,
             "ticks": ""
            },
            "colorscale": [
             [
              0,
              "#0d0887"
             ],
             [
              0.1111111111111111,
              "#46039f"
             ],
             [
              0.2222222222222222,
              "#7201a8"
             ],
             [
              0.3333333333333333,
              "#9c179e"
             ],
             [
              0.4444444444444444,
              "#bd3786"
             ],
             [
              0.5555555555555556,
              "#d8576b"
             ],
             [
              0.6666666666666666,
              "#ed7953"
             ],
             [
              0.7777777777777778,
              "#fb9f3a"
             ],
             [
              0.8888888888888888,
              "#fdca26"
             ],
             [
              1,
              "#f0f921"
             ]
            ],
            "type": "heatmapgl"
           }
          ],
          "histogram": [
           {
            "marker": {
             "pattern": {
              "fillmode": "overlay",
              "size": 10,
              "solidity": 0.2
             }
            },
            "type": "histogram"
           }
          ],
          "histogram2d": [
           {
            "colorbar": {
             "outlinewidth": 0,
             "ticks": ""
            },
            "colorscale": [
             [
              0,
              "#0d0887"
             ],
             [
              0.1111111111111111,
              "#46039f"
             ],
             [
              0.2222222222222222,
              "#7201a8"
             ],
             [
              0.3333333333333333,
              "#9c179e"
             ],
             [
              0.4444444444444444,
              "#bd3786"
             ],
             [
              0.5555555555555556,
              "#d8576b"
             ],
             [
              0.6666666666666666,
              "#ed7953"
             ],
             [
              0.7777777777777778,
              "#fb9f3a"
             ],
             [
              0.8888888888888888,
              "#fdca26"
             ],
             [
              1,
              "#f0f921"
             ]
            ],
            "type": "histogram2d"
           }
          ],
          "histogram2dcontour": [
           {
            "colorbar": {
             "outlinewidth": 0,
             "ticks": ""
            },
            "colorscale": [
             [
              0,
              "#0d0887"
             ],
             [
              0.1111111111111111,
              "#46039f"
             ],
             [
              0.2222222222222222,
              "#7201a8"
             ],
             [
              0.3333333333333333,
              "#9c179e"
             ],
             [
              0.4444444444444444,
              "#bd3786"
             ],
             [
              0.5555555555555556,
              "#d8576b"
             ],
             [
              0.6666666666666666,
              "#ed7953"
             ],
             [
              0.7777777777777778,
              "#fb9f3a"
             ],
             [
              0.8888888888888888,
              "#fdca26"
             ],
             [
              1,
              "#f0f921"
             ]
            ],
            "type": "histogram2dcontour"
           }
          ],
          "mesh3d": [
           {
            "colorbar": {
             "outlinewidth": 0,
             "ticks": ""
            },
            "type": "mesh3d"
           }
          ],
          "parcoords": [
           {
            "line": {
             "colorbar": {
              "outlinewidth": 0,
              "ticks": ""
             }
            },
            "type": "parcoords"
           }
          ],
          "pie": [
           {
            "automargin": true,
            "type": "pie"
           }
          ],
          "scatter": [
           {
            "fillpattern": {
             "fillmode": "overlay",
             "size": 10,
             "solidity": 0.2
            },
            "type": "scatter"
           }
          ],
          "scatter3d": [
           {
            "line": {
             "colorbar": {
              "outlinewidth": 0,
              "ticks": ""
             }
            },
            "marker": {
             "colorbar": {
              "outlinewidth": 0,
              "ticks": ""
             }
            },
            "type": "scatter3d"
           }
          ],
          "scattercarpet": [
           {
            "marker": {
             "colorbar": {
              "outlinewidth": 0,
              "ticks": ""
             }
            },
            "type": "scattercarpet"
           }
          ],
          "scattergeo": [
           {
            "marker": {
             "colorbar": {
              "outlinewidth": 0,
              "ticks": ""
             }
            },
            "type": "scattergeo"
           }
          ],
          "scattergl": [
           {
            "marker": {
             "colorbar": {
              "outlinewidth": 0,
              "ticks": ""
             }
            },
            "type": "scattergl"
           }
          ],
          "scattermapbox": [
           {
            "marker": {
             "colorbar": {
              "outlinewidth": 0,
              "ticks": ""
             }
            },
            "type": "scattermapbox"
           }
          ],
          "scatterpolar": [
           {
            "marker": {
             "colorbar": {
              "outlinewidth": 0,
              "ticks": ""
             }
            },
            "type": "scatterpolar"
           }
          ],
          "scatterpolargl": [
           {
            "marker": {
             "colorbar": {
              "outlinewidth": 0,
              "ticks": ""
             }
            },
            "type": "scatterpolargl"
           }
          ],
          "scatterternary": [
           {
            "marker": {
             "colorbar": {
              "outlinewidth": 0,
              "ticks": ""
             }
            },
            "type": "scatterternary"
           }
          ],
          "surface": [
           {
            "colorbar": {
             "outlinewidth": 0,
             "ticks": ""
            },
            "colorscale": [
             [
              0,
              "#0d0887"
             ],
             [
              0.1111111111111111,
              "#46039f"
             ],
             [
              0.2222222222222222,
              "#7201a8"
             ],
             [
              0.3333333333333333,
              "#9c179e"
             ],
             [
              0.4444444444444444,
              "#bd3786"
             ],
             [
              0.5555555555555556,
              "#d8576b"
             ],
             [
              0.6666666666666666,
              "#ed7953"
             ],
             [
              0.7777777777777778,
              "#fb9f3a"
             ],
             [
              0.8888888888888888,
              "#fdca26"
             ],
             [
              1,
              "#f0f921"
             ]
            ],
            "type": "surface"
           }
          ],
          "table": [
           {
            "cells": {
             "fill": {
              "color": "#EBF0F8"
             },
             "line": {
              "color": "white"
             }
            },
            "header": {
             "fill": {
              "color": "#C8D4E3"
             },
             "line": {
              "color": "white"
             }
            },
            "type": "table"
           }
          ]
         },
         "layout": {
          "annotationdefaults": {
           "arrowcolor": "#2a3f5f",
           "arrowhead": 0,
           "arrowwidth": 1
          },
          "autotypenumbers": "strict",
          "coloraxis": {
           "colorbar": {
            "outlinewidth": 0,
            "ticks": ""
           }
          },
          "colorscale": {
           "diverging": [
            [
             0,
             "#8e0152"
            ],
            [
             0.1,
             "#c51b7d"
            ],
            [
             0.2,
             "#de77ae"
            ],
            [
             0.3,
             "#f1b6da"
            ],
            [
             0.4,
             "#fde0ef"
            ],
            [
             0.5,
             "#f7f7f7"
            ],
            [
             0.6,
             "#e6f5d0"
            ],
            [
             0.7,
             "#b8e186"
            ],
            [
             0.8,
             "#7fbc41"
            ],
            [
             0.9,
             "#4d9221"
            ],
            [
             1,
             "#276419"
            ]
           ],
           "sequential": [
            [
             0,
             "#0d0887"
            ],
            [
             0.1111111111111111,
             "#46039f"
            ],
            [
             0.2222222222222222,
             "#7201a8"
            ],
            [
             0.3333333333333333,
             "#9c179e"
            ],
            [
             0.4444444444444444,
             "#bd3786"
            ],
            [
             0.5555555555555556,
             "#d8576b"
            ],
            [
             0.6666666666666666,
             "#ed7953"
            ],
            [
             0.7777777777777778,
             "#fb9f3a"
            ],
            [
             0.8888888888888888,
             "#fdca26"
            ],
            [
             1,
             "#f0f921"
            ]
           ],
           "sequentialminus": [
            [
             0,
             "#0d0887"
            ],
            [
             0.1111111111111111,
             "#46039f"
            ],
            [
             0.2222222222222222,
             "#7201a8"
            ],
            [
             0.3333333333333333,
             "#9c179e"
            ],
            [
             0.4444444444444444,
             "#bd3786"
            ],
            [
             0.5555555555555556,
             "#d8576b"
            ],
            [
             0.6666666666666666,
             "#ed7953"
            ],
            [
             0.7777777777777778,
             "#fb9f3a"
            ],
            [
             0.8888888888888888,
             "#fdca26"
            ],
            [
             1,
             "#f0f921"
            ]
           ]
          },
          "colorway": [
           "#636efa",
           "#EF553B",
           "#00cc96",
           "#ab63fa",
           "#FFA15A",
           "#19d3f3",
           "#FF6692",
           "#B6E880",
           "#FF97FF",
           "#FECB52"
          ],
          "font": {
           "color": "#2a3f5f"
          },
          "geo": {
           "bgcolor": "white",
           "lakecolor": "white",
           "landcolor": "#E5ECF6",
           "showlakes": true,
           "showland": true,
           "subunitcolor": "white"
          },
          "hoverlabel": {
           "align": "left"
          },
          "hovermode": "closest",
          "mapbox": {
           "style": "light"
          },
          "paper_bgcolor": "white",
          "plot_bgcolor": "#E5ECF6",
          "polar": {
           "angularaxis": {
            "gridcolor": "white",
            "linecolor": "white",
            "ticks": ""
           },
           "bgcolor": "#E5ECF6",
           "radialaxis": {
            "gridcolor": "white",
            "linecolor": "white",
            "ticks": ""
           }
          },
          "scene": {
           "xaxis": {
            "backgroundcolor": "#E5ECF6",
            "gridcolor": "white",
            "gridwidth": 2,
            "linecolor": "white",
            "showbackground": true,
            "ticks": "",
            "zerolinecolor": "white"
           },
           "yaxis": {
            "backgroundcolor": "#E5ECF6",
            "gridcolor": "white",
            "gridwidth": 2,
            "linecolor": "white",
            "showbackground": true,
            "ticks": "",
            "zerolinecolor": "white"
           },
           "zaxis": {
            "backgroundcolor": "#E5ECF6",
            "gridcolor": "white",
            "gridwidth": 2,
            "linecolor": "white",
            "showbackground": true,
            "ticks": "",
            "zerolinecolor": "white"
           }
          },
          "shapedefaults": {
           "line": {
            "color": "#2a3f5f"
           }
          },
          "ternary": {
           "aaxis": {
            "gridcolor": "white",
            "linecolor": "white",
            "ticks": ""
           },
           "baxis": {
            "gridcolor": "white",
            "linecolor": "white",
            "ticks": ""
           },
           "bgcolor": "#E5ECF6",
           "caxis": {
            "gridcolor": "white",
            "linecolor": "white",
            "ticks": ""
           }
          },
          "title": {
           "x": 0.05
          },
          "xaxis": {
           "automargin": true,
           "gridcolor": "white",
           "linecolor": "white",
           "ticks": "",
           "title": {
            "standoff": 15
           },
           "zerolinecolor": "white",
           "zerolinewidth": 2
          },
          "yaxis": {
           "automargin": true,
           "gridcolor": "white",
           "linecolor": "white",
           "ticks": "",
           "title": {
            "standoff": 15
           },
           "zerolinecolor": "white",
           "zerolinewidth": 2
          }
         }
        },
        "title": {
         "font": {
          "size": 22
         },
         "text": "Weekly Trend of Total Occupancy",
         "x": 0.5,
         "xanchor": "center"
        },
        "width": 600,
        "xaxis": {
         "categoryarray": [
          "Sunday",
          "Monday",
          "Tuesday",
          "Wednesday",
          "Thursday",
          "Friday",
          "Saturday"
         ],
         "categoryorder": "array",
         "tickfont": {
          "size": 16
         },
         "tickmode": "array",
         "title": {
          "font": {
           "size": 18
          },
          "text": "Day of the Week"
         }
        },
        "yaxis": {
         "gridcolor": "rgba(128, 128, 128, 0.4)",
         "tickfont": {
          "size": 16
         },
         "title": {
          "font": {
           "size": 18
          },
          "text": "Total Occupancy"
         }
        }
       }
      }
     },
     "metadata": {},
     "output_type": "display_data"
    },
    {
     "name": "stdout",
     "output_type": "stream",
     "text": [
      "Visualization saved as ../resources/viz/f24_occupancy_by_weekday.html\n"
     ]
    },
    {
     "data": {
      "application/vnd.plotly.v1+json": {
       "config": {
        "plotlyServerURL": "https://plot.ly"
       },
       "data": [
        {
         "alignmentgroup": "True",
         "hovertemplate": "Headcount = %{y}",
         "legendgroup": "August",
         "marker": {
          "color": "#f0f921",
          "pattern": {
           "shape": ""
          }
         },
         "name": "August",
         "offsetgroup": "August",
         "orientation": "v",
         "showlegend": true,
         "textposition": "auto",
         "type": "bar",
         "x": [
          "Monday",
          "Tuesday",
          "Wednesday",
          "Thursday",
          "Friday",
          "Saturday",
          "Sunday"
         ],
         "xaxis": "x",
         "y": [
          408,
          462,
          471,
          344,
          568,
          711,
          262
         ],
         "yaxis": "y"
        },
        {
         "alignmentgroup": "True",
         "hovertemplate": "Headcount = %{y}",
         "legendgroup": "December",
         "marker": {
          "color": "#fdca26",
          "pattern": {
           "shape": ""
          }
         },
         "name": "December",
         "offsetgroup": "December",
         "orientation": "v",
         "showlegend": true,
         "textposition": "auto",
         "type": "bar",
         "x": [
          "Monday",
          "Tuesday",
          "Wednesday",
          "Thursday",
          "Friday",
          "Saturday",
          "Sunday"
         ],
         "xaxis": "x",
         "y": [
          246,
          305,
          309,
          242,
          450,
          146,
          165
         ],
         "yaxis": "y"
        },
        {
         "alignmentgroup": "True",
         "hovertemplate": "Headcount = %{y}",
         "legendgroup": "November",
         "marker": {
          "color": "#fb9f3a",
          "pattern": {
           "shape": ""
          }
         },
         "name": "November",
         "offsetgroup": "November",
         "orientation": "v",
         "showlegend": true,
         "textposition": "auto",
         "type": "bar",
         "x": [
          "Monday",
          "Tuesday",
          "Wednesday",
          "Thursday",
          "Friday",
          "Saturday",
          "Sunday"
         ],
         "xaxis": "x",
         "y": [
          399,
          458,
          460,
          508,
          951,
          499,
          320
         ],
         "yaxis": "y"
        },
        {
         "alignmentgroup": "True",
         "hovertemplate": "Headcount = %{y}",
         "legendgroup": "October",
         "marker": {
          "color": "#ed7953",
          "pattern": {
           "shape": ""
          }
         },
         "name": "October",
         "offsetgroup": "October",
         "orientation": "v",
         "showlegend": true,
         "textposition": "auto",
         "type": "bar",
         "x": [
          "Monday",
          "Tuesday",
          "Wednesday",
          "Thursday",
          "Friday",
          "Saturday",
          "Sunday"
         ],
         "xaxis": "x",
         "y": [
          615,
          880,
          656,
          612,
          915,
          427,
          441
         ],
         "yaxis": "y"
        },
        {
         "alignmentgroup": "True",
         "hovertemplate": "Headcount = %{y}",
         "legendgroup": "September",
         "marker": {
          "color": "#d8576b",
          "pattern": {
           "shape": ""
          }
         },
         "name": "September",
         "offsetgroup": "September",
         "orientation": "v",
         "showlegend": true,
         "textposition": "auto",
         "type": "bar",
         "x": [
          "Monday",
          "Tuesday",
          "Wednesday",
          "Thursday",
          "Friday",
          "Saturday",
          "Sunday"
         ],
         "xaxis": "x",
         "y": [
          929,
          755,
          971,
          722,
          1654,
          971,
          814
         ],
         "yaxis": "y"
        }
       ],
       "layout": {
        "barmode": "group",
        "font": {
         "color": "black",
         "family": "Droid Serif"
        },
        "height": 400,
        "hoverlabel": {
         "bgcolor": "black",
         "font": {
          "color": "white"
         }
        },
        "legend": {
         "title": {
          "text": "Month"
         },
         "tracegroupgap": 0
        },
        "paper_bgcolor": "white",
        "plot_bgcolor": "white",
        "showlegend": true,
        "template": {
         "data": {
          "bar": [
           {
            "error_x": {
             "color": "#2a3f5f"
            },
            "error_y": {
             "color": "#2a3f5f"
            },
            "marker": {
             "line": {
              "color": "#E5ECF6",
              "width": 0.5
             },
             "pattern": {
              "fillmode": "overlay",
              "size": 10,
              "solidity": 0.2
             }
            },
            "type": "bar"
           }
          ],
          "barpolar": [
           {
            "marker": {
             "line": {
              "color": "#E5ECF6",
              "width": 0.5
             },
             "pattern": {
              "fillmode": "overlay",
              "size": 10,
              "solidity": 0.2
             }
            },
            "type": "barpolar"
           }
          ],
          "carpet": [
           {
            "aaxis": {
             "endlinecolor": "#2a3f5f",
             "gridcolor": "white",
             "linecolor": "white",
             "minorgridcolor": "white",
             "startlinecolor": "#2a3f5f"
            },
            "baxis": {
             "endlinecolor": "#2a3f5f",
             "gridcolor": "white",
             "linecolor": "white",
             "minorgridcolor": "white",
             "startlinecolor": "#2a3f5f"
            },
            "type": "carpet"
           }
          ],
          "choropleth": [
           {
            "colorbar": {
             "outlinewidth": 0,
             "ticks": ""
            },
            "type": "choropleth"
           }
          ],
          "contour": [
           {
            "colorbar": {
             "outlinewidth": 0,
             "ticks": ""
            },
            "colorscale": [
             [
              0,
              "#0d0887"
             ],
             [
              0.1111111111111111,
              "#46039f"
             ],
             [
              0.2222222222222222,
              "#7201a8"
             ],
             [
              0.3333333333333333,
              "#9c179e"
             ],
             [
              0.4444444444444444,
              "#bd3786"
             ],
             [
              0.5555555555555556,
              "#d8576b"
             ],
             [
              0.6666666666666666,
              "#ed7953"
             ],
             [
              0.7777777777777778,
              "#fb9f3a"
             ],
             [
              0.8888888888888888,
              "#fdca26"
             ],
             [
              1,
              "#f0f921"
             ]
            ],
            "type": "contour"
           }
          ],
          "contourcarpet": [
           {
            "colorbar": {
             "outlinewidth": 0,
             "ticks": ""
            },
            "type": "contourcarpet"
           }
          ],
          "heatmap": [
           {
            "colorbar": {
             "outlinewidth": 0,
             "ticks": ""
            },
            "colorscale": [
             [
              0,
              "#0d0887"
             ],
             [
              0.1111111111111111,
              "#46039f"
             ],
             [
              0.2222222222222222,
              "#7201a8"
             ],
             [
              0.3333333333333333,
              "#9c179e"
             ],
             [
              0.4444444444444444,
              "#bd3786"
             ],
             [
              0.5555555555555556,
              "#d8576b"
             ],
             [
              0.6666666666666666,
              "#ed7953"
             ],
             [
              0.7777777777777778,
              "#fb9f3a"
             ],
             [
              0.8888888888888888,
              "#fdca26"
             ],
             [
              1,
              "#f0f921"
             ]
            ],
            "type": "heatmap"
           }
          ],
          "heatmapgl": [
           {
            "colorbar": {
             "outlinewidth": 0,
             "ticks": ""
            },
            "colorscale": [
             [
              0,
              "#0d0887"
             ],
             [
              0.1111111111111111,
              "#46039f"
             ],
             [
              0.2222222222222222,
              "#7201a8"
             ],
             [
              0.3333333333333333,
              "#9c179e"
             ],
             [
              0.4444444444444444,
              "#bd3786"
             ],
             [
              0.5555555555555556,
              "#d8576b"
             ],
             [
              0.6666666666666666,
              "#ed7953"
             ],
             [
              0.7777777777777778,
              "#fb9f3a"
             ],
             [
              0.8888888888888888,
              "#fdca26"
             ],
             [
              1,
              "#f0f921"
             ]
            ],
            "type": "heatmapgl"
           }
          ],
          "histogram": [
           {
            "marker": {
             "pattern": {
              "fillmode": "overlay",
              "size": 10,
              "solidity": 0.2
             }
            },
            "type": "histogram"
           }
          ],
          "histogram2d": [
           {
            "colorbar": {
             "outlinewidth": 0,
             "ticks": ""
            },
            "colorscale": [
             [
              0,
              "#0d0887"
             ],
             [
              0.1111111111111111,
              "#46039f"
             ],
             [
              0.2222222222222222,
              "#7201a8"
             ],
             [
              0.3333333333333333,
              "#9c179e"
             ],
             [
              0.4444444444444444,
              "#bd3786"
             ],
             [
              0.5555555555555556,
              "#d8576b"
             ],
             [
              0.6666666666666666,
              "#ed7953"
             ],
             [
              0.7777777777777778,
              "#fb9f3a"
             ],
             [
              0.8888888888888888,
              "#fdca26"
             ],
             [
              1,
              "#f0f921"
             ]
            ],
            "type": "histogram2d"
           }
          ],
          "histogram2dcontour": [
           {
            "colorbar": {
             "outlinewidth": 0,
             "ticks": ""
            },
            "colorscale": [
             [
              0,
              "#0d0887"
             ],
             [
              0.1111111111111111,
              "#46039f"
             ],
             [
              0.2222222222222222,
              "#7201a8"
             ],
             [
              0.3333333333333333,
              "#9c179e"
             ],
             [
              0.4444444444444444,
              "#bd3786"
             ],
             [
              0.5555555555555556,
              "#d8576b"
             ],
             [
              0.6666666666666666,
              "#ed7953"
             ],
             [
              0.7777777777777778,
              "#fb9f3a"
             ],
             [
              0.8888888888888888,
              "#fdca26"
             ],
             [
              1,
              "#f0f921"
             ]
            ],
            "type": "histogram2dcontour"
           }
          ],
          "mesh3d": [
           {
            "colorbar": {
             "outlinewidth": 0,
             "ticks": ""
            },
            "type": "mesh3d"
           }
          ],
          "parcoords": [
           {
            "line": {
             "colorbar": {
              "outlinewidth": 0,
              "ticks": ""
             }
            },
            "type": "parcoords"
           }
          ],
          "pie": [
           {
            "automargin": true,
            "type": "pie"
           }
          ],
          "scatter": [
           {
            "fillpattern": {
             "fillmode": "overlay",
             "size": 10,
             "solidity": 0.2
            },
            "type": "scatter"
           }
          ],
          "scatter3d": [
           {
            "line": {
             "colorbar": {
              "outlinewidth": 0,
              "ticks": ""
             }
            },
            "marker": {
             "colorbar": {
              "outlinewidth": 0,
              "ticks": ""
             }
            },
            "type": "scatter3d"
           }
          ],
          "scattercarpet": [
           {
            "marker": {
             "colorbar": {
              "outlinewidth": 0,
              "ticks": ""
             }
            },
            "type": "scattercarpet"
           }
          ],
          "scattergeo": [
           {
            "marker": {
             "colorbar": {
              "outlinewidth": 0,
              "ticks": ""
             }
            },
            "type": "scattergeo"
           }
          ],
          "scattergl": [
           {
            "marker": {
             "colorbar": {
              "outlinewidth": 0,
              "ticks": ""
             }
            },
            "type": "scattergl"
           }
          ],
          "scattermapbox": [
           {
            "marker": {
             "colorbar": {
              "outlinewidth": 0,
              "ticks": ""
             }
            },
            "type": "scattermapbox"
           }
          ],
          "scatterpolar": [
           {
            "marker": {
             "colorbar": {
              "outlinewidth": 0,
              "ticks": ""
             }
            },
            "type": "scatterpolar"
           }
          ],
          "scatterpolargl": [
           {
            "marker": {
             "colorbar": {
              "outlinewidth": 0,
              "ticks": ""
             }
            },
            "type": "scatterpolargl"
           }
          ],
          "scatterternary": [
           {
            "marker": {
             "colorbar": {
              "outlinewidth": 0,
              "ticks": ""
             }
            },
            "type": "scatterternary"
           }
          ],
          "surface": [
           {
            "colorbar": {
             "outlinewidth": 0,
             "ticks": ""
            },
            "colorscale": [
             [
              0,
              "#0d0887"
             ],
             [
              0.1111111111111111,
              "#46039f"
             ],
             [
              0.2222222222222222,
              "#7201a8"
             ],
             [
              0.3333333333333333,
              "#9c179e"
             ],
             [
              0.4444444444444444,
              "#bd3786"
             ],
             [
              0.5555555555555556,
              "#d8576b"
             ],
             [
              0.6666666666666666,
              "#ed7953"
             ],
             [
              0.7777777777777778,
              "#fb9f3a"
             ],
             [
              0.8888888888888888,
              "#fdca26"
             ],
             [
              1,
              "#f0f921"
             ]
            ],
            "type": "surface"
           }
          ],
          "table": [
           {
            "cells": {
             "fill": {
              "color": "#EBF0F8"
             },
             "line": {
              "color": "white"
             }
            },
            "header": {
             "fill": {
              "color": "#C8D4E3"
             },
             "line": {
              "color": "white"
             }
            },
            "type": "table"
           }
          ]
         },
         "layout": {
          "annotationdefaults": {
           "arrowcolor": "#2a3f5f",
           "arrowhead": 0,
           "arrowwidth": 1
          },
          "autotypenumbers": "strict",
          "coloraxis": {
           "colorbar": {
            "outlinewidth": 0,
            "ticks": ""
           }
          },
          "colorscale": {
           "diverging": [
            [
             0,
             "#8e0152"
            ],
            [
             0.1,
             "#c51b7d"
            ],
            [
             0.2,
             "#de77ae"
            ],
            [
             0.3,
             "#f1b6da"
            ],
            [
             0.4,
             "#fde0ef"
            ],
            [
             0.5,
             "#f7f7f7"
            ],
            [
             0.6,
             "#e6f5d0"
            ],
            [
             0.7,
             "#b8e186"
            ],
            [
             0.8,
             "#7fbc41"
            ],
            [
             0.9,
             "#4d9221"
            ],
            [
             1,
             "#276419"
            ]
           ],
           "sequential": [
            [
             0,
             "#0d0887"
            ],
            [
             0.1111111111111111,
             "#46039f"
            ],
            [
             0.2222222222222222,
             "#7201a8"
            ],
            [
             0.3333333333333333,
             "#9c179e"
            ],
            [
             0.4444444444444444,
             "#bd3786"
            ],
            [
             0.5555555555555556,
             "#d8576b"
            ],
            [
             0.6666666666666666,
             "#ed7953"
            ],
            [
             0.7777777777777778,
             "#fb9f3a"
            ],
            [
             0.8888888888888888,
             "#fdca26"
            ],
            [
             1,
             "#f0f921"
            ]
           ],
           "sequentialminus": [
            [
             0,
             "#0d0887"
            ],
            [
             0.1111111111111111,
             "#46039f"
            ],
            [
             0.2222222222222222,
             "#7201a8"
            ],
            [
             0.3333333333333333,
             "#9c179e"
            ],
            [
             0.4444444444444444,
             "#bd3786"
            ],
            [
             0.5555555555555556,
             "#d8576b"
            ],
            [
             0.6666666666666666,
             "#ed7953"
            ],
            [
             0.7777777777777778,
             "#fb9f3a"
            ],
            [
             0.8888888888888888,
             "#fdca26"
            ],
            [
             1,
             "#f0f921"
            ]
           ]
          },
          "colorway": [
           "#636efa",
           "#EF553B",
           "#00cc96",
           "#ab63fa",
           "#FFA15A",
           "#19d3f3",
           "#FF6692",
           "#B6E880",
           "#FF97FF",
           "#FECB52"
          ],
          "font": {
           "color": "#2a3f5f"
          },
          "geo": {
           "bgcolor": "white",
           "lakecolor": "white",
           "landcolor": "#E5ECF6",
           "showlakes": true,
           "showland": true,
           "subunitcolor": "white"
          },
          "hoverlabel": {
           "align": "left"
          },
          "hovermode": "closest",
          "mapbox": {
           "style": "light"
          },
          "paper_bgcolor": "white",
          "plot_bgcolor": "#E5ECF6",
          "polar": {
           "angularaxis": {
            "gridcolor": "white",
            "linecolor": "white",
            "ticks": ""
           },
           "bgcolor": "#E5ECF6",
           "radialaxis": {
            "gridcolor": "white",
            "linecolor": "white",
            "ticks": ""
           }
          },
          "scene": {
           "xaxis": {
            "backgroundcolor": "#E5ECF6",
            "gridcolor": "white",
            "gridwidth": 2,
            "linecolor": "white",
            "showbackground": true,
            "ticks": "",
            "zerolinecolor": "white"
           },
           "yaxis": {
            "backgroundcolor": "#E5ECF6",
            "gridcolor": "white",
            "gridwidth": 2,
            "linecolor": "white",
            "showbackground": true,
            "ticks": "",
            "zerolinecolor": "white"
           },
           "zaxis": {
            "backgroundcolor": "#E5ECF6",
            "gridcolor": "white",
            "gridwidth": 2,
            "linecolor": "white",
            "showbackground": true,
            "ticks": "",
            "zerolinecolor": "white"
           }
          },
          "shapedefaults": {
           "line": {
            "color": "#2a3f5f"
           }
          },
          "ternary": {
           "aaxis": {
            "gridcolor": "white",
            "linecolor": "white",
            "ticks": ""
           },
           "baxis": {
            "gridcolor": "white",
            "linecolor": "white",
            "ticks": ""
           },
           "bgcolor": "#E5ECF6",
           "caxis": {
            "gridcolor": "white",
            "linecolor": "white",
            "ticks": ""
           }
          },
          "title": {
           "x": 0.05
          },
          "xaxis": {
           "automargin": true,
           "gridcolor": "white",
           "linecolor": "white",
           "ticks": "",
           "title": {
            "standoff": 15
           },
           "zerolinecolor": "white",
           "zerolinewidth": 2
          },
          "yaxis": {
           "automargin": true,
           "gridcolor": "white",
           "linecolor": "white",
           "ticks": "",
           "title": {
            "standoff": 15
           },
           "zerolinecolor": "white",
           "zerolinewidth": 2
          }
         }
        },
        "title": {
         "font": {
          "size": 22
         },
         "text": "Occupancy by Month and Weekday",
         "x": 0.5,
         "xanchor": "center",
         "y": 0.85
        },
        "width": 600,
        "xaxis": {
         "anchor": "y",
         "categoryarray": [
          "Monday",
          "Tuesday",
          "Wednesday",
          "Thursday",
          "Friday",
          "Saturday",
          "Sunday"
         ],
         "categoryorder": "array",
         "domain": [
          0,
          1
         ],
         "tickfont": {
          "size": 16
         },
         "tickmode": "array",
         "title": {
          "font": {
           "size": 18
          },
          "text": "Day of the week"
         }
        },
        "yaxis": {
         "anchor": "x",
         "domain": [
          0,
          1
         ],
         "gridcolor": "rgba(128, 128, 128, 0.5)",
         "tickfont": {
          "size": 16
         },
         "title": {
          "font": {
           "size": 18
          },
          "text": "Headcount"
         }
        }
       }
      }
     },
     "metadata": {},
     "output_type": "display_data"
    },
    {
     "name": "stdout",
     "output_type": "stream",
     "text": [
      "Visualization saved as ../resources/viz/f24_occupancy_by_month.html\n",
      "Occupancy Visualizations Complete!\n",
      "\n",
      "All Visualizations Complete!\n"
     ]
    }
   ],
   "source": [
    "import update_viz\n",
    "import importlib\n",
    "importlib.reload(update_viz)\n",
    "\n",
    "\n",
    "update_viz.run_all_visualizations(semester_name = \"f24\", output_path = \"../resources/viz/f24\")\n"
   ]
  },
  {
   "cell_type": "code",
   "execution_count": 22,
   "metadata": {},
   "outputs": [
    {
     "name": "stdout",
     "output_type": "stream",
     "text": [
      "\n",
      "Running Table Game Visualizations...\n"
     ]
    },
    {
     "data": {
      "application/vnd.plotly.v1+json": {
       "config": {
        "plotlyServerURL": "https://plot.ly"
       },
       "data": [
        {
         "alignmentgroup": "True",
         "boxpoints": "all",
         "fillcolor": "rgba(255,255,255,0)",
         "hoveron": "points",
         "hovertemplate": "Pool Table #=%{x}<br>Adjusted Duration=%{y}<extra></extra>",
         "legendgroup": "",
         "line": {
          "color": "rgba(255,255,255,0)"
         },
         "marker": {
          "color": "#636efa",
          "opacity": 0.3
         },
         "name": "",
         "offsetgroup": "",
         "orientation": "v",
         "pointpos": 0,
         "showlegend": false,
         "type": "box",
         "x": [
          1,
          1,
          0,
          2,
          2,
          2,
          3,
          1,
          2,
          1,
          1,
          3,
          2,
          3,
          3,
          1,
          0,
          1,
          2,
          3,
          1,
          1,
          2,
          1,
          1,
          3,
          2,
          3,
          2,
          2,
          1,
          2,
          3,
          1,
          3,
          1,
          2,
          3,
          1,
          3,
          1,
          2,
          3,
          1,
          3,
          2,
          1,
          3,
          1,
          3,
          2,
          1,
          3,
          1,
          1,
          2,
          3,
          1,
          2,
          3,
          1,
          2,
          1,
          1,
          3,
          2,
          1,
          1,
          2,
          1,
          3,
          1,
          3,
          2,
          1,
          2,
          3,
          1,
          1,
          2,
          1,
          2,
          1,
          3,
          3,
          1,
          2,
          2,
          3,
          2,
          3,
          1,
          2,
          3,
          1,
          3,
          2,
          3,
          1,
          2,
          2,
          3,
          2,
          1,
          3,
          2,
          1,
          3,
          2,
          2,
          2,
          3,
          3,
          2,
          3,
          1,
          2,
          3,
          1,
          3,
          1,
          3,
          1,
          2,
          1,
          1,
          3,
          2,
          2,
          1,
          3,
          3,
          1,
          2,
          2,
          3,
          2,
          1,
          3,
          3,
          1,
          3,
          2,
          2,
          1,
          3,
          3,
          1,
          2,
          1,
          2,
          1,
          3,
          3,
          1,
          3,
          2,
          1,
          2,
          1,
          1,
          3,
          2,
          2,
          1,
          3,
          2,
          3,
          1,
          2,
          1,
          3,
          2,
          3,
          1,
          1,
          3,
          2,
          1,
          3,
          3,
          1,
          2,
          2,
          1,
          3,
          3,
          2,
          3,
          2,
          1,
          1,
          2,
          3,
          3,
          1,
          2,
          1,
          3,
          3,
          1,
          1,
          2,
          3,
          2,
          1,
          3,
          3,
          2,
          1,
          2,
          3,
          1,
          2,
          1,
          3,
          2,
          1,
          1,
          2,
          1,
          2,
          3,
          1,
          1,
          2,
          3,
          1,
          1,
          2,
          1,
          2,
          1,
          2,
          3,
          1,
          2,
          1,
          3,
          1,
          2,
          1,
          1,
          1,
          1,
          2,
          2,
          1,
          3,
          1,
          3,
          3,
          1,
          3,
          2,
          1,
          1,
          2,
          3,
          1,
          3,
          2,
          2,
          3,
          1,
          3,
          1,
          2,
          3,
          2,
          1,
          2,
          1,
          2,
          3,
          2,
          1,
          1,
          3,
          1,
          2,
          1,
          3,
          1,
          2,
          1,
          3,
          2,
          1,
          2,
          3,
          1,
          1,
          3,
          1,
          2,
          3,
          2,
          1,
          3,
          1,
          3,
          1,
          2,
          2,
          1,
          2,
          3,
          1,
          2,
          2,
          1,
          1,
          2,
          3,
          1,
          1,
          3,
          2,
          2,
          3,
          1,
          1,
          3,
          0,
          1,
          2,
          3,
          2,
          3,
          2,
          1,
          2,
          2,
          1,
          3,
          2,
          1,
          3,
          2,
          2,
          1,
          1,
          2,
          3,
          3,
          1,
          2,
          3,
          1,
          2,
          3,
          2,
          1,
          1,
          2,
          3,
          2,
          3,
          1,
          1,
          1,
          0,
          2,
          2,
          1,
          3,
          2,
          2,
          1,
          2,
          1,
          3,
          2,
          2,
          3,
          1,
          3,
          1,
          3,
          3,
          1,
          2,
          1,
          3,
          2,
          1,
          1,
          1,
          2,
          3,
          2,
          3,
          1,
          2,
          3,
          2,
          2,
          3,
          1,
          1,
          2,
          3,
          1,
          2,
          3,
          1,
          1,
          1,
          1,
          3,
          2,
          3,
          1,
          2,
          3,
          2,
          1,
          2,
          3,
          3,
          1,
          2,
          3,
          3,
          2,
          3,
          1,
          2,
          2,
          2,
          1,
          3,
          2,
          3,
          3,
          1,
          2,
          1,
          3,
          3,
          2,
          1,
          2,
          1,
          2,
          3,
          1,
          1,
          3,
          1,
          2,
          3,
          1,
          1,
          3,
          3,
          2,
          3,
          1,
          1,
          1,
          2,
          3,
          1,
          3,
          2,
          3,
          1,
          3,
          1,
          2,
          3,
          1,
          2,
          1,
          3,
          3,
          2,
          1,
          1,
          3,
          1,
          3,
          1,
          3,
          1,
          1,
          2,
          3,
          1,
          1,
          2,
          1,
          3,
          3,
          3,
          1,
          3,
          2,
          3,
          1,
          3,
          1,
          3,
          2,
          3,
          1,
          2,
          2,
          3,
          2,
          1,
          1,
          3,
          2,
          1,
          2,
          3,
          1,
          2,
          3,
          3,
          1,
          3,
          2,
          1,
          3,
          2,
          1,
          2,
          2,
          3,
          2,
          1,
          2,
          3,
          1,
          2,
          1,
          3,
          1,
          1,
          2,
          3,
          1,
          2,
          3,
          1,
          1,
          3,
          3,
          1,
          1,
          2,
          3,
          1,
          1,
          2,
          1,
          3,
          1,
          3,
          1,
          2,
          3,
          1,
          3,
          2,
          1,
          2,
          3,
          1,
          1,
          2,
          3,
          2,
          1,
          1,
          3,
          3,
          1,
          2,
          1,
          2,
          3,
          2,
          1,
          3,
          2,
          1,
          3,
          1,
          2,
          1,
          3,
          1,
          2,
          3,
          3,
          2,
          3,
          3,
          1,
          3,
          3,
          2,
          1,
          1,
          2,
          1,
          2,
          2,
          1,
          2,
          1,
          3,
          2,
          2,
          1,
          3,
          3,
          1,
          2,
          1,
          2,
          3,
          1,
          2,
          1,
          2,
          1,
          3,
          3,
          1,
          2,
          2,
          1,
          3,
          2,
          1,
          2,
          1,
          3,
          2,
          1,
          3,
          1,
          2,
          2,
          1,
          2,
          3,
          1,
          2,
          3,
          1,
          3,
          3,
          2,
          1,
          3,
          1,
          3,
          3,
          1,
          2,
          3,
          2,
          3,
          1,
          1,
          3,
          3,
          2,
          3,
          1,
          2,
          2,
          2,
          3,
          1,
          1,
          3,
          2,
          1,
          3,
          0,
          0,
          2,
          1,
          1,
          3,
          3,
          1,
          3,
          3,
          3,
          1,
          2,
          3,
          1,
          2,
          2,
          1,
          3,
          3,
          1,
          1,
          2,
          3,
          1,
          3,
          2,
          1,
          1,
          1,
          3,
          2,
          1,
          3,
          3,
          3,
          1,
          1,
          2,
          1,
          2,
          3,
          1,
          2,
          1,
          1,
          3,
          2,
          3,
          1,
          2,
          1,
          1,
          3,
          2,
          1,
          3,
          1,
          2,
          3,
          2,
          2,
          3,
          1,
          2,
          2,
          3,
          2,
          1,
          2,
          3,
          1,
          2,
          2,
          1,
          3,
          3,
          2,
          2,
          1,
          3,
          2,
          3,
          1,
          3,
          2,
          3,
          2,
          3,
          2,
          3,
          2,
          3,
          1,
          2,
          1,
          3,
          3,
          2,
          1,
          1,
          1,
          1,
          2,
          3,
          2,
          2,
          3,
          3,
          1,
          2,
          3,
          1,
          1,
          3,
          1,
          2,
          3,
          2,
          1,
          3,
          1,
          2,
          3,
          1,
          3,
          1,
          2,
          3,
          1,
          2,
          3,
          1,
          0,
          2,
          2,
          3,
          1,
          1,
          2,
          3,
          3,
          2,
          1,
          3,
          2,
          1,
          3,
          2,
          1,
          3,
          2,
          1,
          3,
          1,
          3,
          2,
          1,
          3,
          3,
          2,
          3,
          1,
          3,
          2,
          0,
          2,
          3,
          1,
          3,
          2,
          3,
          2,
          2,
          1,
          1,
          2,
          2,
          3,
          3,
          1,
          1,
          3,
          2,
          2,
          3,
          1,
          1,
          3,
          2,
          1,
          3,
          2,
          3,
          2,
          3,
          1,
          2,
          3,
          2,
          2,
          3,
          2,
          1,
          1,
          3,
          1,
          2,
          1,
          3,
          1,
          2,
          2,
          1,
          3,
          1,
          3,
          2,
          3,
          1,
          3,
          1,
          2,
          2,
          3,
          2,
          3,
          1,
          2,
          3,
          2,
          3,
          1,
          3,
          2,
          3,
          3,
          1,
          2,
          3,
          1,
          2,
          1,
          2,
          1,
          3,
          2,
          1,
          2,
          3,
          1,
          1,
          1,
          3,
          1,
          3,
          2,
          1,
          3,
          3,
          2,
          1,
          3,
          2,
          1,
          3,
          1,
          2,
          3,
          1,
          2,
          1,
          3,
          3,
          3,
          1,
          2,
          1,
          3,
          1,
          1,
          3,
          2,
          1,
          3,
          1,
          2,
          3,
          1,
          2,
          3,
          1,
          2,
          1,
          2,
          1,
          3,
          3,
          3,
          2,
          3,
          2,
          3,
          2,
          1,
          2,
          2,
          1,
          3,
          2,
          2,
          1,
          3,
          2,
          1,
          3,
          2,
          1,
          3,
          3,
          2,
          1,
          3,
          1,
          2,
          3,
          2,
          1,
          3,
          2,
          1,
          2,
          2,
          1,
          3,
          3,
          1,
          1,
          2,
          3,
          1,
          2,
          2,
          1,
          2,
          3,
          1,
          3,
          2,
          1,
          3,
          1,
          2,
          3,
          1,
          1,
          3,
          1,
          2,
          2,
          1,
          3,
          3,
          1,
          3,
          1,
          3,
          2,
          1,
          3,
          1,
          1,
          2,
          3,
          1,
          3,
          1,
          1,
          1,
          1,
          3,
          2,
          3,
          3,
          1,
          2,
          2,
          2,
          1,
          2,
          1,
          3,
          1,
          3,
          2,
          1,
          2,
          3,
          1,
          2,
          0,
          0,
          1,
          3,
          2,
          1,
          2,
          3,
          1,
          2,
          3,
          1,
          3,
          3,
          2,
          1,
          3,
          2,
          1,
          3,
          2,
          1,
          1,
          3,
          1,
          2,
          3,
          1,
          1,
          3,
          3,
          3,
          2,
          1,
          2,
          3,
          1,
          2,
          2,
          2,
          1,
          3,
          1,
          3,
          2,
          1,
          2,
          1,
          3,
          2,
          3,
          2,
          1,
          3,
          2,
          1,
          3,
          1,
          3,
          2,
          3,
          2,
          1,
          1,
          1,
          3,
          1,
          3,
          2,
          1,
          3,
          1,
          3,
          2,
          1,
          1,
          1,
          1,
          2,
          3,
          1,
          3,
          1,
          3,
          2,
          1,
          2,
          1,
          3,
          1,
          2,
          1,
          2,
          2,
          1,
          2,
          1,
          3,
          2,
          2,
          3,
          3,
          2,
          3,
          1,
          2,
          2,
          1,
          2,
          1,
          1,
          2,
          3,
          1,
          1,
          2,
          3,
          1,
          2,
          1,
          2,
          3,
          1,
          3,
          2,
          2,
          2,
          3,
          1,
          1,
          3,
          3,
          2,
          3,
          2,
          3,
          2,
          1,
          2,
          3,
          2,
          1,
          2,
          3,
          2,
          1,
          1,
          3,
          1,
          2,
          3,
          2,
          1,
          1,
          3,
          2,
          1,
          1,
          2,
          2,
          3,
          2,
          3,
          1,
          1,
          1,
          1,
          2,
          3,
          1,
          2,
          3,
          2,
          1,
          2,
          1,
          3,
          3,
          3,
          2,
          1,
          1,
          1,
          3,
          2,
          1,
          3,
          2,
          1,
          3,
          3,
          1,
          2,
          3,
          2,
          2,
          3,
          2,
          1,
          2,
          1,
          3,
          2,
          1,
          1,
          2,
          3,
          3,
          2,
          3,
          2,
          1,
          2,
          1,
          3,
          1,
          2,
          3,
          2,
          1,
          2,
          2,
          1,
          3,
          1,
          3,
          2,
          1,
          3,
          2,
          1,
          3,
          2,
          1,
          3,
          2,
          1,
          1,
          3,
          1,
          3,
          1,
          3,
          2,
          1,
          3,
          2,
          3,
          2,
          2,
          3,
          1,
          2,
          1,
          3,
          0,
          0,
          2,
          3,
          2,
          1,
          3,
          1,
          3,
          3,
          1,
          3,
          2,
          3,
          1,
          3,
          2,
          1,
          3,
          1,
          3,
          2,
          1,
          3,
          1,
          2,
          1,
          1,
          0,
          3,
          2,
          1,
          3,
          3,
          2,
          1,
          3,
          3,
          2,
          2,
          3,
          1,
          1,
          1,
          3,
          2,
          3,
          1,
          2,
          1,
          2,
          3,
          1,
          1,
          2,
          1,
          3,
          2,
          2,
          3,
          3,
          1,
          1,
          3,
          2,
          3,
          1,
          2,
          3,
          3,
          1,
          1,
          3,
          3,
          1,
          3,
          2,
          1,
          1,
          3,
          2,
          3,
          2,
          3,
          1,
          2,
          2,
          1,
          1,
          3,
          3,
          2,
          2,
          1,
          3,
          1,
          2,
          2,
          1,
          1,
          2,
          1,
          1,
          1,
          3,
          2,
          3,
          2,
          3,
          2,
          1,
          1,
          2,
          3,
          1,
          2,
          3,
          1,
          2,
          3,
          1,
          1,
          1,
          2,
          3,
          2,
          1,
          3,
          0,
          1,
          2,
          3,
          3,
          1,
          2,
          3,
          1,
          2,
          2,
          3,
          1,
          3,
          2,
          1,
          3,
          0,
          2,
          3,
          2,
          2,
          1,
          3,
          2,
          3,
          1,
          1,
          3,
          3,
          1,
          3,
          2,
          1,
          3,
          1,
          2,
          3,
          1,
          2,
          3,
          2,
          3,
          1,
          2,
          2,
          3,
          3,
          1,
          2,
          2,
          3,
          1,
          2,
          3,
          1,
          2,
          1,
          3,
          1,
          2,
          1,
          3,
          2,
          1,
          3,
          3,
          1,
          2,
          3,
          3,
          1,
          1,
          3,
          3,
          1,
          3,
          1,
          3,
          2,
          3,
          1,
          2,
          1,
          3,
          2,
          1,
          3,
          2,
          1,
          3,
          3,
          3,
          2,
          3,
          2,
          2,
          3,
          3,
          1,
          3,
          2,
          1,
          3,
          2,
          3,
          1,
          2,
          2,
          3,
          1,
          2,
          1,
          3,
          2,
          1,
          3,
          1,
          3,
          1,
          1,
          2,
          1,
          3,
          2,
          2,
          1,
          3,
          1,
          2,
          3,
          1,
          3,
          2,
          2,
          3,
          2,
          1,
          0,
          1,
          2,
          3,
          2,
          3,
          1,
          1,
          3,
          1,
          2,
          1,
          2,
          3,
          1,
          2,
          2,
          3,
          2,
          2,
          3,
          1,
          3,
          2,
          3,
          2,
          2,
          1,
          2,
          1,
          3,
          1,
          2,
          1,
          2,
          1,
          2,
          1,
          1,
          2,
          3,
          1,
          1,
          2,
          1,
          2,
          3,
          1,
          2,
          1,
          2,
          3,
          1,
          3,
          1,
          2,
          3,
          1,
          2,
          1,
          3,
          2,
          2,
          1,
          2,
          3,
          0,
          0,
          1,
          2,
          2,
          3,
          2,
          1,
          2,
          1,
          3,
          2,
          1,
          3,
          2,
          3,
          1,
          3,
          2,
          1,
          2,
          1,
          1,
          2,
          1,
          2,
          3,
          2,
          1,
          2,
          3,
          2,
          1,
          1,
          3,
          2,
          2,
          3,
          1,
          2,
          2,
          1,
          2,
          1,
          3,
          3,
          3,
          1,
          2,
          1,
          3,
          1,
          1,
          3,
          2,
          2,
          3,
          2,
          1,
          1,
          2,
          3,
          2,
          3,
          3,
          2,
          1,
          1,
          1,
          2,
          3,
          3,
          2,
          1,
          1,
          1,
          2,
          3,
          1,
          2,
          3,
          3,
          1,
          3,
          1,
          2,
          3,
          1,
          2,
          2,
          1,
          1,
          3,
          2,
          1,
          2,
          3,
          1,
          2,
          1,
          3,
          1,
          2,
          3,
          1,
          3,
          2,
          1,
          2,
          1,
          3,
          1,
          3,
          2,
          2,
          1,
          2,
          2,
          3,
          3,
          2,
          3,
          2,
          3,
          1,
          2,
          3,
          2,
          1,
          1,
          3,
          3,
          1,
          2,
          3,
          1,
          2,
          3,
          3,
          1,
          2,
          3,
          2,
          1,
          3,
          2,
          3,
          2,
          2,
          2,
          1,
          2,
          3,
          1,
          2,
          1,
          3,
          3,
          2,
          2,
          3,
          3,
          2,
          1,
          2,
          2,
          1,
          3,
          3,
          1,
          2,
          3,
          1,
          2,
          3,
          3,
          1,
          1,
          3,
          3,
          1,
          2,
          2,
          1,
          2,
          1,
          2,
          3,
          1,
          2,
          3,
          2,
          1,
          2,
          3,
          1,
          3,
          1,
          2,
          3,
          1,
          2,
          2,
          3,
          2,
          1,
          2,
          3,
          2,
          3,
          1,
          2,
          3,
          2,
          2,
          1,
          3,
          3,
          1,
          2,
          3,
          3,
          2,
          3,
          1,
          1,
          2,
          1,
          1,
          3,
          1,
          2,
          1,
          3,
          2,
          1,
          3,
          3,
          2,
          3,
          2,
          3,
          1,
          2,
          3,
          1,
          2,
          3,
          1,
          3,
          2,
          1,
          3,
          1,
          2,
          3,
          2,
          1,
          1,
          1,
          3,
          1,
          2,
          1,
          3,
          2,
          1,
          2,
          1,
          1,
          3,
          1,
          2,
          1,
          3,
          2,
          3,
          3,
          1,
          2,
          3,
          1,
          2,
          1,
          1,
          2,
          3,
          3,
          1,
          3,
          2,
          3,
          1,
          2,
          3,
          1,
          1,
          3,
          2,
          3,
          1,
          2,
          1,
          2,
          1,
          2,
          1,
          3,
          2,
          2,
          3,
          1,
          2,
          3,
          2,
          1,
          1,
          3,
          2,
          1,
          2,
          3,
          1,
          2,
          2,
          1,
          2,
          3,
          1,
          2,
          1,
          1,
          3,
          2,
          0,
          3,
          2,
          1,
          2,
          1,
          3,
          2,
          3,
          2,
          2,
          1,
          3,
          2,
          1,
          2,
          3,
          1,
          1,
          1,
          1,
          2,
          2,
          1,
          2,
          3,
          1,
          3,
          2,
          3,
          2,
          1,
          3,
          2,
          2,
          3,
          3,
          1,
          2,
          1,
          3,
          3,
          1,
          1,
          1,
          2,
          3,
          3,
          1,
          2,
          3,
          1,
          3,
          2,
          1,
          3,
          3,
          1,
          3,
          2,
          1,
          1,
          3,
          1,
          1,
          1,
          3,
          1,
          2,
          3,
          2,
          2,
          1,
          2,
          1,
          3,
          2,
          1,
          3,
          3,
          3,
          1,
          2,
          3,
          3,
          3,
          2,
          2,
          3,
          3,
          3,
          3,
          3,
          3,
          3,
          3,
          3,
          1,
          3,
          3,
          3,
          3,
          1,
          2,
          2,
          3,
          2,
          1,
          3,
          1,
          1,
          2,
          2,
          3,
          3,
          1,
          3,
          3,
          1,
          0,
          2,
          1,
          2,
          1,
          2,
          2,
          3,
          1,
          2,
          1,
          2,
          1,
          2,
          1,
          3,
          1,
          3,
          1,
          2,
          1,
          3,
          2,
          1,
          1,
          3,
          2,
          1,
          3,
          1,
          2,
          2,
          1,
          0,
          1,
          2,
          1,
          3,
          2,
          2,
          3,
          1,
          2,
          3,
          1,
          3,
          2,
          2,
          2,
          1,
          1,
          2,
          2,
          1,
          2,
          1,
          3,
          1,
          1,
          2,
          3,
          2,
          1,
          3,
          1,
          3,
          2,
          1,
          3,
          1,
          2,
          3,
          2,
          1,
          1,
          2,
          1,
          2,
          3,
          3,
          1,
          3,
          3,
          1,
          2,
          2,
          2,
          3,
          2,
          1,
          3,
          1,
          2,
          3,
          1,
          1,
          3,
          2,
          1,
          3,
          2,
          3,
          2,
          3,
          1,
          1,
          2,
          3,
          1,
          1,
          3,
          2,
          1,
          3,
          2,
          2,
          0,
          1,
          2,
          1,
          3,
          3,
          2,
          2,
          2,
          1,
          1,
          1,
          3,
          2,
          3,
          2,
          1,
          1,
          2,
          3,
          1,
          3,
          3,
          2,
          1,
          2,
          1,
          3,
          2,
          2,
          1,
          3,
          2,
          1,
          3,
          3,
          3,
          1,
          3,
          2,
          3,
          2,
          1,
          3,
          2,
          1,
          3,
          2,
          3,
          3,
          2,
          1,
          3,
          2,
          3,
          1,
          1,
          3,
          1,
          2,
          1,
          3,
          1,
          1,
          2,
          1,
          3,
          3,
          1,
          2,
          3,
          1,
          2,
          3,
          1,
          2,
          3,
          1,
          1,
          1,
          2,
          1,
          2,
          3,
          1,
          2,
          3,
          3,
          1,
          2,
          3,
          1,
          2,
          3,
          1,
          3,
          3,
          1,
          1,
          2,
          3,
          1,
          2,
          2,
          3,
          2,
          1,
          3,
          1,
          2,
          3,
          3,
          2,
          1,
          3,
          2,
          3,
          1,
          2,
          1,
          3,
          2,
          2,
          3,
          1,
          2,
          3,
          1,
          3,
          1,
          1,
          3,
          2,
          1,
          2,
          1,
          2,
          3,
          2,
          1,
          1,
          3,
          2,
          1,
          3,
          2,
          3,
          1,
          3,
          2,
          1,
          2,
          3,
          1,
          2,
          1,
          1,
          2,
          3,
          2,
          3,
          1,
          3,
          1,
          1,
          2,
          3,
          3,
          2,
          1,
          1,
          1,
          2,
          1,
          3,
          1,
          2,
          3,
          1,
          2,
          1,
          3,
          2,
          1,
          2,
          3,
          3,
          1,
          1,
          3,
          2,
          3,
          1,
          1,
          2,
          3,
          2,
          1,
          2,
          3,
          3,
          1,
          2,
          2,
          1,
          2,
          1,
          1,
          3,
          1,
          2,
          1,
          3,
          2,
          2,
          3,
          2,
          1,
          3,
          2,
          2,
          3,
          2,
          1,
          2,
          2,
          3,
          1,
          3,
          1,
          2,
          3,
          2,
          3,
          3,
          1,
          2,
          1,
          1,
          2,
          1,
          2,
          1,
          3,
          2
         ],
         "x0": " ",
         "xaxis": "x",
         "y": [
          32,
          17,
          65,
          25,
          30,
          25,
          67,
          12,
          22,
          32,
          11,
          14,
          9,
          34,
          11,
          6,
          24,
          25,
          40,
          35,
          12,
          15,
          15,
          25,
          67,
          16,
          22,
          21,
          12,
          13,
          33,
          27,
          41,
          24,
          71,
          33,
          66,
          25,
          40,
          17,
          27,
          30,
          41,
          50,
          44,
          124,
          15,
          69,
          55,
          15,
          80,
          30,
          53,
          38,
          34,
          78,
          70,
          53,
          57,
          78,
          47,
          39,
          28,
          13,
          97,
          41,
          32,
          22,
          56,
          14,
          19,
          26,
          35,
          19,
          36,
          56,
          20,
          18,
          9,
          11,
          15,
          49,
          34,
          28,
          21,
          60,
          15,
          14,
          18,
          23,
          28,
          36,
          73,
          32,
          37,
          26,
          14,
          27,
          46,
          28,
          11,
          10,
          56,
          51,
          29,
          29,
          85,
          188,
          40,
          38,
          52,
          24,
          31,
          36,
          17,
          13,
          142,
          58,
          67,
          73,
          52,
          60,
          10,
          61,
          26,
          74,
          42,
          17,
          38,
          16,
          10,
          54,
          97,
          32,
          50,
          81,
          117,
          102,
          22,
          34,
          51,
          55,
          -98,
          67,
          42,
          30,
          117,
          36,
          68,
          57,
          61,
          39,
          34,
          28,
          34,
          72,
          32,
          16,
          19,
          13,
          41,
          48,
          6,
          21,
          29,
          10,
          5,
          25,
          34,
          27,
          51,
          22,
          107,
          81,
          27,
          66,
          48,
          21,
          43,
          29,
          65,
          25,
          16,
          34,
          33,
          22,
          32,
          29,
          37,
          -1411,
          29,
          764,
          22,
          19,
          28,
          26,
          72,
          63,
          22,
          50,
          27,
          51,
          39,
          32,
          34,
          51,
          32,
          51,
          25,
          44,
          53,
          130,
          53,
          50,
          42,
          45,
          77,
          46,
          73,
          21,
          24,
          87,
          89,
          67,
          52,
          127,
          242,
          72,
          34,
          54,
          29,
          65,
          60,
          49,
          39,
          30,
          29,
          25,
          -1279,
          32,
          -1360,
          27,
          -1414,
          25,
          42,
          18,
          207,
          16,
          48,
          97,
          17,
          74,
          79,
          64,
          50,
          30,
          54,
          71,
          56,
          68,
          56,
          31,
          65,
          18,
          57,
          63,
          44,
          24,
          68,
          13,
          30,
          75,
          12,
          37,
          81,
          103,
          39,
          30,
          81,
          30,
          66,
          23,
          95,
          25,
          76,
          85,
          55,
          15,
          41,
          44,
          48,
          31,
          44,
          54,
          26,
          35,
          15,
          66,
          16,
          51,
          19,
          108,
          53,
          19,
          32,
          46,
          53,
          64,
          52,
          35,
          39,
          25,
          38,
          84,
          17,
          15,
          37,
          55,
          25,
          38,
          76,
          21,
          59,
          29,
          32,
          43,
          22,
          40,
          30,
          26,
          30,
          45,
          38,
          70,
          82,
          71,
          17,
          29,
          122,
          25,
          54,
          31,
          34,
          25,
          37,
          31,
          38,
          32,
          34,
          54,
          25,
          59,
          16,
          10,
          35,
          29,
          13,
          39,
          16,
          40,
          21,
          14,
          69,
          31,
          31,
          61,
          73,
          45,
          21,
          15,
          47,
          43,
          31,
          26,
          63,
          62,
          60,
          18,
          40,
          51,
          32,
          13,
          18,
          -1409,
          813,
          769,
          20,
          27,
          92,
          21,
          40,
          38,
          67,
          121,
          46,
          67,
          14,
          86,
          66,
          32,
          49,
          33,
          42,
          31,
          72,
          54,
          31,
          8,
          19,
          32,
          26,
          56,
          35,
          75,
          34,
          39,
          47,
          45,
          52,
          13,
          35,
          63,
          45,
          25,
          22,
          26,
          43,
          60,
          20,
          12,
          45,
          53,
          25,
          64,
          16,
          51,
          49,
          39,
          57,
          21,
          90,
          15,
          41,
          31,
          67,
          40,
          36,
          19,
          17,
          44,
          43,
          121,
          50,
          36,
          89,
          13,
          24,
          66,
          82,
          15,
          17,
          25,
          27,
          36,
          104,
          47,
          82,
          53,
          42,
          31,
          32,
          42,
          60,
          49,
          71,
          47,
          24,
          72,
          49,
          44,
          39,
          22,
          36,
          36,
          41,
          45,
          5,
          41,
          67,
          56,
          23,
          31,
          108,
          67,
          38,
          26,
          21,
          84,
          66,
          48,
          50,
          17,
          38,
          67,
          30,
          43,
          89,
          128,
          37,
          22,
          100,
          73,
          47,
          45,
          63,
          36,
          75,
          48,
          47,
          106,
          69,
          15,
          39,
          30,
          40,
          22,
          39,
          112,
          15,
          29,
          17,
          86,
          61,
          23,
          35,
          43,
          70,
          10,
          19,
          12,
          67,
          32,
          35,
          5,
          37,
          38,
          58,
          26,
          38,
          32,
          30,
          25,
          16,
          37,
          24,
          67,
          24,
          17,
          46,
          22,
          14,
          28,
          32,
          77,
          63,
          72,
          19,
          107,
          88,
          89,
          48,
          72,
          12,
          79,
          47,
          48,
          62,
          17,
          20,
          34,
          50,
          37,
          8,
          22,
          16,
          28,
          48,
          65,
          47,
          32,
          22,
          -214,
          22,
          103,
          39,
          49,
          114,
          76,
          8,
          30,
          34,
          29,
          27,
          61,
          29,
          29,
          93,
          6,
          46,
          58,
          120,
          37,
          39,
          36,
          71,
          31,
          66,
          19,
          108,
          35,
          20,
          126,
          82,
          49,
          64,
          30,
          67,
          32,
          38,
          46,
          -1388,
          -1402,
          21,
          39,
          112,
          37,
          37,
          60,
          91,
          29,
          31,
          26,
          22,
          32,
          53,
          41,
          10,
          103,
          35,
          68,
          63,
          45,
          57,
          12,
          -1404,
          47,
          97,
          30,
          78,
          131,
          8,
          31,
          53,
          21,
          14,
          40,
          53,
          36,
          27,
          29,
          28,
          53,
          23,
          48,
          57,
          35,
          31,
          31,
          25,
          47,
          64,
          54,
          72,
          43,
          26,
          61,
          31,
          40,
          25,
          128,
          48,
          10,
          34,
          25,
          39,
          23,
          46,
          85,
          56,
          65,
          22,
          68,
          36,
          72,
          58,
          17,
          79,
          22,
          41,
          23,
          35,
          59,
          100,
          26,
          41,
          17,
          40,
          36,
          70,
          80,
          21,
          35,
          57,
          17,
          48,
          66,
          47,
          46,
          40,
          23,
          63,
          45,
          80,
          20,
          36,
          101,
          25,
          48,
          54,
          24,
          22,
          19,
          46,
          73,
          162,
          38,
          58,
          30,
          20,
          53,
          116,
          29,
          53,
          136,
          34,
          40,
          29,
          51,
          10,
          24,
          52,
          65,
          15,
          38,
          39,
          36,
          37,
          27,
          53,
          36,
          45,
          22,
          52,
          15,
          23,
          51,
          17,
          19,
          51,
          48,
          87,
          68,
          40,
          21,
          138,
          83,
          20,
          30,
          15,
          138,
          25,
          49,
          12,
          98,
          34,
          38,
          15,
          59,
          75,
          26,
          45,
          26,
          22,
          21,
          38,
          36,
          44,
          106,
          48,
          92,
          44,
          39,
          53,
          97,
          126,
          55,
          59,
          83,
          103,
          60,
          24,
          -1418,
          44,
          18,
          0,
          50,
          29,
          14,
          79,
          35,
          59,
          36,
          50,
          34,
          24,
          79,
          59,
          38,
          31,
          33,
          18,
          13,
          0,
          35,
          41,
          22,
          37,
          48,
          6,
          158,
          33,
          60,
          40,
          48,
          22,
          37,
          31,
          50,
          42,
          48,
          38,
          42,
          30,
          15,
          37,
          29,
          113,
          17,
          63,
          29,
          39,
          23,
          11,
          25,
          37,
          22,
          59,
          46,
          33,
          18,
          22,
          26,
          11,
          135,
          36,
          67,
          16,
          36,
          45,
          56,
          11,
          23,
          65,
          107,
          30,
          13,
          52,
          37,
          34,
          83,
          71,
          54,
          88,
          34,
          70,
          35,
          31,
          -1381,
          22,
          12,
          758,
          750,
          42,
          68,
          153,
          41,
          34,
          71,
          25,
          156,
          66,
          170,
          68,
          37,
          37,
          22,
          124,
          34,
          35,
          132,
          19,
          39,
          84,
          73,
          48,
          252,
          120,
          75,
          35,
          41,
          59,
          90,
          141,
          76,
          103,
          63,
          20,
          14,
          24,
          48,
          78,
          44,
          32,
          48,
          43,
          72,
          50,
          54,
          45,
          53,
          24,
          58,
          16,
          85,
          23,
          63,
          40,
          12,
          11,
          27,
          69,
          84,
          15,
          33,
          56,
          44,
          22,
          92,
          65,
          19,
          23,
          72,
          35,
          39,
          24,
          66,
          20,
          40,
          12,
          21,
          39,
          13,
          28,
          22,
          49,
          22,
          54,
          11,
          16,
          35,
          36,
          35,
          24,
          43,
          39,
          16,
          14,
          36,
          27,
          38,
          92,
          13,
          49,
          16,
          35,
          108,
          53,
          30,
          69,
          89,
          74,
          23,
          24,
          37,
          43,
          17,
          154,
          36,
          31,
          33,
          40,
          79,
          26,
          66,
          11,
          72,
          27,
          35,
          27,
          41,
          41,
          24,
          19,
          62,
          28,
          19,
          48,
          10,
          7,
          33,
          29,
          38,
          74,
          73,
          32,
          59,
          34,
          25,
          59,
          20,
          22,
          46,
          52,
          51,
          5,
          45,
          53,
          44,
          41,
          53,
          137,
          41,
          15,
          14,
          48,
          46,
          94,
          24,
          39,
          59,
          62,
          41,
          60,
          24,
          52,
          39,
          50,
          30,
          30,
          44,
          64,
          48,
          21,
          78,
          35,
          35,
          53,
          32,
          183,
          21,
          87,
          28,
          43,
          82,
          85,
          54,
          72,
          26,
          32,
          17,
          31,
          37,
          216,
          90,
          15,
          208,
          29,
          53,
          52,
          46,
          31,
          29,
          181,
          79,
          56,
          31,
          27,
          63,
          65,
          32,
          29,
          36,
          34,
          45,
          56,
          69,
          43,
          30,
          26,
          35,
          37,
          19,
          46,
          57,
          104,
          30,
          51,
          104,
          56,
          41,
          41,
          55,
          25,
          30,
          50,
          89,
          59,
          44,
          34,
          61,
          33,
          22,
          26,
          32,
          24,
          51,
          44,
          28,
          23,
          51,
          99,
          31,
          50,
          113,
          48,
          118,
          31,
          47,
          37,
          37,
          18,
          22,
          55,
          47,
          40,
          15,
          17,
          37,
          41,
          72,
          142,
          56,
          27,
          45,
          25,
          48,
          35,
          18,
          23,
          55,
          14,
          57,
          41,
          63,
          38,
          29,
          32,
          18,
          67,
          75,
          35,
          14,
          37,
          131,
          68,
          62,
          127,
          9,
          15,
          47,
          64,
          55,
          61,
          36,
          89,
          46,
          98,
          26,
          81,
          77,
          99,
          59,
          35,
          26,
          65,
          71,
          37,
          43,
          94,
          15,
          48,
          20,
          37,
          27,
          41,
          40,
          24,
          19,
          39,
          34,
          16,
          6,
          25,
          50,
          37,
          53,
          24,
          26,
          54,
          36,
          46,
          87,
          104,
          28,
          12,
          85,
          102,
          33,
          16,
          43,
          79,
          63,
          55,
          73,
          54,
          27,
          31,
          60,
          175,
          48,
          64,
          19,
          41,
          37,
          23,
          22,
          57,
          59,
          55,
          24,
          29,
          113,
          69,
          26,
          19,
          29,
          54,
          11,
          51,
          30,
          23,
          65,
          54,
          18,
          37,
          11,
          59,
          29,
          36,
          42,
          33,
          32,
          26,
          55,
          29,
          29,
          105,
          95,
          50,
          39,
          22,
          54,
          123,
          29,
          56,
          68,
          32,
          26,
          38,
          51,
          29,
          142,
          51,
          60,
          33,
          17,
          57,
          66,
          37,
          53,
          159,
          24,
          19,
          8,
          22,
          49,
          89,
          27,
          75,
          39,
          41,
          22,
          9,
          38,
          19,
          38,
          35,
          31,
          54,
          27,
          49,
          14,
          24,
          54,
          36,
          130,
          40,
          106,
          43,
          77,
          15,
          58,
          34,
          65,
          20,
          21,
          70,
          57,
          23,
          29,
          13,
          112,
          97,
          18,
          56,
          29,
          16,
          64,
          66,
          14,
          26,
          39,
          40,
          51,
          16,
          69,
          16,
          61,
          30,
          54,
          24,
          44,
          22,
          29,
          49,
          32,
          40,
          30,
          51,
          30,
          22,
          33,
          17,
          44,
          13,
          31,
          69,
          46,
          79,
          4,
          54,
          31,
          37,
          59,
          76,
          23,
          64,
          24,
          37,
          29,
          21,
          28,
          51,
          30,
          94,
          13,
          193,
          44,
          29,
          46,
          47,
          17,
          77,
          8,
          25,
          129,
          25,
          19,
          41,
          24,
          41,
          219,
          30,
          35,
          27,
          25,
          18,
          61,
          41,
          16,
          25,
          128,
          44,
          45,
          33,
          15,
          7,
          97,
          28,
          23,
          13,
          103,
          102,
          25,
          130,
          65,
          42,
          20,
          80,
          15,
          48,
          42,
          36,
          32,
          37,
          75,
          27,
          27,
          25,
          25,
          17,
          26,
          16,
          65,
          140,
          26,
          31,
          43,
          30,
          27,
          59,
          54,
          72,
          57,
          24,
          42,
          34,
          59,
          32,
          40,
          38,
          57,
          74,
          62,
          27,
          25,
          33,
          45,
          101,
          26,
          66,
          41,
          21,
          58,
          89,
          41,
          150,
          114,
          147,
          39,
          45,
          30,
          76,
          88,
          42,
          2,
          52,
          32,
          25,
          24,
          26,
          15,
          31,
          10,
          18,
          23,
          25,
          40,
          19,
          40,
          26,
          24,
          47,
          35,
          58,
          57,
          38,
          38,
          12,
          323,
          27,
          17,
          153,
          106,
          42,
          26,
          53,
          59,
          47,
          48,
          23,
          59,
          74,
          113,
          53,
          29,
          31,
          43,
          60,
          46,
          27,
          34,
          42,
          86,
          78,
          43,
          36,
          49,
          87,
          14,
          46,
          17,
          15,
          48,
          23,
          46,
          34,
          43,
          103,
          94,
          66,
          88,
          30,
          21,
          38,
          80,
          36,
          44,
          24,
          61,
          46,
          26,
          51,
          13,
          16,
          30,
          52,
          29,
          20,
          24,
          45,
          113,
          188,
          29,
          89,
          48,
          18,
          63,
          48,
          77,
          30,
          23,
          23,
          14,
          39,
          25,
          68,
          29,
          71,
          34,
          44,
          76,
          71,
          85,
          56,
          16,
          20,
          108,
          161,
          56,
          64,
          53,
          54,
          21,
          116,
          67,
          85,
          46,
          33,
          40,
          27,
          26,
          39,
          42,
          75,
          32,
          45,
          113,
          121,
          65,
          43,
          51,
          22,
          54,
          15,
          10,
          102,
          19,
          66,
          134,
          10,
          63,
          65,
          16,
          30,
          30,
          48,
          49,
          88,
          49,
          28,
          182,
          28,
          27,
          82,
          31,
          54,
          50,
          54,
          19,
          60,
          47,
          65,
          26,
          64,
          19,
          8,
          48,
          52,
          34,
          41,
          79,
          46,
          11,
          31,
          20,
          50,
          52,
          50,
          34,
          75,
          35,
          85,
          33,
          17,
          56,
          80,
          58,
          12,
          37,
          48,
          15,
          38,
          144,
          39,
          4,
          69,
          34,
          63,
          32,
          16,
          15,
          46,
          28,
          15,
          59,
          38,
          33,
          20,
          71,
          6,
          8,
          17,
          42,
          29,
          40,
          21,
          59,
          58,
          19,
          39,
          36,
          32,
          37,
          50,
          26,
          49,
          30,
          36,
          65,
          55,
          27,
          54,
          39,
          40,
          41,
          33,
          19,
          49,
          51,
          60,
          54,
          163,
          59,
          36,
          88,
          88,
          12,
          29,
          161,
          13,
          51,
          33,
          27,
          46,
          54,
          46,
          64,
          42,
          68,
          40,
          33,
          30,
          36,
          9,
          35,
          40,
          45,
          49,
          87,
          73,
          58,
          34,
          74,
          40,
          53,
          37,
          178,
          29,
          21,
          107,
          35,
          30,
          58,
          21,
          50,
          120,
          27,
          70,
          132,
          25,
          34,
          4,
          24,
          26,
          78,
          14,
          72,
          32,
          24,
          28,
          19,
          42,
          53,
          58,
          56,
          132,
          32,
          16,
          113,
          51,
          34,
          27,
          98,
          46,
          21,
          33,
          49,
          29,
          64,
          32,
          59,
          62,
          39,
          28,
          60,
          58,
          45,
          35,
          15,
          21,
          51,
          44,
          40,
          14,
          25,
          47,
          85,
          31,
          87,
          16,
          32,
          42,
          65,
          106,
          46,
          68,
          13,
          66,
          23,
          24,
          22,
          127,
          34,
          37,
          69,
          115,
          63,
          46,
          27,
          74,
          36,
          25,
          41,
          42,
          89,
          66,
          29,
          46,
          22,
          12,
          18,
          24,
          33,
          53,
          36,
          40,
          46,
          45,
          51,
          60,
          37,
          48,
          26,
          41,
          37,
          39,
          -1371,
          66,
          -1385,
          97,
          20,
          29,
          37,
          108,
          45,
          32,
          82,
          182,
          82,
          68,
          52,
          40,
          53,
          38,
          45,
          37,
          31,
          32,
          22,
          37,
          37,
          23,
          20,
          76,
          38,
          57,
          21,
          87,
          95,
          34,
          60,
          47,
          43,
          72,
          55,
          8,
          39,
          38,
          42,
          45,
          38,
          20,
          158,
          29,
          28,
          28,
          29,
          31,
          20,
          108,
          42,
          25,
          44,
          34,
          87,
          52,
          32,
          24,
          41,
          23,
          37,
          61,
          82,
          54,
          132,
          97,
          55,
          17,
          88,
          51,
          28,
          29,
          25,
          13,
          94,
          36,
          31,
          40,
          33,
          47,
          57,
          35,
          91,
          51,
          46,
          76,
          25,
          79,
          89,
          76,
          55,
          82,
          81,
          188,
          20,
          5,
          48,
          40,
          20,
          24,
          47,
          61,
          36,
          42,
          9,
          33,
          24,
          51,
          73,
          44,
          27,
          22,
          17,
          61,
          39,
          148,
          95,
          31,
          86,
          9,
          21,
          49,
          40,
          29,
          95,
          156,
          33,
          34,
          25,
          54,
          138,
          93,
          37,
          30,
          92,
          28,
          89,
          9,
          31,
          47,
          63,
          28,
          67,
          33,
          116,
          18,
          163,
          44,
          44,
          56,
          55,
          48,
          31,
          50,
          56,
          13,
          25,
          59,
          200,
          110,
          41,
          33,
          18,
          26,
          59,
          296,
          85,
          76,
          42,
          32,
          66,
          54,
          36,
          43,
          30,
          21,
          17,
          40,
          115,
          99,
          27,
          58,
          10,
          148,
          32,
          81,
          16,
          81,
          13,
          266,
          26,
          46,
          58,
          5,
          167,
          160,
          51,
          27,
          54,
          39,
          46,
          47,
          18,
          60,
          30,
          21,
          48,
          57,
          49,
          348,
          330,
          336,
          50,
          54,
          8,
          18,
          17,
          27,
          68,
          44,
          30,
          27,
          35,
          66,
          160,
          58,
          37,
          39,
          4,
          38,
          20,
          75,
          87,
          66,
          22,
          35,
          40,
          62,
          71,
          11,
          36,
          175,
          27,
          45,
          46,
          30,
          70,
          17,
          41,
          62,
          64,
          31,
          69,
          43,
          97,
          102,
          28,
          50,
          9,
          26,
          59,
          63,
          52,
          34,
          59,
          224,
          44,
          105,
          64,
          51,
          -1407,
          10,
          802,
          47,
          28,
          30,
          40,
          52,
          94,
          122,
          17,
          26,
          38,
          41,
          47,
          34,
          51,
          30,
          34,
          33,
          33,
          28,
          39,
          65,
          82,
          51,
          19,
          2,
          53,
          69,
          22,
          32,
          97,
          32,
          9,
          85,
          66,
          40,
          107,
          169,
          34,
          111,
          67,
          30,
          88,
          124,
          21,
          66,
          13,
          53,
          42,
          41,
          40,
          82,
          41,
          38,
          38,
          24,
          35,
          50,
          78,
          42,
          35,
          54,
          88,
          48,
          28,
          17,
          19,
          32,
          14,
          32,
          36,
          27,
          166,
          148,
          46,
          46,
          30,
          160,
          134,
          6,
          81,
          86,
          50,
          36,
          60,
          211,
          60,
          56,
          33,
          83,
          71,
          50,
          36,
          84,
          22,
          10,
          92,
          49,
          37,
          17,
          40,
          64,
          48,
          38,
          36,
          17,
          34,
          26,
          58,
          52,
          121,
          79,
          95,
          29,
          15,
          46,
          43,
          33,
          38,
          14,
          17,
          25,
          25,
          35,
          90,
          93,
          49,
          24,
          52,
          42,
          26,
          68,
          47,
          99,
          34,
          33,
          43,
          31,
          54,
          20,
          78,
          121,
          26,
          35,
          38,
          53,
          27,
          23,
          68,
          63,
          56,
          47,
          33,
          58,
          24,
          30,
          25,
          17,
          36,
          95,
          67,
          36,
          38,
          7,
          36,
          54,
          25,
          14,
          21,
          60,
          40,
          138,
          35,
          26,
          48,
          52,
          29,
          38,
          34,
          30,
          51,
          34,
          56,
          110,
          53,
          67,
          51,
          14,
          126,
          64,
          45,
          46,
          21,
          45,
          33,
          21,
          28,
          25,
          10,
          69,
          41,
          42,
          42,
          45,
          33,
          33,
          18,
          33,
          27,
          23,
          24,
          22,
          74,
          15,
          16,
          72,
          62,
          45,
          7,
          32,
          47,
          19,
          46,
          81,
          82,
          44,
          37,
          70,
          766,
          755,
          42,
          45,
          39,
          21,
          44,
          68,
          34,
          69,
          58,
          45,
          202,
          183,
          54,
          112,
          69,
          22,
          20,
          21,
          44,
          72,
          47,
          90,
          26,
          24,
          38,
          13,
          29,
          115,
          39,
          37,
          21,
          64,
          17,
          47,
          27,
          5,
          11,
          26,
          42,
          33,
          83,
          44,
          36,
          34,
          18,
          61,
          51,
          39,
          11,
          8,
          39,
          14,
          761,
          24,
          74
         ],
         "y0": " ",
         "yaxis": "y"
        },
        {
         "hoverinfo": "skip",
         "marker": {
          "color": "green",
          "opacity": 0.5
         },
         "type": "box",
         "x": [
          1,
          1,
          0,
          2,
          2,
          2,
          3,
          1,
          2,
          1,
          1,
          3,
          2,
          3,
          3,
          1,
          0,
          1,
          2,
          3,
          1,
          1,
          2,
          1,
          1,
          3,
          2,
          3,
          2,
          2,
          1,
          2,
          3,
          1,
          3,
          1,
          2,
          3,
          1,
          3,
          1,
          2,
          3,
          1,
          3,
          2,
          1,
          3,
          1,
          3,
          2,
          1,
          3,
          1,
          1,
          2,
          3,
          1,
          2,
          3,
          1,
          2,
          1,
          1,
          3,
          2,
          1,
          1,
          2,
          1,
          3,
          1,
          3,
          2,
          1,
          2,
          3,
          1,
          1,
          2,
          1,
          2,
          1,
          3,
          3,
          1,
          2,
          2,
          3,
          2,
          3,
          1,
          2,
          3,
          1,
          3,
          2,
          3,
          1,
          2,
          2,
          3,
          2,
          1,
          3,
          2,
          1,
          3,
          2,
          2,
          2,
          3,
          3,
          2,
          3,
          1,
          2,
          3,
          1,
          3,
          1,
          3,
          1,
          2,
          1,
          1,
          3,
          2,
          2,
          1,
          3,
          3,
          1,
          2,
          2,
          3,
          2,
          1,
          3,
          3,
          1,
          3,
          2,
          2,
          1,
          3,
          3,
          1,
          2,
          1,
          2,
          1,
          3,
          3,
          1,
          3,
          2,
          1,
          2,
          1,
          1,
          3,
          2,
          2,
          1,
          3,
          2,
          3,
          1,
          2,
          1,
          3,
          2,
          3,
          1,
          1,
          3,
          2,
          1,
          3,
          3,
          1,
          2,
          2,
          1,
          3,
          3,
          2,
          3,
          2,
          1,
          1,
          2,
          3,
          3,
          1,
          2,
          1,
          3,
          3,
          1,
          1,
          2,
          3,
          2,
          1,
          3,
          3,
          2,
          1,
          2,
          3,
          1,
          2,
          1,
          3,
          2,
          1,
          1,
          2,
          1,
          2,
          3,
          1,
          1,
          2,
          3,
          1,
          1,
          2,
          1,
          2,
          1,
          2,
          3,
          1,
          2,
          1,
          3,
          1,
          2,
          1,
          1,
          1,
          1,
          2,
          2,
          1,
          3,
          1,
          3,
          3,
          1,
          3,
          2,
          1,
          1,
          2,
          3,
          1,
          3,
          2,
          2,
          3,
          1,
          3,
          1,
          2,
          3,
          2,
          1,
          2,
          1,
          2,
          3,
          2,
          1,
          1,
          3,
          1,
          2,
          1,
          3,
          1,
          2,
          1,
          3,
          2,
          1,
          2,
          3,
          1,
          1,
          3,
          1,
          2,
          3,
          2,
          1,
          3,
          1,
          3,
          1,
          2,
          2,
          1,
          2,
          3,
          1,
          2,
          2,
          1,
          1,
          2,
          3,
          1,
          1,
          3,
          2,
          2,
          3,
          1,
          1,
          3,
          0,
          1,
          2,
          3,
          2,
          3,
          2,
          1,
          2,
          2,
          1,
          3,
          2,
          1,
          3,
          2,
          2,
          1,
          1,
          2,
          3,
          3,
          1,
          2,
          3,
          1,
          2,
          3,
          2,
          1,
          1,
          2,
          3,
          2,
          3,
          1,
          1,
          1,
          0,
          2,
          2,
          1,
          3,
          2,
          2,
          1,
          2,
          1,
          3,
          2,
          2,
          3,
          1,
          3,
          1,
          3,
          3,
          1,
          2,
          1,
          3,
          2,
          1,
          1,
          1,
          2,
          3,
          2,
          3,
          1,
          2,
          3,
          2,
          2,
          3,
          1,
          1,
          2,
          3,
          1,
          2,
          3,
          1,
          1,
          1,
          1,
          3,
          2,
          3,
          1,
          2,
          3,
          2,
          1,
          2,
          3,
          3,
          1,
          2,
          3,
          3,
          2,
          3,
          1,
          2,
          2,
          2,
          1,
          3,
          2,
          3,
          3,
          1,
          2,
          1,
          3,
          3,
          2,
          1,
          2,
          1,
          2,
          3,
          1,
          1,
          3,
          1,
          2,
          3,
          1,
          1,
          3,
          3,
          2,
          3,
          1,
          1,
          1,
          2,
          3,
          1,
          3,
          2,
          3,
          1,
          3,
          1,
          2,
          3,
          1,
          2,
          1,
          3,
          3,
          2,
          1,
          1,
          3,
          1,
          3,
          1,
          3,
          1,
          1,
          2,
          3,
          1,
          1,
          2,
          1,
          3,
          3,
          3,
          1,
          3,
          2,
          3,
          1,
          3,
          1,
          3,
          2,
          3,
          1,
          2,
          2,
          3,
          2,
          1,
          1,
          3,
          2,
          1,
          2,
          3,
          1,
          2,
          3,
          3,
          1,
          3,
          2,
          1,
          3,
          2,
          1,
          2,
          2,
          3,
          2,
          1,
          2,
          3,
          1,
          2,
          1,
          3,
          1,
          1,
          2,
          3,
          1,
          2,
          3,
          1,
          1,
          3,
          3,
          1,
          1,
          2,
          3,
          1,
          1,
          2,
          1,
          3,
          1,
          3,
          1,
          2,
          3,
          1,
          3,
          2,
          1,
          2,
          3,
          1,
          1,
          2,
          3,
          2,
          1,
          1,
          3,
          3,
          1,
          2,
          1,
          2,
          3,
          2,
          1,
          3,
          2,
          1,
          3,
          1,
          2,
          1,
          3,
          1,
          2,
          3,
          3,
          2,
          3,
          3,
          1,
          3,
          3,
          2,
          1,
          1,
          2,
          1,
          2,
          2,
          1,
          2,
          1,
          3,
          2,
          2,
          1,
          3,
          3,
          1,
          2,
          1,
          2,
          3,
          1,
          2,
          1,
          2,
          1,
          3,
          3,
          1,
          2,
          2,
          1,
          3,
          2,
          1,
          2,
          1,
          3,
          2,
          1,
          3,
          1,
          2,
          2,
          1,
          2,
          3,
          1,
          2,
          3,
          1,
          3,
          3,
          2,
          1,
          3,
          1,
          3,
          3,
          1,
          2,
          3,
          2,
          3,
          1,
          1,
          3,
          3,
          2,
          3,
          1,
          2,
          2,
          2,
          3,
          1,
          1,
          3,
          2,
          1,
          3,
          0,
          0,
          2,
          1,
          1,
          3,
          3,
          1,
          3,
          3,
          3,
          1,
          2,
          3,
          1,
          2,
          2,
          1,
          3,
          3,
          1,
          1,
          2,
          3,
          1,
          3,
          2,
          1,
          1,
          1,
          3,
          2,
          1,
          3,
          3,
          3,
          1,
          1,
          2,
          1,
          2,
          3,
          1,
          2,
          1,
          1,
          3,
          2,
          3,
          1,
          2,
          1,
          1,
          3,
          2,
          1,
          3,
          1,
          2,
          3,
          2,
          2,
          3,
          1,
          2,
          2,
          3,
          2,
          1,
          2,
          3,
          1,
          2,
          2,
          1,
          3,
          3,
          2,
          2,
          1,
          3,
          2,
          3,
          1,
          3,
          2,
          3,
          2,
          3,
          2,
          3,
          2,
          3,
          1,
          2,
          1,
          3,
          3,
          2,
          1,
          1,
          1,
          1,
          2,
          3,
          2,
          2,
          3,
          3,
          1,
          2,
          3,
          1,
          1,
          3,
          1,
          2,
          3,
          2,
          1,
          3,
          1,
          2,
          3,
          1,
          3,
          1,
          2,
          3,
          1,
          2,
          3,
          1,
          0,
          2,
          2,
          3,
          1,
          1,
          2,
          3,
          3,
          2,
          1,
          3,
          2,
          1,
          3,
          2,
          1,
          3,
          2,
          1,
          3,
          1,
          3,
          2,
          1,
          3,
          3,
          2,
          3,
          1,
          3,
          2,
          0,
          2,
          3,
          1,
          3,
          2,
          3,
          2,
          2,
          1,
          1,
          2,
          2,
          3,
          3,
          1,
          1,
          3,
          2,
          2,
          3,
          1,
          1,
          3,
          2,
          1,
          3,
          2,
          3,
          2,
          3,
          1,
          2,
          3,
          2,
          2,
          3,
          2,
          1,
          1,
          3,
          1,
          2,
          1,
          3,
          1,
          2,
          2,
          1,
          3,
          1,
          3,
          2,
          3,
          1,
          3,
          1,
          2,
          2,
          3,
          2,
          3,
          1,
          2,
          3,
          2,
          3,
          1,
          3,
          2,
          3,
          3,
          1,
          2,
          3,
          1,
          2,
          1,
          2,
          1,
          3,
          2,
          1,
          2,
          3,
          1,
          1,
          1,
          3,
          1,
          3,
          2,
          1,
          3,
          3,
          2,
          1,
          3,
          2,
          1,
          3,
          1,
          2,
          3,
          1,
          2,
          1,
          3,
          3,
          3,
          1,
          2,
          1,
          3,
          1,
          1,
          3,
          2,
          1,
          3,
          1,
          2,
          3,
          1,
          2,
          3,
          1,
          2,
          1,
          2,
          1,
          3,
          3,
          3,
          2,
          3,
          2,
          3,
          2,
          1,
          2,
          2,
          1,
          3,
          2,
          2,
          1,
          3,
          2,
          1,
          3,
          2,
          1,
          3,
          3,
          2,
          1,
          3,
          1,
          2,
          3,
          2,
          1,
          3,
          2,
          1,
          2,
          2,
          1,
          3,
          3,
          1,
          1,
          2,
          3,
          1,
          2,
          2,
          1,
          2,
          3,
          1,
          3,
          2,
          1,
          3,
          1,
          2,
          3,
          1,
          1,
          3,
          1,
          2,
          2,
          1,
          3,
          3,
          1,
          3,
          1,
          3,
          2,
          1,
          3,
          1,
          1,
          2,
          3,
          1,
          3,
          1,
          1,
          1,
          1,
          3,
          2,
          3,
          3,
          1,
          2,
          2,
          2,
          1,
          2,
          1,
          3,
          1,
          3,
          2,
          1,
          2,
          3,
          1,
          2,
          0,
          0,
          1,
          3,
          2,
          1,
          2,
          3,
          1,
          2,
          3,
          1,
          3,
          3,
          2,
          1,
          3,
          2,
          1,
          3,
          2,
          1,
          1,
          3,
          1,
          2,
          3,
          1,
          1,
          3,
          3,
          3,
          2,
          1,
          2,
          3,
          1,
          2,
          2,
          2,
          1,
          3,
          1,
          3,
          2,
          1,
          2,
          1,
          3,
          2,
          3,
          2,
          1,
          3,
          2,
          1,
          3,
          1,
          3,
          2,
          3,
          2,
          1,
          1,
          1,
          3,
          1,
          3,
          2,
          1,
          3,
          1,
          3,
          2,
          1,
          1,
          1,
          1,
          2,
          3,
          1,
          3,
          1,
          3,
          2,
          1,
          2,
          1,
          3,
          1,
          2,
          1,
          2,
          2,
          1,
          2,
          1,
          3,
          2,
          2,
          3,
          3,
          2,
          3,
          1,
          2,
          2,
          1,
          2,
          1,
          1,
          2,
          3,
          1,
          1,
          2,
          3,
          1,
          2,
          1,
          2,
          3,
          1,
          3,
          2,
          2,
          2,
          3,
          1,
          1,
          3,
          3,
          2,
          3,
          2,
          3,
          2,
          1,
          2,
          3,
          2,
          1,
          2,
          3,
          2,
          1,
          1,
          3,
          1,
          2,
          3,
          2,
          1,
          1,
          3,
          2,
          1,
          1,
          2,
          2,
          3,
          2,
          3,
          1,
          1,
          1,
          1,
          2,
          3,
          1,
          2,
          3,
          2,
          1,
          2,
          1,
          3,
          3,
          3,
          2,
          1,
          1,
          1,
          3,
          2,
          1,
          3,
          2,
          1,
          3,
          3,
          1,
          2,
          3,
          2,
          2,
          3,
          2,
          1,
          2,
          1,
          3,
          2,
          1,
          1,
          2,
          3,
          3,
          2,
          3,
          2,
          1,
          2,
          1,
          3,
          1,
          2,
          3,
          2,
          1,
          2,
          2,
          1,
          3,
          1,
          3,
          2,
          1,
          3,
          2,
          1,
          3,
          2,
          1,
          3,
          2,
          1,
          1,
          3,
          1,
          3,
          1,
          3,
          2,
          1,
          3,
          2,
          3,
          2,
          2,
          3,
          1,
          2,
          1,
          3,
          0,
          0,
          2,
          3,
          2,
          1,
          3,
          1,
          3,
          3,
          1,
          3,
          2,
          3,
          1,
          3,
          2,
          1,
          3,
          1,
          3,
          2,
          1,
          3,
          1,
          2,
          1,
          1,
          0,
          3,
          2,
          1,
          3,
          3,
          2,
          1,
          3,
          3,
          2,
          2,
          3,
          1,
          1,
          1,
          3,
          2,
          3,
          1,
          2,
          1,
          2,
          3,
          1,
          1,
          2,
          1,
          3,
          2,
          2,
          3,
          3,
          1,
          1,
          3,
          2,
          3,
          1,
          2,
          3,
          3,
          1,
          1,
          3,
          3,
          1,
          3,
          2,
          1,
          1,
          3,
          2,
          3,
          2,
          3,
          1,
          2,
          2,
          1,
          1,
          3,
          3,
          2,
          2,
          1,
          3,
          1,
          2,
          2,
          1,
          1,
          2,
          1,
          1,
          1,
          3,
          2,
          3,
          2,
          3,
          2,
          1,
          1,
          2,
          3,
          1,
          2,
          3,
          1,
          2,
          3,
          1,
          1,
          1,
          2,
          3,
          2,
          1,
          3,
          0,
          1,
          2,
          3,
          3,
          1,
          2,
          3,
          1,
          2,
          2,
          3,
          1,
          3,
          2,
          1,
          3,
          0,
          2,
          3,
          2,
          2,
          1,
          3,
          2,
          3,
          1,
          1,
          3,
          3,
          1,
          3,
          2,
          1,
          3,
          1,
          2,
          3,
          1,
          2,
          3,
          2,
          3,
          1,
          2,
          2,
          3,
          3,
          1,
          2,
          2,
          3,
          1,
          2,
          3,
          1,
          2,
          1,
          3,
          1,
          2,
          1,
          3,
          2,
          1,
          3,
          3,
          1,
          2,
          3,
          3,
          1,
          1,
          3,
          3,
          1,
          3,
          1,
          3,
          2,
          3,
          1,
          2,
          1,
          3,
          2,
          1,
          3,
          2,
          1,
          3,
          3,
          3,
          2,
          3,
          2,
          2,
          3,
          3,
          1,
          3,
          2,
          1,
          3,
          2,
          3,
          1,
          2,
          2,
          3,
          1,
          2,
          1,
          3,
          2,
          1,
          3,
          1,
          3,
          1,
          1,
          2,
          1,
          3,
          2,
          2,
          1,
          3,
          1,
          2,
          3,
          1,
          3,
          2,
          2,
          3,
          2,
          1,
          0,
          1,
          2,
          3,
          2,
          3,
          1,
          1,
          3,
          1,
          2,
          1,
          2,
          3,
          1,
          2,
          2,
          3,
          2,
          2,
          3,
          1,
          3,
          2,
          3,
          2,
          2,
          1,
          2,
          1,
          3,
          1,
          2,
          1,
          2,
          1,
          2,
          1,
          1,
          2,
          3,
          1,
          1,
          2,
          1,
          2,
          3,
          1,
          2,
          1,
          2,
          3,
          1,
          3,
          1,
          2,
          3,
          1,
          2,
          1,
          3,
          2,
          2,
          1,
          2,
          3,
          0,
          0,
          1,
          2,
          2,
          3,
          2,
          1,
          2,
          1,
          3,
          2,
          1,
          3,
          2,
          3,
          1,
          3,
          2,
          1,
          2,
          1,
          1,
          2,
          1,
          2,
          3,
          2,
          1,
          2,
          3,
          2,
          1,
          1,
          3,
          2,
          2,
          3,
          1,
          2,
          2,
          1,
          2,
          1,
          3,
          3,
          3,
          1,
          2,
          1,
          3,
          1,
          1,
          3,
          2,
          2,
          3,
          2,
          1,
          1,
          2,
          3,
          2,
          3,
          3,
          2,
          1,
          1,
          1,
          2,
          3,
          3,
          2,
          1,
          1,
          1,
          2,
          3,
          1,
          2,
          3,
          3,
          1,
          3,
          1,
          2,
          3,
          1,
          2,
          2,
          1,
          1,
          3,
          2,
          1,
          2,
          3,
          1,
          2,
          1,
          3,
          1,
          2,
          3,
          1,
          3,
          2,
          1,
          2,
          1,
          3,
          1,
          3,
          2,
          2,
          1,
          2,
          2,
          3,
          3,
          2,
          3,
          2,
          3,
          1,
          2,
          3,
          2,
          1,
          1,
          3,
          3,
          1,
          2,
          3,
          1,
          2,
          3,
          3,
          1,
          2,
          3,
          2,
          1,
          3,
          2,
          3,
          2,
          2,
          2,
          1,
          2,
          3,
          1,
          2,
          1,
          3,
          3,
          2,
          2,
          3,
          3,
          2,
          1,
          2,
          2,
          1,
          3,
          3,
          1,
          2,
          3,
          1,
          2,
          3,
          3,
          1,
          1,
          3,
          3,
          1,
          2,
          2,
          1,
          2,
          1,
          2,
          3,
          1,
          2,
          3,
          2,
          1,
          2,
          3,
          1,
          3,
          1,
          2,
          3,
          1,
          2,
          2,
          3,
          2,
          1,
          2,
          3,
          2,
          3,
          1,
          2,
          3,
          2,
          2,
          1,
          3,
          3,
          1,
          2,
          3,
          3,
          2,
          3,
          1,
          1,
          2,
          1,
          1,
          3,
          1,
          2,
          1,
          3,
          2,
          1,
          3,
          3,
          2,
          3,
          2,
          3,
          1,
          2,
          3,
          1,
          2,
          3,
          1,
          3,
          2,
          1,
          3,
          1,
          2,
          3,
          2,
          1,
          1,
          1,
          3,
          1,
          2,
          1,
          3,
          2,
          1,
          2,
          1,
          1,
          3,
          1,
          2,
          1,
          3,
          2,
          3,
          3,
          1,
          2,
          3,
          1,
          2,
          1,
          1,
          2,
          3,
          3,
          1,
          3,
          2,
          3,
          1,
          2,
          3,
          1,
          1,
          3,
          2,
          3,
          1,
          2,
          1,
          2,
          1,
          2,
          1,
          3,
          2,
          2,
          3,
          1,
          2,
          3,
          2,
          1,
          1,
          3,
          2,
          1,
          2,
          3,
          1,
          2,
          2,
          1,
          2,
          3,
          1,
          2,
          1,
          1,
          3,
          2,
          0,
          3,
          2,
          1,
          2,
          1,
          3,
          2,
          3,
          2,
          2,
          1,
          3,
          2,
          1,
          2,
          3,
          1,
          1,
          1,
          1,
          2,
          2,
          1,
          2,
          3,
          1,
          3,
          2,
          3,
          2,
          1,
          3,
          2,
          2,
          3,
          3,
          1,
          2,
          1,
          3,
          3,
          1,
          1,
          1,
          2,
          3,
          3,
          1,
          2,
          3,
          1,
          3,
          2,
          1,
          3,
          3,
          1,
          3,
          2,
          1,
          1,
          3,
          1,
          1,
          1,
          3,
          1,
          2,
          3,
          2,
          2,
          1,
          2,
          1,
          3,
          2,
          1,
          3,
          3,
          3,
          1,
          2,
          3,
          3,
          3,
          2,
          2,
          3,
          3,
          3,
          3,
          3,
          3,
          3,
          3,
          3,
          1,
          3,
          3,
          3,
          3,
          1,
          2,
          2,
          3,
          2,
          1,
          3,
          1,
          1,
          2,
          2,
          3,
          3,
          1,
          3,
          3,
          1,
          0,
          2,
          1,
          2,
          1,
          2,
          2,
          3,
          1,
          2,
          1,
          2,
          1,
          2,
          1,
          3,
          1,
          3,
          1,
          2,
          1,
          3,
          2,
          1,
          1,
          3,
          2,
          1,
          3,
          1,
          2,
          2,
          1,
          0,
          1,
          2,
          1,
          3,
          2,
          2,
          3,
          1,
          2,
          3,
          1,
          3,
          2,
          2,
          2,
          1,
          1,
          2,
          2,
          1,
          2,
          1,
          3,
          1,
          1,
          2,
          3,
          2,
          1,
          3,
          1,
          3,
          2,
          1,
          3,
          1,
          2,
          3,
          2,
          1,
          1,
          2,
          1,
          2,
          3,
          3,
          1,
          3,
          3,
          1,
          2,
          2,
          2,
          3,
          2,
          1,
          3,
          1,
          2,
          3,
          1,
          1,
          3,
          2,
          1,
          3,
          2,
          3,
          2,
          3,
          1,
          1,
          2,
          3,
          1,
          1,
          3,
          2,
          1,
          3,
          2,
          2,
          0,
          1,
          2,
          1,
          3,
          3,
          2,
          2,
          2,
          1,
          1,
          1,
          3,
          2,
          3,
          2,
          1,
          1,
          2,
          3,
          1,
          3,
          3,
          2,
          1,
          2,
          1,
          3,
          2,
          2,
          1,
          3,
          2,
          1,
          3,
          3,
          3,
          1,
          3,
          2,
          3,
          2,
          1,
          3,
          2,
          1,
          3,
          2,
          3,
          3,
          2,
          1,
          3,
          2,
          3,
          1,
          1,
          3,
          1,
          2,
          1,
          3,
          1,
          1,
          2,
          1,
          3,
          3,
          1,
          2,
          3,
          1,
          2,
          3,
          1,
          2,
          3,
          1,
          1,
          1,
          2,
          1,
          2,
          3,
          1,
          2,
          3,
          3,
          1,
          2,
          3,
          1,
          2,
          3,
          1,
          3,
          3,
          1,
          1,
          2,
          3,
          1,
          2,
          2,
          3,
          2,
          1,
          3,
          1,
          2,
          3,
          3,
          2,
          1,
          3,
          2,
          3,
          1,
          2,
          1,
          3,
          2,
          2,
          3,
          1,
          2,
          3,
          1,
          3,
          1,
          1,
          3,
          2,
          1,
          2,
          1,
          2,
          3,
          2,
          1,
          1,
          3,
          2,
          1,
          3,
          2,
          3,
          1,
          3,
          2,
          1,
          2,
          3,
          1,
          2,
          1,
          1,
          2,
          3,
          2,
          3,
          1,
          3,
          1,
          1,
          2,
          3,
          3,
          2,
          1,
          1,
          1,
          2,
          1,
          3,
          1,
          2,
          3,
          1,
          2,
          1,
          3,
          2,
          1,
          2,
          3,
          3,
          1,
          1,
          3,
          2,
          3,
          1,
          1,
          2,
          3,
          2,
          1,
          2,
          3,
          3,
          1,
          2,
          2,
          1,
          2,
          1,
          1,
          3,
          1,
          2,
          1,
          3,
          2,
          2,
          3,
          2,
          1,
          3,
          2,
          2,
          3,
          2,
          1,
          2,
          2,
          3,
          1,
          3,
          1,
          2,
          3,
          2,
          3,
          3,
          1,
          2,
          1,
          1,
          2,
          1,
          2,
          1,
          3,
          2
         ],
         "y": [
          32,
          17,
          65,
          25,
          30,
          25,
          67,
          12,
          22,
          32,
          11,
          14,
          9,
          34,
          11,
          6,
          24,
          25,
          40,
          35,
          12,
          15,
          15,
          25,
          67,
          16,
          22,
          21,
          12,
          13,
          33,
          27,
          41,
          24,
          71,
          33,
          66,
          25,
          40,
          17,
          27,
          30,
          41,
          50,
          44,
          124,
          15,
          69,
          55,
          15,
          80,
          30,
          53,
          38,
          34,
          78,
          70,
          53,
          57,
          78,
          47,
          39,
          28,
          13,
          97,
          41,
          32,
          22,
          56,
          14,
          19,
          26,
          35,
          19,
          36,
          56,
          20,
          18,
          9,
          11,
          15,
          49,
          34,
          28,
          21,
          60,
          15,
          14,
          18,
          23,
          28,
          36,
          73,
          32,
          37,
          26,
          14,
          27,
          46,
          28,
          11,
          10,
          56,
          51,
          29,
          29,
          85,
          188,
          40,
          38,
          52,
          24,
          31,
          36,
          17,
          13,
          142,
          58,
          67,
          73,
          52,
          60,
          10,
          61,
          26,
          74,
          42,
          17,
          38,
          16,
          10,
          54,
          97,
          32,
          50,
          81,
          117,
          102,
          22,
          34,
          51,
          55,
          -98,
          67,
          42,
          30,
          117,
          36,
          68,
          57,
          61,
          39,
          34,
          28,
          34,
          72,
          32,
          16,
          19,
          13,
          41,
          48,
          6,
          21,
          29,
          10,
          5,
          25,
          34,
          27,
          51,
          22,
          107,
          81,
          27,
          66,
          48,
          21,
          43,
          29,
          65,
          25,
          16,
          34,
          33,
          22,
          32,
          29,
          37,
          -1411,
          29,
          764,
          22,
          19,
          28,
          26,
          72,
          63,
          22,
          50,
          27,
          51,
          39,
          32,
          34,
          51,
          32,
          51,
          25,
          44,
          53,
          130,
          53,
          50,
          42,
          45,
          77,
          46,
          73,
          21,
          24,
          87,
          89,
          67,
          52,
          127,
          242,
          72,
          34,
          54,
          29,
          65,
          60,
          49,
          39,
          30,
          29,
          25,
          -1279,
          32,
          -1360,
          27,
          -1414,
          25,
          42,
          18,
          207,
          16,
          48,
          97,
          17,
          74,
          79,
          64,
          50,
          30,
          54,
          71,
          56,
          68,
          56,
          31,
          65,
          18,
          57,
          63,
          44,
          24,
          68,
          13,
          30,
          75,
          12,
          37,
          81,
          103,
          39,
          30,
          81,
          30,
          66,
          23,
          95,
          25,
          76,
          85,
          55,
          15,
          41,
          44,
          48,
          31,
          44,
          54,
          26,
          35,
          15,
          66,
          16,
          51,
          19,
          108,
          53,
          19,
          32,
          46,
          53,
          64,
          52,
          35,
          39,
          25,
          38,
          84,
          17,
          15,
          37,
          55,
          25,
          38,
          76,
          21,
          59,
          29,
          32,
          43,
          22,
          40,
          30,
          26,
          30,
          45,
          38,
          70,
          82,
          71,
          17,
          29,
          122,
          25,
          54,
          31,
          34,
          25,
          37,
          31,
          38,
          32,
          34,
          54,
          25,
          59,
          16,
          10,
          35,
          29,
          13,
          39,
          16,
          40,
          21,
          14,
          69,
          31,
          31,
          61,
          73,
          45,
          21,
          15,
          47,
          43,
          31,
          26,
          63,
          62,
          60,
          18,
          40,
          51,
          32,
          13,
          18,
          -1409,
          813,
          769,
          20,
          27,
          92,
          21,
          40,
          38,
          67,
          121,
          46,
          67,
          14,
          86,
          66,
          32,
          49,
          33,
          42,
          31,
          72,
          54,
          31,
          8,
          19,
          32,
          26,
          56,
          35,
          75,
          34,
          39,
          47,
          45,
          52,
          13,
          35,
          63,
          45,
          25,
          22,
          26,
          43,
          60,
          20,
          12,
          45,
          53,
          25,
          64,
          16,
          51,
          49,
          39,
          57,
          21,
          90,
          15,
          41,
          31,
          67,
          40,
          36,
          19,
          17,
          44,
          43,
          121,
          50,
          36,
          89,
          13,
          24,
          66,
          82,
          15,
          17,
          25,
          27,
          36,
          104,
          47,
          82,
          53,
          42,
          31,
          32,
          42,
          60,
          49,
          71,
          47,
          24,
          72,
          49,
          44,
          39,
          22,
          36,
          36,
          41,
          45,
          5,
          41,
          67,
          56,
          23,
          31,
          108,
          67,
          38,
          26,
          21,
          84,
          66,
          48,
          50,
          17,
          38,
          67,
          30,
          43,
          89,
          128,
          37,
          22,
          100,
          73,
          47,
          45,
          63,
          36,
          75,
          48,
          47,
          106,
          69,
          15,
          39,
          30,
          40,
          22,
          39,
          112,
          15,
          29,
          17,
          86,
          61,
          23,
          35,
          43,
          70,
          10,
          19,
          12,
          67,
          32,
          35,
          5,
          37,
          38,
          58,
          26,
          38,
          32,
          30,
          25,
          16,
          37,
          24,
          67,
          24,
          17,
          46,
          22,
          14,
          28,
          32,
          77,
          63,
          72,
          19,
          107,
          88,
          89,
          48,
          72,
          12,
          79,
          47,
          48,
          62,
          17,
          20,
          34,
          50,
          37,
          8,
          22,
          16,
          28,
          48,
          65,
          47,
          32,
          22,
          -214,
          22,
          103,
          39,
          49,
          114,
          76,
          8,
          30,
          34,
          29,
          27,
          61,
          29,
          29,
          93,
          6,
          46,
          58,
          120,
          37,
          39,
          36,
          71,
          31,
          66,
          19,
          108,
          35,
          20,
          126,
          82,
          49,
          64,
          30,
          67,
          32,
          38,
          46,
          -1388,
          -1402,
          21,
          39,
          112,
          37,
          37,
          60,
          91,
          29,
          31,
          26,
          22,
          32,
          53,
          41,
          10,
          103,
          35,
          68,
          63,
          45,
          57,
          12,
          -1404,
          47,
          97,
          30,
          78,
          131,
          8,
          31,
          53,
          21,
          14,
          40,
          53,
          36,
          27,
          29,
          28,
          53,
          23,
          48,
          57,
          35,
          31,
          31,
          25,
          47,
          64,
          54,
          72,
          43,
          26,
          61,
          31,
          40,
          25,
          128,
          48,
          10,
          34,
          25,
          39,
          23,
          46,
          85,
          56,
          65,
          22,
          68,
          36,
          72,
          58,
          17,
          79,
          22,
          41,
          23,
          35,
          59,
          100,
          26,
          41,
          17,
          40,
          36,
          70,
          80,
          21,
          35,
          57,
          17,
          48,
          66,
          47,
          46,
          40,
          23,
          63,
          45,
          80,
          20,
          36,
          101,
          25,
          48,
          54,
          24,
          22,
          19,
          46,
          73,
          162,
          38,
          58,
          30,
          20,
          53,
          116,
          29,
          53,
          136,
          34,
          40,
          29,
          51,
          10,
          24,
          52,
          65,
          15,
          38,
          39,
          36,
          37,
          27,
          53,
          36,
          45,
          22,
          52,
          15,
          23,
          51,
          17,
          19,
          51,
          48,
          87,
          68,
          40,
          21,
          138,
          83,
          20,
          30,
          15,
          138,
          25,
          49,
          12,
          98,
          34,
          38,
          15,
          59,
          75,
          26,
          45,
          26,
          22,
          21,
          38,
          36,
          44,
          106,
          48,
          92,
          44,
          39,
          53,
          97,
          126,
          55,
          59,
          83,
          103,
          60,
          24,
          -1418,
          44,
          18,
          0,
          50,
          29,
          14,
          79,
          35,
          59,
          36,
          50,
          34,
          24,
          79,
          59,
          38,
          31,
          33,
          18,
          13,
          0,
          35,
          41,
          22,
          37,
          48,
          6,
          158,
          33,
          60,
          40,
          48,
          22,
          37,
          31,
          50,
          42,
          48,
          38,
          42,
          30,
          15,
          37,
          29,
          113,
          17,
          63,
          29,
          39,
          23,
          11,
          25,
          37,
          22,
          59,
          46,
          33,
          18,
          22,
          26,
          11,
          135,
          36,
          67,
          16,
          36,
          45,
          56,
          11,
          23,
          65,
          107,
          30,
          13,
          52,
          37,
          34,
          83,
          71,
          54,
          88,
          34,
          70,
          35,
          31,
          -1381,
          22,
          12,
          758,
          750,
          42,
          68,
          153,
          41,
          34,
          71,
          25,
          156,
          66,
          170,
          68,
          37,
          37,
          22,
          124,
          34,
          35,
          132,
          19,
          39,
          84,
          73,
          48,
          252,
          120,
          75,
          35,
          41,
          59,
          90,
          141,
          76,
          103,
          63,
          20,
          14,
          24,
          48,
          78,
          44,
          32,
          48,
          43,
          72,
          50,
          54,
          45,
          53,
          24,
          58,
          16,
          85,
          23,
          63,
          40,
          12,
          11,
          27,
          69,
          84,
          15,
          33,
          56,
          44,
          22,
          92,
          65,
          19,
          23,
          72,
          35,
          39,
          24,
          66,
          20,
          40,
          12,
          21,
          39,
          13,
          28,
          22,
          49,
          22,
          54,
          11,
          16,
          35,
          36,
          35,
          24,
          43,
          39,
          16,
          14,
          36,
          27,
          38,
          92,
          13,
          49,
          16,
          35,
          108,
          53,
          30,
          69,
          89,
          74,
          23,
          24,
          37,
          43,
          17,
          154,
          36,
          31,
          33,
          40,
          79,
          26,
          66,
          11,
          72,
          27,
          35,
          27,
          41,
          41,
          24,
          19,
          62,
          28,
          19,
          48,
          10,
          7,
          33,
          29,
          38,
          74,
          73,
          32,
          59,
          34,
          25,
          59,
          20,
          22,
          46,
          52,
          51,
          5,
          45,
          53,
          44,
          41,
          53,
          137,
          41,
          15,
          14,
          48,
          46,
          94,
          24,
          39,
          59,
          62,
          41,
          60,
          24,
          52,
          39,
          50,
          30,
          30,
          44,
          64,
          48,
          21,
          78,
          35,
          35,
          53,
          32,
          183,
          21,
          87,
          28,
          43,
          82,
          85,
          54,
          72,
          26,
          32,
          17,
          31,
          37,
          216,
          90,
          15,
          208,
          29,
          53,
          52,
          46,
          31,
          29,
          181,
          79,
          56,
          31,
          27,
          63,
          65,
          32,
          29,
          36,
          34,
          45,
          56,
          69,
          43,
          30,
          26,
          35,
          37,
          19,
          46,
          57,
          104,
          30,
          51,
          104,
          56,
          41,
          41,
          55,
          25,
          30,
          50,
          89,
          59,
          44,
          34,
          61,
          33,
          22,
          26,
          32,
          24,
          51,
          44,
          28,
          23,
          51,
          99,
          31,
          50,
          113,
          48,
          118,
          31,
          47,
          37,
          37,
          18,
          22,
          55,
          47,
          40,
          15,
          17,
          37,
          41,
          72,
          142,
          56,
          27,
          45,
          25,
          48,
          35,
          18,
          23,
          55,
          14,
          57,
          41,
          63,
          38,
          29,
          32,
          18,
          67,
          75,
          35,
          14,
          37,
          131,
          68,
          62,
          127,
          9,
          15,
          47,
          64,
          55,
          61,
          36,
          89,
          46,
          98,
          26,
          81,
          77,
          99,
          59,
          35,
          26,
          65,
          71,
          37,
          43,
          94,
          15,
          48,
          20,
          37,
          27,
          41,
          40,
          24,
          19,
          39,
          34,
          16,
          6,
          25,
          50,
          37,
          53,
          24,
          26,
          54,
          36,
          46,
          87,
          104,
          28,
          12,
          85,
          102,
          33,
          16,
          43,
          79,
          63,
          55,
          73,
          54,
          27,
          31,
          60,
          175,
          48,
          64,
          19,
          41,
          37,
          23,
          22,
          57,
          59,
          55,
          24,
          29,
          113,
          69,
          26,
          19,
          29,
          54,
          11,
          51,
          30,
          23,
          65,
          54,
          18,
          37,
          11,
          59,
          29,
          36,
          42,
          33,
          32,
          26,
          55,
          29,
          29,
          105,
          95,
          50,
          39,
          22,
          54,
          123,
          29,
          56,
          68,
          32,
          26,
          38,
          51,
          29,
          142,
          51,
          60,
          33,
          17,
          57,
          66,
          37,
          53,
          159,
          24,
          19,
          8,
          22,
          49,
          89,
          27,
          75,
          39,
          41,
          22,
          9,
          38,
          19,
          38,
          35,
          31,
          54,
          27,
          49,
          14,
          24,
          54,
          36,
          130,
          40,
          106,
          43,
          77,
          15,
          58,
          34,
          65,
          20,
          21,
          70,
          57,
          23,
          29,
          13,
          112,
          97,
          18,
          56,
          29,
          16,
          64,
          66,
          14,
          26,
          39,
          40,
          51,
          16,
          69,
          16,
          61,
          30,
          54,
          24,
          44,
          22,
          29,
          49,
          32,
          40,
          30,
          51,
          30,
          22,
          33,
          17,
          44,
          13,
          31,
          69,
          46,
          79,
          4,
          54,
          31,
          37,
          59,
          76,
          23,
          64,
          24,
          37,
          29,
          21,
          28,
          51,
          30,
          94,
          13,
          193,
          44,
          29,
          46,
          47,
          17,
          77,
          8,
          25,
          129,
          25,
          19,
          41,
          24,
          41,
          219,
          30,
          35,
          27,
          25,
          18,
          61,
          41,
          16,
          25,
          128,
          44,
          45,
          33,
          15,
          7,
          97,
          28,
          23,
          13,
          103,
          102,
          25,
          130,
          65,
          42,
          20,
          80,
          15,
          48,
          42,
          36,
          32,
          37,
          75,
          27,
          27,
          25,
          25,
          17,
          26,
          16,
          65,
          140,
          26,
          31,
          43,
          30,
          27,
          59,
          54,
          72,
          57,
          24,
          42,
          34,
          59,
          32,
          40,
          38,
          57,
          74,
          62,
          27,
          25,
          33,
          45,
          101,
          26,
          66,
          41,
          21,
          58,
          89,
          41,
          150,
          114,
          147,
          39,
          45,
          30,
          76,
          88,
          42,
          2,
          52,
          32,
          25,
          24,
          26,
          15,
          31,
          10,
          18,
          23,
          25,
          40,
          19,
          40,
          26,
          24,
          47,
          35,
          58,
          57,
          38,
          38,
          12,
          323,
          27,
          17,
          153,
          106,
          42,
          26,
          53,
          59,
          47,
          48,
          23,
          59,
          74,
          113,
          53,
          29,
          31,
          43,
          60,
          46,
          27,
          34,
          42,
          86,
          78,
          43,
          36,
          49,
          87,
          14,
          46,
          17,
          15,
          48,
          23,
          46,
          34,
          43,
          103,
          94,
          66,
          88,
          30,
          21,
          38,
          80,
          36,
          44,
          24,
          61,
          46,
          26,
          51,
          13,
          16,
          30,
          52,
          29,
          20,
          24,
          45,
          113,
          188,
          29,
          89,
          48,
          18,
          63,
          48,
          77,
          30,
          23,
          23,
          14,
          39,
          25,
          68,
          29,
          71,
          34,
          44,
          76,
          71,
          85,
          56,
          16,
          20,
          108,
          161,
          56,
          64,
          53,
          54,
          21,
          116,
          67,
          85,
          46,
          33,
          40,
          27,
          26,
          39,
          42,
          75,
          32,
          45,
          113,
          121,
          65,
          43,
          51,
          22,
          54,
          15,
          10,
          102,
          19,
          66,
          134,
          10,
          63,
          65,
          16,
          30,
          30,
          48,
          49,
          88,
          49,
          28,
          182,
          28,
          27,
          82,
          31,
          54,
          50,
          54,
          19,
          60,
          47,
          65,
          26,
          64,
          19,
          8,
          48,
          52,
          34,
          41,
          79,
          46,
          11,
          31,
          20,
          50,
          52,
          50,
          34,
          75,
          35,
          85,
          33,
          17,
          56,
          80,
          58,
          12,
          37,
          48,
          15,
          38,
          144,
          39,
          4,
          69,
          34,
          63,
          32,
          16,
          15,
          46,
          28,
          15,
          59,
          38,
          33,
          20,
          71,
          6,
          8,
          17,
          42,
          29,
          40,
          21,
          59,
          58,
          19,
          39,
          36,
          32,
          37,
          50,
          26,
          49,
          30,
          36,
          65,
          55,
          27,
          54,
          39,
          40,
          41,
          33,
          19,
          49,
          51,
          60,
          54,
          163,
          59,
          36,
          88,
          88,
          12,
          29,
          161,
          13,
          51,
          33,
          27,
          46,
          54,
          46,
          64,
          42,
          68,
          40,
          33,
          30,
          36,
          9,
          35,
          40,
          45,
          49,
          87,
          73,
          58,
          34,
          74,
          40,
          53,
          37,
          178,
          29,
          21,
          107,
          35,
          30,
          58,
          21,
          50,
          120,
          27,
          70,
          132,
          25,
          34,
          4,
          24,
          26,
          78,
          14,
          72,
          32,
          24,
          28,
          19,
          42,
          53,
          58,
          56,
          132,
          32,
          16,
          113,
          51,
          34,
          27,
          98,
          46,
          21,
          33,
          49,
          29,
          64,
          32,
          59,
          62,
          39,
          28,
          60,
          58,
          45,
          35,
          15,
          21,
          51,
          44,
          40,
          14,
          25,
          47,
          85,
          31,
          87,
          16,
          32,
          42,
          65,
          106,
          46,
          68,
          13,
          66,
          23,
          24,
          22,
          127,
          34,
          37,
          69,
          115,
          63,
          46,
          27,
          74,
          36,
          25,
          41,
          42,
          89,
          66,
          29,
          46,
          22,
          12,
          18,
          24,
          33,
          53,
          36,
          40,
          46,
          45,
          51,
          60,
          37,
          48,
          26,
          41,
          37,
          39,
          -1371,
          66,
          -1385,
          97,
          20,
          29,
          37,
          108,
          45,
          32,
          82,
          182,
          82,
          68,
          52,
          40,
          53,
          38,
          45,
          37,
          31,
          32,
          22,
          37,
          37,
          23,
          20,
          76,
          38,
          57,
          21,
          87,
          95,
          34,
          60,
          47,
          43,
          72,
          55,
          8,
          39,
          38,
          42,
          45,
          38,
          20,
          158,
          29,
          28,
          28,
          29,
          31,
          20,
          108,
          42,
          25,
          44,
          34,
          87,
          52,
          32,
          24,
          41,
          23,
          37,
          61,
          82,
          54,
          132,
          97,
          55,
          17,
          88,
          51,
          28,
          29,
          25,
          13,
          94,
          36,
          31,
          40,
          33,
          47,
          57,
          35,
          91,
          51,
          46,
          76,
          25,
          79,
          89,
          76,
          55,
          82,
          81,
          188,
          20,
          5,
          48,
          40,
          20,
          24,
          47,
          61,
          36,
          42,
          9,
          33,
          24,
          51,
          73,
          44,
          27,
          22,
          17,
          61,
          39,
          148,
          95,
          31,
          86,
          9,
          21,
          49,
          40,
          29,
          95,
          156,
          33,
          34,
          25,
          54,
          138,
          93,
          37,
          30,
          92,
          28,
          89,
          9,
          31,
          47,
          63,
          28,
          67,
          33,
          116,
          18,
          163,
          44,
          44,
          56,
          55,
          48,
          31,
          50,
          56,
          13,
          25,
          59,
          200,
          110,
          41,
          33,
          18,
          26,
          59,
          296,
          85,
          76,
          42,
          32,
          66,
          54,
          36,
          43,
          30,
          21,
          17,
          40,
          115,
          99,
          27,
          58,
          10,
          148,
          32,
          81,
          16,
          81,
          13,
          266,
          26,
          46,
          58,
          5,
          167,
          160,
          51,
          27,
          54,
          39,
          46,
          47,
          18,
          60,
          30,
          21,
          48,
          57,
          49,
          348,
          330,
          336,
          50,
          54,
          8,
          18,
          17,
          27,
          68,
          44,
          30,
          27,
          35,
          66,
          160,
          58,
          37,
          39,
          4,
          38,
          20,
          75,
          87,
          66,
          22,
          35,
          40,
          62,
          71,
          11,
          36,
          175,
          27,
          45,
          46,
          30,
          70,
          17,
          41,
          62,
          64,
          31,
          69,
          43,
          97,
          102,
          28,
          50,
          9,
          26,
          59,
          63,
          52,
          34,
          59,
          224,
          44,
          105,
          64,
          51,
          -1407,
          10,
          802,
          47,
          28,
          30,
          40,
          52,
          94,
          122,
          17,
          26,
          38,
          41,
          47,
          34,
          51,
          30,
          34,
          33,
          33,
          28,
          39,
          65,
          82,
          51,
          19,
          2,
          53,
          69,
          22,
          32,
          97,
          32,
          9,
          85,
          66,
          40,
          107,
          169,
          34,
          111,
          67,
          30,
          88,
          124,
          21,
          66,
          13,
          53,
          42,
          41,
          40,
          82,
          41,
          38,
          38,
          24,
          35,
          50,
          78,
          42,
          35,
          54,
          88,
          48,
          28,
          17,
          19,
          32,
          14,
          32,
          36,
          27,
          166,
          148,
          46,
          46,
          30,
          160,
          134,
          6,
          81,
          86,
          50,
          36,
          60,
          211,
          60,
          56,
          33,
          83,
          71,
          50,
          36,
          84,
          22,
          10,
          92,
          49,
          37,
          17,
          40,
          64,
          48,
          38,
          36,
          17,
          34,
          26,
          58,
          52,
          121,
          79,
          95,
          29,
          15,
          46,
          43,
          33,
          38,
          14,
          17,
          25,
          25,
          35,
          90,
          93,
          49,
          24,
          52,
          42,
          26,
          68,
          47,
          99,
          34,
          33,
          43,
          31,
          54,
          20,
          78,
          121,
          26,
          35,
          38,
          53,
          27,
          23,
          68,
          63,
          56,
          47,
          33,
          58,
          24,
          30,
          25,
          17,
          36,
          95,
          67,
          36,
          38,
          7,
          36,
          54,
          25,
          14,
          21,
          60,
          40,
          138,
          35,
          26,
          48,
          52,
          29,
          38,
          34,
          30,
          51,
          34,
          56,
          110,
          53,
          67,
          51,
          14,
          126,
          64,
          45,
          46,
          21,
          45,
          33,
          21,
          28,
          25,
          10,
          69,
          41,
          42,
          42,
          45,
          33,
          33,
          18,
          33,
          27,
          23,
          24,
          22,
          74,
          15,
          16,
          72,
          62,
          45,
          7,
          32,
          47,
          19,
          46,
          81,
          82,
          44,
          37,
          70,
          766,
          755,
          42,
          45,
          39,
          21,
          44,
          68,
          34,
          69,
          58,
          45,
          202,
          183,
          54,
          112,
          69,
          22,
          20,
          21,
          44,
          72,
          47,
          90,
          26,
          24,
          38,
          13,
          29,
          115,
          39,
          37,
          21,
          64,
          17,
          47,
          27,
          5,
          11,
          26,
          42,
          33,
          83,
          44,
          36,
          34,
          18,
          61,
          51,
          39,
          11,
          8,
          39,
          14,
          761,
          24,
          74
         ]
        }
       ],
       "layout": {
        "boxmode": "overlay",
        "font": {
         "color": "black",
         "family": "Droid Serif"
        },
        "height": 400,
        "hoverlabel": {
         "bgcolor": "black",
         "font": {
          "color": "white"
         }
        },
        "legend": {
         "tracegroupgap": 0
        },
        "paper_bgcolor": "white",
        "plot_bgcolor": "white",
        "showlegend": false,
        "template": {
         "data": {
          "bar": [
           {
            "error_x": {
             "color": "#2a3f5f"
            },
            "error_y": {
             "color": "#2a3f5f"
            },
            "marker": {
             "line": {
              "color": "#E5ECF6",
              "width": 0.5
             },
             "pattern": {
              "fillmode": "overlay",
              "size": 10,
              "solidity": 0.2
             }
            },
            "type": "bar"
           }
          ],
          "barpolar": [
           {
            "marker": {
             "line": {
              "color": "#E5ECF6",
              "width": 0.5
             },
             "pattern": {
              "fillmode": "overlay",
              "size": 10,
              "solidity": 0.2
             }
            },
            "type": "barpolar"
           }
          ],
          "carpet": [
           {
            "aaxis": {
             "endlinecolor": "#2a3f5f",
             "gridcolor": "white",
             "linecolor": "white",
             "minorgridcolor": "white",
             "startlinecolor": "#2a3f5f"
            },
            "baxis": {
             "endlinecolor": "#2a3f5f",
             "gridcolor": "white",
             "linecolor": "white",
             "minorgridcolor": "white",
             "startlinecolor": "#2a3f5f"
            },
            "type": "carpet"
           }
          ],
          "choropleth": [
           {
            "colorbar": {
             "outlinewidth": 0,
             "ticks": ""
            },
            "type": "choropleth"
           }
          ],
          "contour": [
           {
            "colorbar": {
             "outlinewidth": 0,
             "ticks": ""
            },
            "colorscale": [
             [
              0,
              "#0d0887"
             ],
             [
              0.1111111111111111,
              "#46039f"
             ],
             [
              0.2222222222222222,
              "#7201a8"
             ],
             [
              0.3333333333333333,
              "#9c179e"
             ],
             [
              0.4444444444444444,
              "#bd3786"
             ],
             [
              0.5555555555555556,
              "#d8576b"
             ],
             [
              0.6666666666666666,
              "#ed7953"
             ],
             [
              0.7777777777777778,
              "#fb9f3a"
             ],
             [
              0.8888888888888888,
              "#fdca26"
             ],
             [
              1,
              "#f0f921"
             ]
            ],
            "type": "contour"
           }
          ],
          "contourcarpet": [
           {
            "colorbar": {
             "outlinewidth": 0,
             "ticks": ""
            },
            "type": "contourcarpet"
           }
          ],
          "heatmap": [
           {
            "colorbar": {
             "outlinewidth": 0,
             "ticks": ""
            },
            "colorscale": [
             [
              0,
              "#0d0887"
             ],
             [
              0.1111111111111111,
              "#46039f"
             ],
             [
              0.2222222222222222,
              "#7201a8"
             ],
             [
              0.3333333333333333,
              "#9c179e"
             ],
             [
              0.4444444444444444,
              "#bd3786"
             ],
             [
              0.5555555555555556,
              "#d8576b"
             ],
             [
              0.6666666666666666,
              "#ed7953"
             ],
             [
              0.7777777777777778,
              "#fb9f3a"
             ],
             [
              0.8888888888888888,
              "#fdca26"
             ],
             [
              1,
              "#f0f921"
             ]
            ],
            "type": "heatmap"
           }
          ],
          "heatmapgl": [
           {
            "colorbar": {
             "outlinewidth": 0,
             "ticks": ""
            },
            "colorscale": [
             [
              0,
              "#0d0887"
             ],
             [
              0.1111111111111111,
              "#46039f"
             ],
             [
              0.2222222222222222,
              "#7201a8"
             ],
             [
              0.3333333333333333,
              "#9c179e"
             ],
             [
              0.4444444444444444,
              "#bd3786"
             ],
             [
              0.5555555555555556,
              "#d8576b"
             ],
             [
              0.6666666666666666,
              "#ed7953"
             ],
             [
              0.7777777777777778,
              "#fb9f3a"
             ],
             [
              0.8888888888888888,
              "#fdca26"
             ],
             [
              1,
              "#f0f921"
             ]
            ],
            "type": "heatmapgl"
           }
          ],
          "histogram": [
           {
            "marker": {
             "pattern": {
              "fillmode": "overlay",
              "size": 10,
              "solidity": 0.2
             }
            },
            "type": "histogram"
           }
          ],
          "histogram2d": [
           {
            "colorbar": {
             "outlinewidth": 0,
             "ticks": ""
            },
            "colorscale": [
             [
              0,
              "#0d0887"
             ],
             [
              0.1111111111111111,
              "#46039f"
             ],
             [
              0.2222222222222222,
              "#7201a8"
             ],
             [
              0.3333333333333333,
              "#9c179e"
             ],
             [
              0.4444444444444444,
              "#bd3786"
             ],
             [
              0.5555555555555556,
              "#d8576b"
             ],
             [
              0.6666666666666666,
              "#ed7953"
             ],
             [
              0.7777777777777778,
              "#fb9f3a"
             ],
             [
              0.8888888888888888,
              "#fdca26"
             ],
             [
              1,
              "#f0f921"
             ]
            ],
            "type": "histogram2d"
           }
          ],
          "histogram2dcontour": [
           {
            "colorbar": {
             "outlinewidth": 0,
             "ticks": ""
            },
            "colorscale": [
             [
              0,
              "#0d0887"
             ],
             [
              0.1111111111111111,
              "#46039f"
             ],
             [
              0.2222222222222222,
              "#7201a8"
             ],
             [
              0.3333333333333333,
              "#9c179e"
             ],
             [
              0.4444444444444444,
              "#bd3786"
             ],
             [
              0.5555555555555556,
              "#d8576b"
             ],
             [
              0.6666666666666666,
              "#ed7953"
             ],
             [
              0.7777777777777778,
              "#fb9f3a"
             ],
             [
              0.8888888888888888,
              "#fdca26"
             ],
             [
              1,
              "#f0f921"
             ]
            ],
            "type": "histogram2dcontour"
           }
          ],
          "mesh3d": [
           {
            "colorbar": {
             "outlinewidth": 0,
             "ticks": ""
            },
            "type": "mesh3d"
           }
          ],
          "parcoords": [
           {
            "line": {
             "colorbar": {
              "outlinewidth": 0,
              "ticks": ""
             }
            },
            "type": "parcoords"
           }
          ],
          "pie": [
           {
            "automargin": true,
            "type": "pie"
           }
          ],
          "scatter": [
           {
            "fillpattern": {
             "fillmode": "overlay",
             "size": 10,
             "solidity": 0.2
            },
            "type": "scatter"
           }
          ],
          "scatter3d": [
           {
            "line": {
             "colorbar": {
              "outlinewidth": 0,
              "ticks": ""
             }
            },
            "marker": {
             "colorbar": {
              "outlinewidth": 0,
              "ticks": ""
             }
            },
            "type": "scatter3d"
           }
          ],
          "scattercarpet": [
           {
            "marker": {
             "colorbar": {
              "outlinewidth": 0,
              "ticks": ""
             }
            },
            "type": "scattercarpet"
           }
          ],
          "scattergeo": [
           {
            "marker": {
             "colorbar": {
              "outlinewidth": 0,
              "ticks": ""
             }
            },
            "type": "scattergeo"
           }
          ],
          "scattergl": [
           {
            "marker": {
             "colorbar": {
              "outlinewidth": 0,
              "ticks": ""
             }
            },
            "type": "scattergl"
           }
          ],
          "scattermapbox": [
           {
            "marker": {
             "colorbar": {
              "outlinewidth": 0,
              "ticks": ""
             }
            },
            "type": "scattermapbox"
           }
          ],
          "scatterpolar": [
           {
            "marker": {
             "colorbar": {
              "outlinewidth": 0,
              "ticks": ""
             }
            },
            "type": "scatterpolar"
           }
          ],
          "scatterpolargl": [
           {
            "marker": {
             "colorbar": {
              "outlinewidth": 0,
              "ticks": ""
             }
            },
            "type": "scatterpolargl"
           }
          ],
          "scatterternary": [
           {
            "marker": {
             "colorbar": {
              "outlinewidth": 0,
              "ticks": ""
             }
            },
            "type": "scatterternary"
           }
          ],
          "surface": [
           {
            "colorbar": {
             "outlinewidth": 0,
             "ticks": ""
            },
            "colorscale": [
             [
              0,
              "#0d0887"
             ],
             [
              0.1111111111111111,
              "#46039f"
             ],
             [
              0.2222222222222222,
              "#7201a8"
             ],
             [
              0.3333333333333333,
              "#9c179e"
             ],
             [
              0.4444444444444444,
              "#bd3786"
             ],
             [
              0.5555555555555556,
              "#d8576b"
             ],
             [
              0.6666666666666666,
              "#ed7953"
             ],
             [
              0.7777777777777778,
              "#fb9f3a"
             ],
             [
              0.8888888888888888,
              "#fdca26"
             ],
             [
              1,
              "#f0f921"
             ]
            ],
            "type": "surface"
           }
          ],
          "table": [
           {
            "cells": {
             "fill": {
              "color": "#EBF0F8"
             },
             "line": {
              "color": "white"
             }
            },
            "header": {
             "fill": {
              "color": "#C8D4E3"
             },
             "line": {
              "color": "white"
             }
            },
            "type": "table"
           }
          ]
         },
         "layout": {
          "annotationdefaults": {
           "arrowcolor": "#2a3f5f",
           "arrowhead": 0,
           "arrowwidth": 1
          },
          "autotypenumbers": "strict",
          "coloraxis": {
           "colorbar": {
            "outlinewidth": 0,
            "ticks": ""
           }
          },
          "colorscale": {
           "diverging": [
            [
             0,
             "#8e0152"
            ],
            [
             0.1,
             "#c51b7d"
            ],
            [
             0.2,
             "#de77ae"
            ],
            [
             0.3,
             "#f1b6da"
            ],
            [
             0.4,
             "#fde0ef"
            ],
            [
             0.5,
             "#f7f7f7"
            ],
            [
             0.6,
             "#e6f5d0"
            ],
            [
             0.7,
             "#b8e186"
            ],
            [
             0.8,
             "#7fbc41"
            ],
            [
             0.9,
             "#4d9221"
            ],
            [
             1,
             "#276419"
            ]
           ],
           "sequential": [
            [
             0,
             "#0d0887"
            ],
            [
             0.1111111111111111,
             "#46039f"
            ],
            [
             0.2222222222222222,
             "#7201a8"
            ],
            [
             0.3333333333333333,
             "#9c179e"
            ],
            [
             0.4444444444444444,
             "#bd3786"
            ],
            [
             0.5555555555555556,
             "#d8576b"
            ],
            [
             0.6666666666666666,
             "#ed7953"
            ],
            [
             0.7777777777777778,
             "#fb9f3a"
            ],
            [
             0.8888888888888888,
             "#fdca26"
            ],
            [
             1,
             "#f0f921"
            ]
           ],
           "sequentialminus": [
            [
             0,
             "#0d0887"
            ],
            [
             0.1111111111111111,
             "#46039f"
            ],
            [
             0.2222222222222222,
             "#7201a8"
            ],
            [
             0.3333333333333333,
             "#9c179e"
            ],
            [
             0.4444444444444444,
             "#bd3786"
            ],
            [
             0.5555555555555556,
             "#d8576b"
            ],
            [
             0.6666666666666666,
             "#ed7953"
            ],
            [
             0.7777777777777778,
             "#fb9f3a"
            ],
            [
             0.8888888888888888,
             "#fdca26"
            ],
            [
             1,
             "#f0f921"
            ]
           ]
          },
          "colorway": [
           "#636efa",
           "#EF553B",
           "#00cc96",
           "#ab63fa",
           "#FFA15A",
           "#19d3f3",
           "#FF6692",
           "#B6E880",
           "#FF97FF",
           "#FECB52"
          ],
          "font": {
           "color": "#2a3f5f"
          },
          "geo": {
           "bgcolor": "white",
           "lakecolor": "white",
           "landcolor": "#E5ECF6",
           "showlakes": true,
           "showland": true,
           "subunitcolor": "white"
          },
          "hoverlabel": {
           "align": "left"
          },
          "hovermode": "closest",
          "mapbox": {
           "style": "light"
          },
          "paper_bgcolor": "white",
          "plot_bgcolor": "#E5ECF6",
          "polar": {
           "angularaxis": {
            "gridcolor": "white",
            "linecolor": "white",
            "ticks": ""
           },
           "bgcolor": "#E5ECF6",
           "radialaxis": {
            "gridcolor": "white",
            "linecolor": "white",
            "ticks": ""
           }
          },
          "scene": {
           "xaxis": {
            "backgroundcolor": "#E5ECF6",
            "gridcolor": "white",
            "gridwidth": 2,
            "linecolor": "white",
            "showbackground": true,
            "ticks": "",
            "zerolinecolor": "white"
           },
           "yaxis": {
            "backgroundcolor": "#E5ECF6",
            "gridcolor": "white",
            "gridwidth": 2,
            "linecolor": "white",
            "showbackground": true,
            "ticks": "",
            "zerolinecolor": "white"
           },
           "zaxis": {
            "backgroundcolor": "#E5ECF6",
            "gridcolor": "white",
            "gridwidth": 2,
            "linecolor": "white",
            "showbackground": true,
            "ticks": "",
            "zerolinecolor": "white"
           }
          },
          "shapedefaults": {
           "line": {
            "color": "#2a3f5f"
           }
          },
          "ternary": {
           "aaxis": {
            "gridcolor": "white",
            "linecolor": "white",
            "ticks": ""
           },
           "baxis": {
            "gridcolor": "white",
            "linecolor": "white",
            "ticks": ""
           },
           "bgcolor": "#E5ECF6",
           "caxis": {
            "gridcolor": "white",
            "linecolor": "white",
            "ticks": ""
           }
          },
          "title": {
           "x": 0.05
          },
          "xaxis": {
           "automargin": true,
           "gridcolor": "white",
           "linecolor": "white",
           "ticks": "",
           "title": {
            "standoff": 15
           },
           "zerolinecolor": "white",
           "zerolinewidth": 2
          },
          "yaxis": {
           "automargin": true,
           "gridcolor": "white",
           "linecolor": "white",
           "ticks": "",
           "title": {
            "standoff": 15
           },
           "zerolinecolor": "white",
           "zerolinewidth": 2
          }
         }
        },
        "title": {
         "font": {
          "size": 22
         },
         "text": "Pool Table Rental Duration",
         "x": 0.5,
         "xanchor": "center",
         "y": 0.85
        },
        "width": 800,
        "xaxis": {
         "anchor": "y",
         "domain": [
          0,
          1
         ],
         "tickfont": {
          "size": 16
         },
         "tickmode": "array",
         "ticktext": [
          "Table 1",
          "Table 0",
          "Table 2",
          "Table 3"
         ],
         "tickvals": [
          1,
          0,
          2,
          3
         ],
         "title": {}
        },
        "yaxis": {
         "anchor": "x",
         "domain": [
          0,
          1
         ],
         "gridcolor": "rgba(128, 128, 128, 0.4)",
         "tickfont": {
          "size": 16
         },
         "title": {
          "text": "Duration (log scale)"
         },
         "type": "log"
        }
       }
      }
     },
     "metadata": {},
     "output_type": "display_data"
    },
    {
     "name": "stdout",
     "output_type": "stream",
     "text": [
      "Visualization saved as ../resources/viz/f23_pool_duration_by_table_number.html\n"
     ]
    },
    {
     "data": {
      "application/vnd.plotly.v1+json": {
       "config": {
        "plotlyServerURL": "https://plot.ly"
       },
       "data": [
        {
         "labels": [
          "Pool",
          "Air Hockey",
          "Foosball",
          "Shuffleboard"
         ],
         "text": [
          "Pool<br>2488 rentals",
          "Air Hockey<br>575 rentals",
          "Foosball<br>378 rentals",
          "Shuffleboard<br>98 rentals"
         ],
         "textfont": {
          "size": 15
         },
         "textinfo": "text+percent",
         "type": "pie",
         "values": [
          2488,
          575,
          378,
          98
         ]
        }
       ],
       "layout": {
        "font": {
         "color": "black",
         "family": "Droid Serif"
        },
        "height": 400,
        "hoverlabel": {
         "bgcolor": "black",
         "font": {
          "color": "white"
         }
        },
        "margin": {
         "b": 20,
         "l": 20,
         "r": 20,
         "t": 100
        },
        "paper_bgcolor": "white",
        "plot_bgcolor": "white",
        "showlegend": false,
        "template": {
         "data": {
          "bar": [
           {
            "error_x": {
             "color": "#2a3f5f"
            },
            "error_y": {
             "color": "#2a3f5f"
            },
            "marker": {
             "line": {
              "color": "#E5ECF6",
              "width": 0.5
             },
             "pattern": {
              "fillmode": "overlay",
              "size": 10,
              "solidity": 0.2
             }
            },
            "type": "bar"
           }
          ],
          "barpolar": [
           {
            "marker": {
             "line": {
              "color": "#E5ECF6",
              "width": 0.5
             },
             "pattern": {
              "fillmode": "overlay",
              "size": 10,
              "solidity": 0.2
             }
            },
            "type": "barpolar"
           }
          ],
          "carpet": [
           {
            "aaxis": {
             "endlinecolor": "#2a3f5f",
             "gridcolor": "white",
             "linecolor": "white",
             "minorgridcolor": "white",
             "startlinecolor": "#2a3f5f"
            },
            "baxis": {
             "endlinecolor": "#2a3f5f",
             "gridcolor": "white",
             "linecolor": "white",
             "minorgridcolor": "white",
             "startlinecolor": "#2a3f5f"
            },
            "type": "carpet"
           }
          ],
          "choropleth": [
           {
            "colorbar": {
             "outlinewidth": 0,
             "ticks": ""
            },
            "type": "choropleth"
           }
          ],
          "contour": [
           {
            "colorbar": {
             "outlinewidth": 0,
             "ticks": ""
            },
            "colorscale": [
             [
              0,
              "#0d0887"
             ],
             [
              0.1111111111111111,
              "#46039f"
             ],
             [
              0.2222222222222222,
              "#7201a8"
             ],
             [
              0.3333333333333333,
              "#9c179e"
             ],
             [
              0.4444444444444444,
              "#bd3786"
             ],
             [
              0.5555555555555556,
              "#d8576b"
             ],
             [
              0.6666666666666666,
              "#ed7953"
             ],
             [
              0.7777777777777778,
              "#fb9f3a"
             ],
             [
              0.8888888888888888,
              "#fdca26"
             ],
             [
              1,
              "#f0f921"
             ]
            ],
            "type": "contour"
           }
          ],
          "contourcarpet": [
           {
            "colorbar": {
             "outlinewidth": 0,
             "ticks": ""
            },
            "type": "contourcarpet"
           }
          ],
          "heatmap": [
           {
            "colorbar": {
             "outlinewidth": 0,
             "ticks": ""
            },
            "colorscale": [
             [
              0,
              "#0d0887"
             ],
             [
              0.1111111111111111,
              "#46039f"
             ],
             [
              0.2222222222222222,
              "#7201a8"
             ],
             [
              0.3333333333333333,
              "#9c179e"
             ],
             [
              0.4444444444444444,
              "#bd3786"
             ],
             [
              0.5555555555555556,
              "#d8576b"
             ],
             [
              0.6666666666666666,
              "#ed7953"
             ],
             [
              0.7777777777777778,
              "#fb9f3a"
             ],
             [
              0.8888888888888888,
              "#fdca26"
             ],
             [
              1,
              "#f0f921"
             ]
            ],
            "type": "heatmap"
           }
          ],
          "heatmapgl": [
           {
            "colorbar": {
             "outlinewidth": 0,
             "ticks": ""
            },
            "colorscale": [
             [
              0,
              "#0d0887"
             ],
             [
              0.1111111111111111,
              "#46039f"
             ],
             [
              0.2222222222222222,
              "#7201a8"
             ],
             [
              0.3333333333333333,
              "#9c179e"
             ],
             [
              0.4444444444444444,
              "#bd3786"
             ],
             [
              0.5555555555555556,
              "#d8576b"
             ],
             [
              0.6666666666666666,
              "#ed7953"
             ],
             [
              0.7777777777777778,
              "#fb9f3a"
             ],
             [
              0.8888888888888888,
              "#fdca26"
             ],
             [
              1,
              "#f0f921"
             ]
            ],
            "type": "heatmapgl"
           }
          ],
          "histogram": [
           {
            "marker": {
             "pattern": {
              "fillmode": "overlay",
              "size": 10,
              "solidity": 0.2
             }
            },
            "type": "histogram"
           }
          ],
          "histogram2d": [
           {
            "colorbar": {
             "outlinewidth": 0,
             "ticks": ""
            },
            "colorscale": [
             [
              0,
              "#0d0887"
             ],
             [
              0.1111111111111111,
              "#46039f"
             ],
             [
              0.2222222222222222,
              "#7201a8"
             ],
             [
              0.3333333333333333,
              "#9c179e"
             ],
             [
              0.4444444444444444,
              "#bd3786"
             ],
             [
              0.5555555555555556,
              "#d8576b"
             ],
             [
              0.6666666666666666,
              "#ed7953"
             ],
             [
              0.7777777777777778,
              "#fb9f3a"
             ],
             [
              0.8888888888888888,
              "#fdca26"
             ],
             [
              1,
              "#f0f921"
             ]
            ],
            "type": "histogram2d"
           }
          ],
          "histogram2dcontour": [
           {
            "colorbar": {
             "outlinewidth": 0,
             "ticks": ""
            },
            "colorscale": [
             [
              0,
              "#0d0887"
             ],
             [
              0.1111111111111111,
              "#46039f"
             ],
             [
              0.2222222222222222,
              "#7201a8"
             ],
             [
              0.3333333333333333,
              "#9c179e"
             ],
             [
              0.4444444444444444,
              "#bd3786"
             ],
             [
              0.5555555555555556,
              "#d8576b"
             ],
             [
              0.6666666666666666,
              "#ed7953"
             ],
             [
              0.7777777777777778,
              "#fb9f3a"
             ],
             [
              0.8888888888888888,
              "#fdca26"
             ],
             [
              1,
              "#f0f921"
             ]
            ],
            "type": "histogram2dcontour"
           }
          ],
          "mesh3d": [
           {
            "colorbar": {
             "outlinewidth": 0,
             "ticks": ""
            },
            "type": "mesh3d"
           }
          ],
          "parcoords": [
           {
            "line": {
             "colorbar": {
              "outlinewidth": 0,
              "ticks": ""
             }
            },
            "type": "parcoords"
           }
          ],
          "pie": [
           {
            "automargin": true,
            "type": "pie"
           }
          ],
          "scatter": [
           {
            "fillpattern": {
             "fillmode": "overlay",
             "size": 10,
             "solidity": 0.2
            },
            "type": "scatter"
           }
          ],
          "scatter3d": [
           {
            "line": {
             "colorbar": {
              "outlinewidth": 0,
              "ticks": ""
             }
            },
            "marker": {
             "colorbar": {
              "outlinewidth": 0,
              "ticks": ""
             }
            },
            "type": "scatter3d"
           }
          ],
          "scattercarpet": [
           {
            "marker": {
             "colorbar": {
              "outlinewidth": 0,
              "ticks": ""
             }
            },
            "type": "scattercarpet"
           }
          ],
          "scattergeo": [
           {
            "marker": {
             "colorbar": {
              "outlinewidth": 0,
              "ticks": ""
             }
            },
            "type": "scattergeo"
           }
          ],
          "scattergl": [
           {
            "marker": {
             "colorbar": {
              "outlinewidth": 0,
              "ticks": ""
             }
            },
            "type": "scattergl"
           }
          ],
          "scattermapbox": [
           {
            "marker": {
             "colorbar": {
              "outlinewidth": 0,
              "ticks": ""
             }
            },
            "type": "scattermapbox"
           }
          ],
          "scatterpolar": [
           {
            "marker": {
             "colorbar": {
              "outlinewidth": 0,
              "ticks": ""
             }
            },
            "type": "scatterpolar"
           }
          ],
          "scatterpolargl": [
           {
            "marker": {
             "colorbar": {
              "outlinewidth": 0,
              "ticks": ""
             }
            },
            "type": "scatterpolargl"
           }
          ],
          "scatterternary": [
           {
            "marker": {
             "colorbar": {
              "outlinewidth": 0,
              "ticks": ""
             }
            },
            "type": "scatterternary"
           }
          ],
          "surface": [
           {
            "colorbar": {
             "outlinewidth": 0,
             "ticks": ""
            },
            "colorscale": [
             [
              0,
              "#0d0887"
             ],
             [
              0.1111111111111111,
              "#46039f"
             ],
             [
              0.2222222222222222,
              "#7201a8"
             ],
             [
              0.3333333333333333,
              "#9c179e"
             ],
             [
              0.4444444444444444,
              "#bd3786"
             ],
             [
              0.5555555555555556,
              "#d8576b"
             ],
             [
              0.6666666666666666,
              "#ed7953"
             ],
             [
              0.7777777777777778,
              "#fb9f3a"
             ],
             [
              0.8888888888888888,
              "#fdca26"
             ],
             [
              1,
              "#f0f921"
             ]
            ],
            "type": "surface"
           }
          ],
          "table": [
           {
            "cells": {
             "fill": {
              "color": "#EBF0F8"
             },
             "line": {
              "color": "white"
             }
            },
            "header": {
             "fill": {
              "color": "#C8D4E3"
             },
             "line": {
              "color": "white"
             }
            },
            "type": "table"
           }
          ]
         },
         "layout": {
          "annotationdefaults": {
           "arrowcolor": "#2a3f5f",
           "arrowhead": 0,
           "arrowwidth": 1
          },
          "autotypenumbers": "strict",
          "coloraxis": {
           "colorbar": {
            "outlinewidth": 0,
            "ticks": ""
           }
          },
          "colorscale": {
           "diverging": [
            [
             0,
             "#8e0152"
            ],
            [
             0.1,
             "#c51b7d"
            ],
            [
             0.2,
             "#de77ae"
            ],
            [
             0.3,
             "#f1b6da"
            ],
            [
             0.4,
             "#fde0ef"
            ],
            [
             0.5,
             "#f7f7f7"
            ],
            [
             0.6,
             "#e6f5d0"
            ],
            [
             0.7,
             "#b8e186"
            ],
            [
             0.8,
             "#7fbc41"
            ],
            [
             0.9,
             "#4d9221"
            ],
            [
             1,
             "#276419"
            ]
           ],
           "sequential": [
            [
             0,
             "#0d0887"
            ],
            [
             0.1111111111111111,
             "#46039f"
            ],
            [
             0.2222222222222222,
             "#7201a8"
            ],
            [
             0.3333333333333333,
             "#9c179e"
            ],
            [
             0.4444444444444444,
             "#bd3786"
            ],
            [
             0.5555555555555556,
             "#d8576b"
            ],
            [
             0.6666666666666666,
             "#ed7953"
            ],
            [
             0.7777777777777778,
             "#fb9f3a"
            ],
            [
             0.8888888888888888,
             "#fdca26"
            ],
            [
             1,
             "#f0f921"
            ]
           ],
           "sequentialminus": [
            [
             0,
             "#0d0887"
            ],
            [
             0.1111111111111111,
             "#46039f"
            ],
            [
             0.2222222222222222,
             "#7201a8"
            ],
            [
             0.3333333333333333,
             "#9c179e"
            ],
            [
             0.4444444444444444,
             "#bd3786"
            ],
            [
             0.5555555555555556,
             "#d8576b"
            ],
            [
             0.6666666666666666,
             "#ed7953"
            ],
            [
             0.7777777777777778,
             "#fb9f3a"
            ],
            [
             0.8888888888888888,
             "#fdca26"
            ],
            [
             1,
             "#f0f921"
            ]
           ]
          },
          "colorway": [
           "#636efa",
           "#EF553B",
           "#00cc96",
           "#ab63fa",
           "#FFA15A",
           "#19d3f3",
           "#FF6692",
           "#B6E880",
           "#FF97FF",
           "#FECB52"
          ],
          "font": {
           "color": "#2a3f5f"
          },
          "geo": {
           "bgcolor": "white",
           "lakecolor": "white",
           "landcolor": "#E5ECF6",
           "showlakes": true,
           "showland": true,
           "subunitcolor": "white"
          },
          "hoverlabel": {
           "align": "left"
          },
          "hovermode": "closest",
          "mapbox": {
           "style": "light"
          },
          "paper_bgcolor": "white",
          "plot_bgcolor": "#E5ECF6",
          "polar": {
           "angularaxis": {
            "gridcolor": "white",
            "linecolor": "white",
            "ticks": ""
           },
           "bgcolor": "#E5ECF6",
           "radialaxis": {
            "gridcolor": "white",
            "linecolor": "white",
            "ticks": ""
           }
          },
          "scene": {
           "xaxis": {
            "backgroundcolor": "#E5ECF6",
            "gridcolor": "white",
            "gridwidth": 2,
            "linecolor": "white",
            "showbackground": true,
            "ticks": "",
            "zerolinecolor": "white"
           },
           "yaxis": {
            "backgroundcolor": "#E5ECF6",
            "gridcolor": "white",
            "gridwidth": 2,
            "linecolor": "white",
            "showbackground": true,
            "ticks": "",
            "zerolinecolor": "white"
           },
           "zaxis": {
            "backgroundcolor": "#E5ECF6",
            "gridcolor": "white",
            "gridwidth": 2,
            "linecolor": "white",
            "showbackground": true,
            "ticks": "",
            "zerolinecolor": "white"
           }
          },
          "shapedefaults": {
           "line": {
            "color": "#2a3f5f"
           }
          },
          "ternary": {
           "aaxis": {
            "gridcolor": "white",
            "linecolor": "white",
            "ticks": ""
           },
           "baxis": {
            "gridcolor": "white",
            "linecolor": "white",
            "ticks": ""
           },
           "bgcolor": "#E5ECF6",
           "caxis": {
            "gridcolor": "white",
            "linecolor": "white",
            "ticks": ""
           }
          },
          "title": {
           "x": 0.05
          },
          "xaxis": {
           "automargin": true,
           "gridcolor": "white",
           "linecolor": "white",
           "ticks": "",
           "title": {
            "standoff": 15
           },
           "zerolinecolor": "white",
           "zerolinewidth": 2
          },
          "yaxis": {
           "automargin": true,
           "gridcolor": "white",
           "linecolor": "white",
           "ticks": "",
           "title": {
            "standoff": 15
           },
           "zerolinecolor": "white",
           "zerolinewidth": 2
          }
         }
        },
        "title": {
         "font": {
          "size": 22
         },
         "text": "Table Game Rentals by Game Type",
         "x": 0.4,
         "xanchor": "center",
         "y": 0.91
        },
        "width": 600
       }
      }
     },
     "metadata": {},
     "output_type": "display_data"
    },
    {
     "name": "stdout",
     "output_type": "stream",
     "text": [
      "Visualization saved as ../resources/viz/f23_table_games_pie_chart.html\n",
      "Visualization saved as ../resources/viz/f23_air_hockey_usage_trend.html\n"
     ]
    },
    {
     "data": {
      "application/vnd.plotly.v1+json": {
       "config": {
        "plotlyServerURL": "https://plot.ly"
       },
       "data": [
        {
         "alignmentgroup": "True",
         "hovertemplate": "Duration (minutes)=%{x}<br># of Checkouts=%{y}<extra></extra>",
         "legendgroup": "",
         "marker": {
          "color": "#636efa",
          "pattern": {
           "shape": ""
          }
         },
         "name": "",
         "offsetgroup": "",
         "orientation": "v",
         "showlegend": false,
         "textposition": "auto",
         "type": "bar",
         "x": [
          "0-4",
          "5-9",
          "10-14",
          "15-19",
          "20-24",
          "25-29",
          "30-34",
          "35-39",
          "40-44",
          "45-49",
          "50-54",
          "55-59",
          "60-64",
          "65-69",
          "70-74",
          "75-79",
          "80-84",
          "85-89",
          "90-94",
          "95-99",
          "100-104",
          "105-109",
          "110-114",
          "115-119",
          "120-124"
         ],
         "xaxis": "x",
         "y": [
          46,
          149,
          155,
          87,
          48,
          28,
          14,
          11,
          11,
          7,
          7,
          0,
          3,
          2,
          0,
          1,
          2,
          0,
          0,
          0,
          0,
          0,
          0,
          0,
          0
         ],
         "yaxis": "y"
        }
       ],
       "layout": {
        "bargap": 0.1,
        "barmode": "relative",
        "font": {
         "color": "black",
         "family": "Droid Serif"
        },
        "height": 400,
        "hoverlabel": {
         "bgcolor": "black",
         "font": {
          "color": "white"
         }
        },
        "legend": {
         "tracegroupgap": 0
        },
        "paper_bgcolor": "white",
        "plot_bgcolor": "white",
        "showlegend": false,
        "template": {
         "data": {
          "bar": [
           {
            "error_x": {
             "color": "#2a3f5f"
            },
            "error_y": {
             "color": "#2a3f5f"
            },
            "marker": {
             "line": {
              "color": "#E5ECF6",
              "width": 0.5
             },
             "pattern": {
              "fillmode": "overlay",
              "size": 10,
              "solidity": 0.2
             }
            },
            "type": "bar"
           }
          ],
          "barpolar": [
           {
            "marker": {
             "line": {
              "color": "#E5ECF6",
              "width": 0.5
             },
             "pattern": {
              "fillmode": "overlay",
              "size": 10,
              "solidity": 0.2
             }
            },
            "type": "barpolar"
           }
          ],
          "carpet": [
           {
            "aaxis": {
             "endlinecolor": "#2a3f5f",
             "gridcolor": "white",
             "linecolor": "white",
             "minorgridcolor": "white",
             "startlinecolor": "#2a3f5f"
            },
            "baxis": {
             "endlinecolor": "#2a3f5f",
             "gridcolor": "white",
             "linecolor": "white",
             "minorgridcolor": "white",
             "startlinecolor": "#2a3f5f"
            },
            "type": "carpet"
           }
          ],
          "choropleth": [
           {
            "colorbar": {
             "outlinewidth": 0,
             "ticks": ""
            },
            "type": "choropleth"
           }
          ],
          "contour": [
           {
            "colorbar": {
             "outlinewidth": 0,
             "ticks": ""
            },
            "colorscale": [
             [
              0,
              "#0d0887"
             ],
             [
              0.1111111111111111,
              "#46039f"
             ],
             [
              0.2222222222222222,
              "#7201a8"
             ],
             [
              0.3333333333333333,
              "#9c179e"
             ],
             [
              0.4444444444444444,
              "#bd3786"
             ],
             [
              0.5555555555555556,
              "#d8576b"
             ],
             [
              0.6666666666666666,
              "#ed7953"
             ],
             [
              0.7777777777777778,
              "#fb9f3a"
             ],
             [
              0.8888888888888888,
              "#fdca26"
             ],
             [
              1,
              "#f0f921"
             ]
            ],
            "type": "contour"
           }
          ],
          "contourcarpet": [
           {
            "colorbar": {
             "outlinewidth": 0,
             "ticks": ""
            },
            "type": "contourcarpet"
           }
          ],
          "heatmap": [
           {
            "colorbar": {
             "outlinewidth": 0,
             "ticks": ""
            },
            "colorscale": [
             [
              0,
              "#0d0887"
             ],
             [
              0.1111111111111111,
              "#46039f"
             ],
             [
              0.2222222222222222,
              "#7201a8"
             ],
             [
              0.3333333333333333,
              "#9c179e"
             ],
             [
              0.4444444444444444,
              "#bd3786"
             ],
             [
              0.5555555555555556,
              "#d8576b"
             ],
             [
              0.6666666666666666,
              "#ed7953"
             ],
             [
              0.7777777777777778,
              "#fb9f3a"
             ],
             [
              0.8888888888888888,
              "#fdca26"
             ],
             [
              1,
              "#f0f921"
             ]
            ],
            "type": "heatmap"
           }
          ],
          "heatmapgl": [
           {
            "colorbar": {
             "outlinewidth": 0,
             "ticks": ""
            },
            "colorscale": [
             [
              0,
              "#0d0887"
             ],
             [
              0.1111111111111111,
              "#46039f"
             ],
             [
              0.2222222222222222,
              "#7201a8"
             ],
             [
              0.3333333333333333,
              "#9c179e"
             ],
             [
              0.4444444444444444,
              "#bd3786"
             ],
             [
              0.5555555555555556,
              "#d8576b"
             ],
             [
              0.6666666666666666,
              "#ed7953"
             ],
             [
              0.7777777777777778,
              "#fb9f3a"
             ],
             [
              0.8888888888888888,
              "#fdca26"
             ],
             [
              1,
              "#f0f921"
             ]
            ],
            "type": "heatmapgl"
           }
          ],
          "histogram": [
           {
            "marker": {
             "pattern": {
              "fillmode": "overlay",
              "size": 10,
              "solidity": 0.2
             }
            },
            "type": "histogram"
           }
          ],
          "histogram2d": [
           {
            "colorbar": {
             "outlinewidth": 0,
             "ticks": ""
            },
            "colorscale": [
             [
              0,
              "#0d0887"
             ],
             [
              0.1111111111111111,
              "#46039f"
             ],
             [
              0.2222222222222222,
              "#7201a8"
             ],
             [
              0.3333333333333333,
              "#9c179e"
             ],
             [
              0.4444444444444444,
              "#bd3786"
             ],
             [
              0.5555555555555556,
              "#d8576b"
             ],
             [
              0.6666666666666666,
              "#ed7953"
             ],
             [
              0.7777777777777778,
              "#fb9f3a"
             ],
             [
              0.8888888888888888,
              "#fdca26"
             ],
             [
              1,
              "#f0f921"
             ]
            ],
            "type": "histogram2d"
           }
          ],
          "histogram2dcontour": [
           {
            "colorbar": {
             "outlinewidth": 0,
             "ticks": ""
            },
            "colorscale": [
             [
              0,
              "#0d0887"
             ],
             [
              0.1111111111111111,
              "#46039f"
             ],
             [
              0.2222222222222222,
              "#7201a8"
             ],
             [
              0.3333333333333333,
              "#9c179e"
             ],
             [
              0.4444444444444444,
              "#bd3786"
             ],
             [
              0.5555555555555556,
              "#d8576b"
             ],
             [
              0.6666666666666666,
              "#ed7953"
             ],
             [
              0.7777777777777778,
              "#fb9f3a"
             ],
             [
              0.8888888888888888,
              "#fdca26"
             ],
             [
              1,
              "#f0f921"
             ]
            ],
            "type": "histogram2dcontour"
           }
          ],
          "mesh3d": [
           {
            "colorbar": {
             "outlinewidth": 0,
             "ticks": ""
            },
            "type": "mesh3d"
           }
          ],
          "parcoords": [
           {
            "line": {
             "colorbar": {
              "outlinewidth": 0,
              "ticks": ""
             }
            },
            "type": "parcoords"
           }
          ],
          "pie": [
           {
            "automargin": true,
            "type": "pie"
           }
          ],
          "scatter": [
           {
            "fillpattern": {
             "fillmode": "overlay",
             "size": 10,
             "solidity": 0.2
            },
            "type": "scatter"
           }
          ],
          "scatter3d": [
           {
            "line": {
             "colorbar": {
              "outlinewidth": 0,
              "ticks": ""
             }
            },
            "marker": {
             "colorbar": {
              "outlinewidth": 0,
              "ticks": ""
             }
            },
            "type": "scatter3d"
           }
          ],
          "scattercarpet": [
           {
            "marker": {
             "colorbar": {
              "outlinewidth": 0,
              "ticks": ""
             }
            },
            "type": "scattercarpet"
           }
          ],
          "scattergeo": [
           {
            "marker": {
             "colorbar": {
              "outlinewidth": 0,
              "ticks": ""
             }
            },
            "type": "scattergeo"
           }
          ],
          "scattergl": [
           {
            "marker": {
             "colorbar": {
              "outlinewidth": 0,
              "ticks": ""
             }
            },
            "type": "scattergl"
           }
          ],
          "scattermapbox": [
           {
            "marker": {
             "colorbar": {
              "outlinewidth": 0,
              "ticks": ""
             }
            },
            "type": "scattermapbox"
           }
          ],
          "scatterpolar": [
           {
            "marker": {
             "colorbar": {
              "outlinewidth": 0,
              "ticks": ""
             }
            },
            "type": "scatterpolar"
           }
          ],
          "scatterpolargl": [
           {
            "marker": {
             "colorbar": {
              "outlinewidth": 0,
              "ticks": ""
             }
            },
            "type": "scatterpolargl"
           }
          ],
          "scatterternary": [
           {
            "marker": {
             "colorbar": {
              "outlinewidth": 0,
              "ticks": ""
             }
            },
            "type": "scatterternary"
           }
          ],
          "surface": [
           {
            "colorbar": {
             "outlinewidth": 0,
             "ticks": ""
            },
            "colorscale": [
             [
              0,
              "#0d0887"
             ],
             [
              0.1111111111111111,
              "#46039f"
             ],
             [
              0.2222222222222222,
              "#7201a8"
             ],
             [
              0.3333333333333333,
              "#9c179e"
             ],
             [
              0.4444444444444444,
              "#bd3786"
             ],
             [
              0.5555555555555556,
              "#d8576b"
             ],
             [
              0.6666666666666666,
              "#ed7953"
             ],
             [
              0.7777777777777778,
              "#fb9f3a"
             ],
             [
              0.8888888888888888,
              "#fdca26"
             ],
             [
              1,
              "#f0f921"
             ]
            ],
            "type": "surface"
           }
          ],
          "table": [
           {
            "cells": {
             "fill": {
              "color": "#EBF0F8"
             },
             "line": {
              "color": "white"
             }
            },
            "header": {
             "fill": {
              "color": "#C8D4E3"
             },
             "line": {
              "color": "white"
             }
            },
            "type": "table"
           }
          ]
         },
         "layout": {
          "annotationdefaults": {
           "arrowcolor": "#2a3f5f",
           "arrowhead": 0,
           "arrowwidth": 1
          },
          "autotypenumbers": "strict",
          "coloraxis": {
           "colorbar": {
            "outlinewidth": 0,
            "ticks": ""
           }
          },
          "colorscale": {
           "diverging": [
            [
             0,
             "#8e0152"
            ],
            [
             0.1,
             "#c51b7d"
            ],
            [
             0.2,
             "#de77ae"
            ],
            [
             0.3,
             "#f1b6da"
            ],
            [
             0.4,
             "#fde0ef"
            ],
            [
             0.5,
             "#f7f7f7"
            ],
            [
             0.6,
             "#e6f5d0"
            ],
            [
             0.7,
             "#b8e186"
            ],
            [
             0.8,
             "#7fbc41"
            ],
            [
             0.9,
             "#4d9221"
            ],
            [
             1,
             "#276419"
            ]
           ],
           "sequential": [
            [
             0,
             "#0d0887"
            ],
            [
             0.1111111111111111,
             "#46039f"
            ],
            [
             0.2222222222222222,
             "#7201a8"
            ],
            [
             0.3333333333333333,
             "#9c179e"
            ],
            [
             0.4444444444444444,
             "#bd3786"
            ],
            [
             0.5555555555555556,
             "#d8576b"
            ],
            [
             0.6666666666666666,
             "#ed7953"
            ],
            [
             0.7777777777777778,
             "#fb9f3a"
            ],
            [
             0.8888888888888888,
             "#fdca26"
            ],
            [
             1,
             "#f0f921"
            ]
           ],
           "sequentialminus": [
            [
             0,
             "#0d0887"
            ],
            [
             0.1111111111111111,
             "#46039f"
            ],
            [
             0.2222222222222222,
             "#7201a8"
            ],
            [
             0.3333333333333333,
             "#9c179e"
            ],
            [
             0.4444444444444444,
             "#bd3786"
            ],
            [
             0.5555555555555556,
             "#d8576b"
            ],
            [
             0.6666666666666666,
             "#ed7953"
            ],
            [
             0.7777777777777778,
             "#fb9f3a"
            ],
            [
             0.8888888888888888,
             "#fdca26"
            ],
            [
             1,
             "#f0f921"
            ]
           ]
          },
          "colorway": [
           "#636efa",
           "#EF553B",
           "#00cc96",
           "#ab63fa",
           "#FFA15A",
           "#19d3f3",
           "#FF6692",
           "#B6E880",
           "#FF97FF",
           "#FECB52"
          ],
          "font": {
           "color": "#2a3f5f"
          },
          "geo": {
           "bgcolor": "white",
           "lakecolor": "white",
           "landcolor": "#E5ECF6",
           "showlakes": true,
           "showland": true,
           "subunitcolor": "white"
          },
          "hoverlabel": {
           "align": "left"
          },
          "hovermode": "closest",
          "mapbox": {
           "style": "light"
          },
          "paper_bgcolor": "white",
          "plot_bgcolor": "#E5ECF6",
          "polar": {
           "angularaxis": {
            "gridcolor": "white",
            "linecolor": "white",
            "ticks": ""
           },
           "bgcolor": "#E5ECF6",
           "radialaxis": {
            "gridcolor": "white",
            "linecolor": "white",
            "ticks": ""
           }
          },
          "scene": {
           "xaxis": {
            "backgroundcolor": "#E5ECF6",
            "gridcolor": "white",
            "gridwidth": 2,
            "linecolor": "white",
            "showbackground": true,
            "ticks": "",
            "zerolinecolor": "white"
           },
           "yaxis": {
            "backgroundcolor": "#E5ECF6",
            "gridcolor": "white",
            "gridwidth": 2,
            "linecolor": "white",
            "showbackground": true,
            "ticks": "",
            "zerolinecolor": "white"
           },
           "zaxis": {
            "backgroundcolor": "#E5ECF6",
            "gridcolor": "white",
            "gridwidth": 2,
            "linecolor": "white",
            "showbackground": true,
            "ticks": "",
            "zerolinecolor": "white"
           }
          },
          "shapedefaults": {
           "line": {
            "color": "#2a3f5f"
           }
          },
          "ternary": {
           "aaxis": {
            "gridcolor": "white",
            "linecolor": "white",
            "ticks": ""
           },
           "baxis": {
            "gridcolor": "white",
            "linecolor": "white",
            "ticks": ""
           },
           "bgcolor": "#E5ECF6",
           "caxis": {
            "gridcolor": "white",
            "linecolor": "white",
            "ticks": ""
           }
          },
          "title": {
           "x": 0.05
          },
          "xaxis": {
           "automargin": true,
           "gridcolor": "white",
           "linecolor": "white",
           "ticks": "",
           "title": {
            "standoff": 15
           },
           "zerolinecolor": "white",
           "zerolinewidth": 2
          },
          "yaxis": {
           "automargin": true,
           "gridcolor": "white",
           "linecolor": "white",
           "ticks": "",
           "title": {
            "standoff": 15
           },
           "zerolinecolor": "white",
           "zerolinewidth": 2
          }
         }
        },
        "title": {
         "font": {
          "size": 22
         },
         "text": "Air Hockey Usage Time Trend",
         "x": 0.5,
         "xanchor": "center",
         "y": 0.85
        },
        "width": 600,
        "xaxis": {
         "anchor": "y",
         "categoryarray": [
          "0-4",
          "5-9",
          "10-14",
          "15-19",
          "20-24",
          "25-29",
          "30-34",
          "35-39",
          "40-44",
          "45-49",
          "50-54",
          "55-59",
          "60-64",
          "65-69",
          "70-74",
          "75-79",
          "80-84",
          "85-89",
          "90-94",
          "95-99",
          "100-104",
          "105-109",
          "110-114",
          "115-119",
          "120-124"
         ],
         "categoryorder": "array",
         "domain": [
          0,
          1
         ],
         "tickfont": {
          "size": 16
         },
         "tickmode": "array",
         "ticktext": [
          "0",
          "25",
          "50",
          "75",
          "100",
          "125"
         ],
         "tickvals": [
          "0-4",
          "20-24",
          "45-49",
          "70-74",
          "95-99",
          "120-124"
         ],
         "title": {
          "font": {
           "size": 18
          },
          "text": "Duration (minutes)"
         }
        },
        "yaxis": {
         "anchor": "x",
         "domain": [
          0,
          1
         ],
         "gridcolor": "rgba(128, 128, 128, 0.5)",
         "tickfont": {
          "size": 16
         },
         "title": {
          "font": {
           "size": 18
          },
          "text": "# of Checkouts"
         }
        }
       }
      }
     },
     "metadata": {},
     "output_type": "display_data"
    },
    {
     "name": "stdout",
     "output_type": "stream",
     "text": [
      "Visualization saved as ../resources/viz/f23_foosball_usage_trend.html\n"
     ]
    },
    {
     "data": {
      "application/vnd.plotly.v1+json": {
       "config": {
        "plotlyServerURL": "https://plot.ly"
       },
       "data": [
        {
         "alignmentgroup": "True",
         "hovertemplate": "Duration (minutes)=%{x}<br># of Checkouts=%{y}<extra></extra>",
         "legendgroup": "",
         "marker": {
          "color": "#636efa",
          "pattern": {
           "shape": ""
          }
         },
         "name": "",
         "offsetgroup": "",
         "orientation": "v",
         "showlegend": false,
         "textposition": "auto",
         "type": "bar",
         "x": [
          "0-4",
          "5-9",
          "10-14",
          "15-19",
          "20-24",
          "25-29",
          "30-34",
          "35-39",
          "40-44",
          "45-49",
          "50-54",
          "55-59",
          "60-64",
          "65-69",
          "70-74",
          "75-79",
          "80-84",
          "85-89",
          "90-94",
          "95-99",
          "100-104",
          "105-109",
          "110-114",
          "115-119",
          "120-124"
         ],
         "xaxis": "x",
         "y": [
          9,
          69,
          74,
          54,
          52,
          34,
          29,
          10,
          10,
          8,
          3,
          7,
          5,
          3,
          3,
          0,
          1,
          1,
          0,
          0,
          2,
          1,
          0,
          0,
          0
         ],
         "yaxis": "y"
        }
       ],
       "layout": {
        "bargap": 0.1,
        "barmode": "relative",
        "font": {
         "color": "black",
         "family": "Droid Serif"
        },
        "height": 400,
        "hoverlabel": {
         "bgcolor": "black",
         "font": {
          "color": "white"
         }
        },
        "legend": {
         "tracegroupgap": 0
        },
        "paper_bgcolor": "white",
        "plot_bgcolor": "white",
        "showlegend": false,
        "template": {
         "data": {
          "bar": [
           {
            "error_x": {
             "color": "#2a3f5f"
            },
            "error_y": {
             "color": "#2a3f5f"
            },
            "marker": {
             "line": {
              "color": "#E5ECF6",
              "width": 0.5
             },
             "pattern": {
              "fillmode": "overlay",
              "size": 10,
              "solidity": 0.2
             }
            },
            "type": "bar"
           }
          ],
          "barpolar": [
           {
            "marker": {
             "line": {
              "color": "#E5ECF6",
              "width": 0.5
             },
             "pattern": {
              "fillmode": "overlay",
              "size": 10,
              "solidity": 0.2
             }
            },
            "type": "barpolar"
           }
          ],
          "carpet": [
           {
            "aaxis": {
             "endlinecolor": "#2a3f5f",
             "gridcolor": "white",
             "linecolor": "white",
             "minorgridcolor": "white",
             "startlinecolor": "#2a3f5f"
            },
            "baxis": {
             "endlinecolor": "#2a3f5f",
             "gridcolor": "white",
             "linecolor": "white",
             "minorgridcolor": "white",
             "startlinecolor": "#2a3f5f"
            },
            "type": "carpet"
           }
          ],
          "choropleth": [
           {
            "colorbar": {
             "outlinewidth": 0,
             "ticks": ""
            },
            "type": "choropleth"
           }
          ],
          "contour": [
           {
            "colorbar": {
             "outlinewidth": 0,
             "ticks": ""
            },
            "colorscale": [
             [
              0,
              "#0d0887"
             ],
             [
              0.1111111111111111,
              "#46039f"
             ],
             [
              0.2222222222222222,
              "#7201a8"
             ],
             [
              0.3333333333333333,
              "#9c179e"
             ],
             [
              0.4444444444444444,
              "#bd3786"
             ],
             [
              0.5555555555555556,
              "#d8576b"
             ],
             [
              0.6666666666666666,
              "#ed7953"
             ],
             [
              0.7777777777777778,
              "#fb9f3a"
             ],
             [
              0.8888888888888888,
              "#fdca26"
             ],
             [
              1,
              "#f0f921"
             ]
            ],
            "type": "contour"
           }
          ],
          "contourcarpet": [
           {
            "colorbar": {
             "outlinewidth": 0,
             "ticks": ""
            },
            "type": "contourcarpet"
           }
          ],
          "heatmap": [
           {
            "colorbar": {
             "outlinewidth": 0,
             "ticks": ""
            },
            "colorscale": [
             [
              0,
              "#0d0887"
             ],
             [
              0.1111111111111111,
              "#46039f"
             ],
             [
              0.2222222222222222,
              "#7201a8"
             ],
             [
              0.3333333333333333,
              "#9c179e"
             ],
             [
              0.4444444444444444,
              "#bd3786"
             ],
             [
              0.5555555555555556,
              "#d8576b"
             ],
             [
              0.6666666666666666,
              "#ed7953"
             ],
             [
              0.7777777777777778,
              "#fb9f3a"
             ],
             [
              0.8888888888888888,
              "#fdca26"
             ],
             [
              1,
              "#f0f921"
             ]
            ],
            "type": "heatmap"
           }
          ],
          "heatmapgl": [
           {
            "colorbar": {
             "outlinewidth": 0,
             "ticks": ""
            },
            "colorscale": [
             [
              0,
              "#0d0887"
             ],
             [
              0.1111111111111111,
              "#46039f"
             ],
             [
              0.2222222222222222,
              "#7201a8"
             ],
             [
              0.3333333333333333,
              "#9c179e"
             ],
             [
              0.4444444444444444,
              "#bd3786"
             ],
             [
              0.5555555555555556,
              "#d8576b"
             ],
             [
              0.6666666666666666,
              "#ed7953"
             ],
             [
              0.7777777777777778,
              "#fb9f3a"
             ],
             [
              0.8888888888888888,
              "#fdca26"
             ],
             [
              1,
              "#f0f921"
             ]
            ],
            "type": "heatmapgl"
           }
          ],
          "histogram": [
           {
            "marker": {
             "pattern": {
              "fillmode": "overlay",
              "size": 10,
              "solidity": 0.2
             }
            },
            "type": "histogram"
           }
          ],
          "histogram2d": [
           {
            "colorbar": {
             "outlinewidth": 0,
             "ticks": ""
            },
            "colorscale": [
             [
              0,
              "#0d0887"
             ],
             [
              0.1111111111111111,
              "#46039f"
             ],
             [
              0.2222222222222222,
              "#7201a8"
             ],
             [
              0.3333333333333333,
              "#9c179e"
             ],
             [
              0.4444444444444444,
              "#bd3786"
             ],
             [
              0.5555555555555556,
              "#d8576b"
             ],
             [
              0.6666666666666666,
              "#ed7953"
             ],
             [
              0.7777777777777778,
              "#fb9f3a"
             ],
             [
              0.8888888888888888,
              "#fdca26"
             ],
             [
              1,
              "#f0f921"
             ]
            ],
            "type": "histogram2d"
           }
          ],
          "histogram2dcontour": [
           {
            "colorbar": {
             "outlinewidth": 0,
             "ticks": ""
            },
            "colorscale": [
             [
              0,
              "#0d0887"
             ],
             [
              0.1111111111111111,
              "#46039f"
             ],
             [
              0.2222222222222222,
              "#7201a8"
             ],
             [
              0.3333333333333333,
              "#9c179e"
             ],
             [
              0.4444444444444444,
              "#bd3786"
             ],
             [
              0.5555555555555556,
              "#d8576b"
             ],
             [
              0.6666666666666666,
              "#ed7953"
             ],
             [
              0.7777777777777778,
              "#fb9f3a"
             ],
             [
              0.8888888888888888,
              "#fdca26"
             ],
             [
              1,
              "#f0f921"
             ]
            ],
            "type": "histogram2dcontour"
           }
          ],
          "mesh3d": [
           {
            "colorbar": {
             "outlinewidth": 0,
             "ticks": ""
            },
            "type": "mesh3d"
           }
          ],
          "parcoords": [
           {
            "line": {
             "colorbar": {
              "outlinewidth": 0,
              "ticks": ""
             }
            },
            "type": "parcoords"
           }
          ],
          "pie": [
           {
            "automargin": true,
            "type": "pie"
           }
          ],
          "scatter": [
           {
            "fillpattern": {
             "fillmode": "overlay",
             "size": 10,
             "solidity": 0.2
            },
            "type": "scatter"
           }
          ],
          "scatter3d": [
           {
            "line": {
             "colorbar": {
              "outlinewidth": 0,
              "ticks": ""
             }
            },
            "marker": {
             "colorbar": {
              "outlinewidth": 0,
              "ticks": ""
             }
            },
            "type": "scatter3d"
           }
          ],
          "scattercarpet": [
           {
            "marker": {
             "colorbar": {
              "outlinewidth": 0,
              "ticks": ""
             }
            },
            "type": "scattercarpet"
           }
          ],
          "scattergeo": [
           {
            "marker": {
             "colorbar": {
              "outlinewidth": 0,
              "ticks": ""
             }
            },
            "type": "scattergeo"
           }
          ],
          "scattergl": [
           {
            "marker": {
             "colorbar": {
              "outlinewidth": 0,
              "ticks": ""
             }
            },
            "type": "scattergl"
           }
          ],
          "scattermapbox": [
           {
            "marker": {
             "colorbar": {
              "outlinewidth": 0,
              "ticks": ""
             }
            },
            "type": "scattermapbox"
           }
          ],
          "scatterpolar": [
           {
            "marker": {
             "colorbar": {
              "outlinewidth": 0,
              "ticks": ""
             }
            },
            "type": "scatterpolar"
           }
          ],
          "scatterpolargl": [
           {
            "marker": {
             "colorbar": {
              "outlinewidth": 0,
              "ticks": ""
             }
            },
            "type": "scatterpolargl"
           }
          ],
          "scatterternary": [
           {
            "marker": {
             "colorbar": {
              "outlinewidth": 0,
              "ticks": ""
             }
            },
            "type": "scatterternary"
           }
          ],
          "surface": [
           {
            "colorbar": {
             "outlinewidth": 0,
             "ticks": ""
            },
            "colorscale": [
             [
              0,
              "#0d0887"
             ],
             [
              0.1111111111111111,
              "#46039f"
             ],
             [
              0.2222222222222222,
              "#7201a8"
             ],
             [
              0.3333333333333333,
              "#9c179e"
             ],
             [
              0.4444444444444444,
              "#bd3786"
             ],
             [
              0.5555555555555556,
              "#d8576b"
             ],
             [
              0.6666666666666666,
              "#ed7953"
             ],
             [
              0.7777777777777778,
              "#fb9f3a"
             ],
             [
              0.8888888888888888,
              "#fdca26"
             ],
             [
              1,
              "#f0f921"
             ]
            ],
            "type": "surface"
           }
          ],
          "table": [
           {
            "cells": {
             "fill": {
              "color": "#EBF0F8"
             },
             "line": {
              "color": "white"
             }
            },
            "header": {
             "fill": {
              "color": "#C8D4E3"
             },
             "line": {
              "color": "white"
             }
            },
            "type": "table"
           }
          ]
         },
         "layout": {
          "annotationdefaults": {
           "arrowcolor": "#2a3f5f",
           "arrowhead": 0,
           "arrowwidth": 1
          },
          "autotypenumbers": "strict",
          "coloraxis": {
           "colorbar": {
            "outlinewidth": 0,
            "ticks": ""
           }
          },
          "colorscale": {
           "diverging": [
            [
             0,
             "#8e0152"
            ],
            [
             0.1,
             "#c51b7d"
            ],
            [
             0.2,
             "#de77ae"
            ],
            [
             0.3,
             "#f1b6da"
            ],
            [
             0.4,
             "#fde0ef"
            ],
            [
             0.5,
             "#f7f7f7"
            ],
            [
             0.6,
             "#e6f5d0"
            ],
            [
             0.7,
             "#b8e186"
            ],
            [
             0.8,
             "#7fbc41"
            ],
            [
             0.9,
             "#4d9221"
            ],
            [
             1,
             "#276419"
            ]
           ],
           "sequential": [
            [
             0,
             "#0d0887"
            ],
            [
             0.1111111111111111,
             "#46039f"
            ],
            [
             0.2222222222222222,
             "#7201a8"
            ],
            [
             0.3333333333333333,
             "#9c179e"
            ],
            [
             0.4444444444444444,
             "#bd3786"
            ],
            [
             0.5555555555555556,
             "#d8576b"
            ],
            [
             0.6666666666666666,
             "#ed7953"
            ],
            [
             0.7777777777777778,
             "#fb9f3a"
            ],
            [
             0.8888888888888888,
             "#fdca26"
            ],
            [
             1,
             "#f0f921"
            ]
           ],
           "sequentialminus": [
            [
             0,
             "#0d0887"
            ],
            [
             0.1111111111111111,
             "#46039f"
            ],
            [
             0.2222222222222222,
             "#7201a8"
            ],
            [
             0.3333333333333333,
             "#9c179e"
            ],
            [
             0.4444444444444444,
             "#bd3786"
            ],
            [
             0.5555555555555556,
             "#d8576b"
            ],
            [
             0.6666666666666666,
             "#ed7953"
            ],
            [
             0.7777777777777778,
             "#fb9f3a"
            ],
            [
             0.8888888888888888,
             "#fdca26"
            ],
            [
             1,
             "#f0f921"
            ]
           ]
          },
          "colorway": [
           "#636efa",
           "#EF553B",
           "#00cc96",
           "#ab63fa",
           "#FFA15A",
           "#19d3f3",
           "#FF6692",
           "#B6E880",
           "#FF97FF",
           "#FECB52"
          ],
          "font": {
           "color": "#2a3f5f"
          },
          "geo": {
           "bgcolor": "white",
           "lakecolor": "white",
           "landcolor": "#E5ECF6",
           "showlakes": true,
           "showland": true,
           "subunitcolor": "white"
          },
          "hoverlabel": {
           "align": "left"
          },
          "hovermode": "closest",
          "mapbox": {
           "style": "light"
          },
          "paper_bgcolor": "white",
          "plot_bgcolor": "#E5ECF6",
          "polar": {
           "angularaxis": {
            "gridcolor": "white",
            "linecolor": "white",
            "ticks": ""
           },
           "bgcolor": "#E5ECF6",
           "radialaxis": {
            "gridcolor": "white",
            "linecolor": "white",
            "ticks": ""
           }
          },
          "scene": {
           "xaxis": {
            "backgroundcolor": "#E5ECF6",
            "gridcolor": "white",
            "gridwidth": 2,
            "linecolor": "white",
            "showbackground": true,
            "ticks": "",
            "zerolinecolor": "white"
           },
           "yaxis": {
            "backgroundcolor": "#E5ECF6",
            "gridcolor": "white",
            "gridwidth": 2,
            "linecolor": "white",
            "showbackground": true,
            "ticks": "",
            "zerolinecolor": "white"
           },
           "zaxis": {
            "backgroundcolor": "#E5ECF6",
            "gridcolor": "white",
            "gridwidth": 2,
            "linecolor": "white",
            "showbackground": true,
            "ticks": "",
            "zerolinecolor": "white"
           }
          },
          "shapedefaults": {
           "line": {
            "color": "#2a3f5f"
           }
          },
          "ternary": {
           "aaxis": {
            "gridcolor": "white",
            "linecolor": "white",
            "ticks": ""
           },
           "baxis": {
            "gridcolor": "white",
            "linecolor": "white",
            "ticks": ""
           },
           "bgcolor": "#E5ECF6",
           "caxis": {
            "gridcolor": "white",
            "linecolor": "white",
            "ticks": ""
           }
          },
          "title": {
           "x": 0.05
          },
          "xaxis": {
           "automargin": true,
           "gridcolor": "white",
           "linecolor": "white",
           "ticks": "",
           "title": {
            "standoff": 15
           },
           "zerolinecolor": "white",
           "zerolinewidth": 2
          },
          "yaxis": {
           "automargin": true,
           "gridcolor": "white",
           "linecolor": "white",
           "ticks": "",
           "title": {
            "standoff": 15
           },
           "zerolinecolor": "white",
           "zerolinewidth": 2
          }
         }
        },
        "title": {
         "font": {
          "size": 22
         },
         "text": "Foosball Usage Time Trend",
         "x": 0.5,
         "xanchor": "center",
         "y": 0.85
        },
        "width": 600,
        "xaxis": {
         "anchor": "y",
         "categoryarray": [
          "0-4",
          "5-9",
          "10-14",
          "15-19",
          "20-24",
          "25-29",
          "30-34",
          "35-39",
          "40-44",
          "45-49",
          "50-54",
          "55-59",
          "60-64",
          "65-69",
          "70-74",
          "75-79",
          "80-84",
          "85-89",
          "90-94",
          "95-99",
          "100-104",
          "105-109",
          "110-114",
          "115-119",
          "120-124"
         ],
         "categoryorder": "array",
         "domain": [
          0,
          1
         ],
         "tickfont": {
          "size": 16
         },
         "tickmode": "array",
         "ticktext": [
          "0",
          "25",
          "50",
          "75",
          "100",
          "125"
         ],
         "tickvals": [
          "0-4",
          "20-24",
          "45-49",
          "70-74",
          "95-99",
          "120-124"
         ],
         "title": {
          "font": {
           "size": 18
          },
          "text": "Duration (minutes)"
         }
        },
        "yaxis": {
         "anchor": "x",
         "domain": [
          0,
          1
         ],
         "gridcolor": "rgba(128, 128, 128, 0.5)",
         "tickfont": {
          "size": 16
         },
         "title": {
          "font": {
           "size": 18
          },
          "text": "# of Checkouts"
         }
        }
       }
      }
     },
     "metadata": {},
     "output_type": "display_data"
    },
    {
     "name": "stdout",
     "output_type": "stream",
     "text": [
      "Visualization saved as ../resources/viz/f23_shuffleboard_usage_trend.html\n"
     ]
    },
    {
     "data": {
      "application/vnd.plotly.v1+json": {
       "config": {
        "plotlyServerURL": "https://plot.ly"
       },
       "data": [
        {
         "alignmentgroup": "True",
         "hovertemplate": "Duration (minutes)=%{x}<br># of Checkouts=%{y}<extra></extra>",
         "legendgroup": "",
         "marker": {
          "color": "#636efa",
          "pattern": {
           "shape": ""
          }
         },
         "name": "",
         "offsetgroup": "",
         "orientation": "v",
         "showlegend": false,
         "textposition": "auto",
         "type": "bar",
         "x": [
          "0-4",
          "5-9",
          "10-14",
          "15-19",
          "20-24",
          "25-29",
          "30-34",
          "35-39",
          "40-44",
          "45-49",
          "50-54",
          "55-59",
          "60-64",
          "65-69",
          "70-74",
          "75-79",
          "80-84",
          "85-89",
          "90-94",
          "95-99",
          "100-104",
          "105-109",
          "110-114",
          "115-119",
          "120-124"
         ],
         "xaxis": "x",
         "y": [
          4,
          23,
          27,
          19,
          5,
          6,
          8,
          1,
          2,
          2,
          0,
          0,
          0,
          0,
          0,
          0,
          0,
          0,
          0,
          0,
          0,
          0,
          1,
          0,
          0
         ],
         "yaxis": "y"
        }
       ],
       "layout": {
        "bargap": 0.1,
        "barmode": "relative",
        "font": {
         "color": "black",
         "family": "Droid Serif"
        },
        "height": 400,
        "hoverlabel": {
         "bgcolor": "black",
         "font": {
          "color": "white"
         }
        },
        "legend": {
         "tracegroupgap": 0
        },
        "paper_bgcolor": "white",
        "plot_bgcolor": "white",
        "showlegend": false,
        "template": {
         "data": {
          "bar": [
           {
            "error_x": {
             "color": "#2a3f5f"
            },
            "error_y": {
             "color": "#2a3f5f"
            },
            "marker": {
             "line": {
              "color": "#E5ECF6",
              "width": 0.5
             },
             "pattern": {
              "fillmode": "overlay",
              "size": 10,
              "solidity": 0.2
             }
            },
            "type": "bar"
           }
          ],
          "barpolar": [
           {
            "marker": {
             "line": {
              "color": "#E5ECF6",
              "width": 0.5
             },
             "pattern": {
              "fillmode": "overlay",
              "size": 10,
              "solidity": 0.2
             }
            },
            "type": "barpolar"
           }
          ],
          "carpet": [
           {
            "aaxis": {
             "endlinecolor": "#2a3f5f",
             "gridcolor": "white",
             "linecolor": "white",
             "minorgridcolor": "white",
             "startlinecolor": "#2a3f5f"
            },
            "baxis": {
             "endlinecolor": "#2a3f5f",
             "gridcolor": "white",
             "linecolor": "white",
             "minorgridcolor": "white",
             "startlinecolor": "#2a3f5f"
            },
            "type": "carpet"
           }
          ],
          "choropleth": [
           {
            "colorbar": {
             "outlinewidth": 0,
             "ticks": ""
            },
            "type": "choropleth"
           }
          ],
          "contour": [
           {
            "colorbar": {
             "outlinewidth": 0,
             "ticks": ""
            },
            "colorscale": [
             [
              0,
              "#0d0887"
             ],
             [
              0.1111111111111111,
              "#46039f"
             ],
             [
              0.2222222222222222,
              "#7201a8"
             ],
             [
              0.3333333333333333,
              "#9c179e"
             ],
             [
              0.4444444444444444,
              "#bd3786"
             ],
             [
              0.5555555555555556,
              "#d8576b"
             ],
             [
              0.6666666666666666,
              "#ed7953"
             ],
             [
              0.7777777777777778,
              "#fb9f3a"
             ],
             [
              0.8888888888888888,
              "#fdca26"
             ],
             [
              1,
              "#f0f921"
             ]
            ],
            "type": "contour"
           }
          ],
          "contourcarpet": [
           {
            "colorbar": {
             "outlinewidth": 0,
             "ticks": ""
            },
            "type": "contourcarpet"
           }
          ],
          "heatmap": [
           {
            "colorbar": {
             "outlinewidth": 0,
             "ticks": ""
            },
            "colorscale": [
             [
              0,
              "#0d0887"
             ],
             [
              0.1111111111111111,
              "#46039f"
             ],
             [
              0.2222222222222222,
              "#7201a8"
             ],
             [
              0.3333333333333333,
              "#9c179e"
             ],
             [
              0.4444444444444444,
              "#bd3786"
             ],
             [
              0.5555555555555556,
              "#d8576b"
             ],
             [
              0.6666666666666666,
              "#ed7953"
             ],
             [
              0.7777777777777778,
              "#fb9f3a"
             ],
             [
              0.8888888888888888,
              "#fdca26"
             ],
             [
              1,
              "#f0f921"
             ]
            ],
            "type": "heatmap"
           }
          ],
          "heatmapgl": [
           {
            "colorbar": {
             "outlinewidth": 0,
             "ticks": ""
            },
            "colorscale": [
             [
              0,
              "#0d0887"
             ],
             [
              0.1111111111111111,
              "#46039f"
             ],
             [
              0.2222222222222222,
              "#7201a8"
             ],
             [
              0.3333333333333333,
              "#9c179e"
             ],
             [
              0.4444444444444444,
              "#bd3786"
             ],
             [
              0.5555555555555556,
              "#d8576b"
             ],
             [
              0.6666666666666666,
              "#ed7953"
             ],
             [
              0.7777777777777778,
              "#fb9f3a"
             ],
             [
              0.8888888888888888,
              "#fdca26"
             ],
             [
              1,
              "#f0f921"
             ]
            ],
            "type": "heatmapgl"
           }
          ],
          "histogram": [
           {
            "marker": {
             "pattern": {
              "fillmode": "overlay",
              "size": 10,
              "solidity": 0.2
             }
            },
            "type": "histogram"
           }
          ],
          "histogram2d": [
           {
            "colorbar": {
             "outlinewidth": 0,
             "ticks": ""
            },
            "colorscale": [
             [
              0,
              "#0d0887"
             ],
             [
              0.1111111111111111,
              "#46039f"
             ],
             [
              0.2222222222222222,
              "#7201a8"
             ],
             [
              0.3333333333333333,
              "#9c179e"
             ],
             [
              0.4444444444444444,
              "#bd3786"
             ],
             [
              0.5555555555555556,
              "#d8576b"
             ],
             [
              0.6666666666666666,
              "#ed7953"
             ],
             [
              0.7777777777777778,
              "#fb9f3a"
             ],
             [
              0.8888888888888888,
              "#fdca26"
             ],
             [
              1,
              "#f0f921"
             ]
            ],
            "type": "histogram2d"
           }
          ],
          "histogram2dcontour": [
           {
            "colorbar": {
             "outlinewidth": 0,
             "ticks": ""
            },
            "colorscale": [
             [
              0,
              "#0d0887"
             ],
             [
              0.1111111111111111,
              "#46039f"
             ],
             [
              0.2222222222222222,
              "#7201a8"
             ],
             [
              0.3333333333333333,
              "#9c179e"
             ],
             [
              0.4444444444444444,
              "#bd3786"
             ],
             [
              0.5555555555555556,
              "#d8576b"
             ],
             [
              0.6666666666666666,
              "#ed7953"
             ],
             [
              0.7777777777777778,
              "#fb9f3a"
             ],
             [
              0.8888888888888888,
              "#fdca26"
             ],
             [
              1,
              "#f0f921"
             ]
            ],
            "type": "histogram2dcontour"
           }
          ],
          "mesh3d": [
           {
            "colorbar": {
             "outlinewidth": 0,
             "ticks": ""
            },
            "type": "mesh3d"
           }
          ],
          "parcoords": [
           {
            "line": {
             "colorbar": {
              "outlinewidth": 0,
              "ticks": ""
             }
            },
            "type": "parcoords"
           }
          ],
          "pie": [
           {
            "automargin": true,
            "type": "pie"
           }
          ],
          "scatter": [
           {
            "fillpattern": {
             "fillmode": "overlay",
             "size": 10,
             "solidity": 0.2
            },
            "type": "scatter"
           }
          ],
          "scatter3d": [
           {
            "line": {
             "colorbar": {
              "outlinewidth": 0,
              "ticks": ""
             }
            },
            "marker": {
             "colorbar": {
              "outlinewidth": 0,
              "ticks": ""
             }
            },
            "type": "scatter3d"
           }
          ],
          "scattercarpet": [
           {
            "marker": {
             "colorbar": {
              "outlinewidth": 0,
              "ticks": ""
             }
            },
            "type": "scattercarpet"
           }
          ],
          "scattergeo": [
           {
            "marker": {
             "colorbar": {
              "outlinewidth": 0,
              "ticks": ""
             }
            },
            "type": "scattergeo"
           }
          ],
          "scattergl": [
           {
            "marker": {
             "colorbar": {
              "outlinewidth": 0,
              "ticks": ""
             }
            },
            "type": "scattergl"
           }
          ],
          "scattermapbox": [
           {
            "marker": {
             "colorbar": {
              "outlinewidth": 0,
              "ticks": ""
             }
            },
            "type": "scattermapbox"
           }
          ],
          "scatterpolar": [
           {
            "marker": {
             "colorbar": {
              "outlinewidth": 0,
              "ticks": ""
             }
            },
            "type": "scatterpolar"
           }
          ],
          "scatterpolargl": [
           {
            "marker": {
             "colorbar": {
              "outlinewidth": 0,
              "ticks": ""
             }
            },
            "type": "scatterpolargl"
           }
          ],
          "scatterternary": [
           {
            "marker": {
             "colorbar": {
              "outlinewidth": 0,
              "ticks": ""
             }
            },
            "type": "scatterternary"
           }
          ],
          "surface": [
           {
            "colorbar": {
             "outlinewidth": 0,
             "ticks": ""
            },
            "colorscale": [
             [
              0,
              "#0d0887"
             ],
             [
              0.1111111111111111,
              "#46039f"
             ],
             [
              0.2222222222222222,
              "#7201a8"
             ],
             [
              0.3333333333333333,
              "#9c179e"
             ],
             [
              0.4444444444444444,
              "#bd3786"
             ],
             [
              0.5555555555555556,
              "#d8576b"
             ],
             [
              0.6666666666666666,
              "#ed7953"
             ],
             [
              0.7777777777777778,
              "#fb9f3a"
             ],
             [
              0.8888888888888888,
              "#fdca26"
             ],
             [
              1,
              "#f0f921"
             ]
            ],
            "type": "surface"
           }
          ],
          "table": [
           {
            "cells": {
             "fill": {
              "color": "#EBF0F8"
             },
             "line": {
              "color": "white"
             }
            },
            "header": {
             "fill": {
              "color": "#C8D4E3"
             },
             "line": {
              "color": "white"
             }
            },
            "type": "table"
           }
          ]
         },
         "layout": {
          "annotationdefaults": {
           "arrowcolor": "#2a3f5f",
           "arrowhead": 0,
           "arrowwidth": 1
          },
          "autotypenumbers": "strict",
          "coloraxis": {
           "colorbar": {
            "outlinewidth": 0,
            "ticks": ""
           }
          },
          "colorscale": {
           "diverging": [
            [
             0,
             "#8e0152"
            ],
            [
             0.1,
             "#c51b7d"
            ],
            [
             0.2,
             "#de77ae"
            ],
            [
             0.3,
             "#f1b6da"
            ],
            [
             0.4,
             "#fde0ef"
            ],
            [
             0.5,
             "#f7f7f7"
            ],
            [
             0.6,
             "#e6f5d0"
            ],
            [
             0.7,
             "#b8e186"
            ],
            [
             0.8,
             "#7fbc41"
            ],
            [
             0.9,
             "#4d9221"
            ],
            [
             1,
             "#276419"
            ]
           ],
           "sequential": [
            [
             0,
             "#0d0887"
            ],
            [
             0.1111111111111111,
             "#46039f"
            ],
            [
             0.2222222222222222,
             "#7201a8"
            ],
            [
             0.3333333333333333,
             "#9c179e"
            ],
            [
             0.4444444444444444,
             "#bd3786"
            ],
            [
             0.5555555555555556,
             "#d8576b"
            ],
            [
             0.6666666666666666,
             "#ed7953"
            ],
            [
             0.7777777777777778,
             "#fb9f3a"
            ],
            [
             0.8888888888888888,
             "#fdca26"
            ],
            [
             1,
             "#f0f921"
            ]
           ],
           "sequentialminus": [
            [
             0,
             "#0d0887"
            ],
            [
             0.1111111111111111,
             "#46039f"
            ],
            [
             0.2222222222222222,
             "#7201a8"
            ],
            [
             0.3333333333333333,
             "#9c179e"
            ],
            [
             0.4444444444444444,
             "#bd3786"
            ],
            [
             0.5555555555555556,
             "#d8576b"
            ],
            [
             0.6666666666666666,
             "#ed7953"
            ],
            [
             0.7777777777777778,
             "#fb9f3a"
            ],
            [
             0.8888888888888888,
             "#fdca26"
            ],
            [
             1,
             "#f0f921"
            ]
           ]
          },
          "colorway": [
           "#636efa",
           "#EF553B",
           "#00cc96",
           "#ab63fa",
           "#FFA15A",
           "#19d3f3",
           "#FF6692",
           "#B6E880",
           "#FF97FF",
           "#FECB52"
          ],
          "font": {
           "color": "#2a3f5f"
          },
          "geo": {
           "bgcolor": "white",
           "lakecolor": "white",
           "landcolor": "#E5ECF6",
           "showlakes": true,
           "showland": true,
           "subunitcolor": "white"
          },
          "hoverlabel": {
           "align": "left"
          },
          "hovermode": "closest",
          "mapbox": {
           "style": "light"
          },
          "paper_bgcolor": "white",
          "plot_bgcolor": "#E5ECF6",
          "polar": {
           "angularaxis": {
            "gridcolor": "white",
            "linecolor": "white",
            "ticks": ""
           },
           "bgcolor": "#E5ECF6",
           "radialaxis": {
            "gridcolor": "white",
            "linecolor": "white",
            "ticks": ""
           }
          },
          "scene": {
           "xaxis": {
            "backgroundcolor": "#E5ECF6",
            "gridcolor": "white",
            "gridwidth": 2,
            "linecolor": "white",
            "showbackground": true,
            "ticks": "",
            "zerolinecolor": "white"
           },
           "yaxis": {
            "backgroundcolor": "#E5ECF6",
            "gridcolor": "white",
            "gridwidth": 2,
            "linecolor": "white",
            "showbackground": true,
            "ticks": "",
            "zerolinecolor": "white"
           },
           "zaxis": {
            "backgroundcolor": "#E5ECF6",
            "gridcolor": "white",
            "gridwidth": 2,
            "linecolor": "white",
            "showbackground": true,
            "ticks": "",
            "zerolinecolor": "white"
           }
          },
          "shapedefaults": {
           "line": {
            "color": "#2a3f5f"
           }
          },
          "ternary": {
           "aaxis": {
            "gridcolor": "white",
            "linecolor": "white",
            "ticks": ""
           },
           "baxis": {
            "gridcolor": "white",
            "linecolor": "white",
            "ticks": ""
           },
           "bgcolor": "#E5ECF6",
           "caxis": {
            "gridcolor": "white",
            "linecolor": "white",
            "ticks": ""
           }
          },
          "title": {
           "x": 0.05
          },
          "xaxis": {
           "automargin": true,
           "gridcolor": "white",
           "linecolor": "white",
           "ticks": "",
           "title": {
            "standoff": 15
           },
           "zerolinecolor": "white",
           "zerolinewidth": 2
          },
          "yaxis": {
           "automargin": true,
           "gridcolor": "white",
           "linecolor": "white",
           "ticks": "",
           "title": {
            "standoff": 15
           },
           "zerolinecolor": "white",
           "zerolinewidth": 2
          }
         }
        },
        "title": {
         "font": {
          "size": 22
         },
         "text": "Shuffleboard Usage Time Trend",
         "x": 0.5,
         "xanchor": "center",
         "y": 0.85
        },
        "width": 600,
        "xaxis": {
         "anchor": "y",
         "categoryarray": [
          "0-4",
          "5-9",
          "10-14",
          "15-19",
          "20-24",
          "25-29",
          "30-34",
          "35-39",
          "40-44",
          "45-49",
          "50-54",
          "55-59",
          "60-64",
          "65-69",
          "70-74",
          "75-79",
          "80-84",
          "85-89",
          "90-94",
          "95-99",
          "100-104",
          "105-109",
          "110-114",
          "115-119",
          "120-124"
         ],
         "categoryorder": "array",
         "domain": [
          0,
          1
         ],
         "tickfont": {
          "size": 16
         },
         "tickmode": "array",
         "ticktext": [
          "0",
          "25",
          "50",
          "75",
          "100",
          "125"
         ],
         "tickvals": [
          "0-4",
          "20-24",
          "45-49",
          "70-74",
          "95-99",
          "120-124"
         ],
         "title": {
          "font": {
           "size": 18
          },
          "text": "Duration (minutes)"
         }
        },
        "yaxis": {
         "anchor": "x",
         "domain": [
          0,
          1
         ],
         "gridcolor": "rgba(128, 128, 128, 0.5)",
         "tickfont": {
          "size": 16
         },
         "title": {
          "font": {
           "size": 18
          },
          "text": "# of Checkouts"
         }
        }
       }
      }
     },
     "metadata": {},
     "output_type": "display_data"
    },
    {
     "name": "stdout",
     "output_type": "stream",
     "text": [
      "Table Game Visualizations Complete!\n",
      "\n"
     ]
    }
   ],
   "source": [
    "import update_viz\n",
    "import importlib\n",
    "importlib.reload(update_viz)\n",
    "\n",
    "\n",
    "update_viz.run_table_game_visualizations(semester_name = \"../resources/viz/f23\", filepath = \"../clean_data/f23_table_games_cleaned.csv\")\n"
   ]
  },
  {
   "cell_type": "code",
   "execution_count": null,
   "metadata": {},
   "outputs": [],
   "source": []
  }
 ],
 "metadata": {
  "kernelspec": {
   "display_name": "Python 3",
   "language": "python",
   "name": "python3"
  },
  "language_info": {
   "codemirror_mode": {
    "name": "ipython",
    "version": 3
   },
   "file_extension": ".py",
   "mimetype": "text/x-python",
   "name": "python",
   "nbconvert_exporter": "python",
   "pygments_lexer": "ipython3",
   "version": "3.10.12"
  }
 },
 "nbformat": 4,
 "nbformat_minor": 2
}
