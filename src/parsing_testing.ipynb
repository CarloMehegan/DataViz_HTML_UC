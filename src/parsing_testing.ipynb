{
 "cells": [
  {
   "cell_type": "markdown",
   "metadata": {},
   "source": [
    "# testing the parsing code"
   ]
  },
  {
   "cell_type": "code",
   "execution_count": 58,
   "metadata": {},
   "outputs": [
    {
     "name": "stdout",
     "output_type": "stream",
     "text": [
      "Parsing CSV at: ../raw_data/board_games_raw.csv\n",
      "Bad rows saved to: ../raw_data/f23_board_games_bad_rows.csv\n",
      "Rows with invalid time formats:\n",
      "Parsing complete! First 5 rows:\n",
      "['Date', 'Unique ID', 'Game', 'Time In', 'Time Out', 'Duration (minutes)']\n",
      "['8/25', 1, 'Uno', '17:28', '17:50', 22]\n",
      "['8/26', 2, 'Sorry', '15:10', '15:38', 28]\n",
      "['8/26', 3, 'Catan', '19:55', '21:32', 97]\n",
      "['8/26', 2, 'Taboo', '20:05', '20:36', 31]\n",
      "Cleaned CSV saved to: ../clean_data/f23_board_games_cleaned.csv\n"
     ]
    }
   ],
   "source": [
    "import uc_parsing\n",
    "import importlib\n",
    "importlib.reload(uc_parsing)\n",
    "\n",
    "uc_parsing.clean_board_games(\"../raw_data/board_games_raw.csv\",\n",
    "                  \"../raw_data/f23_board_games_bad_rows.csv\",\n",
    "                  \"../clean_data/f23_board_games_cleaned.csv\")\n"
   ]
  },
  {
   "cell_type": "code",
   "execution_count": 55,
   "metadata": {},
   "outputs": [],
   "source": []
  },
  {
   "cell_type": "code",
   "execution_count": null,
   "metadata": {},
   "outputs": [],
   "source": []
  },
  {
   "cell_type": "code",
   "execution_count": null,
   "metadata": {},
   "outputs": [],
   "source": []
  }
 ],
 "metadata": {
  "kernelspec": {
   "display_name": "Python 3",
   "language": "python",
   "name": "python3"
  },
  "language_info": {
   "codemirror_mode": {
    "name": "ipython",
    "version": 3
   },
   "file_extension": ".py",
   "mimetype": "text/x-python",
   "name": "python",
   "nbconvert_exporter": "python",
   "pygments_lexer": "ipython3",
   "version": "3.10.12"
  }
 },
 "nbformat": 4,
 "nbformat_minor": 2
}
